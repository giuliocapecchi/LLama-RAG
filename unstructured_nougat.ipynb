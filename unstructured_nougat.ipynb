{
  "cells": [
    {
      "cell_type": "markdown",
      "metadata": {
        "id": "I7QuHriQgZYP"
      },
      "source": [
        "<a href=\"https://colab.research.google.com/github/giuliocapecchi/LM-project/blob/main/unstructured_nougat.ipynb\" target=\"_parent\"><img src=\"https://colab.research.google.com/assets/colab-badge.svg\" alt=\"Open In Colab\"/></a>"
      ]
    },
    {
      "cell_type": "markdown",
      "source": [
        "# PDF Preprocessing and Documents Creations"
      ],
      "metadata": {
        "id": "lMdgKoa5LF9w"
      }
    },
    {
      "cell_type": "markdown",
      "source": [
        "https://github.com/Unstructured-IO\n",
        "\n",
        "\n",
        "https://github.com/facebookresearch/nougat"
      ],
      "metadata": {
        "id": "8OV1QFHWLvIw"
      }
    },
    {
      "cell_type": "markdown",
      "source": [
        "Installing required libraries"
      ],
      "metadata": {
        "id": "PmLEt9LCLpLn"
      }
    },
    {
      "cell_type": "code",
      "execution_count": 1,
      "metadata": {
        "colab": {
          "base_uri": "https://localhost:8080/"
        },
        "id": "j3UrpIY5sLgF",
        "outputId": "7e07c218-1d83-4d90-9595-97db5d0e0eb6"
      },
      "outputs": [
        {
          "output_type": "stream",
          "name": "stdout",
          "text": [
            "Requirement already satisfied: torch in /usr/local/lib/python3.10/dist-packages (2.5.1+cu121)\n",
            "Requirement already satisfied: huggingface_hub in /usr/local/lib/python3.10/dist-packages (0.27.0)\n",
            "Requirement already satisfied: python-dotenv in /usr/local/lib/python3.10/dist-packages (1.0.1)\n",
            "Requirement already satisfied: transformers in /usr/local/lib/python3.10/dist-packages (4.47.1)\n",
            "Requirement already satisfied: sentence-transformers in /usr/local/lib/python3.10/dist-packages (3.3.1)\n",
            "Requirement already satisfied: pymupdf in /usr/local/lib/python3.10/dist-packages (1.25.1)\n",
            "Requirement already satisfied: langchain in /usr/local/lib/python3.10/dist-packages (0.3.13)\n",
            "Requirement already satisfied: langchain-community in /usr/local/lib/python3.10/dist-packages (0.3.13)\n",
            "Requirement already satisfied: langchain-huggingface in /usr/local/lib/python3.10/dist-packages (0.1.2)\n",
            "Requirement already satisfied: chromadb in /usr/local/lib/python3.10/dist-packages (0.5.20)\n",
            "Requirement already satisfied: tqdm in /usr/local/lib/python3.10/dist-packages (4.67.1)\n",
            "Requirement already satisfied: unidecode in /usr/local/lib/python3.10/dist-packages (1.3.8)\n",
            "Requirement already satisfied: gradio in /usr/local/lib/python3.10/dist-packages (5.9.1)\n",
            "Requirement already satisfied: bitsandbytes in /usr/local/lib/python3.10/dist-packages (0.45.0)\n",
            "Requirement already satisfied: seaborn in /usr/local/lib/python3.10/dist-packages (0.13.2)\n",
            "Requirement already satisfied: unstructured[pdf] in /usr/local/lib/python3.10/dist-packages (0.16.11)\n",
            "Requirement already satisfied: filelock in /usr/local/lib/python3.10/dist-packages (from torch) (3.16.1)\n",
            "Requirement already satisfied: typing-extensions>=4.8.0 in /usr/local/lib/python3.10/dist-packages (from torch) (4.12.2)\n",
            "Requirement already satisfied: networkx in /usr/local/lib/python3.10/dist-packages (from torch) (3.4.2)\n",
            "Requirement already satisfied: jinja2 in /usr/local/lib/python3.10/dist-packages (from torch) (3.1.4)\n",
            "Requirement already satisfied: fsspec in /usr/local/lib/python3.10/dist-packages (from torch) (2024.10.0)\n",
            "Requirement already satisfied: sympy==1.13.1 in /usr/local/lib/python3.10/dist-packages (from torch) (1.13.1)\n",
            "Requirement already satisfied: mpmath<1.4,>=1.1.0 in /usr/local/lib/python3.10/dist-packages (from sympy==1.13.1->torch) (1.3.0)\n",
            "Requirement already satisfied: packaging>=20.9 in /usr/local/lib/python3.10/dist-packages (from huggingface_hub) (24.2)\n",
            "Requirement already satisfied: pyyaml>=5.1 in /usr/local/lib/python3.10/dist-packages (from huggingface_hub) (6.0.2)\n",
            "Requirement already satisfied: requests in /usr/local/lib/python3.10/dist-packages (from huggingface_hub) (2.32.3)\n",
            "Requirement already satisfied: numpy>=1.17 in /usr/local/lib/python3.10/dist-packages (from transformers) (1.26.4)\n",
            "Requirement already satisfied: regex!=2019.12.17 in /usr/local/lib/python3.10/dist-packages (from transformers) (2024.11.6)\n",
            "Requirement already satisfied: tokenizers<0.22,>=0.21 in /usr/local/lib/python3.10/dist-packages (from transformers) (0.21.0)\n",
            "Requirement already satisfied: safetensors>=0.4.1 in /usr/local/lib/python3.10/dist-packages (from transformers) (0.4.5)\n",
            "Requirement already satisfied: scikit-learn in /usr/local/lib/python3.10/dist-packages (from sentence-transformers) (1.6.0)\n",
            "Requirement already satisfied: scipy in /usr/local/lib/python3.10/dist-packages (from sentence-transformers) (1.13.1)\n",
            "Requirement already satisfied: Pillow in /usr/local/lib/python3.10/dist-packages (from sentence-transformers) (11.0.0)\n",
            "Requirement already satisfied: SQLAlchemy<3,>=1.4 in /usr/local/lib/python3.10/dist-packages (from langchain) (2.0.36)\n",
            "Requirement already satisfied: aiohttp<4.0.0,>=3.8.3 in /usr/local/lib/python3.10/dist-packages (from langchain) (3.11.10)\n",
            "Requirement already satisfied: async-timeout<5.0.0,>=4.0.0 in /usr/local/lib/python3.10/dist-packages (from langchain) (4.0.3)\n",
            "Requirement already satisfied: langchain-core<0.4.0,>=0.3.26 in /usr/local/lib/python3.10/dist-packages (from langchain) (0.3.28)\n",
            "Requirement already satisfied: langchain-text-splitters<0.4.0,>=0.3.3 in /usr/local/lib/python3.10/dist-packages (from langchain) (0.3.3)\n",
            "Requirement already satisfied: langsmith<0.3,>=0.1.17 in /usr/local/lib/python3.10/dist-packages (from langchain) (0.2.3)\n",
            "Requirement already satisfied: pydantic<3.0.0,>=2.7.4 in /usr/local/lib/python3.10/dist-packages (from langchain) (2.9.2)\n",
            "Requirement already satisfied: tenacity!=8.4.0,<10,>=8.1.0 in /usr/local/lib/python3.10/dist-packages (from langchain) (9.0.0)\n",
            "Requirement already satisfied: dataclasses-json<0.7,>=0.5.7 in /usr/local/lib/python3.10/dist-packages (from langchain-community) (0.6.7)\n",
            "Requirement already satisfied: httpx-sse<0.5.0,>=0.4.0 in /usr/local/lib/python3.10/dist-packages (from langchain-community) (0.4.0)\n",
            "Requirement already satisfied: pydantic-settings<3.0.0,>=2.4.0 in /usr/local/lib/python3.10/dist-packages (from langchain-community) (2.7.0)\n",
            "Requirement already satisfied: build>=1.0.3 in /usr/local/lib/python3.10/dist-packages (from chromadb) (1.2.2.post1)\n",
            "Requirement already satisfied: chroma-hnswlib==0.7.6 in /usr/local/lib/python3.10/dist-packages (from chromadb) (0.7.6)\n",
            "Requirement already satisfied: fastapi>=0.95.2 in /usr/local/lib/python3.10/dist-packages (from chromadb) (0.115.6)\n",
            "Requirement already satisfied: uvicorn>=0.18.3 in /usr/local/lib/python3.10/dist-packages (from uvicorn[standard]>=0.18.3->chromadb) (0.34.0)\n",
            "Requirement already satisfied: posthog>=2.4.0 in /usr/local/lib/python3.10/dist-packages (from chromadb) (3.7.4)\n",
            "Requirement already satisfied: onnxruntime>=1.14.1 in /usr/local/lib/python3.10/dist-packages (from chromadb) (1.20.1)\n",
            "Requirement already satisfied: opentelemetry-api>=1.2.0 in /usr/local/lib/python3.10/dist-packages (from chromadb) (1.29.0)\n",
            "Requirement already satisfied: opentelemetry-exporter-otlp-proto-grpc>=1.2.0 in /usr/local/lib/python3.10/dist-packages (from chromadb) (1.29.0)\n",
            "Requirement already satisfied: opentelemetry-instrumentation-fastapi>=0.41b0 in /usr/local/lib/python3.10/dist-packages (from chromadb) (0.50b0)\n",
            "Requirement already satisfied: opentelemetry-sdk>=1.2.0 in /usr/local/lib/python3.10/dist-packages (from chromadb) (1.29.0)\n",
            "Requirement already satisfied: pypika>=0.48.9 in /usr/local/lib/python3.10/dist-packages (from chromadb) (0.48.9)\n",
            "Requirement already satisfied: overrides>=7.3.1 in /usr/local/lib/python3.10/dist-packages (from chromadb) (7.7.0)\n",
            "Requirement already satisfied: importlib-resources in /usr/local/lib/python3.10/dist-packages (from chromadb) (6.4.5)\n",
            "Requirement already satisfied: grpcio>=1.58.0 in /usr/local/lib/python3.10/dist-packages (from chromadb) (1.68.1)\n",
            "Requirement already satisfied: bcrypt>=4.0.1 in /usr/local/lib/python3.10/dist-packages (from chromadb) (4.2.1)\n",
            "Requirement already satisfied: typer>=0.9.0 in /usr/local/lib/python3.10/dist-packages (from chromadb) (0.15.1)\n",
            "Requirement already satisfied: kubernetes>=28.1.0 in /usr/local/lib/python3.10/dist-packages (from chromadb) (31.0.0)\n",
            "Requirement already satisfied: mmh3>=4.0.1 in /usr/local/lib/python3.10/dist-packages (from chromadb) (5.0.1)\n",
            "Requirement already satisfied: orjson>=3.9.12 in /usr/local/lib/python3.10/dist-packages (from chromadb) (3.10.12)\n",
            "Requirement already satisfied: httpx>=0.27.0 in /usr/local/lib/python3.10/dist-packages (from chromadb) (0.28.1)\n",
            "Requirement already satisfied: rich>=10.11.0 in /usr/local/lib/python3.10/dist-packages (from chromadb) (13.9.4)\n",
            "Requirement already satisfied: aiofiles<24.0,>=22.0 in /usr/local/lib/python3.10/dist-packages (from gradio) (23.2.1)\n",
            "Requirement already satisfied: anyio<5.0,>=3.0 in /usr/local/lib/python3.10/dist-packages (from gradio) (3.7.1)\n",
            "Requirement already satisfied: ffmpy in /usr/local/lib/python3.10/dist-packages (from gradio) (0.5.0)\n",
            "Requirement already satisfied: gradio-client==1.5.2 in /usr/local/lib/python3.10/dist-packages (from gradio) (1.5.2)\n",
            "Requirement already satisfied: markupsafe~=2.0 in /usr/local/lib/python3.10/dist-packages (from gradio) (2.1.5)\n",
            "Requirement already satisfied: pandas<3.0,>=1.0 in /usr/local/lib/python3.10/dist-packages (from gradio) (2.2.2)\n",
            "Requirement already satisfied: pydub in /usr/local/lib/python3.10/dist-packages (from gradio) (0.25.1)\n",
            "Requirement already satisfied: python-multipart>=0.0.18 in /usr/local/lib/python3.10/dist-packages (from gradio) (0.0.20)\n",
            "Requirement already satisfied: ruff>=0.2.2 in /usr/local/lib/python3.10/dist-packages (from gradio) (0.8.4)\n",
            "Requirement already satisfied: safehttpx<0.2.0,>=0.1.6 in /usr/local/lib/python3.10/dist-packages (from gradio) (0.1.6)\n",
            "Requirement already satisfied: semantic-version~=2.0 in /usr/local/lib/python3.10/dist-packages (from gradio) (2.10.0)\n",
            "Requirement already satisfied: starlette<1.0,>=0.40.0 in /usr/local/lib/python3.10/dist-packages (from gradio) (0.41.3)\n",
            "Requirement already satisfied: tomlkit<0.14.0,>=0.12.0 in /usr/local/lib/python3.10/dist-packages (from gradio) (0.13.2)\n",
            "Requirement already satisfied: websockets<15.0,>=10.0 in /usr/local/lib/python3.10/dist-packages (from gradio-client==1.5.2->gradio) (14.1)\n",
            "Requirement already satisfied: matplotlib!=3.6.1,>=3.4 in /usr/local/lib/python3.10/dist-packages (from seaborn) (3.8.0)\n",
            "Requirement already satisfied: chardet in /usr/local/lib/python3.10/dist-packages (from unstructured[pdf]) (5.2.0)\n",
            "Requirement already satisfied: filetype in /usr/local/lib/python3.10/dist-packages (from unstructured[pdf]) (1.2.0)\n",
            "Requirement already satisfied: python-magic in /usr/local/lib/python3.10/dist-packages (from unstructured[pdf]) (0.4.27)\n",
            "Requirement already satisfied: lxml in /usr/local/lib/python3.10/dist-packages (from unstructured[pdf]) (5.3.0)\n",
            "Requirement already satisfied: nltk in /usr/local/lib/python3.10/dist-packages (from unstructured[pdf]) (3.9.1)\n",
            "Requirement already satisfied: beautifulsoup4 in /usr/local/lib/python3.10/dist-packages (from unstructured[pdf]) (4.12.3)\n",
            "Requirement already satisfied: emoji in /usr/local/lib/python3.10/dist-packages (from unstructured[pdf]) (2.14.0)\n",
            "Requirement already satisfied: python-iso639 in /usr/local/lib/python3.10/dist-packages (from unstructured[pdf]) (2024.10.22)\n",
            "Requirement already satisfied: langdetect in /usr/local/lib/python3.10/dist-packages (from unstructured[pdf]) (1.0.9)\n",
            "Requirement already satisfied: rapidfuzz in /usr/local/lib/python3.10/dist-packages (from unstructured[pdf]) (3.11.0)\n",
            "Requirement already satisfied: backoff in /usr/local/lib/python3.10/dist-packages (from unstructured[pdf]) (2.2.1)\n",
            "Requirement already satisfied: unstructured-client in /usr/local/lib/python3.10/dist-packages (from unstructured[pdf]) (0.27.0)\n",
            "Requirement already satisfied: wrapt in /usr/local/lib/python3.10/dist-packages (from unstructured[pdf]) (1.17.0)\n",
            "Requirement already satisfied: psutil in /usr/local/lib/python3.10/dist-packages (from unstructured[pdf]) (5.9.5)\n",
            "Requirement already satisfied: python-oxmsg in /usr/local/lib/python3.10/dist-packages (from unstructured[pdf]) (0.0.1)\n",
            "Requirement already satisfied: html5lib in /usr/local/lib/python3.10/dist-packages (from unstructured[pdf]) (1.1)\n",
            "Requirement already satisfied: onnx in /usr/local/lib/python3.10/dist-packages (from unstructured[pdf]) (1.17.0)\n",
            "Requirement already satisfied: pdf2image in /usr/local/lib/python3.10/dist-packages (from unstructured[pdf]) (1.17.0)\n",
            "Requirement already satisfied: pdfminer.six in /usr/local/lib/python3.10/dist-packages (from unstructured[pdf]) (20231228)\n",
            "Requirement already satisfied: pikepdf in /usr/local/lib/python3.10/dist-packages (from unstructured[pdf]) (9.4.2)\n",
            "Requirement already satisfied: pi-heif in /usr/local/lib/python3.10/dist-packages (from unstructured[pdf]) (0.21.0)\n",
            "Requirement already satisfied: pypdf in /usr/local/lib/python3.10/dist-packages (from unstructured[pdf]) (5.1.0)\n",
            "Requirement already satisfied: google-cloud-vision in /usr/local/lib/python3.10/dist-packages (from unstructured[pdf]) (3.9.0)\n",
            "Requirement already satisfied: effdet in /usr/local/lib/python3.10/dist-packages (from unstructured[pdf]) (0.4.1)\n",
            "Requirement already satisfied: unstructured-inference==0.8.1 in /usr/local/lib/python3.10/dist-packages (from unstructured[pdf]) (0.8.1)\n",
            "Requirement already satisfied: unstructured.pytesseract>=0.3.12 in /usr/local/lib/python3.10/dist-packages (from unstructured[pdf]) (0.3.13)\n",
            "Requirement already satisfied: layoutparser in /usr/local/lib/python3.10/dist-packages (from unstructured-inference==0.8.1->unstructured[pdf]) (0.3.4)\n",
            "Requirement already satisfied: opencv-python!=4.7.0.68 in /usr/local/lib/python3.10/dist-packages (from unstructured-inference==0.8.1->unstructured[pdf]) (4.10.0.84)\n",
            "Requirement already satisfied: timm in /usr/local/lib/python3.10/dist-packages (from unstructured-inference==0.8.1->unstructured[pdf]) (1.0.12)\n",
            "Requirement already satisfied: aiohappyeyeballs>=2.3.0 in /usr/local/lib/python3.10/dist-packages (from aiohttp<4.0.0,>=3.8.3->langchain) (2.4.4)\n",
            "Requirement already satisfied: aiosignal>=1.1.2 in /usr/local/lib/python3.10/dist-packages (from aiohttp<4.0.0,>=3.8.3->langchain) (1.3.2)\n",
            "Requirement already satisfied: attrs>=17.3.0 in /usr/local/lib/python3.10/dist-packages (from aiohttp<4.0.0,>=3.8.3->langchain) (24.3.0)\n",
            "Requirement already satisfied: frozenlist>=1.1.1 in /usr/local/lib/python3.10/dist-packages (from aiohttp<4.0.0,>=3.8.3->langchain) (1.5.0)\n",
            "Requirement already satisfied: multidict<7.0,>=4.5 in /usr/local/lib/python3.10/dist-packages (from aiohttp<4.0.0,>=3.8.3->langchain) (6.1.0)\n",
            "Requirement already satisfied: propcache>=0.2.0 in /usr/local/lib/python3.10/dist-packages (from aiohttp<4.0.0,>=3.8.3->langchain) (0.2.1)\n",
            "Requirement already satisfied: yarl<2.0,>=1.17.0 in /usr/local/lib/python3.10/dist-packages (from aiohttp<4.0.0,>=3.8.3->langchain) (1.18.3)\n",
            "Requirement already satisfied: idna>=2.8 in /usr/local/lib/python3.10/dist-packages (from anyio<5.0,>=3.0->gradio) (3.10)\n",
            "Requirement already satisfied: sniffio>=1.1 in /usr/local/lib/python3.10/dist-packages (from anyio<5.0,>=3.0->gradio) (1.3.1)\n",
            "Requirement already satisfied: exceptiongroup in /usr/local/lib/python3.10/dist-packages (from anyio<5.0,>=3.0->gradio) (1.2.2)\n",
            "Requirement already satisfied: pyproject_hooks in /usr/local/lib/python3.10/dist-packages (from build>=1.0.3->chromadb) (1.2.0)\n",
            "Requirement already satisfied: tomli>=1.1.0 in /usr/local/lib/python3.10/dist-packages (from build>=1.0.3->chromadb) (2.2.1)\n",
            "Requirement already satisfied: marshmallow<4.0.0,>=3.18.0 in /usr/local/lib/python3.10/dist-packages (from dataclasses-json<0.7,>=0.5.7->langchain-community) (3.23.2)\n",
            "Requirement already satisfied: typing-inspect<1,>=0.4.0 in /usr/local/lib/python3.10/dist-packages (from dataclasses-json<0.7,>=0.5.7->langchain-community) (0.9.0)\n",
            "Requirement already satisfied: certifi in /usr/local/lib/python3.10/dist-packages (from httpx>=0.27.0->chromadb) (2024.12.14)\n",
            "Requirement already satisfied: httpcore==1.* in /usr/local/lib/python3.10/dist-packages (from httpx>=0.27.0->chromadb) (1.0.7)\n",
            "Requirement already satisfied: h11<0.15,>=0.13 in /usr/local/lib/python3.10/dist-packages (from httpcore==1.*->httpx>=0.27.0->chromadb) (0.14.0)\n",
            "Requirement already satisfied: six>=1.9.0 in /usr/local/lib/python3.10/dist-packages (from kubernetes>=28.1.0->chromadb) (1.17.0)\n",
            "Requirement already satisfied: python-dateutil>=2.5.3 in /usr/local/lib/python3.10/dist-packages (from kubernetes>=28.1.0->chromadb) (2.8.2)\n",
            "Requirement already satisfied: google-auth>=1.0.1 in /usr/local/lib/python3.10/dist-packages (from kubernetes>=28.1.0->chromadb) (2.27.0)\n",
            "Requirement already satisfied: websocket-client!=0.40.0,!=0.41.*,!=0.42.*,>=0.32.0 in /usr/local/lib/python3.10/dist-packages (from kubernetes>=28.1.0->chromadb) (1.8.0)\n",
            "Requirement already satisfied: requests-oauthlib in /usr/local/lib/python3.10/dist-packages (from kubernetes>=28.1.0->chromadb) (1.3.1)\n",
            "Requirement already satisfied: oauthlib>=3.2.2 in /usr/local/lib/python3.10/dist-packages (from kubernetes>=28.1.0->chromadb) (3.2.2)\n",
            "Requirement already satisfied: urllib3>=1.24.2 in /usr/local/lib/python3.10/dist-packages (from kubernetes>=28.1.0->chromadb) (2.2.3)\n",
            "Requirement already satisfied: durationpy>=0.7 in /usr/local/lib/python3.10/dist-packages (from kubernetes>=28.1.0->chromadb) (0.9)\n",
            "Requirement already satisfied: jsonpatch<2.0,>=1.33 in /usr/local/lib/python3.10/dist-packages (from langchain-core<0.4.0,>=0.3.26->langchain) (1.33)\n",
            "Requirement already satisfied: requests-toolbelt<2.0.0,>=1.0.0 in /usr/local/lib/python3.10/dist-packages (from langsmith<0.3,>=0.1.17->langchain) (1.0.0)\n",
            "Requirement already satisfied: contourpy>=1.0.1 in /usr/local/lib/python3.10/dist-packages (from matplotlib!=3.6.1,>=3.4->seaborn) (1.3.1)\n",
            "Requirement already satisfied: cycler>=0.10 in /usr/local/lib/python3.10/dist-packages (from matplotlib!=3.6.1,>=3.4->seaborn) (0.12.1)\n",
            "Requirement already satisfied: fonttools>=4.22.0 in /usr/local/lib/python3.10/dist-packages (from matplotlib!=3.6.1,>=3.4->seaborn) (4.55.3)\n",
            "Requirement already satisfied: kiwisolver>=1.0.1 in /usr/local/lib/python3.10/dist-packages (from matplotlib!=3.6.1,>=3.4->seaborn) (1.4.7)\n",
            "Requirement already satisfied: pyparsing>=2.3.1 in /usr/local/lib/python3.10/dist-packages (from matplotlib!=3.6.1,>=3.4->seaborn) (3.2.0)\n",
            "Requirement already satisfied: coloredlogs in /usr/local/lib/python3.10/dist-packages (from onnxruntime>=1.14.1->chromadb) (15.0.1)\n",
            "Requirement already satisfied: flatbuffers in /usr/local/lib/python3.10/dist-packages (from onnxruntime>=1.14.1->chromadb) (24.3.25)\n",
            "Requirement already satisfied: protobuf in /usr/local/lib/python3.10/dist-packages (from onnxruntime>=1.14.1->chromadb) (5.29.2)\n",
            "Requirement already satisfied: deprecated>=1.2.6 in /usr/local/lib/python3.10/dist-packages (from opentelemetry-api>=1.2.0->chromadb) (1.2.15)\n",
            "Requirement already satisfied: importlib-metadata<=8.5.0,>=6.0 in /usr/local/lib/python3.10/dist-packages (from opentelemetry-api>=1.2.0->chromadb) (8.5.0)\n",
            "Requirement already satisfied: googleapis-common-protos~=1.52 in /usr/local/lib/python3.10/dist-packages (from opentelemetry-exporter-otlp-proto-grpc>=1.2.0->chromadb) (1.66.0)\n",
            "Requirement already satisfied: opentelemetry-exporter-otlp-proto-common==1.29.0 in /usr/local/lib/python3.10/dist-packages (from opentelemetry-exporter-otlp-proto-grpc>=1.2.0->chromadb) (1.29.0)\n",
            "Requirement already satisfied: opentelemetry-proto==1.29.0 in /usr/local/lib/python3.10/dist-packages (from opentelemetry-exporter-otlp-proto-grpc>=1.2.0->chromadb) (1.29.0)\n",
            "Requirement already satisfied: opentelemetry-instrumentation-asgi==0.50b0 in /usr/local/lib/python3.10/dist-packages (from opentelemetry-instrumentation-fastapi>=0.41b0->chromadb) (0.50b0)\n",
            "Requirement already satisfied: opentelemetry-instrumentation==0.50b0 in /usr/local/lib/python3.10/dist-packages (from opentelemetry-instrumentation-fastapi>=0.41b0->chromadb) (0.50b0)\n",
            "Requirement already satisfied: opentelemetry-semantic-conventions==0.50b0 in /usr/local/lib/python3.10/dist-packages (from opentelemetry-instrumentation-fastapi>=0.41b0->chromadb) (0.50b0)\n",
            "Requirement already satisfied: opentelemetry-util-http==0.50b0 in /usr/local/lib/python3.10/dist-packages (from opentelemetry-instrumentation-fastapi>=0.41b0->chromadb) (0.50b0)\n",
            "Requirement already satisfied: asgiref~=3.0 in /usr/local/lib/python3.10/dist-packages (from opentelemetry-instrumentation-asgi==0.50b0->opentelemetry-instrumentation-fastapi>=0.41b0->chromadb) (3.8.1)\n",
            "Requirement already satisfied: pytz>=2020.1 in /usr/local/lib/python3.10/dist-packages (from pandas<3.0,>=1.0->gradio) (2024.2)\n",
            "Requirement already satisfied: tzdata>=2022.7 in /usr/local/lib/python3.10/dist-packages (from pandas<3.0,>=1.0->gradio) (2024.2)\n",
            "Requirement already satisfied: monotonic>=1.5 in /usr/local/lib/python3.10/dist-packages (from posthog>=2.4.0->chromadb) (1.6)\n",
            "Requirement already satisfied: annotated-types>=0.6.0 in /usr/local/lib/python3.10/dist-packages (from pydantic<3.0.0,>=2.7.4->langchain) (0.7.0)\n",
            "Requirement already satisfied: pydantic-core==2.23.4 in /usr/local/lib/python3.10/dist-packages (from pydantic<3.0.0,>=2.7.4->langchain) (2.23.4)\n",
            "Requirement already satisfied: charset-normalizer<4,>=2 in /usr/local/lib/python3.10/dist-packages (from requests->huggingface_hub) (3.4.0)\n",
            "Requirement already satisfied: markdown-it-py>=2.2.0 in /usr/local/lib/python3.10/dist-packages (from rich>=10.11.0->chromadb) (3.0.0)\n",
            "Requirement already satisfied: pygments<3.0.0,>=2.13.0 in /usr/local/lib/python3.10/dist-packages (from rich>=10.11.0->chromadb) (2.18.0)\n",
            "Requirement already satisfied: greenlet!=0.4.17 in /usr/local/lib/python3.10/dist-packages (from SQLAlchemy<3,>=1.4->langchain) (3.1.1)\n",
            "Requirement already satisfied: click>=8.0.0 in /usr/local/lib/python3.10/dist-packages (from typer>=0.9.0->chromadb) (8.1.7)\n",
            "Requirement already satisfied: shellingham>=1.3.0 in /usr/local/lib/python3.10/dist-packages (from typer>=0.9.0->chromadb) (1.5.4)\n",
            "Requirement already satisfied: httptools>=0.6.3 in /usr/local/lib/python3.10/dist-packages (from uvicorn[standard]>=0.18.3->chromadb) (0.6.4)\n",
            "Requirement already satisfied: uvloop!=0.15.0,!=0.15.1,>=0.14.0 in /usr/local/lib/python3.10/dist-packages (from uvicorn[standard]>=0.18.3->chromadb) (0.21.0)\n",
            "Requirement already satisfied: watchfiles>=0.13 in /usr/local/lib/python3.10/dist-packages (from uvicorn[standard]>=0.18.3->chromadb) (1.0.3)\n",
            "Requirement already satisfied: soupsieve>1.2 in /usr/local/lib/python3.10/dist-packages (from beautifulsoup4->unstructured[pdf]) (2.6)\n",
            "Requirement already satisfied: torchvision in /usr/local/lib/python3.10/dist-packages (from effdet->unstructured[pdf]) (0.20.1+cu121)\n",
            "Requirement already satisfied: pycocotools>=2.0.2 in /usr/local/lib/python3.10/dist-packages (from effdet->unstructured[pdf]) (2.0.8)\n",
            "Requirement already satisfied: omegaconf>=2.0 in /usr/local/lib/python3.10/dist-packages (from effdet->unstructured[pdf]) (2.3.0)\n",
            "Requirement already satisfied: google-api-core!=2.0.*,!=2.1.*,!=2.10.*,!=2.2.*,!=2.3.*,!=2.4.*,!=2.5.*,!=2.6.*,!=2.7.*,!=2.8.*,!=2.9.*,<3.0.0dev,>=1.34.1 in /usr/local/lib/python3.10/dist-packages (from google-api-core[grpc]!=2.0.*,!=2.1.*,!=2.10.*,!=2.2.*,!=2.3.*,!=2.4.*,!=2.5.*,!=2.6.*,!=2.7.*,!=2.8.*,!=2.9.*,<3.0.0dev,>=1.34.1->google-cloud-vision->unstructured[pdf]) (2.19.2)\n",
            "Requirement already satisfied: proto-plus<2.0.0dev,>=1.22.3 in /usr/local/lib/python3.10/dist-packages (from google-cloud-vision->unstructured[pdf]) (1.25.0)\n",
            "Requirement already satisfied: webencodings in /usr/local/lib/python3.10/dist-packages (from html5lib->unstructured[pdf]) (0.5.1)\n",
            "Requirement already satisfied: joblib in /usr/local/lib/python3.10/dist-packages (from nltk->unstructured[pdf]) (1.4.2)\n",
            "Requirement already satisfied: cryptography>=36.0.0 in /usr/local/lib/python3.10/dist-packages (from pdfminer.six->unstructured[pdf]) (43.0.3)\n",
            "Requirement already satisfied: olefile in /usr/local/lib/python3.10/dist-packages (from python-oxmsg->unstructured[pdf]) (0.47)\n",
            "Requirement already satisfied: threadpoolctl>=3.1.0 in /usr/local/lib/python3.10/dist-packages (from scikit-learn->sentence-transformers) (3.5.0)\n",
            "Requirement already satisfied: eval-type-backport<0.3.0,>=0.2.0 in /usr/local/lib/python3.10/dist-packages (from unstructured-client->unstructured[pdf]) (0.2.0)\n",
            "Requirement already satisfied: jsonpath-python<2.0.0,>=1.0.6 in /usr/local/lib/python3.10/dist-packages (from unstructured-client->unstructured[pdf]) (1.0.6)\n",
            "Requirement already satisfied: nest-asyncio>=1.6.0 in /usr/local/lib/python3.10/dist-packages (from unstructured-client->unstructured[pdf]) (1.6.0)\n",
            "Requirement already satisfied: cffi>=1.12 in /usr/local/lib/python3.10/dist-packages (from cryptography>=36.0.0->pdfminer.six->unstructured[pdf]) (1.17.1)\n",
            "Requirement already satisfied: grpcio-status<2.0.dev0,>=1.33.2 in /usr/local/lib/python3.10/dist-packages (from google-api-core[grpc]!=2.0.*,!=2.1.*,!=2.10.*,!=2.2.*,!=2.3.*,!=2.4.*,!=2.5.*,!=2.6.*,!=2.7.*,!=2.8.*,!=2.9.*,<3.0.0dev,>=1.34.1->google-cloud-vision->unstructured[pdf]) (1.62.3)\n",
            "Requirement already satisfied: cachetools<6.0,>=2.0.0 in /usr/local/lib/python3.10/dist-packages (from google-auth>=1.0.1->kubernetes>=28.1.0->chromadb) (5.5.0)\n",
            "Requirement already satisfied: pyasn1-modules>=0.2.1 in /usr/local/lib/python3.10/dist-packages (from google-auth>=1.0.1->kubernetes>=28.1.0->chromadb) (0.4.1)\n",
            "Requirement already satisfied: rsa<5,>=3.1.4 in /usr/local/lib/python3.10/dist-packages (from google-auth>=1.0.1->kubernetes>=28.1.0->chromadb) (4.9)\n",
            "Requirement already satisfied: zipp>=3.20 in /usr/local/lib/python3.10/dist-packages (from importlib-metadata<=8.5.0,>=6.0->opentelemetry-api>=1.2.0->chromadb) (3.21.0)\n",
            "Requirement already satisfied: jsonpointer>=1.9 in /usr/local/lib/python3.10/dist-packages (from jsonpatch<2.0,>=1.33->langchain-core<0.4.0,>=0.3.26->langchain) (3.0.0)\n",
            "Requirement already satisfied: mdurl~=0.1 in /usr/local/lib/python3.10/dist-packages (from markdown-it-py>=2.2.0->rich>=10.11.0->chromadb) (0.1.2)\n",
            "Requirement already satisfied: antlr4-python3-runtime==4.9.* in /usr/local/lib/python3.10/dist-packages (from omegaconf>=2.0->effdet->unstructured[pdf]) (4.9.3)\n",
            "Requirement already satisfied: mypy-extensions>=0.3.0 in /usr/local/lib/python3.10/dist-packages (from typing-inspect<1,>=0.4.0->dataclasses-json<0.7,>=0.5.7->langchain-community) (1.0.0)\n",
            "Requirement already satisfied: humanfriendly>=9.1 in /usr/local/lib/python3.10/dist-packages (from coloredlogs->onnxruntime>=1.14.1->chromadb) (10.0)\n",
            "Requirement already satisfied: iopath in /usr/local/lib/python3.10/dist-packages (from layoutparser->unstructured-inference==0.8.1->unstructured[pdf]) (0.1.10)\n",
            "Requirement already satisfied: pdfplumber in /usr/local/lib/python3.10/dist-packages (from layoutparser->unstructured-inference==0.8.1->unstructured[pdf]) (0.11.4)\n",
            "Requirement already satisfied: pycparser in /usr/local/lib/python3.10/dist-packages (from cffi>=1.12->cryptography>=36.0.0->pdfminer.six->unstructured[pdf]) (2.22)\n",
            "Requirement already satisfied: pyasn1<0.7.0,>=0.4.6 in /usr/local/lib/python3.10/dist-packages (from pyasn1-modules>=0.2.1->google-auth>=1.0.1->kubernetes>=28.1.0->chromadb) (0.6.1)\n",
            "Requirement already satisfied: portalocker in /usr/local/lib/python3.10/dist-packages (from iopath->layoutparser->unstructured-inference==0.8.1->unstructured[pdf]) (3.0.0)\n",
            "Requirement already satisfied: pypdfium2>=4.18.0 in /usr/local/lib/python3.10/dist-packages (from pdfplumber->layoutparser->unstructured-inference==0.8.1->unstructured[pdf]) (4.30.1)\n"
          ]
        }
      ],
      "source": [
        "!pip install torch huggingface_hub python-dotenv transformers sentence-transformers pymupdf langchain langchain-community langchain-huggingface chromadb tqdm unidecode gradio bitsandbytes seaborn unstructured[pdf]"
      ]
    },
    {
      "cell_type": "code",
      "execution_count": 2,
      "metadata": {
        "colab": {
          "base_uri": "https://localhost:8080/"
        },
        "id": "HOjAPp7_Npr-",
        "outputId": "ee6eb80d-0ceb-44d0-8ba7-6a6a5a3aa222"
      },
      "outputs": [
        {
          "output_type": "stream",
          "name": "stdout",
          "text": [
            "\u001b[?25l   \u001b[90m━━━━━━━━━━━━━━━━━━━━━━━━━━━━━━━━━━━━━━━━\u001b[0m \u001b[32m0.0/162.6 kB\u001b[0m \u001b[31m?\u001b[0m eta \u001b[36m-:--:--\u001b[0m\r\u001b[2K   \u001b[91m━━━━━━━━━━━━━━━━━━━━━━━━━━━━━━━━━━━━━\u001b[0m\u001b[91m╸\u001b[0m\u001b[90m━━\u001b[0m \u001b[32m153.6/162.6 kB\u001b[0m \u001b[31m4.5 MB/s\u001b[0m eta \u001b[36m0:00:01\u001b[0m\r\u001b[2K   \u001b[90m━━━━━━━━━━━━━━━━━━━━━━━━━━━━━━━━━━━━━━━━\u001b[0m \u001b[32m162.6/162.6 kB\u001b[0m \u001b[31m3.1 MB/s\u001b[0m eta \u001b[36m0:00:00\u001b[0m\n",
            "\u001b[?25h  Installing build dependencies ... \u001b[?25l\u001b[?25hdone\n",
            "  Getting requirements to build wheel ... \u001b[?25l\u001b[?25hdone\n",
            "  Preparing metadata (pyproject.toml) ... \u001b[?25l\u001b[?25hdone\n",
            "  Building wheel for transformers (pyproject.toml) ... \u001b[?25l\u001b[?25hdone\n"
          ]
        }
      ],
      "source": [
        "!pip install -q pymupdf python-Levenshtein nltk\n",
        "!pip install -q git+https://github.com/huggingface/transformers.git"
      ]
    },
    {
      "cell_type": "code",
      "execution_count": 3,
      "metadata": {
        "colab": {
          "base_uri": "https://localhost:8080/"
        },
        "id": "-ROGb_b5H_kY",
        "outputId": "913a98bd-650a-4532-db0a-30c34b430d7e"
      },
      "outputs": [
        {
          "output_type": "stream",
          "name": "stdout",
          "text": [
            "Reading package lists... Done\n",
            "Building dependency tree... Done\n",
            "Reading state information... Done\n",
            "The following additional packages will be installed:\n",
            "  tesseract-ocr-eng tesseract-ocr-osd\n",
            "The following NEW packages will be installed:\n",
            "  poppler-utils tesseract-ocr tesseract-ocr-eng tesseract-ocr-osd\n",
            "0 upgraded, 4 newly installed, 0 to remove and 49 not upgraded.\n",
            "Need to get 5,002 kB of archives.\n",
            "After this operation, 16.3 MB of additional disk space will be used.\n",
            "Get:1 http://archive.ubuntu.com/ubuntu jammy-updates/main amd64 poppler-utils amd64 22.02.0-2ubuntu0.5 [186 kB]\n",
            "Get:2 http://archive.ubuntu.com/ubuntu jammy/universe amd64 tesseract-ocr-eng all 1:4.00~git30-7274cfa-1.1 [1,591 kB]\n",
            "Get:3 http://archive.ubuntu.com/ubuntu jammy/universe amd64 tesseract-ocr-osd all 1:4.00~git30-7274cfa-1.1 [2,990 kB]\n",
            "Get:4 http://archive.ubuntu.com/ubuntu jammy/universe amd64 tesseract-ocr amd64 4.1.1-2.1build1 [236 kB]\n",
            "Fetched 5,002 kB in 0s (12.1 MB/s)\n",
            "Selecting previously unselected package poppler-utils.\n",
            "(Reading database ... 123634 files and directories currently installed.)\n",
            "Preparing to unpack .../poppler-utils_22.02.0-2ubuntu0.5_amd64.deb ...\n",
            "Unpacking poppler-utils (22.02.0-2ubuntu0.5) ...\n",
            "Selecting previously unselected package tesseract-ocr-eng.\n",
            "Preparing to unpack .../tesseract-ocr-eng_1%3a4.00~git30-7274cfa-1.1_all.deb ...\n",
            "Unpacking tesseract-ocr-eng (1:4.00~git30-7274cfa-1.1) ...\n",
            "Selecting previously unselected package tesseract-ocr-osd.\n",
            "Preparing to unpack .../tesseract-ocr-osd_1%3a4.00~git30-7274cfa-1.1_all.deb ...\n",
            "Unpacking tesseract-ocr-osd (1:4.00~git30-7274cfa-1.1) ...\n",
            "Selecting previously unselected package tesseract-ocr.\n",
            "Preparing to unpack .../tesseract-ocr_4.1.1-2.1build1_amd64.deb ...\n",
            "Unpacking tesseract-ocr (4.1.1-2.1build1) ...\n",
            "Setting up tesseract-ocr-eng (1:4.00~git30-7274cfa-1.1) ...\n",
            "Setting up tesseract-ocr-osd (1:4.00~git30-7274cfa-1.1) ...\n",
            "Setting up poppler-utils (22.02.0-2ubuntu0.5) ...\n",
            "Setting up tesseract-ocr (4.1.1-2.1build1) ...\n",
            "Processing triggers for man-db (2.10.2-1) ...\n"
          ]
        }
      ],
      "source": [
        "!apt-get install poppler-utils tesseract-ocr"
      ]
    },
    {
      "cell_type": "code",
      "execution_count": 4,
      "metadata": {
        "id": "duBMiZYysZEe"
      },
      "outputs": [],
      "source": [
        "import os\n",
        "import torch\n",
        "from huggingface_hub import login\n",
        "from dotenv import load_dotenv\n",
        "from transformers import (\n",
        "    AutoModelForCausalLM,\n",
        "    AutoTokenizer,\n",
        "    BitsAndBytesConfig,\n",
        ")\n",
        "from sentence_transformers import SentenceTransformer\n",
        "from langchain_community.document_loaders import PyMuPDFLoader\n",
        "from langchain.text_splitter import CharacterTextSplitter\n",
        "from langchain_huggingface import HuggingFaceEmbeddings\n",
        "from langchain_community.vectorstores import Chroma\n",
        "import time\n",
        "from tqdm import tqdm\n",
        "import re\n",
        "import gradio as gr\n",
        "from unidecode import unidecode\n",
        "import random"
      ]
    },
    {
      "cell_type": "code",
      "execution_count": 5,
      "metadata": {
        "colab": {
          "base_uri": "https://localhost:8080/"
        },
        "id": "2L7OPE5AIZM8",
        "outputId": "012dcfd0-86be-42e4-870d-3f111f5dd773"
      },
      "outputs": [
        {
          "output_type": "stream",
          "name": "stdout",
          "text": [
            "3.9.1\n"
          ]
        },
        {
          "output_type": "stream",
          "name": "stderr",
          "text": [
            "[nltk_data] Downloading package punkt to /root/nltk_data...\n",
            "[nltk_data]   Unzipping tokenizers/punkt.zip.\n"
          ]
        },
        {
          "output_type": "execute_result",
          "data": {
            "text/plain": [
              "True"
            ]
          },
          "metadata": {},
          "execution_count": 5
        }
      ],
      "source": [
        "import nltk\n",
        "\n",
        "print(nltk.__version__)  # confirm you see 3.9.1, otherwise restart session\n",
        "\n",
        "nltk.download(\"punkt\")"
      ]
    },
    {
      "cell_type": "markdown",
      "source": [
        "## Environment Setup\n",
        "Here we detect if this notebook is being executed in a **Google Colab environment** or a **local system**, seting up the environment accordingly loading keys and downloading required files.\n",
        "\n",
        "Note that, in order to speed up the execution, we download also the elements.pkl file to avoid some expensive processing (*about 30 minute*)."
      ],
      "metadata": {
        "id": "uo9QzZJzSLKe"
      }
    },
    {
      "cell_type": "code",
      "execution_count": 14,
      "metadata": {
        "colab": {
          "base_uri": "https://localhost:8080/"
        },
        "id": "ycw2OqtUrEqh",
        "outputId": "a7ea4379-4cc4-45e6-9a31-2ac2bcb945b4"
      },
      "outputs": [
        {
          "output_type": "stream",
          "name": "stdout",
          "text": [
            "Running in Google Colab. Using userdata to get HF_TOKEN.\n"
          ]
        },
        {
          "output_type": "stream",
          "name": "stderr",
          "text": [
            "Downloading...\n",
            "From: https://drive.google.com/uc?id=1xUA6_ZBJzWGF7kWpM1YZTK3R1siYg1qY\n",
            "To: /content/IR Slides v1.0.pdf\n",
            "100%|██████████| 85.5M/85.5M [00:00<00:00, 204MB/s]\n",
            "Downloading...\n",
            "From: https://drive.google.com/uc?id=17eXYgmiTL9-f9F5vIT5j7QffHIu_QwuN\n",
            "To: /content/elements.pkl\n",
            "100%|██████████| 1.53M/1.53M [00:00<00:00, 99.5MB/s]\n"
          ]
        }
      ],
      "source": [
        "PDF_NAME = \"IR Slides v1.0.pdf\"\n",
        "running_on_colab = False\n",
        "\n",
        "try:\n",
        "    import gdown\n",
        "    from google.colab import userdata\n",
        "    HF_TOKEN = userdata.get('HF_TOKEN')\n",
        "    print(\"Running in Google Colab. Using userdata to get HF_TOKEN.\")\n",
        "    running_on_colab = True\n",
        "\n",
        "except ModuleNotFoundError:\n",
        "    load_dotenv()\n",
        "    HF_TOKEN = os.getenv('HF_TOKEN')\n",
        "    print(\"Not running in Google Colab. Using load_dotenv to get HF_TOKEN.\")\n",
        "\n",
        "file_path = PDF_NAME\n",
        "# save locally from https://drive.google.com/file/d/1xUA6_ZBJzWGF7kWpM1YZTK3R1siYg1qY/view?usp=drive_link\n",
        "gdown.download(id=\"1xUA6_ZBJzWGF7kWpM1YZTK3R1siYg1qY\", output=PDF_NAME, quiet=False)\n",
        "\n",
        "# download of pickled elements to speed up the execution\n",
        "gdown.download(id=\"17eXYgmiTL9-f9F5vIT5j7QffHIu_QwuN\", output=\"elements.pkl\", quiet=False)\n",
        "\n",
        "# Logs into Hugging Face using the token\n",
        "login(token=HF_TOKEN)"
      ]
    },
    {
      "cell_type": "markdown",
      "source": [
        "## PDF Partitioning with Unstructured\n",
        "Processes the PDF `\"IR Slides v1.0.pdf\"` using the `partition` function to extract structured elements.\n",
        "\n",
        "We decide to apply the **high-resolution strategy** because is highly sensitive, it is recommended if you want obtain precise classifications for document elements. Adopting this strategy we are able to use the document layout to gain additional information about document elements, in particular we are able to recognize:\n",
        "- **Titles** and **Text** (we use them as it is)\n",
        "- **Formulas** (we further process them)\n",
        "- **Images** (will be removed)\n",
        "- **Page Breaks** (fundamental to handle formulas and create chuncks)\n"
      ],
      "metadata": {
        "id": "t_HRybt8S-Xp"
      }
    },
    {
      "cell_type": "code",
      "execution_count": 18,
      "metadata": {
        "id": "NpVjk7JfIoTh",
        "outputId": "d19bd91b-5532-4fd8-ff14-248541daf2f1",
        "colab": {
          "base_uri": "https://localhost:8080/"
        }
      },
      "outputs": [
        {
          "output_type": "stream",
          "name": "stdout",
          "text": [
            "Number of recognized elements: 4486 in file IR Slides v1.0.pdf\n"
          ]
        }
      ],
      "source": [
        "from unstructured.partition.auto import partition\n",
        "\n",
        "file_name = \"IR Slides v1.0.pdf\"\n",
        "title = \"Information Retrival\"\n",
        "\n",
        "load_elements_from_pickle = True\n",
        "elements = []\n",
        "\n",
        "if load_elements_from_pickle:\n",
        "\n",
        "  # Loading the pickled elements.\n",
        "  # Set load_elements_from_pickle = True above, if you would like to load\n",
        "  # those elements insted of running the Unstructure's partitioning.\n",
        "\n",
        "  import pickle\n",
        "  # load elements.pkl in elements\n",
        "  with open('elements.pkl', 'rb') as f:\n",
        "      elements = pickle.load(f)\n",
        "\n",
        "else:\n",
        "\n",
        "  elements = partition(\n",
        "      filename=file_name,\n",
        "      strategy=\"hi_res\",\n",
        "      skip_infer_table_types=[],\n",
        "      include_page_breaks=True,\n",
        "  )\n",
        "\n",
        "print(\"Number of recognized elements: \" + str(len(elements)) + \" in file \" + file_name)"
      ]
    },
    {
      "cell_type": "markdown",
      "source": [
        "Storing the elements in a pickle file.\n",
        "Snippet of code executed if needed."
      ],
      "metadata": {
        "id": "CITylvMsd1Mf"
      }
    },
    {
      "cell_type": "code",
      "source": [
        "# save elements on a binary file\n",
        "import pickle\n",
        "\n",
        "# to uncomment, now is commented cause we are downloading the pickled elements\n",
        "'''with open('elements.pkl', 'wb') as f:\n",
        "    pickle.dump(elements, f)'''"
      ],
      "metadata": {
        "id": "k_6QJqgxj4ou",
        "outputId": "810b7982-fbc0-4386-fd5f-639c36f7d1c9",
        "colab": {
          "base_uri": "https://localhost:8080/",
          "height": 35
        }
      },
      "execution_count": 10,
      "outputs": [
        {
          "output_type": "execute_result",
          "data": {
            "text/plain": [
              "\"with open('elements.pkl', 'wb') as f:\\n    pickle.dump(elements, f)\""
            ],
            "application/vnd.google.colaboratory.intrinsic+json": {
              "type": "string"
            }
          },
          "metadata": {},
          "execution_count": 10
        }
      ]
    },
    {
      "cell_type": "markdown",
      "source": [
        "## Filtering and Analyzing Extracted Elements\n",
        "\n",
        "Here we build a **dataframe**, creating pairs of **Type** and **Value**, using the elements extracted from the PDF file.\n",
        "\n",
        "Then we print all the different element's Type recognized.\n",
        "\n"
      ],
      "metadata": {
        "id": "MrfWUBRLfjAK"
      }
    },
    {
      "cell_type": "code",
      "source": [
        "type_value_elements = []\n",
        "\n",
        "for i in range(len(elements)):\n",
        "  pair = [type(elements[i]), elements[i].text]\n",
        "  type_value_elements.append(pair)\n",
        "\n",
        "import pandas as pd\n",
        "df_elements = pd.DataFrame(type_value_elements, columns=['Type', 'Value'])\n",
        "\n",
        "# print all the different possible Type in the dataframe\n",
        "print(df_elements['Type'].unique())"
      ],
      "metadata": {
        "id": "MYMr613sfcqH",
        "outputId": "c3e38036-aa3a-46f7-b097-0fe6ada3c062",
        "colab": {
          "base_uri": "https://localhost:8080/"
        }
      },
      "execution_count": 19,
      "outputs": [
        {
          "output_type": "stream",
          "name": "stdout",
          "text": [
            "[<class 'unstructured.documents.elements.Title'>\n",
            " <class 'unstructured.documents.elements.EmailAddress'>\n",
            " <class 'unstructured.documents.elements.PageBreak'>\n",
            " <class 'unstructured.documents.elements.ListItem'>\n",
            " <class 'unstructured.documents.elements.NarrativeText'>\n",
            " <class 'unstructured.documents.elements.Image'>\n",
            " <class 'unstructured.documents.elements.FigureCaption'>\n",
            " <class 'unstructured.documents.elements.Table'>\n",
            " <class 'unstructured.documents.elements.Text'>\n",
            " <class 'unstructured.documents.elements.Footer'>\n",
            " <class 'unstructured.documents.elements.Formula'>\n",
            " <class 'unstructured.documents.elements.Header'>]\n"
          ]
        }
      ]
    },
    {
      "cell_type": "markdown",
      "source": [
        "Now we clean the dataframe filtering out all the useless elements:\n",
        "- **Images** (for them we have a text extracted with OCR technique, but not very useful for the language model due to a loss of meaning)\n",
        "- **Email Addresses**\n",
        "- **Table** (similarly to the images they lost some meaning as they are extracted)\n",
        "- **Footers** and **Headers**\n"
      ],
      "metadata": {
        "id": "wpuoY63qTQy4"
      }
    },
    {
      "cell_type": "code",
      "execution_count": 24,
      "metadata": {
        "colab": {
          "base_uri": "https://localhost:8080/"
        },
        "id": "Q6iG38ZWwv7L",
        "outputId": "43a5ddb0-9514-4163-af09-d7506cd4ccce"
      },
      "outputs": [
        {
          "output_type": "stream",
          "name": "stdout",
          "text": [
            "Number of actual elements: 4030\n",
            "Number of elements after filtering: 4030\n",
            "[<class 'unstructured.documents.elements.Title'>\n",
            " <class 'unstructured.documents.elements.PageBreak'>\n",
            " <class 'unstructured.documents.elements.ListItem'>\n",
            " <class 'unstructured.documents.elements.NarrativeText'>\n",
            " <class 'unstructured.documents.elements.FigureCaption'>\n",
            " <class 'unstructured.documents.elements.Text'>\n",
            " <class 'unstructured.documents.elements.Formula'>]\n"
          ]
        }
      ],
      "source": [
        "from unstructured.documents.elements import Image, EmailAddress, FigureCaption, Table, Footer, Header, PageBreak\n",
        "\n",
        "# print df number of rows\n",
        "print(\"Number of actual elements: \" + str(len(df_elements)))\n",
        "\n",
        "# drop all the rows with unuseful Types\n",
        "df_elements = df_elements[df_elements['Type'] != Image]\n",
        "df_elements = df_elements[df_elements['Type'] != EmailAddress]\n",
        "df_elements = df_elements[df_elements['Type'] != Table]\n",
        "df_elements = df_elements[df_elements['Type'] != Footer]\n",
        "df_elements = df_elements[df_elements['Type'] != Header]\n",
        "df_elements = df_elements.drop(df_elements[(df_elements['Type'] != PageBreak) & (df_elements['Value'] == '')].index)\n",
        "\n",
        "# print df number of rows\n",
        "print(\"Number of elements after filtering: \" + str(len(df_elements)))\n",
        "\n",
        "# reassign the dataframe index\n",
        "df_elements = df_elements.reset_index(drop=True)\n",
        "\n",
        "# print all the different possible Type in the dataframe\n",
        "print(df_elements['Type'].unique())\n"
      ]
    },
    {
      "cell_type": "markdown",
      "source": [
        "Check if there are some empty-valued elements, that are not Page Breaks, in the dataframe."
      ],
      "metadata": {
        "id": "aswk1lwSlziI"
      }
    },
    {
      "cell_type": "code",
      "source": [
        "# print rows of df_elements with bith Type != PageBreak and Value empty\n",
        "print(len(df_elements[(df_elements['Type'] != PageBreak) & (df_elements['Value'] == '')]))\n",
        "\n",
        "if len(df_elements[(df_elements['Type'] != PageBreak) & (df_elements['Value'] == '')]) > 0:\n",
        "  df_elements = df_elements.drop(df_elements[(df_elements['Type'] != PageBreak) & (df_elements['Value'] == '')].index)"
      ],
      "metadata": {
        "id": "7vBne_I70vij",
        "outputId": "5939862a-e4ed-4edf-d5ab-ac53261eca80",
        "colab": {
          "base_uri": "https://localhost:8080/"
        }
      },
      "execution_count": 25,
      "outputs": [
        {
          "output_type": "stream",
          "name": "stdout",
          "text": [
            "0\n"
          ]
        }
      ]
    },
    {
      "cell_type": "markdown",
      "source": [
        "## Formulas Detection\n",
        "Here we identify and track pages containing formulas in the PDF.\n",
        "\n",
        "- `page_with_formula_indexes`: stores page indexes with formulas.\n",
        "- `number_of_formulas_per_page`: tracks the count of formulas per page.\n",
        "- `locations_with_formula_at_page`: stores locations of formulas in the DataFrame by page.\n"
      ],
      "metadata": {
        "id": "XCrkLBolTsQv"
      }
    },
    {
      "cell_type": "code",
      "execution_count": 29,
      "metadata": {
        "colab": {
          "base_uri": "https://localhost:8080/"
        },
        "id": "0MfwVViHzSY4",
        "outputId": "fc5dbe56-0ad5-4266-a462-b1f4adf441d2"
      },
      "outputs": [
        {
          "output_type": "stream",
          "name": "stdout",
          "text": [
            "Pages with formulas indexes\n",
            "[89, 94, 95, 96, 97, 136, 142, 157, 160, 165, 168, 180, 181, 182, 184, 187, 189, 193, 194, 203, 208, 210]\n",
            "Number of pages with at least one formula: 22\n"
          ]
        }
      ],
      "source": [
        "from unstructured.documents.elements import Formula, PageBreak\n",
        "\n",
        "page_with_formula_indexes = []\n",
        "\n",
        "# dictionary to store the number of formula for each page\n",
        "number_of_formulas_per_page = {}\n",
        "locations_with_formula_at_page = {}\n",
        "\n",
        "index = 0  # first page -> index = 0\n",
        "\n",
        "# iterate over df_elements\n",
        "for i in range(len(df_elements)):\n",
        "  if df_elements.iloc[i]['Type'] == PageBreak:\n",
        "    index += 1\n",
        "  if df_elements.iloc[i]['Type'] == Formula: #or df_elements.iloc[i]['Type'] == Image:\n",
        "    # saving in dictionary the dataframe locations with formula/image for that page\n",
        "    if index not in locations_with_formula_at_page:\n",
        "      locations_with_formula_at_page[index] = [i]\n",
        "    else:\n",
        "      locations_with_formula_at_page[index].append(i)\n",
        "    # saving in dictionary the number of formula/image for that page\n",
        "    if index not in number_of_formulas_per_page:\n",
        "      number_of_formulas_per_page[index] = 1\n",
        "    else:\n",
        "      number_of_formulas_per_page[index] += 1\n",
        "    if index not in page_with_formula_indexes:\n",
        "      page_with_formula_indexes.append(index)\n",
        "\n",
        "print(\"Pages with formulas indexes\")\n",
        "print(page_with_formula_indexes)\n",
        "print(\"Number of pages with at least one formula: \" + str(len(page_with_formula_indexes)))"
      ]
    },
    {
      "cell_type": "markdown",
      "source": [
        "## Loading Nougat Model and Processor\n",
        "This code initializes the `Nougat` model and its processor for handling vision-to-text tasks.\n"
      ],
      "metadata": {
        "id": "U0oMEuCOT0H2"
      }
    },
    {
      "cell_type": "code",
      "execution_count": 18,
      "metadata": {
        "colab": {
          "base_uri": "https://localhost:8080/",
          "height": 1000,
          "referenced_widgets": [
            "94af7c0358a846a2b2ed6581ac9783f2",
            "70188ea3fa094854a448e18934cc514e",
            "6701e99a4f594e26974bba1c260350d1",
            "64ebfeaed0c04c7c9939b3ffb1eefffc",
            "c1dfb42c916e4e1ea681defb80ba3457",
            "8e45a19b0e804fcf840dc1c2e169f51d",
            "f4f1b1e8d7654036a5058bc6dadd71d1",
            "d2101eaac0ec435e92a1dd4db5246b16",
            "ea2cb9ab16ad45269777716c2c565b88",
            "cd22796a0aa046478b66c7498eb0948b",
            "2c394dca9af546deb7ac22546ce272b0",
            "a85f1ff45ccf431f927d1c0984555dd3",
            "da8cc1e7103e47e89f5568c9b0727d70",
            "e4bb2369ec9d42b2a14b613c1fb74697",
            "981b111f639541239ddf198c62924806",
            "a8daa59b10c341ecbecf98a9ebc24b49",
            "1c8cba2cd6dc42d19c838a43e24ded58",
            "fbd50439dab74999aaa91c018243482d",
            "7a4aafcd3fda4223af18dcad62959bce",
            "2a178eb1da4a4ea8a4a8c2de1300c20f",
            "219d83f25ffc4c3faccb11449d33d8fe",
            "d60e5fa224964ab49f2a5dca43d8fd9e",
            "269215de6cbd42ff93583bf781ac4231",
            "07d0e1a49c804be5b8ce8a16ab9ed503",
            "eebb51f343c646b7b6898588294ab459",
            "3200c51ea4cf4d268f4a6742e4969cb7",
            "3e3c261248f944ae8f287c895c48a585",
            "37ffcc99accd43f599c7432a3925adc7",
            "57d09fd59d2a482f85202002fed4218c",
            "5f1fbb745bda421391700cd8409815c0",
            "b69c41fbecce42ddb9287a618754a1cc",
            "344013d09c8644be889576adabfee1fb",
            "ae83093bdd8d4efdbe3f9949753e8e1e",
            "4bcdef709f11476dbeaf8f2905dc604e",
            "95121f0ae8ae4b09b484797f098ac1ae",
            "65dfd365ef93439592c0490ef59743fd",
            "b21d42623d69424fa35e94eb04515a30",
            "b5c36be324da4711bb9fc5f7e557a677",
            "8c93ed0287854281ac5732ab5595d18d",
            "a4f4a02c3eb44a319c956f15412dae08",
            "29fcae7b1ff240ebb656111cd68feabe",
            "141a868e76464952a1516136796a3d0b",
            "9e9d883f5ada44ec9b573567db90b364",
            "b903e9e1900a44c1953e165727324387",
            "9d72579e73194c1382c05e3f0e70dbe7",
            "c2aa8f1b8b8c4281bce091507c0a8dc3",
            "983516f15a8d4487899de7c712f6c9c3",
            "ae98848382b94eaab39ee23e18076e93",
            "63f1a40038f14a178248f4fb60b21695",
            "408b512d32bb4e60affa1da0dbd16042",
            "f8760ba252dd49fea664ea240b806013",
            "80b10a83d2f849db82209bf04604432c",
            "6995f06f31ee4819b8189bcb6af08db3",
            "1c3f1a0d630e4bfe8c2816cc7e8a5ef2",
            "7ee0ddb94c5c410db9ab9105acfa640b",
            "c96780dc743c439b8c14f23dad7afa5b",
            "72debfd7c68e49c1a93ae458092f8b6f",
            "c25d126efe38491893554967dfc86fa2",
            "fda91b7daac44c0a9c0499f03c0b1e8d",
            "e786b969156449e4bf523f94f6975d7f",
            "6694669d75cb4cad92af6844e9d6905b",
            "4737c7e72d3a4d0e87839e2664dead11",
            "76d558f4643049f295773db1722a5a85",
            "030698341f974e8ba9e24126afff4a34",
            "35b05f3bae5246a9871a42208efd5591",
            "629c9619bc7e4ad38aa105b53e738cdf",
            "e66792e2647441cb8e3a424bcf3a1f5d",
            "9eac30aba2754e52b2b2d1a24ee8a20a",
            "fe3e8e12c8a445ca931658290b1e242b",
            "e3dbf043bba246d9841b271b24a976b3",
            "63e2208153804e44a2697591ea6f5997",
            "85cb9495b93d450b9dbe550bc4527015",
            "e6d72773bfe04ac29652b8a75be316e2",
            "01a75859021b4eab889d703274ad432b",
            "e760f5c8981340c2bf720d4c6c1c5ada",
            "22bb650e8fd8435e8862895646ca33f7",
            "f15be06578f1442f9b61509f32f96d58"
          ]
        },
        "id": "3nbSNe7WOJ-B",
        "outputId": "59135cc9-1cd9-47c2-e403-098a8217d3cb"
      },
      "outputs": [
        {
          "output_type": "display_data",
          "data": {
            "text/plain": [
              "preprocessor_config.json:   0%|          | 0.00/479 [00:00<?, ?B/s]"
            ],
            "application/vnd.jupyter.widget-view+json": {
              "version_major": 2,
              "version_minor": 0,
              "model_id": "94af7c0358a846a2b2ed6581ac9783f2"
            }
          },
          "metadata": {}
        },
        {
          "output_type": "stream",
          "name": "stderr",
          "text": [
            "Using a slow image processor as `use_fast` is unset and a slow processor was saved with this model. `use_fast=True` will be the default behavior in v4.48, even if the model was saved with a slow processor. This will result in minor differences in outputs. You'll still be able to use a slow processor with `use_fast=False`.\n"
          ]
        },
        {
          "output_type": "display_data",
          "data": {
            "text/plain": [
              "tokenizer_config.json:   0%|          | 0.00/4.49k [00:00<?, ?B/s]"
            ],
            "application/vnd.jupyter.widget-view+json": {
              "version_major": 2,
              "version_minor": 0,
              "model_id": "a85f1ff45ccf431f927d1c0984555dd3"
            }
          },
          "metadata": {}
        },
        {
          "output_type": "display_data",
          "data": {
            "text/plain": [
              "tokenizer.json:   0%|          | 0.00/2.14M [00:00<?, ?B/s]"
            ],
            "application/vnd.jupyter.widget-view+json": {
              "version_major": 2,
              "version_minor": 0,
              "model_id": "269215de6cbd42ff93583bf781ac4231"
            }
          },
          "metadata": {}
        },
        {
          "output_type": "display_data",
          "data": {
            "text/plain": [
              "special_tokens_map.json:   0%|          | 0.00/96.0 [00:00<?, ?B/s]"
            ],
            "application/vnd.jupyter.widget-view+json": {
              "version_major": 2,
              "version_minor": 0,
              "model_id": "4bcdef709f11476dbeaf8f2905dc604e"
            }
          },
          "metadata": {}
        },
        {
          "output_type": "display_data",
          "data": {
            "text/plain": [
              "config.json:   0%|          | 0.00/4.77k [00:00<?, ?B/s]"
            ],
            "application/vnd.jupyter.widget-view+json": {
              "version_major": 2,
              "version_minor": 0,
              "model_id": "9d72579e73194c1382c05e3f0e70dbe7"
            }
          },
          "metadata": {}
        },
        {
          "output_type": "display_data",
          "data": {
            "text/plain": [
              "model.safetensors:   0%|          | 0.00/990M [00:00<?, ?B/s]"
            ],
            "application/vnd.jupyter.widget-view+json": {
              "version_major": 2,
              "version_minor": 0,
              "model_id": "c96780dc743c439b8c14f23dad7afa5b"
            }
          },
          "metadata": {}
        },
        {
          "output_type": "stream",
          "name": "stderr",
          "text": [
            "Config of the encoder: <class 'transformers.models.donut.modeling_donut_swin.DonutSwinModel'> is overwritten by shared encoder config: DonutSwinConfig {\n",
            "  \"attention_probs_dropout_prob\": 0.0,\n",
            "  \"depths\": [\n",
            "    2,\n",
            "    2,\n",
            "    14,\n",
            "    2\n",
            "  ],\n",
            "  \"drop_path_rate\": 0.1,\n",
            "  \"embed_dim\": 128,\n",
            "  \"hidden_act\": \"gelu\",\n",
            "  \"hidden_dropout_prob\": 0.0,\n",
            "  \"hidden_size\": 1024,\n",
            "  \"image_size\": [\n",
            "    896,\n",
            "    672\n",
            "  ],\n",
            "  \"initializer_range\": 0.02,\n",
            "  \"layer_norm_eps\": 1e-05,\n",
            "  \"mlp_ratio\": 4.0,\n",
            "  \"model_type\": \"donut-swin\",\n",
            "  \"num_channels\": 3,\n",
            "  \"num_heads\": [\n",
            "    4,\n",
            "    8,\n",
            "    16,\n",
            "    32\n",
            "  ],\n",
            "  \"num_layers\": 4,\n",
            "  \"patch_size\": 4,\n",
            "  \"qkv_bias\": true,\n",
            "  \"transformers_version\": \"4.48.0.dev0\",\n",
            "  \"use_absolute_embeddings\": false,\n",
            "  \"window_size\": 7\n",
            "}\n",
            "\n",
            "Config of the decoder: <class 'transformers.models.mbart.modeling_mbart.MBartForCausalLM'> is overwritten by shared decoder config: MBartConfig {\n",
            "  \"activation_dropout\": 0.0,\n",
            "  \"activation_function\": \"gelu\",\n",
            "  \"add_cross_attention\": true,\n",
            "  \"add_final_layer_norm\": true,\n",
            "  \"attention_dropout\": 0.0,\n",
            "  \"bos_token_id\": 0,\n",
            "  \"classifier_dropout\": 0.0,\n",
            "  \"d_model\": 1024,\n",
            "  \"decoder_attention_heads\": 16,\n",
            "  \"decoder_ffn_dim\": 4096,\n",
            "  \"decoder_layerdrop\": 0.0,\n",
            "  \"decoder_layers\": 4,\n",
            "  \"dropout\": 0.1,\n",
            "  \"encoder_attention_heads\": 16,\n",
            "  \"encoder_ffn_dim\": 4096,\n",
            "  \"encoder_layerdrop\": 0.0,\n",
            "  \"encoder_layers\": 12,\n",
            "  \"eos_token_id\": 2,\n",
            "  \"forced_eos_token_id\": 2,\n",
            "  \"init_std\": 0.02,\n",
            "  \"is_decoder\": true,\n",
            "  \"is_encoder_decoder\": false,\n",
            "  \"max_position_embeddings\": 3584,\n",
            "  \"model_type\": \"mbart\",\n",
            "  \"num_hidden_layers\": 12,\n",
            "  \"pad_token_id\": 1,\n",
            "  \"scale_embedding\": true,\n",
            "  \"tie_word_embeddings\": false,\n",
            "  \"transformers_version\": \"4.48.0.dev0\",\n",
            "  \"use_cache\": true,\n",
            "  \"vocab_size\": 50000\n",
            "}\n",
            "\n"
          ]
        },
        {
          "output_type": "display_data",
          "data": {
            "text/plain": [
              "generation_config.json:   0%|          | 0.00/165 [00:00<?, ?B/s]"
            ],
            "application/vnd.jupyter.widget-view+json": {
              "version_major": 2,
              "version_minor": 0,
              "model_id": "e66792e2647441cb8e3a424bcf3a1f5d"
            }
          },
          "metadata": {}
        }
      ],
      "source": [
        "from transformers import AutoProcessor, VisionEncoderDecoderModel\n",
        "import torch\n",
        "\n",
        "# Load the Nougat model and processor from the hub\n",
        "processor = AutoProcessor.from_pretrained(\"facebook/nougat-small\")\n",
        "model = VisionEncoderDecoderModel.from_pretrained(\"facebook/nougat-small\")"
      ]
    },
    {
      "cell_type": "code",
      "execution_count": 19,
      "metadata": {
        "id": "4O6FB20aOOhB"
      },
      "outputs": [],
      "source": [
        "%%capture\n",
        "device = \"cuda\" if torch.cuda.is_available() else \"cpu\"\n",
        "model.to(device)"
      ]
    },
    {
      "cell_type": "markdown",
      "source": [
        "The following block of code is taken from the example at this link from `Nougat` GitHub: https://github.com/inuwamobarak/nougat/blob/main/Nougat_Inference_to_read_scientific_PDFs.ipynb"
      ],
      "metadata": {
        "id": "_-kir2LhnYNV"
      }
    },
    {
      "cell_type": "code",
      "execution_count": 20,
      "metadata": {
        "id": "tqOHNo0IOg5F"
      },
      "outputs": [],
      "source": [
        "from typing import Optional, List\n",
        "import io\n",
        "import fitz\n",
        "from pathlib import Path\n",
        "\n",
        "def rasterize_paper(\n",
        "    pdf: Path,\n",
        "    outpath: Optional[Path] = None,\n",
        "    dpi: int = 96,\n",
        "    return_pil=False,\n",
        "    pages=None,\n",
        ") -> Optional[List[io.BytesIO]]:\n",
        "    \"\"\"\n",
        "    Rasterize a PDF file to PNG images.\n",
        "\n",
        "    Args:\n",
        "        pdf (Path): The path to the PDF file.\n",
        "        outpath (Optional[Path], optional): The output directory. If None, the PIL images will be returned instead. Defaults to None.\n",
        "        dpi (int, optional): The output DPI. Defaults to 96.\n",
        "        return_pil (bool, optional): Whether to return the PIL images instead of writing them to disk. Defaults to False.\n",
        "        pages (Optional[List[int]], optional): The pages to rasterize. If None, all pages will be rasterized. Defaults to None.\n",
        "\n",
        "    Returns:\n",
        "        Optional[List[io.BytesIO]]: The PIL images if `return_pil` is True, otherwise None.\n",
        "    \"\"\"\n",
        "\n",
        "    pillow_images = []\n",
        "    if outpath is None:\n",
        "        return_pil = True\n",
        "    try:\n",
        "        if isinstance(pdf, (str, Path)):\n",
        "            pdf = fitz.open(pdf)\n",
        "        if pages is None:\n",
        "            pages = range(len(pdf))\n",
        "        for i in pages:\n",
        "            page_bytes: bytes = pdf[i].get_pixmap(dpi=dpi).pil_tobytes(format=\"PNG\")\n",
        "            if return_pil:\n",
        "                pillow_images.append(io.BytesIO(page_bytes))\n",
        "            else:\n",
        "                with (outpath / (\"%02d.png\" % (i + 1))).open(\"wb\") as f:\n",
        "                    f.write(page_bytes)\n",
        "    except Exception:\n",
        "        pass\n",
        "    if return_pil:\n",
        "        return pillow_images"
      ]
    },
    {
      "cell_type": "markdown",
      "source": [
        "## Rasterizing PDF Pages for Formula Processing\n",
        "Now we extract and process specific pages containing formulas from a PDF.\n",
        "\n",
        "In particular the processing is made in order to obtain the rasterized **images of specific pages** of the PDF file.\n"
      ],
      "metadata": {
        "id": "0ecUN7fpUbDW"
      }
    },
    {
      "cell_type": "code",
      "execution_count": 21,
      "metadata": {
        "colab": {
          "base_uri": "https://localhost:8080/",
          "height": 742
        },
        "id": "HsUOqxkAOlrB",
        "outputId": "f92c0ad0-851d-4e1c-816a-0f023ac3760b"
      },
      "outputs": [
        {
          "output_type": "stream",
          "name": "stdout",
          "text": [
            "22\n"
          ]
        },
        {
          "output_type": "execute_result",
          "data": {
            "text/plain": [
              "<PIL.PngImagePlugin.PngImageFile image mode=RGB size=1366x1024>"
            ],
            "image/png": "[encoded data removed]",
            "image/jpeg": "[encoded data removed]"
          },
          "metadata": {},
          "execution_count": 21
        }
      ],
      "source": [
        "from huggingface_hub import hf_hub_download\n",
        "from typing import Optional, List\n",
        "import io\n",
        "import fitz\n",
        "from pathlib import Path\n",
        "from PIL import Image\n",
        "\n",
        "\n",
        "images = rasterize_paper(pdf=file_name, return_pil=True, pages=page_with_formula_indexes)\n",
        "\n",
        "print(\"Number of processed pages: \" + str(len(images)))\n",
        "\n",
        "# Display the first image\n",
        "image = Image.open(images[0])\n",
        "image\n"
      ]
    },
    {
      "cell_type": "markdown",
      "source": [
        "The following block of code is taken from the example at this link from `Nougat` GitHub: https://github.com/inuwamobarak/nougat/blob/main/Nougat_Inference_to_read_scientific_PDFs.ipynb"
      ],
      "metadata": {
        "id": "7YKtCG0vn_JB"
      }
    },
    {
      "cell_type": "code",
      "execution_count": 22,
      "metadata": {
        "id": "eSNBbMwmRav-"
      },
      "outputs": [],
      "source": [
        "from transformers import StoppingCriteria, StoppingCriteriaList\n",
        "from collections import defaultdict\n",
        "\n",
        "class RunningVarTorch:\n",
        "    def __init__(self, L=15, norm=False):\n",
        "        self.values = None\n",
        "        self.L = L\n",
        "        self.norm = norm\n",
        "\n",
        "    def push(self, x: torch.Tensor):\n",
        "        assert x.dim() == 1\n",
        "        if self.values is None:\n",
        "            self.values = x[:, None]\n",
        "        elif self.values.shape[1] < self.L:\n",
        "            self.values = torch.cat((self.values, x[:, None]), 1)\n",
        "        else:\n",
        "            self.values = torch.cat((self.values[:, 1:], x[:, None]), 1)\n",
        "\n",
        "    def variance(self):\n",
        "        if self.values is None:\n",
        "            return\n",
        "        if self.norm:\n",
        "            return torch.var(self.values, 1) / self.values.shape[1]\n",
        "        else:\n",
        "            return torch.var(self.values, 1)\n",
        "\n",
        "\n",
        "class StoppingCriteriaScores(StoppingCriteria):\n",
        "    def __init__(self, threshold: float = 0.015, window_size: int = 200):\n",
        "        super().__init__()\n",
        "        self.threshold = threshold\n",
        "        self.vars = RunningVarTorch(norm=True)\n",
        "        self.varvars = RunningVarTorch(L=window_size)\n",
        "        self.stop_inds = defaultdict(int)\n",
        "        self.stopped = defaultdict(bool)\n",
        "        self.size = 0\n",
        "        self.window_size = window_size\n",
        "\n",
        "    @torch.no_grad()\n",
        "    def __call__(self, input_ids: torch.LongTensor, scores: torch.FloatTensor):\n",
        "        last_scores = scores[-1]\n",
        "        self.vars.push(last_scores.max(1)[0].float().cpu())\n",
        "        self.varvars.push(self.vars.variance())\n",
        "        self.size += 1\n",
        "        if self.size < self.window_size:\n",
        "            return False\n",
        "\n",
        "        varvar = self.varvars.variance()\n",
        "        for b in range(len(last_scores)):\n",
        "            if varvar[b] < self.threshold:\n",
        "                if self.stop_inds[b] > 0 and not self.stopped[b]:\n",
        "                    self.stopped[b] = self.stop_inds[b] >= self.size\n",
        "                else:\n",
        "                    self.stop_inds[b] = int(\n",
        "                        min(max(self.size, 1) * 1.15 + 150 + self.window_size, 4095)\n",
        "                    )\n",
        "            else:\n",
        "                self.stop_inds[b] = 0\n",
        "                self.stopped[b] = False\n",
        "        return all(self.stopped.values()) and len(self.stopped) > 0"
      ]
    },
    {
      "cell_type": "markdown",
      "source": [
        "## Generating Outputs from Processed Images\n",
        "Once we obtained an image for each page containing at least a formula, we can generate text outputs from images using the `Nougat` model.\n",
        "\n",
        "- `outputs` is the list to store generated text for each image\n",
        "- The **image processing** converts images into tensor format using the `processor`.\n",
        "- For the **text generation** the tensor is passed to the model's `generate` method.\n",
        "\n",
        "Note that this block require a compatible GPU, for efficient processing, indicated by `device`.\n",
        "\n"
      ],
      "metadata": {
        "id": "VWaiM67tUqJP"
      }
    },
    {
      "cell_type": "code",
      "execution_count": 23,
      "metadata": {
        "colab": {
          "base_uri": "https://localhost:8080/"
        },
        "id": "iN5jpxO9RikU",
        "outputId": "7f2922b5-a50c-4aef-da9e-c2d9f98614f8"
      },
      "outputs": [
        {
          "output_type": "stream",
          "name": "stdout",
          "text": [
            "22\n"
          ]
        },
        {
          "output_type": "stream",
          "name": "stderr",
          "text": [
            "<ipython-input-22-1f2d56ef631f>:23: UserWarning: var(): degrees of freedom is <= 0. Correction should be strictly less than the reduction factor (input numel divided by output numel). (Triggered internally at ../aten/src/ATen/native/ReduceOps.cpp:1823.)\n",
            "  return torch.var(self.values, 1) / self.values.shape[1]\n"
          ]
        },
        {
          "output_type": "stream",
          "name": "stdout",
          "text": [
            "22\n"
          ]
        }
      ],
      "source": [
        "outputs = []\n",
        "\n",
        "for i in range(len(images)):\n",
        "\n",
        "  image = Image.open(images[i])\n",
        "\n",
        "  pixel_values = processor(images=image, return_tensors=\"pt\").pixel_values\n",
        "\n",
        "  outputs.append(\n",
        "        model.generate(\n",
        "        pixel_values.to(device),\n",
        "        min_length=1,\n",
        "        max_length=3584,\n",
        "        bad_words_ids=[[processor.tokenizer.unk_token_id]],\n",
        "        return_dict_in_generate=True,\n",
        "        output_scores=True,\n",
        "        stopping_criteria=StoppingCriteriaList([StoppingCriteriaScores()]),\n",
        "    )\n",
        "  )"
      ]
    },
    {
      "cell_type": "markdown",
      "source": [
        "This function extracts LaTeX formulas enclosed within `\\[ \\]` from a given text."
      ],
      "metadata": {
        "id": "IOV3yrN0UxWm"
      }
    },
    {
      "cell_type": "code",
      "execution_count": 24,
      "metadata": {
        "id": "sguJDMp_dW2-"
      },
      "outputs": [],
      "source": [
        "def formulas_extraction(latex_text):\n",
        "    \"\"\"\n",
        "    Extracts all substrings that start with '\\[' and end with '\\]' and returns them as a list.\n",
        "    \"\"\"\n",
        "    # The pattern looks for:\n",
        "    #   - literal \"\\[\"\n",
        "    #   - any characters, non-greedily (.*?)\n",
        "    #   - literal \"\\]\"\n",
        "    pattern = r\"(\\\\\\[.*?\\\\\\])\"\n",
        "\n",
        "    matches = re.findall(pattern, latex_text)\n",
        "\n",
        "    return matches"
      ]
    },
    {
      "cell_type": "code",
      "source": [
        "# save outputs in a pickle file\n",
        "import pickle\n",
        "with open('outputs.pkl', 'wb') as f:\n",
        "    pickle.dump(outputs, f)"
      ],
      "metadata": {
        "id": "49xHvW586vso"
      },
      "execution_count": 33,
      "outputs": []
    },
    {
      "cell_type": "markdown",
      "source": [
        "# Post-Processing Generated Formulas\n",
        "Now we are able to process the generated LaTeX formulas for each page and update the corresponding DataFrame entries.\n",
        "\n",
        "- **Purpose:**\n",
        "  - Ensures that the number of extracted formulas matches the expected count per page.\n",
        "  - Handles cases where formulas are fewer or greater than expected.\n",
        "\n",
        "- **Workflow:**\n",
        "  1. **Formula Extraction:**\n",
        "     - Decodes the generated text and extracts formulas using `formulas_extraction`.\n",
        "  2. **Case Handling:**\n",
        "     - **No Formulas:** if no formulas extracted by `Nougat` we can keep the formulas as extracted by `Unstructure`.\n",
        "     - **Fewer Formulas:** concatenate formulas extracted by `Nougat` into a single string and update the first location in the DataFrame, marking others as `REMOVING_STR`.\n",
        "     - **More Formulas:** concatenate and store in the first location, similar to fewer formulas.\n",
        "     - **Matching Formulas:** update the DataFrame with extracted formulas directly.\n",
        "\n",
        "Note that we give priority to `Nougat` formulas, if extracred, due to a more precise and correct representation.\n"
      ],
      "metadata": {
        "id": "aH1-7NgCVMY9"
      }
    },
    {
      "cell_type": "code",
      "execution_count": 26,
      "metadata": {
        "colab": {
          "base_uri": "https://localhost:8080/"
        },
        "id": "naZPcO6_RnCT",
        "outputId": "9081815b-74d2-4170-be59-739183ad592d"
      },
      "outputs": [
        {
          "output_type": "stream",
          "name": "stdout",
          "text": [
            "Cases ok: 11\n",
            "Cases not improved: 2\n",
            "Cases under expected: 7\n",
            "Cases over expected: 2\n"
          ]
        }
      ],
      "source": [
        "from tkinter.constants import E\n",
        "from unstructured.documents.elements import Title, NarrativeText, Image, Formula, PageBreak\n",
        "\n",
        "cases_ok = 0\n",
        "cases_not_improved = 0\n",
        "cases_under_expected = 0\n",
        "cases_over_expected = 0\n",
        "\n",
        "REMOVING_STR = \"LOC_TO_BE_REMOVED\"\n",
        "\n",
        "for i in range(len(outputs)):\n",
        "\n",
        "  page_index = page_with_formula_indexes[i]\n",
        "\n",
        "  generated = processor.batch_decode(outputs[i][0], skip_special_tokens=True)[0]\n",
        "  generated = processor.post_process_generation(generated, fix_markdown=False)\n",
        "\n",
        "  formulas = formulas_extraction(generated)\n",
        "\n",
        "  if len(formulas) == 0:\n",
        "    cases_not_improved += 1\n",
        "    continue\n",
        "\n",
        "  num_over_expected = number_of_formulas_per_page[page_index] - len(formulas)\n",
        "\n",
        "  if num_over_expected < 0:\n",
        "\n",
        "    cases_under_expected += 1\n",
        "\n",
        "    # concatenate all elements in formulas in a unique string\n",
        "    concatenated_formulas = \" \".join(formulas)\n",
        "\n",
        "    for j in range(number_of_formulas_per_page[page_index]):\n",
        "      if j == 0:\n",
        "        df_elements.at[locations_with_formula_at_page[page_index][j], 'Value'] = concatenated_formulas\n",
        "      else:\n",
        "        df_elements.at[locations_with_formula_at_page[page_index][j], 'Value'] = REMOVING_STR\n",
        "\n",
        "  elif num_over_expected > 0:\n",
        "\n",
        "    cases_over_expected += 1\n",
        "\n",
        "    # concatenate all elements in formulas in a unique string\n",
        "    concatenated_formulas = \" \".join(formulas)\n",
        "\n",
        "    for j in range(number_of_formulas_per_page[page_index]):\n",
        "      if j == 0:\n",
        "        df_elements.at[locations_with_formula_at_page[page_index][j], 'Value'] = concatenated_formulas\n",
        "      else:\n",
        "        df_elements.at[locations_with_formula_at_page[page_index][j], 'Value'] = REMOVING_STR\n",
        "\n",
        "  else:\n",
        "    cases_ok += 1\n",
        "    for j in range(number_of_formulas_per_page[page_index]):\n",
        "      df_elements.at[locations_with_formula_at_page[page_index][j], 'Value'] = formulas[j]\n",
        "\n",
        "print(\"Cases ok: \" + str(cases_ok))\n",
        "print(\"Cases not improved: \" + str(cases_not_improved))\n",
        "print(\"Cases under expected: \" + str(cases_under_expected))\n",
        "print(\"Cases over expected: \" + str(cases_over_expected))"
      ]
    },
    {
      "cell_type": "code",
      "source": [
        "# print df row with value REMOVING_STR\n",
        "print(df_elements[df_elements['Value'] == REMOVING_STR])"
      ],
      "metadata": {
        "id": "Th6FmpxeDkT-",
        "outputId": "60bd82ac-a355-4d9c-f767-439b04141795",
        "colab": {
          "base_uri": "https://localhost:8080/"
        }
      },
      "execution_count": 28,
      "outputs": [
        {
          "output_type": "stream",
          "name": "stdout",
          "text": [
            "                                                   Type              Value\n",
            "2512  <class 'unstructured.documents.elements.Formula'>  LOC_TO_BE_REMOVED\n",
            "2563  <class 'unstructured.documents.elements.Formula'>  LOC_TO_BE_REMOVED\n",
            "2569  <class 'unstructured.documents.elements.Formula'>  LOC_TO_BE_REMOVED\n"
          ]
        }
      ]
    },
    {
      "cell_type": "code",
      "source": [
        "# drop df row with value REMOVING_STR\n",
        "df_elements = df_elements[df_elements['Value'] != REMOVING_STR]\n",
        "\n",
        "# reset index\n",
        "df_elements = df_elements.reset_index(drop=True)\n",
        "\n",
        "print(df_elements[df_elements['Value'] == REMOVING_STR])"
      ],
      "metadata": {
        "id": "sb0VrXlkEaUe",
        "outputId": "362d070d-8cb4-4ca4-c1cb-8c5637e0122d",
        "colab": {
          "base_uri": "https://localhost:8080/"
        }
      },
      "execution_count": 29,
      "outputs": [
        {
          "output_type": "stream",
          "name": "stdout",
          "text": [
            "Empty DataFrame\n",
            "Columns: [Type, Value]\n",
            "Index: []\n"
          ]
        }
      ]
    },
    {
      "cell_type": "code",
      "execution_count": 27,
      "metadata": {
        "colab": {
          "base_uri": "https://localhost:8080/"
        },
        "id": "I3-AQ1lufDA4",
        "outputId": "ae60abc0-35e8-40c4-f85c-4ba4cc1cc310"
      },
      "outputs": [
        {
          "output_type": "stream",
          "name": "stdout",
          "text": [
            "                                                   Type  \\\n",
            "963   <class 'unstructured.documents.elements.Formula'>   \n",
            "1020  <class 'unstructured.documents.elements.Formula'>   \n",
            "1024  <class 'unstructured.documents.elements.Formula'>   \n",
            "1040  <class 'unstructured.documents.elements.Formula'>   \n",
            "1046  <class 'unstructured.documents.elements.Formula'>   \n",
            "1060  <class 'unstructured.documents.elements.Formula'>   \n",
            "1957  <class 'unstructured.documents.elements.Formula'>   \n",
            "2068  <class 'unstructured.documents.elements.Formula'>   \n",
            "2299  <class 'unstructured.documents.elements.Formula'>   \n",
            "2304  <class 'unstructured.documents.elements.Formula'>   \n",
            "2334  <class 'unstructured.documents.elements.Formula'>   \n",
            "2337  <class 'unstructured.documents.elements.Formula'>   \n",
            "2374  <class 'unstructured.documents.elements.Formula'>   \n",
            "2400  <class 'unstructured.documents.elements.Formula'>   \n",
            "2505  <class 'unstructured.documents.elements.Formula'>   \n",
            "2512  <class 'unstructured.documents.elements.Formula'>   \n",
            "2529  <class 'unstructured.documents.elements.Formula'>   \n",
            "2541  <class 'unstructured.documents.elements.Formula'>   \n",
            "2556  <class 'unstructured.documents.elements.Formula'>   \n",
            "2563  <class 'unstructured.documents.elements.Formula'>   \n",
            "2569  <class 'unstructured.documents.elements.Formula'>   \n",
            "2595  <class 'unstructured.documents.elements.Formula'>   \n",
            "2613  <class 'unstructured.documents.elements.Formula'>   \n",
            "2625  <class 'unstructured.documents.elements.Formula'>   \n",
            "2668  <class 'unstructured.documents.elements.Formula'>   \n",
            "2683  <class 'unstructured.documents.elements.Formula'>   \n",
            "2775  <class 'unstructured.documents.elements.Formula'>   \n",
            "2830  <class 'unstructured.documents.elements.Formula'>   \n",
            "2840  <class 'unstructured.documents.elements.Formula'>   \n",
            "2843  <class 'unstructured.documents.elements.Formula'>   \n",
            "2845  <class 'unstructured.documents.elements.Formula'>   \n",
            "\n",
            "                                                  Value  \n",
            "963          \\[J(A,B)=\\frac{|A\\cap B\\,|}{|A\\cup B\\,|}\\]  \n",
            "1020  \\[w_{t,d}=\\begin{cases}1+\\log(tf_{t,d})&\\text{...  \n",
            "1024  \\[s(q,d)=\\sum_{t\\in q\\cap d}\\left(1+\\log(tf_{t...  \n",
            "1040  \\[t=\\text{insurance}\\quad F_{t}=10440\\qquad df...  \n",
            "1046                   \\[idf_{t}=\\log\\frac{N}{df_{t}}\\]  \n",
            "1060  \\[w_{t,d}=\\begin{cases}1+\\log(tf_{t,d})&\\text{...  \n",
            "1957  \\[AUC=\\sum_{n=1}^{N}P\\text{\\text@}n\\big{(}R\\te...  \n",
            "2068  \\[RBP@k=(1-p)\\sum_{i=1}^{k}p^{i-1}r_{i}=(1-p)\\...  \n",
            "2299                       \\[P(n,r)=\\frac{n!}{(n-r)!}\\]  \n",
            "2304   \\[C(n,r)=\\frac{P(n,r)}{r!}=\\frac{n!}{r!(n-r)!}\\]  \n",
            "2334      n for all i ≠ j, Ai ∩ Aj = ∅ and ⋃ Ai = S i=1  \n",
            "2337                      n P(B) = ∑ P(B | Ai)P(Ai) i=1  \n",
            "2374  \\[Var(X)=E\\big{[}(X-E[X]^{2}\\big{]}=E\\big{[}X^...  \n",
            "2400      \\[P(X=x)=\\sum_{i=1}^{k}P(C=i)P(X=x\\,|\\,C=i)\\]  \n",
            "2505  \\[E[R_{k}]=r\\sum_{i=1}^{k}P(r\\,|\\,d_{i},q)+\\ba...  \n",
            "2512                                  LOC_TO_BE_REMOVED  \n",
            "2529  • Maximises also expected precision at : k E[P...  \n",
            "2541  \\[P(r\\left|\\,d,q)=\\begin{cases}\\frac{2}{3}\\tex...  \n",
            "2556  \\[P(r\\,|\\,d,q)=\\frac{P(d\\,|\\,r,q)P(r)}{P(d)}\\]...  \n",
            "2563                                  LOC_TO_BE_REMOVED  \n",
            "2569                                  LOC_TO_BE_REMOVED  \n",
            "2595                       \\[O(E)=\\frac{P(E)}{1-P(E)}\\]  \n",
            "2613  \\[O(r\\,|\\,x,q)=O(r\\,|\\,q)\\prod_{i=1}^{n}\\frac{...  \n",
            "2625  \\[O(r\\,|\\,x,q)=O(r\\,|\\,q)\\prod_{x_{i}=1}\\frac{...  \n",
            "2668  \\[p_{i}=P(x_{i}=1\\mid r,q)=\\frac{r_{i}+0.5}{R+...  \n",
            "2683  \\[c_{i}=\\log\\frac{p_{i}(1-r_{i})}{r_{i}(1-p_{i...  \n",
            "2775  \\[c_{i}^{\\text{elite}}(tf_{i})=\\log\\frac{P(tf_...  \n",
            "2830  \\[tf_{i}^{\\prime}(d_{j})=tf_{i}(d_{j})\\frac{av...  \n",
            "2840  \\[tf_{i}^{\\prime}(d_{j})=\\frac{tf_{i}^{\\prime}...  \n",
            "2843  \\[c_{i}^{\\text{BM25}}(tf_{i},d_{j})=c_{i}^{\\te...  \n",
            "2845  \\[RSV^{\\text{BM25}}(q,d)=\\sum_{t_{i}\\in q}\\fra...  \n"
          ]
        }
      ],
      "source": [
        "from unstructured.documents.elements import Formula\n",
        "\n",
        "# print df_elements for rows with Type Formula\n",
        "print(df_elements[df_elements['Type'].isin([Formula])])"
      ]
    },
    {
      "cell_type": "markdown",
      "source": [
        "Here we clean up the `df_elements` DataFrame by removing consecutive duplicate rows while keeping the first occurrence.\n"
      ],
      "metadata": {
        "id": "xEXuB0xZVgi5"
      }
    },
    {
      "cell_type": "code",
      "source": [
        "print(\"Number of elements before removing adjacent duplicates: \" + str(len(df_elements)))\n",
        "\n",
        "# drop adjacent duplicates in the df_elements mantaining the first one\n",
        "df_elements = df_elements.loc[df_elements.shift().ne(df_elements).any(axis=1)]\n",
        "\n",
        "# reset index\n",
        "df_elements = df_elements.reset_index(drop=True)\n",
        "\n",
        "print(\"Number of elements after removing adjacent duplicates: \" + str(len(df_elements)))"
      ],
      "metadata": {
        "id": "KBJg2MZ3QH1t",
        "outputId": "3c1b90c8-aef0-402d-d875-b1b15e0550e8",
        "colab": {
          "base_uri": "https://localhost:8080/"
        }
      },
      "execution_count": 30,
      "outputs": [
        {
          "output_type": "stream",
          "name": "stdout",
          "text": [
            "4027\n",
            "3791\n"
          ]
        }
      ]
    },
    {
      "cell_type": "code",
      "source": [
        "from unstructured.documents.elements import PageBreak\n",
        "\n",
        "# count the number of rows with Type PageBreak\n",
        "print(len(df_elements[df_elements['Type'] == PageBreak]))"
      ],
      "metadata": {
        "id": "g_33-bMTulyW",
        "outputId": "a509be7d-6f89-40e6-f299-a55050860506",
        "colab": {
          "base_uri": "https://localhost:8080/"
        }
      },
      "execution_count": 31,
      "outputs": [
        {
          "output_type": "stream",
          "name": "stdout",
          "text": [
            "322\n"
          ]
        }
      ]
    },
    {
      "cell_type": "code",
      "source": [
        "from nltk.tokenize import word_tokenize\n",
        "import nltk\n",
        "nltk.download('punkt_tab')\n",
        "\n",
        "def count_tokens(text):\n",
        "  return len(word_tokenize(text))"
      ],
      "metadata": {
        "colab": {
          "base_uri": "https://localhost:8080/"
        },
        "id": "8vMk0-oV-_1B",
        "outputId": "80c9b88c-c088-4636-8aed-21e8230b3499"
      },
      "execution_count": 52,
      "outputs": [
        {
          "output_type": "stream",
          "name": "stderr",
          "text": [
            "[nltk_data] Downloading package punkt_tab to /root/nltk_data...\n",
            "[nltk_data]   Package punkt_tab is already up-to-date!\n"
          ]
        }
      ]
    },
    {
      "cell_type": "markdown",
      "source": [
        "# Splitting Content into Tokenized Chunks\n",
        "Here we divide the processed elements in `df_elements` into smaller text files, ensuring each file stays within a token limit.\n",
        "\n",
        "**Chunk Creation:**\n",
        "- Processes elements in `df_elements`:\n",
        "  - Concatenates values until the token count exceeds `doc_tokens_threshold`.\n",
        "  - Writes each chunk to a separate text file (`docX.txt`).\n",
        "  - Tracks the token count of each chunk in `docs_len`.\n",
        "- Handles `PageBreak` to reset and manage document boundaries.\n",
        "\n",
        "Adjust `doc_tokens_threshold` to change the maximum token count per file.\n"
      ],
      "metadata": {
        "id": "KE2y3MZgVuIa"
      }
    },
    {
      "cell_type": "code",
      "source": [
        "import os\n",
        "\n",
        "# create folder chunks if it doesn't exist\n",
        "if not os.path.exists('chunks'):\n",
        "    os.makedirs('chunks')\n",
        "else:\n",
        "    # delete all the files in the folder chunks\n",
        "    for file in os.listdir('chunks'):\n",
        "        os.remove(os.path.join('chunks', file))\n",
        "\n",
        "\n",
        "block = \"\"\n",
        "document = \"\"\n",
        "doc_index = 0\n",
        "doc_tokens_threshold = 250\n",
        "docs_len = []\n",
        "\n",
        "# iterating over df_elements\n",
        "for i in range(len(df_elements)):\n",
        "\n",
        "\n",
        "  if df_elements.at[i, 'Type'] != PageBreak:\n",
        "\n",
        "    next_element = df_elements.at[i, 'Value'] + \"\\n\"\n",
        "\n",
        "    if count_tokens(block) + count_tokens(next_element) > doc_tokens_threshold:\n",
        "        with open('chunks/doc' + str(doc_index) + '.txt', 'w') as f:\n",
        "          f.write(block)\n",
        "\n",
        "        docs_len.append(count_tokens(block))\n",
        "        doc_index += 1\n",
        "        block = \"\"\n",
        "\n",
        "    block += next_element\n",
        "\n",
        "  else: # if the type is a PageBreak or\n",
        "\n",
        "    expected_num_tokens = count_tokens(document) + count_tokens(block)\n",
        "    if expected_num_tokens > doc_tokens_threshold:\n",
        "\n",
        "      with open('chunks/doc' + str(doc_index) + '.txt', 'w') as f:\n",
        "        f.write(document)\n",
        "\n",
        "      docs_len.append(count_tokens(document))\n",
        "      doc_index += 1\n",
        "      document = \"\"\n",
        "\n",
        "    document += block\n",
        "    block = \"\"\n",
        "\n",
        "print(\"Number of chunks obtained: \" + str(doc_index))"
      ],
      "metadata": {
        "id": "H6CxZzdOEqnJ",
        "outputId": "7bfc9a21-6343-473c-a2cf-5a995d229277",
        "colab": {
          "base_uri": "https://localhost:8080/"
        }
      },
      "execution_count": 72,
      "outputs": [
        {
          "output_type": "stream",
          "name": "stdout",
          "text": [
            "141\n"
          ]
        }
      ]
    },
    {
      "cell_type": "code",
      "source": [
        "# print the max, the min and the avg of values in docs_len\n",
        "print(len(docs_len))\n",
        "\n",
        "print(max(docs_len))\n",
        "print(min(docs_len))\n",
        "print(sum(docs_len)/len(docs_len))"
      ],
      "metadata": {
        "id": "mwVWd3HhzOov",
        "outputId": "9e7fa949-d8d2-41f3-ba3b-8dada684412f",
        "colab": {
          "base_uri": "https://localhost:8080/"
        }
      },
      "execution_count": 73,
      "outputs": [
        {
          "output_type": "stream",
          "name": "stdout",
          "text": [
            "141\n",
            "250\n",
            "35\n",
            "199.60992907801418\n"
          ]
        }
      ]
    }
  ],
  "metadata": {
    "colab": {
      "provenance": []
    },
    "kernelspec": {
      "display_name": "Python 3",
      "name": "python3"
    },
    "language_info": {
      "name": "python"
    },
    "widgets": {
      "application/vnd.jupyter.widget-state+json": {
        "94af7c0358a846a2b2ed6581ac9783f2": {
          "model_module": "@jupyter-widgets/controls",
          "model_name": "HBoxModel",
          "model_module_version": "1.5.0",
          "state": {
            "_dom_classes": [],
            "_model_module": "@jupyter-widgets/controls",
            "_model_module_version": "1.5.0",
            "_model_name": "HBoxModel",
            "_view_count": null,
            "_view_module": "@jupyter-widgets/controls",
            "_view_module_version": "1.5.0",
            "_view_name": "HBoxView",
            "box_style": "",
            "children": [
              "IPY_MODEL_70188ea3fa094854a448e18934cc514e",
              "IPY_MODEL_6701e99a4f594e26974bba1c260350d1",
              "IPY_MODEL_64ebfeaed0c04c7c9939b3ffb1eefffc"
            ],
            "layout": "IPY_MODEL_c1dfb42c916e4e1ea681defb80ba3457"
          }
        },
        "70188ea3fa094854a448e18934cc514e": {
          "model_module": "@jupyter-widgets/controls",
          "model_name": "HTMLModel",
          "model_module_version": "1.5.0",
          "state": {
            "_dom_classes": [],
            "_model_module": "@jupyter-widgets/controls",
            "_model_module_version": "1.5.0",
            "_model_name": "HTMLModel",
            "_view_count": null,
            "_view_module": "@jupyter-widgets/controls",
            "_view_module_version": "1.5.0",
            "_view_name": "HTMLView",
            "description": "",
            "description_tooltip": null,
            "layout": "IPY_MODEL_8e45a19b0e804fcf840dc1c2e169f51d",
            "placeholder": "​",
            "style": "IPY_MODEL_f4f1b1e8d7654036a5058bc6dadd71d1",
            "value": "preprocessor_config.json: 100%"
          }
        },
        "6701e99a4f594e26974bba1c260350d1": {
          "model_module": "@jupyter-widgets/controls",
          "model_name": "FloatProgressModel",
          "model_module_version": "1.5.0",
          "state": {
            "_dom_classes": [],
            "_model_module": "@jupyter-widgets/controls",
            "_model_module_version": "1.5.0",
            "_model_name": "FloatProgressModel",
            "_view_count": null,
            "_view_module": "@jupyter-widgets/controls",
            "_view_module_version": "1.5.0",
            "_view_name": "ProgressView",
            "bar_style": "success",
            "description": "",
            "description_tooltip": null,
            "layout": "IPY_MODEL_d2101eaac0ec435e92a1dd4db5246b16",
            "max": 479,
            "min": 0,
            "orientation": "horizontal",
            "style": "IPY_MODEL_ea2cb9ab16ad45269777716c2c565b88",
            "value": 479
          }
        },
        "64ebfeaed0c04c7c9939b3ffb1eefffc": {
          "model_module": "@jupyter-widgets/controls",
          "model_name": "HTMLModel",
          "model_module_version": "1.5.0",
          "state": {
            "_dom_classes": [],
            "_model_module": "@jupyter-widgets/controls",
            "_model_module_version": "1.5.0",
            "_model_name": "HTMLModel",
            "_view_count": null,
            "_view_module": "@jupyter-widgets/controls",
            "_view_module_version": "1.5.0",
            "_view_name": "HTMLView",
            "description": "",
            "description_tooltip": null,
            "layout": "IPY_MODEL_cd22796a0aa046478b66c7498eb0948b",
            "placeholder": "​",
            "style": "IPY_MODEL_2c394dca9af546deb7ac22546ce272b0",
            "value": " 479/479 [00:00&lt;00:00, 25.6kB/s]"
          }
        },
        "c1dfb42c916e4e1ea681defb80ba3457": {
          "model_module": "@jupyter-widgets/base",
          "model_name": "LayoutModel",
          "model_module_version": "1.2.0",
          "state": {
            "_model_module": "@jupyter-widgets/base",
            "_model_module_version": "1.2.0",
            "_model_name": "LayoutModel",
            "_view_count": null,
            "_view_module": "@jupyter-widgets/base",
            "_view_module_version": "1.2.0",
            "_view_name": "LayoutView",
            "align_content": null,
            "align_items": null,
            "align_self": null,
            "border": null,
            "bottom": null,
            "display": null,
            "flex": null,
            "flex_flow": null,
            "grid_area": null,
            "grid_auto_columns": null,
            "grid_auto_flow": null,
            "grid_auto_rows": null,
            "grid_column": null,
            "grid_gap": null,
            "grid_row": null,
            "grid_template_areas": null,
            "grid_template_columns": null,
            "grid_template_rows": null,
            "height": null,
            "justify_content": null,
            "justify_items": null,
            "left": null,
            "margin": null,
            "max_height": null,
            "max_width": null,
            "min_height": null,
            "min_width": null,
            "object_fit": null,
            "object_position": null,
            "order": null,
            "overflow": null,
            "overflow_x": null,
            "overflow_y": null,
            "padding": null,
            "right": null,
            "top": null,
            "visibility": null,
            "width": null
          }
        },
        "8e45a19b0e804fcf840dc1c2e169f51d": {
          "model_module": "@jupyter-widgets/base",
          "model_name": "LayoutModel",
          "model_module_version": "1.2.0",
          "state": {
            "_model_module": "@jupyter-widgets/base",
            "_model_module_version": "1.2.0",
            "_model_name": "LayoutModel",
            "_view_count": null,
            "_view_module": "@jupyter-widgets/base",
            "_view_module_version": "1.2.0",
            "_view_name": "LayoutView",
            "align_content": null,
            "align_items": null,
            "align_self": null,
            "border": null,
            "bottom": null,
            "display": null,
            "flex": null,
            "flex_flow": null,
            "grid_area": null,
            "grid_auto_columns": null,
            "grid_auto_flow": null,
            "grid_auto_rows": null,
            "grid_column": null,
            "grid_gap": null,
            "grid_row": null,
            "grid_template_areas": null,
            "grid_template_columns": null,
            "grid_template_rows": null,
            "height": null,
            "justify_content": null,
            "justify_items": null,
            "left": null,
            "margin": null,
            "max_height": null,
            "max_width": null,
            "min_height": null,
            "min_width": null,
            "object_fit": null,
            "object_position": null,
            "order": null,
            "overflow": null,
            "overflow_x": null,
            "overflow_y": null,
            "padding": null,
            "right": null,
            "top": null,
            "visibility": null,
            "width": null
          }
        },
        "f4f1b1e8d7654036a5058bc6dadd71d1": {
          "model_module": "@jupyter-widgets/controls",
          "model_name": "DescriptionStyleModel",
          "model_module_version": "1.5.0",
          "state": {
            "_model_module": "@jupyter-widgets/controls",
            "_model_module_version": "1.5.0",
            "_model_name": "DescriptionStyleModel",
            "_view_count": null,
            "_view_module": "@jupyter-widgets/base",
            "_view_module_version": "1.2.0",
            "_view_name": "StyleView",
            "description_width": ""
          }
        },
        "d2101eaac0ec435e92a1dd4db5246b16": {
          "model_module": "@jupyter-widgets/base",
          "model_name": "LayoutModel",
          "model_module_version": "1.2.0",
          "state": {
            "_model_module": "@jupyter-widgets/base",
            "_model_module_version": "1.2.0",
            "_model_name": "LayoutModel",
            "_view_count": null,
            "_view_module": "@jupyter-widgets/base",
            "_view_module_version": "1.2.0",
            "_view_name": "LayoutView",
            "align_content": null,
            "align_items": null,
            "align_self": null,
            "border": null,
            "bottom": null,
            "display": null,
            "flex": null,
            "flex_flow": null,
            "grid_area": null,
            "grid_auto_columns": null,
            "grid_auto_flow": null,
            "grid_auto_rows": null,
            "grid_column": null,
            "grid_gap": null,
            "grid_row": null,
            "grid_template_areas": null,
            "grid_template_columns": null,
            "grid_template_rows": null,
            "height": null,
            "justify_content": null,
            "justify_items": null,
            "left": null,
            "margin": null,
            "max_height": null,
            "max_width": null,
            "min_height": null,
            "min_width": null,
            "object_fit": null,
            "object_position": null,
            "order": null,
            "overflow": null,
            "overflow_x": null,
            "overflow_y": null,
            "padding": null,
            "right": null,
            "top": null,
            "visibility": null,
            "width": null
          }
        },
        "ea2cb9ab16ad45269777716c2c565b88": {
          "model_module": "@jupyter-widgets/controls",
          "model_name": "ProgressStyleModel",
          "model_module_version": "1.5.0",
          "state": {
            "_model_module": "@jupyter-widgets/controls",
            "_model_module_version": "1.5.0",
            "_model_name": "ProgressStyleModel",
            "_view_count": null,
            "_view_module": "@jupyter-widgets/base",
            "_view_module_version": "1.2.0",
            "_view_name": "StyleView",
            "bar_color": null,
            "description_width": ""
          }
        },
        "cd22796a0aa046478b66c7498eb0948b": {
          "model_module": "@jupyter-widgets/base",
          "model_name": "LayoutModel",
          "model_module_version": "1.2.0",
          "state": {
            "_model_module": "@jupyter-widgets/base",
            "_model_module_version": "1.2.0",
            "_model_name": "LayoutModel",
            "_view_count": null,
            "_view_module": "@jupyter-widgets/base",
            "_view_module_version": "1.2.0",
            "_view_name": "LayoutView",
            "align_content": null,
            "align_items": null,
            "align_self": null,
            "border": null,
            "bottom": null,
            "display": null,
            "flex": null,
            "flex_flow": null,
            "grid_area": null,
            "grid_auto_columns": null,
            "grid_auto_flow": null,
            "grid_auto_rows": null,
            "grid_column": null,
            "grid_gap": null,
            "grid_row": null,
            "grid_template_areas": null,
            "grid_template_columns": null,
            "grid_template_rows": null,
            "height": null,
            "justify_content": null,
            "justify_items": null,
            "left": null,
            "margin": null,
            "max_height": null,
            "max_width": null,
            "min_height": null,
            "min_width": null,
            "object_fit": null,
            "object_position": null,
            "order": null,
            "overflow": null,
            "overflow_x": null,
            "overflow_y": null,
            "padding": null,
            "right": null,
            "top": null,
            "visibility": null,
            "width": null
          }
        },
        "2c394dca9af546deb7ac22546ce272b0": {
          "model_module": "@jupyter-widgets/controls",
          "model_name": "DescriptionStyleModel",
          "model_module_version": "1.5.0",
          "state": {
            "_model_module": "@jupyter-widgets/controls",
            "_model_module_version": "1.5.0",
            "_model_name": "DescriptionStyleModel",
            "_view_count": null,
            "_view_module": "@jupyter-widgets/base",
            "_view_module_version": "1.2.0",
            "_view_name": "StyleView",
            "description_width": ""
          }
        },
        "a85f1ff45ccf431f927d1c0984555dd3": {
          "model_module": "@jupyter-widgets/controls",
          "model_name": "HBoxModel",
          "model_module_version": "1.5.0",
          "state": {
            "_dom_classes": [],
            "_model_module": "@jupyter-widgets/controls",
            "_model_module_version": "1.5.0",
            "_model_name": "HBoxModel",
            "_view_count": null,
            "_view_module": "@jupyter-widgets/controls",
            "_view_module_version": "1.5.0",
            "_view_name": "HBoxView",
            "box_style": "",
            "children": [
              "IPY_MODEL_da8cc1e7103e47e89f5568c9b0727d70",
              "IPY_MODEL_e4bb2369ec9d42b2a14b613c1fb74697",
              "IPY_MODEL_981b111f639541239ddf198c62924806"
            ],
            "layout": "IPY_MODEL_a8daa59b10c341ecbecf98a9ebc24b49"
          }
        },
        "da8cc1e7103e47e89f5568c9b0727d70": {
          "model_module": "@jupyter-widgets/controls",
          "model_name": "HTMLModel",
          "model_module_version": "1.5.0",
          "state": {
            "_dom_classes": [],
            "_model_module": "@jupyter-widgets/controls",
            "_model_module_version": "1.5.0",
            "_model_name": "HTMLModel",
            "_view_count": null,
            "_view_module": "@jupyter-widgets/controls",
            "_view_module_version": "1.5.0",
            "_view_name": "HTMLView",
            "description": "",
            "description_tooltip": null,
            "layout": "IPY_MODEL_1c8cba2cd6dc42d19c838a43e24ded58",
            "placeholder": "​",
            "style": "IPY_MODEL_fbd50439dab74999aaa91c018243482d",
            "value": "tokenizer_config.json: 100%"
          }
        },
        "e4bb2369ec9d42b2a14b613c1fb74697": {
          "model_module": "@jupyter-widgets/controls",
          "model_name": "FloatProgressModel",
          "model_module_version": "1.5.0",
          "state": {
            "_dom_classes": [],
            "_model_module": "@jupyter-widgets/controls",
            "_model_module_version": "1.5.0",
            "_model_name": "FloatProgressModel",
            "_view_count": null,
            "_view_module": "@jupyter-widgets/controls",
            "_view_module_version": "1.5.0",
            "_view_name": "ProgressView",
            "bar_style": "success",
            "description": "",
            "description_tooltip": null,
            "layout": "IPY_MODEL_7a4aafcd3fda4223af18dcad62959bce",
            "max": 4485,
            "min": 0,
            "orientation": "horizontal",
            "style": "IPY_MODEL_2a178eb1da4a4ea8a4a8c2de1300c20f",
            "value": 4485
          }
        },
        "981b111f639541239ddf198c62924806": {
          "model_module": "@jupyter-widgets/controls",
          "model_name": "HTMLModel",
          "model_module_version": "1.5.0",
          "state": {
            "_dom_classes": [],
            "_model_module": "@jupyter-widgets/controls",
            "_model_module_version": "1.5.0",
            "_model_name": "HTMLModel",
            "_view_count": null,
            "_view_module": "@jupyter-widgets/controls",
            "_view_module_version": "1.5.0",
            "_view_name": "HTMLView",
            "description": "",
            "description_tooltip": null,
            "layout": "IPY_MODEL_219d83f25ffc4c3faccb11449d33d8fe",
            "placeholder": "​",
            "style": "IPY_MODEL_d60e5fa224964ab49f2a5dca43d8fd9e",
            "value": " 4.49k/4.49k [00:00&lt;00:00, 119kB/s]"
          }
        },
        "a8daa59b10c341ecbecf98a9ebc24b49": {
          "model_module": "@jupyter-widgets/base",
          "model_name": "LayoutModel",
          "model_module_version": "1.2.0",
          "state": {
            "_model_module": "@jupyter-widgets/base",
            "_model_module_version": "1.2.0",
            "_model_name": "LayoutModel",
            "_view_count": null,
            "_view_module": "@jupyter-widgets/base",
            "_view_module_version": "1.2.0",
            "_view_name": "LayoutView",
            "align_content": null,
            "align_items": null,
            "align_self": null,
            "border": null,
            "bottom": null,
            "display": null,
            "flex": null,
            "flex_flow": null,
            "grid_area": null,
            "grid_auto_columns": null,
            "grid_auto_flow": null,
            "grid_auto_rows": null,
            "grid_column": null,
            "grid_gap": null,
            "grid_row": null,
            "grid_template_areas": null,
            "grid_template_columns": null,
            "grid_template_rows": null,
            "height": null,
            "justify_content": null,
            "justify_items": null,
            "left": null,
            "margin": null,
            "max_height": null,
            "max_width": null,
            "min_height": null,
            "min_width": null,
            "object_fit": null,
            "object_position": null,
            "order": null,
            "overflow": null,
            "overflow_x": null,
            "overflow_y": null,
            "padding": null,
            "right": null,
            "top": null,
            "visibility": null,
            "width": null
          }
        },
        "1c8cba2cd6dc42d19c838a43e24ded58": {
          "model_module": "@jupyter-widgets/base",
          "model_name": "LayoutModel",
          "model_module_version": "1.2.0",
          "state": {
            "_model_module": "@jupyter-widgets/base",
            "_model_module_version": "1.2.0",
            "_model_name": "LayoutModel",
            "_view_count": null,
            "_view_module": "@jupyter-widgets/base",
            "_view_module_version": "1.2.0",
            "_view_name": "LayoutView",
            "align_content": null,
            "align_items": null,
            "align_self": null,
            "border": null,
            "bottom": null,
            "display": null,
            "flex": null,
            "flex_flow": null,
            "grid_area": null,
            "grid_auto_columns": null,
            "grid_auto_flow": null,
            "grid_auto_rows": null,
            "grid_column": null,
            "grid_gap": null,
            "grid_row": null,
            "grid_template_areas": null,
            "grid_template_columns": null,
            "grid_template_rows": null,
            "height": null,
            "justify_content": null,
            "justify_items": null,
            "left": null,
            "margin": null,
            "max_height": null,
            "max_width": null,
            "min_height": null,
            "min_width": null,
            "object_fit": null,
            "object_position": null,
            "order": null,
            "overflow": null,
            "overflow_x": null,
            "overflow_y": null,
            "padding": null,
            "right": null,
            "top": null,
            "visibility": null,
            "width": null
          }
        },
        "fbd50439dab74999aaa91c018243482d": {
          "model_module": "@jupyter-widgets/controls",
          "model_name": "DescriptionStyleModel",
          "model_module_version": "1.5.0",
          "state": {
            "_model_module": "@jupyter-widgets/controls",
            "_model_module_version": "1.5.0",
            "_model_name": "DescriptionStyleModel",
            "_view_count": null,
            "_view_module": "@jupyter-widgets/base",
            "_view_module_version": "1.2.0",
            "_view_name": "StyleView",
            "description_width": ""
          }
        },
        "7a4aafcd3fda4223af18dcad62959bce": {
          "model_module": "@jupyter-widgets/base",
          "model_name": "LayoutModel",
          "model_module_version": "1.2.0",
          "state": {
            "_model_module": "@jupyter-widgets/base",
            "_model_module_version": "1.2.0",
            "_model_name": "LayoutModel",
            "_view_count": null,
            "_view_module": "@jupyter-widgets/base",
            "_view_module_version": "1.2.0",
            "_view_name": "LayoutView",
            "align_content": null,
            "align_items": null,
            "align_self": null,
            "border": null,
            "bottom": null,
            "display": null,
            "flex": null,
            "flex_flow": null,
            "grid_area": null,
            "grid_auto_columns": null,
            "grid_auto_flow": null,
            "grid_auto_rows": null,
            "grid_column": null,
            "grid_gap": null,
            "grid_row": null,
            "grid_template_areas": null,
            "grid_template_columns": null,
            "grid_template_rows": null,
            "height": null,
            "justify_content": null,
            "justify_items": null,
            "left": null,
            "margin": null,
            "max_height": null,
            "max_width": null,
            "min_height": null,
            "min_width": null,
            "object_fit": null,
            "object_position": null,
            "order": null,
            "overflow": null,
            "overflow_x": null,
            "overflow_y": null,
            "padding": null,
            "right": null,
            "top": null,
            "visibility": null,
            "width": null
          }
        },
        "2a178eb1da4a4ea8a4a8c2de1300c20f": {
          "model_module": "@jupyter-widgets/controls",
          "model_name": "ProgressStyleModel",
          "model_module_version": "1.5.0",
          "state": {
            "_model_module": "@jupyter-widgets/controls",
            "_model_module_version": "1.5.0",
            "_model_name": "ProgressStyleModel",
            "_view_count": null,
            "_view_module": "@jupyter-widgets/base",
            "_view_module_version": "1.2.0",
            "_view_name": "StyleView",
            "bar_color": null,
            "description_width": ""
          }
        },
        "219d83f25ffc4c3faccb11449d33d8fe": {
          "model_module": "@jupyter-widgets/base",
          "model_name": "LayoutModel",
          "model_module_version": "1.2.0",
          "state": {
            "_model_module": "@jupyter-widgets/base",
            "_model_module_version": "1.2.0",
            "_model_name": "LayoutModel",
            "_view_count": null,
            "_view_module": "@jupyter-widgets/base",
            "_view_module_version": "1.2.0",
            "_view_name": "LayoutView",
            "align_content": null,
            "align_items": null,
            "align_self": null,
            "border": null,
            "bottom": null,
            "display": null,
            "flex": null,
            "flex_flow": null,
            "grid_area": null,
            "grid_auto_columns": null,
            "grid_auto_flow": null,
            "grid_auto_rows": null,
            "grid_column": null,
            "grid_gap": null,
            "grid_row": null,
            "grid_template_areas": null,
            "grid_template_columns": null,
            "grid_template_rows": null,
            "height": null,
            "justify_content": null,
            "justify_items": null,
            "left": null,
            "margin": null,
            "max_height": null,
            "max_width": null,
            "min_height": null,
            "min_width": null,
            "object_fit": null,
            "object_position": null,
            "order": null,
            "overflow": null,
            "overflow_x": null,
            "overflow_y": null,
            "padding": null,
            "right": null,
            "top": null,
            "visibility": null,
            "width": null
          }
        },
        "d60e5fa224964ab49f2a5dca43d8fd9e": {
          "model_module": "@jupyter-widgets/controls",
          "model_name": "DescriptionStyleModel",
          "model_module_version": "1.5.0",
          "state": {
            "_model_module": "@jupyter-widgets/controls",
            "_model_module_version": "1.5.0",
            "_model_name": "DescriptionStyleModel",
            "_view_count": null,
            "_view_module": "@jupyter-widgets/base",
            "_view_module_version": "1.2.0",
            "_view_name": "StyleView",
            "description_width": ""
          }
        },
        "269215de6cbd42ff93583bf781ac4231": {
          "model_module": "@jupyter-widgets/controls",
          "model_name": "HBoxModel",
          "model_module_version": "1.5.0",
          "state": {
            "_dom_classes": [],
            "_model_module": "@jupyter-widgets/controls",
            "_model_module_version": "1.5.0",
            "_model_name": "HBoxModel",
            "_view_count": null,
            "_view_module": "@jupyter-widgets/controls",
            "_view_module_version": "1.5.0",
            "_view_name": "HBoxView",
            "box_style": "",
            "children": [
              "IPY_MODEL_07d0e1a49c804be5b8ce8a16ab9ed503",
              "IPY_MODEL_eebb51f343c646b7b6898588294ab459",
              "IPY_MODEL_3200c51ea4cf4d268f4a6742e4969cb7"
            ],
            "layout": "IPY_MODEL_3e3c261248f944ae8f287c895c48a585"
          }
        },
        "07d0e1a49c804be5b8ce8a16ab9ed503": {
          "model_module": "@jupyter-widgets/controls",
          "model_name": "HTMLModel",
          "model_module_version": "1.5.0",
          "state": {
            "_dom_classes": [],
            "_model_module": "@jupyter-widgets/controls",
            "_model_module_version": "1.5.0",
            "_model_name": "HTMLModel",
            "_view_count": null,
            "_view_module": "@jupyter-widgets/controls",
            "_view_module_version": "1.5.0",
            "_view_name": "HTMLView",
            "description": "",
            "description_tooltip": null,
            "layout": "IPY_MODEL_37ffcc99accd43f599c7432a3925adc7",
            "placeholder": "​",
            "style": "IPY_MODEL_57d09fd59d2a482f85202002fed4218c",
            "value": "tokenizer.json: 100%"
          }
        },
        "eebb51f343c646b7b6898588294ab459": {
          "model_module": "@jupyter-widgets/controls",
          "model_name": "FloatProgressModel",
          "model_module_version": "1.5.0",
          "state": {
            "_dom_classes": [],
            "_model_module": "@jupyter-widgets/controls",
            "_model_module_version": "1.5.0",
            "_model_name": "FloatProgressModel",
            "_view_count": null,
            "_view_module": "@jupyter-widgets/controls",
            "_view_module_version": "1.5.0",
            "_view_name": "ProgressView",
            "bar_style": "success",
            "description": "",
            "description_tooltip": null,
            "layout": "IPY_MODEL_5f1fbb745bda421391700cd8409815c0",
            "max": 2140013,
            "min": 0,
            "orientation": "horizontal",
            "style": "IPY_MODEL_b69c41fbecce42ddb9287a618754a1cc",
            "value": 2140013
          }
        },
        "3200c51ea4cf4d268f4a6742e4969cb7": {
          "model_module": "@jupyter-widgets/controls",
          "model_name": "HTMLModel",
          "model_module_version": "1.5.0",
          "state": {
            "_dom_classes": [],
            "_model_module": "@jupyter-widgets/controls",
            "_model_module_version": "1.5.0",
            "_model_name": "HTMLModel",
            "_view_count": null,
            "_view_module": "@jupyter-widgets/controls",
            "_view_module_version": "1.5.0",
            "_view_name": "HTMLView",
            "description": "",
            "description_tooltip": null,
            "layout": "IPY_MODEL_344013d09c8644be889576adabfee1fb",
            "placeholder": "​",
            "style": "IPY_MODEL_ae83093bdd8d4efdbe3f9949753e8e1e",
            "value": " 2.14M/2.14M [00:00&lt;00:00, 16.5MB/s]"
          }
        },
        "3e3c261248f944ae8f287c895c48a585": {
          "model_module": "@jupyter-widgets/base",
          "model_name": "LayoutModel",
          "model_module_version": "1.2.0",
          "state": {
            "_model_module": "@jupyter-widgets/base",
            "_model_module_version": "1.2.0",
            "_model_name": "LayoutModel",
            "_view_count": null,
            "_view_module": "@jupyter-widgets/base",
            "_view_module_version": "1.2.0",
            "_view_name": "LayoutView",
            "align_content": null,
            "align_items": null,
            "align_self": null,
            "border": null,
            "bottom": null,
            "display": null,
            "flex": null,
            "flex_flow": null,
            "grid_area": null,
            "grid_auto_columns": null,
            "grid_auto_flow": null,
            "grid_auto_rows": null,
            "grid_column": null,
            "grid_gap": null,
            "grid_row": null,
            "grid_template_areas": null,
            "grid_template_columns": null,
            "grid_template_rows": null,
            "height": null,
            "justify_content": null,
            "justify_items": null,
            "left": null,
            "margin": null,
            "max_height": null,
            "max_width": null,
            "min_height": null,
            "min_width": null,
            "object_fit": null,
            "object_position": null,
            "order": null,
            "overflow": null,
            "overflow_x": null,
            "overflow_y": null,
            "padding": null,
            "right": null,
            "top": null,
            "visibility": null,
            "width": null
          }
        },
        "37ffcc99accd43f599c7432a3925adc7": {
          "model_module": "@jupyter-widgets/base",
          "model_name": "LayoutModel",
          "model_module_version": "1.2.0",
          "state": {
            "_model_module": "@jupyter-widgets/base",
            "_model_module_version": "1.2.0",
            "_model_name": "LayoutModel",
            "_view_count": null,
            "_view_module": "@jupyter-widgets/base",
            "_view_module_version": "1.2.0",
            "_view_name": "LayoutView",
            "align_content": null,
            "align_items": null,
            "align_self": null,
            "border": null,
            "bottom": null,
            "display": null,
            "flex": null,
            "flex_flow": null,
            "grid_area": null,
            "grid_auto_columns": null,
            "grid_auto_flow": null,
            "grid_auto_rows": null,
            "grid_column": null,
            "grid_gap": null,
            "grid_row": null,
            "grid_template_areas": null,
            "grid_template_columns": null,
            "grid_template_rows": null,
            "height": null,
            "justify_content": null,
            "justify_items": null,
            "left": null,
            "margin": null,
            "max_height": null,
            "max_width": null,
            "min_height": null,
            "min_width": null,
            "object_fit": null,
            "object_position": null,
            "order": null,
            "overflow": null,
            "overflow_x": null,
            "overflow_y": null,
            "padding": null,
            "right": null,
            "top": null,
            "visibility": null,
            "width": null
          }
        },
        "57d09fd59d2a482f85202002fed4218c": {
          "model_module": "@jupyter-widgets/controls",
          "model_name": "DescriptionStyleModel",
          "model_module_version": "1.5.0",
          "state": {
            "_model_module": "@jupyter-widgets/controls",
            "_model_module_version": "1.5.0",
            "_model_name": "DescriptionStyleModel",
            "_view_count": null,
            "_view_module": "@jupyter-widgets/base",
            "_view_module_version": "1.2.0",
            "_view_name": "StyleView",
            "description_width": ""
          }
        },
        "5f1fbb745bda421391700cd8409815c0": {
          "model_module": "@jupyter-widgets/base",
          "model_name": "LayoutModel",
          "model_module_version": "1.2.0",
          "state": {
            "_model_module": "@jupyter-widgets/base",
            "_model_module_version": "1.2.0",
            "_model_name": "LayoutModel",
            "_view_count": null,
            "_view_module": "@jupyter-widgets/base",
            "_view_module_version": "1.2.0",
            "_view_name": "LayoutView",
            "align_content": null,
            "align_items": null,
            "align_self": null,
            "border": null,
            "bottom": null,
            "display": null,
            "flex": null,
            "flex_flow": null,
            "grid_area": null,
            "grid_auto_columns": null,
            "grid_auto_flow": null,
            "grid_auto_rows": null,
            "grid_column": null,
            "grid_gap": null,
            "grid_row": null,
            "grid_template_areas": null,
            "grid_template_columns": null,
            "grid_template_rows": null,
            "height": null,
            "justify_content": null,
            "justify_items": null,
            "left": null,
            "margin": null,
            "max_height": null,
            "max_width": null,
            "min_height": null,
            "min_width": null,
            "object_fit": null,
            "object_position": null,
            "order": null,
            "overflow": null,
            "overflow_x": null,
            "overflow_y": null,
            "padding": null,
            "right": null,
            "top": null,
            "visibility": null,
            "width": null
          }
        },
        "b69c41fbecce42ddb9287a618754a1cc": {
          "model_module": "@jupyter-widgets/controls",
          "model_name": "ProgressStyleModel",
          "model_module_version": "1.5.0",
          "state": {
            "_model_module": "@jupyter-widgets/controls",
            "_model_module_version": "1.5.0",
            "_model_name": "ProgressStyleModel",
            "_view_count": null,
            "_view_module": "@jupyter-widgets/base",
            "_view_module_version": "1.2.0",
            "_view_name": "StyleView",
            "bar_color": null,
            "description_width": ""
          }
        },
        "344013d09c8644be889576adabfee1fb": {
          "model_module": "@jupyter-widgets/base",
          "model_name": "LayoutModel",
          "model_module_version": "1.2.0",
          "state": {
            "_model_module": "@jupyter-widgets/base",
            "_model_module_version": "1.2.0",
            "_model_name": "LayoutModel",
            "_view_count": null,
            "_view_module": "@jupyter-widgets/base",
            "_view_module_version": "1.2.0",
            "_view_name": "LayoutView",
            "align_content": null,
            "align_items": null,
            "align_self": null,
            "border": null,
            "bottom": null,
            "display": null,
            "flex": null,
            "flex_flow": null,
            "grid_area": null,
            "grid_auto_columns": null,
            "grid_auto_flow": null,
            "grid_auto_rows": null,
            "grid_column": null,
            "grid_gap": null,
            "grid_row": null,
            "grid_template_areas": null,
            "grid_template_columns": null,
            "grid_template_rows": null,
            "height": null,
            "justify_content": null,
            "justify_items": null,
            "left": null,
            "margin": null,
            "max_height": null,
            "max_width": null,
            "min_height": null,
            "min_width": null,
            "object_fit": null,
            "object_position": null,
            "order": null,
            "overflow": null,
            "overflow_x": null,
            "overflow_y": null,
            "padding": null,
            "right": null,
            "top": null,
            "visibility": null,
            "width": null
          }
        },
        "ae83093bdd8d4efdbe3f9949753e8e1e": {
          "model_module": "@jupyter-widgets/controls",
          "model_name": "DescriptionStyleModel",
          "model_module_version": "1.5.0",
          "state": {
            "_model_module": "@jupyter-widgets/controls",
            "_model_module_version": "1.5.0",
            "_model_name": "DescriptionStyleModel",
            "_view_count": null,
            "_view_module": "@jupyter-widgets/base",
            "_view_module_version": "1.2.0",
            "_view_name": "StyleView",
            "description_width": ""
          }
        },
        "4bcdef709f11476dbeaf8f2905dc604e": {
          "model_module": "@jupyter-widgets/controls",
          "model_name": "HBoxModel",
          "model_module_version": "1.5.0",
          "state": {
            "_dom_classes": [],
            "_model_module": "@jupyter-widgets/controls",
            "_model_module_version": "1.5.0",
            "_model_name": "HBoxModel",
            "_view_count": null,
            "_view_module": "@jupyter-widgets/controls",
            "_view_module_version": "1.5.0",
            "_view_name": "HBoxView",
            "box_style": "",
            "children": [
              "IPY_MODEL_95121f0ae8ae4b09b484797f098ac1ae",
              "IPY_MODEL_65dfd365ef93439592c0490ef59743fd",
              "IPY_MODEL_b21d42623d69424fa35e94eb04515a30"
            ],
            "layout": "IPY_MODEL_b5c36be324da4711bb9fc5f7e557a677"
          }
        },
        "95121f0ae8ae4b09b484797f098ac1ae": {
          "model_module": "@jupyter-widgets/controls",
          "model_name": "HTMLModel",
          "model_module_version": "1.5.0",
          "state": {
            "_dom_classes": [],
            "_model_module": "@jupyter-widgets/controls",
            "_model_module_version": "1.5.0",
            "_model_name": "HTMLModel",
            "_view_count": null,
            "_view_module": "@jupyter-widgets/controls",
            "_view_module_version": "1.5.0",
            "_view_name": "HTMLView",
            "description": "",
            "description_tooltip": null,
            "layout": "IPY_MODEL_8c93ed0287854281ac5732ab5595d18d",
            "placeholder": "​",
            "style": "IPY_MODEL_a4f4a02c3eb44a319c956f15412dae08",
            "value": "special_tokens_map.json: 100%"
          }
        },
        "65dfd365ef93439592c0490ef59743fd": {
          "model_module": "@jupyter-widgets/controls",
          "model_name": "FloatProgressModel",
          "model_module_version": "1.5.0",
          "state": {
            "_dom_classes": [],
            "_model_module": "@jupyter-widgets/controls",
            "_model_module_version": "1.5.0",
            "_model_name": "FloatProgressModel",
            "_view_count": null,
            "_view_module": "@jupyter-widgets/controls",
            "_view_module_version": "1.5.0",
            "_view_name": "ProgressView",
            "bar_style": "success",
            "description": "",
            "description_tooltip": null,
            "layout": "IPY_MODEL_29fcae7b1ff240ebb656111cd68feabe",
            "max": 96,
            "min": 0,
            "orientation": "horizontal",
            "style": "IPY_MODEL_141a868e76464952a1516136796a3d0b",
            "value": 96
          }
        },
        "b21d42623d69424fa35e94eb04515a30": {
          "model_module": "@jupyter-widgets/controls",
          "model_name": "HTMLModel",
          "model_module_version": "1.5.0",
          "state": {
            "_dom_classes": [],
            "_model_module": "@jupyter-widgets/controls",
            "_model_module_version": "1.5.0",
            "_model_name": "HTMLModel",
            "_view_count": null,
            "_view_module": "@jupyter-widgets/controls",
            "_view_module_version": "1.5.0",
            "_view_name": "HTMLView",
            "description": "",
            "description_tooltip": null,
            "layout": "IPY_MODEL_9e9d883f5ada44ec9b573567db90b364",
            "placeholder": "​",
            "style": "IPY_MODEL_b903e9e1900a44c1953e165727324387",
            "value": " 96.0/96.0 [00:00&lt;00:00, 1.79kB/s]"
          }
        },
        "b5c36be324da4711bb9fc5f7e557a677": {
          "model_module": "@jupyter-widgets/base",
          "model_name": "LayoutModel",
          "model_module_version": "1.2.0",
          "state": {
            "_model_module": "@jupyter-widgets/base",
            "_model_module_version": "1.2.0",
            "_model_name": "LayoutModel",
            "_view_count": null,
            "_view_module": "@jupyter-widgets/base",
            "_view_module_version": "1.2.0",
            "_view_name": "LayoutView",
            "align_content": null,
            "align_items": null,
            "align_self": null,
            "border": null,
            "bottom": null,
            "display": null,
            "flex": null,
            "flex_flow": null,
            "grid_area": null,
            "grid_auto_columns": null,
            "grid_auto_flow": null,
            "grid_auto_rows": null,
            "grid_column": null,
            "grid_gap": null,
            "grid_row": null,
            "grid_template_areas": null,
            "grid_template_columns": null,
            "grid_template_rows": null,
            "height": null,
            "justify_content": null,
            "justify_items": null,
            "left": null,
            "margin": null,
            "max_height": null,
            "max_width": null,
            "min_height": null,
            "min_width": null,
            "object_fit": null,
            "object_position": null,
            "order": null,
            "overflow": null,
            "overflow_x": null,
            "overflow_y": null,
            "padding": null,
            "right": null,
            "top": null,
            "visibility": null,
            "width": null
          }
        },
        "8c93ed0287854281ac5732ab5595d18d": {
          "model_module": "@jupyter-widgets/base",
          "model_name": "LayoutModel",
          "model_module_version": "1.2.0",
          "state": {
            "_model_module": "@jupyter-widgets/base",
            "_model_module_version": "1.2.0",
            "_model_name": "LayoutModel",
            "_view_count": null,
            "_view_module": "@jupyter-widgets/base",
            "_view_module_version": "1.2.0",
            "_view_name": "LayoutView",
            "align_content": null,
            "align_items": null,
            "align_self": null,
            "border": null,
            "bottom": null,
            "display": null,
            "flex": null,
            "flex_flow": null,
            "grid_area": null,
            "grid_auto_columns": null,
            "grid_auto_flow": null,
            "grid_auto_rows": null,
            "grid_column": null,
            "grid_gap": null,
            "grid_row": null,
            "grid_template_areas": null,
            "grid_template_columns": null,
            "grid_template_rows": null,
            "height": null,
            "justify_content": null,
            "justify_items": null,
            "left": null,
            "margin": null,
            "max_height": null,
            "max_width": null,
            "min_height": null,
            "min_width": null,
            "object_fit": null,
            "object_position": null,
            "order": null,
            "overflow": null,
            "overflow_x": null,
            "overflow_y": null,
            "padding": null,
            "right": null,
            "top": null,
            "visibility": null,
            "width": null
          }
        },
        "a4f4a02c3eb44a319c956f15412dae08": {
          "model_module": "@jupyter-widgets/controls",
          "model_name": "DescriptionStyleModel",
          "model_module_version": "1.5.0",
          "state": {
            "_model_module": "@jupyter-widgets/controls",
            "_model_module_version": "1.5.0",
            "_model_name": "DescriptionStyleModel",
            "_view_count": null,
            "_view_module": "@jupyter-widgets/base",
            "_view_module_version": "1.2.0",
            "_view_name": "StyleView",
            "description_width": ""
          }
        },
        "29fcae7b1ff240ebb656111cd68feabe": {
          "model_module": "@jupyter-widgets/base",
          "model_name": "LayoutModel",
          "model_module_version": "1.2.0",
          "state": {
            "_model_module": "@jupyter-widgets/base",
            "_model_module_version": "1.2.0",
            "_model_name": "LayoutModel",
            "_view_count": null,
            "_view_module": "@jupyter-widgets/base",
            "_view_module_version": "1.2.0",
            "_view_name": "LayoutView",
            "align_content": null,
            "align_items": null,
            "align_self": null,
            "border": null,
            "bottom": null,
            "display": null,
            "flex": null,
            "flex_flow": null,
            "grid_area": null,
            "grid_auto_columns": null,
            "grid_auto_flow": null,
            "grid_auto_rows": null,
            "grid_column": null,
            "grid_gap": null,
            "grid_row": null,
            "grid_template_areas": null,
            "grid_template_columns": null,
            "grid_template_rows": null,
            "height": null,
            "justify_content": null,
            "justify_items": null,
            "left": null,
            "margin": null,
            "max_height": null,
            "max_width": null,
            "min_height": null,
            "min_width": null,
            "object_fit": null,
            "object_position": null,
            "order": null,
            "overflow": null,
            "overflow_x": null,
            "overflow_y": null,
            "padding": null,
            "right": null,
            "top": null,
            "visibility": null,
            "width": null
          }
        },
        "141a868e76464952a1516136796a3d0b": {
          "model_module": "@jupyter-widgets/controls",
          "model_name": "ProgressStyleModel",
          "model_module_version": "1.5.0",
          "state": {
            "_model_module": "@jupyter-widgets/controls",
            "_model_module_version": "1.5.0",
            "_model_name": "ProgressStyleModel",
            "_view_count": null,
            "_view_module": "@jupyter-widgets/base",
            "_view_module_version": "1.2.0",
            "_view_name": "StyleView",
            "bar_color": null,
            "description_width": ""
          }
        },
        "9e9d883f5ada44ec9b573567db90b364": {
          "model_module": "@jupyter-widgets/base",
          "model_name": "LayoutModel",
          "model_module_version": "1.2.0",
          "state": {
            "_model_module": "@jupyter-widgets/base",
            "_model_module_version": "1.2.0",
            "_model_name": "LayoutModel",
            "_view_count": null,
            "_view_module": "@jupyter-widgets/base",
            "_view_module_version": "1.2.0",
            "_view_name": "LayoutView",
            "align_content": null,
            "align_items": null,
            "align_self": null,
            "border": null,
            "bottom": null,
            "display": null,
            "flex": null,
            "flex_flow": null,
            "grid_area": null,
            "grid_auto_columns": null,
            "grid_auto_flow": null,
            "grid_auto_rows": null,
            "grid_column": null,
            "grid_gap": null,
            "grid_row": null,
            "grid_template_areas": null,
            "grid_template_columns": null,
            "grid_template_rows": null,
            "height": null,
            "justify_content": null,
            "justify_items": null,
            "left": null,
            "margin": null,
            "max_height": null,
            "max_width": null,
            "min_height": null,
            "min_width": null,
            "object_fit": null,
            "object_position": null,
            "order": null,
            "overflow": null,
            "overflow_x": null,
            "overflow_y": null,
            "padding": null,
            "right": null,
            "top": null,
            "visibility": null,
            "width": null
          }
        },
        "b903e9e1900a44c1953e165727324387": {
          "model_module": "@jupyter-widgets/controls",
          "model_name": "DescriptionStyleModel",
          "model_module_version": "1.5.0",
          "state": {
            "_model_module": "@jupyter-widgets/controls",
            "_model_module_version": "1.5.0",
            "_model_name": "DescriptionStyleModel",
            "_view_count": null,
            "_view_module": "@jupyter-widgets/base",
            "_view_module_version": "1.2.0",
            "_view_name": "StyleView",
            "description_width": ""
          }
        },
        "9d72579e73194c1382c05e3f0e70dbe7": {
          "model_module": "@jupyter-widgets/controls",
          "model_name": "HBoxModel",
          "model_module_version": "1.5.0",
          "state": {
            "_dom_classes": [],
            "_model_module": "@jupyter-widgets/controls",
            "_model_module_version": "1.5.0",
            "_model_name": "HBoxModel",
            "_view_count": null,
            "_view_module": "@jupyter-widgets/controls",
            "_view_module_version": "1.5.0",
            "_view_name": "HBoxView",
            "box_style": "",
            "children": [
              "IPY_MODEL_c2aa8f1b8b8c4281bce091507c0a8dc3",
              "IPY_MODEL_983516f15a8d4487899de7c712f6c9c3",
              "IPY_MODEL_ae98848382b94eaab39ee23e18076e93"
            ],
            "layout": "IPY_MODEL_63f1a40038f14a178248f4fb60b21695"
          }
        },
        "c2aa8f1b8b8c4281bce091507c0a8dc3": {
          "model_module": "@jupyter-widgets/controls",
          "model_name": "HTMLModel",
          "model_module_version": "1.5.0",
          "state": {
            "_dom_classes": [],
            "_model_module": "@jupyter-widgets/controls",
            "_model_module_version": "1.5.0",
            "_model_name": "HTMLModel",
            "_view_count": null,
            "_view_module": "@jupyter-widgets/controls",
            "_view_module_version": "1.5.0",
            "_view_name": "HTMLView",
            "description": "",
            "description_tooltip": null,
            "layout": "IPY_MODEL_408b512d32bb4e60affa1da0dbd16042",
            "placeholder": "​",
            "style": "IPY_MODEL_f8760ba252dd49fea664ea240b806013",
            "value": "config.json: 100%"
          }
        },
        "983516f15a8d4487899de7c712f6c9c3": {
          "model_module": "@jupyter-widgets/controls",
          "model_name": "FloatProgressModel",
          "model_module_version": "1.5.0",
          "state": {
            "_dom_classes": [],
            "_model_module": "@jupyter-widgets/controls",
            "_model_module_version": "1.5.0",
            "_model_name": "FloatProgressModel",
            "_view_count": null,
            "_view_module": "@jupyter-widgets/controls",
            "_view_module_version": "1.5.0",
            "_view_name": "ProgressView",
            "bar_style": "success",
            "description": "",
            "description_tooltip": null,
            "layout": "IPY_MODEL_80b10a83d2f849db82209bf04604432c",
            "max": 4768,
            "min": 0,
            "orientation": "horizontal",
            "style": "IPY_MODEL_6995f06f31ee4819b8189bcb6af08db3",
            "value": 4768
          }
        },
        "ae98848382b94eaab39ee23e18076e93": {
          "model_module": "@jupyter-widgets/controls",
          "model_name": "HTMLModel",
          "model_module_version": "1.5.0",
          "state": {
            "_dom_classes": [],
            "_model_module": "@jupyter-widgets/controls",
            "_model_module_version": "1.5.0",
            "_model_name": "HTMLModel",
            "_view_count": null,
            "_view_module": "@jupyter-widgets/controls",
            "_view_module_version": "1.5.0",
            "_view_name": "HTMLView",
            "description": "",
            "description_tooltip": null,
            "layout": "IPY_MODEL_1c3f1a0d630e4bfe8c2816cc7e8a5ef2",
            "placeholder": "​",
            "style": "IPY_MODEL_7ee0ddb94c5c410db9ab9105acfa640b",
            "value": " 4.77k/4.77k [00:00&lt;00:00, 142kB/s]"
          }
        },
        "63f1a40038f14a178248f4fb60b21695": {
          "model_module": "@jupyter-widgets/base",
          "model_name": "LayoutModel",
          "model_module_version": "1.2.0",
          "state": {
            "_model_module": "@jupyter-widgets/base",
            "_model_module_version": "1.2.0",
            "_model_name": "LayoutModel",
            "_view_count": null,
            "_view_module": "@jupyter-widgets/base",
            "_view_module_version": "1.2.0",
            "_view_name": "LayoutView",
            "align_content": null,
            "align_items": null,
            "align_self": null,
            "border": null,
            "bottom": null,
            "display": null,
            "flex": null,
            "flex_flow": null,
            "grid_area": null,
            "grid_auto_columns": null,
            "grid_auto_flow": null,
            "grid_auto_rows": null,
            "grid_column": null,
            "grid_gap": null,
            "grid_row": null,
            "grid_template_areas": null,
            "grid_template_columns": null,
            "grid_template_rows": null,
            "height": null,
            "justify_content": null,
            "justify_items": null,
            "left": null,
            "margin": null,
            "max_height": null,
            "max_width": null,
            "min_height": null,
            "min_width": null,
            "object_fit": null,
            "object_position": null,
            "order": null,
            "overflow": null,
            "overflow_x": null,
            "overflow_y": null,
            "padding": null,
            "right": null,
            "top": null,
            "visibility": null,
            "width": null
          }
        },
        "408b512d32bb4e60affa1da0dbd16042": {
          "model_module": "@jupyter-widgets/base",
          "model_name": "LayoutModel",
          "model_module_version": "1.2.0",
          "state": {
            "_model_module": "@jupyter-widgets/base",
            "_model_module_version": "1.2.0",
            "_model_name": "LayoutModel",
            "_view_count": null,
            "_view_module": "@jupyter-widgets/base",
            "_view_module_version": "1.2.0",
            "_view_name": "LayoutView",
            "align_content": null,
            "align_items": null,
            "align_self": null,
            "border": null,
            "bottom": null,
            "display": null,
            "flex": null,
            "flex_flow": null,
            "grid_area": null,
            "grid_auto_columns": null,
            "grid_auto_flow": null,
            "grid_auto_rows": null,
            "grid_column": null,
            "grid_gap": null,
            "grid_row": null,
            "grid_template_areas": null,
            "grid_template_columns": null,
            "grid_template_rows": null,
            "height": null,
            "justify_content": null,
            "justify_items": null,
            "left": null,
            "margin": null,
            "max_height": null,
            "max_width": null,
            "min_height": null,
            "min_width": null,
            "object_fit": null,
            "object_position": null,
            "order": null,
            "overflow": null,
            "overflow_x": null,
            "overflow_y": null,
            "padding": null,
            "right": null,
            "top": null,
            "visibility": null,
            "width": null
          }
        },
        "f8760ba252dd49fea664ea240b806013": {
          "model_module": "@jupyter-widgets/controls",
          "model_name": "DescriptionStyleModel",
          "model_module_version": "1.5.0",
          "state": {
            "_model_module": "@jupyter-widgets/controls",
            "_model_module_version": "1.5.0",
            "_model_name": "DescriptionStyleModel",
            "_view_count": null,
            "_view_module": "@jupyter-widgets/base",
            "_view_module_version": "1.2.0",
            "_view_name": "StyleView",
            "description_width": ""
          }
        },
        "80b10a83d2f849db82209bf04604432c": {
          "model_module": "@jupyter-widgets/base",
          "model_name": "LayoutModel",
          "model_module_version": "1.2.0",
          "state": {
            "_model_module": "@jupyter-widgets/base",
            "_model_module_version": "1.2.0",
            "_model_name": "LayoutModel",
            "_view_count": null,
            "_view_module": "@jupyter-widgets/base",
            "_view_module_version": "1.2.0",
            "_view_name": "LayoutView",
            "align_content": null,
            "align_items": null,
            "align_self": null,
            "border": null,
            "bottom": null,
            "display": null,
            "flex": null,
            "flex_flow": null,
            "grid_area": null,
            "grid_auto_columns": null,
            "grid_auto_flow": null,
            "grid_auto_rows": null,
            "grid_column": null,
            "grid_gap": null,
            "grid_row": null,
            "grid_template_areas": null,
            "grid_template_columns": null,
            "grid_template_rows": null,
            "height": null,
            "justify_content": null,
            "justify_items": null,
            "left": null,
            "margin": null,
            "max_height": null,
            "max_width": null,
            "min_height": null,
            "min_width": null,
            "object_fit": null,
            "object_position": null,
            "order": null,
            "overflow": null,
            "overflow_x": null,
            "overflow_y": null,
            "padding": null,
            "right": null,
            "top": null,
            "visibility": null,
            "width": null
          }
        },
        "6995f06f31ee4819b8189bcb6af08db3": {
          "model_module": "@jupyter-widgets/controls",
          "model_name": "ProgressStyleModel",
          "model_module_version": "1.5.0",
          "state": {
            "_model_module": "@jupyter-widgets/controls",
            "_model_module_version": "1.5.0",
            "_model_name": "ProgressStyleModel",
            "_view_count": null,
            "_view_module": "@jupyter-widgets/base",
            "_view_module_version": "1.2.0",
            "_view_name": "StyleView",
            "bar_color": null,
            "description_width": ""
          }
        },
        "1c3f1a0d630e4bfe8c2816cc7e8a5ef2": {
          "model_module": "@jupyter-widgets/base",
          "model_name": "LayoutModel",
          "model_module_version": "1.2.0",
          "state": {
            "_model_module": "@jupyter-widgets/base",
            "_model_module_version": "1.2.0",
            "_model_name": "LayoutModel",
            "_view_count": null,
            "_view_module": "@jupyter-widgets/base",
            "_view_module_version": "1.2.0",
            "_view_name": "LayoutView",
            "align_content": null,
            "align_items": null,
            "align_self": null,
            "border": null,
            "bottom": null,
            "display": null,
            "flex": null,
            "flex_flow": null,
            "grid_area": null,
            "grid_auto_columns": null,
            "grid_auto_flow": null,
            "grid_auto_rows": null,
            "grid_column": null,
            "grid_gap": null,
            "grid_row": null,
            "grid_template_areas": null,
            "grid_template_columns": null,
            "grid_template_rows": null,
            "height": null,
            "justify_content": null,
            "justify_items": null,
            "left": null,
            "margin": null,
            "max_height": null,
            "max_width": null,
            "min_height": null,
            "min_width": null,
            "object_fit": null,
            "object_position": null,
            "order": null,
            "overflow": null,
            "overflow_x": null,
            "overflow_y": null,
            "padding": null,
            "right": null,
            "top": null,
            "visibility": null,
            "width": null
          }
        },
        "7ee0ddb94c5c410db9ab9105acfa640b": {
          "model_module": "@jupyter-widgets/controls",
          "model_name": "DescriptionStyleModel",
          "model_module_version": "1.5.0",
          "state": {
            "_model_module": "@jupyter-widgets/controls",
            "_model_module_version": "1.5.0",
            "_model_name": "DescriptionStyleModel",
            "_view_count": null,
            "_view_module": "@jupyter-widgets/base",
            "_view_module_version": "1.2.0",
            "_view_name": "StyleView",
            "description_width": ""
          }
        },
        "c96780dc743c439b8c14f23dad7afa5b": {
          "model_module": "@jupyter-widgets/controls",
          "model_name": "HBoxModel",
          "model_module_version": "1.5.0",
          "state": {
            "_dom_classes": [],
            "_model_module": "@jupyter-widgets/controls",
            "_model_module_version": "1.5.0",
            "_model_name": "HBoxModel",
            "_view_count": null,
            "_view_module": "@jupyter-widgets/controls",
            "_view_module_version": "1.5.0",
            "_view_name": "HBoxView",
            "box_style": "",
            "children": [
              "IPY_MODEL_72debfd7c68e49c1a93ae458092f8b6f",
              "IPY_MODEL_c25d126efe38491893554967dfc86fa2",
              "IPY_MODEL_fda91b7daac44c0a9c0499f03c0b1e8d"
            ],
            "layout": "IPY_MODEL_e786b969156449e4bf523f94f6975d7f"
          }
        },
        "72debfd7c68e49c1a93ae458092f8b6f": {
          "model_module": "@jupyter-widgets/controls",
          "model_name": "HTMLModel",
          "model_module_version": "1.5.0",
          "state": {
            "_dom_classes": [],
            "_model_module": "@jupyter-widgets/controls",
            "_model_module_version": "1.5.0",
            "_model_name": "HTMLModel",
            "_view_count": null,
            "_view_module": "@jupyter-widgets/controls",
            "_view_module_version": "1.5.0",
            "_view_name": "HTMLView",
            "description": "",
            "description_tooltip": null,
            "layout": "IPY_MODEL_6694669d75cb4cad92af6844e9d6905b",
            "placeholder": "​",
            "style": "IPY_MODEL_4737c7e72d3a4d0e87839e2664dead11",
            "value": "model.safetensors: 100%"
          }
        },
        "c25d126efe38491893554967dfc86fa2": {
          "model_module": "@jupyter-widgets/controls",
          "model_name": "FloatProgressModel",
          "model_module_version": "1.5.0",
          "state": {
            "_dom_classes": [],
            "_model_module": "@jupyter-widgets/controls",
            "_model_module_version": "1.5.0",
            "_model_name": "FloatProgressModel",
            "_view_count": null,
            "_view_module": "@jupyter-widgets/controls",
            "_view_module_version": "1.5.0",
            "_view_name": "ProgressView",
            "bar_style": "success",
            "description": "",
            "description_tooltip": null,
            "layout": "IPY_MODEL_76d558f4643049f295773db1722a5a85",
            "max": 989981536,
            "min": 0,
            "orientation": "horizontal",
            "style": "IPY_MODEL_030698341f974e8ba9e24126afff4a34",
            "value": 989981536
          }
        },
        "fda91b7daac44c0a9c0499f03c0b1e8d": {
          "model_module": "@jupyter-widgets/controls",
          "model_name": "HTMLModel",
          "model_module_version": "1.5.0",
          "state": {
            "_dom_classes": [],
            "_model_module": "@jupyter-widgets/controls",
            "_model_module_version": "1.5.0",
            "_model_name": "HTMLModel",
            "_view_count": null,
            "_view_module": "@jupyter-widgets/controls",
            "_view_module_version": "1.5.0",
            "_view_name": "HTMLView",
            "description": "",
            "description_tooltip": null,
            "layout": "IPY_MODEL_35b05f3bae5246a9871a42208efd5591",
            "placeholder": "​",
            "style": "IPY_MODEL_629c9619bc7e4ad38aa105b53e738cdf",
            "value": " 990M/990M [00:12&lt;00:00, 126MB/s]"
          }
        },
        "e786b969156449e4bf523f94f6975d7f": {
          "model_module": "@jupyter-widgets/base",
          "model_name": "LayoutModel",
          "model_module_version": "1.2.0",
          "state": {
            "_model_module": "@jupyter-widgets/base",
            "_model_module_version": "1.2.0",
            "_model_name": "LayoutModel",
            "_view_count": null,
            "_view_module": "@jupyter-widgets/base",
            "_view_module_version": "1.2.0",
            "_view_name": "LayoutView",
            "align_content": null,
            "align_items": null,
            "align_self": null,
            "border": null,
            "bottom": null,
            "display": null,
            "flex": null,
            "flex_flow": null,
            "grid_area": null,
            "grid_auto_columns": null,
            "grid_auto_flow": null,
            "grid_auto_rows": null,
            "grid_column": null,
            "grid_gap": null,
            "grid_row": null,
            "grid_template_areas": null,
            "grid_template_columns": null,
            "grid_template_rows": null,
            "height": null,
            "justify_content": null,
            "justify_items": null,
            "left": null,
            "margin": null,
            "max_height": null,
            "max_width": null,
            "min_height": null,
            "min_width": null,
            "object_fit": null,
            "object_position": null,
            "order": null,
            "overflow": null,
            "overflow_x": null,
            "overflow_y": null,
            "padding": null,
            "right": null,
            "top": null,
            "visibility": null,
            "width": null
          }
        },
        "6694669d75cb4cad92af6844e9d6905b": {
          "model_module": "@jupyter-widgets/base",
          "model_name": "LayoutModel",
          "model_module_version": "1.2.0",
          "state": {
            "_model_module": "@jupyter-widgets/base",
            "_model_module_version": "1.2.0",
            "_model_name": "LayoutModel",
            "_view_count": null,
            "_view_module": "@jupyter-widgets/base",
            "_view_module_version": "1.2.0",
            "_view_name": "LayoutView",
            "align_content": null,
            "align_items": null,
            "align_self": null,
            "border": null,
            "bottom": null,
            "display": null,
            "flex": null,
            "flex_flow": null,
            "grid_area": null,
            "grid_auto_columns": null,
            "grid_auto_flow": null,
            "grid_auto_rows": null,
            "grid_column": null,
            "grid_gap": null,
            "grid_row": null,
            "grid_template_areas": null,
            "grid_template_columns": null,
            "grid_template_rows": null,
            "height": null,
            "justify_content": null,
            "justify_items": null,
            "left": null,
            "margin": null,
            "max_height": null,
            "max_width": null,
            "min_height": null,
            "min_width": null,
            "object_fit": null,
            "object_position": null,
            "order": null,
            "overflow": null,
            "overflow_x": null,
            "overflow_y": null,
            "padding": null,
            "right": null,
            "top": null,
            "visibility": null,
            "width": null
          }
        },
        "4737c7e72d3a4d0e87839e2664dead11": {
          "model_module": "@jupyter-widgets/controls",
          "model_name": "DescriptionStyleModel",
          "model_module_version": "1.5.0",
          "state": {
            "_model_module": "@jupyter-widgets/controls",
            "_model_module_version": "1.5.0",
            "_model_name": "DescriptionStyleModel",
            "_view_count": null,
            "_view_module": "@jupyter-widgets/base",
            "_view_module_version": "1.2.0",
            "_view_name": "StyleView",
            "description_width": ""
          }
        },
        "76d558f4643049f295773db1722a5a85": {
          "model_module": "@jupyter-widgets/base",
          "model_name": "LayoutModel",
          "model_module_version": "1.2.0",
          "state": {
            "_model_module": "@jupyter-widgets/base",
            "_model_module_version": "1.2.0",
            "_model_name": "LayoutModel",
            "_view_count": null,
            "_view_module": "@jupyter-widgets/base",
            "_view_module_version": "1.2.0",
            "_view_name": "LayoutView",
            "align_content": null,
            "align_items": null,
            "align_self": null,
            "border": null,
            "bottom": null,
            "display": null,
            "flex": null,
            "flex_flow": null,
            "grid_area": null,
            "grid_auto_columns": null,
            "grid_auto_flow": null,
            "grid_auto_rows": null,
            "grid_column": null,
            "grid_gap": null,
            "grid_row": null,
            "grid_template_areas": null,
            "grid_template_columns": null,
            "grid_template_rows": null,
            "height": null,
            "justify_content": null,
            "justify_items": null,
            "left": null,
            "margin": null,
            "max_height": null,
            "max_width": null,
            "min_height": null,
            "min_width": null,
            "object_fit": null,
            "object_position": null,
            "order": null,
            "overflow": null,
            "overflow_x": null,
            "overflow_y": null,
            "padding": null,
            "right": null,
            "top": null,
            "visibility": null,
            "width": null
          }
        },
        "030698341f974e8ba9e24126afff4a34": {
          "model_module": "@jupyter-widgets/controls",
          "model_name": "ProgressStyleModel",
          "model_module_version": "1.5.0",
          "state": {
            "_model_module": "@jupyter-widgets/controls",
            "_model_module_version": "1.5.0",
            "_model_name": "ProgressStyleModel",
            "_view_count": null,
            "_view_module": "@jupyter-widgets/base",
            "_view_module_version": "1.2.0",
            "_view_name": "StyleView",
            "bar_color": null,
            "description_width": ""
          }
        },
        "35b05f3bae5246a9871a42208efd5591": {
          "model_module": "@jupyter-widgets/base",
          "model_name": "LayoutModel",
          "model_module_version": "1.2.0",
          "state": {
            "_model_module": "@jupyter-widgets/base",
            "_model_module_version": "1.2.0",
            "_model_name": "LayoutModel",
            "_view_count": null,
            "_view_module": "@jupyter-widgets/base",
            "_view_module_version": "1.2.0",
            "_view_name": "LayoutView",
            "align_content": null,
            "align_items": null,
            "align_self": null,
            "border": null,
            "bottom": null,
            "display": null,
            "flex": null,
            "flex_flow": null,
            "grid_area": null,
            "grid_auto_columns": null,
            "grid_auto_flow": null,
            "grid_auto_rows": null,
            "grid_column": null,
            "grid_gap": null,
            "grid_row": null,
            "grid_template_areas": null,
            "grid_template_columns": null,
            "grid_template_rows": null,
            "height": null,
            "justify_content": null,
            "justify_items": null,
            "left": null,
            "margin": null,
            "max_height": null,
            "max_width": null,
            "min_height": null,
            "min_width": null,
            "object_fit": null,
            "object_position": null,
            "order": null,
            "overflow": null,
            "overflow_x": null,
            "overflow_y": null,
            "padding": null,
            "right": null,
            "top": null,
            "visibility": null,
            "width": null
          }
        },
        "629c9619bc7e4ad38aa105b53e738cdf": {
          "model_module": "@jupyter-widgets/controls",
          "model_name": "DescriptionStyleModel",
          "model_module_version": "1.5.0",
          "state": {
            "_model_module": "@jupyter-widgets/controls",
            "_model_module_version": "1.5.0",
            "_model_name": "DescriptionStyleModel",
            "_view_count": null,
            "_view_module": "@jupyter-widgets/base",
            "_view_module_version": "1.2.0",
            "_view_name": "StyleView",
            "description_width": ""
          }
        },
        "e66792e2647441cb8e3a424bcf3a1f5d": {
          "model_module": "@jupyter-widgets/controls",
          "model_name": "HBoxModel",
          "model_module_version": "1.5.0",
          "state": {
            "_dom_classes": [],
            "_model_module": "@jupyter-widgets/controls",
            "_model_module_version": "1.5.0",
            "_model_name": "HBoxModel",
            "_view_count": null,
            "_view_module": "@jupyter-widgets/controls",
            "_view_module_version": "1.5.0",
            "_view_name": "HBoxView",
            "box_style": "",
            "children": [
              "IPY_MODEL_9eac30aba2754e52b2b2d1a24ee8a20a",
              "IPY_MODEL_fe3e8e12c8a445ca931658290b1e242b",
              "IPY_MODEL_e3dbf043bba246d9841b271b24a976b3"
            ],
            "layout": "IPY_MODEL_63e2208153804e44a2697591ea6f5997"
          }
        },
        "9eac30aba2754e52b2b2d1a24ee8a20a": {
          "model_module": "@jupyter-widgets/controls",
          "model_name": "HTMLModel",
          "model_module_version": "1.5.0",
          "state": {
            "_dom_classes": [],
            "_model_module": "@jupyter-widgets/controls",
            "_model_module_version": "1.5.0",
            "_model_name": "HTMLModel",
            "_view_count": null,
            "_view_module": "@jupyter-widgets/controls",
            "_view_module_version": "1.5.0",
            "_view_name": "HTMLView",
            "description": "",
            "description_tooltip": null,
            "layout": "IPY_MODEL_85cb9495b93d450b9dbe550bc4527015",
            "placeholder": "​",
            "style": "IPY_MODEL_e6d72773bfe04ac29652b8a75be316e2",
            "value": "generation_config.json: 100%"
          }
        },
        "fe3e8e12c8a445ca931658290b1e242b": {
          "model_module": "@jupyter-widgets/controls",
          "model_name": "FloatProgressModel",
          "model_module_version": "1.5.0",
          "state": {
            "_dom_classes": [],
            "_model_module": "@jupyter-widgets/controls",
            "_model_module_version": "1.5.0",
            "_model_name": "FloatProgressModel",
            "_view_count": null,
            "_view_module": "@jupyter-widgets/controls",
            "_view_module_version": "1.5.0",
            "_view_name": "ProgressView",
            "bar_style": "success",
            "description": "",
            "description_tooltip": null,
            "layout": "IPY_MODEL_01a75859021b4eab889d703274ad432b",
            "max": 165,
            "min": 0,
            "orientation": "horizontal",
            "style": "IPY_MODEL_e760f5c8981340c2bf720d4c6c1c5ada",
            "value": 165
          }
        },
        "e3dbf043bba246d9841b271b24a976b3": {
          "model_module": "@jupyter-widgets/controls",
          "model_name": "HTMLModel",
          "model_module_version": "1.5.0",
          "state": {
            "_dom_classes": [],
            "_model_module": "@jupyter-widgets/controls",
            "_model_module_version": "1.5.0",
            "_model_name": "HTMLModel",
            "_view_count": null,
            "_view_module": "@jupyter-widgets/controls",
            "_view_module_version": "1.5.0",
            "_view_name": "HTMLView",
            "description": "",
            "description_tooltip": null,
            "layout": "IPY_MODEL_22bb650e8fd8435e8862895646ca33f7",
            "placeholder": "​",
            "style": "IPY_MODEL_f15be06578f1442f9b61509f32f96d58",
            "value": " 165/165 [00:00&lt;00:00, 6.48kB/s]"
          }
        },
        "63e2208153804e44a2697591ea6f5997": {
          "model_module": "@jupyter-widgets/base",
          "model_name": "LayoutModel",
          "model_module_version": "1.2.0",
          "state": {
            "_model_module": "@jupyter-widgets/base",
            "_model_module_version": "1.2.0",
            "_model_name": "LayoutModel",
            "_view_count": null,
            "_view_module": "@jupyter-widgets/base",
            "_view_module_version": "1.2.0",
            "_view_name": "LayoutView",
            "align_content": null,
            "align_items": null,
            "align_self": null,
            "border": null,
            "bottom": null,
            "display": null,
            "flex": null,
            "flex_flow": null,
            "grid_area": null,
            "grid_auto_columns": null,
            "grid_auto_flow": null,
            "grid_auto_rows": null,
            "grid_column": null,
            "grid_gap": null,
            "grid_row": null,
            "grid_template_areas": null,
            "grid_template_columns": null,
            "grid_template_rows": null,
            "height": null,
            "justify_content": null,
            "justify_items": null,
            "left": null,
            "margin": null,
            "max_height": null,
            "max_width": null,
            "min_height": null,
            "min_width": null,
            "object_fit": null,
            "object_position": null,
            "order": null,
            "overflow": null,
            "overflow_x": null,
            "overflow_y": null,
            "padding": null,
            "right": null,
            "top": null,
            "visibility": null,
            "width": null
          }
        },
        "85cb9495b93d450b9dbe550bc4527015": {
          "model_module": "@jupyter-widgets/base",
          "model_name": "LayoutModel",
          "model_module_version": "1.2.0",
          "state": {
            "_model_module": "@jupyter-widgets/base",
            "_model_module_version": "1.2.0",
            "_model_name": "LayoutModel",
            "_view_count": null,
            "_view_module": "@jupyter-widgets/base",
            "_view_module_version": "1.2.0",
            "_view_name": "LayoutView",
            "align_content": null,
            "align_items": null,
            "align_self": null,
            "border": null,
            "bottom": null,
            "display": null,
            "flex": null,
            "flex_flow": null,
            "grid_area": null,
            "grid_auto_columns": null,
            "grid_auto_flow": null,
            "grid_auto_rows": null,
            "grid_column": null,
            "grid_gap": null,
            "grid_row": null,
            "grid_template_areas": null,
            "grid_template_columns": null,
            "grid_template_rows": null,
            "height": null,
            "justify_content": null,
            "justify_items": null,
            "left": null,
            "margin": null,
            "max_height": null,
            "max_width": null,
            "min_height": null,
            "min_width": null,
            "object_fit": null,
            "object_position": null,
            "order": null,
            "overflow": null,
            "overflow_x": null,
            "overflow_y": null,
            "padding": null,
            "right": null,
            "top": null,
            "visibility": null,
            "width": null
          }
        },
        "e6d72773bfe04ac29652b8a75be316e2": {
          "model_module": "@jupyter-widgets/controls",
          "model_name": "DescriptionStyleModel",
          "model_module_version": "1.5.0",
          "state": {
            "_model_module": "@jupyter-widgets/controls",
            "_model_module_version": "1.5.0",
            "_model_name": "DescriptionStyleModel",
            "_view_count": null,
            "_view_module": "@jupyter-widgets/base",
            "_view_module_version": "1.2.0",
            "_view_name": "StyleView",
            "description_width": ""
          }
        },
        "01a75859021b4eab889d703274ad432b": {
          "model_module": "@jupyter-widgets/base",
          "model_name": "LayoutModel",
          "model_module_version": "1.2.0",
          "state": {
            "_model_module": "@jupyter-widgets/base",
            "_model_module_version": "1.2.0",
            "_model_name": "LayoutModel",
            "_view_count": null,
            "_view_module": "@jupyter-widgets/base",
            "_view_module_version": "1.2.0",
            "_view_name": "LayoutView",
            "align_content": null,
            "align_items": null,
            "align_self": null,
            "border": null,
            "bottom": null,
            "display": null,
            "flex": null,
            "flex_flow": null,
            "grid_area": null,
            "grid_auto_columns": null,
            "grid_auto_flow": null,
            "grid_auto_rows": null,
            "grid_column": null,
            "grid_gap": null,
            "grid_row": null,
            "grid_template_areas": null,
            "grid_template_columns": null,
            "grid_template_rows": null,
            "height": null,
            "justify_content": null,
            "justify_items": null,
            "left": null,
            "margin": null,
            "max_height": null,
            "max_width": null,
            "min_height": null,
            "min_width": null,
            "object_fit": null,
            "object_position": null,
            "order": null,
            "overflow": null,
            "overflow_x": null,
            "overflow_y": null,
            "padding": null,
            "right": null,
            "top": null,
            "visibility": null,
            "width": null
          }
        },
        "e760f5c8981340c2bf720d4c6c1c5ada": {
          "model_module": "@jupyter-widgets/controls",
          "model_name": "ProgressStyleModel",
          "model_module_version": "1.5.0",
          "state": {
            "_model_module": "@jupyter-widgets/controls",
            "_model_module_version": "1.5.0",
            "_model_name": "ProgressStyleModel",
            "_view_count": null,
            "_view_module": "@jupyter-widgets/base",
            "_view_module_version": "1.2.0",
            "_view_name": "StyleView",
            "bar_color": null,
            "description_width": ""
          }
        },
        "22bb650e8fd8435e8862895646ca33f7": {
          "model_module": "@jupyter-widgets/base",
          "model_name": "LayoutModel",
          "model_module_version": "1.2.0",
          "state": {
            "_model_module": "@jupyter-widgets/base",
            "_model_module_version": "1.2.0",
            "_model_name": "LayoutModel",
            "_view_count": null,
            "_view_module": "@jupyter-widgets/base",
            "_view_module_version": "1.2.0",
            "_view_name": "LayoutView",
            "align_content": null,
            "align_items": null,
            "align_self": null,
            "border": null,
            "bottom": null,
            "display": null,
            "flex": null,
            "flex_flow": null,
            "grid_area": null,
            "grid_auto_columns": null,
            "grid_auto_flow": null,
            "grid_auto_rows": null,
            "grid_column": null,
            "grid_gap": null,
            "grid_row": null,
            "grid_template_areas": null,
            "grid_template_columns": null,
            "grid_template_rows": null,
            "height": null,
            "justify_content": null,
            "justify_items": null,
            "left": null,
            "margin": null,
            "max_height": null,
            "max_width": null,
            "min_height": null,
            "min_width": null,
            "object_fit": null,
            "object_position": null,
            "order": null,
            "overflow": null,
            "overflow_x": null,
            "overflow_y": null,
            "padding": null,
            "right": null,
            "top": null,
            "visibility": null,
            "width": null
          }
        },
        "f15be06578f1442f9b61509f32f96d58": {
          "model_module": "@jupyter-widgets/controls",
          "model_name": "DescriptionStyleModel",
          "model_module_version": "1.5.0",
          "state": {
            "_model_module": "@jupyter-widgets/controls",
            "_model_module_version": "1.5.0",
            "_model_name": "DescriptionStyleModel",
            "_view_count": null,
            "_view_module": "@jupyter-widgets/base",
            "_view_module_version": "1.2.0",
            "_view_name": "StyleView",
            "description_width": ""
          }
        }
      }
    }
  },
  "nbformat": 4,
  "nbformat_minor": 0
}