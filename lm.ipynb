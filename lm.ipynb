{
  "cells": [
    {
      "cell_type": "markdown",
      "metadata": {
        "colab_type": "text",
        "id": "view-in-github"
      },
      "source": [
        "<a href=\"https://colab.research.google.com/github/giuliocapecchi/LM-project/blob/main/lm.ipynb\" target=\"_parent\"><img src=\"https://colab.research.google.com/assets/colab-badge.svg\" alt=\"Open In Colab\"/></a>"
      ]
    },
    {
      "cell_type": "code",
      "execution_count": 13,
      "metadata": {},
      "outputs": [
        {
          "name": "stdout",
          "output_type": "stream",
          "text": [
            "Requirement already satisfied: torch in c:\\users\\jacop\\miniconda3\\envs\\mircv\\lib\\site-packages (2.5.1)Note: you may need to restart the kernel to use updated packages.\n",
            "\n",
            "Requirement already satisfied: huggingface_hub in c:\\users\\jacop\\miniconda3\\envs\\mircv\\lib\\site-packages (0.27.0)\n",
            "Requirement already satisfied: python-dotenv in c:\\users\\jacop\\miniconda3\\envs\\mircv\\lib\\site-packages (1.0.1)\n",
            "Requirement already satisfied: transformers in c:\\users\\jacop\\miniconda3\\envs\\mircv\\lib\\site-packages (4.47.0)\n",
            "Requirement already satisfied: sentence-transformers in c:\\users\\jacop\\miniconda3\\envs\\mircv\\lib\\site-packages (3.3.1)\n",
            "Requirement already satisfied: pymupdf in c:\\users\\jacop\\miniconda3\\envs\\mircv\\lib\\site-packages (1.25.1)\n",
            "Requirement already satisfied: langchain in c:\\users\\jacop\\miniconda3\\envs\\mircv\\lib\\site-packages (0.3.12)\n",
            "Requirement already satisfied: langchain-community in c:\\users\\jacop\\miniconda3\\envs\\mircv\\lib\\site-packages (0.3.12)\n",
            "Requirement already satisfied: langchain-huggingface in c:\\users\\jacop\\miniconda3\\envs\\mircv\\lib\\site-packages (0.1.2)\n",
            "Requirement already satisfied: chromadb in c:\\users\\jacop\\miniconda3\\envs\\mircv\\lib\\site-packages (0.5.20)\n",
            "Requirement already satisfied: tqdm in c:\\users\\jacop\\miniconda3\\envs\\mircv\\lib\\site-packages (4.66.6)\n",
            "Requirement already satisfied: unidecode in c:\\users\\jacop\\miniconda3\\envs\\mircv\\lib\\site-packages (1.3.8)\n",
            "Requirement already satisfied: gradio in c:\\users\\jacop\\miniconda3\\envs\\mircv\\lib\\site-packages (5.9.1)\n",
            "Collecting bitsandbytes\n",
            "  Downloading bitsandbytes-0.45.0-py3-none-win_amd64.whl.metadata (2.9 kB)\n",
            "Requirement already satisfied: filelock in c:\\users\\jacop\\miniconda3\\envs\\mircv\\lib\\site-packages (from torch) (3.13.1)\n",
            "Requirement already satisfied: typing-extensions>=4.8.0 in c:\\users\\jacop\\miniconda3\\envs\\mircv\\lib\\site-packages (from torch) (4.12.2)\n",
            "Requirement already satisfied: networkx in c:\\users\\jacop\\miniconda3\\envs\\mircv\\lib\\site-packages (from torch) (3.4.2)\n",
            "Requirement already satisfied: jinja2 in c:\\users\\jacop\\miniconda3\\envs\\mircv\\lib\\site-packages (from torch) (3.1.4)\n",
            "Requirement already satisfied: fsspec in c:\\users\\jacop\\miniconda3\\envs\\mircv\\lib\\site-packages (from torch) (2024.6.1)\n",
            "Requirement already satisfied: sympy==1.13.1 in c:\\users\\jacop\\miniconda3\\envs\\mircv\\lib\\site-packages (from torch) (1.13.1)\n",
            "Requirement already satisfied: mpmath<1.4,>=1.1.0 in c:\\users\\jacop\\miniconda3\\envs\\mircv\\lib\\site-packages (from sympy==1.13.1->torch) (1.3.0)\n",
            "Requirement already satisfied: packaging>=20.9 in c:\\users\\jacop\\miniconda3\\envs\\mircv\\lib\\site-packages (from huggingface_hub) (24.1)\n",
            "Requirement already satisfied: pyyaml>=5.1 in c:\\users\\jacop\\miniconda3\\envs\\mircv\\lib\\site-packages (from huggingface_hub) (6.0.2)\n",
            "Requirement already satisfied: requests in c:\\users\\jacop\\miniconda3\\envs\\mircv\\lib\\site-packages (from huggingface_hub) (2.32.3)\n",
            "Requirement already satisfied: numpy>=1.17 in c:\\users\\jacop\\miniconda3\\envs\\mircv\\lib\\site-packages (from transformers) (1.26.4)\n",
            "Requirement already satisfied: regex!=2019.12.17 in c:\\users\\jacop\\miniconda3\\envs\\mircv\\lib\\site-packages (from transformers) (2024.9.11)\n",
            "Requirement already satisfied: tokenizers<0.22,>=0.21 in c:\\users\\jacop\\miniconda3\\envs\\mircv\\lib\\site-packages (from transformers) (0.21.0)\n",
            "Requirement already satisfied: safetensors>=0.4.1 in c:\\users\\jacop\\miniconda3\\envs\\mircv\\lib\\site-packages (from transformers) (0.4.5)\n",
            "Requirement already satisfied: scikit-learn in c:\\users\\jacop\\miniconda3\\envs\\mircv\\lib\\site-packages (from sentence-transformers) (1.6.0)\n",
            "Requirement already satisfied: scipy in c:\\users\\jacop\\miniconda3\\envs\\mircv\\lib\\site-packages (from sentence-transformers) (1.13.1)\n",
            "Requirement already satisfied: Pillow in c:\\users\\jacop\\miniconda3\\envs\\mircv\\lib\\site-packages (from sentence-transformers) (10.4.0)\n",
            "Requirement already satisfied: SQLAlchemy<3,>=1.4 in c:\\users\\jacop\\miniconda3\\envs\\mircv\\lib\\site-packages (from langchain) (2.0.36)\n",
            "Requirement already satisfied: aiohttp<4.0.0,>=3.8.3 in c:\\users\\jacop\\miniconda3\\envs\\mircv\\lib\\site-packages (from langchain) (3.11.10)\n",
            "Requirement already satisfied: async-timeout<5.0.0,>=4.0.0 in c:\\users\\jacop\\miniconda3\\envs\\mircv\\lib\\site-packages (from langchain) (4.0.3)\n",
            "Requirement already satisfied: langchain-core<0.4.0,>=0.3.25 in c:\\users\\jacop\\miniconda3\\envs\\mircv\\lib\\site-packages (from langchain) (0.3.25)\n",
            "Requirement already satisfied: langchain-text-splitters<0.4.0,>=0.3.3 in c:\\users\\jacop\\miniconda3\\envs\\mircv\\lib\\site-packages (from langchain) (0.3.3)\n",
            "Requirement already satisfied: langsmith<0.3,>=0.1.17 in c:\\users\\jacop\\miniconda3\\envs\\mircv\\lib\\site-packages (from langchain) (0.2.3)\n",
            "Requirement already satisfied: pydantic<3.0.0,>=2.7.4 in c:\\users\\jacop\\miniconda3\\envs\\mircv\\lib\\site-packages (from langchain) (2.10.3)\n",
            "Requirement already satisfied: tenacity!=8.4.0,<10,>=8.1.0 in c:\\users\\jacop\\miniconda3\\envs\\mircv\\lib\\site-packages (from langchain) (9.0.0)\n",
            "Requirement already satisfied: dataclasses-json<0.7,>=0.5.7 in c:\\users\\jacop\\miniconda3\\envs\\mircv\\lib\\site-packages (from langchain-community) (0.6.7)\n",
            "Requirement already satisfied: httpx-sse<0.5.0,>=0.4.0 in c:\\users\\jacop\\miniconda3\\envs\\mircv\\lib\\site-packages (from langchain-community) (0.4.0)\n",
            "Requirement already satisfied: pydantic-settings<3.0.0,>=2.4.0 in c:\\users\\jacop\\miniconda3\\envs\\mircv\\lib\\site-packages (from langchain-community) (2.7.0)\n",
            "Requirement already satisfied: build>=1.0.3 in c:\\users\\jacop\\miniconda3\\envs\\mircv\\lib\\site-packages (from chromadb) (1.2.2.post1)\n",
            "Requirement already satisfied: chroma-hnswlib==0.7.6 in c:\\users\\jacop\\miniconda3\\envs\\mircv\\lib\\site-packages (from chromadb) (0.7.6)\n",
            "Requirement already satisfied: fastapi>=0.95.2 in c:\\users\\jacop\\miniconda3\\envs\\mircv\\lib\\site-packages (from chromadb) (0.115.6)\n",
            "Requirement already satisfied: uvicorn>=0.18.3 in c:\\users\\jacop\\miniconda3\\envs\\mircv\\lib\\site-packages (from uvicorn[standard]>=0.18.3->chromadb) (0.34.0)\n",
            "Requirement already satisfied: posthog>=2.4.0 in c:\\users\\jacop\\miniconda3\\envs\\mircv\\lib\\site-packages (from chromadb) (3.7.4)\n",
            "Requirement already satisfied: onnxruntime>=1.14.1 in c:\\users\\jacop\\miniconda3\\envs\\mircv\\lib\\site-packages (from chromadb) (1.20.1)\n",
            "Requirement already satisfied: opentelemetry-api>=1.2.0 in c:\\users\\jacop\\miniconda3\\envs\\mircv\\lib\\site-packages (from chromadb) (1.29.0)\n",
            "Requirement already satisfied: opentelemetry-exporter-otlp-proto-grpc>=1.2.0 in c:\\users\\jacop\\miniconda3\\envs\\mircv\\lib\\site-packages (from chromadb) (1.29.0)\n",
            "Requirement already satisfied: opentelemetry-instrumentation-fastapi>=0.41b0 in c:\\users\\jacop\\miniconda3\\envs\\mircv\\lib\\site-packages (from chromadb) (0.50b0)\n",
            "Requirement already satisfied: opentelemetry-sdk>=1.2.0 in c:\\users\\jacop\\miniconda3\\envs\\mircv\\lib\\site-packages (from chromadb) (1.29.0)\n",
            "Requirement already satisfied: pypika>=0.48.9 in c:\\users\\jacop\\miniconda3\\envs\\mircv\\lib\\site-packages (from chromadb) (0.48.9)\n",
            "Requirement already satisfied: overrides>=7.3.1 in c:\\users\\jacop\\miniconda3\\envs\\mircv\\lib\\site-packages (from chromadb) (7.4.0)\n",
            "Requirement already satisfied: importlib-resources in c:\\users\\jacop\\miniconda3\\envs\\mircv\\lib\\site-packages (from chromadb) (6.4.5)\n",
            "Requirement already satisfied: grpcio>=1.58.0 in c:\\users\\jacop\\miniconda3\\envs\\mircv\\lib\\site-packages (from chromadb) (1.68.1)\n",
            "Requirement already satisfied: bcrypt>=4.0.1 in c:\\users\\jacop\\miniconda3\\envs\\mircv\\lib\\site-packages (from chromadb) (4.2.1)\n",
            "Requirement already satisfied: typer>=0.9.0 in c:\\users\\jacop\\miniconda3\\envs\\mircv\\lib\\site-packages (from chromadb) (0.15.1)\n",
            "Requirement already satisfied: kubernetes>=28.1.0 in c:\\users\\jacop\\miniconda3\\envs\\mircv\\lib\\site-packages (from chromadb) (31.0.0)\n",
            "Requirement already satisfied: mmh3>=4.0.1 in c:\\users\\jacop\\miniconda3\\envs\\mircv\\lib\\site-packages (from chromadb) (5.0.1)\n",
            "Requirement already satisfied: orjson>=3.9.12 in c:\\users\\jacop\\miniconda3\\envs\\mircv\\lib\\site-packages (from chromadb) (3.10.12)\n",
            "Requirement already satisfied: httpx>=0.27.0 in c:\\users\\jacop\\miniconda3\\envs\\mircv\\lib\\site-packages (from chromadb) (0.27.0)\n",
            "Requirement already satisfied: rich>=10.11.0 in c:\\users\\jacop\\miniconda3\\envs\\mircv\\lib\\site-packages (from chromadb) (13.9.4)\n",
            "Requirement already satisfied: colorama in c:\\users\\jacop\\miniconda3\\envs\\mircv\\lib\\site-packages (from tqdm) (0.4.6)\n",
            "Requirement already satisfied: aiofiles<24.0,>=22.0 in c:\\users\\jacop\\miniconda3\\envs\\mircv\\lib\\site-packages (from gradio) (23.2.1)\n",
            "Requirement already satisfied: anyio<5.0,>=3.0 in c:\\users\\jacop\\miniconda3\\envs\\mircv\\lib\\site-packages (from gradio) (4.6.2)\n",
            "Requirement already satisfied: ffmpy in c:\\users\\jacop\\miniconda3\\envs\\mircv\\lib\\site-packages (from gradio) (0.4.0)\n",
            "Requirement already satisfied: gradio-client==1.5.2 in c:\\users\\jacop\\miniconda3\\envs\\mircv\\lib\\site-packages (from gradio) (1.5.2)\n",
            "Requirement already satisfied: markupsafe~=2.0 in c:\\users\\jacop\\miniconda3\\envs\\mircv\\lib\\site-packages (from gradio) (2.1.3)\n",
            "Requirement already satisfied: pandas<3.0,>=1.0 in c:\\users\\jacop\\miniconda3\\envs\\mircv\\lib\\site-packages (from gradio) (2.2.2)\n",
            "Requirement already satisfied: pydub in c:\\users\\jacop\\miniconda3\\envs\\mircv\\lib\\site-packages (from gradio) (0.25.1)\n",
            "Requirement already satisfied: python-multipart>=0.0.18 in c:\\users\\jacop\\miniconda3\\envs\\mircv\\lib\\site-packages (from gradio) (0.0.20)\n",
            "Requirement already satisfied: ruff>=0.2.2 in c:\\users\\jacop\\miniconda3\\envs\\mircv\\lib\\site-packages (from gradio) (0.8.3)\n",
            "Requirement already satisfied: safehttpx<0.2.0,>=0.1.6 in c:\\users\\jacop\\miniconda3\\envs\\mircv\\lib\\site-packages (from gradio) (0.1.6)\n",
            "Requirement already satisfied: semantic-version~=2.0 in c:\\users\\jacop\\miniconda3\\envs\\mircv\\lib\\site-packages (from gradio) (2.10.0)\n",
            "Requirement already satisfied: starlette<1.0,>=0.40.0 in c:\\users\\jacop\\miniconda3\\envs\\mircv\\lib\\site-packages (from gradio) (0.41.3)\n",
            "Requirement already satisfied: tomlkit<0.14.0,>=0.12.0 in c:\\users\\jacop\\miniconda3\\envs\\mircv\\lib\\site-packages (from gradio) (0.13.2)\n",
            "Requirement already satisfied: websockets<15.0,>=10.0 in c:\\users\\jacop\\miniconda3\\envs\\mircv\\lib\\site-packages (from gradio-client==1.5.2->gradio) (14.1)\n",
            "Requirement already satisfied: aiohappyeyeballs>=2.3.0 in c:\\users\\jacop\\miniconda3\\envs\\mircv\\lib\\site-packages (from aiohttp<4.0.0,>=3.8.3->langchain) (2.4.4)\n",
            "Requirement already satisfied: aiosignal>=1.1.2 in c:\\users\\jacop\\miniconda3\\envs\\mircv\\lib\\site-packages (from aiohttp<4.0.0,>=3.8.3->langchain) (1.3.2)\n",
            "Requirement already satisfied: attrs>=17.3.0 in c:\\users\\jacop\\miniconda3\\envs\\mircv\\lib\\site-packages (from aiohttp<4.0.0,>=3.8.3->langchain) (24.2.0)\n",
            "Requirement already satisfied: frozenlist>=1.1.1 in c:\\users\\jacop\\miniconda3\\envs\\mircv\\lib\\site-packages (from aiohttp<4.0.0,>=3.8.3->langchain) (1.5.0)\n",
            "Requirement already satisfied: multidict<7.0,>=4.5 in c:\\users\\jacop\\miniconda3\\envs\\mircv\\lib\\site-packages (from aiohttp<4.0.0,>=3.8.3->langchain) (6.1.0)\n",
            "Requirement already satisfied: propcache>=0.2.0 in c:\\users\\jacop\\miniconda3\\envs\\mircv\\lib\\site-packages (from aiohttp<4.0.0,>=3.8.3->langchain) (0.2.1)\n",
            "Requirement already satisfied: yarl<2.0,>=1.17.0 in c:\\users\\jacop\\miniconda3\\envs\\mircv\\lib\\site-packages (from aiohttp<4.0.0,>=3.8.3->langchain) (1.18.3)\n",
            "Requirement already satisfied: idna>=2.8 in c:\\users\\jacop\\miniconda3\\envs\\mircv\\lib\\site-packages (from anyio<5.0,>=3.0->gradio) (3.7)\n",
            "Requirement already satisfied: sniffio>=1.1 in c:\\users\\jacop\\miniconda3\\envs\\mircv\\lib\\site-packages (from anyio<5.0,>=3.0->gradio) (1.3.0)\n",
            "Requirement already satisfied: exceptiongroup>=1.0.2 in c:\\users\\jacop\\miniconda3\\envs\\mircv\\lib\\site-packages (from anyio<5.0,>=3.0->gradio) (1.2.0)\n",
            "Requirement already satisfied: pyproject_hooks in c:\\users\\jacop\\miniconda3\\envs\\mircv\\lib\\site-packages (from build>=1.0.3->chromadb) (1.2.0)\n",
            "Requirement already satisfied: tomli>=1.1.0 in c:\\users\\jacop\\miniconda3\\envs\\mircv\\lib\\site-packages (from build>=1.0.3->chromadb) (2.0.1)\n",
            "Requirement already satisfied: marshmallow<4.0.0,>=3.18.0 in c:\\users\\jacop\\miniconda3\\envs\\mircv\\lib\\site-packages (from dataclasses-json<0.7,>=0.5.7->langchain-community) (3.23.1)\n",
            "Requirement already satisfied: typing-inspect<1,>=0.4.0 in c:\\users\\jacop\\miniconda3\\envs\\mircv\\lib\\site-packages (from dataclasses-json<0.7,>=0.5.7->langchain-community) (0.9.0)\n",
            "Requirement already satisfied: certifi in c:\\users\\jacop\\miniconda3\\envs\\mircv\\lib\\site-packages (from httpx>=0.27.0->chromadb) (2024.8.30)\n",
            "Requirement already satisfied: httpcore==1.* in c:\\users\\jacop\\miniconda3\\envs\\mircv\\lib\\site-packages (from httpx>=0.27.0->chromadb) (1.0.2)\n",
            "Requirement already satisfied: h11<0.15,>=0.13 in c:\\users\\jacop\\miniconda3\\envs\\mircv\\lib\\site-packages (from httpcore==1.*->httpx>=0.27.0->chromadb) (0.14.0)\n",
            "Requirement already satisfied: six>=1.9.0 in c:\\users\\jacop\\miniconda3\\envs\\mircv\\lib\\site-packages (from kubernetes>=28.1.0->chromadb) (1.16.0)\n",
            "Requirement already satisfied: python-dateutil>=2.5.3 in c:\\users\\jacop\\miniconda3\\envs\\mircv\\lib\\site-packages (from kubernetes>=28.1.0->chromadb) (2.9.0.post0)\n",
            "Requirement already satisfied: google-auth>=1.0.1 in c:\\users\\jacop\\miniconda3\\envs\\mircv\\lib\\site-packages (from kubernetes>=28.1.0->chromadb) (2.37.0)\n",
            "Requirement already satisfied: websocket-client!=0.40.0,!=0.41.*,!=0.42.*,>=0.32.0 in c:\\users\\jacop\\miniconda3\\envs\\mircv\\lib\\site-packages (from kubernetes>=28.1.0->chromadb) (1.8.0)\n",
            "Requirement already satisfied: requests-oauthlib in c:\\users\\jacop\\miniconda3\\envs\\mircv\\lib\\site-packages (from kubernetes>=28.1.0->chromadb) (2.0.0)\n",
            "Requirement already satisfied: oauthlib>=3.2.2 in c:\\users\\jacop\\miniconda3\\envs\\mircv\\lib\\site-packages (from kubernetes>=28.1.0->chromadb) (3.2.2)\n",
            "Requirement already satisfied: urllib3>=1.24.2 in c:\\users\\jacop\\miniconda3\\envs\\mircv\\lib\\site-packages (from kubernetes>=28.1.0->chromadb) (2.2.3)\n",
            "Requirement already satisfied: durationpy>=0.7 in c:\\users\\jacop\\miniconda3\\envs\\mircv\\lib\\site-packages (from kubernetes>=28.1.0->chromadb) (0.9)\n",
            "Requirement already satisfied: jsonpatch<2.0,>=1.33 in c:\\users\\jacop\\miniconda3\\envs\\mircv\\lib\\site-packages (from langchain-core<0.4.0,>=0.3.25->langchain) (1.33)\n",
            "Requirement already satisfied: requests-toolbelt<2.0.0,>=1.0.0 in c:\\users\\jacop\\miniconda3\\envs\\mircv\\lib\\site-packages (from langsmith<0.3,>=0.1.17->langchain) (1.0.0)\n",
            "Requirement already satisfied: coloredlogs in c:\\users\\jacop\\miniconda3\\envs\\mircv\\lib\\site-packages (from onnxruntime>=1.14.1->chromadb) (15.0.1)\n",
            "Requirement already satisfied: flatbuffers in c:\\users\\jacop\\miniconda3\\envs\\mircv\\lib\\site-packages (from onnxruntime>=1.14.1->chromadb) (24.3.25)\n",
            "Requirement already satisfied: protobuf in c:\\users\\jacop\\miniconda3\\envs\\mircv\\lib\\site-packages (from onnxruntime>=1.14.1->chromadb) (5.29.1)\n",
            "Requirement already satisfied: deprecated>=1.2.6 in c:\\users\\jacop\\miniconda3\\envs\\mircv\\lib\\site-packages (from opentelemetry-api>=1.2.0->chromadb) (1.2.15)\n",
            "Requirement already satisfied: importlib-metadata<=8.5.0,>=6.0 in c:\\users\\jacop\\miniconda3\\envs\\mircv\\lib\\site-packages (from opentelemetry-api>=1.2.0->chromadb) (7.0.1)\n",
            "Requirement already satisfied: googleapis-common-protos~=1.52 in c:\\users\\jacop\\miniconda3\\envs\\mircv\\lib\\site-packages (from opentelemetry-exporter-otlp-proto-grpc>=1.2.0->chromadb) (1.66.0)\n",
            "Requirement already satisfied: opentelemetry-exporter-otlp-proto-common==1.29.0 in c:\\users\\jacop\\miniconda3\\envs\\mircv\\lib\\site-packages (from opentelemetry-exporter-otlp-proto-grpc>=1.2.0->chromadb) (1.29.0)\n",
            "Requirement already satisfied: opentelemetry-proto==1.29.0 in c:\\users\\jacop\\miniconda3\\envs\\mircv\\lib\\site-packages (from opentelemetry-exporter-otlp-proto-grpc>=1.2.0->chromadb) (1.29.0)\n",
            "Requirement already satisfied: opentelemetry-instrumentation-asgi==0.50b0 in c:\\users\\jacop\\miniconda3\\envs\\mircv\\lib\\site-packages (from opentelemetry-instrumentation-fastapi>=0.41b0->chromadb) (0.50b0)\n",
            "Requirement already satisfied: opentelemetry-instrumentation==0.50b0 in c:\\users\\jacop\\miniconda3\\envs\\mircv\\lib\\site-packages (from opentelemetry-instrumentation-fastapi>=0.41b0->chromadb) (0.50b0)\n",
            "Requirement already satisfied: opentelemetry-semantic-conventions==0.50b0 in c:\\users\\jacop\\miniconda3\\envs\\mircv\\lib\\site-packages (from opentelemetry-instrumentation-fastapi>=0.41b0->chromadb) (0.50b0)\n",
            "Requirement already satisfied: opentelemetry-util-http==0.50b0 in c:\\users\\jacop\\miniconda3\\envs\\mircv\\lib\\site-packages (from opentelemetry-instrumentation-fastapi>=0.41b0->chromadb) (0.50b0)\n",
            "Requirement already satisfied: wrapt<2.0.0,>=1.0.0 in c:\\users\\jacop\\miniconda3\\envs\\mircv\\lib\\site-packages (from opentelemetry-instrumentation==0.50b0->opentelemetry-instrumentation-fastapi>=0.41b0->chromadb) (1.16.0)\n",
            "Requirement already satisfied: asgiref~=3.0 in c:\\users\\jacop\\miniconda3\\envs\\mircv\\lib\\site-packages (from opentelemetry-instrumentation-asgi==0.50b0->opentelemetry-instrumentation-fastapi>=0.41b0->chromadb) (3.8.1)\n",
            "Requirement already satisfied: pytz>=2020.1 in c:\\users\\jacop\\miniconda3\\envs\\mircv\\lib\\site-packages (from pandas<3.0,>=1.0->gradio) (2024.1)\n",
            "Requirement already satisfied: tzdata>=2022.7 in c:\\users\\jacop\\miniconda3\\envs\\mircv\\lib\\site-packages (from pandas<3.0,>=1.0->gradio) (2023.3)\n",
            "Requirement already satisfied: monotonic>=1.5 in c:\\users\\jacop\\miniconda3\\envs\\mircv\\lib\\site-packages (from posthog>=2.4.0->chromadb) (1.6)\n",
            "Requirement already satisfied: backoff>=1.10.0 in c:\\users\\jacop\\miniconda3\\envs\\mircv\\lib\\site-packages (from posthog>=2.4.0->chromadb) (2.2.1)\n",
            "Requirement already satisfied: annotated-types>=0.6.0 in c:\\users\\jacop\\miniconda3\\envs\\mircv\\lib\\site-packages (from pydantic<3.0.0,>=2.7.4->langchain) (0.7.0)\n",
            "Requirement already satisfied: pydantic-core==2.27.1 in c:\\users\\jacop\\miniconda3\\envs\\mircv\\lib\\site-packages (from pydantic<3.0.0,>=2.7.4->langchain) (2.27.1)\n",
            "Requirement already satisfied: charset-normalizer<4,>=2 in c:\\users\\jacop\\miniconda3\\envs\\mircv\\lib\\site-packages (from requests->huggingface_hub) (3.3.2)\n",
            "Requirement already satisfied: markdown-it-py>=2.2.0 in c:\\users\\jacop\\miniconda3\\envs\\mircv\\lib\\site-packages (from rich>=10.11.0->chromadb) (3.0.0)\n",
            "Requirement already satisfied: pygments<3.0.0,>=2.13.0 in c:\\users\\jacop\\miniconda3\\envs\\mircv\\lib\\site-packages (from rich>=10.11.0->chromadb) (2.15.1)\n",
            "Requirement already satisfied: greenlet!=0.4.17 in c:\\users\\jacop\\miniconda3\\envs\\mircv\\lib\\site-packages (from SQLAlchemy<3,>=1.4->langchain) (3.1.1)\n",
            "Requirement already satisfied: click>=8.0.0 in c:\\users\\jacop\\miniconda3\\envs\\mircv\\lib\\site-packages (from typer>=0.9.0->chromadb) (8.1.7)\n",
            "Requirement already satisfied: shellingham>=1.3.0 in c:\\users\\jacop\\miniconda3\\envs\\mircv\\lib\\site-packages (from typer>=0.9.0->chromadb) (1.5.4)\n",
            "Requirement already satisfied: httptools>=0.6.3 in c:\\users\\jacop\\miniconda3\\envs\\mircv\\lib\\site-packages (from uvicorn[standard]>=0.18.3->chromadb) (0.6.4)\n",
            "Requirement already satisfied: watchfiles>=0.13 in c:\\users\\jacop\\miniconda3\\envs\\mircv\\lib\\site-packages (from uvicorn[standard]>=0.18.3->chromadb) (1.0.3)\n",
            "Requirement already satisfied: joblib>=1.2.0 in c:\\users\\jacop\\miniconda3\\envs\\mircv\\lib\\site-packages (from scikit-learn->sentence-transformers) (1.4.2)\n",
            "Requirement already satisfied: threadpoolctl>=3.1.0 in c:\\users\\jacop\\miniconda3\\envs\\mircv\\lib\\site-packages (from scikit-learn->sentence-transformers) (3.5.0)\n",
            "Requirement already satisfied: cachetools<6.0,>=2.0.0 in c:\\users\\jacop\\miniconda3\\envs\\mircv\\lib\\site-packages (from google-auth>=1.0.1->kubernetes>=28.1.0->chromadb) (5.5.0)\n",
            "Requirement already satisfied: pyasn1-modules>=0.2.1 in c:\\users\\jacop\\miniconda3\\envs\\mircv\\lib\\site-packages (from google-auth>=1.0.1->kubernetes>=28.1.0->chromadb) (0.4.1)\n",
            "Requirement already satisfied: rsa<5,>=3.1.4 in c:\\users\\jacop\\miniconda3\\envs\\mircv\\lib\\site-packages (from google-auth>=1.0.1->kubernetes>=28.1.0->chromadb) (4.9)\n",
            "Requirement already satisfied: zipp>=0.5 in c:\\users\\jacop\\miniconda3\\envs\\mircv\\lib\\site-packages (from importlib-metadata<=8.5.0,>=6.0->opentelemetry-api>=1.2.0->chromadb) (3.20.2)\n",
            "Requirement already satisfied: jsonpointer>=1.9 in c:\\users\\jacop\\miniconda3\\envs\\mircv\\lib\\site-packages (from jsonpatch<2.0,>=1.33->langchain-core<0.4.0,>=0.3.25->langchain) (3.0.0)\n",
            "Requirement already satisfied: mdurl~=0.1 in c:\\users\\jacop\\miniconda3\\envs\\mircv\\lib\\site-packages (from markdown-it-py>=2.2.0->rich>=10.11.0->chromadb) (0.1.2)\n",
            "Requirement already satisfied: mypy-extensions>=0.3.0 in c:\\users\\jacop\\miniconda3\\envs\\mircv\\lib\\site-packages (from typing-inspect<1,>=0.4.0->dataclasses-json<0.7,>=0.5.7->langchain-community) (1.0.0)\n",
            "Requirement already satisfied: humanfriendly>=9.1 in c:\\users\\jacop\\miniconda3\\envs\\mircv\\lib\\site-packages (from coloredlogs->onnxruntime>=1.14.1->chromadb) (10.0)\n",
            "Requirement already satisfied: pyreadline3 in c:\\users\\jacop\\miniconda3\\envs\\mircv\\lib\\site-packages (from humanfriendly>=9.1->coloredlogs->onnxruntime>=1.14.1->chromadb) (3.5.4)\n",
            "Requirement already satisfied: pyasn1<0.7.0,>=0.4.6 in c:\\users\\jacop\\miniconda3\\envs\\mircv\\lib\\site-packages (from pyasn1-modules>=0.2.1->google-auth>=1.0.1->kubernetes>=28.1.0->chromadb) (0.6.1)\n",
            "Downloading bitsandbytes-0.45.0-py3-none-win_amd64.whl (68.5 MB)\n",
            "   ---------------------------------------- 0.0/68.5 MB ? eta -:--:--\n",
            "   ---------------------------------------- 0.8/68.5 MB 6.7 MB/s eta 0:00:11\n",
            "    --------------------------------------- 1.6/68.5 MB 4.4 MB/s eta 0:00:16\n",
            "   - -------------------------------------- 2.4/68.5 MB 3.8 MB/s eta 0:00:18\n",
            "   - -------------------------------------- 3.1/68.5 MB 4.0 MB/s eta 0:00:17\n",
            "   -- ------------------------------------- 3.9/68.5 MB 3.8 MB/s eta 0:00:18\n",
            "   -- ------------------------------------- 4.2/68.5 MB 3.5 MB/s eta 0:00:19\n",
            "   --- ------------------------------------ 5.2/68.5 MB 3.6 MB/s eta 0:00:18\n",
            "   --- ------------------------------------ 6.0/68.5 MB 3.7 MB/s eta 0:00:18\n",
            "   --- ------------------------------------ 6.8/68.5 MB 3.6 MB/s eta 0:00:17\n",
            "   ---- ----------------------------------- 7.6/68.5 MB 3.6 MB/s eta 0:00:17\n",
            "   ---- ----------------------------------- 8.1/68.5 MB 3.6 MB/s eta 0:00:17\n",
            "   ----- ---------------------------------- 8.9/68.5 MB 3.6 MB/s eta 0:00:17\n",
            "   ----- ---------------------------------- 9.7/68.5 MB 3.6 MB/s eta 0:00:17\n",
            "   ------ --------------------------------- 10.5/68.5 MB 3.6 MB/s eta 0:00:17\n",
            "   ------ --------------------------------- 11.3/68.5 MB 3.6 MB/s eta 0:00:17\n",
            "   ------- -------------------------------- 12.3/68.5 MB 3.6 MB/s eta 0:00:16\n",
            "   ------- -------------------------------- 13.1/68.5 MB 3.6 MB/s eta 0:00:16\n",
            "   -------- ------------------------------- 13.9/68.5 MB 3.6 MB/s eta 0:00:15\n",
            "   -------- ------------------------------- 14.7/68.5 MB 3.7 MB/s eta 0:00:15\n",
            "   --------- ------------------------------ 15.5/68.5 MB 3.7 MB/s eta 0:00:15\n",
            "   --------- ------------------------------ 16.3/68.5 MB 3.6 MB/s eta 0:00:15\n",
            "   --------- ------------------------------ 16.8/68.5 MB 3.6 MB/s eta 0:00:15\n",
            "   ---------- ----------------------------- 17.6/68.5 MB 3.6 MB/s eta 0:00:15\n",
            "   ---------- ----------------------------- 17.8/68.5 MB 3.6 MB/s eta 0:00:15\n",
            "   ---------- ----------------------------- 18.4/68.5 MB 3.5 MB/s eta 0:00:15\n",
            "   ----------- ---------------------------- 18.9/68.5 MB 3.5 MB/s eta 0:00:15\n",
            "   ----------- ---------------------------- 19.4/68.5 MB 3.4 MB/s eta 0:00:15\n",
            "   ----------- ---------------------------- 20.2/68.5 MB 3.4 MB/s eta 0:00:15\n",
            "   ------------ --------------------------- 21.2/68.5 MB 3.5 MB/s eta 0:00:14\n",
            "   ------------ --------------------------- 22.0/68.5 MB 3.5 MB/s eta 0:00:14\n",
            "   ------------- -------------------------- 22.5/68.5 MB 3.5 MB/s eta 0:00:14\n",
            "   ------------- -------------------------- 23.3/68.5 MB 3.4 MB/s eta 0:00:14\n",
            "   -------------- ------------------------- 24.1/68.5 MB 3.5 MB/s eta 0:00:13\n",
            "   -------------- ------------------------- 25.2/68.5 MB 3.5 MB/s eta 0:00:13\n",
            "   --------------- ------------------------ 26.0/68.5 MB 3.5 MB/s eta 0:00:13\n",
            "   --------------- ------------------------ 26.7/68.5 MB 3.5 MB/s eta 0:00:12\n",
            "   --------------- ------------------------ 27.3/68.5 MB 3.5 MB/s eta 0:00:12\n",
            "   ---------------- ----------------------- 28.0/68.5 MB 3.5 MB/s eta 0:00:12\n",
            "   ---------------- ----------------------- 28.6/68.5 MB 3.5 MB/s eta 0:00:12\n",
            "   ----------------- ---------------------- 29.4/68.5 MB 3.4 MB/s eta 0:00:12\n",
            "   ----------------- ---------------------- 29.9/68.5 MB 3.4 MB/s eta 0:00:12\n",
            "   ----------------- ---------------------- 30.7/68.5 MB 3.4 MB/s eta 0:00:12\n",
            "   ------------------ --------------------- 31.5/68.5 MB 3.4 MB/s eta 0:00:11\n",
            "   ------------------ --------------------- 32.2/68.5 MB 3.4 MB/s eta 0:00:11\n",
            "   ------------------- -------------------- 32.8/68.5 MB 3.4 MB/s eta 0:00:11\n",
            "   ------------------- -------------------- 33.8/68.5 MB 3.4 MB/s eta 0:00:11\n",
            "   -------------------- ------------------- 34.6/68.5 MB 3.5 MB/s eta 0:00:10\n",
            "   -------------------- ------------------- 35.1/68.5 MB 3.4 MB/s eta 0:00:10\n",
            "   --------------------- ------------------ 36.2/68.5 MB 3.5 MB/s eta 0:00:10\n",
            "   --------------------- ------------------ 37.0/68.5 MB 3.5 MB/s eta 0:00:10\n",
            "   ---------------------- ----------------- 37.7/68.5 MB 3.5 MB/s eta 0:00:09\n",
            "   ---------------------- ----------------- 38.3/68.5 MB 3.5 MB/s eta 0:00:09\n",
            "   ---------------------- ----------------- 39.1/68.5 MB 3.5 MB/s eta 0:00:09\n",
            "   ----------------------- ---------------- 39.8/68.5 MB 3.5 MB/s eta 0:00:09\n",
            "   ----------------------- ---------------- 40.6/68.5 MB 3.5 MB/s eta 0:00:09\n",
            "   ------------------------ --------------- 41.4/68.5 MB 3.5 MB/s eta 0:00:08\n",
            "   ------------------------ --------------- 41.9/68.5 MB 3.5 MB/s eta 0:00:08\n",
            "   ------------------------ --------------- 42.7/68.5 MB 3.5 MB/s eta 0:00:08\n",
            "   ------------------------- -------------- 43.8/68.5 MB 3.5 MB/s eta 0:00:08\n",
            "   -------------------------- ------------- 44.6/68.5 MB 3.5 MB/s eta 0:00:07\n",
            "   -------------------------- ------------- 44.8/68.5 MB 3.5 MB/s eta 0:00:07\n",
            "   -------------------------- ------------- 45.4/68.5 MB 3.4 MB/s eta 0:00:07\n",
            "   --------------------------- ------------ 46.4/68.5 MB 3.4 MB/s eta 0:00:07\n",
            "   --------------------------- ------------ 46.9/68.5 MB 3.5 MB/s eta 0:00:07\n",
            "   ---------------------------- ----------- 48.0/68.5 MB 3.5 MB/s eta 0:00:06\n",
            "   ---------------------------- ----------- 48.8/68.5 MB 3.5 MB/s eta 0:00:06\n",
            "   ---------------------------- ----------- 49.5/68.5 MB 3.5 MB/s eta 0:00:06\n",
            "   ----------------------------- ---------- 50.1/68.5 MB 3.5 MB/s eta 0:00:06\n",
            "   ----------------------------- ---------- 50.6/68.5 MB 3.4 MB/s eta 0:00:06\n",
            "   ----------------------------- ---------- 51.1/68.5 MB 3.4 MB/s eta 0:00:06\n",
            "   ------------------------------ --------- 51.9/68.5 MB 3.4 MB/s eta 0:00:05\n",
            "   ------------------------------ --------- 52.4/68.5 MB 3.4 MB/s eta 0:00:05\n",
            "   ------------------------------ --------- 53.0/68.5 MB 3.4 MB/s eta 0:00:05\n",
            "   ------------------------------- -------- 53.7/68.5 MB 3.4 MB/s eta 0:00:05\n",
            "   ------------------------------- -------- 54.5/68.5 MB 3.4 MB/s eta 0:00:05\n",
            "   -------------------------------- ------- 55.3/68.5 MB 3.4 MB/s eta 0:00:04\n",
            "   -------------------------------- ------- 56.1/68.5 MB 3.4 MB/s eta 0:00:04\n",
            "   --------------------------------- ------ 56.9/68.5 MB 3.4 MB/s eta 0:00:04\n",
            "   --------------------------------- ------ 57.7/68.5 MB 3.4 MB/s eta 0:00:04\n",
            "   --------------------------------- ------ 57.9/68.5 MB 3.4 MB/s eta 0:00:04\n",
            "   ---------------------------------- ----- 58.7/68.5 MB 3.4 MB/s eta 0:00:03\n",
            "   ---------------------------------- ----- 59.5/68.5 MB 3.4 MB/s eta 0:00:03\n",
            "   ----------------------------------- ---- 60.6/68.5 MB 3.4 MB/s eta 0:00:03\n",
            "   ----------------------------------- ---- 61.1/68.5 MB 3.4 MB/s eta 0:00:03\n",
            "   ------------------------------------ --- 61.9/68.5 MB 3.4 MB/s eta 0:00:02\n",
            "   ------------------------------------ --- 62.7/68.5 MB 3.4 MB/s eta 0:00:02\n",
            "   ------------------------------------- -- 63.4/68.5 MB 3.4 MB/s eta 0:00:02\n",
            "   ------------------------------------- -- 64.2/68.5 MB 3.4 MB/s eta 0:00:02\n",
            "   ------------------------------------- -- 65.0/68.5 MB 3.4 MB/s eta 0:00:02\n",
            "   -------------------------------------- - 66.1/68.5 MB 3.4 MB/s eta 0:00:01\n",
            "   ---------------------------------------  66.8/68.5 MB 3.4 MB/s eta 0:00:01\n",
            "   ---------------------------------------  67.4/68.5 MB 3.4 MB/s eta 0:00:01\n",
            "   ---------------------------------------  68.2/68.5 MB 3.4 MB/s eta 0:00:01\n",
            "   ---------------------------------------  68.4/68.5 MB 3.4 MB/s eta 0:00:01\n",
            "   ---------------------------------------- 68.5/68.5 MB 3.4 MB/s eta 0:00:00\n",
            "Installing collected packages: bitsandbytes\n",
            "Successfully installed bitsandbytes-0.45.0\n"
          ]
        }
      ],
      "source": [
        "%pip install torch huggingface_hub python-dotenv transformers sentence-transformers pymupdf langchain langchain-community langchain-huggingface chromadb tqdm unidecode gradio bitsandbytes"
      ]
    },
    {
      "cell_type": "code",
      "execution_count": 2,
      "metadata": {},
      "outputs": [],
      "source": [
        "import os\n",
        "import torch\n",
        "from huggingface_hub import login\n",
        "from dotenv import load_dotenv\n",
        "from transformers import (\n",
        "    AutoModelForCausalLM,\n",
        "    AutoTokenizer,\n",
        "    BitsAndBytesConfig,\n",
        ")\n",
        "from sentence_transformers import SentenceTransformer\n",
        "from langchain_community.document_loaders import PyMuPDFLoader\n",
        "from langchain.text_splitter import CharacterTextSplitter\n",
        "from langchain_huggingface import HuggingFaceEmbeddings\n",
        "from langchain_community.vectorstores import Chroma\n",
        "import time\n",
        "from tqdm import tqdm\n",
        "import re\n",
        "import gradio as gr\n",
        "from unidecode import unidecode"
      ]
    },
    {
      "cell_type": "code",
      "execution_count": 5,
      "metadata": {
        "id": "GPrYHa0L6dFu"
      },
      "outputs": [],
      "source": [
        "# Load and process the PDF\n",
        "loader = PyMuPDFLoader(\"IR Slides v1.0.pdf\")\n",
        "documents = loader.load()\n",
        "\n",
        "# Split the documents into chunks\n",
        "text_splitter = CharacterTextSplitter(chunk_size=10000, chunk_overlap=200)\n",
        "texts = text_splitter.split_documents(documents)"
      ]
    },
    {
      "cell_type": "code",
      "execution_count": 6,
      "metadata": {},
      "outputs": [],
      "source": [
        "# Preprocess text to remove formulas and strange characters\n",
        "def preprocess_text(text):\n",
        "    # Rimuovi formule matematiche LaTeX\n",
        "    text = re.sub(r'\\$.*?\\$', '', text)\n",
        "    # Rimuovi caratteri non alfanumerici eccetto punteggiatura di base\n",
        "    text = re.sub(r'[^a-zA-Z0-9\\s.,;:!?\\'\"-]', '', text)\n",
        "    # Normalizza i caratteri Unicode\n",
        "    text = unidecode(text)\n",
        "    # Rimuovi spazi multipli\n",
        "    text = re.sub(r'\\s+', ' ', text).strip()\n",
        "    return text\n",
        "\n",
        "def aggregate_short_documents(texts, min_length=50):\n",
        "    aggregated_texts = []\n",
        "    buffer = \"\"\n",
        "    \n",
        "    for doc in texts:\n",
        "        if len(doc.page_content) < min_length:\n",
        "            buffer += \" \" + doc.page_content\n",
        "        else:\n",
        "            if buffer:\n",
        "                doc.page_content = buffer + \" \" + doc.page_content\n",
        "                buffer = \"\"\n",
        "            aggregated_texts.append(doc)\n",
        "    \n",
        "    if buffer:\n",
        "        if aggregated_texts:\n",
        "            aggregated_texts[-1].page_content += \" \" + buffer\n",
        "        else:\n",
        "            aggregated_texts.append(buffer)\n",
        "    \n",
        "    return aggregated_texts\n",
        "\n",
        "# Applica la pre-elaborazione ai documenti\n",
        "for doc in texts:\n",
        "    doc.page_content = preprocess_text(doc.page_content)\n",
        "\n",
        "# Aggrega i documenti corti\n",
        "texts = aggregate_short_documents(texts)"
      ]
    },
    {
      "cell_type": "code",
      "execution_count": 7,
      "metadata": {},
      "outputs": [
        {
          "data": {
            "application/vnd.jupyter.widget-view+json": {
              "model_id": "f14d5d655ec841daa27194442aba41dc",
              "version_major": 2,
              "version_minor": 0
            },
            "text/plain": [
              "modules.json:   0%|          | 0.00/349 [00:00<?, ?B/s]"
            ]
          },
          "metadata": {},
          "output_type": "display_data"
        },
        {
          "name": "stderr",
          "output_type": "stream",
          "text": [
            "c:\\Users\\jacop\\miniconda3\\envs\\mircv\\lib\\site-packages\\huggingface_hub\\file_download.py:140: UserWarning: `huggingface_hub` cache-system uses symlinks by default to efficiently store duplicated files but your machine does not support them in C:\\Users\\jacop\\.cache\\huggingface\\hub\\models--sentence-transformers--all-MiniLM-L6-v2. Caching files will still work but in a degraded version that might require more space on your disk. This warning can be disabled by setting the `HF_HUB_DISABLE_SYMLINKS_WARNING` environment variable. For more details, see https://huggingface.co/docs/huggingface_hub/how-to-cache#limitations.\n",
            "To support symlinks on Windows, you either need to activate Developer Mode or to run Python as an administrator. In order to activate developer mode, see this article: https://docs.microsoft.com/en-us/windows/apps/get-started/enable-your-device-for-development\n",
            "  warnings.warn(message)\n"
          ]
        },
        {
          "data": {
            "application/vnd.jupyter.widget-view+json": {
              "model_id": "13bb1613d82942e7b8b86a03cb3653b7",
              "version_major": 2,
              "version_minor": 0
            },
            "text/plain": [
              "config_sentence_transformers.json:   0%|          | 0.00/116 [00:00<?, ?B/s]"
            ]
          },
          "metadata": {},
          "output_type": "display_data"
        },
        {
          "data": {
            "application/vnd.jupyter.widget-view+json": {
              "model_id": "6c18d09340504bda8a2f941b632745fa",
              "version_major": 2,
              "version_minor": 0
            },
            "text/plain": [
              "README.md:   0%|          | 0.00/10.7k [00:00<?, ?B/s]"
            ]
          },
          "metadata": {},
          "output_type": "display_data"
        },
        {
          "data": {
            "application/vnd.jupyter.widget-view+json": {
              "model_id": "2a1266232d164857b789524e9f598bb0",
              "version_major": 2,
              "version_minor": 0
            },
            "text/plain": [
              "sentence_bert_config.json:   0%|          | 0.00/53.0 [00:00<?, ?B/s]"
            ]
          },
          "metadata": {},
          "output_type": "display_data"
        },
        {
          "data": {
            "application/vnd.jupyter.widget-view+json": {
              "model_id": "1c4a73f5972c450aa261477c048f68d6",
              "version_major": 2,
              "version_minor": 0
            },
            "text/plain": [
              "config.json:   0%|          | 0.00/612 [00:00<?, ?B/s]"
            ]
          },
          "metadata": {},
          "output_type": "display_data"
        },
        {
          "data": {
            "application/vnd.jupyter.widget-view+json": {
              "model_id": "570e21a38b3f4ad6abf2c9c79b2166a3",
              "version_major": 2,
              "version_minor": 0
            },
            "text/plain": [
              "model.safetensors:   0%|          | 0.00/90.9M [00:00<?, ?B/s]"
            ]
          },
          "metadata": {},
          "output_type": "display_data"
        },
        {
          "data": {
            "application/vnd.jupyter.widget-view+json": {
              "model_id": "7e45139f9acf47a29a634fba0bd029c5",
              "version_major": 2,
              "version_minor": 0
            },
            "text/plain": [
              "tokenizer_config.json:   0%|          | 0.00/350 [00:00<?, ?B/s]"
            ]
          },
          "metadata": {},
          "output_type": "display_data"
        },
        {
          "data": {
            "application/vnd.jupyter.widget-view+json": {
              "model_id": "34faff22400c4b14970fc52048ea90a3",
              "version_major": 2,
              "version_minor": 0
            },
            "text/plain": [
              "vocab.txt:   0%|          | 0.00/232k [00:00<?, ?B/s]"
            ]
          },
          "metadata": {},
          "output_type": "display_data"
        },
        {
          "data": {
            "application/vnd.jupyter.widget-view+json": {
              "model_id": "a5721085e1414f4fad22de508a4a3db8",
              "version_major": 2,
              "version_minor": 0
            },
            "text/plain": [
              "tokenizer.json:   0%|          | 0.00/466k [00:00<?, ?B/s]"
            ]
          },
          "metadata": {},
          "output_type": "display_data"
        },
        {
          "data": {
            "application/vnd.jupyter.widget-view+json": {
              "model_id": "297df32010824775a636c1427c67ba80",
              "version_major": 2,
              "version_minor": 0
            },
            "text/plain": [
              "special_tokens_map.json:   0%|          | 0.00/112 [00:00<?, ?B/s]"
            ]
          },
          "metadata": {},
          "output_type": "display_data"
        },
        {
          "data": {
            "application/vnd.jupyter.widget-view+json": {
              "model_id": "1cd58b21825b43d6bc4d7e4977c0f67d",
              "version_major": 2,
              "version_minor": 0
            },
            "text/plain": [
              "1_Pooling/config.json:   0%|          | 0.00/190 [00:00<?, ?B/s]"
            ]
          },
          "metadata": {},
          "output_type": "display_data"
        }
      ],
      "source": [
        "# Create embeddings\n",
        "embeddings = HuggingFaceEmbeddings(model_name=\"sentence-transformers/all-MiniLM-L6-v2\") \n",
        "\n",
        "# Create a vector store\n",
        "db = Chroma.from_documents(texts, embeddings)\n",
        "\n",
        "retriever = db.as_retriever()"
      ]
    },
    {
      "cell_type": "code",
      "execution_count": 14,
      "metadata": {},
      "outputs": [
        {
          "name": "stderr",
          "output_type": "stream",
          "text": [
            "Note: Environment variable`HF_TOKEN` is set and is the current active token independently from the token you've just configured.\n"
          ]
        },
        {
          "name": "stdout",
          "output_type": "stream",
          "text": [
            "CUDA not available. Working on CPU.\n"
          ]
        },
        {
          "data": {
            "application/vnd.jupyter.widget-view+json": {
              "model_id": "4928094ed0af4e2db3759789cc7fc407",
              "version_major": 2,
              "version_minor": 0
            },
            "text/plain": [
              "config.json:   0%|          | 0.00/878 [00:00<?, ?B/s]"
            ]
          },
          "metadata": {},
          "output_type": "display_data"
        },
        {
          "name": "stderr",
          "output_type": "stream",
          "text": [
            "c:\\Users\\jacop\\miniconda3\\envs\\mircv\\lib\\site-packages\\huggingface_hub\\file_download.py:140: UserWarning: `huggingface_hub` cache-system uses symlinks by default to efficiently store duplicated files but your machine does not support them in C:\\Users\\jacop\\.cache\\huggingface\\hub\\models--meta-llama--Llama-3.2-3B-Instruct. Caching files will still work but in a degraded version that might require more space on your disk. This warning can be disabled by setting the `HF_HUB_DISABLE_SYMLINKS_WARNING` environment variable. For more details, see https://huggingface.co/docs/huggingface_hub/how-to-cache#limitations.\n",
            "To support symlinks on Windows, you either need to activate Developer Mode or to run Python as an administrator. In order to activate developer mode, see this article: https://docs.microsoft.com/en-us/windows/apps/get-started/enable-your-device-for-development\n",
            "  warnings.warn(message)\n"
          ]
        },
        {
          "ename": "ImportError",
          "evalue": "Using `low_cpu_mem_usage=True` or a `device_map` requires Accelerate: `pip install 'accelerate>=0.26.0'`",
          "output_type": "error",
          "traceback": [
            "\u001b[1;31m---------------------------------------------------------------------------\u001b[0m",
            "\u001b[1;31mImportError\u001b[0m                               Traceback (most recent call last)",
            "Cell \u001b[1;32mIn[14], line 22\u001b[0m\n\u001b[0;32m     13\u001b[0m MODEL_NAME \u001b[38;5;241m=\u001b[39m \u001b[38;5;124m\"\u001b[39m\u001b[38;5;124mmeta-llama/Llama-3.2-3B-Instruct\u001b[39m\u001b[38;5;124m\"\u001b[39m\n\u001b[0;32m     15\u001b[0m bnb_config \u001b[38;5;241m=\u001b[39m BitsAndBytesConfig(\n\u001b[0;32m     16\u001b[0m     load_in_4bit\u001b[38;5;241m=\u001b[39m\u001b[38;5;28;01mTrue\u001b[39;00m,\n\u001b[0;32m     17\u001b[0m     bnb_4bit_use_double_quant\u001b[38;5;241m=\u001b[39m\u001b[38;5;28;01mTrue\u001b[39;00m,\n\u001b[0;32m     18\u001b[0m     bnb_4bit_quant_type\u001b[38;5;241m=\u001b[39m\u001b[38;5;124m\"\u001b[39m\u001b[38;5;124mnf4\u001b[39m\u001b[38;5;124m\"\u001b[39m,\n\u001b[0;32m     19\u001b[0m     bnb_4bit_compute_dtype\u001b[38;5;241m=\u001b[39mtorch\u001b[38;5;241m.\u001b[39mbfloat16,\n\u001b[0;32m     20\u001b[0m )\n\u001b[1;32m---> 22\u001b[0m model \u001b[38;5;241m=\u001b[39m \u001b[43mAutoModelForCausalLM\u001b[49m\u001b[38;5;241;43m.\u001b[39;49m\u001b[43mfrom_pretrained\u001b[49m\u001b[43m(\u001b[49m\n\u001b[0;32m     23\u001b[0m \u001b[43m    \u001b[49m\u001b[43mMODEL_NAME\u001b[49m\u001b[43m,\u001b[49m\n\u001b[0;32m     24\u001b[0m \u001b[43m    \u001b[49m\u001b[43mdevice_map\u001b[49m\u001b[38;5;241;43m=\u001b[39;49m\u001b[38;5;124;43m\"\u001b[39;49m\u001b[38;5;124;43mauto\u001b[39;49m\u001b[38;5;124;43m\"\u001b[39;49m\u001b[43m,\u001b[49m\n\u001b[0;32m     25\u001b[0m \u001b[43m    \u001b[49m\u001b[43mquantization_config\u001b[49m\u001b[38;5;241;43m=\u001b[39;49m\u001b[43mbnb_config\u001b[49m\u001b[43m,\u001b[49m\n\u001b[0;32m     26\u001b[0m \u001b[43m)\u001b[49m\n\u001b[0;32m     28\u001b[0m tokenizer \u001b[38;5;241m=\u001b[39m AutoTokenizer\u001b[38;5;241m.\u001b[39mfrom_pretrained(MODEL_NAME)\n\u001b[0;32m     29\u001b[0m tokenizer\u001b[38;5;241m.\u001b[39mpad_token \u001b[38;5;241m=\u001b[39m tokenizer\u001b[38;5;241m.\u001b[39meos_token\n",
            "File \u001b[1;32mc:\\Users\\jacop\\miniconda3\\envs\\mircv\\lib\\site-packages\\transformers\\models\\auto\\auto_factory.py:564\u001b[0m, in \u001b[0;36m_BaseAutoModelClass.from_pretrained\u001b[1;34m(cls, pretrained_model_name_or_path, *model_args, **kwargs)\u001b[0m\n\u001b[0;32m    562\u001b[0m \u001b[38;5;28;01melif\u001b[39;00m \u001b[38;5;28mtype\u001b[39m(config) \u001b[38;5;129;01min\u001b[39;00m \u001b[38;5;28mcls\u001b[39m\u001b[38;5;241m.\u001b[39m_model_mapping\u001b[38;5;241m.\u001b[39mkeys():\n\u001b[0;32m    563\u001b[0m     model_class \u001b[38;5;241m=\u001b[39m _get_model_class(config, \u001b[38;5;28mcls\u001b[39m\u001b[38;5;241m.\u001b[39m_model_mapping)\n\u001b[1;32m--> 564\u001b[0m     \u001b[38;5;28;01mreturn\u001b[39;00m model_class\u001b[38;5;241m.\u001b[39mfrom_pretrained(\n\u001b[0;32m    565\u001b[0m         pretrained_model_name_or_path, \u001b[38;5;241m*\u001b[39mmodel_args, config\u001b[38;5;241m=\u001b[39mconfig, \u001b[38;5;241m*\u001b[39m\u001b[38;5;241m*\u001b[39mhub_kwargs, \u001b[38;5;241m*\u001b[39m\u001b[38;5;241m*\u001b[39mkwargs\n\u001b[0;32m    566\u001b[0m     )\n\u001b[0;32m    567\u001b[0m \u001b[38;5;28;01mraise\u001b[39;00m \u001b[38;5;167;01mValueError\u001b[39;00m(\n\u001b[0;32m    568\u001b[0m     \u001b[38;5;124mf\u001b[39m\u001b[38;5;124m\"\u001b[39m\u001b[38;5;124mUnrecognized configuration class \u001b[39m\u001b[38;5;132;01m{\u001b[39;00mconfig\u001b[38;5;241m.\u001b[39m\u001b[38;5;18m__class__\u001b[39m\u001b[38;5;132;01m}\u001b[39;00m\u001b[38;5;124m for this kind of AutoModel: \u001b[39m\u001b[38;5;132;01m{\u001b[39;00m\u001b[38;5;28mcls\u001b[39m\u001b[38;5;241m.\u001b[39m\u001b[38;5;18m__name__\u001b[39m\u001b[38;5;132;01m}\u001b[39;00m\u001b[38;5;124m.\u001b[39m\u001b[38;5;130;01m\\n\u001b[39;00m\u001b[38;5;124m\"\u001b[39m\n\u001b[0;32m    569\u001b[0m     \u001b[38;5;124mf\u001b[39m\u001b[38;5;124m\"\u001b[39m\u001b[38;5;124mModel type should be one of \u001b[39m\u001b[38;5;132;01m{\u001b[39;00m\u001b[38;5;124m'\u001b[39m\u001b[38;5;124m, \u001b[39m\u001b[38;5;124m'\u001b[39m\u001b[38;5;241m.\u001b[39mjoin(c\u001b[38;5;241m.\u001b[39m\u001b[38;5;18m__name__\u001b[39m\u001b[38;5;250m \u001b[39m\u001b[38;5;28;01mfor\u001b[39;00m\u001b[38;5;250m \u001b[39mc\u001b[38;5;250m \u001b[39m\u001b[38;5;129;01min\u001b[39;00m\u001b[38;5;250m \u001b[39m\u001b[38;5;28mcls\u001b[39m\u001b[38;5;241m.\u001b[39m_model_mapping\u001b[38;5;241m.\u001b[39mkeys())\u001b[38;5;132;01m}\u001b[39;00m\u001b[38;5;124m.\u001b[39m\u001b[38;5;124m\"\u001b[39m\n\u001b[0;32m    570\u001b[0m )\n",
            "File \u001b[1;32mc:\\Users\\jacop\\miniconda3\\envs\\mircv\\lib\\site-packages\\transformers\\modeling_utils.py:3589\u001b[0m, in \u001b[0;36mPreTrainedModel.from_pretrained\u001b[1;34m(cls, pretrained_model_name_or_path, config, cache_dir, ignore_mismatched_sizes, force_download, local_files_only, token, revision, use_safetensors, weights_only, *model_args, **kwargs)\u001b[0m\n\u001b[0;32m   3585\u001b[0m         \u001b[38;5;28;01mraise\u001b[39;00m \u001b[38;5;167;01mValueError\u001b[39;00m(\n\u001b[0;32m   3586\u001b[0m             \u001b[38;5;124m\"\u001b[39m\u001b[38;5;124mDeepSpeed Zero-3 is not compatible with `low_cpu_mem_usage=True` or with passing a `device_map`.\u001b[39m\u001b[38;5;124m\"\u001b[39m\n\u001b[0;32m   3587\u001b[0m         )\n\u001b[0;32m   3588\u001b[0m     \u001b[38;5;28;01melif\u001b[39;00m \u001b[38;5;129;01mnot\u001b[39;00m is_accelerate_available():\n\u001b[1;32m-> 3589\u001b[0m         \u001b[38;5;28;01mraise\u001b[39;00m \u001b[38;5;167;01mImportError\u001b[39;00m(\n\u001b[0;32m   3590\u001b[0m             \u001b[38;5;124mf\u001b[39m\u001b[38;5;124m\"\u001b[39m\u001b[38;5;124mUsing `low_cpu_mem_usage=True` or a `device_map` requires Accelerate: `pip install \u001b[39m\u001b[38;5;124m'\u001b[39m\u001b[38;5;124maccelerate>=\u001b[39m\u001b[38;5;132;01m{\u001b[39;00mACCELERATE_MIN_VERSION\u001b[38;5;132;01m}\u001b[39;00m\u001b[38;5;124m'\u001b[39m\u001b[38;5;124m`\u001b[39m\u001b[38;5;124m\"\u001b[39m\n\u001b[0;32m   3591\u001b[0m         )\n\u001b[0;32m   3593\u001b[0m \u001b[38;5;66;03m# handling bnb config from kwargs, remove after `load_in_{4/8}bit` deprecation.\u001b[39;00m\n\u001b[0;32m   3594\u001b[0m \u001b[38;5;28;01mif\u001b[39;00m load_in_4bit \u001b[38;5;129;01mor\u001b[39;00m load_in_8bit:\n",
            "\u001b[1;31mImportError\u001b[0m: Using `low_cpu_mem_usage=True` or a `device_map` requires Accelerate: `pip install 'accelerate>=0.26.0'`"
          ]
        }
      ],
      "source": [
        "os.environ[\"CUDA_VISIBLE_DEVICES\"] = \"0\"\n",
        "\n",
        "if torch.cuda.is_available():\n",
        "    print(\"CUDA is available. Working on GPU.\")\n",
        "    print(f\"GPU name: {torch.cuda.get_device_name(0)}\")\n",
        "else:\n",
        "    print(\"CUDA not available. Working on CPU.\")\n",
        "\n",
        "load_dotenv()\n",
        "HF_TOKEN = os.getenv('HF_TOKEN')\n",
        "login(token=HF_TOKEN)\n",
        "\n",
        "MODEL_NAME = \"meta-llama/Llama-3.2-3B-Instruct\"\n",
        "\n",
        "bnb_config = BitsAndBytesConfig(\n",
        "    load_in_4bit=True,\n",
        "    bnb_4bit_use_double_quant=True,\n",
        "    bnb_4bit_quant_type=\"nf4\",\n",
        "    bnb_4bit_compute_dtype=torch.bfloat16,\n",
        ")\n",
        "\n",
        "model = AutoModelForCausalLM.from_pretrained(\n",
        "    MODEL_NAME,\n",
        "    device_map=\"auto\",\n",
        "    quantization_config=bnb_config,\n",
        ")\n",
        "\n",
        "tokenizer = AutoTokenizer.from_pretrained(MODEL_NAME)\n",
        "tokenizer.pad_token = tokenizer.eos_token\n",
        "\n",
        "generation_config = model.generation_config\n",
        "generation_config.max_new_tokens = 200\n",
        "generation_config.temperature = 0.7\n",
        "generation_config.top_p = 0.7\n",
        "generation_config.num_return_sequences = 1\n",
        "generation_config.pad_token_id = tokenizer.eos_token_id\n",
        "generation_config.eos_token_id = tokenizer.eos_token_id\n",
        "generation_config.repetition_penalty = 1.6  # Add repetition penalty\n",
        "\n",
        "device = \"cuda:0\"\n",
        "\n",
        "model.to(device)"
      ]
    }
  ],
  "metadata": {
    "colab": {
      "authorship_tag": "ABX9TyNp/FGCVCE8vC8Ot7Hx0ir8",
      "include_colab_link": true,
      "provenance": []
    },
    "kernelspec": {
      "display_name": "mircv",
      "language": "python",
      "name": "python3"
    },
    "language_info": {
      "codemirror_mode": {
        "name": "ipython",
        "version": 3
      },
      "file_extension": ".py",
      "mimetype": "text/x-python",
      "name": "python",
      "nbconvert_exporter": "python",
      "pygments_lexer": "ipython3",
      "version": "3.10.12"
    }
  },
  "nbformat": 4,
  "nbformat_minor": 0
}
