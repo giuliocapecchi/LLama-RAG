{
  "cells": [
    {
      "cell_type": "markdown",
      "metadata": {
        "colab_type": "text",
        "id": "view-in-github"
      },
      "source": [
        "<a href=\"https://colab.research.google.com/github/giuliocapecchi/LM-project/blob/main/RAG.ipynb\" target=\"_parent\"><img src=\"https://colab.research.google.com/assets/colab-badge.svg\" alt=\"Open In Colab\"/></a>"
      ]
    },
    {
      "cell_type": "markdown",
      "metadata": {
        "id": "lMdgKoa5LF9w"
      },
      "source": [
        "# PDF Preprocessing and Documents Creations\n",
        "\n",
        "---"
      ]
    },
    {
      "cell_type": "markdown",
      "metadata": {
        "id": "8OV1QFHWLvIw"
      },
      "source": [
        "Nowadays one of the challenging aspects of preprocessing scientific documents, for the implementation of a RAG (*Retrieval-Augmented Generation*) system, is the accurate **extraction of mathematical formulas**. Considering working with files containing this type of information, we faced the need to adopt a solution that would allow us to achieve results as good and reliable as possible using free tools and resources.\n",
        "\n",
        "In addition to this, for completeness we report other main relevant tasks, regarding the processing of files in order to implement a RAG system, we tried to manage:\n",
        "*   **handle complex structures** mantaning contextual meaning;\n",
        "*   **text cleaning** removing irrilevant elements;\n",
        "*   **chunk size balancing** accordingly with the specific context limit for the chosen LLM;\n",
        "*   **text splitting** avoiding breaking meaningful connections in sentences.\n",
        "\n",
        "For this purpose we propose an hybrid approach that combines multiple solutions. In particular we built a pipeline that integrates functionalities of two solutions:\n",
        "*   `Unstructure`, an open-source tool efficient in transforming unstructured data into structured outputs.\n",
        "    *   https://github.com/Unstructured-IO\n",
        "*   `Nougat`, an advanced Transformer-based OCR model that simplifies the process of converting complex scientific contents into a common and machine-readable format.\n",
        "    *   https://github.com/facebookresearch/nougat\n",
        "\n",
        "The tasks we have addressed to these tools are respectively:\n",
        "1.   Parse the PDF file obtaning **elements characterized by type and content** through `Unstructure partition function`. This allowed us to:\n",
        "    *   clean the extracted contents **filering out irrelevant or meaningless types** of elements;\n",
        "    *   identify page breaks, permetting to implement a **page content-aware solution**;\n",
        "    *   **locate the formulas**, saving indexes of pages containing them;\n",
        "    *   translate elements into **a dataframe, with columns Type and Value**, for easier handling.\n",
        "\n",
        "2.   Extract formulas in more accurate and replicable Latex format thanks to `Nougat`. This was done according to the following logic:\n",
        "    *   **only pages in** which we know **there is at least one formula are processed**, allowing us to save resources and time by avoiding analyzing the pages of the file in which no formulas appear;\n",
        "    *   the selected pages are converted into images, analyzed using a **Transformer-based OCR model**, and returned as text formatted in LaTeX;\n",
        "    *   the model's output is analyzed to identify **Latex patterns matching formulas**, which are then extracted.\n",
        "\n",
        "This approach was necessary because, despite employing a high-resolution element identification strategy in Unstructured partitioning, the formulas often turned out incorrect and failed to meet our expectations. Therefore, we retained the use of `Unstructured` for its ability to implement an **elements and page-aware solution** while integrating `Nougat` in a specialized manner **for extracting mathematical formulas**. This combination allowed us to achieve significantly improved and optimal results.\n",
        "\n",
        "Continuing with the numbering used above, the final processing steps are:\n",
        "3.   **Replace the more precise formulas in the dataframe** where all the elements are stored. By doing this we faced the problem of mismatch between expected and extracted formulas for a single page:\n",
        "    *   if no formulas extracted by `Nougat` we keep the formulas as extracted by `Unstructure`;\n",
        "    *   else, if the number of extracted formulas differs from the expected one, we give priority to the formulas extracted by `Nougat`, due to more precision and accuracy, discarding the ones extracted by `Unstructure`.\n",
        "4.   **Page-based Chunks creation**. This was done according to the following logic:\n",
        "    *   setting a **threshold as the maximum number of tokens** that can be included into a single chunk;\n",
        "    *   creating chunks by **concatenating page-by-page content** to preserve contextual integrity as much as possible;\n",
        "    *   if the content of a single page exceeds the threshold, we concatenate **elements one by one until the content remains under the limit**. This approach is a tradeoff between the balancing of chunk sizes and the coherence of contextual structures.\n",
        "\n",
        "Let's dive into the implementation.\n"
      ]
    },
    {
      "cell_type": "markdown",
      "metadata": {
        "id": "PmLEt9LCLpLn"
      },
      "source": [
        "Installing required libraries."
      ]
    },
    {
      "cell_type": "code",
      "execution_count": 1,
      "metadata": {
        "id": "j3UrpIY5sLgF"
      },
      "outputs": [],
      "source": [
        "# %pip install -qqq torch gdown huggingface_hub python-dotenv pymupdf python-Levenshtein nltk chromadb tqdm unidecode gradio bitsandbytes seaborn unstructured[pdf] latex2mathml --progress-bar off"
      ]
    },
    {
      "cell_type": "markdown",
      "metadata": {},
      "source": [
        "### Installing Additional Required Libraries\n",
        "\n",
        "On Colab, the installations above are sufficient. However, on **Windows** and **macOS**, additional steps are required to install libraries necessary for **Unstructured** and **Nougat**:\n",
        "\n",
        "- **Poppler**: a PDF rendering library.  \n",
        "- **Tesseract**: an open-source OCR engine.\n",
        "\n",
        "---\n",
        "\n",
        "#### **Steps for Windows**\n",
        "The easiest way to install the required libraries on Windows is via Conda (assuming Conda is installed):\n",
        "\n",
        "1. **Install the required packages**:\n",
        "    ```bash\n",
        "    %conda install -c conda-forge poppler tesseract -y\n",
        "    %pip install -q python-magic-bin==0.4.14\n",
        "    ```\n",
        "\n",
        "2. **Add Tesseract to the system PATH**:\n",
        "    Use the following Python code to set up the `TESSDATA_PREFIX` environment variable:\n",
        "\n",
        "    ```python\n",
        "    import os, sys\n",
        "\n",
        "    # Get the path of the current Conda environment\n",
        "    conda_env_path = os.path.dirname(sys.executable)\n",
        "    tessdata_path = os.path.join(conda_env_path, \"share\", \"tessdata\") # the necessary files should be here\n",
        "\n",
        "    # Set the TESSDATA_PREFIX environment variable\n",
        "    os.environ[\"TESSDATA_PREFIX\"] = os.path.join(conda_env_path, \"share\")\n",
        "    print(\"TESSDATA_PREFIX:\", os.environ[\"TESSDATA_PREFIX\"])\n",
        "\n",
        "    # Verify the tessdata directory\n",
        "    if os.path.exists(tessdata_path):\n",
        "        print(f\"Tessdata directory found: {tessdata_path}\")\n",
        "    else:\n",
        "        print(f\"Tessdata directory not found: {tessdata_path}\")\n",
        "    ```\n",
        "\n",
        "#### **Steps for macOS**\n",
        "On macOS, installation is simpler. Use the following command to install the required libraries:\n",
        "\n",
        "1. **Install the required packages**:\n",
        "    ```bash\n",
        "    brew install poppler tesseract\n",
        "    ```\n",
        "\n",
        "2. **Verify the installation**:\n",
        "    Check if Tesseract is properly installed by running:\n",
        "    ```bash\n",
        "    tesseract --version\n",
        "    ```\n",
        "\n",
        "---\n",
        "\n",
        "Still, this approach serves as an enhancement to the RAG pipeline, enabling more accurate extraction from PDFs, particularly for elements like mathematical formulas in scientific papers. However, it is not mandatory; if the PDF contains mostly plain text, a simpler chunking method may be sufficient and more straightforward."
      ]
    },
    {
      "cell_type": "code",
      "execution_count": null,
      "metadata": {
        "colab": {
          "base_uri": "https://localhost:8080/"
        },
        "id": "2L7OPE5AIZM8",
        "outputId": "00d370e8-bcb3-4f94-acea-752efc6cf869"
      },
      "outputs": [],
      "source": [
        "import nltk\n",
        "\n",
        "print(nltk.__version__)  # must be 3.9.1\n",
        "\n",
        "nltk.download(\"punkt\")"
      ]
    },
    {
      "cell_type": "markdown",
      "metadata": {
        "id": "uo9QzZJzSLKe"
      },
      "source": [
        "Let's download the selected PDF for this analysis. You can choose any PDF you prefer, but keep in mind that your evaluation phase will have to differ.\n",
        "\n",
        "> **Note:** To speed up execution, we’ll also download the `elements.pkl` file to bypass some computationally expensive processing (which would otherwise take approximately *20/30 minutes* for ~300 pages)."
      ]
    },
    {
      "cell_type": "code",
      "execution_count": null,
      "metadata": {
        "colab": {
          "base_uri": "https://localhost:8080/"
        },
        "id": "x9hQwckZHXHO",
        "outputId": "8a670905-192d-4dbc-a518-4a8eff0a3bba"
      },
      "outputs": [],
      "source": [
        "import os\n",
        "import gdown\n",
        "\n",
        "\n",
        "PDF_NAME = \"Information Retrieval Slides.pdf\"\n",
        "if os.path.exists(PDF_NAME):\n",
        "    print(f\"File {PDF_NAME} already exists.\")\n",
        "else:\n",
        "    # save locally from https://drive.google.com/file/d/1xUA6_ZBJzWGF7kWpM1YZTK3R1siYg1qY/view?usp=drive_link\n",
        "    gdown.download(id=\"1xUA6_ZBJzWGF7kWpM1YZTK3R1siYg1qY\", output=PDF_NAME, quiet=False)\n",
        "\n",
        "    # download of pickled elements to speed up the execution\n",
        "    gdown.download(id=\"17eXYgmiTL9-f9F5vIT5j7QffHIu_QwuN\", output=\"elements.pkl\", quiet=False)"
      ]
    },
    {
      "cell_type": "markdown",
      "metadata": {
        "id": "t_HRybt8S-Xp"
      },
      "source": [
        "## PDF Partitioning with Unstructured\n",
        "Processes the PDF using the `partition` function to extract structured elements.\n",
        "\n",
        "We decide to apply the **high-resolution strategy** because is highly sensitive, it is recommended if you want obtain precise classifications for document elements. Adopting this strategy we are able to use the document layout to gain additional information about document elements, in particular we are able to recognize:\n",
        "- **Titles** and **Text** (we use them as it is)\n",
        "- **Formulas** (we further process them)\n",
        "- **Images** (will be removed)\n",
        "- **Page Breaks** (fundamental to handle formulas and create chuncks)\n"
      ]
    },
    {
      "cell_type": "code",
      "execution_count": null,
      "metadata": {
        "colab": {
          "base_uri": "https://localhost:8080/"
        },
        "id": "NpVjk7JfIoTh",
        "outputId": "c3b2fdfe-5a04-4dc3-d9ca-d63c9895cd21"
      },
      "outputs": [],
      "source": [
        "from unstructured.partition.auto import partition\n",
        "from tqdm import tqdm\n",
        "import fitz  # PyMuPDF\n",
        "import pickle\n",
        "\n",
        "file_name = \"Information Retrieval Slides.pdf\"\n",
        "title = \"Information Retrieval\"\n",
        "\n",
        "load_elements_from_pickle = True\n",
        "elements = []\n",
        "\n",
        "if load_elements_from_pickle:\n",
        "    # Loading the pickled elements.\n",
        "    with open('elements.pkl', 'rb') as f:\n",
        "        elements = pickle.load(f)\n",
        "else: # Process the PDF file\n",
        "    doc = fitz.open(file_name)  # open the PDF file\n",
        "    total_pages = len(doc)\n",
        "\n",
        "    for page_number in tqdm(range(total_pages), desc=\"Processing PDF pages\"):\n",
        "        # Crea un nuovo documento con una sola pagina\n",
        "        temp_doc = fitz.open()  # Documento vuoto\n",
        "        temp_doc.insert_pdf(doc, from_page=page_number, to_page=page_number)\n",
        "\n",
        "        # Salva la singola pagina in un file temporaneo\n",
        "        temp_page_file = f\"temp_page_{page_number}.pdf\"\n",
        "        temp_doc.save(temp_page_file)\n",
        "        temp_doc.close()\n",
        "\n",
        "        # Applica `partition` sulla singola pagina\n",
        "        page_elements = partition(\n",
        "            filename=temp_page_file,\n",
        "            strategy=\"hi_res\",\n",
        "            skip_infer_table_types=[],\n",
        "            include_page_breaks=True,\n",
        "        )\n",
        "        elements.extend(page_elements)  # Aggiungi gli elementi alla lista totale\n",
        "        # delete the temporary file\n",
        "        os.remove(temp_page_file)\n",
        "\n",
        "    doc.close()  # Chiudi il documento principale\n",
        "\n",
        "# Stampa il numero totale di elementi\n",
        "print(\"Number of recognized elements: \" + str(len(elements)) + \" in file \" + file_name)"
      ]
    },
    {
      "cell_type": "markdown",
      "metadata": {
        "id": "CITylvMsd1Mf"
      },
      "source": [
        "Storing the elements in a pickle file.\n",
        "Snippet of code executed if needed."
      ]
    },
    {
      "cell_type": "code",
      "execution_count": 5,
      "metadata": {
        "id": "k_6QJqgxj4ou"
      },
      "outputs": [],
      "source": [
        "# to uncomment, now is commented cause we are downloading the pickled elements\n",
        "with open('elements.pkl', 'wb') as f:\n",
        "    pickle.dump(elements, f)"
      ]
    },
    {
      "cell_type": "markdown",
      "metadata": {
        "id": "MrfWUBRLfjAK"
      },
      "source": [
        "## Filtering and Analyzing Extracted Elements\n",
        "\n",
        "Here we build a **dataframe**, creating pairs of **Type** and **Value**, using the elements extracted from the PDF file.\n",
        "\n",
        "Then we print all the different element's Type recognized.\n",
        "\n"
      ]
    },
    {
      "cell_type": "code",
      "execution_count": null,
      "metadata": {
        "colab": {
          "base_uri": "https://localhost:8080/"
        },
        "id": "MYMr613sfcqH",
        "outputId": "3e859562-9df3-4826-bec6-c52222ab312a"
      },
      "outputs": [],
      "source": [
        "import pandas as pd\n",
        "\n",
        "df_elements = pd.DataFrame( [[type(elem), elem.text] for elem in elements], columns=['Type', 'Value'])\n",
        "\n",
        "# Print all the unique types of elements\n",
        "print(df_elements['Type'].unique())"
      ]
    },
    {
      "cell_type": "markdown",
      "metadata": {
        "id": "wpuoY63qTQy4"
      },
      "source": [
        "Now we clean the dataframe filtering out all the useless elements:\n",
        "- **Images** (for them we have a text extracted with OCR technique, but not very useful for the language model due to a loss of meaning)\n",
        "- **Table** (similarly to the images they lost some meaning as they are extracted)\n",
        "- **Footers** and **Headers**\n"
      ]
    },
    {
      "cell_type": "code",
      "execution_count": null,
      "metadata": {
        "colab": {
          "base_uri": "https://localhost:8080/"
        },
        "id": "Q6iG38ZWwv7L",
        "outputId": "9e5fe005-2af6-4a9a-9c07-448ca59fe2a5"
      },
      "outputs": [],
      "source": [
        "from unstructured.documents.elements import Image, Table, Footer, Header, PageBreak, Formula\n",
        "\n",
        "# print df number of rows\n",
        "print(\"Number of actual elements: \" + str(len(df_elements)))\n",
        "\n",
        "# drop all the rows with unuseful Types\n",
        "df_elements = df_elements[df_elements['Type'] != Image]\n",
        "df_elements = df_elements[df_elements['Type'] != Table]\n",
        "df_elements = df_elements[df_elements['Type'] != Footer]\n",
        "df_elements = df_elements[df_elements['Type'] != Header]\n",
        "df_elements = df_elements.drop(df_elements[(df_elements['Type'] != PageBreak) & (df_elements['Value'] == '')].index)\n",
        "\n",
        "# print df number of rows\n",
        "print(\"Number of elements after filtering: \" + str(len(df_elements)))\n",
        "\n",
        "# reassign the dataframe index\n",
        "df_elements = df_elements.reset_index(drop=True)\n",
        "\n",
        "# print all the different possible Type in the dataframe\n",
        "print(\"Remaining Types left in the dataframe:\\n\",df_elements['Type'].unique())\n"
      ]
    },
    {
      "cell_type": "markdown",
      "metadata": {
        "id": "aswk1lwSlziI"
      },
      "source": [
        "Check if there are some empty-valued elements, that are not Page Breaks, in the dataframe."
      ]
    },
    {
      "cell_type": "code",
      "execution_count": null,
      "metadata": {
        "colab": {
          "base_uri": "https://localhost:8080/"
        },
        "id": "7vBne_I70vij",
        "outputId": "92c45a48-3d99-42d8-f55e-51b3d4d6894a"
      },
      "outputs": [],
      "source": [
        "# print rows of df_elements with bith Type != PageBreak and Value empty\n",
        "print(len(df_elements[(df_elements['Type'] != PageBreak) & (df_elements['Value'] == '')]))\n",
        "\n",
        "if len(df_elements[(df_elements['Type'] != PageBreak) & (df_elements['Value'] == '')]) > 0:\n",
        "  df_elements = df_elements.drop(df_elements[(df_elements['Type'] != PageBreak) & (df_elements['Value'] == '')].index)"
      ]
    },
    {
      "cell_type": "markdown",
      "metadata": {
        "id": "XCrkLBolTsQv"
      },
      "source": [
        "## Filtering Pages Containing Formulas in a DataFrame\n",
        "\n",
        "This code processes a DataFrame (`df_elements`) containing elements from a document (e.g., text, formulas, and page breaks) to identify and remove all rows belonging to pages that contain at least one formula.\n",
        "\n",
        "- `pages_with_formulas_indexes`: A `set` to store the indices of pages that contain at least one `Formula`.\n",
        "- `index`: Keeps track of the current page number (starts at 0).\n",
        "- `page_indices`: A list to map each row in the DataFrame to its corresponding page number.\n",
        "\n",
        "\n",
        "In the end, we filter out rows whose `PageIndex` matches any value in `pages_with_formulas_indexes`. The `PageIndex` column is dropped after filtering."
      ]
    },
    {
      "cell_type": "code",
      "execution_count": null,
      "metadata": {},
      "outputs": [],
      "source": [
        "# Initial number of PageBreak elements\n",
        "print(\"Number of PageBreak elements: \" + str(len(df_elements[df_elements['Type'] == PageBreak])))\n",
        "\n",
        "# list of page indexes with at least one formula\n",
        "pages_with_formulas_indexes = set()\n",
        "index = 0\n",
        "page_indices = [] # to map each row to its page index\n",
        "\n",
        "for i in range(len(df_elements)):\n",
        "    # when a PageBreak is found, increment the page-index\n",
        "    if df_elements.iloc[i]['Type'] == PageBreak:\n",
        "        index += 1\n",
        "    page_indices.append(index)\n",
        "    # if you find a formula, add the page index to the set\n",
        "    if df_elements.iloc[i]['Type'] == Formula:\n",
        "        pages_with_formulas_indexes.add(index+1)\n",
        "\n",
        "# add the PageIndex column to the DataFrame\n",
        "df_elements['PageIndex'] = page_indices\n",
        "\n",
        "# filter out the rows with formulas\n",
        "df_elements_cleaned = df_elements[~df_elements['PageIndex'].isin(pages_with_formulas_indexes)].drop(columns=['PageIndex']).reset_index(drop=True)\n",
        "\n",
        "# Final number of PageBreak elements\n",
        "print(\"Number of PageBreak elements: \" + str(len(df_elements_cleaned[df_elements_cleaned['Type'] == PageBreak])))\n",
        "print(\"Pages with formulas indexes:\", sorted(pages_with_formulas_indexes))\n",
        "print(\"Number of pages with at least one formula:\", len(pages_with_formulas_indexes))\n"
      ]
    },
    {
      "cell_type": "code",
      "execution_count": null,
      "metadata": {},
      "outputs": [],
      "source": [
        "print(\"Number of elements before filtering:\", len(df_elements))\n",
        "print(\"Number of elements after filtering:\", len(df_elements_cleaned))"
      ]
    },
    {
      "cell_type": "markdown",
      "metadata": {},
      "source": [
        "The Unstructured pipeline can make some mistakes in extracting text from the pdf. This code replaces uncommon Unicode characters with ASCII equivalents and removes any remaining non-ASCII characters. We defined a dictionary for replacing specific Unicode characters (e.g., `ﬃ → ffi`, `⊺ → T`), more can be added if necessary. We use `str.maketrans()` for fast replacements. The computed values are stored back in the `Value` column of the dataframe."
      ]
    },
    {
      "cell_type": "code",
      "execution_count": 11,
      "metadata": {},
      "outputs": [],
      "source": [
        "import re\n",
        "\n",
        "unicode_replacements = {\n",
        "    \"ﬃ\": \"ffi\",\n",
        "    \"ﬀ\": \"ff\",\n",
        "    \"ﬁ\": \"fi\",\n",
        "    \"⊺\": \"T\",\n",
        "    \"•\": \" \",\n",
        "    \"—\": \"-\",\n",
        "    \"«\": \" \",\n",
        "    \"»\": \" \",\n",
        "    \"”\": '\"',\n",
        "    \"“\": '\"',\n",
        "    \"‘\": \"'\",\n",
        "    \"’\": \"'\",\n",
        "    \"ﬄ\": \"ffl\",\n",
        "    # Add more as needed\n",
        "}\n",
        "\n",
        "# Create a translation table for faster replacement\n",
        "translation_table = str.maketrans(unicode_replacements)\n",
        "\n",
        "def find_non_ascii_characters(text):\n",
        "    # Replace all characters using the translation table\n",
        "    text = text.translate(translation_table)\n",
        "    # Optional: Remove any remaining non-ASCII characters\n",
        "    text = re.sub(r'[^\\x00-\\x7F]', '', text)  # Removes all remaining non-ASCII characters\n",
        "    return text\n",
        "\n",
        "# Remove non-ASCII characters from each element's text\n",
        "for i in range(len(df_elements_cleaned)):\n",
        "    df_elements_cleaned.loc[i, 'Value'] = find_non_ascii_characters(df_elements_cleaned.loc[i, 'Value'])"
      ]
    },
    {
      "cell_type": "markdown",
      "metadata": {
        "id": "U0oMEuCOT0H2"
      },
      "source": [
        "## Nougat: Neural Optical Understanding for Academic Documents\n",
        "\n",
        "[**Nougat**](https://github.com/facebookresearch/nougat?tab=readme-ov-file) is an academic document PDF parser designed to extract and understand LaTeX math and tables from PDFs. Developed by **Facebook Research**, it converts academic documents into structured formats (Mathpix Markdown, *.MMD*).\n",
        "\n",
        "Key Features:\n",
        "- Extracts and processes LaTeX math, tables, and text.\n",
        "- Converts PDFs to Markdown (.mmd) format.\n",
        "- Supports GPU for faster processing.\n",
        "\n",
        "Nougat is optimized for scientific papers, especially those found on platforms like arXiv, and works best with English papers.\n",
        "\n",
        "The idea now is to employ it as a *bullet-proof* approach for extracting text difficult pages, like the ones with mathemathical formulas (which indexes were saved above)."
      ]
    },
    {
      "cell_type": "markdown",
      "metadata": {},
      "source": [
        "> As a side note, unfortunately Nougat requires `transformers==4.38.2` or below, which is uncompatible with `sentence-transformers`, since it requires `transformers<5.0.0,>=4.41.0`. A solution to this is to keep them separated in two different virutal environments. For the sake of semplicity, in the notebook we will simply upgrade `transformers` later on in order to utilize `sentence-transformers` without any problems."
      ]
    },
    {
      "cell_type": "code",
      "execution_count": null,
      "metadata": {},
      "outputs": [],
      "source": [
        "# install some pre-requisites for Nougat\n",
        "%pip install -qqq -U albumentations\n",
        "%pip -qqq install transformers==4.38.2 --progress-bar off\n",
        "\n",
        "# install Nougat\n",
        "%pip -qqq install nougat-ocr  --progress-bar off"
      ]
    },
    {
      "cell_type": "markdown",
      "metadata": {},
      "source": [
        "Now we can simply invoke Nougat, by calling the corresponding CLI command. More information about it can be found on its [README page](https://github.com/facebookresearch/nougat?tab=readme-ov-file). Here it is called by simply passing:\n",
        "- the path of the PDF file in analysis\n",
        "- `-o`, the output folder\n",
        "- `--pages`, to specify only pages containing mathemathical formulas\n",
        "- `-m 0.1.0-base`, to utilize the base model (default to `0.1.0-small` but didn't produce acceptable results)\n",
        "- `--no-skipping`, to avoid using failure detection heuristic\n",
        "- `--recompute`, to recompute already computed PDF, discarding previous predictions.\n",
        "> Requires ~1.3 minutes for 22 pages with formulas"
      ]
    },
    {
      "cell_type": "code",
      "execution_count": null,
      "metadata": {},
      "outputs": [],
      "source": [
        "page_with_formula_indexes_str = \",\".join(map(str, sorted(pages_with_formulas_indexes)))\n",
        "print(page_with_formula_indexes_str)\n",
        "\n",
        "command = f\"nougat \\\"{file_name}\\\" -o ./nougat-output --pages {page_with_formula_indexes_str} -m 0.1.0-base --no-skipping --recompute\"\n",
        "\n",
        "print(command)\n",
        "!{command}"
      ]
    },
    {
      "cell_type": "markdown",
      "metadata": {},
      "source": [
        "The output can be found in the `nougat-output` folder, as an MMD file. Since of course the model can fail to identify some sentences, we also perform some preprocessing of the text, to ensure it will be sanitized for the next phases."
      ]
    },
    {
      "cell_type": "code",
      "execution_count": null,
      "metadata": {},
      "outputs": [],
      "source": [
        "def remove_unmatched_left_tags(line):\n",
        "        if \"\\\\left|\" in line and \"\\\\right|\" not in line:\n",
        "            line = line.replace(\"\\\\left|\", \"\")\n",
        "        return line\n",
        "\n",
        "def preprocess_content(content):\n",
        "    content = content.replace(\"**\", \"\").replace(\"##\", \"\")  # Some markdown is left sometimes\n",
        "    content = content.replace(\"{(}\", \"(\").replace(\"{)}\", \")\") # replace all '{(}' and '{)}' with '(' and ')'\n",
        "    content = content.replace(\"{[}\", \"(\").replace(\"{]}\", \")\") # replace all '{[}' and '{]}' with '(' and ')'\n",
        "    content = re.sub(r'\\$(.*?)\\$', r'\\\\(\\1\\\\)', content) # replace all '$' with '\\(\\)' (inline formulas)\n",
        "    content = re.sub(r'\\\\text\\{(.*?)\\}', r'\\1', content) # replace all '\\text' with ''\n",
        "    content = re.sub(r'_(.*?)_', r'\\1', content) # replace words inside '_word_' with the same word -> e.g. _Proof:_ -> Proof:\n",
        "    content = re.sub(r'\\\\includegraphics\\[width=.*?pt\\]', '', content) # replace all \\includegraphics[width=....pt] with '', independently of the width\n",
        "    content = \"\\n\".join(remove_unmatched_left_tags(line) for line in content.splitlines()) # remove all \\left|\\ tags that don't have a \\right|\\ tag in the same line (they are not closed)        \n",
        "    content = content.strip()\n",
        "    return content\n",
        "\n",
        "\n",
        "with open(f'nougat-output/{file_name.replace(\".pdf\",\".mmd\")}', 'r') as f:\n",
        "    content = f.read()\n",
        "\n",
        "print(content[:200], \" ...\\n\\n..........................................\")\n",
        "\n",
        "processed_content = preprocess_content(content)\n",
        " \n",
        "with open(f'nougat-output/{file_name.replace(\".pdf\",\".mmd\")}', 'w') as f:\n",
        "    f.write(processed_content)\n"
      ]
    },
    {
      "cell_type": "markdown",
      "metadata": {},
      "source": [
        "Now the text is ready to be processed with Unstructured as before, which will be precise this time, since it doesn't have to extract text from the PDF but just to take it *as-is*."
      ]
    },
    {
      "cell_type": "code",
      "execution_count": 15,
      "metadata": {},
      "outputs": [],
      "source": [
        "from unstructured.partition.text import partition_text\n",
        "from unstructured.cleaners.core import group_broken_paragraphs\n",
        "from unstructured.documents.elements import Title, PageBreak\n",
        "\n",
        "result = partition_text(text=processed_content, paragraph_grouper=group_broken_paragraphs)"
      ]
    },
    {
      "cell_type": "markdown",
      "metadata": {},
      "source": [
        "To make it homogeneous to the rest of the text produced before, we split the output in \"pages\" by simply adding a PageBreak before each Title"
      ]
    },
    {
      "cell_type": "code",
      "execution_count": null,
      "metadata": {},
      "outputs": [],
      "source": [
        "updated_result = []\n",
        "\n",
        "for e in result:\n",
        "    if isinstance(e, Title): # if the element is a Title ...\n",
        "        updated_result.append(PageBreak(\"\"))  # ... add a PageBreak before it\n",
        "    updated_result.append(e)\n",
        "\n",
        "# Print how many PageBreaks are in the updated_result\n",
        "print(\"Number of PageBreaks in the updated_result: \", len([e for e in updated_result if isinstance(e, PageBreak)]),\"\\n\")\n",
        "print(\"Number of elements in the updated_result: \", len(updated_result),\"\\n\")\n",
        "\n",
        "# Print the first 20 elements of the updated_result\n",
        "for e in updated_result[:20]:\n",
        "    print(f\"{type(e).__name__}: {e.text}\")"
      ]
    },
    {
      "cell_type": "markdown",
      "metadata": {},
      "source": [
        "Finally the produced text with formulas is re-added to the dataframe"
      ]
    },
    {
      "cell_type": "code",
      "execution_count": 17,
      "metadata": {},
      "outputs": [],
      "source": [
        "df_elements = pd.concat([df_elements_cleaned, pd.DataFrame([[type(elem), elem.text] for elem in updated_result], columns=['Type', 'Value'])], ignore_index=True)"
      ]
    },
    {
      "cell_type": "markdown",
      "metadata": {
        "id": "aH1-7NgCVMY9"
      },
      "source": [
        "# Creating the chunks\n",
        "\n",
        "Let's start by cleaning up the `df_elements` DataFrame by removing consecutive duplicate rows (keeping the first occurence). This can happen because... TODO boh ? non dovrebbe in realtà quindi non ho idea del motivo\n"
      ]
    },
    {
      "cell_type": "code",
      "execution_count": null,
      "metadata": {
        "colab": {
          "base_uri": "https://localhost:8080/"
        },
        "id": "KBJg2MZ3QH1t",
        "outputId": "0b1e6fc8-23e6-46d3-b80c-ac96cd4e23bf"
      },
      "outputs": [],
      "source": [
        "print(\"Number of elements before removing adjacent duplicates: \" + str(len(df_elements)))\n",
        "\n",
        "# drop adjacent duplicates in the df_elements mantaining the first one\n",
        "df_elements = df_elements.loc[df_elements.shift().ne(df_elements).any(axis=1)]\n",
        "\n",
        "# reset index\n",
        "df_elements = df_elements.reset_index(drop=True)\n",
        "\n",
        "print(\"Number of elements after removing adjacent duplicates: \" + str(len(df_elements)))"
      ]
    },
    {
      "cell_type": "code",
      "execution_count": null,
      "metadata": {
        "colab": {
          "base_uri": "https://localhost:8080/"
        },
        "id": "g_33-bMTulyW",
        "outputId": "4a7b7045-1d6a-4b34-f498-9d7bbacacdad"
      },
      "outputs": [],
      "source": [
        "print(\"Final number of pages (given by the number of PageBreak(s)):\",len(df_elements[df_elements['Type'] == PageBreak]))"
      ]
    },
    {
      "cell_type": "code",
      "execution_count": null,
      "metadata": {
        "colab": {
          "base_uri": "https://localhost:8080/"
        },
        "id": "8vMk0-oV-_1B",
        "outputId": "457a9043-347b-4f33-81e6-75f583435b2f"
      },
      "outputs": [],
      "source": [
        "from nltk.tokenize import word_tokenize\n",
        "\n",
        "nltk.download('punkt_tab')\n",
        "\n",
        "def count_tokens(text):\n",
        "  return len(word_tokenize(text))"
      ]
    },
    {
      "cell_type": "markdown",
      "metadata": {
        "id": "v598nbR51juB"
      },
      "source": [
        "Here we compute some statistics regarding the number of tokens in the pages."
      ]
    },
    {
      "cell_type": "code",
      "execution_count": null,
      "metadata": {
        "colab": {
          "base_uri": "https://localhost:8080/"
        },
        "id": "HpV8q_skMHGl",
        "outputId": "532884f6-52c5-4aba-aa8f-3bf52d2c06b5"
      },
      "outputs": [],
      "source": [
        "# compute the max, the min and the average number of tokens in a page by concatenating elements of the dataframe between consecutive page breaks\n",
        "\n",
        "num_token_per_page = []\n",
        "\n",
        "current_page = \"\"\n",
        "current_page_tokens = 0\n",
        "\n",
        "for i in range(len(df_elements)):\n",
        "  if df_elements.iloc[i]['Type'] != PageBreak:\n",
        "    current_page += df_elements.iloc[i]['Value']\n",
        "    current_page_tokens = count_tokens(current_page)\n",
        "  else:\n",
        "    num_token_per_page.append(current_page_tokens)\n",
        "    current_page = \"\"\n",
        "    current_page_tokens = 0\n",
        "\n",
        "print(\"Max tokens: \" + str(max(num_token_per_page)))\n",
        "print(\"Min tokens: \" + str(min(num_token_per_page)))\n",
        "print(\"Avg tokens: \" + str(sum(num_token_per_page)/len(num_token_per_page)))"
      ]
    },
    {
      "cell_type": "code",
      "execution_count": null,
      "metadata": {
        "colab": {
          "base_uri": "https://localhost:8080/",
          "height": 487
        },
        "id": "8SttzqQSMhxG",
        "outputId": "f52ce6c5-c27d-4c80-f9f8-4b6f85cf00c2"
      },
      "outputs": [],
      "source": [
        "from matplotlib import pyplot as plt\n",
        "import numpy as np\n",
        "\n",
        "mean_tokens = np.mean(num_token_per_page)\n",
        "\n",
        "plt.figure(figsize=(9, 5))\n",
        "plt.hist(num_token_per_page, bins=10, edgecolor='black', alpha=0.5)\n",
        "plt.axvline(mean_tokens, color='red', linestyle='dashed', linewidth=1, label=f'Mean = {mean_tokens:.2f}')\n",
        "plt.title('Distribution of Number of Tokens per Page')\n",
        "plt.xlabel('Number of Tokens')\n",
        "plt.ylabel('Frequency')\n",
        "plt.legend()\n",
        "plt.grid(axis='y', linestyle='--', alpha=0.7)\n",
        "plt.show()"
      ]
    },
    {
      "cell_type": "markdown",
      "metadata": {
        "id": "KE2y3MZgVuIa"
      },
      "source": [
        "# Splitting Content into Tokenized Chunks\n",
        "Here we divide the processed elements in `df_elements` into smaller text files, ensuring each file stays within a token limit.\n",
        "\n",
        "**Chunk Creation:**\n",
        "- Processes elements in `df_elements`:\n",
        "  - Concatenates values until the token count exceeds `doc_tokens_threshold`.\n",
        "  - Writes each chunk to a separate text file (`docX.txt`).\n",
        "  - Tracks the token count of each chunk in `docs_len`.\n",
        "- Handles `PageBreak` to reset and manage document boundaries.\n",
        "\n",
        "\n",
        ">NOTE: `doc_tokens_threshold` can be adjusted to change the maximum token count per file.\n"
      ]
    },
    {
      "cell_type": "code",
      "execution_count": null,
      "metadata": {
        "colab": {
          "base_uri": "https://localhost:8080/"
        },
        "id": "H6CxZzdOEqnJ",
        "outputId": "6abf413d-ec31-4deb-819d-38abc1c2ddea"
      },
      "outputs": [],
      "source": [
        "import os\n",
        "\n",
        "# create folder chunks if it doesn't exist\n",
        "if not os.path.exists('chunks'):\n",
        "    os.makedirs('chunks')\n",
        "else:\n",
        "    # delete all the files in the folder chunks\n",
        "    for file in os.listdir('chunks'):\n",
        "        os.remove(os.path.join('chunks', file))\n",
        "\n",
        "\n",
        "block = \"\"\n",
        "document = \"\"\n",
        "doc_index = 0\n",
        "doc_tokens_threshold = 150\n",
        "docs_len = []\n",
        "\n",
        "# iterating over df_elements\n",
        "for i in range(len(df_elements)):\n",
        "\n",
        "\n",
        "  if df_elements.at[i, 'Type'] != PageBreak:\n",
        "\n",
        "    next_element = df_elements.at[i, 'Value'] + \" \"\n",
        "\n",
        "    if count_tokens(block) + count_tokens(next_element) > doc_tokens_threshold:\n",
        "        with open('chunks/document_' + str(doc_index) + '.txt', 'w') as f:\n",
        "          f.write(block)\n",
        "\n",
        "        docs_len.append(count_tokens(block))\n",
        "        doc_index += 1\n",
        "        block = \"\"\n",
        "\n",
        "    block += next_element\n",
        "\n",
        "  else: # if the type is a PageBreak\n",
        "\n",
        "    expected_num_tokens = count_tokens(document) + count_tokens(block)\n",
        "    if expected_num_tokens > doc_tokens_threshold:\n",
        "\n",
        "      with open('chunks/document_' + str(doc_index) + '.txt', 'w') as f:\n",
        "        f.write(document)\n",
        "\n",
        "      docs_len.append(count_tokens(document))\n",
        "      doc_index += 1\n",
        "      document = \"\"\n",
        "\n",
        "    document += block\n",
        "    block = \"\"\n",
        "\n",
        "print(\"Number of chunks obtained: \" + str(doc_index))"
      ]
    },
    {
      "cell_type": "code",
      "execution_count": null,
      "metadata": {
        "colab": {
          "base_uri": "https://localhost:8080/"
        },
        "id": "mwVWd3HhzOov",
        "outputId": "e5f7e0a9-060f-4107-e9bb-47df0c9b5dd4"
      },
      "outputs": [],
      "source": [
        "# print the max, the min and the avg of values in docs_len\n",
        "print(\"Number of documents: \",len(docs_len))\n",
        "print(\"Maximum number of tokens in a document: \",max(docs_len))\n",
        "print(\"Minimum number of tokens in a document: \",min(docs_len))\n",
        "print(\"Average number of tokens in a document: \",sum(docs_len)/len(docs_len))"
      ]
    },
    {
      "cell_type": "code",
      "execution_count": null,
      "metadata": {
        "colab": {
          "base_uri": "https://localhost:8080/",
          "height": 487
        },
        "id": "-2aDAKvnOByr",
        "outputId": "eacf20e8-b192-4778-fc96-4787db8987a9"
      },
      "outputs": [],
      "source": [
        "# plot the distribution of number of tokens per document showing the mean\n",
        "mean_tokens = np.mean(docs_len)\n",
        "\n",
        "plt.figure(figsize=(9, 5))\n",
        "plt.hist(docs_len, bins=10, edgecolor='black', alpha=0.5)\n",
        "plt.axvline(mean_tokens, color='red', linestyle='dashed', linewidth=1, label=f'Mean = {mean_tokens:.2f}')\n",
        "plt.title('Distribution of Number of Tokens per Document')\n",
        "plt.xlabel('Number of Tokens')\n",
        "plt.ylabel('Frequency')\n",
        "plt.legend()\n",
        "plt.grid(axis='y', linestyle='--', alpha=0.7)\n",
        "\n",
        "plt.show()"
      ]
    },
    {
      "cell_type": "markdown",
      "metadata": {
        "id": "V5j3ay1zTLO5"
      },
      "source": [
        "# RAG Pipeline on PDFs with Limited GPU Requirements\n",
        "\n",
        "In this project, we aim to build a **Retrieval-Augmented Generation (RAG)** pipeline optimized for **limited GPU environments**. The goal is to combine the power of *dense retrieval-based methods* with the flexibility of generative models, while ensuring the system remains efficient enough to run on medium-tier laptops with GPUs.\n",
        "\n",
        "A RAG pipeline consists of two main stages: **retrieval** and **generation**. The entire process can be divided into **3 key steps**:\n",
        "\n",
        "1. **Generation of document embeddings**  \n",
        "   In this step, document embeddings are generated from a *corpus* using an embedding model. Each document is encoded into a dense vector representation, capturing semantic information.\n",
        "\n",
        "2. **Document retrieval**  \n",
        "   Relevant documents are fetched from the corpus based on the input query. This is achieved by utilizing the generated embeddings and calculating similarity with the query's embedding to retrieve the most relevant documents.\n",
        "\n",
        "3. **Output generation**  \n",
        "   The retrieved documents are then passed to a **generative model**, which produces contextually relevant responses based on the information extracted from the documents.\n",
        "\n",
        "By leveraging lightweight models and optimizing for efficiency, this RAG pipeline delivers powerful **AI-driven results** even on hardware with **limited resources**.\n",
        "\n",
        "Finally, a **Gradio interface** is provided, allowing users to interact with the system and \"chat\" with the documents they provide, offering a seamless experience for exploring the content."
      ]
    },
    {
      "cell_type": "markdown",
      "metadata": {
        "id": "SzLXqhNeTLO9"
      },
      "source": [
        "## Hardware requirements and constraints\n",
        "\n",
        "Let's find out what hardware we've got available to see what kind of model(s) we'll be able to load. You can also check this with the `!nvidia-smi` command."
      ]
    },
    {
      "cell_type": "markdown",
      "metadata": {},
      "source": [
        "> **NOTE** : as said above, `sentence-transformers` requires a different version of the `transformers` library, so we update it here."
      ]
    },
    {
      "cell_type": "code",
      "execution_count": null,
      "metadata": {},
      "outputs": [],
      "source": [
        "%pip install -qqq -U transformers"
      ]
    },
    {
      "cell_type": "code",
      "execution_count": null,
      "metadata": {},
      "outputs": [],
      "source": [
        "import torch\n",
        "\n",
        "device = torch.device(\"cuda\" if torch.cuda.is_available() else \"mps\" if torch.backends.mps.is_available() else \"cpu\")\n",
        "print(f\"Using device: {device}\")"
      ]
    },
    {
      "cell_type": "code",
      "execution_count": null,
      "metadata": {
        "colab": {
          "base_uri": "https://localhost:8080/"
        },
        "id": "gq99vywlTLO-",
        "outputId": "6c8d1cfd-46e7-4b0a-811a-26702c26f6fd"
      },
      "outputs": [],
      "source": [
        "# Get GPU available memory\n",
        "gpu_memory_bytes = torch.cuda.get_device_properties(0).total_memory\n",
        "gpu_memory_gb = round(gpu_memory_bytes / (2**30))\n",
        "print(f\"Available GPU memory: {gpu_memory_gb} GB\")\n",
        "print(torch.cuda.get_device_name(0))"
      ]
    },
    {
      "cell_type": "markdown",
      "metadata": {
        "id": "mN4Pji5BTLO-"
      },
      "source": [
        "Of course, depending on the provided harware, better models can be utilized."
      ]
    },
    {
      "cell_type": "markdown",
      "metadata": {
        "id": "gMiWvBYzTLO-"
      },
      "source": [
        "### Checking local GPU memory availability\n",
        "\n",
        "Let's first analyze how we decided the model to use for this project. This notebook was primarily run and tested locally on a **laptop** with 16GB of RAM and an NVIDIA RTX 3070 laptop GPU (8GB of VRAM). The main goal was to create a pipeline that could efficiently run on this portable device, leveraging the benefits of GPUs and CUDA for AI tasks while ensuring that the performance and capabilities did not feel lacking compared to larger models.\n",
        "\n",
        "We will need two main ingredients:\n",
        "- An *embedder* model, that calculates dense embeddings from documents\n",
        "- An *LLM*, that provides output given user's queries and the retrieved documents\n",
        "\n",
        "In their dedicated sections we will uncover the choiches made for both."
      ]
    },
    {
      "cell_type": "markdown",
      "metadata": {
        "id": "cPrgoawNTLO_"
      },
      "source": [
        "### Load our PDF and start producing chunks\n",
        "\n",
        "Let's now start by loading a pdf file and extracting chunks from it. These chunks' **quality** is important, since these will be essentially the *documents* on which we will compute the embeddings on."
      ]
    },
    {
      "cell_type": "code",
      "execution_count": null,
      "metadata": {
        "colab": {
          "base_uri": "https://localhost:8080/"
        },
        "id": "sBaOxo4gaimg",
        "outputId": "df426d36-10e5-4a0d-b5a1-2de3fc16503c"
      },
      "outputs": [],
      "source": [
        "from huggingface_hub import login\n",
        "from dotenv import load_dotenv\n",
        "\n",
        "PDF_NAME = \"Information Retrieval Slides.pdf\"\n",
        "running_on_colab = False\n",
        "\n",
        "try:\n",
        "    from google.colab import userdata # type: ignore\n",
        "    HF_TOKEN = userdata.get('HF_TOKEN')\n",
        "    print(\"Running in Google Colab. Using userdata to get HF_TOKEN.\")\n",
        "    running_on_colab = True\n",
        "except ModuleNotFoundError:\n",
        "    load_dotenv()\n",
        "    HF_TOKEN = os.getenv('HF_TOKEN')\n",
        "    print(\"Not running in Google Colab. Using load_dotenv to get HF_TOKEN.\")\n",
        "\n",
        "file_path = PDF_NAME\n",
        "login(token=HF_TOKEN)"
      ]
    },
    {
      "cell_type": "code",
      "execution_count": null,
      "metadata": {
        "colab": {
          "base_uri": "https://localhost:8080/"
        },
        "id": "i5jUKmVnUnI-",
        "outputId": "6e75190d-1df6-4934-e568-fce940533ebd"
      },
      "outputs": [],
      "source": [
        "# TODO : i chunk sono già in memory, si potrebbero semplicemente usare\n",
        "\n",
        "corpus = []\n",
        "# for each document in chunks folder append its text to corpus\n",
        "for file in sorted(os.listdir(\"chunks\")):\n",
        "    with open(os.path.join(\"chunks\", file), \"r\", encoding=\"utf-8\") as f:\n",
        "        corpus.append(f.read())\n",
        "\n",
        "print(len(corpus))"
      ]
    },
    {
      "cell_type": "markdown",
      "metadata": {
        "id": "2eBAwgyvTLPA"
      },
      "source": [
        "Let's give a look to some random documents extracted and preprocessed from the initial pdf"
      ]
    },
    {
      "cell_type": "code",
      "execution_count": null,
      "metadata": {
        "colab": {
          "base_uri": "https://localhost:8080/"
        },
        "id": "qKx35jopaimh",
        "outputId": "70a88162-0da7-4580-bd58-9914a1050657"
      },
      "outputs": [],
      "source": [
        "import random\n",
        "\n",
        "# print some random pages with their indices\n",
        "random.seed(42)\n",
        "for i in range(5):\n",
        "    doc = random.choice(corpus)\n",
        "    doc_index = corpus.index(doc)\n",
        "    print(f\"DocId: {doc_index}, {doc[:100]}...\")"
      ]
    },
    {
      "cell_type": "code",
      "execution_count": null,
      "metadata": {
        "colab": {
          "base_uri": "https://localhost:8080/"
        },
        "id": "pdh2ECCcaimi",
        "outputId": "77575d4b-99d2-4c8d-9c13-cc849730a8f5"
      },
      "outputs": [],
      "source": [
        "print(f\"Average document length: {sum(len(doc) for doc in corpus) / len(corpus)}\")"
      ]
    },
    {
      "cell_type": "markdown",
      "metadata": {
        "id": "K_Qj6OuLTLPB"
      },
      "source": [
        "We also provide a `save_documents` function, which can be useful for further inspection of the PDF content."
      ]
    },
    {
      "cell_type": "code",
      "execution_count": 33,
      "metadata": {
        "colab": {
          "base_uri": "https://localhost:8080/",
          "height": 72
        },
        "id": "wfIW-Bd6aimi",
        "outputId": "272a32c4-2ec4-40b7-efad-5f3fa3184c6e"
      },
      "outputs": [],
      "source": [
        "# import os\n",
        "\n",
        "# def save_documents(documents):\n",
        "#     \"\"\"\n",
        "#     Save the provided documents to the vector_store directory. Each document is saved as a separate text file.\n",
        "#     \"\"\"\n",
        "#     if not os.path.exists(\"vector_store\"):\n",
        "#         os.makedirs(\"vector_store\")\n",
        "#     # delete all files in the vector_store directory\n",
        "#     for file in os.listdir(\"vector_store\"):\n",
        "#         os.remove(os.path.join(\"vector_store\", file))\n",
        "#     for i, doc in enumerate(documents):\n",
        "#         with open(f\"vector_store/document_{i}.txt\", \"w\", encoding=\"utf-8\") as f:\n",
        "#             f.write(doc.page_content)"
      ]
    },
    {
      "cell_type": "code",
      "execution_count": null,
      "metadata": {
        "colab": {
          "base_uri": "https://localhost:8080/"
        },
        "id": "lVas_GFzaimi",
        "outputId": "8c11fa46-3b2d-4525-995b-3cc7c98cff31"
      },
      "outputs": [],
      "source": [
        "#save_documents(corpus)\n",
        "print(f\"Saved {len(corpus)} documents in the vector_store directory.\")"
      ]
    },
    {
      "cell_type": "markdown",
      "metadata": {},
      "source": [
        "Later, we will use two `json` files containing questions to test the pipeline: one with open-ended questions and another following a quiz-like format (multiple-choice questions with four options, where only one is correct). For now, we’ll download these files to prepare for testing and use one of them to ensure the pipeline works as expected.\n",
        "\n",
        "We’ll begin by defining the function `extract_questions(file_path, question_type)`, which takes two parameters:\n",
        "\n",
        "- `file_path`: the path to the JSON file containing the questions.\n",
        "- `question_type`: specifies the type of questions to extract and can be:\n",
        "  - `'open'` for open-ended questions.\n",
        "  - `'mc'` for multiple-choice questions.\n",
        "\n",
        "At this stage, since our primary goal is to verify that everything functions as intended, we will focus on using the multiple-choice JSON file. "
      ]
    },
    {
      "cell_type": "code",
      "execution_count": null,
      "metadata": {
        "colab": {
          "base_uri": "https://localhost:8080/"
        },
        "id": "kR2e6XDsaimi",
        "outputId": "b33312f6-c75d-4ff9-eea5-2fe1a1a8c2d1"
      },
      "outputs": [],
      "source": [
        "import json\n",
        "\n",
        "\n",
        "def extract_questions(file_path, question_type=\"mc\"):\n",
        "    \"\"\"\n",
        "    Extracts questions from a JSON file.\n",
        "    \"\"\"\n",
        "    with open(file_path, 'r') as file:\n",
        "        data = json.load(file)\n",
        "\n",
        "    if question_type == \"mc\":\n",
        "        return [\n",
        "            {\n",
        "                \"question\": item.get(\"question\", \"\").strip(),\n",
        "                \"answers\": item.get(\"answers\", \"\"),\n",
        "                \"correct\": item.get(\"correct\", \"\"),\n",
        "                \"question_id\": item.get(\"question_id\", \"\")\n",
        "            }\n",
        "            for item in data\n",
        "        ]\n",
        "    elif question_type == \"open\":\n",
        "        return [\n",
        "            {\n",
        "                \"question_id\": item.get(\"question_id\", \"\"),\n",
        "                \"question\": item.get(\"question\", \"\")\n",
        "            }\n",
        "            for item in data\n",
        "        ]\n",
        "    else:\n",
        "        raise ValueError(f\"Unsupported question type: {question_type}\")\n",
        "\n",
        "\n",
        "\n",
        "if not os.path.exists(\"evaluation\"):\n",
        "    os.makedirs(\"evaluation\")\n",
        "    # save locally from https://drive.google.com/file/d/1m2_iG7cGOgRwfVaXzTORU7Pcn71UFKcG/view?usp=drive_link\n",
        "    gdown.download(id=\"1m2_iG7cGOgRwfVaXzTORU7Pcn71UFKcG\", output=\"evaluation/quiz.json\", quiet=False)\n",
        "    # save locally from https://drive.google.com/file/d/1L6rvrbPtwGduaN-8DmpLAWXUtHSfhhF2/view?usp=sharing\n",
        "    gdown.download(id=\"1L6rvrbPtwGduaN-8DmpLAWXUtHSfhhF2\", output=\"evaluation/open_questions.json\", quiet=False)\n",
        "\n",
        "queries = extract_questions(\"evaluation/quiz.json\", \"mc\")\n",
        "print(f\"Loaded {len(queries)} questions.\")\n",
        "\n",
        "random.seed(4242)\n",
        "print(random.choice(queries))"
      ]
    },
    {
      "cell_type": "markdown",
      "metadata": {
        "id": "QPIvk-TUTLPB"
      },
      "source": [
        "## Gather Dataset Embeddings\n",
        "\n",
        "In this first stage, the aim is to produce the documents embeddings, in order to be able to make similarity searches in the upcoming steps of the pipeline.\n",
        "\n",
        "### About the `cde-small-v1` Model\n",
        "\n",
        "The `cde-small-v1` model, developed by John X. Morris and Alexander M. Rush, is a cutting-edge model for generating **Contextual Document Embeddings (CDE)** ([link](https://huggingface.co/jxm/cde-small-v1)). What sets this model apart is its ability to integrate \"*context tokens*\" into the embedding process, which allows it to capture the nuances and relationships between documents more effectively. This makes it particularly suitable for generating highly accurate embeddings for both documents and queries, especially in cases where capturing the context of a document within the broader corpus is crucial.\n",
        "\n",
        "We chose this model because, as of December 2024, it is one of the leading models under 400M parameters, delivering impressive results on the [**Massive Text Embedding Benchmark (MTEB) leaderboard**](https://huggingface.co/spaces/mteb/leaderboard). Although it ranks 32nd overall, it stands out as the top model in terms of **memory efficiency**, which is a key factor for our project, given the requirement for **limited GPU capabilities**. Additionally, it offers a substantial **embedding dimension of 768**, striking a balance between computational efficiency and embedding quality."
      ]
    },
    {
      "cell_type": "markdown",
      "metadata": {
        "id": "0Sg3xXhiaimk"
      },
      "source": [
        "<style>\n",
        "    img {\n",
        "        border-radius: 15px;\n",
        "    }\n",
        "</style>\n",
        "![assets/cde-small-v1.png](https://github.com/giuliocapecchi/LM-project/blob/main/assets/cde-small-v1.png?raw=1)"
      ]
    },
    {
      "cell_type": "markdown",
      "metadata": {
        "id": "RvqbzIDgTLPC"
      },
      "source": [
        "A key feature of the `cde-small-v1` model is its optimization for a two-stage embedding process:\n",
        "\n",
        "1. **First Stage**: Embedding a subset of documents from the corpus to create \"dataset embeddings,\" which serve as a **reference** for the entire corpus.\n",
        "2. **Second Stage**: Using the dataset embeddings to embed new queries and documents during inference.\n",
        "\n",
        "This model is compact yet delivers solid performance, making it suitable for our use case.\n",
        "\n",
        "### Steps to Gather Dataset Embeddings:\n",
        "\n",
        "1. **Selecting a Subset of Documents**  \n",
        "   We begin by sampling a representative set of documents from the corpus. Following the model's guidelines, we select 512 documents. If this number isn't available, the model can handle oversampling, which is the case for the PDF dataset we're using. Despite this, performance remains strong.\n",
        "\n",
        "2. **Generating Dataset Embeddings**  \n",
        "   After selecting the documents, we encode them using the `cde-small-v1` embedding model. This step produces dense vector representations of the documents, which are representative of the broader corpus.\n",
        "\n",
        "3. **Embedding Queries and Documents**  \n",
        "   Once the dataset embeddings are created, we use them to embed both documents and queries. A key feature of this model is its ability to differentiate between 'queries' and 'documents' during encoding, ensuring context is preserved during the embedding process.\n",
        "\n",
        "\n",
        "Next, we will load the model using the `SentenceTransformers` interface to begin the embedding process."
      ]
    },
    {
      "cell_type": "code",
      "execution_count": null,
      "metadata": {
        "colab": {
          "base_uri": "https://localhost:8080/"
        },
        "id": "6eW5vIiUTLPC",
        "outputId": "6c718d5a-65a5-4029-a1b0-16734d33ec37"
      },
      "outputs": [],
      "source": [
        "from sentence_transformers import SentenceTransformer\n",
        "\n",
        "# with sentence-transformers we don't need prefixes but, to do retrieval, we need to use prompt_name=\"query\" and prompt_name=\"document\" in the encode method of the model when embedding queries and documents, respectively.\n",
        "embeddings_model = SentenceTransformer(\n",
        "    \"jxm/cde-small-v1\",\n",
        "    trust_remote_code=True,\n",
        ").to(device)"
      ]
    },
    {
      "cell_type": "markdown",
      "metadata": {
        "id": "7W7Dz05MTLPC"
      },
      "source": [
        "During the development of the project, the creators of the embedding model made a change in the Hugging Face repository, which led to unstable results when using the `SentenceTransformer` implementation. If a similar issue arises in the future, it can be mitigated by specifying the `revision` and `tokenizer_kwargs` parameters in the model constructor. These parameters allow to lock the model and tokenizer to a specific branch name, tag, or commit ID from the Hugging Face repository, ensuring stability.\n",
        "\n",
        "Here’s how to implement it:\n",
        "\n",
        "```python\n",
        "embeddings_model = SentenceTransformer(\n",
        "    \"jxm/cde-small-v1\",\n",
        "    trust_remote_code=True,\n",
        "    revision=\"9e2ed1d8d569d34458913d2d246935c1b2324d11\",  # Latest stable model revision\n",
        "    tokenizer_kwargs={\"revision\": \"86b5e0934494bd15c9632b12f734a8a67f723594\"}  # Latest stable tokenizer revision\n",
        ").to(device)\n",
        "```\n",
        "\n",
        "The tags provided above correspond to the latest stable commits (as of December 2024). You can retrieve them directly from the model's card page on Hugging Face, under the \"Files and Versions\" tab.\n",
        "\n",
        "Fortunately for us, the issue was resolved the same day we reported it to the creators via Twitter. We thank them for their prompt response and the fix they provided."
      ]
    },
    {
      "cell_type": "markdown",
      "metadata": {
        "id": "VvDHtnRDTLPC"
      },
      "source": [
        "Let's follow up by producing the `minicorpus` (which is the subsample of the whole corpus) and what we called `dataset_embeddings`"
      ]
    },
    {
      "cell_type": "code",
      "execution_count": null,
      "metadata": {
        "colab": {
          "base_uri": "https://localhost:8080/",
          "height": 85,
          "referenced_widgets": [
            "517c114c8ada458eb71c10b32dacf956",
            "39e5a1c895064f4f90497b2be0f19058",
            "49ad974ca5794ea590db740af168ac80",
            "ae95aec11ba44db28e58b4dbe468741a",
            "39fe55f747da48fda8fc574a1b7f3fe5",
            "5b0538c3bd5849bbaa9973b8f2555251",
            "cf36d37545434ab98893535264a30e0e",
            "243cbab5e2114709becd8a8f1f2befe0",
            "79360d975f9e41efb6acea38b929d56e",
            "4966afee1b8d402c862c2f98b7efbd20",
            "cb05151d51784fa38b04a5d7245c0b79"
          ]
        },
        "id": "7ISVKFnGaimk",
        "outputId": "e82b2ece-e335-4026-ba26-9d19dce408e0"
      },
      "outputs": [],
      "source": [
        "minicorpus_size = embeddings_model[0].config.transductive_corpus_size # 512\n",
        "random.seed(4242)\n",
        "minicorpus_docs = random.choices(corpus, k=minicorpus_size) # oversampling is okay\n",
        "assert len(minicorpus_docs) == minicorpus_size # We must use exactly this many documents in the minicorpus\n",
        "\n",
        "dataset_embeddings = embeddings_model.encode(\n",
        "    #[doc.page_content for doc in minicorpus_docs],\n",
        "    [doc for doc in minicorpus_docs],\n",
        "    prompt_name=\"document\",\n",
        "    convert_to_tensor=True,\n",
        "    show_progress_bar=True\n",
        ")\n",
        "\n",
        "print(f\"Corpus size: {len(corpus)}\")\n",
        "print(f\"Computed embeddings for {len(minicorpus_docs)} documents. Shape: {dataset_embeddings.shape}\")"
      ]
    },
    {
      "cell_type": "code",
      "execution_count": null,
      "metadata": {
        "colab": {
          "base_uri": "https://localhost:8080/"
        },
        "id": "qWDiKrp7aiml",
        "outputId": "4b98039a-d395-4cfd-d982-eff8978b4c9e"
      },
      "outputs": [],
      "source": [
        "print(\"Some mini-corpus documents:\")\n",
        "\n",
        "# get some random documents from the minicorpus\n",
        "random.seed(4242)\n",
        "for i in random.sample(range(minicorpus_size), 5):\n",
        "    #print(f\"document {i}: {minicorpus_docs[i].page_content[:100]}...\")\n",
        "    print(f\"document {i}: {minicorpus_docs[i][:100]}...\")"
      ]
    },
    {
      "cell_type": "markdown",
      "metadata": {
        "id": "MZLI5qjGaiml"
      },
      "source": [
        "Now that we have obtained the **dataset embeddings**, we can proceed to embed both documents and queries using the same model.\n",
        "\n",
        "To embed the documents and queries, we must ensure that we specify the correct `prompt_name` for each, as well as pass the `dataset_embeddings` to maintain context. The reason is that, as many state-of-the-art-models, this one was trained with task-specific prefixes:\n",
        "\n",
        "- For documents, use:  \n",
        "  `prompt_name=\"document\"`\n",
        "\n",
        "- For queries, use:  \n",
        "  `prompt_name=\"query\"`\n",
        "\n",
        "We also have to always additionally, specify  the `dataset_embeddings`, in order to use the once we produced before.\n",
        "\n",
        "By doing so, we ensure that the embeddings are generated with the correct context for both retrieval and generation tasks, leveraging the efficient performance of the `cde-small-v1` model."
      ]
    },
    {
      "cell_type": "code",
      "execution_count": null,
      "metadata": {
        "colab": {
          "base_uri": "https://localhost:8080/",
          "height": 117,
          "referenced_widgets": [
            "b724951a6ee34333bf5973941f497d76",
            "1f69777bcc7d42cb9cb55179c00e4e4e",
            "c9199337d8c344c0a73c1891ae64241f",
            "a5ff3839ab4044f0912afb33591da86a",
            "af60eba01fa240748e2c016fccb61fbb",
            "5c6692d3b8cb43be8454428fb7d50702",
            "ae70693e18f24d1ea5ed03158dac523a",
            "088a00e4ef6e45d3a9b558e67963c98c",
            "99a10b4090ea4b7ebbdd336c152cbcb1",
            "619559e8a6d64cdcbad2bf86470e00f7",
            "33e92c6778144f31a027f47181634dc7",
            "50d2168abb604a89a61f7f8cc0dcda07",
            "891e7319f4294fc4a7aef48250812f28",
            "ef62b09b0f904bf4be7ae4389294fb34",
            "3f3f8005f80f41e58f97bd05f4431218",
            "2ba6010d15ba4f2fa24d476bb180b91a",
            "79d0e3ae9c4b48c9a4a15a4b8eb2eccd",
            "ee0e79bf48f543f1a250875f3f1576d2",
            "43489b86ba51437cbe8e9137ef7338ca",
            "aca0e1cebd2045f78f2d0f9e8def9856",
            "b998ceb3c1954dfdafbd451e2753c9cc",
            "59714a15945e4ff98408e219b351a09d"
          ]
        },
        "id": "Z-4WdCtLaiml",
        "outputId": "eb9af4a9-0294-4841-9927-b4927faea303"
      },
      "outputs": [],
      "source": [
        "doc_embeddings = embeddings_model.encode(\n",
        "    [doc for doc in corpus],\n",
        "    prompt_name=\"document\",\n",
        "    dataset_embeddings=dataset_embeddings, # this is the contexualized embeddings of the minicorpus\n",
        "    convert_to_tensor=True,\n",
        "    show_progress_bar=True\n",
        ")\n",
        "\n",
        "query_embeddings = embeddings_model.encode(\n",
        "    [query['question'] for query in queries],\n",
        "    prompt_name=\"query\",\n",
        "    dataset_embeddings=dataset_embeddings,  # this is the contexualized embeddings of the minicorpus\n",
        "    convert_to_tensor=True,\n",
        "    show_progress_bar=True\n",
        ")\n",
        "\n",
        "print(f\"Document embeddings shape: {doc_embeddings.shape}\")\n",
        "print(f\"Query embeddings shape: {query_embeddings.shape}\")"
      ]
    },
    {
      "cell_type": "markdown",
      "metadata": {
        "id": "1BQx9Lr3TLPD"
      },
      "source": [
        "We can now computes similarities between the embeddings and all the queries by simply calling `embeddings_model.similarity` (which uses by default cosine similarity), and inspect some of the results obtained."
      ]
    },
    {
      "cell_type": "code",
      "execution_count": null,
      "metadata": {
        "colab": {
          "base_uri": "https://localhost:8080/"
        },
        "id": "8coT3HV9aiml",
        "outputId": "c8b21a5c-d160-493b-99d3-2cbd07b1788b"
      },
      "outputs": [],
      "source": [
        "similarities = embeddings_model.similarity(query_embeddings, doc_embeddings)\n",
        "print(\"'similarities' shape : \",similarities.shape)\n",
        "topk_values, topk_indices = similarities.topk(5)\n",
        "\n",
        "random.seed(4242)\n",
        "random_queries = random.sample(queries, 2)\n",
        "for query in random_queries:\n",
        "    query_idx = queries.index(query)\n",
        "    print(f\"Query: {query['question']}\")\n",
        "    for j, idx in enumerate(topk_indices[query_idx]):\n",
        "        doc = corpus[idx]\n",
        "        print(f\"Rank {j+1} (Score: {topk_values[query_idx][j]:.4f}, Doc ID: {idx}): {doc[:200]}...\")\n",
        "    print()"
      ]
    },
    {
      "cell_type": "markdown",
      "metadata": {
        "id": "OH3wLZDIaiml"
      },
      "source": [
        "## Chroma\n",
        "\n",
        "While not strictly necessary for this project - since the provided PDF is relatively small - we decided to integrate a vector database to enhance the storage and retrieval of the embeddings produced. This integration becomes particularly valuable when larger files are processed, as they often require splitting the corpus into smaller chunks, with each chunk generating its own embedding. The resulting large number of embeddings makes efficient storage and retrieval mechanisms increasingly important.\n",
        "\n",
        "After evaluating various options, we selected [**Chroma**](https://www.trychroma.com/) for its simplicity of local deployment and good performances. Chroma is particularly well-suited for managing **large document collections**, providing **faster retrieval** and ensuring that the pipeline remains robust and adaptable to big files.\n",
        "\n",
        "### Implementation Steps\n",
        "\n",
        "We begin by creating a Chroma client and verifying if a collection named `'chroma-collection'` already exists locally:  if it does, we delete it to ensure a clean state before initializing a new one.\n",
        "\n",
        "For reference, a Chroma client can be instantiated in two ways :\n",
        "\n",
        "- in an **ephemeral way** (in-memory), particularly useful for experimentation, such as testing different embedding functions and retrieval techniques. If data persistence is not a requirement, this approach provides a lightweight and efficient way to get started with Chroma while maintaining flexibility for quick iterations. This can be achieved with the following code:\n",
        "\n",
        "    ```python\n",
        "    import chromadb\n",
        "    client = chromadb.Client()\n",
        "    ```\n",
        "\n",
        "- with a **persistent client**. This can be done by providing a  path where Chroma will store its database files on disk, and load them on start.\n",
        "\n",
        "    ```python\n",
        "    import chromadb\n",
        "    client = chromadb.PersistentClient(path=\"/path/to/save/to\")\n",
        "    ```\n",
        "    If a `path` is not provided, the default is `.chroma`\n",
        "\n",
        "More about Chroma can be found in its [documentation](https://docs.trychroma.com/docs/overview/introduction). We choose to utilize the **persistent** approach, so let's follow by instantiating a `PersistentClient`;  if the collection already exists, we delete it to ensure a clean state before initializing a new one.\n"
      ]
    },
    {
      "cell_type": "code",
      "execution_count": null,
      "metadata": {
        "colab": {
          "base_uri": "https://localhost:8080/"
        },
        "id": "2jszrG73aimm",
        "outputId": "d27709f6-ecf0-4522-ed0c-fca14561a173"
      },
      "outputs": [],
      "source": [
        "from chromadb import PersistentClient, Collection\n",
        "\n",
        "COLLECTION_NAME = \"chroma-collection\"\n",
        "\n",
        "# Initialize the Chroma client\n",
        "client = PersistentClient(path=\"./\"+COLLECTION_NAME)\n",
        "\n",
        "# Check if the collection exists and delete it if it does\n",
        "if COLLECTION_NAME in [col.name for col in client.list_collections()]:\n",
        "    client.delete_collection(name=COLLECTION_NAME)\n",
        "    print(f\"Collection {COLLECTION_NAME} exists, deleting it\")\n",
        "else:\n",
        "    print(f\"Collection {COLLECTION_NAME} does not exist\")"
      ]
    },
    {
      "cell_type": "markdown",
      "metadata": {
        "id": "e2KFyNnBTLPE"
      },
      "source": [
        "### Integration of `cde-small-v1` with Chroma\n",
        "\n",
        "Integrating the **`cde-small-v1`** embedding model with Chroma required the creation of a custom `EmbeddingFunction`. This was necessary because **`cde-small-v1`** has a distinct workflow that deviates from standard embedding models. Specifically, as said it uses:\n",
        "\n",
        "- **`prompt_name`**: This parameter distinguishes between \"document\" and \"query\" embeddings, to have proper alignment during retrieval tasks.\n",
        "- **`dataset_embeddings`**: These provide a reference for conditional embedding generation, improving contextual accuracy in embeddings.\n",
        "\n",
        "By default, Chroma does not natively support these additional parameters. However, it offers the flexibility of extending the `EmbeddingFunction` protocol, allowing us to integrate the specific requirements of the **`cde-small-v1`** model into Chroma’s workflow.\n",
        "\n",
        "We can check the type of the elements of the corpus produced by our chunking functions and use it to differentiate between queries and documents."
      ]
    },
    {
      "cell_type": "code",
      "execution_count": null,
      "metadata": {
        "colab": {
          "base_uri": "https://localhost:8080/"
        },
        "id": "_sECLKtWTLPE",
        "outputId": "d3d36975-7e76-4936-dda5-2a6d18631f36"
      },
      "outputs": [],
      "source": [
        "print(type(corpus[0]))"
      ]
    },
    {
      "cell_type": "code",
      "execution_count": 43,
      "metadata": {
        "id": "lGg8Ljrqaimm"
      },
      "outputs": [],
      "source": [
        "from chromadb import Documents, EmbeddingFunction, Embeddings\n",
        "\n",
        "\n",
        "class CustomEmbeddingFunction(EmbeddingFunction):\n",
        "    def __call__(self, input: Documents) -> Embeddings:\n",
        "        \"\"\"\n",
        "        Automatically detect if the input is a document or a query and set the mode accordingly.\n",
        "        :param input: Documents or queries to embed.\n",
        "        :return: Embeddings.\n",
        "        \"\"\"\n",
        "        # TODO : Detect the mode: \"document\" if the input is a list of documents, else \"query\".\n",
        "        mode = \"query\" #\"document\" if isinstance(input[0], langchain_core.documents.base.Document) else \"query\"\n",
        "\n",
        "        # If the input is a list of Documents, extract the text.\n",
        "        #if isinstance(input, list):\n",
        "        #    input = [doc if isinstance(doc, str) else doc.page_content for doc in input]\n",
        "\n",
        "        # Generate embeddings using the model with the determined mode\n",
        "        embeddings = embeddings_model.encode(\n",
        "            input,\n",
        "            prompt_name=mode,\n",
        "            dataset_embeddings=dataset_embeddings,\n",
        "            convert_to_tensor=True,\n",
        "        ).cpu().numpy()\n",
        "\n",
        "        return embeddings.tolist()\n",
        "\n",
        "# Create an instance of the embeddings function for queries (we already calculated all the embeddings of the documents)\n",
        "custom_embedding_function = CustomEmbeddingFunction()"
      ]
    },
    {
      "cell_type": "markdown",
      "metadata": {
        "id": "7bzGZd21TLPE"
      },
      "source": [
        "Furthermore, while Chroma defaults to using Euclidean distance (`l2`) for nearest-neighbor search, the **`cde-small-v1`** embeddings from `SentenceTransformers` are based on cosine similarity by default. To utilize it, We configure the metadata parameter `\"hnsw:space\": \"cosine\"` when creating the collection. This ensures that Chroma uses cosine similarity, aligning with the previous behavior.\n",
        "\n",
        "<style>\n",
        "    img {\n",
        "        border-radius: 15px;\n",
        "    }\n",
        "</style>\n",
        "![chroma-similarity-measures.png](https://github.com/giuliocapecchi/LM-project/blob/main/assets/chroma-similarity-measures.png?raw=1)\n",
        "\n",
        "Once the collection is configured, we add all the documents and their precomputed embeddings to it.\n",
        "\n",
        "> **NOTE:** We manually computed the embeddings beforehand (for analysis purposes) in the previous steps. If we had only provided the documents, Chroma would have automatically generated the embeddings using the `CustomEmbeddingFunction`, without the need for precomputation."
      ]
    },
    {
      "cell_type": "code",
      "execution_count": 44,
      "metadata": {
        "id": "nIhVPEaFTLPE"
      },
      "outputs": [],
      "source": [
        "# Create a Chroma collection with the custom embedding function\n",
        "collection: Collection = client.create_collection(\n",
        "    name=COLLECTION_NAME,\n",
        "    embedding_function=custom_embedding_function,\n",
        "    get_or_create=True,\n",
        "    metadata={\"hnsw:space\": \"cosine\"} # l2 is the default but cosine is more suitable for this embedding function\n",
        ")\n",
        "\n",
        "# Add the documents and their (already computed) embeddings to the collection\n",
        "collection.add(\n",
        "    ids=[str(i) for i in range(len(corpus))],  # Unique identifiers for the documents\n",
        "    embeddings=doc_embeddings.cpu().numpy(),\n",
        "    #documents=[doc.page_content for doc in corpus],\n",
        "    documents=[doc for doc in corpus],\n",
        ")"
      ]
    },
    {
      "cell_type": "code",
      "execution_count": null,
      "metadata": {
        "colab": {
          "base_uri": "https://localhost:8080/"
        },
        "id": "QGxEGrC9aimm",
        "outputId": "a4f7b927-3b32-4890-86e8-169a03ce692c"
      },
      "outputs": [],
      "source": [
        "#print(collection.peek()) # returns a list of the first 10 items in the collection\n",
        "print(\"Number of documents in the corpus: \",len(corpus))\n",
        "print(\"Number of documents in the collection: \",collection.count()) # returns the number of items in the collection"
      ]
    },
    {
      "cell_type": "markdown",
      "metadata": {
        "id": "bsm8bDfzTLPE"
      },
      "source": [
        "We can finally test `collection.query` to make some calls to the Chroma collection, and we expect similar (ideally, the same) results as above, when we used `model.similarity`."
      ]
    },
    {
      "cell_type": "code",
      "execution_count": null,
      "metadata": {
        "colab": {
          "base_uri": "https://localhost:8080/"
        },
        "id": "iwXd0aw1aimn",
        "outputId": "56b409a4-2aad-4ce1-84ec-76d11b8fdad9"
      },
      "outputs": [],
      "source": [
        "query_text = \"How many bytes can UTF-8 use to encode a character?\"\n",
        "\n",
        "# create a Document object with the query text\n",
        "results = collection.query(\n",
        "    query_texts=query_text,\n",
        "    n_results=5\n",
        ")\n",
        "print(results)\n",
        "\n",
        "# Print the results with the document IDs and scores\n",
        "for i, (doc_id, score, doc) in enumerate(zip(results['ids'][0], results['distances'][0], results['documents'][0])):\n",
        "    print(f\"Rank {i+1}: Document ID: {doc_id}, Score: {1-score:.4f}, {doc[:200]}\")"
      ]
    },
    {
      "cell_type": "markdown",
      "metadata": {
        "id": "Un7yDGUJTLPI"
      },
      "source": [
        "... which is exactly identical to the previous ones.\n",
        "\n",
        "One final thing to note is that in Chroma cosine similarity is calculated as `1 - cosim` ; this is done to ensure that lower values indicate a better position in the ranked list. To obtain results consistent with the previous ones, we subtractde the score from one in the above code.\n"
      ]
    },
    {
      "cell_type": "markdown",
      "metadata": {
        "id": "ckTwJIF5aimn"
      },
      "source": [
        "### Compute scores between queries and documents"
      ]
    },
    {
      "cell_type": "markdown",
      "metadata": {
        "id": "Dp-7zfI3TLPJ"
      },
      "source": [
        "Now we can analyze a similarity heatmap between the embeddings of our documents and the provided queries. The results show consistency with the following observations:\n",
        "\n",
        "- **Few documents match the queries**: This suggests that the matching documents are likely the most relevant ones.\n",
        "- **Matches often occur in subsequent documents**: This is expected since the corpus was split into chunks based on the document's structure. For example, chapters are separated, so answers to specific questions are more likely to be located within the same chapter or adjacent sections of the document.\n",
        "\n",
        "Additionally, we provide a distribution of the similarity scores. This helps us assess whether an empirical threshold can be established to determine which documents are truly similar to the provided queries."
      ]
    },
    {
      "cell_type": "code",
      "execution_count": null,
      "metadata": {
        "colab": {
          "base_uri": "https://localhost:8080/",
          "height": 507
        },
        "id": "u4zQUCwaaimn",
        "outputId": "9149b27b-ffd1-489c-cede-e84447c125ad"
      },
      "outputs": [],
      "source": [
        "from seaborn import heatmap\n",
        "\n",
        "fig, axes = plt.subplots(1, 2, figsize=(15, 5))\n",
        "\n",
        "# Plot heatmap\n",
        "heatmap(similarities.cpu().numpy().T, cmap=\"jet\", ax=axes[0])\n",
        "axes[0].set_title(\"Similarity Heatmap\")\n",
        "\n",
        "# Plot histogram\n",
        "axes[1].hist(similarities.cpu().flatten(), bins=50, color='blue', alpha=0.6)\n",
        "axes[1].set_title(\"Distribution of Similarity Scores\")\n",
        "axes[1].set_xlabel(\"Similarity\")\n",
        "axes[1].set_ylabel(\"Frequency\")\n",
        "axes[1].axvline(x=0.5, color='red', alpha=0.6, linestyle='--')\n",
        "\n",
        "plt.tight_layout()\n",
        "plt.show()"
      ]
    },
    {
      "cell_type": "markdown",
      "metadata": {
        "id": "2bxLzRQCaimn"
      },
      "source": [
        "## Loading the LLM"
      ]
    },
    {
      "cell_type": "markdown",
      "metadata": {
        "id": "ld0Lry9LTLPJ"
      },
      "source": [
        "After conducting some research, we chose to work with one of Meta's latest smaller open-source Llama models available at the time of writing this notebook: [Llama-3.2-3B-Instruct](https://huggingface.co/meta-llama/Llama-3.2-3B-Instruct), released the *25th of September 2024*. We specifically selected the *instruct* variant because it is pre-trained to follow basic instructions, offering a more user-friendly and fine-tuned experience compared to the standard non-instruct version (which is also available). Below, we review this model's [specifications](https://llamaimodel.com/requirements-3-2/):\n",
        "\n",
        "| **Llama 3.2 3B Instruct Model Specifications**                    | **Requirement**       | **Details**                                                                                  |\n",
        "|----------------------------------|-----------------------|----------------------------------------------------------------------------------------------|\n",
        "| Parameters                       | 3 billion             |                                                                                              |\n",
        "| Context Length                   | 128,000 tokens        |                                                                                              |\n",
        "| **Hardware Requirements**        |                       |                                                                                              |\n",
        "| CPU and RAM                      |                       | CPU: Multicore processor <br> RAM: Minimum of 16 GB recommended                              |\n",
        "| GPU                              |                       | NVIDIA RTX series (for optimal performance), at least 8 GB VRAM                              |\n",
        "| **Estimated GPU Memory Requirements** |                       |                                                                                              |\n",
        "| Higher Precision Modes           | BF16/FP16             | ~6.5 GB                                                                                      |\n",
        "| Lower Precision Modes            | FP8                   | ~3.2 GB                                                                                      |\n",
        "|                                  | INT4                  | ~1.75 GB                                                                                     |\n",
        "| **Software Requirements**        |                       |                                                                                              |\n",
        "| Software Dependencies            |                       | Frameworks: PyTorch <br> Libraries: Hugging Face Transformers (version 4.45.0 or higher), CUDA |"
      ]
    },
    {
      "cell_type": "code",
      "execution_count": null,
      "metadata": {
        "colab": {
          "base_uri": "https://localhost:8080/"
        },
        "id": "QVuakpG-TLPJ",
        "outputId": "59980ae2-5e5a-4bb2-8ee4-68c27a0d13f1"
      },
      "outputs": [],
      "source": [
        "print(\"Is bf16 supported: \",torch.cuda.is_bf16_supported())"
      ]
    },
    {
      "cell_type": "markdown",
      "metadata": {
        "id": "3Hw22_isTLPK"
      },
      "source": [
        "The `bitsandbytes` library is a lightweight Python wrapper around CUDA custom functions, in particular 8-bit optimizers, matrix multiplication (LLM.int8()), and 8 & 4-bit quantization functions.\n",
        "\n",
        "The library includes quantization primitives for 8-bit & 4-bit operations, through `bitsandbytes.nn.Linear8bitLt` and `bitsandbytes.nn.Linear4bit` and 8-bit optimizers through bitsandbytes.optim module."
      ]
    },
    {
      "cell_type": "markdown",
      "metadata": {
        "id": "FYAVifb8TLPK"
      },
      "source": [
        "#### Quantization Choices\n",
        "\n",
        "We chose a *middle ground* by loading the model with **4-bit quantization** while maintaining **BFloat16** precision for computation.\n",
        "\n",
        "The use of 4-bit quantization reduces the precision of the model’s weights to just 4 bits per value, significantly lowering memory usage and accelerating inference. This method retains only the most essential information, sacrificing some numerical precision, but allows for larger models to be handled on GPUs with limited memory. Despite the weights being quantized to 4 bits, the model still performs computations in **16-bit floating point (BFloat16)** precision. BFloat16 is a 16-bit format that preserves much of the dynamic range of floating-point operations while requiring less memory than the traditional 32-bit format. This way, while the 4-bit quantization reduces the memory footprint of the model weights, the computation is performed in BFloat16, optimizing performance on modern GPUs that are tailored for BFloat16 operations. This configuration strikes a balance between computational efficiency and numerical precision, enabling fast inferences with minimal memory usage without significant loss in result quality.\n",
        "\n",
        "Given the hardware constraints, we opted for **4-bit quantization** using `BitsAndBytes` (as explained later). This approach greatly reduces the memory footprint and speeds up inference, ensuring acceptable performance for our use case. Without this configuration, the GPU’s memory usage was consistently at 100%, and inference times were approximately 2-3 minutes per query. With 4-bit quantization, memory usage drops to about 6GB, preventing GPU overload and reducing inference time to around 30 seconds per query, delivering satisfactory results. Further details on the quantization process will be provided later.\n",
        "\n",
        "However, we also need to consider that both the embedding model and the LLM must be loaded into memory, which adds another layer of complexity to the memory management. This requires careful balancing, as the total memory usage must accommodate both the LLM and the embedding model simultaneously. We will address how we manage this in the next section."
      ]
    },
    {
      "cell_type": "code",
      "execution_count": null,
      "metadata": {
        "colab": {
          "base_uri": "https://localhost:8080/",
          "height": 49,
          "referenced_widgets": [
            "e3a9759aeeef4b139fb21c07fd2adec7",
            "4337e62e2c0e46cd898691d2f51199f4",
            "5d15386a8d5747679ef7bf237de85678",
            "ebe1e6fb1824465d89bcfc9e22422b88",
            "769d9be8e74a45388ba91b4a7416d865",
            "5c6bfef2e4214f71bb8f19a6d1514698",
            "4e068be82c8a4f80b9d8617e88fbd852",
            "30165482718f4d18af591d891208553f",
            "e4392c33cd2d4bbe86655198b93594e6",
            "b69c0c940a97426b94a0e20e48c0422c",
            "41ee185081dd423bb91823db3e938e4b"
          ]
        },
        "id": "bnpvz_Wxaimn",
        "outputId": "cd8fccbc-3689-4080-fddb-19c1152ab94a"
      },
      "outputs": [],
      "source": [
        "from transformers import (\n",
        "    BitsAndBytesConfig,\n",
        "    AutoModelForCausalLM,\n",
        "    AutoTokenizer\n",
        ")\n",
        "\n",
        "MODEL_NAME = \"meta-llama/Llama-3.2-3B-Instruct\"\n",
        "\n",
        "# Quantization is a technique that reduces the precision of the model’s weights to make it run faster and consume less memory, often at the cost of a slight reduction in model accuracy or quality\n",
        "bnb_config = BitsAndBytesConfig(\n",
        "    load_in_4bit=True,                      # Lower precision reduces memory usage and can speed up inference (maybe try 8)\n",
        "    bnb_4bit_use_double_quant=True,         # Using double quantization can help reduce the loss in accuracy associated with quantization\n",
        "    bnb_4bit_quant_type=\"nf4\",              # Normal Float 4-bit quantization, a scheme that may preserve model quality better than straightforward quantization methods\n",
        "    bnb_4bit_compute_dtype=torch.bfloat16,  # The internal compute dtype used during inference. bfloat16 (BF16) is often chosen because it’s efficient on modern accelerators\n",
        "    llm_int8_enable_fp32_cpu_offload=True   # Enable FP32 CPU offload\n",
        ")\n",
        "\n",
        "\n",
        "llm_model = AutoModelForCausalLM.from_pretrained(\n",
        "    MODEL_NAME,\n",
        "    device_map={\"\": device},  # ensure all modules are on GPU\n",
        "    quantization_config=bnb_config,\n",
        ").to(device)\n",
        "\n",
        "tokenizer = AutoTokenizer.from_pretrained(MODEL_NAME)\n",
        "tokenizer.pad_token = tokenizer.eos_token\n",
        "\n",
        "generation_config = llm_model.generation_config\n",
        "generation_config.max_new_tokens = 200                    # the maximum number of new tokens the model will generate (long outputs might be more prone to off-topic or repetitive content)\n",
        "generation_config.min_new_tokens = 1                      # the minimum number of new tokens the model will generate\n",
        "generation_config.temperature = 0.1                       # it controls the randomness of the generation, lower temp means more deterministic, conservative (less creative) and repetitive answers [about 0.1-1.2]\n",
        "generation_config.top_p = 0.5                             # nucleus sampling controls how the model picks words based on their cumulative probability, lower value (0.5) means safer, more coherent text but less diverse [about 0.5-0.9]\n",
        "generation_config.num_return_sequences = 1                # how many separate output sequences are returned for each generation prompt, get multiple different answers in one go, useful for picking the best response from several tries\n",
        "generation_config.pad_token_id = tokenizer.eos_token_id   # special token IDs that represent padding and the end-of-sequence token. Generally, these are set to ensure the model knows when to stop and how to handle inputs of different lengths\n",
        "generation_config.eos_token_id = tokenizer.eos_token_id\n",
        "generation_config.repetition_penalty = 2.0                # discourages the model from repeating the same phrases or tokens over and over [about 1.0-2.0] (high value cause the model to avoid some tokens even if they are contextually appropriate)"
      ]
    },
    {
      "cell_type": "markdown",
      "metadata": {},
      "source": [
        "We loaded various things on the GPU up to know. Still, with the proposed configuration for all the pipeline components, GPU usage should be acceptable."
      ]
    },
    {
      "cell_type": "code",
      "execution_count": null,
      "metadata": {
        "colab": {
          "base_uri": "https://localhost:8080/"
        },
        "id": "PNwOi2dHTLPK",
        "outputId": "f70242d6-24b8-4299-f9e6-2ad780fdc497"
      },
      "outputs": [],
      "source": [
        "# Check GPU usage\n",
        "gpu_memory_gb = torch.cuda.get_device_properties(device).total_memory / (1024 ** 3)  # in GB\n",
        "memory_allocated_gb = torch.cuda.memory_allocated(device) / (1024 ** 3)  # in GB\n",
        "print(f\"Memory Allocated: {memory_allocated_gb:.2f} GB\")\n",
        "print(f\"Total memory usage: {(memory_allocated_gb / gpu_memory_gb) * 100:.2f}%\")"
      ]
    },
    {
      "cell_type": "code",
      "execution_count": null,
      "metadata": {
        "colab": {
          "base_uri": "https://localhost:8080/"
        },
        "id": "UTIj3ob0aimn",
        "outputId": "40ed57a8-8772-476e-bd62-8cfd871e45f4"
      },
      "outputs": [],
      "source": [
        "def retrieve_relevant_documents(query, k=5):\n",
        "    results = collection.query( # query the Chroma collection\n",
        "        query_texts=query,\n",
        "        n_results=k\n",
        "    )\n",
        "    return results['documents'][0], results['distances'][0]\n",
        "\n",
        "# test the function\n",
        "query = \"How many bytes can UTF-8 use to encode a character?\"\n",
        "print(f\"Query: {query}\")\n",
        "documents, distances = retrieve_relevant_documents(query)\n",
        "for doc, distance in (zip(documents, distances)):\n",
        "    print(f\"(score: {1-distance:.4f}) {doc[:200]}\")"
      ]
    },
    {
      "cell_type": "code",
      "execution_count": 52,
      "metadata": {
        "id": "dZoEEO3caimo"
      },
      "outputs": [],
      "source": [
        "base_prompt =  '''You are an AI assistant for RAG.\n",
        "Your task is to provide detailed and accurate answers to user questions based on the provided contexts.\n",
        "If and only if ALL of the provided context lacks sufficient information, just state: \"The provided context does not have the answer.\" without speculating or providing unsupported answers.\n",
        "Keep the answers concise and professional and do not add informations that are not asked.\n",
        "\n",
        "User question: {user_query}\n",
        "\n",
        "Contexts:\n",
        "{chunks_information}\n",
        "\n",
        "Answer:\n",
        "'''"
      ]
    },
    {
      "cell_type": "markdown",
      "metadata": {},
      "source": [
        "## Perform Queries to the RAG Pipeline\n",
        "\n",
        "Now, we're ready to test the pipeline. The following function executes a query by performing the steps outlined below:\n",
        "\n",
        "1. **Retrieve Relevant Documents**: The function invokes `retrieve_relevant_documents` (defined in the coresponding section) to fetch the top 5 relevant documents to the query, along with their similarity scores\n",
        "2. **Filter Documents**: Documents with a similarity score below 0.5 (calculated as `1 - score`) are discarded, retaining only those with sufficient relevance. If no documents meet the relevance threshold, a message indicating that no relevant documents were found is returned.\n",
        "3. **Print the results**: If `print_retrieved_documents` is set to `True`, retrieved relevant documetns are also printed on the terminal.\n",
        "4. **Prepare the Prompt**: The filtered documents are used to create a prompt, which is passed to the model to generate a response. The prompt includes the user's query and the relevant document chunks.\n",
        "5. **Model Inference**: The prompt is tokenized and passed to the RAG model. The model generates a response using beam search (with 5 beams) and applies early stopping.\n",
        "6. **Generate and Return Response**: The function decodes the generated tokens and returns the resulting sequence as the response.\n",
        "\n",
        "This process ensures that the generated response is grounded in relevant documents, providing more accurate, context-aware answers."
      ]
    },
    {
      "cell_type": "code",
      "execution_count": 104,
      "metadata": {},
      "outputs": [],
      "source": [
        "def query_rag_model(query, base_prompt=base_prompt, print_retrieved_documents=True):\n",
        "    \"\"\"\n",
        "    Passes the user query to the RAG model and returns the generated answer.\n",
        "    \"\"\"\n",
        "    documents, scores = retrieve_relevant_documents(query, k=5)\n",
        "\n",
        "    # Filters out documents with a similarity score below 0.5\n",
        "    filtered_documents = [doc for doc, score in zip(documents, scores) if 1 - score >= 0.5]\n",
        "    filtered_scores = [score for score in scores if 1 - score >= 0.5]\n",
        "\n",
        "    # If no relevant documents are found, return a message\n",
        "    if not filtered_documents:\n",
        "        print(f\"No relevant documents found for query: {query}\")\n",
        "        return \"No relevant documents found.\"\n",
        "\n",
        "    if print_retrieved_documents:\n",
        "        print(\"Filtered documents and their scores: \")\n",
        "        for doc, score in zip(filtered_documents, filtered_scores):\n",
        "            print(f\"Score: {1-score:.4f}, {doc}\")\n",
        "        print(\"\\n\")\n",
        "\n",
        "    # Prepare the prompt for the model\n",
        "    prompt = base_prompt.format(user_query=query, chunks_information=\"\\n\".join(documents))\n",
        "    encoding = tokenizer(prompt, return_tensors=\"pt\").to(device)\n",
        "\n",
        "    with torch.inference_mode():\n",
        "        outputs = llm_model.generate(\n",
        "            input_ids=encoding.input_ids,\n",
        "            attention_mask=encoding.attention_mask,\n",
        "            generation_config=generation_config,\n",
        "            num_beams=5,\n",
        "            early_stopping=True,\n",
        "        )\n",
        "\n",
        "    generated_tokens = outputs[0][len(encoding.input_ids[0]):]\n",
        "    generated_sequence = tokenizer.decode(generated_tokens, skip_special_tokens=True).strip()\n",
        "\n",
        "    return generated_sequence"
      ]
    },
    {
      "cell_type": "markdown",
      "metadata": {},
      "source": [
        "Try it out by changing the query! Try also to change `print_retrieved_documents` to `True` to see what documents are influencing the produced output.\n",
        ">This operation takes ~15/30 seconds on our machine"
      ]
    },
    {
      "cell_type": "code",
      "execution_count": null,
      "metadata": {},
      "outputs": [],
      "source": [
        "response = query_rag_model(\"What is Information Retrieval?\", base_prompt, print_retrieved_documents=False)\n",
        "print(\"Response: \", response)"
      ]
    },
    {
      "cell_type": "markdown",
      "metadata": {},
      "source": [
        "# Evaluating model responses\n",
        "\n",
        "The following section covers experiments divided into two different tasks:\n",
        "\n",
        "1. How the model replies to **open-answer** questions\n",
        "2. How the model replies to **multiple-choice** questions\n",
        "\n",
        "For both test phase, questions were  stored into the json files described below."
      ]
    },
    {
      "cell_type": "markdown",
      "metadata": {},
      "source": [
        "The `quiz.json` file contains multiple-choice questions extracted from the *Multimedia and Information Retrieval* course's self-assessment quizzes. Below is an example of a question format:\n",
        "\n",
        "```json\n",
        "{ \n",
        "    \"question\": \"What is a key limitation of the Rocchio algorithm when applying relevance feedback in Information Retrieval?\",\n",
        "    \"answers\": [\n",
        "        \"It only uses positive feedback from relevant documents\",\n",
        "        \"It may suffer from query drift when non-relevant terms are included\",\n",
        "        \"It assumes that all terms in non-relevant documents have negative weights\",\n",
        "        \"It cannot handle queries with more than 10 terms\"\n",
        "    ],\n",
        "    \"correct\": 2,\n",
        "    \"question_id\": 1 \n",
        "}, ...\n",
        "```\n",
        "\n",
        "Each field in the JSON structure has the following meaning:\n",
        "\n",
        "<div align=\"center\">\n",
        "\n",
        "| **Field**       | **Content**                                     |\n",
        "|------------------|-------------------------------------------------|\n",
        "| `question`       | The question text                              |\n",
        "| `answers`        | A list of four possible answers                |\n",
        "| `correct`        | The index of the correct answer in `answers`   |\n",
        "| `question_id`    | Unique identifier for the question         |\n",
        "\n",
        "</div>"
      ]
    },
    {
      "cell_type": "markdown",
      "metadata": {},
      "source": [
        "On the other hand, the `open_questions.json` file contains open-answer questions, where an entry looks like:\n",
        "\n",
        "```json \n",
        "{\n",
        "        \"question_id\": \"1\",\n",
        "        \"question\": \"What is Jaccard Coefficient?\"\n",
        "}, ...\n",
        "```\n",
        "\n",
        "where:\n",
        "\n",
        "<div align=\"center\">\n",
        "\n",
        "| **Field**       | **Content**                                     |\n",
        "|------------------|-------------------------------------------------|\n",
        "| `question_id`    | Unique identifier of the question        |\n",
        "| `question`       | The question text                              |\n",
        "\n",
        "</div>\n"
      ]
    },
    {
      "cell_type": "code",
      "execution_count": 92,
      "metadata": {},
      "outputs": [],
      "source": [
        "evaluation_folder_path = \"./evaluation/\"\n",
        "quiz_file_path = evaluation_folder_path + \"quiz.json\"\n",
        "questions_file_path = evaluation_folder_path + \"open_questions.json\""
      ]
    },
    {
      "cell_type": "markdown",
      "metadata": {},
      "source": [
        "We will use the already defined `extract_questions(file_path, question_type)` function to obtain both the necessary files"
      ]
    },
    {
      "cell_type": "code",
      "execution_count": null,
      "metadata": {},
      "outputs": [],
      "source": [
        "quiz_questions = extract_questions(quiz_file_path, \"mc\")\n",
        "print(f\"Loaded {len(quiz_questions)} quiz questions.\")\n",
        "print(quiz_questions[0])"
      ]
    },
    {
      "cell_type": "code",
      "execution_count": null,
      "metadata": {},
      "outputs": [],
      "source": [
        "open_questions = extract_questions(questions_file_path, \"open\")\n",
        "print(f\"Loaded {len(open_questions)} open questions.\")\n",
        "print(open_questions[0])"
      ]
    },
    {
      "cell_type": "markdown",
      "metadata": {},
      "source": [
        "### Evaluating the model on open-questions\n",
        "\n",
        "`process_open_questions(queries, folder_path)` is a function used to run experiments over a list of open-answer questions, taking as input the list of questions with `queries` and folder path `folder_path` for results storing.\n",
        "\n",
        "1. Delete previous results if already done, create `res` folder otherwise\n",
        "2. Process one-by-one queries via `response = query_rag_model(query, base_prompt)`\n",
        "\n",
        "Note that:\n",
        "* No results are returned since are already store on `.txt` files\n",
        "* retrieve_relevant_documents is called only to write on .txt files documents retrieved, but it is also called into `query_rag_model` function"
      ]
    },
    {
      "cell_type": "code",
      "execution_count": null,
      "metadata": {},
      "outputs": [],
      "source": [
        "def process_open_questions(queries, folder_path):\n",
        "    \"\"\"\n",
        "    Processes a list of open questions, retrieves relevant documents, \n",
        "    and saves the responses to text files in a specified folder.\n",
        "    \n",
        "    Parameters:\n",
        "    - queries (list): List of queries to process.\n",
        "    - folder_path (str): Path to the folder where results will be saved.\n",
        "    \"\"\"\n",
        "    results_folder = os.path.join(folder_path, \"open-questions\")\n",
        "    if os.path.exists(results_folder):\n",
        "        # Clear the folder if it exists\n",
        "        for file_name in os.listdir(results_folder):\n",
        "            file_path = os.path.join(results_folder, file_name)\n",
        "            if os.path.isfile(file_path):\n",
        "                os.remove(file_path)\n",
        "    else:\n",
        "        # Create the folder if it doesn't exist\n",
        "        os.makedirs(results_folder)\n",
        "        \n",
        "    # Process each query and save the response\n",
        "    for idx, query in enumerate(tqdm(queries, desc=\"Processing queries\"), start=1):\n",
        "        # Get the model's response\n",
        "        response = query_rag_model(query['question'], base_prompt, print_retrieved_documents=False)\n",
        "\n",
        "        # Construct the file path for the current query\n",
        "        file_path = os.path.join(results_folder, f\"open_question_{idx}.mmd\")\n",
        "\n",
        "        # Save the query, response, and documents to a text file\n",
        "        with open(file_path, \"w\", encoding=\"utf-8\") as file:\n",
        "            file.write(f\"Query {idx}: {query['question']}\\n\\n\")\n",
        "            file.write(f\"Reply {idx}: {response}\")\n",
        "\n",
        "\n",
        "# This array can be used as an example\n",
        "# open_question_tmp = [\n",
        "#     \"What is Jaccard coefficient?\",\n",
        "#     \"How does Document At A Time query processing work?\",\n",
        "#     \"How does Term At A Time query processing work?\"\n",
        "# ]\n",
        "\n",
        "process_open_questions(open_questions, evaluation_folder_path)"
      ]
    },
    {
      "cell_type": "markdown",
      "metadata": {},
      "source": [
        "## TODO : Manca commento risultati domande aperte"
      ]
    },
    {
      "cell_type": "markdown",
      "metadata": {},
      "source": [
        "### Evaluating the model on a closend-answer quiz\n",
        "\n",
        "We also performed an experiments over a quiz file, to test:\n",
        "\n",
        "* The model ability to reply with correct **information**\n",
        "* Its ability to reply in a correct **format**\n",
        "\n",
        "According to these objectives, the prompt for the LLM is changed since in this case we require a short and coincise reply.\n",
        "\n",
        "After several tested prompts, the most performing one is reported below:"
      ]
    },
    {
      "cell_type": "code",
      "execution_count": 83,
      "metadata": {},
      "outputs": [],
      "source": [
        "quiz_prompt =  '''You are an AI assistant for RAG.\n",
        "Your task is to provide answers to user questions based solely on the provided contexts.\n",
        "If and only if ALL of the provided context lacks sufficient information, respond with the digit \"0\".\n",
        "Otherwise, provide only the index (1, 2, 3, or 4) of the correct answer based on the contexts.\n",
        "\n",
        "Do not include any additional text, explanations, or speculations. Your response must consist of a single digit only.\n",
        "\n",
        "Question: {user_query}\n",
        "\n",
        "Contexts:\n",
        "{chunks_information}\n",
        "'''"
      ]
    },
    {
      "cell_type": "markdown",
      "metadata": {},
      "source": [
        "The following function `run_quiz_with_rag(questions, evaluation_folder_path, quiz_prompt)` takes as input the questions, a folder to save results to, and the quiz prompt. It produces a run file for the model answer."
      ]
    },
    {
      "cell_type": "code",
      "execution_count": 101,
      "metadata": {},
      "outputs": [],
      "source": [
        "import time\n",
        "\n",
        "\n",
        "def run_quiz_with_rag(questions, evaluation_folder_path, quiz_prompt):\n",
        "    correct_count = 0\n",
        "    error_count = 0\n",
        "    results = {}\n",
        "\n",
        "    # Generate a timestamped file for quiz runs\n",
        "    current_time = time.strftime(\"%m%d-%H%M%S\")\n",
        "    quiz_run_folder = os.path.join(evaluation_folder_path, \"RAG_quiz_runs\")\n",
        "    os.makedirs(quiz_run_folder, exist_ok=True)\n",
        "    quiz_answers_file = os.path.join(quiz_run_folder, f\"quiz_answers_{current_time}.txt\")\n",
        "    print(f\"Saving quiz answers to: {quiz_answers_file}\")\n",
        "\n",
        "    # Progress bar for question processing\n",
        "    pbar = tqdm(questions, total=len(questions), desc=\"Answering questions...\", unit=\"question\")\n",
        "    for question in pbar:\n",
        "        # Query the RAG model\n",
        "        generated_sequence = query_rag_model(question['question'],quiz_prompt)\n",
        "        # Extract the answer from the generated text\n",
        "        match = re.search(r'\\b[1-4]\\b', generated_sequence)\n",
        "        answer = match.group(0) if match else \"0\"  # Default to \"0\" if no valid answer is found\n",
        "\n",
        "        # Write the results to a file\n",
        "        with open(quiz_answers_file, \"a\", encoding=\"utf-8\") as f:\n",
        "            f.write(\n",
        "                f\"Question: {question['question']}\\n\"\n",
        "                f\"Answer: {answer}\\n\"\n",
        "                f\"Correct Answer: {question['correct']}\\n\"\n",
        "                f\"Generated Sequence: {generated_sequence}\\n\"\n",
        "                f\"--------------------------------------------------------------------\\n\\n\"\n",
        "            )\n",
        "\n",
        "        # Update the results dictionary\n",
        "        results[question['question_id']] = answer\n",
        "\n",
        "        # Check answer validity\n",
        "        if answer not in {\"1\", \"2\", \"3\", \"4\"}:\n",
        "            error_count += 1\n",
        "        else:\n",
        "            # Check if the answer is correct\n",
        "            if str(question['correct']) == answer:\n",
        "                correct_count += 1\n",
        "        \n",
        "        # Update the progress bar\n",
        "        pbar.set_postfix(Corrects=f\"{correct_count}/{len(questions)}\", Errors=error_count)\n",
        "\n",
        "    print(\"-------------------------\\tFINISHED RUN. Errors: \", error_count, \"-------------------------\")\n",
        "    accuracy = (correct_count / len(questions)) * 100\n",
        "    return results, accuracy\n"
      ]
    },
    {
      "cell_type": "code",
      "execution_count": null,
      "metadata": {},
      "outputs": [],
      "source": [
        "create_quiz_run(quiz_questions)"
      ]
    },
    {
      "cell_type": "markdown",
      "metadata": {},
      "source": [
        "# Gradio Interface <div align=\"center\"><img src=\"https://www.gradio.app/_app/immutable/assets/gradio.CHB5adID.svg\" alt=\"Gradio Logo\" width=\"200\"></div>\n",
        "\n",
        "Lastly, we provide a **Gradio** interface to make interacting with the RAG pipeline both user-friendly and accessible. [Gradio](https://gradio.app) is a Python library that enables developers to quickly create customizable, interactive web-based interfaces. It is widely appreciated for its simplicity and flexibility.\n",
        "\n",
        "The interface is launched in the next cell through the final command `demo.launch(debug=True)`\n",
        "\n",
        "> This will also start a local server and generate a link (usually `http://127.0.0.1:7860`) that you can open in your browser. On Colab this will be different, but the you can find the url in the console output\n",
        "\n",
        "The interface is straightforward:\n",
        "- You can type your questions or prompts for the RAG pipeline into the **input field**.\n",
        "- The interface estimated inference waiting time (based on the last response waiting time), then the generated answer.\n",
        "\n",
        "If the interface is launched with the `debug=True` option (as in this case), it will also print the retrieved documents and their scores in the console; this can be useful for gaining insights into the system's behavior.\n",
        "\n",
        "For mathematical formulas, `latex2mathml` is used: it is a Python library that convertes LateX formulas to MathML (an XML format for equations)."
      ]
    },
    {
      "cell_type": "code",
      "execution_count": null,
      "metadata": {},
      "outputs": [],
      "source": [
        "import gradio as gr\n",
        "\n",
        "latex_delimiters = [\n",
        "    {\"left\": \"\\\\[\", \"right\": \"\\\\]\", \"display\": True},  # Formule in modalità display\n",
        "    {\"left\": \"\\\\(\", \"right\": \"\\\\)\", \"display\": False},  # Formule inline\n",
        "]\n",
        "\n",
        "# Creazione dell'interfaccia Gradio con stile consistente\n",
        "with gr.Blocks(css=\"\"\"\n",
        "    .input-box { border: 1px solid #ccc; border-radius: 4px; padding: 10px; margin: 10px 0; }\n",
        "    .output-box { border: 1px solid #ccc; border-radius: 4px; padding: 10px; margin: 10px 0; background-color: #373535; height: auto; }\n",
        "\n",
        "\"\"\") as demo:\n",
        "    gr.Markdown(\"# RAG Model Query Interface\")\n",
        "    gr.Markdown(\"Ask questions to the RAG model and get answers based on the provided PDF context.\")\n",
        "\n",
        "    with gr.Row():\n",
        "        with gr.Column():\n",
        "            input_text = gr.Textbox(\n",
        "                label=\"Enter your query\",\n",
        "                placeholder=\"Type your question here...\",\n",
        "                elem_classes=[\"input-box\"]\n",
        "            )\n",
        "\n",
        "    with gr.Row():\n",
        "        with gr.Column():\n",
        "            output_text = gr.Markdown(\n",
        "                label=\"Answer\",\n",
        "                elem_classes=[\"output-box\"],\n",
        "                latex_delimiters=latex_delimiters\n",
        "                )\n",
        "            \n",
        "\n",
        "    input_text.submit(\n",
        "        fn=query_rag_model,\n",
        "        inputs=input_text,\n",
        "        outputs=output_text\n",
        "    )\n",
        "\n",
        "# launch the interface\n",
        "demo.launch(debug=True, show_error=True)"
      ]
    },
    {
      "cell_type": "code",
      "execution_count": null,
      "metadata": {},
      "outputs": [],
      "source": []
    }
  ],
  "metadata": {
    "accelerator": "GPU",
    "colab": {
      "gpuType": "T4",
      "include_colab_link": true,
      "provenance": []
    },
    "kernelspec": {
      "display_name": "lm",
      "language": "python",
      "name": "python3"
    },
    "language_info": {
      "codemirror_mode": {
        "name": "ipython",
        "version": 3
      },
      "file_extension": ".py",
      "mimetype": "text/x-python",
      "name": "python",
      "nbconvert_exporter": "python",
      "pygments_lexer": "ipython3",
      "version": "3.12.7"
    },
    "widgets": {
      "application/vnd.jupyter.widget-state+json": {
        "088a00e4ef6e45d3a9b558e67963c98c": {
          "model_module": "@jupyter-widgets/base",
          "model_module_version": "1.2.0",
          "model_name": "LayoutModel",
          "state": {
            "_model_module": "@jupyter-widgets/base",
            "_model_module_version": "1.2.0",
            "_model_name": "LayoutModel",
            "_view_count": null,
            "_view_module": "@jupyter-widgets/base",
            "_view_module_version": "1.2.0",
            "_view_name": "LayoutView",
            "align_content": null,
            "align_items": null,
            "align_self": null,
            "border": null,
            "bottom": null,
            "display": null,
            "flex": null,
            "flex_flow": null,
            "grid_area": null,
            "grid_auto_columns": null,
            "grid_auto_flow": null,
            "grid_auto_rows": null,
            "grid_column": null,
            "grid_gap": null,
            "grid_row": null,
            "grid_template_areas": null,
            "grid_template_columns": null,
            "grid_template_rows": null,
            "height": null,
            "justify_content": null,
            "justify_items": null,
            "left": null,
            "margin": null,
            "max_height": null,
            "max_width": null,
            "min_height": null,
            "min_width": null,
            "object_fit": null,
            "object_position": null,
            "order": null,
            "overflow": null,
            "overflow_x": null,
            "overflow_y": null,
            "padding": null,
            "right": null,
            "top": null,
            "visibility": null,
            "width": null
          }
        },
        "1f69777bcc7d42cb9cb55179c00e4e4e": {
          "model_module": "@jupyter-widgets/controls",
          "model_module_version": "1.5.0",
          "model_name": "HTMLModel",
          "state": {
            "_dom_classes": [],
            "_model_module": "@jupyter-widgets/controls",
            "_model_module_version": "1.5.0",
            "_model_name": "HTMLModel",
            "_view_count": null,
            "_view_module": "@jupyter-widgets/controls",
            "_view_module_version": "1.5.0",
            "_view_name": "HTMLView",
            "description": "",
            "description_tooltip": null,
            "layout": "IPY_MODEL_5c6692d3b8cb43be8454428fb7d50702",
            "placeholder": "​",
            "style": "IPY_MODEL_ae70693e18f24d1ea5ed03158dac523a",
            "value": "Batches: 100%"
          }
        },
        "243cbab5e2114709becd8a8f1f2befe0": {
          "model_module": "@jupyter-widgets/base",
          "model_module_version": "1.2.0",
          "model_name": "LayoutModel",
          "state": {
            "_model_module": "@jupyter-widgets/base",
            "_model_module_version": "1.2.0",
            "_model_name": "LayoutModel",
            "_view_count": null,
            "_view_module": "@jupyter-widgets/base",
            "_view_module_version": "1.2.0",
            "_view_name": "LayoutView",
            "align_content": null,
            "align_items": null,
            "align_self": null,
            "border": null,
            "bottom": null,
            "display": null,
            "flex": null,
            "flex_flow": null,
            "grid_area": null,
            "grid_auto_columns": null,
            "grid_auto_flow": null,
            "grid_auto_rows": null,
            "grid_column": null,
            "grid_gap": null,
            "grid_row": null,
            "grid_template_areas": null,
            "grid_template_columns": null,
            "grid_template_rows": null,
            "height": null,
            "justify_content": null,
            "justify_items": null,
            "left": null,
            "margin": null,
            "max_height": null,
            "max_width": null,
            "min_height": null,
            "min_width": null,
            "object_fit": null,
            "object_position": null,
            "order": null,
            "overflow": null,
            "overflow_x": null,
            "overflow_y": null,
            "padding": null,
            "right": null,
            "top": null,
            "visibility": null,
            "width": null
          }
        },
        "2ba6010d15ba4f2fa24d476bb180b91a": {
          "model_module": "@jupyter-widgets/base",
          "model_module_version": "1.2.0",
          "model_name": "LayoutModel",
          "state": {
            "_model_module": "@jupyter-widgets/base",
            "_model_module_version": "1.2.0",
            "_model_name": "LayoutModel",
            "_view_count": null,
            "_view_module": "@jupyter-widgets/base",
            "_view_module_version": "1.2.0",
            "_view_name": "LayoutView",
            "align_content": null,
            "align_items": null,
            "align_self": null,
            "border": null,
            "bottom": null,
            "display": null,
            "flex": null,
            "flex_flow": null,
            "grid_area": null,
            "grid_auto_columns": null,
            "grid_auto_flow": null,
            "grid_auto_rows": null,
            "grid_column": null,
            "grid_gap": null,
            "grid_row": null,
            "grid_template_areas": null,
            "grid_template_columns": null,
            "grid_template_rows": null,
            "height": null,
            "justify_content": null,
            "justify_items": null,
            "left": null,
            "margin": null,
            "max_height": null,
            "max_width": null,
            "min_height": null,
            "min_width": null,
            "object_fit": null,
            "object_position": null,
            "order": null,
            "overflow": null,
            "overflow_x": null,
            "overflow_y": null,
            "padding": null,
            "right": null,
            "top": null,
            "visibility": null,
            "width": null
          }
        },
        "30165482718f4d18af591d891208553f": {
          "model_module": "@jupyter-widgets/base",
          "model_module_version": "1.2.0",
          "model_name": "LayoutModel",
          "state": {
            "_model_module": "@jupyter-widgets/base",
            "_model_module_version": "1.2.0",
            "_model_name": "LayoutModel",
            "_view_count": null,
            "_view_module": "@jupyter-widgets/base",
            "_view_module_version": "1.2.0",
            "_view_name": "LayoutView",
            "align_content": null,
            "align_items": null,
            "align_self": null,
            "border": null,
            "bottom": null,
            "display": null,
            "flex": null,
            "flex_flow": null,
            "grid_area": null,
            "grid_auto_columns": null,
            "grid_auto_flow": null,
            "grid_auto_rows": null,
            "grid_column": null,
            "grid_gap": null,
            "grid_row": null,
            "grid_template_areas": null,
            "grid_template_columns": null,
            "grid_template_rows": null,
            "height": null,
            "justify_content": null,
            "justify_items": null,
            "left": null,
            "margin": null,
            "max_height": null,
            "max_width": null,
            "min_height": null,
            "min_width": null,
            "object_fit": null,
            "object_position": null,
            "order": null,
            "overflow": null,
            "overflow_x": null,
            "overflow_y": null,
            "padding": null,
            "right": null,
            "top": null,
            "visibility": null,
            "width": null
          }
        },
        "33e92c6778144f31a027f47181634dc7": {
          "model_module": "@jupyter-widgets/controls",
          "model_module_version": "1.5.0",
          "model_name": "DescriptionStyleModel",
          "state": {
            "_model_module": "@jupyter-widgets/controls",
            "_model_module_version": "1.5.0",
            "_model_name": "DescriptionStyleModel",
            "_view_count": null,
            "_view_module": "@jupyter-widgets/base",
            "_view_module_version": "1.2.0",
            "_view_name": "StyleView",
            "description_width": ""
          }
        },
        "39e5a1c895064f4f90497b2be0f19058": {
          "model_module": "@jupyter-widgets/controls",
          "model_module_version": "1.5.0",
          "model_name": "HTMLModel",
          "state": {
            "_dom_classes": [],
            "_model_module": "@jupyter-widgets/controls",
            "_model_module_version": "1.5.0",
            "_model_name": "HTMLModel",
            "_view_count": null,
            "_view_module": "@jupyter-widgets/controls",
            "_view_module_version": "1.5.0",
            "_view_name": "HTMLView",
            "description": "",
            "description_tooltip": null,
            "layout": "IPY_MODEL_5b0538c3bd5849bbaa9973b8f2555251",
            "placeholder": "​",
            "style": "IPY_MODEL_cf36d37545434ab98893535264a30e0e",
            "value": "Batches: 100%"
          }
        },
        "39fe55f747da48fda8fc574a1b7f3fe5": {
          "model_module": "@jupyter-widgets/base",
          "model_module_version": "1.2.0",
          "model_name": "LayoutModel",
          "state": {
            "_model_module": "@jupyter-widgets/base",
            "_model_module_version": "1.2.0",
            "_model_name": "LayoutModel",
            "_view_count": null,
            "_view_module": "@jupyter-widgets/base",
            "_view_module_version": "1.2.0",
            "_view_name": "LayoutView",
            "align_content": null,
            "align_items": null,
            "align_self": null,
            "border": null,
            "bottom": null,
            "display": null,
            "flex": null,
            "flex_flow": null,
            "grid_area": null,
            "grid_auto_columns": null,
            "grid_auto_flow": null,
            "grid_auto_rows": null,
            "grid_column": null,
            "grid_gap": null,
            "grid_row": null,
            "grid_template_areas": null,
            "grid_template_columns": null,
            "grid_template_rows": null,
            "height": null,
            "justify_content": null,
            "justify_items": null,
            "left": null,
            "margin": null,
            "max_height": null,
            "max_width": null,
            "min_height": null,
            "min_width": null,
            "object_fit": null,
            "object_position": null,
            "order": null,
            "overflow": null,
            "overflow_x": null,
            "overflow_y": null,
            "padding": null,
            "right": null,
            "top": null,
            "visibility": null,
            "width": null
          }
        },
        "3f3f8005f80f41e58f97bd05f4431218": {
          "model_module": "@jupyter-widgets/controls",
          "model_module_version": "1.5.0",
          "model_name": "HTMLModel",
          "state": {
            "_dom_classes": [],
            "_model_module": "@jupyter-widgets/controls",
            "_model_module_version": "1.5.0",
            "_model_name": "HTMLModel",
            "_view_count": null,
            "_view_module": "@jupyter-widgets/controls",
            "_view_module_version": "1.5.0",
            "_view_name": "HTMLView",
            "description": "",
            "description_tooltip": null,
            "layout": "IPY_MODEL_b998ceb3c1954dfdafbd451e2753c9cc",
            "placeholder": "​",
            "style": "IPY_MODEL_59714a15945e4ff98408e219b351a09d",
            "value": " 2/2 [00:02&lt;00:00,  1.14s/it]"
          }
        },
        "41ee185081dd423bb91823db3e938e4b": {
          "model_module": "@jupyter-widgets/controls",
          "model_module_version": "1.5.0",
          "model_name": "DescriptionStyleModel",
          "state": {
            "_model_module": "@jupyter-widgets/controls",
            "_model_module_version": "1.5.0",
            "_model_name": "DescriptionStyleModel",
            "_view_count": null,
            "_view_module": "@jupyter-widgets/base",
            "_view_module_version": "1.2.0",
            "_view_name": "StyleView",
            "description_width": ""
          }
        },
        "4337e62e2c0e46cd898691d2f51199f4": {
          "model_module": "@jupyter-widgets/controls",
          "model_module_version": "1.5.0",
          "model_name": "HTMLModel",
          "state": {
            "_dom_classes": [],
            "_model_module": "@jupyter-widgets/controls",
            "_model_module_version": "1.5.0",
            "_model_name": "HTMLModel",
            "_view_count": null,
            "_view_module": "@jupyter-widgets/controls",
            "_view_module_version": "1.5.0",
            "_view_name": "HTMLView",
            "description": "",
            "description_tooltip": null,
            "layout": "IPY_MODEL_5c6bfef2e4214f71bb8f19a6d1514698",
            "placeholder": "​",
            "style": "IPY_MODEL_4e068be82c8a4f80b9d8617e88fbd852",
            "value": "Loading checkpoint shards: 100%"
          }
        },
        "43489b86ba51437cbe8e9137ef7338ca": {
          "model_module": "@jupyter-widgets/base",
          "model_module_version": "1.2.0",
          "model_name": "LayoutModel",
          "state": {
            "_model_module": "@jupyter-widgets/base",
            "_model_module_version": "1.2.0",
            "_model_name": "LayoutModel",
            "_view_count": null,
            "_view_module": "@jupyter-widgets/base",
            "_view_module_version": "1.2.0",
            "_view_name": "LayoutView",
            "align_content": null,
            "align_items": null,
            "align_self": null,
            "border": null,
            "bottom": null,
            "display": null,
            "flex": null,
            "flex_flow": null,
            "grid_area": null,
            "grid_auto_columns": null,
            "grid_auto_flow": null,
            "grid_auto_rows": null,
            "grid_column": null,
            "grid_gap": null,
            "grid_row": null,
            "grid_template_areas": null,
            "grid_template_columns": null,
            "grid_template_rows": null,
            "height": null,
            "justify_content": null,
            "justify_items": null,
            "left": null,
            "margin": null,
            "max_height": null,
            "max_width": null,
            "min_height": null,
            "min_width": null,
            "object_fit": null,
            "object_position": null,
            "order": null,
            "overflow": null,
            "overflow_x": null,
            "overflow_y": null,
            "padding": null,
            "right": null,
            "top": null,
            "visibility": null,
            "width": null
          }
        },
        "4966afee1b8d402c862c2f98b7efbd20": {
          "model_module": "@jupyter-widgets/base",
          "model_module_version": "1.2.0",
          "model_name": "LayoutModel",
          "state": {
            "_model_module": "@jupyter-widgets/base",
            "_model_module_version": "1.2.0",
            "_model_name": "LayoutModel",
            "_view_count": null,
            "_view_module": "@jupyter-widgets/base",
            "_view_module_version": "1.2.0",
            "_view_name": "LayoutView",
            "align_content": null,
            "align_items": null,
            "align_self": null,
            "border": null,
            "bottom": null,
            "display": null,
            "flex": null,
            "flex_flow": null,
            "grid_area": null,
            "grid_auto_columns": null,
            "grid_auto_flow": null,
            "grid_auto_rows": null,
            "grid_column": null,
            "grid_gap": null,
            "grid_row": null,
            "grid_template_areas": null,
            "grid_template_columns": null,
            "grid_template_rows": null,
            "height": null,
            "justify_content": null,
            "justify_items": null,
            "left": null,
            "margin": null,
            "max_height": null,
            "max_width": null,
            "min_height": null,
            "min_width": null,
            "object_fit": null,
            "object_position": null,
            "order": null,
            "overflow": null,
            "overflow_x": null,
            "overflow_y": null,
            "padding": null,
            "right": null,
            "top": null,
            "visibility": null,
            "width": null
          }
        },
        "49ad974ca5794ea590db740af168ac80": {
          "model_module": "@jupyter-widgets/controls",
          "model_module_version": "1.5.0",
          "model_name": "FloatProgressModel",
          "state": {
            "_dom_classes": [],
            "_model_module": "@jupyter-widgets/controls",
            "_model_module_version": "1.5.0",
            "_model_name": "FloatProgressModel",
            "_view_count": null,
            "_view_module": "@jupyter-widgets/controls",
            "_view_module_version": "1.5.0",
            "_view_name": "ProgressView",
            "bar_style": "success",
            "description": "",
            "description_tooltip": null,
            "layout": "IPY_MODEL_243cbab5e2114709becd8a8f1f2befe0",
            "max": 16,
            "min": 0,
            "orientation": "horizontal",
            "style": "IPY_MODEL_79360d975f9e41efb6acea38b929d56e",
            "value": 16
          }
        },
        "4e068be82c8a4f80b9d8617e88fbd852": {
          "model_module": "@jupyter-widgets/controls",
          "model_module_version": "1.5.0",
          "model_name": "DescriptionStyleModel",
          "state": {
            "_model_module": "@jupyter-widgets/controls",
            "_model_module_version": "1.5.0",
            "_model_name": "DescriptionStyleModel",
            "_view_count": null,
            "_view_module": "@jupyter-widgets/base",
            "_view_module_version": "1.2.0",
            "_view_name": "StyleView",
            "description_width": ""
          }
        },
        "50d2168abb604a89a61f7f8cc0dcda07": {
          "model_module": "@jupyter-widgets/controls",
          "model_module_version": "1.5.0",
          "model_name": "HBoxModel",
          "state": {
            "_dom_classes": [],
            "_model_module": "@jupyter-widgets/controls",
            "_model_module_version": "1.5.0",
            "_model_name": "HBoxModel",
            "_view_count": null,
            "_view_module": "@jupyter-widgets/controls",
            "_view_module_version": "1.5.0",
            "_view_name": "HBoxView",
            "box_style": "",
            "children": [
              "IPY_MODEL_891e7319f4294fc4a7aef48250812f28",
              "IPY_MODEL_ef62b09b0f904bf4be7ae4389294fb34",
              "IPY_MODEL_3f3f8005f80f41e58f97bd05f4431218"
            ],
            "layout": "IPY_MODEL_2ba6010d15ba4f2fa24d476bb180b91a"
          }
        },
        "517c114c8ada458eb71c10b32dacf956": {
          "model_module": "@jupyter-widgets/controls",
          "model_module_version": "1.5.0",
          "model_name": "HBoxModel",
          "state": {
            "_dom_classes": [],
            "_model_module": "@jupyter-widgets/controls",
            "_model_module_version": "1.5.0",
            "_model_name": "HBoxModel",
            "_view_count": null,
            "_view_module": "@jupyter-widgets/controls",
            "_view_module_version": "1.5.0",
            "_view_name": "HBoxView",
            "box_style": "",
            "children": [
              "IPY_MODEL_39e5a1c895064f4f90497b2be0f19058",
              "IPY_MODEL_49ad974ca5794ea590db740af168ac80",
              "IPY_MODEL_ae95aec11ba44db28e58b4dbe468741a"
            ],
            "layout": "IPY_MODEL_39fe55f747da48fda8fc574a1b7f3fe5"
          }
        },
        "59714a15945e4ff98408e219b351a09d": {
          "model_module": "@jupyter-widgets/controls",
          "model_module_version": "1.5.0",
          "model_name": "DescriptionStyleModel",
          "state": {
            "_model_module": "@jupyter-widgets/controls",
            "_model_module_version": "1.5.0",
            "_model_name": "DescriptionStyleModel",
            "_view_count": null,
            "_view_module": "@jupyter-widgets/base",
            "_view_module_version": "1.2.0",
            "_view_name": "StyleView",
            "description_width": ""
          }
        },
        "5b0538c3bd5849bbaa9973b8f2555251": {
          "model_module": "@jupyter-widgets/base",
          "model_module_version": "1.2.0",
          "model_name": "LayoutModel",
          "state": {
            "_model_module": "@jupyter-widgets/base",
            "_model_module_version": "1.2.0",
            "_model_name": "LayoutModel",
            "_view_count": null,
            "_view_module": "@jupyter-widgets/base",
            "_view_module_version": "1.2.0",
            "_view_name": "LayoutView",
            "align_content": null,
            "align_items": null,
            "align_self": null,
            "border": null,
            "bottom": null,
            "display": null,
            "flex": null,
            "flex_flow": null,
            "grid_area": null,
            "grid_auto_columns": null,
            "grid_auto_flow": null,
            "grid_auto_rows": null,
            "grid_column": null,
            "grid_gap": null,
            "grid_row": null,
            "grid_template_areas": null,
            "grid_template_columns": null,
            "grid_template_rows": null,
            "height": null,
            "justify_content": null,
            "justify_items": null,
            "left": null,
            "margin": null,
            "max_height": null,
            "max_width": null,
            "min_height": null,
            "min_width": null,
            "object_fit": null,
            "object_position": null,
            "order": null,
            "overflow": null,
            "overflow_x": null,
            "overflow_y": null,
            "padding": null,
            "right": null,
            "top": null,
            "visibility": null,
            "width": null
          }
        },
        "5c6692d3b8cb43be8454428fb7d50702": {
          "model_module": "@jupyter-widgets/base",
          "model_module_version": "1.2.0",
          "model_name": "LayoutModel",
          "state": {
            "_model_module": "@jupyter-widgets/base",
            "_model_module_version": "1.2.0",
            "_model_name": "LayoutModel",
            "_view_count": null,
            "_view_module": "@jupyter-widgets/base",
            "_view_module_version": "1.2.0",
            "_view_name": "LayoutView",
            "align_content": null,
            "align_items": null,
            "align_self": null,
            "border": null,
            "bottom": null,
            "display": null,
            "flex": null,
            "flex_flow": null,
            "grid_area": null,
            "grid_auto_columns": null,
            "grid_auto_flow": null,
            "grid_auto_rows": null,
            "grid_column": null,
            "grid_gap": null,
            "grid_row": null,
            "grid_template_areas": null,
            "grid_template_columns": null,
            "grid_template_rows": null,
            "height": null,
            "justify_content": null,
            "justify_items": null,
            "left": null,
            "margin": null,
            "max_height": null,
            "max_width": null,
            "min_height": null,
            "min_width": null,
            "object_fit": null,
            "object_position": null,
            "order": null,
            "overflow": null,
            "overflow_x": null,
            "overflow_y": null,
            "padding": null,
            "right": null,
            "top": null,
            "visibility": null,
            "width": null
          }
        },
        "5c6bfef2e4214f71bb8f19a6d1514698": {
          "model_module": "@jupyter-widgets/base",
          "model_module_version": "1.2.0",
          "model_name": "LayoutModel",
          "state": {
            "_model_module": "@jupyter-widgets/base",
            "_model_module_version": "1.2.0",
            "_model_name": "LayoutModel",
            "_view_count": null,
            "_view_module": "@jupyter-widgets/base",
            "_view_module_version": "1.2.0",
            "_view_name": "LayoutView",
            "align_content": null,
            "align_items": null,
            "align_self": null,
            "border": null,
            "bottom": null,
            "display": null,
            "flex": null,
            "flex_flow": null,
            "grid_area": null,
            "grid_auto_columns": null,
            "grid_auto_flow": null,
            "grid_auto_rows": null,
            "grid_column": null,
            "grid_gap": null,
            "grid_row": null,
            "grid_template_areas": null,
            "grid_template_columns": null,
            "grid_template_rows": null,
            "height": null,
            "justify_content": null,
            "justify_items": null,
            "left": null,
            "margin": null,
            "max_height": null,
            "max_width": null,
            "min_height": null,
            "min_width": null,
            "object_fit": null,
            "object_position": null,
            "order": null,
            "overflow": null,
            "overflow_x": null,
            "overflow_y": null,
            "padding": null,
            "right": null,
            "top": null,
            "visibility": null,
            "width": null
          }
        },
        "5d15386a8d5747679ef7bf237de85678": {
          "model_module": "@jupyter-widgets/controls",
          "model_module_version": "1.5.0",
          "model_name": "FloatProgressModel",
          "state": {
            "_dom_classes": [],
            "_model_module": "@jupyter-widgets/controls",
            "_model_module_version": "1.5.0",
            "_model_name": "FloatProgressModel",
            "_view_count": null,
            "_view_module": "@jupyter-widgets/controls",
            "_view_module_version": "1.5.0",
            "_view_name": "ProgressView",
            "bar_style": "success",
            "description": "",
            "description_tooltip": null,
            "layout": "IPY_MODEL_30165482718f4d18af591d891208553f",
            "max": 2,
            "min": 0,
            "orientation": "horizontal",
            "style": "IPY_MODEL_e4392c33cd2d4bbe86655198b93594e6",
            "value": 2
          }
        },
        "619559e8a6d64cdcbad2bf86470e00f7": {
          "model_module": "@jupyter-widgets/base",
          "model_module_version": "1.2.0",
          "model_name": "LayoutModel",
          "state": {
            "_model_module": "@jupyter-widgets/base",
            "_model_module_version": "1.2.0",
            "_model_name": "LayoutModel",
            "_view_count": null,
            "_view_module": "@jupyter-widgets/base",
            "_view_module_version": "1.2.0",
            "_view_name": "LayoutView",
            "align_content": null,
            "align_items": null,
            "align_self": null,
            "border": null,
            "bottom": null,
            "display": null,
            "flex": null,
            "flex_flow": null,
            "grid_area": null,
            "grid_auto_columns": null,
            "grid_auto_flow": null,
            "grid_auto_rows": null,
            "grid_column": null,
            "grid_gap": null,
            "grid_row": null,
            "grid_template_areas": null,
            "grid_template_columns": null,
            "grid_template_rows": null,
            "height": null,
            "justify_content": null,
            "justify_items": null,
            "left": null,
            "margin": null,
            "max_height": null,
            "max_width": null,
            "min_height": null,
            "min_width": null,
            "object_fit": null,
            "object_position": null,
            "order": null,
            "overflow": null,
            "overflow_x": null,
            "overflow_y": null,
            "padding": null,
            "right": null,
            "top": null,
            "visibility": null,
            "width": null
          }
        },
        "769d9be8e74a45388ba91b4a7416d865": {
          "model_module": "@jupyter-widgets/base",
          "model_module_version": "1.2.0",
          "model_name": "LayoutModel",
          "state": {
            "_model_module": "@jupyter-widgets/base",
            "_model_module_version": "1.2.0",
            "_model_name": "LayoutModel",
            "_view_count": null,
            "_view_module": "@jupyter-widgets/base",
            "_view_module_version": "1.2.0",
            "_view_name": "LayoutView",
            "align_content": null,
            "align_items": null,
            "align_self": null,
            "border": null,
            "bottom": null,
            "display": null,
            "flex": null,
            "flex_flow": null,
            "grid_area": null,
            "grid_auto_columns": null,
            "grid_auto_flow": null,
            "grid_auto_rows": null,
            "grid_column": null,
            "grid_gap": null,
            "grid_row": null,
            "grid_template_areas": null,
            "grid_template_columns": null,
            "grid_template_rows": null,
            "height": null,
            "justify_content": null,
            "justify_items": null,
            "left": null,
            "margin": null,
            "max_height": null,
            "max_width": null,
            "min_height": null,
            "min_width": null,
            "object_fit": null,
            "object_position": null,
            "order": null,
            "overflow": null,
            "overflow_x": null,
            "overflow_y": null,
            "padding": null,
            "right": null,
            "top": null,
            "visibility": null,
            "width": null
          }
        },
        "79360d975f9e41efb6acea38b929d56e": {
          "model_module": "@jupyter-widgets/controls",
          "model_module_version": "1.5.0",
          "model_name": "ProgressStyleModel",
          "state": {
            "_model_module": "@jupyter-widgets/controls",
            "_model_module_version": "1.5.0",
            "_model_name": "ProgressStyleModel",
            "_view_count": null,
            "_view_module": "@jupyter-widgets/base",
            "_view_module_version": "1.2.0",
            "_view_name": "StyleView",
            "bar_color": null,
            "description_width": ""
          }
        },
        "79d0e3ae9c4b48c9a4a15a4b8eb2eccd": {
          "model_module": "@jupyter-widgets/base",
          "model_module_version": "1.2.0",
          "model_name": "LayoutModel",
          "state": {
            "_model_module": "@jupyter-widgets/base",
            "_model_module_version": "1.2.0",
            "_model_name": "LayoutModel",
            "_view_count": null,
            "_view_module": "@jupyter-widgets/base",
            "_view_module_version": "1.2.0",
            "_view_name": "LayoutView",
            "align_content": null,
            "align_items": null,
            "align_self": null,
            "border": null,
            "bottom": null,
            "display": null,
            "flex": null,
            "flex_flow": null,
            "grid_area": null,
            "grid_auto_columns": null,
            "grid_auto_flow": null,
            "grid_auto_rows": null,
            "grid_column": null,
            "grid_gap": null,
            "grid_row": null,
            "grid_template_areas": null,
            "grid_template_columns": null,
            "grid_template_rows": null,
            "height": null,
            "justify_content": null,
            "justify_items": null,
            "left": null,
            "margin": null,
            "max_height": null,
            "max_width": null,
            "min_height": null,
            "min_width": null,
            "object_fit": null,
            "object_position": null,
            "order": null,
            "overflow": null,
            "overflow_x": null,
            "overflow_y": null,
            "padding": null,
            "right": null,
            "top": null,
            "visibility": null,
            "width": null
          }
        },
        "891e7319f4294fc4a7aef48250812f28": {
          "model_module": "@jupyter-widgets/controls",
          "model_module_version": "1.5.0",
          "model_name": "HTMLModel",
          "state": {
            "_dom_classes": [],
            "_model_module": "@jupyter-widgets/controls",
            "_model_module_version": "1.5.0",
            "_model_name": "HTMLModel",
            "_view_count": null,
            "_view_module": "@jupyter-widgets/controls",
            "_view_module_version": "1.5.0",
            "_view_name": "HTMLView",
            "description": "",
            "description_tooltip": null,
            "layout": "IPY_MODEL_79d0e3ae9c4b48c9a4a15a4b8eb2eccd",
            "placeholder": "​",
            "style": "IPY_MODEL_ee0e79bf48f543f1a250875f3f1576d2",
            "value": "Batches: 100%"
          }
        },
        "99a10b4090ea4b7ebbdd336c152cbcb1": {
          "model_module": "@jupyter-widgets/controls",
          "model_module_version": "1.5.0",
          "model_name": "ProgressStyleModel",
          "state": {
            "_model_module": "@jupyter-widgets/controls",
            "_model_module_version": "1.5.0",
            "_model_name": "ProgressStyleModel",
            "_view_count": null,
            "_view_module": "@jupyter-widgets/base",
            "_view_module_version": "1.2.0",
            "_view_name": "StyleView",
            "bar_color": null,
            "description_width": ""
          }
        },
        "a5ff3839ab4044f0912afb33591da86a": {
          "model_module": "@jupyter-widgets/controls",
          "model_module_version": "1.5.0",
          "model_name": "HTMLModel",
          "state": {
            "_dom_classes": [],
            "_model_module": "@jupyter-widgets/controls",
            "_model_module_version": "1.5.0",
            "_model_name": "HTMLModel",
            "_view_count": null,
            "_view_module": "@jupyter-widgets/controls",
            "_view_module_version": "1.5.0",
            "_view_name": "HTMLView",
            "description": "",
            "description_tooltip": null,
            "layout": "IPY_MODEL_619559e8a6d64cdcbad2bf86470e00f7",
            "placeholder": "​",
            "style": "IPY_MODEL_33e92c6778144f31a027f47181634dc7",
            "value": " 8/8 [00:13&lt;00:00,  1.86s/it]"
          }
        },
        "aca0e1cebd2045f78f2d0f9e8def9856": {
          "model_module": "@jupyter-widgets/controls",
          "model_module_version": "1.5.0",
          "model_name": "ProgressStyleModel",
          "state": {
            "_model_module": "@jupyter-widgets/controls",
            "_model_module_version": "1.5.0",
            "_model_name": "ProgressStyleModel",
            "_view_count": null,
            "_view_module": "@jupyter-widgets/base",
            "_view_module_version": "1.2.0",
            "_view_name": "StyleView",
            "bar_color": null,
            "description_width": ""
          }
        },
        "ae70693e18f24d1ea5ed03158dac523a": {
          "model_module": "@jupyter-widgets/controls",
          "model_module_version": "1.5.0",
          "model_name": "DescriptionStyleModel",
          "state": {
            "_model_module": "@jupyter-widgets/controls",
            "_model_module_version": "1.5.0",
            "_model_name": "DescriptionStyleModel",
            "_view_count": null,
            "_view_module": "@jupyter-widgets/base",
            "_view_module_version": "1.2.0",
            "_view_name": "StyleView",
            "description_width": ""
          }
        },
        "ae95aec11ba44db28e58b4dbe468741a": {
          "model_module": "@jupyter-widgets/controls",
          "model_module_version": "1.5.0",
          "model_name": "HTMLModel",
          "state": {
            "_dom_classes": [],
            "_model_module": "@jupyter-widgets/controls",
            "_model_module_version": "1.5.0",
            "_model_name": "HTMLModel",
            "_view_count": null,
            "_view_module": "@jupyter-widgets/controls",
            "_view_module_version": "1.5.0",
            "_view_name": "HTMLView",
            "description": "",
            "description_tooltip": null,
            "layout": "IPY_MODEL_4966afee1b8d402c862c2f98b7efbd20",
            "placeholder": "​",
            "style": "IPY_MODEL_cb05151d51784fa38b04a5d7245c0b79",
            "value": " 16/16 [00:07&lt;00:00,  1.90it/s]"
          }
        },
        "af60eba01fa240748e2c016fccb61fbb": {
          "model_module": "@jupyter-widgets/base",
          "model_module_version": "1.2.0",
          "model_name": "LayoutModel",
          "state": {
            "_model_module": "@jupyter-widgets/base",
            "_model_module_version": "1.2.0",
            "_model_name": "LayoutModel",
            "_view_count": null,
            "_view_module": "@jupyter-widgets/base",
            "_view_module_version": "1.2.0",
            "_view_name": "LayoutView",
            "align_content": null,
            "align_items": null,
            "align_self": null,
            "border": null,
            "bottom": null,
            "display": null,
            "flex": null,
            "flex_flow": null,
            "grid_area": null,
            "grid_auto_columns": null,
            "grid_auto_flow": null,
            "grid_auto_rows": null,
            "grid_column": null,
            "grid_gap": null,
            "grid_row": null,
            "grid_template_areas": null,
            "grid_template_columns": null,
            "grid_template_rows": null,
            "height": null,
            "justify_content": null,
            "justify_items": null,
            "left": null,
            "margin": null,
            "max_height": null,
            "max_width": null,
            "min_height": null,
            "min_width": null,
            "object_fit": null,
            "object_position": null,
            "order": null,
            "overflow": null,
            "overflow_x": null,
            "overflow_y": null,
            "padding": null,
            "right": null,
            "top": null,
            "visibility": null,
            "width": null
          }
        },
        "b69c0c940a97426b94a0e20e48c0422c": {
          "model_module": "@jupyter-widgets/base",
          "model_module_version": "1.2.0",
          "model_name": "LayoutModel",
          "state": {
            "_model_module": "@jupyter-widgets/base",
            "_model_module_version": "1.2.0",
            "_model_name": "LayoutModel",
            "_view_count": null,
            "_view_module": "@jupyter-widgets/base",
            "_view_module_version": "1.2.0",
            "_view_name": "LayoutView",
            "align_content": null,
            "align_items": null,
            "align_self": null,
            "border": null,
            "bottom": null,
            "display": null,
            "flex": null,
            "flex_flow": null,
            "grid_area": null,
            "grid_auto_columns": null,
            "grid_auto_flow": null,
            "grid_auto_rows": null,
            "grid_column": null,
            "grid_gap": null,
            "grid_row": null,
            "grid_template_areas": null,
            "grid_template_columns": null,
            "grid_template_rows": null,
            "height": null,
            "justify_content": null,
            "justify_items": null,
            "left": null,
            "margin": null,
            "max_height": null,
            "max_width": null,
            "min_height": null,
            "min_width": null,
            "object_fit": null,
            "object_position": null,
            "order": null,
            "overflow": null,
            "overflow_x": null,
            "overflow_y": null,
            "padding": null,
            "right": null,
            "top": null,
            "visibility": null,
            "width": null
          }
        },
        "b724951a6ee34333bf5973941f497d76": {
          "model_module": "@jupyter-widgets/controls",
          "model_module_version": "1.5.0",
          "model_name": "HBoxModel",
          "state": {
            "_dom_classes": [],
            "_model_module": "@jupyter-widgets/controls",
            "_model_module_version": "1.5.0",
            "_model_name": "HBoxModel",
            "_view_count": null,
            "_view_module": "@jupyter-widgets/controls",
            "_view_module_version": "1.5.0",
            "_view_name": "HBoxView",
            "box_style": "",
            "children": [
              "IPY_MODEL_1f69777bcc7d42cb9cb55179c00e4e4e",
              "IPY_MODEL_c9199337d8c344c0a73c1891ae64241f",
              "IPY_MODEL_a5ff3839ab4044f0912afb33591da86a"
            ],
            "layout": "IPY_MODEL_af60eba01fa240748e2c016fccb61fbb"
          }
        },
        "b998ceb3c1954dfdafbd451e2753c9cc": {
          "model_module": "@jupyter-widgets/base",
          "model_module_version": "1.2.0",
          "model_name": "LayoutModel",
          "state": {
            "_model_module": "@jupyter-widgets/base",
            "_model_module_version": "1.2.0",
            "_model_name": "LayoutModel",
            "_view_count": null,
            "_view_module": "@jupyter-widgets/base",
            "_view_module_version": "1.2.0",
            "_view_name": "LayoutView",
            "align_content": null,
            "align_items": null,
            "align_self": null,
            "border": null,
            "bottom": null,
            "display": null,
            "flex": null,
            "flex_flow": null,
            "grid_area": null,
            "grid_auto_columns": null,
            "grid_auto_flow": null,
            "grid_auto_rows": null,
            "grid_column": null,
            "grid_gap": null,
            "grid_row": null,
            "grid_template_areas": null,
            "grid_template_columns": null,
            "grid_template_rows": null,
            "height": null,
            "justify_content": null,
            "justify_items": null,
            "left": null,
            "margin": null,
            "max_height": null,
            "max_width": null,
            "min_height": null,
            "min_width": null,
            "object_fit": null,
            "object_position": null,
            "order": null,
            "overflow": null,
            "overflow_x": null,
            "overflow_y": null,
            "padding": null,
            "right": null,
            "top": null,
            "visibility": null,
            "width": null
          }
        },
        "c9199337d8c344c0a73c1891ae64241f": {
          "model_module": "@jupyter-widgets/controls",
          "model_module_version": "1.5.0",
          "model_name": "FloatProgressModel",
          "state": {
            "_dom_classes": [],
            "_model_module": "@jupyter-widgets/controls",
            "_model_module_version": "1.5.0",
            "_model_name": "FloatProgressModel",
            "_view_count": null,
            "_view_module": "@jupyter-widgets/controls",
            "_view_module_version": "1.5.0",
            "_view_name": "ProgressView",
            "bar_style": "success",
            "description": "",
            "description_tooltip": null,
            "layout": "IPY_MODEL_088a00e4ef6e45d3a9b558e67963c98c",
            "max": 8,
            "min": 0,
            "orientation": "horizontal",
            "style": "IPY_MODEL_99a10b4090ea4b7ebbdd336c152cbcb1",
            "value": 8
          }
        },
        "cb05151d51784fa38b04a5d7245c0b79": {
          "model_module": "@jupyter-widgets/controls",
          "model_module_version": "1.5.0",
          "model_name": "DescriptionStyleModel",
          "state": {
            "_model_module": "@jupyter-widgets/controls",
            "_model_module_version": "1.5.0",
            "_model_name": "DescriptionStyleModel",
            "_view_count": null,
            "_view_module": "@jupyter-widgets/base",
            "_view_module_version": "1.2.0",
            "_view_name": "StyleView",
            "description_width": ""
          }
        },
        "cf36d37545434ab98893535264a30e0e": {
          "model_module": "@jupyter-widgets/controls",
          "model_module_version": "1.5.0",
          "model_name": "DescriptionStyleModel",
          "state": {
            "_model_module": "@jupyter-widgets/controls",
            "_model_module_version": "1.5.0",
            "_model_name": "DescriptionStyleModel",
            "_view_count": null,
            "_view_module": "@jupyter-widgets/base",
            "_view_module_version": "1.2.0",
            "_view_name": "StyleView",
            "description_width": ""
          }
        },
        "e3a9759aeeef4b139fb21c07fd2adec7": {
          "model_module": "@jupyter-widgets/controls",
          "model_module_version": "1.5.0",
          "model_name": "HBoxModel",
          "state": {
            "_dom_classes": [],
            "_model_module": "@jupyter-widgets/controls",
            "_model_module_version": "1.5.0",
            "_model_name": "HBoxModel",
            "_view_count": null,
            "_view_module": "@jupyter-widgets/controls",
            "_view_module_version": "1.5.0",
            "_view_name": "HBoxView",
            "box_style": "",
            "children": [
              "IPY_MODEL_4337e62e2c0e46cd898691d2f51199f4",
              "IPY_MODEL_5d15386a8d5747679ef7bf237de85678",
              "IPY_MODEL_ebe1e6fb1824465d89bcfc9e22422b88"
            ],
            "layout": "IPY_MODEL_769d9be8e74a45388ba91b4a7416d865"
          }
        },
        "e4392c33cd2d4bbe86655198b93594e6": {
          "model_module": "@jupyter-widgets/controls",
          "model_module_version": "1.5.0",
          "model_name": "ProgressStyleModel",
          "state": {
            "_model_module": "@jupyter-widgets/controls",
            "_model_module_version": "1.5.0",
            "_model_name": "ProgressStyleModel",
            "_view_count": null,
            "_view_module": "@jupyter-widgets/base",
            "_view_module_version": "1.2.0",
            "_view_name": "StyleView",
            "bar_color": null,
            "description_width": ""
          }
        },
        "ebe1e6fb1824465d89bcfc9e22422b88": {
          "model_module": "@jupyter-widgets/controls",
          "model_module_version": "1.5.0",
          "model_name": "HTMLModel",
          "state": {
            "_dom_classes": [],
            "_model_module": "@jupyter-widgets/controls",
            "_model_module_version": "1.5.0",
            "_model_name": "HTMLModel",
            "_view_count": null,
            "_view_module": "@jupyter-widgets/controls",
            "_view_module_version": "1.5.0",
            "_view_name": "HTMLView",
            "description": "",
            "description_tooltip": null,
            "layout": "IPY_MODEL_b69c0c940a97426b94a0e20e48c0422c",
            "placeholder": "​",
            "style": "IPY_MODEL_41ee185081dd423bb91823db3e938e4b",
            "value": " 2/2 [00:29&lt;00:00, 13.75s/it]"
          }
        },
        "ee0e79bf48f543f1a250875f3f1576d2": {
          "model_module": "@jupyter-widgets/controls",
          "model_module_version": "1.5.0",
          "model_name": "DescriptionStyleModel",
          "state": {
            "_model_module": "@jupyter-widgets/controls",
            "_model_module_version": "1.5.0",
            "_model_name": "DescriptionStyleModel",
            "_view_count": null,
            "_view_module": "@jupyter-widgets/base",
            "_view_module_version": "1.2.0",
            "_view_name": "StyleView",
            "description_width": ""
          }
        },
        "ef62b09b0f904bf4be7ae4389294fb34": {
          "model_module": "@jupyter-widgets/controls",
          "model_module_version": "1.5.0",
          "model_name": "FloatProgressModel",
          "state": {
            "_dom_classes": [],
            "_model_module": "@jupyter-widgets/controls",
            "_model_module_version": "1.5.0",
            "_model_name": "FloatProgressModel",
            "_view_count": null,
            "_view_module": "@jupyter-widgets/controls",
            "_view_module_version": "1.5.0",
            "_view_name": "ProgressView",
            "bar_style": "success",
            "description": "",
            "description_tooltip": null,
            "layout": "IPY_MODEL_43489b86ba51437cbe8e9137ef7338ca",
            "max": 2,
            "min": 0,
            "orientation": "horizontal",
            "style": "IPY_MODEL_aca0e1cebd2045f78f2d0f9e8def9856",
            "value": 2
          }
        }
      }
    }
  },
  "nbformat": 4,
  "nbformat_minor": 0
}
