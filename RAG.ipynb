{
  "cells": [
    {
      "cell_type": "markdown",
      "metadata": {
        "colab_type": "text",
        "id": "view-in-github"
      },
      "source": [
        "<a href=\"https://colab.research.google.com/github/giuliocapecchi/LM-project/blob/main/RAG.ipynb\" target=\"_parent\"><img src=\"https://colab.research.google.com/assets/colab-badge.svg\" alt=\"Open In Colab\"/></a>"
      ]
    },
    {
      "cell_type": "markdown",
      "metadata": {},
      "source": [
        "# Retrieval-Augmented Generation (RAG) for *Information Retrieval* Query Answering\n",
        "\n",
        "This project implements a **Retrieval-Augmented Generation (RAG)** system, a modern technique that integrates document retrieval and answer generation. The RAG approach enhances the performance of large language models (LLMs) by incorporating external information to improve the model's ability to answer queries outside its original training data. This is especially beneficial for businesses or single users that cannot afford to build a ChatGPT-like LLM *from scratch*. RAG provides a faster and more efficient alternative than re-training, as it tries to expand the model knowledge by simply providing relevant documents as data sources to the user's queries.\n",
        "\n",
        "**The use cases of RAGs** include:\n",
        "- Chatbots\n",
        "- Document-based question answering systems\n",
        "- Legal and technical document summarization\n",
        "- many more\n",
        "\n",
        "In this project, we will develop a **chatbot-like** system where users can upload PDF documents and ask the LLM about them. Particularly, we tried to balance good performances with the necessity to utilize *light* (computationally speaking) models. The results were in the end quite satisfying.\n",
        "\n",
        "\n",
        "The proposed pipeline will:\n",
        "\n",
        "1. Split the documents into smaller chunks (with special handling for *mathematical formulas*).\n",
        "2. Embed these chunks using a model from Hugging Face (`cde-small-v1`).\n",
        "3. Initialize a (quantized) local copy of `LLaMA 3.2 3B` for answer generation.\n",
        "4. Provide access to the model trough a `Gradio` interface.\n",
        "\n",
        "More details will be present in their respective sections.\n",
        "\n",
        "\n",
        "In the following, we will delve into the technical details and results obtained from implementing this pipeline, including performance analysis and the metrics used to evaluate the system's effectiveness.\n",
        "\n",
        "---\n"
      ]
    },
    {
      "cell_type": "markdown",
      "metadata": {
        "id": "8OV1QFHWLvIw"
      },
      "source": [
        "## PDF Preprocessing and Documents Creations\n",
        "\n",
        "One of the critical challenges in preprocessing documents for the implementation of a RAG system is ensuring accurate and efficient data extraction while maintaining contextual integrity. To address this, we developed a pipeline that tries to handle various aspects of document preprocessing, leveraging open-source tools to achieve good results.\n",
        "\n",
        "The first phase regards the preprocessing and splitting of the chosen PDF file. To accomplish this, we propose a hybrid approach that combines two tools:  \n",
        "- [**Unstructured**](https://github.com/Unstructured-IO): An open-source tool for converting unstructured data into **structured** outputs.   \n",
        "- [**Nougat**](https://github.com/facebookresearch/nougat  ): A Transformer-based OCR model designed to simplify the conversion of complex content into a machine-readable format.   \n",
        "\n",
        "The pipeline integrates these as follows:  \n",
        "1. **Document Parsing**: Using `Unstructured`'s partition function, we extracted elements characterized by type and content. This allowed us to:  \n",
        "   * Filter irrelevant or meaningless elements.  \n",
        "   * identify **mathematical formulas**, since they will have a special type\n",
        "   * Translate elements into a **dataframe with columns for Type and Value** for easier handling.  \n",
        "\n",
        "2. **Enhanced Content Extraction**: Pages requiring additional attention (e.g., those with complex elements such as formulas) were processed using `Nougat`. This converts them into text formatted in Markdown.\n",
        "\n",
        "By combining the strengths of `Unstructured` and `Nougat`, this approach enables the creation of good quality, structured document representations while addressing challenges like text cleaning, splitting, and chunking.\n",
        "\n",
        "### Computational Considerations and Simpler Alternatives\n",
        "\n",
        "These preprocessing steps, particularly those involving splitting and structuring complex documents, are computationally demanding. This pipeline is most effective for **academic paper-style documents**, which often feature intricate structures or a mix of diverse content types, and are often just a few pages long.\n",
        "\n",
        "For documents primarily composed of simple text, **lighter and faster alternatives** exist. For instance, the [Text Splitters](https://python.langchain.com/docs/concepts/text_splitters/) provided by LangChain offer a simpler, yet effective, solution for text-based document splitting, significantly reducing processing time and resource usage."
      ]
    },
    {
      "cell_type": "markdown",
      "metadata": {
        "id": "PmLEt9LCLpLn"
      },
      "source": [
        "Let's dive into the implementation. Let's start by installing required libraries."
      ]
    },
    {
      "cell_type": "code",
      "execution_count": 1,
      "metadata": {
        "id": "j3UrpIY5sLgF"
      },
      "outputs": [
        {
          "name": "stdout",
          "output_type": "stream",
          "text": [
            "Note: you may need to restart the kernel to use updated packages.\n"
          ]
        },
        {
          "name": "stderr",
          "output_type": "stream",
          "text": [
            "ERROR: pip's dependency resolver does not currently take into account all the packages that are installed. This behaviour is the source of the following dependency conflicts.\n",
            "nougat-ocr 0.1.17 requires timm==0.5.4, but you have timm 1.0.12 which is incompatible.\n"
          ]
        }
      ],
      "source": [
        "%pip install -qqq torch gdown huggingface_hub python-dotenv pymupdf python-Levenshtein nltk tqdm unidecode gradio bitsandbytes seaborn unstructured[pdf] --progress-bar off"
      ]
    },
    {
      "cell_type": "markdown",
      "metadata": {
        "id": "-QRv6r2rWNRw"
      },
      "source": [
        "We start off by downloading the 'assets' folder, that contains images rendered in this notebook."
      ]
    },
    {
      "cell_type": "code",
      "execution_count": 2,
      "metadata": {
        "id": "f-lBuhHdWNRw",
        "outputId": "9103e8d2-64d9-451d-a0fc-c82742a44233"
      },
      "outputs": [
        {
          "name": "stdout",
          "output_type": "stream",
          "text": [
            "Assets folder 'assets' already exists. Skipping download and extraction.\n"
          ]
        }
      ],
      "source": [
        "import os\n",
        "import requests\n",
        "import zipfile\n",
        "\n",
        "zip_url = \"https://drive.google.com/uc?export=download&id=1iira8TFvy7Nix3NwusLMLqgTCmjy76Ru\"\n",
        "zip_file_name = \"assets.zip\"\n",
        "output_dir = \"assets\"\n",
        "\n",
        "if not os.path.exists(output_dir):\n",
        "    print(\"Downloading assets...\")\n",
        "    response = requests.get(zip_url, stream=True)\n",
        "    with open(zip_file_name, \"wb\") as f:\n",
        "        for chunk in response.iter_content(chunk_size=8192):\n",
        "            f.write(chunk)\n",
        "\n",
        "    print(\"Download completed.\")\n",
        "\n",
        "    # Unzip the assets\n",
        "    print(\"Unzipping assets...\")\n",
        "    with zipfile.ZipFile(zip_file_name, \"r\") as zip_ref:\n",
        "        zip_ref.extractall(output_dir)\n",
        "\n",
        "    print(f\"Assets unzipped to '{output_dir}'.\")\n",
        "\n",
        "    os.remove(zip_file_name)\n",
        "    print(\"Cleanup completed.\")\n",
        "else:\n",
        "    print(f\"Assets folder '{output_dir}' already exists. Skipping download and extraction.\")"
      ]
    },
    {
      "cell_type": "markdown",
      "metadata": {
        "id": "1FPsNo-aWNRy"
      },
      "source": [
        "### Installing Additional Required Libraries\n",
        "\n",
        "On Colab, the installations above are sufficient. However, on **Windows** and **macOS**, additional steps are required to install libraries necessary for both Unstructured and Nougat:\n",
        "\n",
        "- **Poppler**: a PDF rendering library.  \n",
        "- **Tesseract**: an open-source OCR engine.\n",
        "\n",
        "\n",
        "#### **Steps for Windows**\n",
        "The easiest way to install the required libraries on Windows is via Conda (assuming Conda is installed):\n",
        "\n",
        "1. **Install the required packages**:\n",
        "    ```bash\n",
        "    %conda install -c conda-forge poppler tesseract -y\n",
        "    %pip install -q python-magic-bin==0.4.14\n",
        "    ```\n",
        "\n",
        "2. **Add Tesseract to the system PATH**:\n",
        "    Use the following Python code to set up the `TESSDATA_PREFIX` environment variable:\n",
        "\n",
        "    ```python\n",
        "    import os, sys\n",
        "\n",
        "    # Get the path of the current Conda environment\n",
        "    conda_env_path = os.path.dirname(sys.executable)\n",
        "    tessdata_path = os.path.join(conda_env_path, \"share\", \"tessdata\") # the necessary files should be here\n",
        "\n",
        "    # Set the TESSDATA_PREFIX environment variable\n",
        "    os.environ[\"TESSDATA_PREFIX\"] = os.path.join(conda_env_path, \"share\")\n",
        "    print(\"TESSDATA_PREFIX:\", os.environ[\"TESSDATA_PREFIX\"])\n",
        "\n",
        "    # Verify the tessdata directory\n",
        "    if os.path.exists(tessdata_path):\n",
        "        print(f\"Tessdata directory found: {tessdata_path}\")\n",
        "    else:\n",
        "        print(f\"Tessdata directory not found: {tessdata_path}\")\n",
        "    ```\n",
        "\n",
        "#### **Steps for macOS**\n",
        "On macOS, installation is simpler. Use the following command to install the required libraries (using `brew`):\n",
        "\n",
        "1. **Install the required packages**:\n",
        "    ```bash\n",
        "    brew install poppler tesseract\n",
        "    ```\n",
        "\n",
        "2. **Verify the installation**:\n",
        "    Check if Tesseract is properly installed by running:\n",
        "    ```bash\n",
        "    tesseract --version\n",
        "    ```\n",
        "\n",
        "\n",
        "As said, this approach serves as an enhancement to the RAG pipeline, enabling more accurate extraction from PDFs, particularly for elements like mathematical formulas in scientific papers. However, it is not mandatory; if the PDF contains mostly plain text, a simpler chunking method may be sufficient and more straightforward."
      ]
    },
    {
      "cell_type": "markdown",
      "metadata": {
        "id": "uo9QzZJzSLKe"
      },
      "source": [
        "### Downloading the Selected PDF for Analysis\n",
        "\n",
        "In this notebook, we will use slides from our *Multimedia and Information Retrieval* course. These slides present a challenging objective due to their inclusion of complex mathematical formulas, making accurate parsing a non-trivial task. In the next cell we will download the chosen PDF. You are free to select any PDF of your preference; however, keep in mind that the evaluation phase will of course vary depending on the content of the document. \n",
        "\n",
        "--- \n",
        "> **Note:** To speed up execution, we’ll also download the `elements.pkl` file to bypass some expensive processing (which would otherwise take approximately TODO : RIGUARDA *20/30 minutes* for ~300 pages)."
      ]
    },
    {
      "cell_type": "code",
      "execution_count": 3,
      "metadata": {
        "id": "x9hQwckZHXHO"
      },
      "outputs": [
        {
          "name": "stdout",
          "output_type": "stream",
          "text": [
            "File Information Retrieval Slides.pdf already exists.\n"
          ]
        }
      ],
      "source": [
        "import gdown\n",
        "\n",
        "\n",
        "PDF_NAME = \"Information Retrieval Slides.pdf\"\n",
        "if os.path.exists(PDF_NAME):\n",
        "    print(f\"File {PDF_NAME} already exists.\")\n",
        "else:\n",
        "    # save locally from https://drive.google.com/file/d/1xUA6_ZBJzWGF7kWpM1YZTK3R1siYg1qY/view?usp=drive_link\n",
        "    gdown.download(id=\"1xUA6_ZBJzWGF7kWpM1YZTK3R1siYg1qY\", output=PDF_NAME, quiet=False)\n",
        "\n",
        "    # download of pickled elements to speed up the execution\n",
        "    gdown.download(id=\"17eXYgmiTL9-f9F5vIT5j7QffHIu_QwuN\", output=\"elements.pkl\", quiet=False)"
      ]
    },
    {
      "cell_type": "markdown",
      "metadata": {
        "id": "t_HRybt8S-Xp"
      },
      "source": [
        "## PDF Partitioning with Unstructured\n",
        "\n",
        "<style>\n",
        "    img {\n",
        "        border-radius: 15px;\n",
        "    }\n",
        "    .center {\n",
        "        display: flex;\n",
        "        justify-content: center;\n",
        "    }\n",
        "    .center img {\n",
        "        width: 50%;\n",
        "   }\n",
        "</style>\n",
        "\n",
        "<div class=\"center\">\n",
        "        <img src=\"assets/unstructured.png\" alt=\"unstructured\">\n",
        "</div>\n",
        "\n",
        "\n",
        "This tool processes the PDF using the `partition` function to extract structured elements.\n",
        "\n",
        "It provides various strategies, but we decide to apply the **`hi_res`** strategy because is highly sensitive and it is recommended if you want obtain precise classifications for document elements. Other ones were `fast` and `ocr_only`, but didn't produce acceptable results. Adopting this strategy, `Unstructured` was able to use the document layout to gain additional information about document elements, in particular it can recognize:\n",
        "\n",
        "- **Titles** and **Text** (we use them as it is)\n",
        "- **Formulas** (we further process them)\n",
        "- **Page Breaks** (fundamental create chuncks)\n",
        "- **Images** (will be removed)\n",
        "\n",
        "\n",
        "As said, Unstructured can be computationally quite extensive, especiallt with the `hi_res` strategy; that is why we downloaded `elements.pkl` above, that contains the results produced by Unstructured on the target PDF. In the following cell, set `load_elements_from_pickle = False` to recompute them (takes approximately TODO: CHECKA ~10/15 minutes)."
      ]
    },
    {
      "cell_type": "code",
      "execution_count": 4,
      "metadata": {
        "id": "NpVjk7JfIoTh"
      },
      "outputs": [
        {
          "name": "stdout",
          "output_type": "stream",
          "text": [
            "Number of recognized elements: 4486 in file Information Retrieval Slides.pdf\n"
          ]
        }
      ],
      "source": [
        "from unstructured.partition.auto import partition\n",
        "from tqdm import tqdm\n",
        "import fitz  # PyMuPDF\n",
        "import pickle\n",
        "\n",
        "\n",
        "load_elements_from_pickle = True\n",
        "elements = []\n",
        "\n",
        "if load_elements_from_pickle:\n",
        "    # load elements from pickle\n",
        "    with open('elements.pkl', 'rb') as f:\n",
        "        elements = pickle.load(f)\n",
        "else: # process the PDF file\n",
        "    doc = fitz.open(PDF_NAME)  # open the PDF file\n",
        "    total_pages = len(doc)\n",
        "\n",
        "    for page_number in tqdm(range(total_pages), desc=\"Processing PDF pages\"):\n",
        "        # extract the single page\n",
        "        temp_doc = fitz.open()\n",
        "        temp_doc.insert_pdf(doc, from_page=page_number, to_page=page_number)\n",
        "\n",
        "        # save the page to a temporary file\n",
        "        temp_page_file = f\"temp_page_{page_number}.pdf\"\n",
        "        temp_doc.save(temp_page_file)\n",
        "        temp_doc.close()\n",
        "\n",
        "        # apply the partitioning to the page\n",
        "        page_elements = partition(\n",
        "            filename=temp_page_file,\n",
        "            strategy=\"hi_res\",\n",
        "            skip_infer_table_types=[],\n",
        "            include_page_breaks=True\n",
        "        )\n",
        "        elements.extend(page_elements)  # add the elements to the list\n",
        "        # finally, delete the temporary file\n",
        "        os.remove(temp_page_file)\n",
        "\n",
        "    doc.close()\n",
        "\n",
        "# print the number of recognized elements\n",
        "print(\"Number of recognized elements: \" + str(len(elements)) + \" in file \" + PDF_NAME)"
      ]
    },
    {
      "cell_type": "markdown",
      "metadata": {
        "id": "CITylvMsd1Mf"
      },
      "source": [
        "Now store the elements in a pickle file"
      ]
    },
    {
      "cell_type": "code",
      "execution_count": 5,
      "metadata": {
        "id": "k_6QJqgxj4ou"
      },
      "outputs": [],
      "source": [
        "with open('elements.pkl', 'wb') as f:\n",
        "    pickle.dump(elements, f)"
      ]
    },
    {
      "cell_type": "markdown",
      "metadata": {
        "id": "MrfWUBRLfjAK"
      },
      "source": [
        "## Filtering and Analyzing Extracted Elements\n",
        "\n",
        "Here we build a **dataframe**, creating pairs of **Type** and **Value**, using the elements extracted from the PDF file.\n",
        "\n",
        "Then we print all the different element's Type recognized.\n",
        "\n"
      ]
    },
    {
      "cell_type": "code",
      "execution_count": 6,
      "metadata": {
        "id": "MYMr613sfcqH"
      },
      "outputs": [
        {
          "name": "stdout",
          "output_type": "stream",
          "text": [
            "[<class 'unstructured.documents.elements.Title'>\n",
            " <class 'unstructured.documents.elements.EmailAddress'>\n",
            " <class 'unstructured.documents.elements.PageBreak'>\n",
            " <class 'unstructured.documents.elements.ListItem'>\n",
            " <class 'unstructured.documents.elements.NarrativeText'>\n",
            " <class 'unstructured.documents.elements.Image'>\n",
            " <class 'unstructured.documents.elements.FigureCaption'>\n",
            " <class 'unstructured.documents.elements.Table'>\n",
            " <class 'unstructured.documents.elements.Text'>\n",
            " <class 'unstructured.documents.elements.Footer'>\n",
            " <class 'unstructured.documents.elements.Formula'>\n",
            " <class 'unstructured.documents.elements.Header'>]\n"
          ]
        }
      ],
      "source": [
        "import pandas as pd\n",
        "\n",
        "df_elements = pd.DataFrame( [[type(elem), elem.text] for elem in elements], columns=['Type', 'Value'])\n",
        "\n",
        "# Print all the unique types of elements\n",
        "print(df_elements['Type'].unique())"
      ]
    },
    {
      "cell_type": "markdown",
      "metadata": {
        "id": "wpuoY63qTQy4"
      },
      "source": [
        "Next, we clean the dataframe by filtering out elements that are not useful for our pipeline:  \n",
        "- **Images**: While OCR techniques extract text from images, the resulting content often lacks meaningful context and is not suitable for the language model.  \n",
        "- **Tables**: Similar to images, the extracted text from tables often loses its structural meaning and context.  \n",
        "- **Footers** and **Headers**: These typically contain repetitive or irrelevant information that does not contribute to the main content.  \n"
      ]
    },
    {
      "cell_type": "code",
      "execution_count": 7,
      "metadata": {
        "id": "Q6iG38ZWwv7L"
      },
      "outputs": [
        {
          "name": "stdout",
          "output_type": "stream",
          "text": [
            "Number of actual elements: 4486\n",
            "Number of elements after filtering: 4031\n",
            "Remaining Types left in the dataframe:\n",
            " [<class 'unstructured.documents.elements.Title'>\n",
            " <class 'unstructured.documents.elements.EmailAddress'>\n",
            " <class 'unstructured.documents.elements.PageBreak'>\n",
            " <class 'unstructured.documents.elements.ListItem'>\n",
            " <class 'unstructured.documents.elements.NarrativeText'>\n",
            " <class 'unstructured.documents.elements.FigureCaption'>\n",
            " <class 'unstructured.documents.elements.Text'>\n",
            " <class 'unstructured.documents.elements.Formula'>]\n"
          ]
        }
      ],
      "source": [
        "from unstructured.documents.elements import Image, Table, Footer, Header, PageBreak, Formula\n",
        "\n",
        "# print df number of rows\n",
        "print(\"Number of actual elements: \" + str(len(df_elements)))\n",
        "\n",
        "# drop all the rows with unuseful Types\n",
        "df_elements = df_elements[df_elements['Type'] != Image]\n",
        "df_elements = df_elements[df_elements['Type'] != Table]\n",
        "df_elements = df_elements[df_elements['Type'] != Footer]\n",
        "df_elements = df_elements[df_elements['Type'] != Header]\n",
        "df_elements = df_elements.drop(df_elements[(df_elements['Type'] != PageBreak) & (df_elements['Value'] == '')].index)\n",
        "\n",
        "# print df number of rows\n",
        "print(\"Number of elements after filtering: \" + str(len(df_elements)))\n",
        "\n",
        "# reassign the dataframe index\n",
        "df_elements = df_elements.reset_index(drop=True)\n",
        "\n",
        "# print all the different possible Type in the dataframe\n",
        "print(\"Remaining Types left in the dataframe:\\n\",df_elements['Type'].unique())\n"
      ]
    },
    {
      "cell_type": "markdown",
      "metadata": {
        "id": "aswk1lwSlziI"
      },
      "source": [
        "Check if there are some empty-valued elements, that are not Page Breaks, in the dataframe."
      ]
    },
    {
      "cell_type": "code",
      "execution_count": 8,
      "metadata": {
        "id": "7vBne_I70vij"
      },
      "outputs": [
        {
          "name": "stdout",
          "output_type": "stream",
          "text": [
            "0\n"
          ]
        }
      ],
      "source": [
        "# print rows of df_elements with bith Type != PageBreak and Value empty\n",
        "print(len(df_elements[(df_elements['Type'] != PageBreak) & (df_elements['Value'] == '')]))\n",
        "\n",
        "if len(df_elements[(df_elements['Type'] != PageBreak) & (df_elements['Value'] == '')]) > 0:\n",
        "  df_elements = df_elements.drop(df_elements[(df_elements['Type'] != PageBreak) & (df_elements['Value'] == '')].index)"
      ]
    },
    {
      "cell_type": "markdown",
      "metadata": {
        "id": "XCrkLBolTsQv"
      },
      "source": [
        "## Filtering Pages Containing Formulas in a DataFrame\n",
        "\n",
        "This code processes a DataFrame (`df_elements`) containing elements from a document (e.g., text, formulas, and page breaks) to identify and remove all rows belonging to pages that contain at least one formula.\n",
        "\n",
        "- `pages_with_formulas_indexes`: A `set` to store the indices of pages that contain at least one `Formula`.\n",
        "- `index`: Keeps track of the current page number (starts at 0).\n",
        "- `page_indices`: A list to map each row in the DataFrame to its corresponding page number.\n",
        "\n",
        "\n",
        "In the end, we filter out rows whose `PageIndex` matches any value in `pages_with_formulas_indexes`. The `PageIndex` column is dropped after filtering."
      ]
    },
    {
      "cell_type": "code",
      "execution_count": 9,
      "metadata": {
        "id": "8Rq_yIt4WNR5"
      },
      "outputs": [
        {
          "name": "stdout",
          "output_type": "stream",
          "text": [
            "Number of PageBreak elements: 322\n",
            "Number of PageBreak elements: 300\n",
            "Pages with formulas indexes: [89, 94, 95, 96, 97, 136, 142, 157, 160, 165, 168, 180, 181, 182, 184, 187, 189, 193, 194, 203, 208, 210]\n",
            "Number of pages with at least one formula: 22\n"
          ]
        }
      ],
      "source": [
        "# Initial number of PageBreak elements\n",
        "print(\"Number of PageBreak elements: \" + str(len(df_elements[df_elements['Type'] == PageBreak])))\n",
        "\n",
        "\n",
        "# list of page indexes with at least one formula\n",
        "pages_with_formulas_indexes = set()\n",
        "index = 0\n",
        "page_indices = [] # to map each row to its page index\n",
        "\n",
        "for i in range(len(df_elements)):\n",
        "    # when a PageBreak is found, increment the page-index\n",
        "    if df_elements.iloc[i]['Type'] == PageBreak:\n",
        "        index += 1\n",
        "    page_indices.append(index)\n",
        "    # if you find a formula, add the page index to the set\n",
        "    if df_elements.iloc[i]['Type'] == Formula:\n",
        "        pages_with_formulas_indexes.add(index)\n",
        "\n",
        "# add the PageIndex column to the DataFrame\n",
        "df_elements['PageIndex'] = page_indices\n",
        "\n",
        "# filter out the rows with formulas\n",
        "df_elements_cleaned = df_elements[~df_elements['PageIndex'].isin(pages_with_formulas_indexes)].drop(columns=['PageIndex']).reset_index(drop=True)\n",
        "\n",
        "# Final number of PageBreak elements\n",
        "print(\"Number of PageBreak elements: \" + str(len(df_elements_cleaned[df_elements_cleaned['Type'] == PageBreak])))\n",
        "print(\"Pages with formulas indexes:\", sorted(pages_with_formulas_indexes))\n",
        "print(\"Number of pages with at least one formula:\", len(pages_with_formulas_indexes))"
      ]
    },
    {
      "cell_type": "code",
      "execution_count": 10,
      "metadata": {
        "id": "oPbgAD5jWNR5"
      },
      "outputs": [
        {
          "name": "stdout",
          "output_type": "stream",
          "text": [
            "Number of elements before filtering: 4031\n",
            "Number of elements after filtering: 3656\n"
          ]
        }
      ],
      "source": [
        "print(\"Number of elements before filtering:\", len(df_elements))\n",
        "print(\"Number of elements after filtering:\", len(df_elements_cleaned))"
      ]
    },
    {
      "cell_type": "markdown",
      "metadata": {
        "id": "SZqXuKB-WNR5"
      },
      "source": [
        "The Unstructured pipeline is not perfect and can make some mistakes in extracting text from the pdf. This code replaces uncommon Unicode characters with ASCII equivalents and removes any remaining non-ASCII characters. We defined a dictionary for replacing specific Unicode characters (e.g., `ﬃ → ffi`, `⊺ → T`), more can be added if necessary. We use `str.maketrans()` for fast replacements. The computed values are stored back in the `Value` column of the dataframe."
      ]
    },
    {
      "cell_type": "code",
      "execution_count": 11,
      "metadata": {
        "id": "T9wSR0CQWNR5"
      },
      "outputs": [],
      "source": [
        "import re\n",
        "\n",
        "unicode_replacements = {\n",
        "    \"ﬃ\": \"ffi\",\n",
        "    \"ﬀ\": \"ff\",\n",
        "    \"ﬁ\": \"fi\",\n",
        "    \"⊺\": \"T\",\n",
        "    \"•\": \" \",\n",
        "    \"—\": \"-\",\n",
        "    \"«\": \" \",\n",
        "    \"»\": \" \",\n",
        "    \"”\": '\"',\n",
        "    \"“\": '\"',\n",
        "    \"‘\": \"'\",\n",
        "    \"’\": \"'\",\n",
        "    \"ﬄ\": \"ffl\",\n",
        "    # more can be added if needed!\n",
        "}\n",
        "\n",
        "# translation table for faster replacement\n",
        "translation_table = str.maketrans(unicode_replacements)\n",
        "\n",
        "def find_non_ascii_characters(text):\n",
        "    # replace all characters using the translation table\n",
        "    text = text.translate(translation_table)\n",
        "    text = re.sub(r'[^\\x00-\\x7F]', '', text)  # Removes all remaining non-ASCII characters\n",
        "    return text\n",
        "\n",
        "# Apply the function to the 'Value' column\n",
        "df_elements_cleaned['Value'] = df_elements_cleaned['Value'].apply(find_non_ascii_characters)\n",
        "\n",
        "df_elements = df_elements_cleaned"
      ]
    },
    {
      "cell_type": "markdown",
      "metadata": {
        "id": "U0oMEuCOT0H2"
      },
      "source": [
        "## Nougat: Neural Optical Understanding for Academic Documents\n",
        "\n",
        "\n",
        "<style>\n",
        "    img {\n",
        "        border-radius: 15px;\n",
        "    }\n",
        "    .center {\n",
        "        display: flex;\n",
        "        justify-content: center;\n",
        "    }\n",
        "    .center img {\n",
        "        width: 15%;\n",
        "    }\n",
        "</style>\n",
        "<div class=\"center\">\n",
        "        <img src=\"assets/meta-emblem.png\" alt=\"meta-emblem\">\n",
        "</div>\n",
        "\n",
        "\n",
        "[**Nougat**](https://github.com/facebookresearch/nougat?tab=readme-ov-file) is an academic document PDF parser designed to extract and understand LaTeX math and tables from PDFs. Developed by **Facebook Research**, it converts academic documents into structured formats (Mathpix Markdown, *.MMD*).\n",
        "\n",
        "Key Features:\n",
        "- Extracts and processes LaTeX math, tables, and text.\n",
        "- Converts PDFs to Mathpix Markdown (.mmd) format.\n",
        "- Supports GPU for faster processing.\n",
        "\n",
        "Nougat is optimized for scientific papers, especially those found on platforms like arXiv, and works best with English papers.\n",
        "\n",
        "The approach for this project is to leverage Nougat as a *targeted solution* for extracting content from pages that present particular challenges, such as those containing mathematical fomulas, on which Unstructured performed poorly.\n",
        "\n",
        "> *But why wasn't `Nougat` applied to the entire PDF?* The reason is that the selected PDF is over 300 pages long, and processing it with Nougat for the entire document would have been time-consuming. Instead, we used `Unstructured` to identify the pages containing formulas and applied `Nougat` only to those problematic pages. This resulted in a faster and more efficient overall workflow, while maintaining accuracy.\n",
        "\n",
        "> As a side note, unfortunately Nougat requires `transformers==4.38.2` or below, which is uncompatible with `sentence-transformers`, since it requires `transformers<5.0.0,>=4.41.0`. A solution to this is to keep them separated in two different virutal environments. For the sake of semplicity, in the notebook we will simply upgrade `transformers` later on in order to utilize `sentence-transformers` without any problems."
      ]
    },
    {
      "cell_type": "code",
      "execution_count": 12,
      "metadata": {
        "id": "Kmq5mVmfWNR6"
      },
      "outputs": [
        {
          "name": "stdout",
          "output_type": "stream",
          "text": [
            "Note: you may need to restart the kernel to use updated packages.\n",
            "Note: you may need to restart the kernel to use updated packages.\n"
          ]
        },
        {
          "name": "stderr",
          "output_type": "stream",
          "text": [
            "ERROR: pip's dependency resolver does not currently take into account all the packages that are installed. This behaviour is the source of the following dependency conflicts.\n",
            "nougat-ocr 0.1.17 requires timm==0.5.4, but you have timm 1.0.12 which is incompatible.\n",
            "sentence-transformers 3.3.1 requires transformers<5.0.0,>=4.41.0, but you have transformers 4.38.2 which is incompatible.\n"
          ]
        },
        {
          "name": "stdout",
          "output_type": "stream",
          "text": [
            "Note: you may need to restart the kernel to use updated packages.\n"
          ]
        },
        {
          "name": "stderr",
          "output_type": "stream",
          "text": [
            "ERROR: pip's dependency resolver does not currently take into account all the packages that are installed. This behaviour is the source of the following dependency conflicts.\n",
            "effdet 0.4.1 requires timm>=0.9.2, but you have timm 0.5.4 which is incompatible.\n"
          ]
        }
      ],
      "source": [
        "# install some pre-requisites for Nougat\n",
        "%pip install -qqq -U albumentations\n",
        "%pip -qqq install transformers==4.38.2 --progress-bar off\n",
        "\n",
        "# install Nougat\n",
        "%pip -qqq install nougat-ocr  --progress-bar off"
      ]
    },
    {
      "cell_type": "markdown",
      "metadata": {
        "id": "XJEnWwFdWNR6"
      },
      "source": [
        "Now we can simply invoke Nougat, by calling the corresponding CLI command. More information about it can be found on its [README page](https://github.com/facebookresearch/nougat?tab=readme-ov-file). Here it is called by simply passing:\n",
        "- the path of the PDF file in analysis\n",
        "- `-o`, the output folder\n",
        "- `--pages`, to specify only pages containing mathemathical formulas\n",
        "- `-m 0.1.0-base`, to utilize the base model (default to `0.1.0-small` but didn't produce acceptable results)\n",
        "- `--no-skipping`, to avoid using failure detection heuristic (this was added because, as from the Nougat readme, *'on some devices the failure detection heuristic are not working properly'*, and it is suggested to run it with this flag)\n",
        "\n",
        "This step requires approximately from 2 to 5 minutes.\n",
        "\n",
        ">  NOTE : If the file already exists, the command **WON'T** be re-executed. Call Nougat again and pass `--recompute` to ignore this"
      ]
    },
    {
      "cell_type": "code",
      "execution_count": 13,
      "metadata": {
        "id": "Ewz8syhoWNR6"
      },
      "outputs": [
        {
          "name": "stdout",
          "output_type": "stream",
          "text": [
            "90,95,96,97,98,137,143,158,161,166,169,181,182,183,185,188,190,194,195,204,209,211\n",
            "nougat \"Information Retrieval Slides.pdf\" -o ./nougat-output --pages 90,95,96,97,98,137,143,158,161,166,169,181,182,183,185,188,190,194,195,204,209,211 -m 0.1.0-base --no-skipping\n"
          ]
        },
        {
          "name": "stderr",
          "output_type": "stream",
          "text": [
            "C:\\Users\\giuli\\miniconda3\\envs\\lm\\Lib\\site-packages\\nougat\\transforms.py:146: UserWarning: Argument 'alpha_affine' is not valid and will be ignored.\n",
            "  alb.ElasticTransform(\n",
            "C:\\Users\\giuli\\miniconda3\\envs\\lm\\Lib\\site-packages\\torch\\functional.py:534: UserWarning: torch.meshgrid: in an upcoming release, it will be required to pass the indexing argument. (Triggered internally at C:\\actions-runner\\_work\\pytorch\\pytorch\\builder\\windows\\pytorch\\aten\\src\\ATen\\native\\TensorShape.cpp:3596.)\n",
            "  return _VF.meshgrid(tensors, **kwargs)  # type: ignore[attr-defined]\n",
            "INFO:root:Skipping Information Retrieval Slides.pdf, already computed. Run with --recompute to convert again.\n"
          ]
        }
      ],
      "source": [
        "# Nougat is 1-indexed, so we need to increment the page indexes by 1\n",
        "nougat_formulas_indexes = [index + 1 for index in pages_with_formulas_indexes]\n",
        "\n",
        "nougat_formulas_indexes_str = \",\".join(map(str, sorted(nougat_formulas_indexes)))\n",
        "print(nougat_formulas_indexes_str)\n",
        "\n",
        "command = f'nougat \"{PDF_NAME}\" -o ./nougat-output --pages {nougat_formulas_indexes_str} -m 0.1.0-base --no-skipping'\n",
        "\n",
        "print(command)\n",
        "\n",
        "!{command}"
      ]
    },
    {
      "cell_type": "markdown",
      "metadata": {
        "id": "Bs4Ea2tIWNR7"
      },
      "source": [
        "The output can be found in the `nougat-output` folder, as an MMD file. Since of course the model can fail to identify some sentences, we also perform some preprocessing of the text, to ensure it will be sanitized for the next phases."
      ]
    },
    {
      "cell_type": "code",
      "execution_count": 24,
      "metadata": {
        "id": "FLhsgB3aWNR7"
      },
      "outputs": [
        {
          "name": "stdout",
          "output_type": "stream",
          "text": [
            "Jaccard Coefficient\n",
            "\n",
            "* A common measure of overlap of two (finite) sets \\(A\\) and \\(B\\): \\[J(A,B)=\\frac{|A\\cap B\\,|}{|A\\cup B\\,|}\\]\n",
            "* Always assigns a number between 0 and 1\n",
            "* \\(A\\) and \\(B\\) do not h  ...\n",
            "\n",
            "..........................................\n"
          ]
        }
      ],
      "source": [
        "def remove_unmatched_left_tags(line):\n",
        "        if \"\\\\left|\" in line and \"\\\\right|\" not in line:\n",
        "            line = line.replace(\"\\\\left|\", \"\")\n",
        "        return line\n",
        "\n",
        "def preprocess_content(content):\n",
        "    content = content.replace(\"**\", \"\").replace(\"##\", \"\")  # Some unuseful markdown is inserted sometimes\n",
        "    content = content.replace(\"{(}\", \"(\").replace(\"{)}\", \")\") # replace all '{(}' and '{)}' with '(' and ')'\n",
        "    content = content.replace(\"{[}\", \"(\").replace(\"{]}\", \")\") # replace all '{[}' and '{]}' with '(' and ')'\n",
        "    content = re.sub(r'\\$(.*?)\\$', r'\\\\(\\1\\\\)', content) # replace all '$' with '\\(\\)' (inline formulas)\n",
        "    content = re.sub(r'\\\\text\\{(.*?)\\}', r'\\1', content) # replace all '\\text' with ''\n",
        "    content = re.sub(r'_(.*?)_', r'\\1', content) # replace words inside '_word_' with the same word -> e.g. _Proof:_ -> Proof:\n",
        "    content = re.sub(r'\\\\includegraphics\\[width=.*?pt\\]', '', content) # replace all \\includegraphics[width=....pt] with '', independently of the width\n",
        "    content = \"\\n\".join(remove_unmatched_left_tags(line) for line in content.splitlines()) # remove all \\left|\\ tags that don't have a \\right|\\ tag in the same line (they are not closed)        \n",
        "    content = content.replace('\\\\\\\\', '\\\\') # substitute '\\\\' with '\\', since it's not necessary to escape the backslash for later\n",
        "    content = content.strip()\n",
        "    return content\n",
        "\n",
        "\n",
        "with open(f'nougat-output/{PDF_NAME.replace(\".pdf\",\".mmd\")}', 'r') as f:\n",
        "    content = f.read()\n",
        "\n",
        "\n",
        "processed_content = preprocess_content(content)\n",
        "\n",
        "\n",
        "with open(f'nougat-output/{PDF_NAME.replace(\".pdf\",\".mmd\")}', 'w') as f:\n",
        "    f.write(processed_content)\n",
        "\n",
        "\n",
        "print(processed_content[:200], \" ...\\n\\n..........................................\")"
      ]
    },
    {
      "cell_type": "markdown",
      "metadata": {
        "id": "aH1-7NgCVMY9"
      },
      "source": [
        "# Creating the chunks\n",
        "\n",
        "Before proceeding, we clean up the `df_elements` DataFrame by removing consecutive duplicate rows while retaining the first occurrence. This issue was present sometimes in our case because Unstructured sometimes duplicated Page Titles, or somtimes because the PDF contained white-on-white text, which resulted in duplicate content for the same page. Cleaning the DataFrame ensures to avoid redundancy."
      ]
    },
    {
      "cell_type": "code",
      "execution_count": 15,
      "metadata": {
        "id": "KBJg2MZ3QH1t"
      },
      "outputs": [],
      "source": [
        "# drop adjacent duplicates in the df_elements mantaining the first one\n",
        "df_elements = df_elements.loc[df_elements.shift().ne(df_elements).any(axis=1)]\n",
        "\n",
        "# reset index\n",
        "df_elements = df_elements.reset_index(drop=True)"
      ]
    },
    {
      "cell_type": "code",
      "execution_count": 16,
      "metadata": {
        "id": "g_33-bMTulyW"
      },
      "outputs": [
        {
          "name": "stdout",
          "output_type": "stream",
          "text": [
            "Final number of pages (given by the number of PageBreak(s)): 300\n"
          ]
        }
      ],
      "source": [
        "print(\"Final number of pages (given by the number of PageBreak(s)):\",len(df_elements[df_elements['Type'] == PageBreak]))"
      ]
    },
    {
      "cell_type": "markdown",
      "metadata": {},
      "source": [
        "Tokenization is the process of breaking a text into smaller units, such as words or phrases, which is a fundamental step in text preprocessing for natural language processing (NLP) tasks. We use the  **Natural Language Toolkit (NLTK)** for this task and counting tokens."
      ]
    },
    {
      "cell_type": "code",
      "execution_count": 17,
      "metadata": {
        "id": "8vMk0-oV-_1B"
      },
      "outputs": [
        {
          "name": "stderr",
          "output_type": "stream",
          "text": [
            "[nltk_data] Downloading package punkt_tab to\n",
            "[nltk_data]     C:\\Users\\giuli\\AppData\\Roaming\\nltk_data...\n",
            "[nltk_data]   Package punkt_tab is already up-to-date!\n"
          ]
        }
      ],
      "source": [
        "import nltk\n",
        "from nltk.tokenize import word_tokenize\n",
        "\n",
        "nltk.download('punkt_tab')\n",
        "\n",
        "def count_tokens(text):\n",
        "  return len(word_tokenize(text))"
      ]
    },
    {
      "cell_type": "markdown",
      "metadata": {
        "id": "v598nbR51juB"
      },
      "source": [
        "Here we compute some statistics regarding the number of tokens in the pages."
      ]
    },
    {
      "cell_type": "code",
      "execution_count": 18,
      "metadata": {
        "id": "HpV8q_skMHGl"
      },
      "outputs": [
        {
          "name": "stdout",
          "output_type": "stream",
          "text": [
            "Max tokens: 558\n",
            "Min tokens: 1\n",
            "Avg tokens: 68.28\n"
          ]
        }
      ],
      "source": [
        "# compute the max, the min and the average number of tokens in a page by concatenating elements of the dataframe between consecutive page breaks\n",
        "\n",
        "num_token_per_page = []\n",
        "\n",
        "current_page = \"\"\n",
        "current_page_tokens = 0\n",
        "\n",
        "for i in range(len(df_elements)):\n",
        "  if df_elements.iloc[i]['Type'] != PageBreak:\n",
        "    current_page += df_elements.iloc[i]['Value']\n",
        "    current_page_tokens = count_tokens(current_page)\n",
        "  else:\n",
        "    num_token_per_page.append(current_page_tokens)\n",
        "    current_page = \"\"\n",
        "    current_page_tokens = 0\n",
        "\n",
        "print(\"Max tokens: \" + str(max(num_token_per_page)))\n",
        "print(\"Min tokens: \" + str(min(num_token_per_page)))\n",
        "print(\"Avg tokens: \" + str(sum(num_token_per_page)/len(num_token_per_page)))"
      ]
    },
    {
      "cell_type": "code",
      "execution_count": 19,
      "metadata": {
        "id": "8SttzqQSMhxG"
      },
      "outputs": [
        {
          "data": {
            "image/png": "[encoded data removed]",
            "text/plain": [
              "<Figure size 900x500 with 1 Axes>"
            ]
          },
          "metadata": {},
          "output_type": "display_data"
        }
      ],
      "source": [
        "from matplotlib import pyplot as plt\n",
        "import numpy as np\n",
        "\n",
        "mean_tokens = np.mean(num_token_per_page)\n",
        "\n",
        "plt.figure(figsize=(9, 5))\n",
        "plt.hist(num_token_per_page, bins=10, edgecolor='black', alpha=0.5)\n",
        "plt.axvline(mean_tokens, color='red', linestyle='dashed', linewidth=1, label=f'Mean = {mean_tokens:.2f}')\n",
        "plt.title('Distribution of Number of Tokens per Page')\n",
        "plt.xlabel('Number of Tokens')\n",
        "plt.ylabel('Frequency')\n",
        "plt.legend()\n",
        "plt.grid(axis='y', linestyle='--', alpha=0.7)\n",
        "plt.show()"
      ]
    },
    {
      "cell_type": "markdown",
      "metadata": {
        "id": "KE2y3MZgVuIa"
      },
      "source": [
        "# Splitting Content into Tokenized Chunks\n",
        "\n",
        "We can now divide the processed elements in `df_elements` into smaller text files, ensuring that each file stays within a token limit.\n",
        "\n",
        "The following code is designed to split the content into manageable chunks while maintaining logical consistency and handling page breaks effectively.\n",
        "\n",
        "Two key parameters are defined for efficient chunking:\n",
        "- **`doc_tokens_threshold`**: The maximum number of tokens allowed per chunk.\n",
        "- **`overlap_tokens`**: The number of tokens to overlap between consecutive chunks, which helps maintain coherence between chunks.\n",
        "\n",
        "These parameters are document-dependent, and experimenting with different values can help achieve better results depending on the structure and complexity of the document.\n",
        "\n",
        "### **Processing and Chunking the Content:**\n",
        "The main loop processes the `df_elements` dataframe, splitting the content based on the following rules:\n",
        "- If the next element would cause the chunk to exceed the token limit, the current chunk is saved, and the next chunk starts with a portion of the previous one (based on the overlap).\n",
        "- When encountering a `PageBreak`, the content is saved, and the next block starts on the new page, again with an overlap.\n",
        "\n",
        "This process ensures that:\n",
        "- The token limit is respected for each chunk.\n",
        "- The context is preserved by maintaining overlap between chunks.\n",
        "- The integrity of formulas and page transitions is respected."
      ]
    },
    {
      "cell_type": "code",
      "execution_count": 20,
      "metadata": {
        "id": "H6CxZzdOEqnJ"
      },
      "outputs": [
        {
          "name": "stdout",
          "output_type": "stream",
          "text": [
            "Number of chunks obtained: 103\n"
          ]
        }
      ],
      "source": [
        "def save_chunk(content, index):\n",
        "    with open(f'chunks/document_{index}.mmd', 'w') as f:\n",
        "        f.write(content)\n",
        "    docs_len.append(count_tokens(content))\n",
        "    return index + 1\n",
        "\n",
        "\n",
        "\n",
        "# Create a directory to store the chunks\n",
        "if not os.path.exists('chunks'):\n",
        "    os.makedirs('chunks')\n",
        "else:\n",
        "    for file in os.listdir('chunks'):\n",
        "        os.remove(os.path.join('chunks', file))\n",
        "\n",
        "block = \"\"\n",
        "document = \"\"\n",
        "doc_index = 0\n",
        "doc_tokens_threshold = 300\n",
        "overlap_tokens = 30\n",
        "docs_len = []\n",
        "\n",
        "# Iterate over the elements of the dataframe\n",
        "for i in range(len(df_elements)):\n",
        "    element_type = df_elements.at[i, 'Type']\n",
        "    next_element = df_elements.at[i, 'Value'] + \" \"\n",
        "\n",
        "    if element_type != PageBreak:\n",
        "        if count_tokens(block) + count_tokens(next_element) > doc_tokens_threshold:\n",
        "            # print(\"block overlap happened for :\", doc_index)\n",
        "            doc_index = save_chunk(block, doc_index)\n",
        "            overlap = block.split()[-overlap_tokens:]\n",
        "            block = \" \".join(overlap) + \" \" + next_element\n",
        "        else:\n",
        "            block += next_element\n",
        "    else:\n",
        "        if block:  # if there is content in the block\n",
        "            if document:  # if there is content in the document\n",
        "                if count_tokens(document) + count_tokens(block) > doc_tokens_threshold:\n",
        "                    doc_index = save_chunk(document, doc_index)\n",
        "                    # print(\"doc overlap happened for :\", doc_index)\n",
        "                    # maintain overal also for pages\n",
        "                    overlap = document.split()[-overlap_tokens:]\n",
        "                    document = \" \".join(overlap) + \" \" + block\n",
        "                else:\n",
        "                    document += block\n",
        "            else:\n",
        "                document = block\n",
        "            block = \"\"\n",
        "\n",
        "# handling last block\n",
        "if block:\n",
        "    if document:\n",
        "        if count_tokens(document) + count_tokens(block) > doc_tokens_threshold:\n",
        "            doc_index = save_chunk(document, doc_index)\n",
        "            doc_index = save_chunk(block, doc_index)\n",
        "        else:\n",
        "            doc_index = save_chunk(document + block, doc_index)\n",
        "    else:\n",
        "        doc_index = save_chunk(block, doc_index)\n",
        "elif document:\n",
        "    doc_index = save_chunk(document, doc_index)\n",
        "\n",
        "print(\"Number of chunks obtained: \" + str(doc_index))"
      ]
    },
    {
      "cell_type": "markdown",
      "metadata": {},
      "source": [
        "Up to now, we have not used the output resulted by **Nougat**: for the `Information Retrieval Slides.mmd` file produced, we apply a custom approach.\n",
        "\n",
        "We use the **`CharacterTextSplitter`** from LangChain to split the text into chunks, as the content is continuous and requires a different processing strategy compared to documents with page breaks.\n",
        "\n",
        "Again, `chunk_size` and `chunk_overlap` are document specific values, and changing them may produce better results depending on the type of document to analyze."
      ]
    },
    {
      "cell_type": "code",
      "execution_count": 21,
      "metadata": {},
      "outputs": [
        {
          "name": "stdout",
          "output_type": "stream",
          "text": [
            "Number of chunks obtained: 117\n"
          ]
        }
      ],
      "source": [
        "from langchain_text_splitters import CharacterTextSplitter\n",
        "\n",
        "\n",
        "text_splitter = CharacterTextSplitter.from_tiktoken_encoder(\n",
        "    encoding_name=\"cl100k_base\", chunk_size=500, chunk_overlap=50\n",
        ")\n",
        "texts = text_splitter.split_text(processed_content)\n",
        "\n",
        "for t in texts:\n",
        "    doc_index = save_chunk(t, doc_index)\n",
        "\n",
        "print(\"Number of chunks obtained: \" + str(doc_index))"
      ]
    },
    {
      "cell_type": "code",
      "execution_count": 22,
      "metadata": {
        "id": "mwVWd3HhzOov"
      },
      "outputs": [
        {
          "name": "stdout",
          "output_type": "stream",
          "text": [
            "Number of documents:  117\n",
            "Maximum number of tokens in a document:  546\n",
            "Minimum number of tokens in a document:  137\n",
            "Average number of tokens in a document:  268.8888888888889\n"
          ]
        }
      ],
      "source": [
        "# print the max, the min and the avg of values in docs_len\n",
        "print(\"Number of documents: \",len(docs_len))\n",
        "print(\"Maximum number of tokens in a document: \",max(docs_len))\n",
        "print(\"Minimum number of tokens in a document: \",min(docs_len))\n",
        "print(\"Average number of tokens in a document: \",sum(docs_len)/len(docs_len))"
      ]
    },
    {
      "cell_type": "markdown",
      "metadata": {
        "id": "V5j3ay1zTLO5"
      },
      "source": [
        "# RAG Pipeline on PDFs with Limited GPU Requirements\n",
        "\n",
        "Now, our aim is to build a **Retrieval-Augmented Generation (RAG)** pipeline optimized for a **limited GPU environments**. The goal is to combine the power of *dense retrieval-based methods* with the flexibility of generative models, while ensuring the system remains efficient enough to run on medium-tier laptops with GPUs.\n",
        "\n",
        "As said in the introduction, a RAG pipeline consists of two main stages: **retrieval** and **generation**. The entire process can be divided into **3 key steps**:\n",
        "\n",
        "1. **Generation of document embeddings**  \n",
        "   In this step, document embeddings are generated from a *corpus* using an embedding model. Each document is encoded into a dense vector representation, capturing semantic information.\n",
        "\n",
        "2. **Document retrieval**  \n",
        "   Relevant documents are fetched from the corpus based on the input query. This is achieved by utilizing the generated embeddings and calculating similarity with the query's embedding to retrieve the most relevant documents.\n",
        "\n",
        "3. **Output generation**  \n",
        "   The retrieved documents are then passed to a **generative model**, which produces contextually relevant responses based on the information extracted from the documents.\n",
        "\n",
        "By leveraging lightweight models and optimizing for efficiency, this RAG pipeline should be able to deliver good results even on hardware with **limited resources**.\n",
        "\n",
        "Finally, a **Gradio interface** is provided, allowing users to interact with the system and \"chat\" with the documents they provide, offering a seamless experience for exploring the content."
      ]
    },
    {
      "cell_type": "markdown",
      "metadata": {
        "id": "SzLXqhNeTLO9"
      },
      "source": [
        "## Hardware requirements and constraints\n",
        "\n",
        "Let's find out what hardware we've got available to see what kind of model(s) we'll be able to load. You can also check this with the `!nvidia-smi` command."
      ]
    },
    {
      "cell_type": "markdown",
      "metadata": {
        "id": "vmd7W4v-WNSD"
      },
      "source": [
        "> **NOTE** : as said above, `sentence-transformers` requires a different version of the `transformers` library, so we update it here."
      ]
    },
    {
      "cell_type": "code",
      "execution_count": 23,
      "metadata": {
        "id": "-Yd9LgCsWNSE"
      },
      "outputs": [
        {
          "name": "stdout",
          "output_type": "stream",
          "text": [
            "^C\n",
            "Note: you may need to restart the kernel to use updated packages.\n"
          ]
        }
      ],
      "source": [
        "%pip install -qqq -U transformers"
      ]
    },
    {
      "cell_type": "code",
      "execution_count": null,
      "metadata": {
        "id": "1fkHZDXjWNSE"
      },
      "outputs": [],
      "source": [
        "import torch\n",
        "\n",
        "device = torch.device(\"cuda\" if torch.cuda.is_available() else \"mps\" if torch.backends.mps.is_available() else \"cpu\")\n",
        "print(f\"Using device: {device}\")"
      ]
    },
    {
      "cell_type": "code",
      "execution_count": null,
      "metadata": {
        "id": "gq99vywlTLO-"
      },
      "outputs": [],
      "source": [
        "# Get GPU available memory\n",
        "gpu_memory_bytes = torch.cuda.get_device_properties(0).total_memory\n",
        "gpu_memory_gb = round(gpu_memory_bytes / (2**30))\n",
        "print(f\"Available GPU memory: {gpu_memory_gb} GB\")\n",
        "print(torch.cuda.get_device_name(0))"
      ]
    },
    {
      "cell_type": "markdown",
      "metadata": {
        "id": "mN4Pji5BTLO-"
      },
      "source": [
        "Of course, depending on the provided harware, better models can be utilized."
      ]
    },
    {
      "cell_type": "markdown",
      "metadata": {
        "id": "gMiWvBYzTLO-"
      },
      "source": [
        "### Checking local GPU memory availability\n",
        "\n",
        "Let's first analyze how we decided the model to use for this project. This notebook was primarily run and tested locally on a **laptop** with 16GB of RAM and an NVIDIA RTX 3070 laptop GPU (8GB of VRAM). The main goal was to create a pipeline that could efficiently run on this portable device, leveraging the benefits of GPUs and CUDA for AI tasks while ensuring that the performance and capabilities did not feel lacking compared to larger models.\n",
        "\n",
        "We will need two main ingredients:\n",
        "- An *embedder* model, that calculates dense embeddings from documents\n",
        "- An *LLM*, that provides output given user's queries and the retrieved documents\n",
        "\n",
        "In their dedicated sections we will uncover the choiches made for both."
      ]
    },
    {
      "cell_type": "markdown",
      "metadata": {
        "id": "cPrgoawNTLO_"
      },
      "source": [
        "### Load our PDF and start producing chunks\n",
        "\n",
        "Let's now start by loading a pdf file and extracting chunks from it. These chunks' **quality** is important, since these will be essentially the *documents* on which we will compute the embeddings on."
      ]
    },
    {
      "cell_type": "code",
      "execution_count": null,
      "metadata": {
        "id": "sBaOxo4gaimg"
      },
      "outputs": [],
      "source": [
        "from huggingface_hub import login\n",
        "from dotenv import load_dotenv\n",
        "\n",
        "PDF_NAME = \"Information Retrieval Slides.pdf\"\n",
        "running_on_colab = False\n",
        "\n",
        "try:\n",
        "    from google.colab import userdata # type: ignore\n",
        "    HF_TOKEN = userdata.get('HF_TOKEN')\n",
        "    print(\"Running in Google Colab. Using userdata to get HF_TOKEN.\")\n",
        "    running_on_colab = True\n",
        "except ModuleNotFoundError:\n",
        "    load_dotenv()\n",
        "    HF_TOKEN = os.getenv('HF_TOKEN')\n",
        "    print(\"Not running in Google Colab. Using load_dotenv to get HF_TOKEN.\")\n",
        "\n",
        "file_path = PDF_NAME\n",
        "login(token=HF_TOKEN)"
      ]
    },
    {
      "cell_type": "code",
      "execution_count": null,
      "metadata": {
        "id": "i5jUKmVnUnI-"
      },
      "outputs": [],
      "source": [
        "corpus = []\n",
        "\n",
        "# get files that are named 'document_<number>.mmd'\n",
        "files = sorted([f for f in os.listdir(\"chunks\") if f.startswith(\"document_\") and f.endswith(\".mmd\")],\n",
        "    key=lambda x: int(x.split(\"_\")[1].split(\".\")[0])  # order numerically by the number in the filename\n",
        ")\n",
        "\n",
        "for file in files:\n",
        "    with open(os.path.join(\"chunks\", file), \"r\", encoding=\"utf-8\") as f:\n",
        "        corpus.append(f.read())\n",
        "\n",
        "print(f\"Number of documents loaded: {len(corpus)}\")"
      ]
    },
    {
      "cell_type": "markdown",
      "metadata": {
        "id": "2eBAwgyvTLPA"
      },
      "source": [
        "Let's give a look to some random documents extracted and preprocessed from the initial pdf"
      ]
    },
    {
      "cell_type": "code",
      "execution_count": null,
      "metadata": {
        "id": "qKx35jopaimh"
      },
      "outputs": [],
      "source": [
        "import random\n",
        "\n",
        "random.seed(4242)\n",
        "\n",
        "# print some random pages with their indices\n",
        "for i in range(5):\n",
        "    doc = random.choice(corpus)\n",
        "    doc_index = corpus.index(doc)\n",
        "    print(f\"DocId: {doc_index}, {doc.replace(\"\\n\", \" \")[:100]}...\")"
      ]
    },
    {
      "cell_type": "code",
      "execution_count": null,
      "metadata": {
        "id": "pdh2ECCcaimi"
      },
      "outputs": [],
      "source": [
        "print(f\"Average document length: {sum(len(doc) for doc in corpus) / len(corpus)}\")"
      ]
    },
    {
      "cell_type": "markdown",
      "metadata": {
        "id": "yhCC7pboWNSF"
      },
      "source": [
        "Later, we will use a `json` files containing questions to test the pipeline: it is made up by 69 open-questions we prepared on the PDF topic, in order to asses the final RAG capabilities. For now, we’ll download this file and use it also in this paragraph to ensure the pipeline works as expected.\n",
        "\n",
        "We’ll begin by defining the function `extract_questions(file_path)`, which takes as parameter:\n",
        "\n",
        "- `file_path`: the path to the JSON file containing the questions.\n",
        "\n",
        "At this stage, since our primary goal is to verify that everything functions as intended, we'll just use **some** of the proposed questions."
      ]
    },
    {
      "cell_type": "code",
      "execution_count": null,
      "metadata": {
        "id": "kR2e6XDsaimi"
      },
      "outputs": [],
      "source": [
        "import json\n",
        "\n",
        "\n",
        "def extract_questions(file_path):\n",
        "    \"\"\"\n",
        "    Extracts questions from a JSON file.\n",
        "    \"\"\"\n",
        "    with open(file_path, 'r') as file:\n",
        "        data = json.load(file)\n",
        "        return [\n",
        "            {\n",
        "                \"question_id\": item.get(\"question_id\", \"\"),\n",
        "                \"question\": item.get(\"question\", \"\")\n",
        "            }\n",
        "            for item in data\n",
        "        ]\n",
        "\n",
        "\n",
        "if not os.path.exists(\"evaluation\"):\n",
        "    os.makedirs(\"evaluation\")\n",
        "    # save locally from https://drive.google.com/file/d/1m2_iG7cGOgRwfVaXzTORU7Pcn71UFKcG/view?usp=drive_link\n",
        "    gdown.download(id=\"1m2_iG7cGOgRwfVaXzTORU7Pcn71UFKcG\", output=\"evaluation/quiz.json\", quiet=False)\n",
        "    # save locally from https://drive.google.com/file/d/1L6rvrbPtwGduaN-8DmpLAWXUtHSfhhF2/view?usp=sharing\n",
        "    gdown.download(id=\"1L6rvrbPtwGduaN-8DmpLAWXUtHSfhhF2\", output=\"evaluation/open_questions.json\", quiet=False)\n",
        "\n",
        "queries = extract_questions(\"evaluation/open_questions.json\")\n",
        "print(f\"Loaded {len(queries)} questions.\")\n",
        "\n",
        "random.seed(4242)\n",
        "print(random.choice(queries))"
      ]
    },
    {
      "cell_type": "markdown",
      "metadata": {
        "id": "QPIvk-TUTLPB"
      },
      "source": [
        "## Gather Dataset Embeddings\n",
        "\n",
        "In this first stage, the aim is to produce the documents embeddings, in order to be able to make similarity searches in the upcoming steps of the pipeline.\n",
        "\n",
        "### About the `cde-small-v1` Model\n",
        "\n",
        "The `cde-small-v1` model, developed by John X. Morris and Alexander M. Rush, is a cutting-edge model for generating **Contextual Document Embeddings (CDE)** ([link](https://huggingface.co/jxm/cde-small-v1)). What sets this model apart is its ability to integrate \"*context tokens*\" into the embedding process, which allows it to capture the nuances and relationships between documents more effectively. This makes it particularly suitable for generating highly accurate embeddings for both documents and queries, especially in cases where capturing the context of a document within the broader corpus is crucial.\n",
        "\n",
        "We chose this model because, as of December 2024, it is one of the leading models under 400M parameters, delivering impressive results on the [**Massive Text Embedding Benchmark (MTEB) leaderboard**](https://huggingface.co/spaces/mteb/leaderboard). Although it ranks 29th overall, it stands out as the top model in terms of **memory efficiency**, which is a key factor for our project, given the requirement for **limited GPU capabilities**. Additionally, it offers a substantial **embedding dimension of 768**, striking a balance between computational efficiency and embedding quality.\n",
        "\n",
        "<div align=\"center\">\n",
        "    <img src=\"https://huggingface.co/front/assets/huggingface_logo-noborder.svg\" alt=\"HF logo\">\n",
        "</div>\n"
      ]
    },
    {
      "cell_type": "markdown",
      "metadata": {
        "id": "0Sg3xXhiaimk"
      },
      "source": [
        "<style>\n",
        "    img {\n",
        "        border-radius: 15px;\n",
        "    }\n",
        "</style>\n",
        "![assets/cde-small-v1.png](assets/cde-small-v1.png?raw=1)"
      ]
    },
    {
      "cell_type": "markdown",
      "metadata": {},
      "source": [
        "### Key Features of Contextual Embeddings\n",
        "Traditional embedding models treat documents as independent entities, which can miss subtle but important relationships within a corpus. The `cde-small-v1` model solves this by incorporating contextual embeddings, where a document's representation is enriched with information from related documents.\n",
        "\n",
        "This is achieved by:\n",
        "\n",
        "- Clustering Neighboring Documents: Documents are grouped into clusters based on their similarity. For a document , its context is derived from nearby documents in the embedding space.\n",
        "- Integrating Context: The model combines the target document's standalone embedding with the aggregated representation of its cluster to produce a final, enriched embedding.\n",
        "This process ensures that embeddings are not only descriptive of individual documents but also reflective of their relationships within the corpus.\n",
        "\n",
        "In parrticular , to train the `cde-small-v1` model, contrastive learning is used. This method ensures that similar documents are placed closer in the embedding space while dissimilar documents are pushed farther apart.\n",
        "\n",
        "Basically documents from the same cluster or context are treated as similar pairs and dissimilar documents (hard negatives) are included to make the training process more effective and robust\n",
        "\n",
        "During training, the model optimizes a loss function that balances these relationships:\n",
        "- Positive Pair: Maximizes similarity between a query and a relevant document.\n",
        "- Negative Pair: Minimizes similarity between a query and irrelevant documents.\n",
        "\n",
        "This approach should leads to embeddings that are capable of accurately distinguishing between relevant and irrelevant documents, even in complex domains."
      ]
    },
    {
      "cell_type": "markdown",
      "metadata": {
        "id": "RvqbzIDgTLPC"
      },
      "source": [
        "A key feature of the `cde-small-v1` model is its optimization for a two-stage embedding process:\n",
        "\n",
        "1. **First Stage**: Embedding a subset of documents from the corpus to create \"dataset embeddings,\" which serve as a **reference** for the entire corpus.\n",
        "2. **Second Stage**: Using the dataset embeddings to embed new queries and documents during inference.\n",
        "\n",
        "This model is compact yet delivers solid performance, making it suitable for our use case.\n",
        "\n",
        "### Steps to Gather Dataset Embeddings:\n",
        "\n",
        "1. **Selecting a Subset of Documents**  \n",
        "   We begin by sampling a representative set of documents from the corpus. Following the model's guidelines, we select 512 documents. If this number isn't available, the model can handle oversampling, which is the case for the PDF dataset we're using. Despite this, performance remains strong.\n",
        "\n",
        "2. **Generating Dataset Embeddings**  \n",
        "   After selecting the documents, we encode them using the `cde-small-v1` embedding model. This step produces dense vector representations of the documents, which are representative of the broader corpus.\n",
        "\n",
        "3. **Embedding Queries and Documents**  \n",
        "   Once the dataset embeddings are created, we use them to embed both documents and queries. A key feature of this model is its ability to differentiate between 'queries' and 'documents' during encoding, ensuring context is preserved during the embedding process.\n",
        "\n",
        "\n",
        "Next, we will load the model using the `SentenceTransformers` interface to begin the embedding process."
      ]
    },
    {
      "cell_type": "code",
      "execution_count": null,
      "metadata": {
        "id": "6eW5vIiUTLPC"
      },
      "outputs": [],
      "source": [
        "from sentence_transformers import SentenceTransformer\n",
        "\n",
        "# with sentence-transformers we don't need prefixes but, to do retrieval, we need to use prompt_name=\"query\" and prompt_name=\"document\" in the encode method of the model when embedding queries and documents, respectively.\n",
        "embeddings_model = SentenceTransformer(\n",
        "    \"jxm/cde-small-v1\",\n",
        "    trust_remote_code=True,\n",
        ").to(device)"
      ]
    },
    {
      "cell_type": "markdown",
      "metadata": {
        "id": "7W7Dz05MTLPC"
      },
      "source": [
        "During the development of the project, the creators of the embedding model made a change in the Hugging Face repository, which led to unstable results when using the `SentenceTransformer` implementation. If a similar issue arises in the future, it can be mitigated by specifying the `revision` and `tokenizer_kwargs` parameters in the model constructor. These parameters allow to lock the model and tokenizer to a specific branch name, tag, or commit ID from the Hugging Face repository, ensuring stability.\n",
        "\n",
        "Here’s how to implement it:\n",
        "\n",
        "```python\n",
        "embeddings_model = SentenceTransformer(\n",
        "    \"jxm/cde-small-v1\",\n",
        "    trust_remote_code=True,\n",
        "    revision=\"9e2ed1d8d569d34458913d2d246935c1b2324d11\",  # Latest stable model revision\n",
        "    tokenizer_kwargs={\"revision\": \"86b5e0934494bd15c9632b12f734a8a67f723594\"}  # Latest stable tokenizer revision\n",
        ").to(device)\n",
        "```\n",
        "\n",
        "The tags provided above correspond to the latest stable commits (as of December 2024). You can retrieve them directly from the model's card page on Hugging Face, under the \"Files and Versions\" tab.\n",
        "\n",
        "Fortunately for us, the issue was resolved the same day we reported it to the creators via Twitter. We thank them for their prompt response and the fix they provided."
      ]
    },
    {
      "cell_type": "markdown",
      "metadata": {
        "id": "VvDHtnRDTLPC"
      },
      "source": [
        "Let's follow up by producing the `minicorpus` (which is the subsample of the whole corpus) and what we called `dataset_embeddings`"
      ]
    },
    {
      "cell_type": "code",
      "execution_count": null,
      "metadata": {
        "id": "7ISVKFnGaimk"
      },
      "outputs": [],
      "source": [
        "minicorpus_size = embeddings_model[0].config.transductive_corpus_size # 512\n",
        "random.seed(4242)\n",
        "minicorpus_docs = random.choices(corpus, k=minicorpus_size) # oversampling is okay\n",
        "assert len(minicorpus_docs) == minicorpus_size # We must use exactly this many documents in the minicorpus\n",
        "\n",
        "dataset_embeddings = embeddings_model.encode(\n",
        "    [doc for doc in minicorpus_docs],\n",
        "    prompt_name=\"document\",\n",
        "    convert_to_tensor=True,\n",
        "    show_progress_bar=True\n",
        ")\n",
        "\n",
        "print(f\"Corpus size: {len(corpus)}\")\n",
        "print(f\"Computed embeddings for {len(minicorpus_docs)} documents. Shape: {dataset_embeddings.shape}\")"
      ]
    },
    {
      "cell_type": "code",
      "execution_count": null,
      "metadata": {
        "id": "qWDiKrp7aiml"
      },
      "outputs": [],
      "source": [
        "print(\"Some mini-corpus documents:\")\n",
        "\n",
        "# get some random documents from the minicorpus\n",
        "random.seed(42)\n",
        "for i in random.sample(range(minicorpus_size), 5):\n",
        "    print(f\"document {i}: {minicorpus_docs[i].replace(\"\\n\", \" \")[:100]}...\")"
      ]
    },
    {
      "cell_type": "markdown",
      "metadata": {
        "id": "MZLI5qjGaiml"
      },
      "source": [
        "Now that we have obtained the **dataset embeddings**, we can proceed to embed both documents and queries using the same model.\n",
        "\n",
        "To embed the documents and queries, we must ensure that we specify the correct `prompt_name` for each, as well as pass the `dataset_embeddings` to maintain context. The reason is that, as many state-of-the-art-models, this one was trained with task-specific prefixes:\n",
        "\n",
        "- For documents, use:  \n",
        "  `prompt_name=\"document\"`\n",
        "\n",
        "- For queries, use:  \n",
        "  `prompt_name=\"query\"`\n",
        "\n",
        "We also have to always additionally, specify  the `dataset_embeddings`, in order to use the once we produced before.\n",
        "\n",
        "By doing so, we ensure that the embeddings are generated with the correct context for both retrieval and generation tasks, leveraging the efficient performance of the `cde-small-v1` model."
      ]
    },
    {
      "cell_type": "code",
      "execution_count": null,
      "metadata": {
        "id": "Z-4WdCtLaiml"
      },
      "outputs": [],
      "source": [
        "doc_embeddings = embeddings_model.encode(\n",
        "    [doc for doc in corpus],\n",
        "    prompt_name=\"document\",\n",
        "    dataset_embeddings=dataset_embeddings, # this is the contexualized embeddings of the minicorpus\n",
        "    convert_to_tensor=True,\n",
        "    show_progress_bar=True\n",
        ")\n",
        "\n",
        "queries_embeddings = embeddings_model.encode(\n",
        "    [query['question'] for query in queries],\n",
        "    prompt_name=\"query\",\n",
        "    dataset_embeddings=dataset_embeddings,  # this is the contexualized embeddings of the minicorpus\n",
        "    convert_to_tensor=True,\n",
        "    show_progress_bar=True\n",
        ")\n",
        "\n",
        "print(f\"Document embeddings shape: {doc_embeddings.shape}\")\n",
        "print(f\"Query embeddings shape: {queries_embeddings.shape}\")"
      ]
    },
    {
      "cell_type": "markdown",
      "metadata": {
        "id": "1BQx9Lr3TLPD"
      },
      "source": [
        "We can now computes similarities between the embeddings and all the queries by simply calling `embeddings_model.similarity` (which uses by default cosine similarity), and inspect some of the results obtained."
      ]
    },
    {
      "cell_type": "code",
      "execution_count": null,
      "metadata": {
        "id": "8coT3HV9aiml"
      },
      "outputs": [],
      "source": [
        "similarities = embeddings_model.similarity(queries_embeddings, doc_embeddings)\n",
        "print(\"similarities shape: \",similarities.shape)\n",
        "topk_values, topk_indices = similarities.topk(5)\n",
        "\n",
        "print(\"topk_values (scores) shape: \",topk_values.shape, \"\\ntopk_indices (doc_ids) shape: \",topk_indices.shape,\"\\n\") # both are made up of tensors of shape (num_queries, k)\n",
        "\n",
        "random.seed(4242)\n",
        "random_queries = random.sample(queries, 2)\n",
        "for query in random_queries:\n",
        "    query_idx = queries.index(query)\n",
        "    print(f\"Query: {query['question']}\")\n",
        "    for j, idx in enumerate(topk_indices[query_idx]):\n",
        "        doc = corpus[idx].replace(\"\\n\", \" \")\n",
        "        print(f\"Rank {j+1} (Score: {topk_values[query_idx][j]:.4f}, Doc ID: {idx}): {doc}...\")\n",
        "    print()"
      ]
    },
    {
      "cell_type": "markdown",
      "metadata": {
        "id": "ckTwJIF5aimn"
      },
      "source": [
        "### Compute scores between queries and documents"
      ]
    },
    {
      "cell_type": "markdown",
      "metadata": {
        "id": "Dp-7zfI3TLPJ"
      },
      "source": [
        "Now we can analyze a similarity heatmap between the embeddings of our documents and the provided queries. The results show consistency with the following observations:\n",
        "\n",
        "- **Few documents match the queries**: This suggests that the matching documents are likely the most relevant ones.\n",
        "- **Matches often occur in subsequent documents**: This is expected since the corpus was split into chunks based on the document's structure. For example, chapters are separated, so answers to specific questions are more likely to be located within the same chapter or adjacent sections of the document.\n",
        "\n",
        "Additionally, we provide a distribution of the similarity scores. This helps us assess whether an empirical threshold can be established to determine which documents are truly similar to the provided queries."
      ]
    },
    {
      "cell_type": "code",
      "execution_count": null,
      "metadata": {
        "id": "u4zQUCwaaimn"
      },
      "outputs": [],
      "source": [
        "from seaborn import heatmap\n",
        "\n",
        "fig, axes = plt.subplots(1, 2, figsize=(15, 5))\n",
        "\n",
        "# Plot heatmap\n",
        "heatmap(similarities.cpu().numpy().T, cmap=\"jet\", ax=axes[0])\n",
        "axes[0].set_title(\"Similarity Heatmap\")\n",
        "\n",
        "# Plot histogram\n",
        "axes[1].hist(similarities.cpu().flatten(), bins=50, color='blue', alpha=0.6)\n",
        "axes[1].set_title(\"Distribution of Similarity Scores\")\n",
        "axes[1].set_xlabel(\"Similarity\")\n",
        "axes[1].set_ylabel(\"Frequency\")\n",
        "axes[1].axvline(x=0.5, color='red', alpha=0.6, linestyle='--')\n",
        "\n",
        "plt.tight_layout()\n",
        "plt.show()"
      ]
    },
    {
      "cell_type": "markdown",
      "metadata": {},
      "source": [
        "## Embedding evaluation"
      ]
    },
    {
      "cell_type": "code",
      "execution_count": null,
      "metadata": {},
      "outputs": [],
      "source": [
        "miniqueries = queries[:5]\n",
        "print(miniqueries)"
      ]
    },
    {
      "cell_type": "code",
      "execution_count": null,
      "metadata": {},
      "outputs": [],
      "source": [
        "from ir_measures import *\n",
        "from collections import defaultdict\n",
        "from tqdm import tqdm\n",
        "import numpy as np\n",
        "from rank_bm25 import BM25Okapi\n",
        "\n",
        "\n",
        "def load_qrels(qrels_path):\n",
        "    \"\"\"\n",
        "    Load qrels from a txt tab separated file.\n",
        "    Expected format: \n",
        "    query_id document_id relevance iteration\n",
        "    \"\"\"\n",
        "    qrels = defaultdict(dict)\n",
        "    with open(qrels_path, 'r') as file:\n",
        "        for line in file:\n",
        "            query_id, doc_id, relevance, _ = line.strip().split()\n",
        "            qrels[query_id][doc_id] = int(relevance)\n",
        "    return dict(qrels)\n",
        "\n",
        "\n",
        "def evaluate_bm25_retrieval(queries, qrels, k=10, corpus=None):\n",
        "    if corpus is None:\n",
        "        raise ValueError(\"Corpus is not defined.\")\n",
        "    \n",
        "    # Tokenize documents for BM25\n",
        "    tokenized_docs = [doc.lower().split() for doc in corpus]\n",
        "    bm25 = BM25Okapi(tokenized_docs)\n",
        "    run = defaultdict(dict)\n",
        "    \n",
        "    for query in tqdm(queries, desc=\"Evaluating BM25 queries\"):\n",
        "        query_id = query['question_id']\n",
        "        doc_scores = bm25.get_scores(query['question'].lower().split())\n",
        "        \n",
        "        # Get top k scores and their indices\n",
        "        top_k_indices = np.argsort(doc_scores)[-k:][::-1]\n",
        "        \n",
        "        # Store scores using document index as doc_id\n",
        "        for idx in top_k_indices:\n",
        "            run[query_id][str(idx)] = doc_scores[idx]\n",
        "\n",
        "    # Save results to file\n",
        "    with open(\"bm25_run.tsv\", \"w\") as f:\n",
        "        for query_id, doc_scores in run.items():\n",
        "            for doc_id, score in doc_scores.items():\n",
        "                f.write(f\"{query_id}\\t{doc_id}\\t{score}\\n\")\n",
        "    \n",
        "    return calculate_metrics(qrels, run)\n",
        "\n",
        "\n",
        "def evaluate_embedding_retrieval(queries, qrels, k=10):\n",
        "        \n",
        "    run = defaultdict(dict)\n",
        "\n",
        "    for query in tqdm(queries, desc=\"Evaluating embedding queries\"):\n",
        "        query_id = query['question_id']\n",
        "        \n",
        "        query_embedding = embeddings_model.encode(\n",
        "            query['question'],\n",
        "            prompt_name=\"query\",\n",
        "            dataset_embeddings=dataset_embeddings,  # this is the contexualized embeddings of the minicorpus\n",
        "            convert_to_tensor=True\n",
        "        )\n",
        "         \n",
        "        similarities = embeddings_model.similarity(query_embedding, doc_embeddings)\n",
        "        topk_values, topk_indices = similarities.topk(k)\n",
        "        topk_indices = topk_indices.cpu().numpy()[0]\n",
        "        topk_values = topk_values.cpu().numpy()[0]\n",
        "        \n",
        "        for doc_idx, score in zip(topk_indices, topk_values):\n",
        "            run[query_id][str(doc_idx)] = float(score)\n",
        "    \n",
        "    with open(\"embedding_run.tsv\", \"w\") as f:\n",
        "        for query_id, doc_scores in run.items():\n",
        "            for doc_id, score in doc_scores.items():\n",
        "                f.write(f\"{query_id}\\t{doc_id}\\t{score}\\n\")\n",
        "                \n",
        "    return calculate_metrics(qrels, run)\n",
        "\n",
        "\n",
        "def calculate_metrics(qrels, run):\n",
        "    metrics = [AP, nDCG, nDCG@10, Precision@10, Recall@10, RR]\n",
        "    return {str(metric): calc_aggregate([metric], qrels, run) for metric in metrics}\n",
        "\n",
        "\n",
        "def compare_retrievals(queries, qrels, k=10, corpus=None):\n",
        "    print(\"Running embedding-based retrieval...\")\n",
        "    embedding_metrics = evaluate_embedding_retrieval(queries, qrels, k)\n",
        "    \n",
        "    print(\"\\nRunning BM25 retrieval...\")\n",
        "    bm25_metrics = evaluate_bm25_retrieval(queries, qrels, k, corpus)\n",
        "    \n",
        "    print(\"\\nComparison Results:\")\n",
        "    print(f\"{'Metric':25} {'Embedding':12} {'BM25':12}\")\n",
        "    print(\"-\" * 44)\n",
        "    \n",
        "    for metric, emb_score in embedding_metrics.items():\n",
        "        bm25_score = bm25_metrics[metric]\n",
        "        if isinstance(emb_score, dict):\n",
        "            for k, v in emb_score.items():\n",
        "                metric_name = f\"{metric}\"\n",
        "                print(f\"{metric_name:25} {v:.3f}       {bm25_score[k]:.3f}\")\n",
        "        else:\n",
        "            print(f\"{str(metric):25} {emb_score:.3f}       {bm25_score:.3f}\")\n",
        "\n",
        "\n",
        "# Usage\n",
        "qrels = load_qrels(\"evaluation/qrels.tsv\")\n",
        "print(f\"Loaded {len(qrels)} QRELS and {len(queries)} questions.\\n\")\n",
        "compare_retrievals(queries, qrels, k=5, corpus=corpus)"
      ]
    },
    {
      "cell_type": "markdown",
      "metadata": {},
      "source": [
        "### TOdo: add some considerations about the results"
      ]
    },
    {
      "cell_type": "markdown",
      "metadata": {
        "id": "2bxLzRQCaimn"
      },
      "source": [
        "## Loading the LLM"
      ]
    },
    {
      "cell_type": "markdown",
      "metadata": {
        "id": "ld0Lry9LTLPJ"
      },
      "source": [
        "After conducting some research, we chose to work with one of Meta's latest smaller open-source Llama models available at the time of writing this notebook: [Llama-3.2-3B-Instruct](https://huggingface.co/meta-llama/Llama-3.2-3B-Instruct), released the *25th of September 2024*. We specifically selected the *instruct* variant because it is pre-trained to follow basic instructions, offering a more user-friendly and fine-tuned experience compared to the standard non-instruct version (which is also available). Below, we review this model's [specifications](https://llamaimodel.com/requirements-3-2/):\n",
        "\n",
        "<div align=\"center\">\n",
        "\n",
        "| **Llama 3.2 3B Instruct Model Specifications**                    | **Requirement**       | **Details**                                                                                  |\n",
        "|----------------------------------|-----------------------|----------------------------------------------------------------------------------------------|\n",
        "| Parameters                       | 3 billion             |                                                                                              |\n",
        "| Context Length                   | 128,000 tokens        |                                                                                              |\n",
        "| **Hardware Requirements**        |                       |                                                                                              |\n",
        "| CPU and RAM                      |                       | CPU: Multicore processor <br> RAM: Minimum of 16 GB recommended                              |\n",
        "| GPU                              |                       | NVIDIA RTX series (for optimal performance), at least 8 GB VRAM                              |\n",
        "| **Estimated GPU Memory Requirements** |                       |                                                                                              |\n",
        "| Higher Precision Modes           | BF16/FP16             | ~6.5 GB                                                                                      |\n",
        "| Lower Precision Modes            | FP8                   | ~3.2 GB                                                                                      |\n",
        "|                                  | INT4                  | ~1.75 GB                                                                                     |\n",
        "| **Software Requirements**        |                       |                                                                                              |\n",
        "| Software Dependencies            |                       | Frameworks: PyTorch <br> Libraries: Hugging Face Transformers (version 4.45.0 or higher), CUDA |\n",
        "\n",
        "</div>"
      ]
    },
    {
      "cell_type": "code",
      "execution_count": null,
      "metadata": {
        "id": "QVuakpG-TLPJ"
      },
      "outputs": [],
      "source": [
        "print(\"Is bf16 supported: \",torch.cuda.is_bf16_supported())"
      ]
    },
    {
      "cell_type": "markdown",
      "metadata": {
        "id": "3Hw22_isTLPK"
      },
      "source": [
        "The `bitsandbytes` library is a lightweight Python wrapper around CUDA custom functions, in particular 8-bit optimizers, matrix multiplication (LLM.int8()), and 8 & 4-bit quantization functions.\n",
        "\n",
        "The library includes quantization primitives for 8-bit & 4-bit operations, through `bitsandbytes.nn.Linear8bitLt` and `bitsandbytes.nn.Linear4bit` and 8-bit optimizers through bitsandbytes.optim module."
      ]
    },
    {
      "cell_type": "markdown",
      "metadata": {
        "id": "FYAVifb8TLPK"
      },
      "source": [
        "#### Quantization Choices\n",
        "\n",
        "We chose a *middle ground* by loading the model with **4-bit quantization** while maintaining **BFloat16** precision for computation.\n",
        "\n",
        "The use of 4-bit quantization reduces the precision of the model’s weights to just 4 bits per value, significantly lowering memory usage and accelerating inference. This method retains only the most essential information, sacrificing some numerical precision, but allows for larger models to be handled on GPUs with limited memory. Despite the weights being quantized to 4 bits, the model still performs computations in **16-bit floating point (BFloat16)** precision. BFloat16 is a 16-bit format that preserves much of the dynamic range of floating-point operations while requiring less memory than the traditional 32-bit format. This way, while the 4-bit quantization reduces the memory footprint of the model weights, the computation is performed in BFloat16, optimizing performance on modern GPUs that are tailored for BFloat16 operations. This configuration strikes a balance between computational efficiency and numerical precision, enabling fast inferences with minimal memory usage without significant loss in result quality.\n",
        "\n",
        "Given the hardware constraints, we opted for **4-bit quantization** using `BitsAndBytes` (as explained later). This approach greatly reduces the memory footprint and speeds up inference, ensuring acceptable performance for our use case. Without this configuration, the GPU’s memory usage was consistently at 100%, and inference times were approximately 2-3 minutes per query. With 4-bit quantization, memory usage drops to about 6GB, preventing GPU overload and reducing inference time to around 30 seconds per query, delivering satisfactory results. Further details on the quantization process will be provided later.\n",
        "\n",
        "However, we also need to consider that both the embedding model and the LLM must be loaded into memory, which adds another layer of complexity to the memory management. This requires careful balancing, as the total memory usage must accommodate both the LLM and the embedding model simultaneously. We will address how we manage this in the next section."
      ]
    },
    {
      "cell_type": "code",
      "execution_count": null,
      "metadata": {
        "id": "bnpvz_Wxaimn"
      },
      "outputs": [],
      "source": [
        "from transformers import (\n",
        "    BitsAndBytesConfig,\n",
        "    AutoModelForCausalLM,\n",
        "    AutoTokenizer\n",
        ")\n",
        "\n",
        "MODEL_NAME = \"meta-llama/Llama-3.2-3B-Instruct\"\n",
        "\n",
        "# Quantization is a technique that reduces the precision of the model’s weights to make it run faster and consume less memory, often at the cost of a slight reduction in model accuracy or quality\n",
        "bnb_config = BitsAndBytesConfig(\n",
        "    load_in_4bit=True,                      # Lower precision reduces memory usage and can speed up inference (maybe try 8)\n",
        "    bnb_4bit_use_double_quant=True,         # Using double quantization can help reduce the loss in accuracy associated with quantization\n",
        "    bnb_4bit_quant_type=\"nf4\",              # Normal Float 4-bit quantization, a scheme that may preserve model quality better than straightforward quantization methods\n",
        "    bnb_4bit_compute_dtype=torch.bfloat16,  # The internal compute dtype used during inference. bfloat16 (BF16) is often chosen because it’s efficient on modern accelerators\n",
        "    llm_int8_enable_fp32_cpu_offload=True   # Enable FP32 CPU offload\n",
        ")\n",
        "\n",
        "\n",
        "llm_model = AutoModelForCausalLM.from_pretrained(\n",
        "    MODEL_NAME,\n",
        "    device_map={\"\": device},  # ensure all modules are on GPU\n",
        "    quantization_config=bnb_config,\n",
        ").to(device)\n",
        "\n",
        "tokenizer = AutoTokenizer.from_pretrained(MODEL_NAME)\n",
        "tokenizer.pad_token = tokenizer.eos_token\n",
        "\n",
        "generation_config = llm_model.generation_config\n",
        "generation_config.max_new_tokens = 500                    # the maximum number of new tokens the model will generate (long outputs might be more prone to off-topic or repetitive content)\n",
        "generation_config.min_new_tokens = 10                     # the minimum number of new tokens the model will generate\n",
        "generation_config.temperature = 0.7                       # it controls the randomness of the generation, lower temp means more deterministic, conservative (less creative) and repetitive answers [about 0.1-1.2]\n",
        "generation_config.top_p = 0.7                             # nucleus sampling controls how the model picks words based on their cumulative probability, lower value (0.5) means safer, more coherent text but less diverse [about 0.5-0.9]\n",
        "generation_config.num_return_sequences = 1                # how many separate output sequences are returned for each generation prompt, get multiple different answers in one go, useful for picking the best response from several tries\n",
        "generation_config.pad_token_id = tokenizer.eos_token_id   # special token IDs that represent padding and the end-of-sequence token. Generally, these are set to ensure the model knows when to stop and how to handle inputs of different lengths\n",
        "generation_config.eos_token_id = tokenizer.eos_token_id\n",
        "generation_config.repetition_penalty = 1.4                # discourages the model from repeating the same phrases or tokens over and over [about 1.0-2.0] (high value cause the model to avoid some tokens even if they are contextually appropriate)\n",
        "generation_config.num_beams = 5                           # the number of beams used in beam search, higher value means more diverse answers but also slower generation\n",
        "generation_config.early_stopping = True                   # whether to stop the beam search when at least num_beams sentences are finished per batch or not"
      ]
    },
    {
      "cell_type": "code",
      "execution_count": null,
      "metadata": {},
      "outputs": [],
      "source": [
        "text = \"what is web crawling?\"\n",
        "tokens = tokenizer(text, return_tensors=\"pt\", padding=True, truncation=True)\n",
        "print(len(tokenizer.encode(text, add_special_tokens=False)))\n",
        "\n",
        "decoded_text = tokenizer.decode(tokens[\"input_ids\"][0], skip_special_tokens=True)\n",
        "print(decoded_text)"
      ]
    },
    {
      "cell_type": "markdown",
      "metadata": {
        "id": "G1vCxFFxWNSM"
      },
      "source": [
        "We loaded various things on the GPU up to know. Still, with the proposed configuration for all the pipeline components, GPU usage should be acceptable."
      ]
    },
    {
      "cell_type": "code",
      "execution_count": null,
      "metadata": {
        "id": "PNwOi2dHTLPK"
      },
      "outputs": [],
      "source": [
        "# Check GPU usage\n",
        "gpu_memory_gb = torch.cuda.get_device_properties(device).total_memory / (1024 ** 3)  # in GB\n",
        "memory_allocated_gb = torch.cuda.memory_allocated(device) / (1024 ** 3)  # in GB\n",
        "print(f\"Memory Allocated: {memory_allocated_gb:.2f} GB\")\n",
        "print(f\"Total memory usage: {(memory_allocated_gb / gpu_memory_gb) * 100:.2f}%\")"
      ]
    },
    {
      "cell_type": "code",
      "execution_count": null,
      "metadata": {
        "id": "UTIj3ob0aimn"
      },
      "outputs": [],
      "source": [
        "def retrieve_relevant_documents(query, k=5):\n",
        "\n",
        "    query_embedding = embeddings_model.encode(\n",
        "            query,\n",
        "            prompt_name=\"query\",\n",
        "            dataset_embeddings=dataset_embeddings,  # this is the contexualized embeddings of the minicorpus\n",
        "            convert_to_tensor=True\n",
        "        )\n",
        "         \n",
        "    similarities = embeddings_model.similarity(query_embedding, doc_embeddings)\n",
        "    topk_values, topk_indices = similarities.topk(k)\n",
        "    topk_indices = topk_indices.cpu().numpy()[0]\n",
        "    topk_values = topk_values.cpu().numpy()[0]\n",
        "    \n",
        "    return [corpus[idx] for idx in topk_indices], topk_values\n",
        "\n",
        "# test the function\n",
        "query = \"How many bytes can UTF-8 use to encode a character?\"\n",
        "print(f\"Query: {query}\")\n",
        "documents, distances = retrieve_relevant_documents(query)\n",
        "for doc, distance in (zip(documents, distances)):\n",
        "    print(f\"(score: {distance:.4f}) {doc[:200]}\")"
      ]
    },
    {
      "cell_type": "code",
      "execution_count": 44,
      "metadata": {
        "id": "dZoEEO3caimo"
      },
      "outputs": [],
      "source": [
        "base_prompt = '''You are an AI assistant expert of Information Retrieval.\n",
        "Your task is to provide answers to user questions based on the provided context.\n",
        "\n",
        "Instructions:\n",
        "- Use the provided context to construct your answers.\n",
        "- Avoid directly quoting examples or specific details from the context unless they are explicitly required to answer the question.\n",
        "- Paraphrase any necessary details from the context in a way that does not depend on the user's knowledge of the full context.\n",
        "- The context may contain more information than needed to answer the question. Use only the information that is relevant to the question.\n",
        "- If the context lacks sufficient information, provide the best possible answer using general knowledge or state: \"The provided context does not have the answer.\"\n",
        "\n",
        "Your goal is to ensure that your response is complete and clear even if the user has no access to the context.\n",
        "\n",
        "User question: {user_query}\n",
        "\n",
        "Provided Context:\n",
        "{chunks_information}\n",
        "\n",
        "Answer:\n",
        "\n",
        "'''"
      ]
    },
    {
      "cell_type": "markdown",
      "metadata": {
        "id": "AdnGxkarWNSM"
      },
      "source": [
        "## Perform Queries to the RAG Pipeline\n",
        "\n",
        "Now, we're ready to test the pipeline. The following function executes a query by performing the steps outlined below:\n",
        "\n",
        "1. **Retrieve Relevant Documents**: The function invokes `retrieve_relevant_documents` (defined in the coresponding section) to fetch the top 5 relevant documents to the query, along with their similarity scores\n",
        "2. **Filter Documents**: Documents with a similarity score below 0.5 (calculated as `score`) are discarded, retaining only those with sufficient relevance. If no documents meet the relevance threshold, a message indicating that no relevant documents were found is returned.\n",
        "3. **Print the results**: If `print_retrieved_documents` is set to `True`, retrieved relevant documetns are also printed on the terminal.\n",
        "4. **Prepare the Prompt**: The filtered documents are used to create a prompt, which is passed to the model to generate a response. The prompt includes the user's query and the relevant document chunks.\n",
        "5. **Model Inference**: The prompt is tokenized and passed to the RAG model. The model generates a response using beam search (with 5 beams) and applies early stopping.\n",
        "6. **Generate and Return Response**: The function decodes the generated tokens and returns the resulting sequence as the response.\n",
        "\n",
        "This process ensures that the generated response is grounded in relevant documents, providing more accurate, context-aware answers."
      ]
    },
    {
      "cell_type": "code",
      "execution_count": 45,
      "metadata": {
        "id": "9ndL7blvWNSN"
      },
      "outputs": [],
      "source": [
        "def query_rag_model(query, base_prompt=base_prompt, print_retrieved_documents=True):\n",
        "    \"\"\"\n",
        "    Passes the user query to the RAG model and returns the generated answer.\n",
        "    \"\"\"\n",
        "\n",
        "    documents, scores = retrieve_relevant_documents(query, k=5)\n",
        "\n",
        "    if print_retrieved_documents:\n",
        "        print(\"Filtered documents and their scores: \")\n",
        "        for doc, score in zip(documents, scores):\n",
        "            print(f\"Score: {1-score:.4f}, {doc}\")\n",
        "        print(\"\\n\")\n",
        "\n",
        "    # Filters out documents with a similarity score below 0.5\n",
        "    filtered_documents = [doc for doc, score in zip(documents, scores) if score >= 0.5]\n",
        "\n",
        "    # If no relevant documents are found, return a message\n",
        "    if not filtered_documents:\n",
        "        print(f\"No relevant documents found for query: {query}\")\n",
        "        return \"No relevant documents found.\"\n",
        "\n",
        "    # Prepare the prompt for the model\n",
        "    prompt = base_prompt.format(user_query=query, chunks_information=\"\\n\".join(filtered_documents))\n",
        "    encoding = tokenizer(prompt, return_tensors=\"pt\").to(device)\n",
        "\n",
        "    # print(\"PROMPT:\", prompt)\n",
        "\n",
        "    with torch.inference_mode(): # disables gradient computation during model execution\n",
        "        outputs = llm_model.generate(\n",
        "            input_ids=encoding.input_ids,\n",
        "            attention_mask=encoding.attention_mask,\n",
        "            generation_config=generation_config,\n",
        "        )\n",
        "\n",
        "    generated_tokens = outputs[0][len(encoding.input_ids[0]):]\n",
        "    generated_sequence = tokenizer.decode(generated_tokens, skip_special_tokens=True).strip()\n",
        "\n",
        "    return generated_sequence"
      ]
    },
    {
      "cell_type": "markdown",
      "metadata": {
        "id": "QXWcv6y7WNSN"
      },
      "source": [
        "Try it out by changing the query! Try also to change `print_retrieved_documents` to `True` to see what documents are influencing the produced output.\n",
        ">This operation takes ~15/30 seconds on our machine"
      ]
    },
    {
      "cell_type": "code",
      "execution_count": null,
      "metadata": {
        "id": "GPqDR2R0WNSN"
      },
      "outputs": [],
      "source": [
        "response = query_rag_model(\"what is information retrieval?\", base_prompt=base_prompt, print_retrieved_documents=False)\n",
        "print(\"Response: \", response)"
      ]
    },
    {
      "cell_type": "markdown",
      "metadata": {
        "id": "vU5nIjpEWNSN"
      },
      "source": [
        "# Evaluating model responses\n",
        "\n",
        "The following section covers experiments based on how the model replies to **open-answer** questions.\n",
        "\n",
        "Questions were stored in this format, and were manually tailored by us in order to asses the capabilities of the model."
      ]
    },
    {
      "cell_type": "markdown",
      "metadata": {
        "id": "G8Tfvfg0WNSN"
      },
      "source": [
        "The file,  `open_questions.json` file contains open-answer questions, where an entry looks like:\n",
        "\n",
        "```json\n",
        "{\n",
        "        \"question_id\": \"1\",\n",
        "        \"question\": \"What is Jaccard Coefficient?\"\n",
        "}, ...\n",
        "```\n",
        "\n",
        "where:\n",
        "\n",
        "<div align=\"center\">\n",
        "\n",
        "| **Field**       | **Content**                                     |\n",
        "|------------------|-------------------------------------------------|\n",
        "| `question_id`    | Unique identifier of the question        |\n",
        "| `question`       | The question text                              |\n",
        "\n",
        "</div>\n"
      ]
    },
    {
      "cell_type": "code",
      "execution_count": 47,
      "metadata": {
        "id": "5W-q3VYEWNSN"
      },
      "outputs": [],
      "source": [
        "evaluation_folder_path = \"./evaluation/\"\n",
        "questions_file_path = evaluation_folder_path + \"open_questions.json\""
      ]
    },
    {
      "cell_type": "code",
      "execution_count": null,
      "metadata": {
        "id": "c2U0YrdmWNSN"
      },
      "outputs": [],
      "source": [
        "open_questions = extract_questions(questions_file_path)\n",
        "\n",
        "print(f\"Loaded {len(open_questions)} open questions.\")\n",
        "print(open_questions[0])"
      ]
    },
    {
      "cell_type": "markdown",
      "metadata": {
        "id": "tMurWVAJWNSO"
      },
      "source": [
        "### Evaluating the model on open-questions\n",
        "\n",
        "`process_open_questions(queries, folder_path)` is a function used to run experiments over a list of open-answer questions, taking as input the list of questions with `queries` and folder path `folder_path` for results storing. It does the following:\n",
        "\n",
        "1. Delete previous results if already done, create `res` folder otherwise\n",
        "2. Process one-by-one queries via `response = query_rag_model(query, base_prompt)`\n",
        "\n",
        "Note that:\n",
        "* No results are returned since are already store on `.txt` files\n",
        "* retrieve_relevant_documents is called only to write on .txt files documents retrieved, but it is also called into `query_rag_model` function"
      ]
    },
    {
      "cell_type": "code",
      "execution_count": 49,
      "metadata": {
        "id": "AcVeNt8AWNSO"
      },
      "outputs": [],
      "source": [
        "def process_open_questions(queries, folder_path, model=\"RAG\"):\n",
        "    \"\"\"\n",
        "    Processes a list of open questions, retrieves relevant documents,\n",
        "    and saves the responses to text files in a specified folder.\n",
        "\n",
        "    Parameters:\n",
        "    - queries (list): List of queries to process.\n",
        "    - folder_path (str): Path to the folder where results will be saved.\n",
        "    - model (str): Name of the model to use for processing the queries.\n",
        "    \"\"\"\n",
        "    results_folder = os.path.join(folder_path, model+\"-open-questions\")\n",
        "    if os.path.exists(results_folder):\n",
        "        # Clear the folder if it exists\n",
        "        for file_name in os.listdir(results_folder):\n",
        "            file_path = os.path.join(results_folder, file_name)\n",
        "            if os.path.isfile(file_path):\n",
        "                os.remove(file_path)\n",
        "    else:\n",
        "        # Create the folder if it doesn't exist\n",
        "        os.makedirs(results_folder)\n",
        "\n",
        "    # Process each query and save the response\n",
        "    for idx, query in enumerate(tqdm(queries, desc=\"Processing queries\"), start=1):\n",
        "            if model ==\"RAG\":\n",
        "                # Get the model's response\n",
        "                response = query_rag_model(query['question'], base_prompt, print_retrieved_documents=False)\n",
        "            elif model == \"LLM\":\n",
        "                prompt = \"You are an AI assistant expert of Information Retrieval.\\n\"+ query['question']\n",
        "                encoding = tokenizer(prompt, return_tensors=\"pt\").to(device)\n",
        "\n",
        "                with torch.inference_mode(): # disables gradient computation during model execution\n",
        "                    outputs = llm_model.generate(\n",
        "                        input_ids=encoding.input_ids,\n",
        "                        attention_mask=encoding.attention_mask,\n",
        "                        generation_config=generation_config,\n",
        "                    )\n",
        "\n",
        "                generated_tokens = outputs[0][len(encoding.input_ids[0]):]\n",
        "                response = tokenizer.decode(generated_tokens, skip_special_tokens=True).strip()\n",
        "            else:\n",
        "                raise ValueError(\"Invalid model name. Use either 'RAG' or 'LLM'.\")\n",
        "\n",
        "            # Construct the file path for the current query\n",
        "            file_path = os.path.join(results_folder, f\"open_question_{idx}.mmd\")\n",
        "\n",
        "            # Save the query, response, and documents to a text file\n",
        "            with open(file_path, \"w\", encoding=\"utf-8\") as file:\n",
        "                file.write(f\"Query {idx}: {query['question']}\\n\\n\")\n",
        "                file.write(f\"Reply {idx}: {response}\")"
      ]
    },
    {
      "cell_type": "markdown",
      "metadata": {},
      "source": [
        "For the purpouse of running the whole notebook, we set `evaluation = False` to avoid each time the computation of the whole `open_questions` set. Set it to `True` to re-compute them"
      ]
    },
    {
      "cell_type": "code",
      "execution_count": 50,
      "metadata": {},
      "outputs": [],
      "source": [
        "evaluation = False"
      ]
    },
    {
      "cell_type": "code",
      "execution_count": 51,
      "metadata": {
        "id": "NB6_0hr_WNSO"
      },
      "outputs": [],
      "source": [
        "if evaluation:\n",
        "    process_open_questions(open_questions, evaluation_folder_path, model=\"RAG\")"
      ]
    },
    {
      "cell_type": "code",
      "execution_count": 52,
      "metadata": {
        "id": "oJiQS1_rWNSO"
      },
      "outputs": [],
      "source": [
        "if evaluation:\n",
        "    process_open_questions(open_questions, evaluation_folder_path, model=\"LLM\")"
      ]
    },
    {
      "cell_type": "markdown",
      "metadata": {
        "id": "fryWDCryZe00"
      },
      "source": [
        "### Testing Procedure\n",
        "As reported above, to evaluate the performance of the RAG pipeline we conducted a manual assessment using a set of **60 open-ended questions** related to information retrieval. The evaluation consisted of two phases:\n",
        "1. RAG Model Testing:\n",
        "   - The RAG pipeline was used to answer the questions, incorporating both retrieved documents and the language model's generation capabilities.\n",
        "   - The pipeline was designed to act as an \"AI assistant\" and \"information retrieval expert,\" as explicitly stated in the prompt.\n",
        "2. Base Model Testing:\n",
        "   - The same 60 questions were tested using the base language model without the RAG pipeline.\n",
        "   - To ensure a fair comparison, efforts were made to align the prompts of the two models. For the base model, the adjusted prompt explicitly mentioned the \"information retrieval\" context to avoid bias in favor of the RAG pipeline.\n",
        "\n",
        "---\n",
        "\n",
        "### Results\n",
        "\n",
        "<div align=\"center\">\n",
        "\n",
        "| **Evaluation Metric**    | **Base Model** | **RAG Pipeline** |\n",
        "|-|-|-|\n",
        "| Total Questions Evaluated | 60| 60|\n",
        "| Correct Answers           | 23| 57|\n",
        "|*Accuracy (%)*              |**38.3%**| **95%**|\n",
        "\n",
        "</div>\n",
        "\n",
        "<div></div>\n",
        "\n",
        "---\n",
        "\n",
        "#### Analysis of Results:\n",
        "1. The RAG pipeline demonstrated a 95% accuracy rate, significantly outperforming the base model, which achieved only 38.3% accuracy.\n",
        "2. This substantial improvement highlights the value of integrating a retrieval mechanism into the pipeline. By grounding the model's responses in relevant documents, the RAG pipeline could produce more accurate and contextually aligned answers.\n",
        "\n",
        "3. For the base model, the incorrect answers were due to:\n",
        "     - Hallucinations: The model generated plausible-sounding but incorrect information.\n",
        "     - Lack of Specificity: Responses were vague or unrelated to the query.\n",
        "4. In contrast, the RAG pipeline failed in only 3 cases where the answers were indeed correct, but they didn't come from the given context but from general knowledge, so we labled them as incorrect.\n"
      ]
    },
    {
      "cell_type": "markdown",
      "metadata": {
        "id": "KZ1KmZNwWNSO"
      },
      "source": [
        "# Gradio Interface <div align=\"center\"><img src=\"https://www.gradio.app/_app/immutable/assets/gradio.CHB5adID.svg\" alt=\"Gradio Logo\" width=\"200\"></div>\n",
        "\n",
        "Lastly, we provide a **Gradio** interface to make interacting with the RAG pipeline both user-friendly and accessible. [Gradio](https://gradio.app) is a Python library that enables developers to quickly create customizable, interactive web-based interfaces. It is widely appreciated for its simplicity and flexibility.\n",
        "\n",
        "The interface is launched in the next cell through the final command `demo.launch(debug=True)`\n",
        "\n",
        "> This will also start a local server and generate a link (usually `http://127.0.0.1:7860`) that you can open in your browser. On Colab this will be different, but the you can find the url in the console output\n",
        "\n",
        "The interface is straightforward:\n",
        "- You can type your questions or prompts for the RAG pipeline into the **input field**.\n",
        "- The interface estimated inference waiting time (based on the last response waiting time), then the generated answer.\n",
        "\n",
        "If the interface is launched with the `debug=True` option (as in this case), it will also print the retrieved documents and their scores in the console; this can be useful for gaining insights into the system's behavior. Otherwise, the console prints are suppressed."
      ]
    },
    {
      "cell_type": "code",
      "execution_count": null,
      "metadata": {
        "id": "zyeIkuECWNSO"
      },
      "outputs": [],
      "source": [
        "import gradio as gr\n",
        "\n",
        "\n",
        "latex_delimiters = [\n",
        "    {\"left\": \"\\\\[\", \"right\": \"\\\\]\", \"display\": True},  # Formulas in display mode\n",
        "    {\"left\": \"\\\\(\", \"right\": \"\\\\)\", \"display\": False},  # Formulas in inline mode\n",
        "]\n",
        "\n",
        "\n",
        "with gr.Blocks(css=\"\"\"\n",
        "    .input-box { border: 1px solid #ccc; border-radius: 4px; padding: 10px; margin: 10px 0; }\n",
        "    .output-box { border: 1px solid #ccc; border-radius: 4px; padding: 10px; margin: 10px 0; background-color: #373535; height: auto; }\n",
        "\n",
        "\"\"\") as demo:\n",
        "    gr.Markdown(\"# RAG Model Query Interface\")\n",
        "    gr.Markdown(f\"Ask questions to the RAG model and get answers based on the provided PDF context (*{PDF_NAME}*).\")\n",
        "\n",
        "    with gr.Row():\n",
        "        with gr.Column():\n",
        "            input_text = gr.Textbox(\n",
        "                label=\"Enter your query\",\n",
        "                placeholder=\"Type your question here...\",\n",
        "                elem_classes=[\"input-box\"]\n",
        "            )\n",
        "\n",
        "    with gr.Row():\n",
        "        with gr.Column():\n",
        "            output_text = gr.Markdown(\n",
        "                label=\"Answer\",\n",
        "                elem_classes=[\"output-box\"],\n",
        "                latex_delimiters=latex_delimiters\n",
        "                )\n",
        "\n",
        "\n",
        "    input_text.submit(\n",
        "        fn=query_rag_model,\n",
        "        inputs=input_text,\n",
        "        outputs=output_text\n",
        "    )\n",
        "\n",
        "# launch the interface\n",
        "demo.launch(debug=True, show_error=True)"
      ]
    },
    {
      "cell_type": "code",
      "execution_count": null,
      "metadata": {
        "id": "Im415tVOWNSP"
      },
      "outputs": [],
      "source": []
    }
  ],
  "metadata": {
    "accelerator": "GPU",
    "colab": {
      "gpuType": "T4",
      "include_colab_link": true,
      "provenance": [],
      "toc_visible": true
    },
    "kernelspec": {
      "display_name": "lm",
      "language": "python",
      "name": "python3"
    },
    "language_info": {
      "codemirror_mode": {
        "name": "ipython",
        "version": 3
      },
      "file_extension": ".py",
      "mimetype": "text/x-python",
      "name": "python",
      "nbconvert_exporter": "python",
      "pygments_lexer": "ipython3",
      "version": "3.12.7"
    }
  },
  "nbformat": 4,
  "nbformat_minor": 0
}
