{
 "cells": [
  {
   "cell_type": "markdown",
   "metadata": {},
   "source": [
    "# Setup"
   ]
  },
  {
   "cell_type": "code",
   "execution_count": 2,
   "metadata": {
    "colab": {
     "base_uri": "https://localhost:8080/"
    },
    "id": "WHczuRuxRUXJ",
    "outputId": "a2686e71-ba02-4566-bb11-409c03c5b63d"
   },
   "outputs": [
    {
     "name": "stdout",
     "output_type": "stream",
     "text": [
      "Wed Dec 11 23:23:32 2024       \n",
      "+-----------------------------------------------------------------------------------------+\n",
      "| NVIDIA-SMI 555.85                 Driver Version: 555.85         CUDA Version: 12.5     |\n",
      "|-----------------------------------------+------------------------+----------------------+\n",
      "| GPU  Name                  Driver-Model | Bus-Id          Disp.A | Volatile Uncorr. ECC |\n",
      "| Fan  Temp   Perf          Pwr:Usage/Cap |           Memory-Usage | GPU-Util  Compute M. |\n",
      "|                                         |                        |               MIG M. |\n",
      "|=========================================+========================+======================|\n",
      "|   0  NVIDIA GeForce RTX 3070 ...  WDDM  |   00000000:01:00.0 Off |                  N/A |\n",
      "| N/A   60C    P8             17W /  147W |       0MiB /   8192MiB |      0%      Default |\n",
      "|                                         |                        |                  N/A |\n",
      "+-----------------------------------------+------------------------+----------------------+\n",
      "                                                                                         \n",
      "+-----------------------------------------------------------------------------------------+\n",
      "| Processes:                                                                              |\n",
      "|  GPU   GI   CI        PID   Type   Process name                              GPU Memory |\n",
      "|        ID   ID                                                               Usage      |\n",
      "|=========================================================================================|\n",
      "|  No running processes found                                                             |\n",
      "+-----------------------------------------------------------------------------------------+\n"
     ]
    }
   ],
   "source": [
    "!nvidia-smi"
   ]
  },
  {
   "cell_type": "code",
   "execution_count": 2,
   "metadata": {},
   "outputs": [
    {
     "name": "stdout",
     "output_type": "stream",
     "text": [
      "CUDA is available. Working on GPU.\n",
      "GPU name: NVIDIA GeForce RTX 3070 Laptop GPU\n"
     ]
    }
   ],
   "source": [
    "import torch\n",
    "import os \n",
    "\n",
    "\n",
    "os.environ[\"CUDA_VISIBLE_DEVICES\"] = \"0\"\n",
    "\n",
    "if torch.cuda.is_available():\n",
    "    print(\"CUDA is available. Working on GPU.\")\n",
    "    print(f\"GPU name: {torch.cuda.get_device_name(0)}\")\n",
    "else:\n",
    "    print(\"CUDA not available. Working on CPU.\")"
   ]
  },
  {
   "cell_type": "code",
   "execution_count": null,
   "metadata": {
    "id": "j1T51079WIi0"
   },
   "outputs": [],
   "source": [
    "# !curl -LsSf https://astral.sh/uv/install.sh | sh\n",
    "# !source $HOME/.local/bin/env"
   ]
  },
  {
   "cell_type": "markdown",
   "metadata": {
    "id": "JA4yeoZGbgPK"
   },
   "source": [
    "These should be pre-installed in a colab env"
   ]
  },
  {
   "cell_type": "code",
   "execution_count": null,
   "metadata": {
    "colab": {
     "base_uri": "https://localhost:8080/"
    },
    "id": "7j4PwAeWasD8",
    "outputId": "4128e1d3-2d87-4088-a0ec-14326ba0a747"
   },
   "outputs": [],
   "source": [
    "# import torch\n",
    "# import transformers\n",
    "# import accelerate\n",
    "# import peft\n",
    "\n",
    "# print(torch.__version__)\n",
    "# print(transformers.__version__)\n",
    "# print(accelerate.__version__)\n",
    "# print(peft.__version__)"
   ]
  },
  {
   "cell_type": "code",
   "execution_count": null,
   "metadata": {
    "colab": {
     "base_uri": "https://localhost:8080/"
    },
    "id": "IZPaTFUeRRe6",
    "outputId": "11015e00-2ea8-42a7-8f75-e8f2bbf46847"
   },
   "outputs": [],
   "source": [
    "#!pip install -U pip --progress-bar off\n",
    "# !pip install -q bitsandbytes --progress-bar off\n",
    "# !pip install -qqq datasets --progress-bar off\n",
    "# !pip install -qqq loralib --progress-bar off\n",
    "# !pip install -qqq einops --progress-bar off"
   ]
  },
  {
   "cell_type": "markdown",
   "metadata": {
    "id": "iUG0vd5iS5sb"
   },
   "source": [
    "imports that we will need"
   ]
  },
  {
   "cell_type": "code",
   "execution_count": 3,
   "metadata": {
    "id": "F63LwwY6RL59"
   },
   "outputs": [],
   "source": [
    "import json\n",
    "import os\n",
    "from pprint import pprint\n",
    "\n",
    "import bitsandbytes as bnb\n",
    "import pandas as pd\n",
    "import torch\n",
    "import torch.nn as nn\n",
    "import transformers\n",
    "from datasets import load_dataset\n",
    "from huggingface_hub import notebook_login\n",
    "from peft import (\n",
    "    LoraConfig,\n",
    "    PeftConfig,\n",
    "    PeftModel,\n",
    "    get_peft_model,\n",
    "    prepare_model_for_kbit_training,\n",
    ")\n",
    "from transformers import (\n",
    "    AutoConfig,\n",
    "    AutoModelForCausalLM,\n",
    "    AutoTokenizer,\n",
    "    BitsAndBytesConfig,\n",
    ")\n",
    "\n",
    "from transformers import AutoModelForCausalLM, AutoTokenizer, BitsAndBytesConfig"
   ]
  },
  {
   "cell_type": "code",
   "execution_count": 4,
   "metadata": {
    "colab": {
     "base_uri": "https://localhost:8080/",
     "height": 67,
     "referenced_widgets": [
      "dd18226f7c7941189ba01f0098877aed",
      "c2c0d653ffef4dbcbfd59cae34c71eb5",
      "2b39dedc67434ddd94884ef814cd3a7c",
      "0540fb9939234837b32c2dc9e57df055",
      "a624c5a905184207a83a1c118a7946a2",
      "ef560440e1d54ac2ab06697b8417b5b7",
      "f724084315a54daabff12b96214a557c",
      "338793d1dcb64c268e32d1698a6b2480",
      "c257765e791c497781b8b708b2d4f115",
      "439d210003c147bdabbf26140d69abba",
      "990993836b714aa6872e24c149eed3b7",
      "978de0982e2342a0b1571355eb5b3d55",
      "677dece023084369abace533a4271c3e",
      "b3377aefa9ab453b8631e71688b58cf3",
      "388101a72cef4ad2912a1928d13c63b9",
      "f88c493572454ee88f4380a1b9b92202",
      "93dce185b98e489fba27900c65b12743",
      "ebfc3cd40fca4b09a749a26d0ff05d05",
      "35228f38b23a434495ea6d0f12c03f4f",
      "baa52e71594743dca85fcb54ccc16ce2",
      "9a3490d0e51d43f282f317f7e8e6d169",
      "b03234e081cc44878bf1feb224d2199b",
      "40c4aa1cf16d498faafdd375deae1f91"
     ]
    },
    "id": "thCCG8Q_S33k",
    "outputId": "d36f6dca-5cad-4477-c62f-e3abf5c381bf"
   },
   "outputs": [
    {
     "name": "stderr",
     "output_type": "stream",
     "text": [
      "Note: Environment variable`HF_TOKEN` is set and is the current active token independently from the token you've just configured.\n"
     ]
    }
   ],
   "source": [
    "from huggingface_hub import login\n",
    "from dotenv import load_dotenv\n",
    "\n",
    "load_dotenv()\n",
    "HF_TOKEN = os.getenv('HF_TOKEN')\n",
    "login(token=HF_TOKEN)"
   ]
  },
  {
   "cell_type": "markdown",
   "metadata": {
    "id": "5VsI9OEtSvW3"
   },
   "source": [
    "# Data"
   ]
  },
  {
   "cell_type": "markdown",
   "metadata": {
    "id": "xf9bf67dTFdt"
   },
   "source": [
    "https://www.kaggle.com/datasets/saadmakhdoom/ecommerce-faq-chatbot-dataset"
   ]
  },
  {
   "cell_type": "code",
   "execution_count": 5,
   "metadata": {
    "id": "Sbb62hWPRaEf"
   },
   "outputs": [],
   "source": [
    "with open(\"datasetQ&A.json\") as json_file:\n",
    "    data = json.load(json_file)"
   ]
  },
  {
   "cell_type": "code",
   "execution_count": 6,
   "metadata": {
    "colab": {
     "base_uri": "https://localhost:8080/"
    },
    "id": "cKo6N9cXRa61",
    "outputId": "0c0e5737-03ac-4000-c0b0-2fa3027aefdb"
   },
   "outputs": [
    {
     "name": "stdout",
     "output_type": "stream",
     "text": [
      "{'question': 'What is the difference between Boolean retrieval and ranked '\n",
      "             'retrieval?',\n",
      " 'answer': 'Boolean retrieval returns all documents that match a query using '\n",
      "           'AND, OR, or NOT operators and is suitable for small/medium '\n",
      "           'collections. Ranked retrieval, used for large collections, orders '\n",
      "           'documents by their relevance to the query based on a similarity '\n",
      "           'function and returns only the top results.'}\n",
      "{'question': 'Why is Document-at-a-Time (DAAT) retrieval preferred in '\n",
      "             'commercial search engines?',\n",
      " 'answer': 'DAAT uses a smaller memory footprint than TAAT, supports Boolean '\n",
      "           'and phrasal queries, and processes all query terms in parallel to '\n",
      "           'fully evaluate a document. These attributes make it efficient and '\n",
      "           'practical for large-scale systems.'}\n",
      "{'question': 'What is the purpose of caching in query processing?',\n",
      " 'answer': 'Caching improves effectiveness by storing results of popular '\n",
      "           'queries and common inverted lists, reducing the need to recompute '\n",
      "           'results for recurring queries and speeding up the response for '\n",
      "           'unique queries.'}\n"
     ]
    }
   ],
   "source": [
    "pprint(data[\"questions\"][0], sort_dicts=False)\n",
    "pprint(data[\"questions\"][2], sort_dicts=False)\n",
    "pprint(data[\"questions\"][3], sort_dicts=False)"
   ]
  },
  {
   "cell_type": "code",
   "execution_count": 7,
   "metadata": {},
   "outputs": [],
   "source": [
    "with open(\"dataset.json\", \"w\") as json_file:\n",
    "    json.dump(data[\"questions\"], json_file)"
   ]
  },
  {
   "cell_type": "code",
   "execution_count": 8,
   "metadata": {},
   "outputs": [
    {
     "data": {
      "text/html": [
       "<div>\n",
       "<style scoped>\n",
       "    .dataframe tbody tr th:only-of-type {\n",
       "        vertical-align: middle;\n",
       "    }\n",
       "\n",
       "    .dataframe tbody tr th {\n",
       "        vertical-align: top;\n",
       "    }\n",
       "\n",
       "    .dataframe thead th {\n",
       "        text-align: right;\n",
       "    }\n",
       "</style>\n",
       "<table border=\"1\" class=\"dataframe\">\n",
       "  <thead>\n",
       "    <tr style=\"text-align: right;\">\n",
       "      <th></th>\n",
       "      <th>question</th>\n",
       "      <th>answer</th>\n",
       "    </tr>\n",
       "  </thead>\n",
       "  <tbody>\n",
       "    <tr>\n",
       "      <th>0</th>\n",
       "      <td>What is the difference between Boolean retriev...</td>\n",
       "      <td>Boolean retrieval returns all documents that m...</td>\n",
       "    </tr>\n",
       "    <tr>\n",
       "      <th>1</th>\n",
       "      <td>What are the advantages of the Term-at-a-Time ...</td>\n",
       "      <td>TAAT is simple and cache-friendly, processing ...</td>\n",
       "    </tr>\n",
       "    <tr>\n",
       "      <th>2</th>\n",
       "      <td>Why is Document-at-a-Time (DAAT) retrieval pre...</td>\n",
       "      <td>DAAT uses a smaller memory footprint than TAAT...</td>\n",
       "    </tr>\n",
       "    <tr>\n",
       "      <th>3</th>\n",
       "      <td>What is the purpose of caching in query proces...</td>\n",
       "      <td>Caching improves effectiveness by storing resu...</td>\n",
       "    </tr>\n",
       "    <tr>\n",
       "      <th>4</th>\n",
       "      <td>What is Heap's Law, and what does it predict?</td>\n",
       "      <td>Heap's Law describes the growth of the term vo...</td>\n",
       "    </tr>\n",
       "  </tbody>\n",
       "</table>\n",
       "</div>"
      ],
      "text/plain": [
       "                                            question  \\\n",
       "0  What is the difference between Boolean retriev...   \n",
       "1  What are the advantages of the Term-at-a-Time ...   \n",
       "2  Why is Document-at-a-Time (DAAT) retrieval pre...   \n",
       "3  What is the purpose of caching in query proces...   \n",
       "4      What is Heap's Law, and what does it predict?   \n",
       "\n",
       "                                              answer  \n",
       "0  Boolean retrieval returns all documents that m...  \n",
       "1  TAAT is simple and cache-friendly, processing ...  \n",
       "2  DAAT uses a smaller memory footprint than TAAT...  \n",
       "3  Caching improves effectiveness by storing resu...  \n",
       "4  Heap's Law describes the growth of the term vo...  "
      ]
     },
     "execution_count": 8,
     "metadata": {},
     "output_type": "execute_result"
    }
   ],
   "source": [
    "pd.DataFrame(data[\"questions\"]).head()"
   ]
  },
  {
   "cell_type": "code",
   "execution_count": 9,
   "metadata": {
    "colab": {
     "base_uri": "https://localhost:8080/",
     "height": 935,
     "referenced_widgets": [
      "6370be11d7ad45ee8c39d8bfb3f7f1ce",
      "6275f21f7d644c999a8bdb355e224d9e",
      "4c61767b20e34befa7634c50303f0973",
      "7c984010083f49c8a7328f8cc4fb05a8",
      "3efc0637f7c14cd494f0792d9955ec3a",
      "89d45823c17147ebb3618ed25ee32a1a",
      "1889ce76588f4ed8b6d8c1a3667a1cdf",
      "b0619861cc174c5ab6ff37053bf4d67e",
      "2f6b92bb988246a7896819b68a09b168",
      "8f72adf3f7ed40689d7b01c11f54f9cd",
      "9179c9c1729e4dc1b7e248d9109fb130",
      "9c11676ff2c044d784ec67f8441dd340",
      "89ab31947022419fb5b2c629440c84ef",
      "18f139b46b924cbfbef3f2cd42cf82c8",
      "b0294c44220144a5871daac7f0a59b52",
      "78ad2091a39349aebb0c27e8eff56e68",
      "54b3b4bd3f9d4e578b7e8c578912f1e8",
      "70d5ded144c445339bb0ba6d6adf0f52",
      "47e4e0a76a7b468fb734c64d89f788ba",
      "7f1183900094481da7e8dc3010d768b4",
      "b10cd2caf1504409a35546c8d297765b",
      "ba02722608a345ea8c36f6a7629ad174",
      "d6c1dbbe0f214790be2e18f335ec2f4e",
      "697c2cef346045558136941119c41a04",
      "6760ec485a7a4447a0a3258a241978d5",
      "5d8cd98cff584b61bd4e07499b2e3be5",
      "3db7a302579b48068fcaefaa48ba3c1f",
      "e1efdf40d14643b0afd1bd3a69c8f7a0",
      "11e1e389f6474ae880dd24e07db5e183",
      "61f47cd99f1c4353857816af6f7967a1",
      "4cf6e771fe4849d18557bdb8e1a04655",
      "f1a875c3b5324afaa5131e66543f4e12",
      "d756d20660e94ed299fdd38bc6f95520"
     ]
    },
    "id": "LXz6I4NoRb_t",
    "outputId": "1ab49989-95db-4f14-ed03-1d8e99b916e4"
   },
   "outputs": [
    {
     "data": {
      "application/vnd.jupyter.widget-view+json": {
       "model_id": "d48efcd0d46b41a78e31b713c613b6dd",
       "version_major": 2,
       "version_minor": 0
      },
      "text/plain": [
       "Loading checkpoint shards:   0%|          | 0/2 [00:00<?, ?it/s]"
      ]
     },
     "metadata": {},
     "output_type": "display_data"
    }
   ],
   "source": [
    "from transformers import AutoModelForCausalLM, AutoTokenizer, BitsAndBytesConfig\n",
    "\n",
    "#MODEL_NAME = \"meta-llama/Llama-3.2-1B\" # 1B\n",
    "#MODEL_NAME = \"meta-llama/Llama-3.2-3B\" # bastardo il cane di\n",
    "MODEL_NAME = \"meta-llama/Llama-3.2-3B-Instruct\" # 3B\n",
    "\n",
    "bnb_config = BitsAndBytesConfig( \n",
    "    load_in_4bit=True,\n",
    "    bnb_4bit_use_double_quant=True,\n",
    "    bnb_4bit_quant_type=\"nf4\",\n",
    "    bnb_4bit_compute_dtype=torch.bfloat16,\n",
    ")\n",
    "\n",
    "\n",
    "model = AutoModelForCausalLM.from_pretrained(\n",
    "    MODEL_NAME,\n",
    "    device_map=\"auto\",\n",
    "    quantization_config=bnb_config,\n",
    ")\n",
    "\n",
    "\n",
    "tokenizer = AutoTokenizer.from_pretrained(MODEL_NAME)\n",
    "tokenizer.pad_token = tokenizer.eos_token\n",
    "\n",
    "# model.config.pad_token_id = tokenizer.pad_token_id\n",
    "# model.config.use_cache = False\n",
    "#model.config.pretraining_tp = 1"
   ]
  },
  {
   "cell_type": "code",
   "execution_count": 10,
   "metadata": {},
   "outputs": [],
   "source": [
    "def print_trainable_parameters (model):\n",
    "    \"\"\"\n",
    "    Prints the number of trainable parameters in the model.\n",
    "    \"\"\"\n",
    "    trainable_params = 0\n",
    "    all_param = 0\n",
    "    for _, param in model.named_parameters ():\n",
    "        all_param += param.numel()\n",
    "        if param.requires_grad:\n",
    "            trainable_params += param.numel()\n",
    "\n",
    "    print(f\"trainable params: {trainable_params} || all params: {all_param} || trainable%: {100 * trainable_params / all_param}\")\n"
   ]
  },
  {
   "cell_type": "code",
   "execution_count": 11,
   "metadata": {
    "id": "ZdvFjZOjRdaq"
   },
   "outputs": [],
   "source": [
    "model.gradient_checkpointing_enable()\n",
    "model = prepare_model_for_kbit_training(model)"
   ]
  },
  {
   "cell_type": "code",
   "execution_count": 12,
   "metadata": {},
   "outputs": [
    {
     "name": "stdout",
     "output_type": "stream",
     "text": [
      "LlamaForCausalLM(\n",
      "  (model): LlamaModel(\n",
      "    (embed_tokens): Embedding(128256, 3072)\n",
      "    (layers): ModuleList(\n",
      "      (0-27): 28 x LlamaDecoderLayer(\n",
      "        (self_attn): LlamaSdpaAttention(\n",
      "          (q_proj): Linear4bit(in_features=3072, out_features=3072, bias=False)\n",
      "          (k_proj): Linear4bit(in_features=3072, out_features=1024, bias=False)\n",
      "          (v_proj): Linear4bit(in_features=3072, out_features=1024, bias=False)\n",
      "          (o_proj): Linear4bit(in_features=3072, out_features=3072, bias=False)\n",
      "          (rotary_emb): LlamaRotaryEmbedding()\n",
      "        )\n",
      "        (mlp): LlamaMLP(\n",
      "          (gate_proj): Linear4bit(in_features=3072, out_features=8192, bias=False)\n",
      "          (up_proj): Linear4bit(in_features=3072, out_features=8192, bias=False)\n",
      "          (down_proj): Linear4bit(in_features=8192, out_features=3072, bias=False)\n",
      "          (act_fn): SiLU()\n",
      "        )\n",
      "        (input_layernorm): LlamaRMSNorm((3072,), eps=1e-05)\n",
      "        (post_attention_layernorm): LlamaRMSNorm((3072,), eps=1e-05)\n",
      "      )\n",
      "    )\n",
      "    (norm): LlamaRMSNorm((3072,), eps=1e-05)\n",
      "    (rotary_emb): LlamaRotaryEmbedding()\n",
      "  )\n",
      "  (lm_head): Linear(in_features=3072, out_features=128256, bias=False)\n",
      ")\n"
     ]
    }
   ],
   "source": [
    "print(model)"
   ]
  },
  {
   "cell_type": "code",
   "execution_count": 13,
   "metadata": {
    "id": "BMkLRzNLRef1"
   },
   "outputs": [
    {
     "name": "stdout",
     "output_type": "stream",
     "text": [
      "trainable params: 24313856 || all params: 1827777536 || trainable%: 1.330241537665993\n"
     ]
    }
   ],
   "source": [
    "config = LoraConfig(\n",
    "    r=16,\n",
    "    lora_alpha=32,\n",
    "    target_modules=[\n",
    "        \"self_attn.q_proj\",\n",
    "        \"self_attn.k_proj\",\n",
    "        \"self_attn.v_proj\",\n",
    "        \"self_attn.o_proj\",\n",
    "        \"mlp.gate_proj\",\n",
    "        \"mlp.up_proj\",\n",
    "        \"mlp.down_proj\"\n",
    "    ],\n",
    "    lora_dropout=0.05,\n",
    "    bias=\"none\",\n",
    "    task_type=\"CAUSAL_LM\",\n",
    ")\n",
    "\n",
    "model = get_peft_model(model, config)\n",
    "print_trainable_parameters(model)"
   ]
  },
  {
   "cell_type": "code",
   "execution_count": 21,
   "metadata": {},
   "outputs": [
    {
     "name": "stdout",
     "output_type": "stream",
     "text": [
      "What is the MaxScore strategy?\n"
     ]
    }
   ],
   "source": [
    "prompt=\"\"\"What is the MaxScore strategy?\"\"\".strip()\n",
    "print(prompt)"
   ]
  },
  {
   "cell_type": "code",
   "execution_count": 22,
   "metadata": {},
   "outputs": [
    {
     "data": {
      "text/plain": [
       "GenerationConfig {\n",
       "  \"bos_token_id\": 128000,\n",
       "  \"do_sample\": true,\n",
       "  \"eos_token_id\": 128009,\n",
       "  \"max_new_tokens\": 200,\n",
       "  \"pad_token_id\": 128009,\n",
       "  \"temperature\": 0.1\n",
       "}"
      ]
     },
     "execution_count": 22,
     "metadata": {},
     "output_type": "execute_result"
    }
   ],
   "source": [
    "generation_config = model.generation_config\n",
    "generation_config.max_new_tokens = 200\n",
    "generation_config.temperature = 0.1\n",
    "generation_config.top_p = 1.0\n",
    "generation_config.num_return_sequences = 1\n",
    "generation_config.pad_token_id = tokenizer.eos_token_id\n",
    "generation_config.eos_token_id = tokenizer.eos_token_id\n",
    "generation_config"
   ]
  },
  {
   "cell_type": "code",
   "execution_count": 23,
   "metadata": {},
   "outputs": [
    {
     "name": "stdout",
     "output_type": "stream",
     "text": [
      "MaxScore is a popular strategy for maximizing the score in various games, including poker, blackjack, and video games. The basic idea is to identify the maximum possible score that can be achieved in a given game and then play to achieve that score. Here's a breakdown of the MaxScore strategy:\n",
      "\n",
      "**Key principles:**\n",
      "\n",
      "1. **Identify the maximum possible score**: Determine the highest possible score that can be achieved in the game, considering the rules, game mechanics, and any limitations.\n",
      "2. **Play to achieve the maximum score**: Make decisions that maximize the score, taking into account the current game state, available resources, and any constraints.\n",
      "3. **Optimize for the maximum score**: Continuously evaluate and adjust your strategy to ensure you're playing to achieve the maximum score.\n",
      "\n",
      "**Applying the MaxScore strategy:**\n",
      "\n",
      "1. **Understand the game mechanics**: Familiarize yourself with the game's rules, mechanics, and any limitations.\n",
      "2. **Analyze the game state\n",
      "CPU times: total: 2.12 s\n",
      "Wall time: 14.7 s\n"
     ]
    }
   ],
   "source": [
    "%%time\n",
    "device = \"cuda:0\"\n",
    "\n",
    "encoding = tokenizer(prompt, return_tensors=\"pt\").to(device)\n",
    "with torch.inference_mode():\n",
    "    outputs = model.generate(\n",
    "        input_ids=encoding.input_ids,\n",
    "        attention_mask=encoding.attention_mask,\n",
    "        generation_config=generation_config,\n",
    "    )\n",
    "\n",
    "# Exclude the prompt tokens from the generated output\n",
    "generated_tokens = outputs[0][len(encoding.input_ids[0]):]\n",
    "print(tokenizer.decode(generated_tokens, skip_special_tokens=True).strip())"
   ]
  },
  {
   "cell_type": "markdown",
   "metadata": {},
   "source": [
    "# Kaggle dataset"
   ]
  },
  {
   "cell_type": "code",
   "execution_count": 24,
   "metadata": {},
   "outputs": [
    {
     "data": {
      "application/vnd.jupyter.widget-view+json": {
       "model_id": "c77270d514864ad88035194c5e3d38b9",
       "version_major": 2,
       "version_minor": 0
      },
      "text/plain": [
       "Generating train split: 0 examples [00:00, ? examples/s]"
      ]
     },
     "metadata": {},
     "output_type": "display_data"
    },
    {
     "data": {
      "text/plain": [
       "DatasetDict({\n",
       "    train: Dataset({\n",
       "        features: ['question', 'answer'],\n",
       "        num_rows: 224\n",
       "    })\n",
       "})"
      ]
     },
     "execution_count": 24,
     "metadata": {},
     "output_type": "execute_result"
    }
   ],
   "source": [
    "data = load_dataset(\"json\", data_files=\"dataset.json\")\n",
    "data"
   ]
  },
  {
   "cell_type": "code",
   "execution_count": 25,
   "metadata": {},
   "outputs": [
    {
     "data": {
      "text/plain": [
       "{'question': 'What is the difference between Boolean retrieval and ranked retrieval?',\n",
       " 'answer': 'Boolean retrieval returns all documents that match a query using AND, OR, or NOT operators and is suitable for small/medium collections. Ranked retrieval, used for large collections, orders documents by their relevance to the query based on a similarity function and returns only the top results.'}"
      ]
     },
     "execution_count": 25,
     "metadata": {},
     "output_type": "execute_result"
    }
   ],
   "source": [
    "data[\"train\"][0]"
   ]
  },
  {
   "cell_type": "code",
   "execution_count": 26,
   "metadata": {},
   "outputs": [],
   "source": [
    "def generate_prompt(data_point):\n",
    "    return f\"\"\"\n",
    "    <human>: {data_point[\"question\"]}\n",
    "    <assistant>: {data_point[\"answer\"]}\n",
    "    \"\"\".strip()\n",
    "\n",
    "\n",
    "def generate_and_tokenize_prompt(data_point):\n",
    "    full_prompt = generate_prompt(data_point)\n",
    "    encoding = tokenizer(full_prompt, padding=True, truncation=True)\n",
    "    return encoding"
   ]
  },
  {
   "cell_type": "code",
   "execution_count": 27,
   "metadata": {},
   "outputs": [
    {
     "data": {
      "application/vnd.jupyter.widget-view+json": {
       "model_id": "0ccf024bbfad472eb2d49711bff35ac7",
       "version_major": 2,
       "version_minor": 0
      },
      "text/plain": [
       "Map:   0%|          | 0/224 [00:00<?, ? examples/s]"
      ]
     },
     "metadata": {},
     "output_type": "display_data"
    },
    {
     "data": {
      "text/plain": [
       "Dataset({\n",
       "    features: ['question', 'answer', 'input_ids', 'attention_mask'],\n",
       "    num_rows: 224\n",
       "})"
      ]
     },
     "execution_count": 27,
     "metadata": {},
     "output_type": "execute_result"
    }
   ],
   "source": [
    "data = data[\"train\"].shuffle(seed=42).map(generate_and_tokenize_prompt)\n",
    "data"
   ]
  },
  {
   "cell_type": "markdown",
   "metadata": {},
   "source": [
    "# Training"
   ]
  },
  {
   "cell_type": "code",
   "execution_count": 28,
   "metadata": {},
   "outputs": [],
   "source": [
    "OUTPUT_DIR = \"experiments\""
   ]
  },
  {
   "cell_type": "code",
   "execution_count": 29,
   "metadata": {},
   "outputs": [
    {
     "data": {
      "text/plain": [
       "Reusing TensorBoard on port 8080 (pid 20688), started 1 day, 3:45:02 ago. (Use '!kill 20688' to kill it.)"
      ]
     },
     "metadata": {},
     "output_type": "display_data"
    },
    {
     "data": {
      "text/html": [
       "\n",
       "      <iframe id=\"tensorboard-frame-ac07dc5d89225c84\" width=\"100%\" height=\"800\" frameborder=\"0\">\n",
       "      </iframe>\n",
       "      <script>\n",
       "        (function() {\n",
       "          const frame = document.getElementById(\"tensorboard-frame-ac07dc5d89225c84\");\n",
       "          const url = new URL(\"http://localhost\");\n",
       "          const port = 8080;\n",
       "          if (port) {\n",
       "            url.port = port;\n",
       "          }\n",
       "          frame.src = url;\n",
       "        })();\n",
       "      </script>\n",
       "    "
      ],
      "text/plain": [
       "<IPython.core.display.HTML object>"
      ]
     },
     "metadata": {},
     "output_type": "display_data"
    }
   ],
   "source": [
    "%reload_ext tensorboard\n",
    "%tensorboard --logdir experiments/runs --port 8080"
   ]
  },
  {
   "cell_type": "code",
   "execution_count": 30,
   "metadata": {},
   "outputs": [
    {
     "data": {
      "application/vnd.jupyter.widget-view+json": {
       "model_id": "4265785bed9a41a48fdf8f083633946c",
       "version_major": 2,
       "version_minor": 0
      },
      "text/plain": [
       "  0%|          | 0/300 [00:00<?, ?it/s]"
      ]
     },
     "metadata": {},
     "output_type": "display_data"
    },
    {
     "name": "stderr",
     "output_type": "stream",
     "text": [
      "c:\\Users\\giuli\\miniconda3\\envs\\lm\\Lib\\site-packages\\torch\\_dynamo\\eval_frame.py:632: UserWarning: torch.utils.checkpoint: the use_reentrant parameter should be passed explicitly. In version 2.5 we will raise an exception if use_reentrant is not passed. use_reentrant=False is recommended, but if you need to preserve the current default behavior, you can pass use_reentrant=True. Refer to docs for more details on the differences between the two variants.\n",
      "  return fn(*args, **kwargs)\n"
     ]
    },
    {
     "name": "stdout",
     "output_type": "stream",
     "text": [
      "{'loss': 15.2194, 'grad_norm': nan, 'learning_rate': 0.0, 'epoch': 0.02}\n",
      "{'loss': 15.6679, 'grad_norm': nan, 'learning_rate': 0.0, 'epoch': 0.04}\n",
      "{'loss': 16.076, 'grad_norm': 17.363370895385742, 'learning_rate': 1.3333333333333333e-05, 'epoch': 0.05}\n",
      "{'loss': 15.1489, 'grad_norm': 13.451471328735352, 'learning_rate': 2.6666666666666667e-05, 'epoch': 0.07}\n",
      "{'loss': 15.2705, 'grad_norm': 13.278093338012695, 'learning_rate': 4e-05, 'epoch': 0.09}\n",
      "{'loss': 13.463, 'grad_norm': 12.528597831726074, 'learning_rate': 5.333333333333333e-05, 'epoch': 0.11}\n",
      "{'loss': 13.2503, 'grad_norm': 13.401408195495605, 'learning_rate': 6.666666666666667e-05, 'epoch': 0.12}\n",
      "{'loss': 12.4462, 'grad_norm': 13.470044136047363, 'learning_rate': 8e-05, 'epoch': 0.14}\n",
      "{'loss': 14.2793, 'grad_norm': 11.44482707977295, 'learning_rate': 9.333333333333334e-05, 'epoch': 0.16}\n",
      "{'loss': 12.363, 'grad_norm': 12.43676471710205, 'learning_rate': 0.00010666666666666667, 'epoch': 0.18}\n",
      "{'loss': 11.0518, 'grad_norm': 11.589593887329102, 'learning_rate': 0.00012, 'epoch': 0.2}\n",
      "{'loss': 11.9478, 'grad_norm': 13.534698486328125, 'learning_rate': 0.00013333333333333334, 'epoch': 0.21}\n",
      "{'loss': 9.3542, 'grad_norm': 9.403289794921875, 'learning_rate': 0.00014666666666666666, 'epoch': 0.23}\n",
      "{'loss': 9.1507, 'grad_norm': 11.237235069274902, 'learning_rate': 0.00016, 'epoch': 0.25}\n",
      "{'loss': 8.0905, 'grad_norm': 13.237592697143555, 'learning_rate': 0.00017333333333333334, 'epoch': 0.27}\n",
      "{'loss': 5.7529, 'grad_norm': 10.353809356689453, 'learning_rate': 0.0001866666666666667, 'epoch': 0.29}\n",
      "{'loss': 6.7216, 'grad_norm': 9.727890968322754, 'learning_rate': 0.0002, 'epoch': 0.3}\n",
      "{'loss': 9.2356, 'grad_norm': 11.968381881713867, 'learning_rate': 0.00019999392458943432, 'epoch': 0.32}\n",
      "{'loss': 7.9585, 'grad_norm': 12.805853843688965, 'learning_rate': 0.00019997569909594947, 'epoch': 0.34}\n",
      "{'loss': 7.183, 'grad_norm': 10.083913803100586, 'learning_rate': 0.00019994532573409262, 'epoch': 0.36}\n",
      "{'loss': 7.0683, 'grad_norm': 10.14605712890625, 'learning_rate': 0.0001999028081944766, 'epoch': 0.38}\n",
      "{'loss': 8.1313, 'grad_norm': 10.288863182067871, 'learning_rate': 0.00019984815164333163, 'epoch': 0.39}\n",
      "{'loss': 5.885, 'grad_norm': 10.64900016784668, 'learning_rate': 0.00019978136272187747, 'epoch': 0.41}\n",
      "{'loss': 7.2831, 'grad_norm': 10.96968936920166, 'learning_rate': 0.0001997024495455165, 'epoch': 0.43}\n",
      "{'loss': 7.251, 'grad_norm': 8.712044715881348, 'learning_rate': 0.00019961142170284762, 'epoch': 0.45}\n",
      "{'loss': 6.661, 'grad_norm': 9.809664726257324, 'learning_rate': 0.00019950829025450114, 'epoch': 0.46}\n",
      "{'loss': 8.09, 'grad_norm': 14.03969955444336, 'learning_rate': 0.00019939306773179497, 'epoch': 0.48}\n",
      "{'loss': 9.3838, 'grad_norm': 13.522764205932617, 'learning_rate': 0.00019926576813521164, 'epoch': 0.5}\n",
      "{'loss': 6.7652, 'grad_norm': 12.698566436767578, 'learning_rate': 0.00019912640693269752, 'epoch': 0.52}\n",
      "{'loss': 7.2499, 'grad_norm': 14.664826393127441, 'learning_rate': 0.000198975001057783, 'epoch': 0.54}\n",
      "{'loss': 6.2214, 'grad_norm': 13.527671813964844, 'learning_rate': 0.00019881156890752517, 'epoch': 0.55}\n",
      "{'loss': 5.9653, 'grad_norm': 16.23397445678711, 'learning_rate': 0.00019863613034027224, 'epoch': 0.57}\n",
      "{'loss': 7.055, 'grad_norm': 16.387157440185547, 'learning_rate': 0.00019844870667325073, 'epoch': 0.59}\n",
      "{'loss': 5.4388, 'grad_norm': 12.82104778289795, 'learning_rate': 0.00019824932067997515, 'epoch': 0.61}\n",
      "{'loss': 4.5869, 'grad_norm': 7.214505195617676, 'learning_rate': 0.00019803799658748094, 'epoch': 0.62}\n",
      "{'loss': 7.3314, 'grad_norm': 11.84975814819336, 'learning_rate': 0.00019781476007338058, 'epoch': 0.64}\n",
      "{'loss': 6.3028, 'grad_norm': 8.597392082214355, 'learning_rate': 0.00019757963826274357, 'epoch': 0.66}\n",
      "{'loss': 6.8198, 'grad_norm': 11.140888214111328, 'learning_rate': 0.0001973326597248006, 'epoch': 0.68}\n",
      "{'loss': 5.8019, 'grad_norm': 10.630403518676758, 'learning_rate': 0.000197073854469472, 'epoch': 0.7}\n",
      "{'loss': 5.4372, 'grad_norm': 9.99226188659668, 'learning_rate': 0.0001968032539437215, 'epoch': 0.71}\n",
      "{'loss': 4.6172, 'grad_norm': 9.904435157775879, 'learning_rate': 0.00019652089102773488, 'epoch': 0.73}\n",
      "{'loss': 6.7586, 'grad_norm': 11.620512962341309, 'learning_rate': 0.00019622680003092503, 'epoch': 0.75}\n",
      "{'loss': 5.2217, 'grad_norm': 9.079071998596191, 'learning_rate': 0.00019592101668776298, 'epoch': 0.77}\n",
      "{'loss': 7.5513, 'grad_norm': 13.472672462463379, 'learning_rate': 0.00019560357815343577, 'epoch': 0.79}\n",
      "{'loss': 5.5168, 'grad_norm': 10.27572250366211, 'learning_rate': 0.0001952745229993319, 'epoch': 0.8}\n",
      "{'loss': 5.7649, 'grad_norm': 10.166740417480469, 'learning_rate': 0.00019493389120835462, 'epoch': 0.82}\n",
      "{'loss': 3.753, 'grad_norm': 7.236254692077637, 'learning_rate': 0.00019458172417006347, 'epoch': 0.84}\n",
      "{'loss': 5.4218, 'grad_norm': 10.459726333618164, 'learning_rate': 0.00019421806467564544, 'epoch': 0.86}\n",
      "{'loss': 6.5205, 'grad_norm': 8.889917373657227, 'learning_rate': 0.00019384295691271522, 'epoch': 0.88}\n",
      "{'loss': 6.0179, 'grad_norm': 10.265180587768555, 'learning_rate': 0.0001934564464599461, 'epoch': 0.89}\n",
      "{'loss': 6.6277, 'grad_norm': 9.54465103149414, 'learning_rate': 0.00019305858028153186, 'epoch': 0.91}\n",
      "{'loss': 7.6668, 'grad_norm': 8.726627349853516, 'learning_rate': 0.00019264940672148018, 'epoch': 0.93}\n",
      "{'loss': 6.9036, 'grad_norm': 10.336315155029297, 'learning_rate': 0.00019222897549773848, 'epoch': 0.95}\n",
      "{'loss': 7.1728, 'grad_norm': 11.056300163269043, 'learning_rate': 0.0001917973376961527, 'epoch': 0.96}\n",
      "{'loss': 7.2606, 'grad_norm': 15.345455169677734, 'learning_rate': 0.0001913545457642601, 'epoch': 0.98}\n",
      "{'loss': 6.1408, 'grad_norm': 9.588810920715332, 'learning_rate': 0.00019090065350491626, 'epoch': 1.0}\n",
      "{'loss': 4.4272, 'grad_norm': 7.421998977661133, 'learning_rate': 0.00019043571606975777, 'epoch': 1.02}\n",
      "{'loss': 3.8711, 'grad_norm': 7.577395439147949, 'learning_rate': 0.0001899597899525007, 'epoch': 1.04}\n",
      "{'loss': 3.9922, 'grad_norm': 9.353368759155273, 'learning_rate': 0.00018947293298207635, 'epoch': 1.05}\n",
      "{'loss': 4.2077, 'grad_norm': 8.329985618591309, 'learning_rate': 0.00018897520431560434, 'epoch': 1.07}\n",
      "{'loss': 5.2725, 'grad_norm': 9.004463195800781, 'learning_rate': 0.0001884666644312046, 'epoch': 1.09}\n",
      "{'loss': 5.2629, 'grad_norm': 8.8854398727417, 'learning_rate': 0.0001879473751206489, 'epoch': 1.11}\n",
      "{'loss': 5.7273, 'grad_norm': 8.00762939453125, 'learning_rate': 0.00018741739948185257, 'epoch': 1.12}\n",
      "{'loss': 4.1618, 'grad_norm': 7.742400169372559, 'learning_rate': 0.00018687680191120743, 'epoch': 1.14}\n",
      "{'loss': 4.4696, 'grad_norm': 9.022172927856445, 'learning_rate': 0.00018632564809575742, 'epoch': 1.16}\n",
      "{'loss': 4.8881, 'grad_norm': 9.661418914794922, 'learning_rate': 0.00018576400500521672, 'epoch': 1.18}\n",
      "{'loss': 4.6349, 'grad_norm': 8.187474250793457, 'learning_rate': 0.00018519194088383273, 'epoch': 1.2}\n",
      "{'loss': 5.0925, 'grad_norm': 8.592615127563477, 'learning_rate': 0.00018460952524209355, 'epoch': 1.21}\n",
      "{'loss': 7.7346, 'grad_norm': 11.32572078704834, 'learning_rate': 0.00018401682884828212, 'epoch': 1.23}\n",
      "{'loss': 3.2694, 'grad_norm': 7.333794593811035, 'learning_rate': 0.000183413923719877, 'epoch': 1.25}\n",
      "{'loss': 4.0596, 'grad_norm': 7.991454124450684, 'learning_rate': 0.00018280088311480201, 'epoch': 1.27}\n",
      "{'loss': 4.1425, 'grad_norm': 8.935441970825195, 'learning_rate': 0.0001821777815225245, 'epoch': 1.29}\n",
      "{'loss': 4.3123, 'grad_norm': 13.133142471313477, 'learning_rate': 0.00018154469465500448, 'epoch': 1.3}\n",
      "{'loss': 4.8696, 'grad_norm': 8.962274551391602, 'learning_rate': 0.00018090169943749476, 'epoch': 1.32}\n",
      "{'loss': 3.8006, 'grad_norm': 8.39726448059082, 'learning_rate': 0.0001802488739991941, 'epoch': 1.34}\n",
      "{'loss': 5.3927, 'grad_norm': 10.822402954101562, 'learning_rate': 0.00017958629766375386, 'epoch': 1.36}\n",
      "{'loss': 4.1277, 'grad_norm': 10.259696006774902, 'learning_rate': 0.00017891405093963938, 'epoch': 1.38}\n",
      "{'loss': 5.4915, 'grad_norm': 13.752511978149414, 'learning_rate': 0.00017823221551034764, 'epoch': 1.39}\n",
      "{'loss': 5.9086, 'grad_norm': 11.921660423278809, 'learning_rate': 0.00017754087422448215, 'epoch': 1.41}\n",
      "{'loss': 4.6056, 'grad_norm': 10.742048263549805, 'learning_rate': 0.00017684011108568592, 'epoch': 1.43}\n",
      "{'loss': 4.5379, 'grad_norm': 11.673029899597168, 'learning_rate': 0.00017613001124243446, 'epoch': 1.45}\n",
      "{'loss': 5.1196, 'grad_norm': 11.22488021850586, 'learning_rate': 0.00017541066097768963, 'epoch': 1.46}\n",
      "{'loss': 5.2228, 'grad_norm': 11.891372680664062, 'learning_rate': 0.0001746821476984154, 'epoch': 1.48}\n",
      "{'loss': 3.2464, 'grad_norm': 9.29970932006836, 'learning_rate': 0.00017394455992495722, 'epoch': 1.5}\n",
      "{'loss': 4.2424, 'grad_norm': 10.839581489562988, 'learning_rate': 0.00017319798728028619, 'epoch': 1.52}\n",
      "{'loss': 5.1285, 'grad_norm': 11.626036643981934, 'learning_rate': 0.00017244252047910892, 'epoch': 1.54}\n",
      "{'loss': 4.2117, 'grad_norm': 10.08361530303955, 'learning_rate': 0.00017167825131684513, 'epoch': 1.55}\n",
      "{'loss': 3.6066, 'grad_norm': 10.464645385742188, 'learning_rate': 0.00017090527265847377, 'epoch': 1.57}\n",
      "{'loss': 3.2067, 'grad_norm': 8.034479141235352, 'learning_rate': 0.00017012367842724887, 'epoch': 1.59}\n",
      "{'loss': 3.5289, 'grad_norm': 9.963703155517578, 'learning_rate': 0.00016933356359328757, 'epoch': 1.61}\n",
      "{'loss': 3.0066, 'grad_norm': 7.58738899230957, 'learning_rate': 0.00016853502416203, 'epoch': 1.62}\n",
      "{'loss': 3.1198, 'grad_norm': 8.30301570892334, 'learning_rate': 0.00016772815716257412, 'epoch': 1.64}\n",
      "{'loss': 3.6539, 'grad_norm': 9.212069511413574, 'learning_rate': 0.00016691306063588583, 'epoch': 1.66}\n",
      "{'loss': 4.6062, 'grad_norm': 10.005807876586914, 'learning_rate': 0.00016608983362288612, 'epoch': 1.68}\n",
      "{'loss': 4.1184, 'grad_norm': 11.816943168640137, 'learning_rate': 0.00016525857615241687, 'epoch': 1.7}\n",
      "{'loss': 3.0211, 'grad_norm': 7.3985819816589355, 'learning_rate': 0.00016441938922908645, 'epoch': 1.71}\n",
      "{'loss': 2.9471, 'grad_norm': 10.487597465515137, 'learning_rate': 0.00016357237482099684, 'epoch': 1.73}\n",
      "{'loss': 3.8821, 'grad_norm': 9.238058090209961, 'learning_rate': 0.0001627176358473537, 'epoch': 1.75}\n",
      "{'loss': 4.8008, 'grad_norm': 9.14476203918457, 'learning_rate': 0.00016185527616596095, 'epoch': 1.77}\n",
      "{'loss': 5.0987, 'grad_norm': 11.764256477355957, 'learning_rate': 0.00016098540056060093, 'epoch': 1.79}\n",
      "{'loss': 3.9008, 'grad_norm': 9.311878204345703, 'learning_rate': 0.00016010811472830252, 'epoch': 1.8}\n",
      "{'loss': 6.323, 'grad_norm': 12.135092735290527, 'learning_rate': 0.00015922352526649803, 'epoch': 1.82}\n",
      "{'loss': 2.4378, 'grad_norm': 8.515708923339844, 'learning_rate': 0.00015833173966007066, 'epoch': 1.84}\n",
      "{'loss': 4.6852, 'grad_norm': 13.687665939331055, 'learning_rate': 0.00015743286626829437, 'epoch': 1.86}\n",
      "{'loss': 3.2819, 'grad_norm': 9.838446617126465, 'learning_rate': 0.0001565270143116672, 'epoch': 1.88}\n",
      "{'loss': 2.9079, 'grad_norm': 8.272579193115234, 'learning_rate': 0.00015561429385864005, 'epoch': 1.89}\n",
      "{'loss': 4.0099, 'grad_norm': 10.307429313659668, 'learning_rate': 0.0001546948158122427, 'epoch': 1.91}\n",
      "{'loss': 5.5228, 'grad_norm': 12.406278610229492, 'learning_rate': 0.00015376869189660783, 'epoch': 1.93}\n",
      "{'loss': 4.0305, 'grad_norm': 9.520830154418945, 'learning_rate': 0.0001528360346433959, 'epoch': 1.95}\n",
      "{'loss': 4.0313, 'grad_norm': 16.13511848449707, 'learning_rate': 0.00015189695737812152, 'epoch': 1.96}\n",
      "{'loss': 4.5008, 'grad_norm': 12.305521011352539, 'learning_rate': 0.00015095157420638348, 'epoch': 1.98}\n",
      "{'loss': 4.6565, 'grad_norm': 11.5574369430542, 'learning_rate': 0.00015000000000000001, 'epoch': 2.0}\n",
      "{'loss': 2.7283, 'grad_norm': 8.053339958190918, 'learning_rate': 0.00014904235038305083, 'epoch': 2.02}\n",
      "{'loss': 2.0473, 'grad_norm': 7.536815166473389, 'learning_rate': 0.00014807874171782795, 'epoch': 2.04}\n",
      "{'loss': 2.7883, 'grad_norm': 9.685726165771484, 'learning_rate': 0.00014710929109069674, 'epoch': 2.05}\n",
      "{'loss': 2.1824, 'grad_norm': 7.402939796447754, 'learning_rate': 0.0001461341162978688, 'epoch': 2.07}\n",
      "{'loss': 3.1584, 'grad_norm': 9.06001091003418, 'learning_rate': 0.00014515333583108896, 'epoch': 2.09}\n",
      "{'loss': 2.2869, 'grad_norm': 7.772154808044434, 'learning_rate': 0.0001441670688632374, 'epoch': 2.11}\n",
      "{'loss': 1.9795, 'grad_norm': 8.222785949707031, 'learning_rate': 0.00014317543523384928, 'epoch': 2.12}\n",
      "{'loss': 2.5128, 'grad_norm': 9.728470802307129, 'learning_rate': 0.00014217855543455322, 'epoch': 2.14}\n",
      "{'loss': 2.5645, 'grad_norm': 11.787479400634766, 'learning_rate': 0.0001411765505944305, 'epoch': 2.16}\n",
      "{'loss': 2.9587, 'grad_norm': 8.936684608459473, 'learning_rate': 0.00014016954246529696, 'epoch': 2.18}\n",
      "{'loss': 2.2953, 'grad_norm': 11.14855670928955, 'learning_rate': 0.00013915765340690917, 'epoch': 2.2}\n",
      "{'loss': 2.0668, 'grad_norm': 10.094913482666016, 'learning_rate': 0.0001381410063720966, 'epoch': 2.21}\n",
      "{'loss': 2.7497, 'grad_norm': 19.906444549560547, 'learning_rate': 0.00013711972489182208, 'epoch': 2.23}\n",
      "{'loss': 2.0878, 'grad_norm': 12.726262092590332, 'learning_rate': 0.0001360939330601715, 'epoch': 2.25}\n",
      "{'loss': 2.1734, 'grad_norm': 9.021038055419922, 'learning_rate': 0.00013506375551927547, 'epoch': 2.27}\n",
      "{'loss': 1.8688, 'grad_norm': 11.254505157470703, 'learning_rate': 0.00013402931744416433, 'epoch': 2.29}\n",
      "{'loss': 1.6515, 'grad_norm': 11.21544075012207, 'learning_rate': 0.0001329907445275583, 'epoch': 2.3}\n",
      "{'loss': 3.4542, 'grad_norm': 11.679323196411133, 'learning_rate': 0.0001319481629645948, 'epoch': 2.32}\n",
      "{'loss': 2.8517, 'grad_norm': 13.812777519226074, 'learning_rate': 0.00013090169943749476, 'epoch': 2.34}\n",
      "{'loss': 3.189, 'grad_norm': 12.170367240905762, 'learning_rate': 0.00012985148110016947, 'epoch': 2.36}\n",
      "{'loss': 1.9119, 'grad_norm': 13.21249008178711, 'learning_rate': 0.00012879763556277062, 'epoch': 2.38}\n",
      "{'loss': 2.0479, 'grad_norm': 8.326993942260742, 'learning_rate': 0.00012774029087618446, 'epoch': 2.39}\n",
      "{'loss': 2.6576, 'grad_norm': 10.917757034301758, 'learning_rate': 0.00012667957551647262, 'epoch': 2.41}\n",
      "{'loss': 2.1427, 'grad_norm': 10.372856140136719, 'learning_rate': 0.00012561561836926113, 'epoch': 2.43}\n",
      "{'loss': 3.3007, 'grad_norm': 11.39275074005127, 'learning_rate': 0.00012454854871407994, 'epoch': 2.45}\n",
      "{'loss': 2.0481, 'grad_norm': 10.269189834594727, 'learning_rate': 0.0001234784962086541, 'epoch': 2.46}\n",
      "{'loss': 1.4754, 'grad_norm': 9.411449432373047, 'learning_rate': 0.0001224055908731496, 'epoch': 2.48}\n",
      "{'loss': 2.7477, 'grad_norm': 13.681906700134277, 'learning_rate': 0.0001213299630743747, 'epoch': 2.5}\n",
      "{'loss': 2.4686, 'grad_norm': 11.92076301574707, 'learning_rate': 0.00012025174350993922, 'epoch': 2.52}\n",
      "{'loss': 3.2002, 'grad_norm': 15.617748260498047, 'learning_rate': 0.00011917106319237386, 'epoch': 2.54}\n",
      "{'loss': 2.4501, 'grad_norm': 8.563788414001465, 'learning_rate': 0.000118088053433211, 'epoch': 2.55}\n",
      "{'loss': 1.7296, 'grad_norm': 10.816078186035156, 'learning_rate': 0.00011700284582702932, 'epoch': 2.57}\n",
      "{'loss': 2.1509, 'grad_norm': 7.608968734741211, 'learning_rate': 0.00011591557223546395, 'epoch': 2.59}\n",
      "{'loss': 1.659, 'grad_norm': 6.784584999084473, 'learning_rate': 0.0001148263647711842, 'epoch': 2.61}\n",
      "{'loss': 2.5559, 'grad_norm': 10.42430305480957, 'learning_rate': 0.00011373535578184082, 'epoch': 2.62}\n",
      "{'loss': 2.2972, 'grad_norm': 10.542628288269043, 'learning_rate': 0.00011264267783398463, 'epoch': 2.64}\n",
      "{'loss': 2.3215, 'grad_norm': 10.176092147827148, 'learning_rate': 0.00011154846369695863, 'epoch': 2.66}\n",
      "{'loss': 2.072, 'grad_norm': 7.704169750213623, 'learning_rate': 0.00011045284632676536, 'epoch': 2.68}\n",
      "{'loss': 1.9475, 'grad_norm': 7.5345048904418945, 'learning_rate': 0.00010935595884991178, 'epoch': 2.7}\n",
      "{'loss': 1.6442, 'grad_norm': 7.953896522521973, 'learning_rate': 0.00010825793454723325, 'epoch': 2.71}\n",
      "{'loss': 2.0635, 'grad_norm': 9.374250411987305, 'learning_rate': 0.00010715890683769872, 'epoch': 2.73}\n",
      "{'loss': 2.5796, 'grad_norm': 11.192545890808105, 'learning_rate': 0.00010605900926219939, 'epoch': 2.75}\n",
      "{'loss': 3.1089, 'grad_norm': 9.145177841186523, 'learning_rate': 0.00010495837546732224, 'epoch': 2.77}\n",
      "{'loss': 2.3513, 'grad_norm': 9.455897331237793, 'learning_rate': 0.00010385713918911105, 'epoch': 2.79}\n",
      "{'loss': 1.9927, 'grad_norm': 8.58627700805664, 'learning_rate': 0.00010275543423681621, 'epoch': 2.8}\n",
      "{'loss': 2.5136, 'grad_norm': 11.753349304199219, 'learning_rate': 0.00010165339447663587, 'epoch': 2.82}\n",
      "{'loss': 1.358, 'grad_norm': 8.263814926147461, 'learning_rate': 0.00010055115381545006, 'epoch': 2.84}\n",
      "{'loss': 2.5808, 'grad_norm': 12.229745864868164, 'learning_rate': 9.944884618454996e-05, 'epoch': 2.86}\n",
      "{'loss': 2.2021, 'grad_norm': 12.40793228149414, 'learning_rate': 9.834660552336415e-05, 'epoch': 2.88}\n",
      "{'loss': 2.9528, 'grad_norm': 10.737667083740234, 'learning_rate': 9.724456576318381e-05, 'epoch': 2.89}\n",
      "{'loss': 2.585, 'grad_norm': 13.354630470275879, 'learning_rate': 9.614286081088895e-05, 'epoch': 2.91}\n",
      "{'loss': 1.9754, 'grad_norm': 10.361156463623047, 'learning_rate': 9.504162453267777e-05, 'epoch': 2.93}\n",
      "{'loss': 1.6734, 'grad_norm': 8.171170234680176, 'learning_rate': 9.394099073780066e-05, 'epoch': 2.95}\n",
      "{'loss': 2.2022, 'grad_norm': 13.072575569152832, 'learning_rate': 9.284109316230133e-05, 'epoch': 2.96}\n",
      "{'loss': 2.2544, 'grad_norm': 9.94588565826416, 'learning_rate': 9.174206545276677e-05, 'epoch': 2.98}\n",
      "{'loss': 1.9535, 'grad_norm': 9.36800479888916, 'learning_rate': 9.064404115008823e-05, 'epoch': 3.0}\n",
      "{'loss': 2.0881, 'grad_norm': 6.420863151550293, 'learning_rate': 8.954715367323468e-05, 'epoch': 3.02}\n",
      "{'loss': 1.6596, 'grad_norm': 10.65958023071289, 'learning_rate': 8.845153630304139e-05, 'epoch': 3.04}\n",
      "{'loss': 1.2756, 'grad_norm': 6.133151531219482, 'learning_rate': 8.735732216601538e-05, 'epoch': 3.05}\n",
      "{'loss': 1.8571, 'grad_norm': 9.893282890319824, 'learning_rate': 8.626464421815919e-05, 'epoch': 3.07}\n",
      "{'loss': 1.4064, 'grad_norm': 6.503770351409912, 'learning_rate': 8.517363522881579e-05, 'epoch': 3.09}\n",
      "{'loss': 1.1238, 'grad_norm': 6.768908977508545, 'learning_rate': 8.408442776453605e-05, 'epoch': 3.11}\n",
      "{'loss': 1.222, 'grad_norm': 6.372254371643066, 'learning_rate': 8.299715417297071e-05, 'epoch': 3.12}\n",
      "{'loss': 1.1885, 'grad_norm': 6.504284381866455, 'learning_rate': 8.191194656678904e-05, 'epoch': 3.14}\n",
      "{'loss': 1.2905, 'grad_norm': 8.67979621887207, 'learning_rate': 8.082893680762619e-05, 'epoch': 3.16}\n",
      "{'loss': 1.2304, 'grad_norm': 7.676226615905762, 'learning_rate': 7.974825649006081e-05, 'epoch': 3.18}\n",
      "{'loss': 1.2665, 'grad_norm': 9.391493797302246, 'learning_rate': 7.867003692562534e-05, 'epoch': 3.2}\n",
      "{'loss': 1.4637, 'grad_norm': 11.093914031982422, 'learning_rate': 7.759440912685042e-05, 'epoch': 3.21}\n",
      "{'loss': 1.1627, 'grad_norm': 8.923355102539062, 'learning_rate': 7.652150379134592e-05, 'epoch': 3.23}\n",
      "{'loss': 1.0971, 'grad_norm': 7.6202006340026855, 'learning_rate': 7.54514512859201e-05, 'epoch': 3.25}\n",
      "{'loss': 0.9523, 'grad_norm': 6.892252445220947, 'learning_rate': 7.438438163073884e-05, 'epoch': 3.27}\n",
      "{'loss': 1.624, 'grad_norm': 15.178939819335938, 'learning_rate': 7.332042448352738e-05, 'epoch': 3.29}\n",
      "{'loss': 1.2106, 'grad_norm': 10.10651683807373, 'learning_rate': 7.225970912381556e-05, 'epoch': 3.3}\n",
      "{'loss': 1.5475, 'grad_norm': 11.393148422241211, 'learning_rate': 7.12023644372294e-05, 'epoch': 3.32}\n",
      "{'loss': 1.1891, 'grad_norm': 7.966829776763916, 'learning_rate': 7.014851889983057e-05, 'epoch': 3.34}\n",
      "{'loss': 1.1756, 'grad_norm': 9.480096817016602, 'learning_rate': 6.909830056250527e-05, 'epoch': 3.36}\n",
      "{'loss': 1.2401, 'grad_norm': 12.660929679870605, 'learning_rate': 6.80518370354052e-05, 'epoch': 3.38}\n",
      "{'loss': 1.0738, 'grad_norm': 5.9228973388671875, 'learning_rate': 6.700925547244173e-05, 'epoch': 3.39}\n",
      "{'loss': 0.9539, 'grad_norm': 6.372591495513916, 'learning_rate': 6.59706825558357e-05, 'epoch': 3.41}\n",
      "{'loss': 1.7131, 'grad_norm': 9.539952278137207, 'learning_rate': 6.493624448072457e-05, 'epoch': 3.43}\n",
      "{'loss': 1.2271, 'grad_norm': 9.146893501281738, 'learning_rate': 6.390606693982855e-05, 'epoch': 3.45}\n",
      "{'loss': 1.494, 'grad_norm': 10.824331283569336, 'learning_rate': 6.28802751081779e-05, 'epoch': 3.46}\n",
      "{'loss': 1.1865, 'grad_norm': 12.772737503051758, 'learning_rate': 6.185899362790339e-05, 'epoch': 3.48}\n",
      "{'loss': 1.3571, 'grad_norm': 11.873086929321289, 'learning_rate': 6.084234659309088e-05, 'epoch': 3.5}\n",
      "{'loss': 1.3527, 'grad_norm': 8.74938678741455, 'learning_rate': 5.983045753470308e-05, 'epoch': 3.52}\n",
      "{'loss': 1.1612, 'grad_norm': 7.40858793258667, 'learning_rate': 5.8823449405569516e-05, 'epoch': 3.54}\n",
      "{'loss': 1.2163, 'grad_norm': 9.011005401611328, 'learning_rate': 5.78214445654468e-05, 'epoch': 3.55}\n",
      "{'loss': 1.3098, 'grad_norm': 9.007792472839355, 'learning_rate': 5.6824564766150726e-05, 'epoch': 3.57}\n",
      "{'loss': 0.9921, 'grad_norm': 7.500102519989014, 'learning_rate': 5.58329311367626e-05, 'epoch': 3.59}\n",
      "{'loss': 1.4814, 'grad_norm': 10.115941047668457, 'learning_rate': 5.484666416891109e-05, 'epoch': 3.61}\n",
      "{'loss': 1.4825, 'grad_norm': 8.76133918762207, 'learning_rate': 5.386588370213124e-05, 'epoch': 3.62}\n",
      "{'loss': 1.2292, 'grad_norm': 6.3299360275268555, 'learning_rate': 5.289070890930328e-05, 'epoch': 3.64}\n",
      "{'loss': 1.0506, 'grad_norm': 5.4543633460998535, 'learning_rate': 5.1921258282172024e-05, 'epoch': 3.66}\n",
      "{'loss': 1.8011, 'grad_norm': 8.410666465759277, 'learning_rate': 5.095764961694922e-05, 'epoch': 3.68}\n",
      "{'loss': 1.448, 'grad_norm': 7.627675533294678, 'learning_rate': 5.000000000000002e-05, 'epoch': 3.7}\n",
      "{'loss': 1.4526, 'grad_norm': 7.924875259399414, 'learning_rate': 4.904842579361653e-05, 'epoch': 3.71}\n",
      "{'loss': 1.4896, 'grad_norm': 10.065622329711914, 'learning_rate': 4.810304262187852e-05, 'epoch': 3.73}\n",
      "{'loss': 1.2321, 'grad_norm': 9.328361511230469, 'learning_rate': 4.7163965356604125e-05, 'epoch': 3.75}\n",
      "{'loss': 1.175, 'grad_norm': 6.773402214050293, 'learning_rate': 4.623130810339219e-05, 'epoch': 3.77}\n",
      "{'loss': 1.3636, 'grad_norm': 9.403589248657227, 'learning_rate': 4.530518418775733e-05, 'epoch': 3.79}\n",
      "{'loss': 1.4731, 'grad_norm': 9.338505744934082, 'learning_rate': 4.438570614135994e-05, 'epoch': 3.8}\n",
      "{'loss': 1.3567, 'grad_norm': 8.56153392791748, 'learning_rate': 4.3472985688332815e-05, 'epoch': 3.82}\n",
      "{'loss': 0.9733, 'grad_norm': 5.5528340339660645, 'learning_rate': 4.256713373170564e-05, 'epoch': 3.84}\n",
      "{'loss': 1.4223, 'grad_norm': 8.63794231414795, 'learning_rate': 4.1668260339929385e-05, 'epoch': 3.86}\n",
      "{'loss': 1.1297, 'grad_norm': 6.438687801361084, 'learning_rate': 4.077647473350201e-05, 'epoch': 3.88}\n",
      "{'loss': 1.0155, 'grad_norm': 5.459256172180176, 'learning_rate': 3.9891885271697496e-05, 'epoch': 3.89}\n",
      "{'loss': 0.9146, 'grad_norm': 8.119475364685059, 'learning_rate': 3.90145994393991e-05, 'epoch': 3.91}\n",
      "{'loss': 1.1398, 'grad_norm': 6.7001872062683105, 'learning_rate': 3.8144723834039066e-05, 'epoch': 3.93}\n",
      "{'loss': 1.2593, 'grad_norm': 7.224882125854492, 'learning_rate': 3.7282364152646297e-05, 'epoch': 3.95}\n",
      "{'loss': 1.4571, 'grad_norm': 11.474658966064453, 'learning_rate': 3.642762517900322e-05, 'epoch': 3.96}\n",
      "{'loss': 2.2193, 'grad_norm': 8.306784629821777, 'learning_rate': 3.558061077091359e-05, 'epoch': 3.98}\n",
      "{'loss': 1.0752, 'grad_norm': 6.459283351898193, 'learning_rate': 3.4741423847583134e-05, 'epoch': 4.0}\n",
      "{'loss': 0.9037, 'grad_norm': 6.786661624908447, 'learning_rate': 3.3910166377113894e-05, 'epoch': 4.02}\n",
      "{'loss': 0.8914, 'grad_norm': 5.192031383514404, 'learning_rate': 3.308693936411421e-05, 'epoch': 4.04}\n",
      "{'loss': 0.7686, 'grad_norm': 4.82109260559082, 'learning_rate': 3.227184283742591e-05, 'epoch': 4.05}\n",
      "{'loss': 0.9033, 'grad_norm': 5.383499622344971, 'learning_rate': 3.1464975837970036e-05, 'epoch': 4.07}\n",
      "{'loss': 0.8566, 'grad_norm': 4.93356466293335, 'learning_rate': 3.0666436406712485e-05, 'epoch': 4.09}\n",
      "{'loss': 0.815, 'grad_norm': 4.3850789070129395, 'learning_rate': 2.9876321572751144e-05, 'epoch': 4.11}\n",
      "{'loss': 1.2298, 'grad_norm': 6.2695393562316895, 'learning_rate': 2.9094727341526275e-05, 'epoch': 4.12}\n",
      "{'loss': 1.0757, 'grad_norm': 7.274628162384033, 'learning_rate': 2.8321748683154893e-05, 'epoch': 4.14}\n",
      "{'loss': 0.7876, 'grad_norm': 4.1261372566223145, 'learning_rate': 2.7557479520891104e-05, 'epoch': 4.16}\n",
      "{'loss': 0.9528, 'grad_norm': 4.720877647399902, 'learning_rate': 2.680201271971382e-05, 'epoch': 4.18}\n",
      "{'loss': 0.9046, 'grad_norm': 5.391693592071533, 'learning_rate': 2.6055440075042793e-05, 'epoch': 4.2}\n",
      "{'loss': 0.9231, 'grad_norm': 5.9525299072265625, 'learning_rate': 2.5317852301584643e-05, 'epoch': 4.21}\n",
      "{'loss': 1.2737, 'grad_norm': 6.173789024353027, 'learning_rate': 2.4589339022310386e-05, 'epoch': 4.23}\n",
      "{'loss': 1.0541, 'grad_norm': 6.68245267868042, 'learning_rate': 2.3869988757565543e-05, 'epoch': 4.25}\n",
      "{'loss': 0.8056, 'grad_norm': 4.900646686553955, 'learning_rate': 2.315988891431412e-05, 'epoch': 4.27}\n",
      "{'loss': 1.018, 'grad_norm': 5.753432750701904, 'learning_rate': 2.2459125775517852e-05, 'epoch': 4.29}\n",
      "{'loss': 1.6521, 'grad_norm': 8.264108657836914, 'learning_rate': 2.1767784489652343e-05, 'epoch': 4.3}\n",
      "{'loss': 0.8639, 'grad_norm': 4.49531888961792, 'learning_rate': 2.1085949060360654e-05, 'epoch': 4.32}\n",
      "{'loss': 0.9612, 'grad_norm': 5.6694769859313965, 'learning_rate': 2.0413702336246154e-05, 'epoch': 4.34}\n",
      "{'loss': 0.8964, 'grad_norm': 5.396584510803223, 'learning_rate': 1.9751126000805897e-05, 'epoch': 4.36}\n",
      "{'loss': 0.7259, 'grad_norm': 6.798086643218994, 'learning_rate': 1.9098300562505266e-05, 'epoch': 4.38}\n",
      "{'loss': 0.8157, 'grad_norm': 5.233174800872803, 'learning_rate': 1.8455305344995533e-05, 'epoch': 4.39}\n",
      "{'loss': 0.866, 'grad_norm': 7.411915302276611, 'learning_rate': 1.7822218477475494e-05, 'epoch': 4.41}\n",
      "{'loss': 1.0078, 'grad_norm': 8.00406551361084, 'learning_rate': 1.7199116885197995e-05, 'epoch': 4.43}\n",
      "{'loss': 0.8488, 'grad_norm': 7.361616611480713, 'learning_rate': 1.658607628012303e-05, 'epoch': 4.45}\n",
      "{'loss': 0.8628, 'grad_norm': 5.9439377784729, 'learning_rate': 1.5983171151717923e-05, 'epoch': 4.46}\n",
      "{'loss': 0.875, 'grad_norm': 6.698134422302246, 'learning_rate': 1.5390474757906446e-05, 'epoch': 4.48}\n",
      "{'loss': 0.9147, 'grad_norm': 6.373323917388916, 'learning_rate': 1.4808059116167305e-05, 'epoch': 4.5}\n",
      "{'loss': 0.8478, 'grad_norm': 5.847901344299316, 'learning_rate': 1.4235994994783297e-05, 'epoch': 4.52}\n",
      "{'loss': 0.8002, 'grad_norm': 5.215202331542969, 'learning_rate': 1.3674351904242611e-05, 'epoch': 4.54}\n",
      "{'loss': 0.8084, 'grad_norm': 4.424666881561279, 'learning_rate': 1.3123198088792576e-05, 'epoch': 4.55}\n",
      "{'loss': 1.0612, 'grad_norm': 9.471512794494629, 'learning_rate': 1.2582600518147447e-05, 'epoch': 4.57}\n",
      "{'loss': 0.9517, 'grad_norm': 6.929019927978516, 'learning_rate': 1.2052624879351104e-05, 'epoch': 4.59}\n",
      "{'loss': 0.8141, 'grad_norm': 4.748034954071045, 'learning_rate': 1.1533335568795412e-05, 'epoch': 4.61}\n",
      "{'loss': 0.8597, 'grad_norm': 7.167572498321533, 'learning_rate': 1.1024795684395694e-05, 'epoch': 4.62}\n",
      "{'loss': 0.8714, 'grad_norm': 4.592609882354736, 'learning_rate': 1.0527067017923654e-05, 'epoch': 4.64}\n",
      "{'loss': 0.9234, 'grad_norm': 5.318160533905029, 'learning_rate': 1.0040210047499288e-05, 'epoch': 4.66}\n",
      "{'loss': 0.801, 'grad_norm': 5.578502655029297, 'learning_rate': 9.564283930242257e-06, 'epoch': 4.68}\n",
      "{'loss': 0.8389, 'grad_norm': 4.8232197761535645, 'learning_rate': 9.09934649508375e-06, 'epoch': 4.7}\n",
      "{'loss': 0.8192, 'grad_norm': 9.519545555114746, 'learning_rate': 8.645454235739903e-06, 'epoch': 4.71}\n",
      "{'loss': 0.8669, 'grad_norm': 5.171778202056885, 'learning_rate': 8.202662303847298e-06, 'epoch': 4.73}\n",
      "{'loss': 0.8052, 'grad_norm': 5.861255168914795, 'learning_rate': 7.771024502261526e-06, 'epoch': 4.75}\n",
      "{'loss': 0.914, 'grad_norm': 6.389877796173096, 'learning_rate': 7.350593278519824e-06, 'epoch': 4.77}\n",
      "{'loss': 0.7676, 'grad_norm': 5.309805393218994, 'learning_rate': 6.941419718468168e-06, 'epoch': 4.79}\n",
      "{'loss': 0.9379, 'grad_norm': 7.613472938537598, 'learning_rate': 6.543553540053926e-06, 'epoch': 4.8}\n",
      "{'loss': 0.9024, 'grad_norm': 7.806333065032959, 'learning_rate': 6.157043087284798e-06, 'epoch': 4.82}\n",
      "{'loss': 0.6657, 'grad_norm': 4.327638149261475, 'learning_rate': 5.78193532435457e-06, 'epoch': 4.84}\n",
      "{'loss': 1.0812, 'grad_norm': 8.531951904296875, 'learning_rate': 5.418275829936537e-06, 'epoch': 4.86}\n",
      "{'loss': 0.8799, 'grad_norm': 5.141589641571045, 'learning_rate': 5.066108791645408e-06, 'epoch': 4.88}\n",
      "{'loss': 0.9673, 'grad_norm': 6.068978786468506, 'learning_rate': 4.72547700066811e-06, 'epoch': 4.89}\n",
      "{'loss': 0.8627, 'grad_norm': 5.174510478973389, 'learning_rate': 4.3964218465642355e-06, 'epoch': 4.91}\n",
      "{'loss': 0.9637, 'grad_norm': 7.2165846824646, 'learning_rate': 4.078983312237017e-06, 'epoch': 4.93}\n",
      "{'loss': 0.7795, 'grad_norm': 4.597067832946777, 'learning_rate': 3.7731999690749585e-06, 'epoch': 4.95}\n",
      "{'loss': 0.7761, 'grad_norm': 4.766169548034668, 'learning_rate': 3.4791089722651436e-06, 'epoch': 4.96}\n",
      "{'loss': 0.8297, 'grad_norm': 5.978305816650391, 'learning_rate': 3.1967460562785324e-06, 'epoch': 4.98}\n",
      "{'loss': 0.7702, 'grad_norm': 5.68934440612793, 'learning_rate': 2.926145530528002e-06, 'epoch': 5.0}\n",
      "{'loss': 0.6999, 'grad_norm': 4.4006805419921875, 'learning_rate': 2.667340275199426e-06, 'epoch': 5.02}\n",
      "{'loss': 0.7782, 'grad_norm': 5.514288425445557, 'learning_rate': 2.420361737256438e-06, 'epoch': 5.04}\n",
      "{'loss': 0.801, 'grad_norm': 4.6224894523620605, 'learning_rate': 2.1852399266194314e-06, 'epoch': 5.05}\n",
      "{'loss': 0.7598, 'grad_norm': 5.376885414123535, 'learning_rate': 1.9620034125190644e-06, 'epoch': 5.07}\n",
      "{'loss': 0.8034, 'grad_norm': 4.619831562042236, 'learning_rate': 1.7506793200248506e-06, 'epoch': 5.09}\n",
      "{'loss': 0.8184, 'grad_norm': 6.370414733886719, 'learning_rate': 1.5512933267492813e-06, 'epoch': 5.11}\n",
      "{'loss': 0.6839, 'grad_norm': 4.2261247634887695, 'learning_rate': 1.3638696597277679e-06, 'epoch': 5.12}\n",
      "{'loss': 0.6638, 'grad_norm': 4.328159809112549, 'learning_rate': 1.18843109247484e-06, 'epoch': 5.14}\n",
      "{'loss': 0.7109, 'grad_norm': 4.034302711486816, 'learning_rate': 1.0249989422169926e-06, 'epoch': 5.16}\n",
      "{'loss': 0.7301, 'grad_norm': 4.611827850341797, 'learning_rate': 8.735930673024806e-07, 'epoch': 5.18}\n",
      "{'loss': 0.7874, 'grad_norm': 4.370466232299805, 'learning_rate': 7.342318647883595e-07, 'epoch': 5.2}\n",
      "{'loss': 0.7287, 'grad_norm': 4.191982746124268, 'learning_rate': 6.069322682050516e-07, 'epoch': 5.21}\n",
      "{'loss': 0.8005, 'grad_norm': 7.090404033660889, 'learning_rate': 4.917097454988584e-07, 'epoch': 5.23}\n",
      "{'loss': 0.7077, 'grad_norm': 3.638232469558716, 'learning_rate': 3.885782971524088e-07, 'epoch': 5.25}\n",
      "{'loss': 0.7363, 'grad_norm': 4.451462268829346, 'learning_rate': 2.9755045448351946e-07, 'epoch': 5.27}\n",
      "{'loss': 0.7336, 'grad_norm': 4.426904678344727, 'learning_rate': 2.1863727812254653e-07, 'epoch': 5.29}\n",
      "{'loss': 0.7798, 'grad_norm': 5.1083903312683105, 'learning_rate': 1.518483566683826e-07, 'epoch': 5.3}\n",
      "{'loss': 0.7601, 'grad_norm': 3.8058249950408936, 'learning_rate': 9.719180552341111e-08, 'epoch': 5.32}\n",
      "{'loss': 0.8961, 'grad_norm': 5.543968677520752, 'learning_rate': 5.467426590739511e-08, 'epoch': 5.34}\n",
      "{'loss': 0.7528, 'grad_norm': 6.211265563964844, 'learning_rate': 2.430090405054486e-08, 'epoch': 5.36}\n",
      "{'train_runtime': 599.7504, 'train_samples_per_second': 2.001, 'train_steps_per_second': 0.5, 'train_loss': 3.26022936463356, 'epoch': 5.36}\n"
     ]
    },
    {
     "data": {
      "text/plain": [
       "TrainOutput(global_step=300, training_loss=3.26022936463356, metrics={'train_runtime': 599.7504, 'train_samples_per_second': 2.001, 'train_steps_per_second': 0.5, 'total_flos': 826938480715776.0, 'train_loss': 3.26022936463356, 'epoch': 5.357142857142857})"
      ]
     },
     "execution_count": 30,
     "metadata": {},
     "output_type": "execute_result"
    }
   ],
   "source": [
    "training_args = transformers.TrainingArguments(\n",
    "    per_device_train_batch_size=1,\n",
    "    gradient_accumulation_steps=4,\n",
    "    num_train_epochs=5,\n",
    "    learning_rate=2e-4,\n",
    "    fp16=True,\n",
    "    save_total_limit=3,\n",
    "    logging_steps=1,\n",
    "    output_dir=OUTPUT_DIR,\n",
    "    max_steps=300,\n",
    "    optim=\"paged_adamw_8bit\",\n",
    "    lr_scheduler_type=\"cosine\",\n",
    "    warmup_ratio=0.05,\n",
    "    report_to=\"tensorboard\",\n",
    ")\n",
    "\n",
    "trainer = transformers.Trainer(\n",
    "    model=model,\n",
    "    train_dataset=data,\n",
    "    args=training_args,\n",
    "    data_collator=transformers.DataCollatorForLanguageModeling(tokenizer, mlm=False),\n",
    ")\n",
    "\n",
    "\n",
    "model.config.use_cache = False\n",
    "trainer.train()"
   ]
  },
  {
   "cell_type": "code",
   "execution_count": 31,
   "metadata": {},
   "outputs": [],
   "source": [
    "model.save_pretrained(\"trained-model\")"
   ]
  },
  {
   "cell_type": "markdown",
   "metadata": {},
   "source": [
    "# Load the model"
   ]
  },
  {
   "cell_type": "code",
   "execution_count": 4,
   "metadata": {},
   "outputs": [
    {
     "name": "stdout",
     "output_type": "stream",
     "text": [
      "CUDA is available. Working on GPU.\n",
      "GPU name: NVIDIA GeForce RTX 3070 Laptop GPU\n"
     ]
    }
   ],
   "source": [
    "DEVICE = \"cuda:0\" if torch.cuda.is_available() else \"cpu\"\n",
    "\n",
    "if torch.cuda.is_available():\n",
    "    print(\"CUDA is available. Working on GPU.\")\n",
    "    print(f\"GPU name: {torch.cuda.get_device_name(0)}\")\n",
    "else:\n",
    "    print(\"CUDA not available. Working on CPU.\")"
   ]
  },
  {
   "cell_type": "code",
   "execution_count": 5,
   "metadata": {},
   "outputs": [
    {
     "data": {
      "application/vnd.jupyter.widget-view+json": {
       "model_id": "de28c509e31e41c88d78551194f09004",
       "version_major": 2,
       "version_minor": 0
      },
      "text/plain": [
       "Loading checkpoint shards:   0%|          | 0/2 [00:00<?, ?it/s]"
      ]
     },
     "metadata": {},
     "output_type": "display_data"
    }
   ],
   "source": [
    "# load the model from the disk in 'trained-model'\n",
    "\n",
    "MODEL_NAME = \"meta-llama/Llama-3.2-3B-Instruct\"\n",
    "model = AutoModelForCausalLM.from_pretrained(\"trained-model\").to(DEVICE)\n",
    "\n",
    "tokenizer = AutoTokenizer.from_pretrained(MODEL_NAME)\n",
    "tokenizer.pad_token = tokenizer.eos_token"
   ]
  },
  {
   "cell_type": "code",
   "execution_count": 8,
   "metadata": {},
   "outputs": [],
   "source": [
    "generation_config = model.generation_config\n",
    "generation_config.max_new_tokens = 200\n",
    "generation_config.temperature = 0.7\n",
    "generation_config.top_p = 0.7\n",
    "generation_config.num_return_sequences = 1\n",
    "generation_config.pad_token_id = tokenizer.eos_token_id\n",
    "generation_config.eos_token_id = tokenizer.eos_token_id"
   ]
  },
  {
   "cell_type": "code",
   "execution_count": 9,
   "metadata": {},
   "outputs": [
    {
     "name": "stdout",
     "output_type": "stream",
     "text": [
      "<human>: What is the MaxScore strategy??\n",
      "<assistant>: The MaxScore strategy terminates scoring early for documents that cannot enter the top-ranked results. It uses a threshold to compare scores and ignores documents with scores below the threshold. This approach improves efficiency while maintaining the quality of top-ranked results.\n",
      "CPU times: total: 8.08 s\n",
      "Wall time: 27.4 s\n"
     ]
    }
   ],
   "source": [
    "%%time\n",
    "\n",
    "prompt = f\"\"\"\n",
    "<human>: What is the MaxScore strategy??\n",
    "<assistant>:\n",
    "\"\"\".strip()\n",
    "\n",
    "encoding = tokenizer(prompt, return_tensors=\"pt\").to(DEVICE)\n",
    "with torch.inference_mode():\n",
    "    outputs = model. generate(\n",
    "        input_ids=encoding.input_ids,\n",
    "        attention_mask=encoding.attention_mask,\n",
    "        generation_config=generation_config,\n",
    "    )\n",
    "\n",
    "print(tokenizer.decode(outputs[0], skip_special_tokens=True) )"
   ]
  },
  {
   "cell_type": "code",
   "execution_count": 10,
   "metadata": {},
   "outputs": [],
   "source": [
    "def generate_response(question: str) -> str:\n",
    "    prompt = f\"\"\"\n",
    "        <human>: {question}\n",
    "        <assistant>:\n",
    "        \"\"\".strip()\n",
    "    encoding = tokenizer(prompt, return_tensors=\"pt\") .to(DEVICE)\n",
    "    with torch.inference_mode():\n",
    "        outputs = model.generate(\n",
    "            input_ids=encoding.input_ids,\n",
    "            attention_mask=encoding.attention_mask,\n",
    "            generation_config=generation_config,\n",
    "        )\n",
    "    response = tokenizer.decode(outputs[0], skip_special_tokens=True)\n",
    "\n",
    "    assistant_start = \"<assistant>:\"\n",
    "    response_start = response.find(assistant_start)\n",
    "    return response[response_start + len(assistant_start) : ].strip()"
   ]
  },
  {
   "cell_type": "code",
   "execution_count": 11,
   "metadata": {},
   "outputs": [
    {
     "name": "stdout",
     "output_type": "stream",
     "text": [
      "2         (Cosine similarity computes the cosine of the angle between two vectors, normalizing for vector length.)\n"
     ]
    }
   ],
   "source": [
    "prompt = \"\"\"Your role is to be a student answering questions related to information retrieval. You're provided with a question and four options. Answer ONLY with the number of the correct option.\n",
    "Question : In the vector space model, what is cosine similarity used for?\n",
    "1) To calculate document frequency\n",
    "2) To compute the angle between query and document vectors\n",
    "3) To normalize term frequency\n",
    "4) To adjust document rank\"\"\"\n",
    "\n",
    "\n",
    "print(generate_response(prompt))"
   ]
  }
 ],
 "metadata": {
  "accelerator": "GPU",
  "colab": {
   "gpuType": "T4",
   "provenance": []
  },
  "kernelspec": {
   "display_name": "lm",
   "language": "python",
   "name": "python3"
  },
  "language_info": {
   "codemirror_mode": {
    "name": "ipython",
    "version": 3
   },
   "file_extension": ".py",
   "mimetype": "text/x-python",
   "name": "python",
   "nbconvert_exporter": "python",
   "pygments_lexer": "ipython3",
   "version": "3.12.7"
  },
  "widgets": {
   "application/vnd.jupyter.widget-state+json": {
    "0540fb9939234837b32c2dc9e57df055": {
     "model_module": "@jupyter-widgets/controls",
     "model_module_version": "1.5.0",
     "model_name": "CheckboxModel",
     "state": {
      "_dom_classes": [],
      "_model_module": "@jupyter-widgets/controls",
      "_model_module_version": "1.5.0",
      "_model_name": "CheckboxModel",
      "_view_count": null,
      "_view_module": "@jupyter-widgets/controls",
      "_view_module_version": "1.5.0",
      "_view_name": "CheckboxView",
      "description": "Add token as git credential?",
      "description_tooltip": null,
      "disabled": false,
      "indent": true,
      "layout": "IPY_MODEL_978de0982e2342a0b1571355eb5b3d55",
      "style": "IPY_MODEL_677dece023084369abace533a4271c3e",
      "value": false
     }
    },
    "11e1e389f6474ae880dd24e07db5e183": {
     "model_module": "@jupyter-widgets/controls",
     "model_module_version": "1.5.0",
     "model_name": "DescriptionStyleModel",
     "state": {
      "_model_module": "@jupyter-widgets/controls",
      "_model_module_version": "1.5.0",
      "_model_name": "DescriptionStyleModel",
      "_view_count": null,
      "_view_module": "@jupyter-widgets/base",
      "_view_module_version": "1.2.0",
      "_view_name": "StyleView",
      "description_width": ""
     }
    },
    "1889ce76588f4ed8b6d8c1a3667a1cdf": {
     "model_module": "@jupyter-widgets/controls",
     "model_module_version": "1.5.0",
     "model_name": "DescriptionStyleModel",
     "state": {
      "_model_module": "@jupyter-widgets/controls",
      "_model_module_version": "1.5.0",
      "_model_name": "DescriptionStyleModel",
      "_view_count": null,
      "_view_module": "@jupyter-widgets/base",
      "_view_module_version": "1.2.0",
      "_view_name": "StyleView",
      "description_width": ""
     }
    },
    "18f139b46b924cbfbef3f2cd42cf82c8": {
     "model_module": "@jupyter-widgets/controls",
     "model_module_version": "1.5.0",
     "model_name": "FloatProgressModel",
     "state": {
      "_dom_classes": [],
      "_model_module": "@jupyter-widgets/controls",
      "_model_module_version": "1.5.0",
      "_model_name": "FloatProgressModel",
      "_view_count": null,
      "_view_module": "@jupyter-widgets/controls",
      "_view_module_version": "1.5.0",
      "_view_name": "ProgressView",
      "bar_style": "success",
      "description": "",
      "description_tooltip": null,
      "layout": "IPY_MODEL_47e4e0a76a7b468fb734c64d89f788ba",
      "max": 7163,
      "min": 0,
      "orientation": "horizontal",
      "style": "IPY_MODEL_7f1183900094481da7e8dc3010d768b4",
      "value": 7163
     }
    },
    "2b39dedc67434ddd94884ef814cd3a7c": {
     "model_module": "@jupyter-widgets/controls",
     "model_module_version": "1.5.0",
     "model_name": "PasswordModel",
     "state": {
      "_dom_classes": [],
      "_model_module": "@jupyter-widgets/controls",
      "_model_module_version": "1.5.0",
      "_model_name": "PasswordModel",
      "_view_count": null,
      "_view_module": "@jupyter-widgets/controls",
      "_view_module_version": "1.5.0",
      "_view_name": "PasswordView",
      "continuous_update": true,
      "description": "Token:",
      "description_tooltip": null,
      "disabled": false,
      "layout": "IPY_MODEL_439d210003c147bdabbf26140d69abba",
      "placeholder": "​",
      "style": "IPY_MODEL_990993836b714aa6872e24c149eed3b7",
      "value": ""
     }
    },
    "2f6b92bb988246a7896819b68a09b168": {
     "model_module": "@jupyter-widgets/controls",
     "model_module_version": "1.5.0",
     "model_name": "ProgressStyleModel",
     "state": {
      "_model_module": "@jupyter-widgets/controls",
      "_model_module_version": "1.5.0",
      "_model_name": "ProgressStyleModel",
      "_view_count": null,
      "_view_module": "@jupyter-widgets/base",
      "_view_module_version": "1.2.0",
      "_view_name": "StyleView",
      "bar_color": null,
      "description_width": ""
     }
    },
    "338793d1dcb64c268e32d1698a6b2480": {
     "model_module": "@jupyter-widgets/base",
     "model_module_version": "1.2.0",
     "model_name": "LayoutModel",
     "state": {
      "_model_module": "@jupyter-widgets/base",
      "_model_module_version": "1.2.0",
      "_model_name": "LayoutModel",
      "_view_count": null,
      "_view_module": "@jupyter-widgets/base",
      "_view_module_version": "1.2.0",
      "_view_name": "LayoutView",
      "align_content": null,
      "align_items": null,
      "align_self": null,
      "border": null,
      "bottom": null,
      "display": null,
      "flex": null,
      "flex_flow": null,
      "grid_area": null,
      "grid_auto_columns": null,
      "grid_auto_flow": null,
      "grid_auto_rows": null,
      "grid_column": null,
      "grid_gap": null,
      "grid_row": null,
      "grid_template_areas": null,
      "grid_template_columns": null,
      "grid_template_rows": null,
      "height": null,
      "justify_content": null,
      "justify_items": null,
      "left": null,
      "margin": null,
      "max_height": null,
      "max_width": null,
      "min_height": null,
      "min_width": null,
      "object_fit": null,
      "object_position": null,
      "order": null,
      "overflow": null,
      "overflow_x": null,
      "overflow_y": null,
      "padding": null,
      "right": null,
      "top": null,
      "visibility": null,
      "width": null
     }
    },
    "35228f38b23a434495ea6d0f12c03f4f": {
     "model_module": "@jupyter-widgets/base",
     "model_module_version": "1.2.0",
     "model_name": "LayoutModel",
     "state": {
      "_model_module": "@jupyter-widgets/base",
      "_model_module_version": "1.2.0",
      "_model_name": "LayoutModel",
      "_view_count": null,
      "_view_module": "@jupyter-widgets/base",
      "_view_module_version": "1.2.0",
      "_view_name": "LayoutView",
      "align_content": null,
      "align_items": null,
      "align_self": null,
      "border": null,
      "bottom": null,
      "display": null,
      "flex": null,
      "flex_flow": null,
      "grid_area": null,
      "grid_auto_columns": null,
      "grid_auto_flow": null,
      "grid_auto_rows": null,
      "grid_column": null,
      "grid_gap": null,
      "grid_row": null,
      "grid_template_areas": null,
      "grid_template_columns": null,
      "grid_template_rows": null,
      "height": null,
      "justify_content": null,
      "justify_items": null,
      "left": null,
      "margin": null,
      "max_height": null,
      "max_width": null,
      "min_height": null,
      "min_width": null,
      "object_fit": null,
      "object_position": null,
      "order": null,
      "overflow": null,
      "overflow_x": null,
      "overflow_y": null,
      "padding": null,
      "right": null,
      "top": null,
      "visibility": null,
      "width": null
     }
    },
    "388101a72cef4ad2912a1928d13c63b9": {
     "model_module": "@jupyter-widgets/controls",
     "model_module_version": "1.5.0",
     "model_name": "ButtonStyleModel",
     "state": {
      "_model_module": "@jupyter-widgets/controls",
      "_model_module_version": "1.5.0",
      "_model_name": "ButtonStyleModel",
      "_view_count": null,
      "_view_module": "@jupyter-widgets/base",
      "_view_module_version": "1.2.0",
      "_view_name": "StyleView",
      "button_color": null,
      "font_weight": ""
     }
    },
    "3db7a302579b48068fcaefaa48ba3c1f": {
     "model_module": "@jupyter-widgets/base",
     "model_module_version": "1.2.0",
     "model_name": "LayoutModel",
     "state": {
      "_model_module": "@jupyter-widgets/base",
      "_model_module_version": "1.2.0",
      "_model_name": "LayoutModel",
      "_view_count": null,
      "_view_module": "@jupyter-widgets/base",
      "_view_module_version": "1.2.0",
      "_view_name": "LayoutView",
      "align_content": null,
      "align_items": null,
      "align_self": null,
      "border": null,
      "bottom": null,
      "display": null,
      "flex": null,
      "flex_flow": null,
      "grid_area": null,
      "grid_auto_columns": null,
      "grid_auto_flow": null,
      "grid_auto_rows": null,
      "grid_column": null,
      "grid_gap": null,
      "grid_row": null,
      "grid_template_areas": null,
      "grid_template_columns": null,
      "grid_template_rows": null,
      "height": null,
      "justify_content": null,
      "justify_items": null,
      "left": null,
      "margin": null,
      "max_height": null,
      "max_width": null,
      "min_height": null,
      "min_width": null,
      "object_fit": null,
      "object_position": null,
      "order": null,
      "overflow": null,
      "overflow_x": null,
      "overflow_y": null,
      "padding": null,
      "right": null,
      "top": null,
      "visibility": null,
      "width": null
     }
    },
    "3efc0637f7c14cd494f0792d9955ec3a": {
     "model_module": "@jupyter-widgets/base",
     "model_module_version": "1.2.0",
     "model_name": "LayoutModel",
     "state": {
      "_model_module": "@jupyter-widgets/base",
      "_model_module_version": "1.2.0",
      "_model_name": "LayoutModel",
      "_view_count": null,
      "_view_module": "@jupyter-widgets/base",
      "_view_module_version": "1.2.0",
      "_view_name": "LayoutView",
      "align_content": null,
      "align_items": null,
      "align_self": null,
      "border": null,
      "bottom": null,
      "display": null,
      "flex": null,
      "flex_flow": null,
      "grid_area": null,
      "grid_auto_columns": null,
      "grid_auto_flow": null,
      "grid_auto_rows": null,
      "grid_column": null,
      "grid_gap": null,
      "grid_row": null,
      "grid_template_areas": null,
      "grid_template_columns": null,
      "grid_template_rows": null,
      "height": null,
      "justify_content": null,
      "justify_items": null,
      "left": null,
      "margin": null,
      "max_height": null,
      "max_width": null,
      "min_height": null,
      "min_width": null,
      "object_fit": null,
      "object_position": null,
      "order": null,
      "overflow": null,
      "overflow_x": null,
      "overflow_y": null,
      "padding": null,
      "right": null,
      "top": null,
      "visibility": null,
      "width": null
     }
    },
    "40c4aa1cf16d498faafdd375deae1f91": {
     "model_module": "@jupyter-widgets/controls",
     "model_module_version": "1.5.0",
     "model_name": "DescriptionStyleModel",
     "state": {
      "_model_module": "@jupyter-widgets/controls",
      "_model_module_version": "1.5.0",
      "_model_name": "DescriptionStyleModel",
      "_view_count": null,
      "_view_module": "@jupyter-widgets/base",
      "_view_module_version": "1.2.0",
      "_view_name": "StyleView",
      "description_width": ""
     }
    },
    "439d210003c147bdabbf26140d69abba": {
     "model_module": "@jupyter-widgets/base",
     "model_module_version": "1.2.0",
     "model_name": "LayoutModel",
     "state": {
      "_model_module": "@jupyter-widgets/base",
      "_model_module_version": "1.2.0",
      "_model_name": "LayoutModel",
      "_view_count": null,
      "_view_module": "@jupyter-widgets/base",
      "_view_module_version": "1.2.0",
      "_view_name": "LayoutView",
      "align_content": null,
      "align_items": null,
      "align_self": null,
      "border": null,
      "bottom": null,
      "display": null,
      "flex": null,
      "flex_flow": null,
      "grid_area": null,
      "grid_auto_columns": null,
      "grid_auto_flow": null,
      "grid_auto_rows": null,
      "grid_column": null,
      "grid_gap": null,
      "grid_row": null,
      "grid_template_areas": null,
      "grid_template_columns": null,
      "grid_template_rows": null,
      "height": null,
      "justify_content": null,
      "justify_items": null,
      "left": null,
      "margin": null,
      "max_height": null,
      "max_width": null,
      "min_height": null,
      "min_width": null,
      "object_fit": null,
      "object_position": null,
      "order": null,
      "overflow": null,
      "overflow_x": null,
      "overflow_y": null,
      "padding": null,
      "right": null,
      "top": null,
      "visibility": null,
      "width": null
     }
    },
    "47e4e0a76a7b468fb734c64d89f788ba": {
     "model_module": "@jupyter-widgets/base",
     "model_module_version": "1.2.0",
     "model_name": "LayoutModel",
     "state": {
      "_model_module": "@jupyter-widgets/base",
      "_model_module_version": "1.2.0",
      "_model_name": "LayoutModel",
      "_view_count": null,
      "_view_module": "@jupyter-widgets/base",
      "_view_module_version": "1.2.0",
      "_view_name": "LayoutView",
      "align_content": null,
      "align_items": null,
      "align_self": null,
      "border": null,
      "bottom": null,
      "display": null,
      "flex": null,
      "flex_flow": null,
      "grid_area": null,
      "grid_auto_columns": null,
      "grid_auto_flow": null,
      "grid_auto_rows": null,
      "grid_column": null,
      "grid_gap": null,
      "grid_row": null,
      "grid_template_areas": null,
      "grid_template_columns": null,
      "grid_template_rows": null,
      "height": null,
      "justify_content": null,
      "justify_items": null,
      "left": null,
      "margin": null,
      "max_height": null,
      "max_width": null,
      "min_height": null,
      "min_width": null,
      "object_fit": null,
      "object_position": null,
      "order": null,
      "overflow": null,
      "overflow_x": null,
      "overflow_y": null,
      "padding": null,
      "right": null,
      "top": null,
      "visibility": null,
      "width": null
     }
    },
    "4c61767b20e34befa7634c50303f0973": {
     "model_module": "@jupyter-widgets/controls",
     "model_module_version": "1.5.0",
     "model_name": "FloatProgressModel",
     "state": {
      "_dom_classes": [],
      "_model_module": "@jupyter-widgets/controls",
      "_model_module_version": "1.5.0",
      "_model_name": "FloatProgressModel",
      "_view_count": null,
      "_view_module": "@jupyter-widgets/controls",
      "_view_module_version": "1.5.0",
      "_view_name": "ProgressView",
      "bar_style": "success",
      "description": "",
      "description_tooltip": null,
      "layout": "IPY_MODEL_b0619861cc174c5ab6ff37053bf4d67e",
      "max": 1048,
      "min": 0,
      "orientation": "horizontal",
      "style": "IPY_MODEL_2f6b92bb988246a7896819b68a09b168",
      "value": 1048
     }
    },
    "4cf6e771fe4849d18557bdb8e1a04655": {
     "model_module": "@jupyter-widgets/controls",
     "model_module_version": "1.5.0",
     "model_name": "ProgressStyleModel",
     "state": {
      "_model_module": "@jupyter-widgets/controls",
      "_model_module_version": "1.5.0",
      "_model_name": "ProgressStyleModel",
      "_view_count": null,
      "_view_module": "@jupyter-widgets/base",
      "_view_module_version": "1.2.0",
      "_view_name": "StyleView",
      "bar_color": null,
      "description_width": ""
     }
    },
    "54b3b4bd3f9d4e578b7e8c578912f1e8": {
     "model_module": "@jupyter-widgets/base",
     "model_module_version": "1.2.0",
     "model_name": "LayoutModel",
     "state": {
      "_model_module": "@jupyter-widgets/base",
      "_model_module_version": "1.2.0",
      "_model_name": "LayoutModel",
      "_view_count": null,
      "_view_module": "@jupyter-widgets/base",
      "_view_module_version": "1.2.0",
      "_view_name": "LayoutView",
      "align_content": null,
      "align_items": null,
      "align_self": null,
      "border": null,
      "bottom": null,
      "display": null,
      "flex": null,
      "flex_flow": null,
      "grid_area": null,
      "grid_auto_columns": null,
      "grid_auto_flow": null,
      "grid_auto_rows": null,
      "grid_column": null,
      "grid_gap": null,
      "grid_row": null,
      "grid_template_areas": null,
      "grid_template_columns": null,
      "grid_template_rows": null,
      "height": null,
      "justify_content": null,
      "justify_items": null,
      "left": null,
      "margin": null,
      "max_height": null,
      "max_width": null,
      "min_height": null,
      "min_width": null,
      "object_fit": null,
      "object_position": null,
      "order": null,
      "overflow": null,
      "overflow_x": null,
      "overflow_y": null,
      "padding": null,
      "right": null,
      "top": null,
      "visibility": null,
      "width": null
     }
    },
    "5d8cd98cff584b61bd4e07499b2e3be5": {
     "model_module": "@jupyter-widgets/controls",
     "model_module_version": "1.5.0",
     "model_name": "HTMLModel",
     "state": {
      "_dom_classes": [],
      "_model_module": "@jupyter-widgets/controls",
      "_model_module_version": "1.5.0",
      "_model_name": "HTMLModel",
      "_view_count": null,
      "_view_module": "@jupyter-widgets/controls",
      "_view_module_version": "1.5.0",
      "_view_name": "HTMLView",
      "description": "",
      "description_tooltip": null,
      "layout": "IPY_MODEL_f1a875c3b5324afaa5131e66543f4e12",
      "placeholder": "​",
      "style": "IPY_MODEL_d756d20660e94ed299fdd38bc6f95520",
      "value": " 56.9k/56.9k [00:00&lt;00:00, 1.40MB/s]"
     }
    },
    "61f47cd99f1c4353857816af6f7967a1": {
     "model_module": "@jupyter-widgets/base",
     "model_module_version": "1.2.0",
     "model_name": "LayoutModel",
     "state": {
      "_model_module": "@jupyter-widgets/base",
      "_model_module_version": "1.2.0",
      "_model_name": "LayoutModel",
      "_view_count": null,
      "_view_module": "@jupyter-widgets/base",
      "_view_module_version": "1.2.0",
      "_view_name": "LayoutView",
      "align_content": null,
      "align_items": null,
      "align_self": null,
      "border": null,
      "bottom": null,
      "display": null,
      "flex": null,
      "flex_flow": null,
      "grid_area": null,
      "grid_auto_columns": null,
      "grid_auto_flow": null,
      "grid_auto_rows": null,
      "grid_column": null,
      "grid_gap": null,
      "grid_row": null,
      "grid_template_areas": null,
      "grid_template_columns": null,
      "grid_template_rows": null,
      "height": null,
      "justify_content": null,
      "justify_items": null,
      "left": null,
      "margin": null,
      "max_height": null,
      "max_width": null,
      "min_height": null,
      "min_width": null,
      "object_fit": null,
      "object_position": null,
      "order": null,
      "overflow": null,
      "overflow_x": null,
      "overflow_y": null,
      "padding": null,
      "right": null,
      "top": null,
      "visibility": null,
      "width": null
     }
    },
    "6275f21f7d644c999a8bdb355e224d9e": {
     "model_module": "@jupyter-widgets/controls",
     "model_module_version": "1.5.0",
     "model_name": "HTMLModel",
     "state": {
      "_dom_classes": [],
      "_model_module": "@jupyter-widgets/controls",
      "_model_module_version": "1.5.0",
      "_model_name": "HTMLModel",
      "_view_count": null,
      "_view_module": "@jupyter-widgets/controls",
      "_view_module_version": "1.5.0",
      "_view_name": "HTMLView",
      "description": "",
      "description_tooltip": null,
      "layout": "IPY_MODEL_89d45823c17147ebb3618ed25ee32a1a",
      "placeholder": "​",
      "style": "IPY_MODEL_1889ce76588f4ed8b6d8c1a3667a1cdf",
      "value": "config.json: 100%"
     }
    },
    "6370be11d7ad45ee8c39d8bfb3f7f1ce": {
     "model_module": "@jupyter-widgets/controls",
     "model_module_version": "1.5.0",
     "model_name": "HBoxModel",
     "state": {
      "_dom_classes": [],
      "_model_module": "@jupyter-widgets/controls",
      "_model_module_version": "1.5.0",
      "_model_name": "HBoxModel",
      "_view_count": null,
      "_view_module": "@jupyter-widgets/controls",
      "_view_module_version": "1.5.0",
      "_view_name": "HBoxView",
      "box_style": "",
      "children": [
       "IPY_MODEL_6275f21f7d644c999a8bdb355e224d9e",
       "IPY_MODEL_4c61767b20e34befa7634c50303f0973",
       "IPY_MODEL_7c984010083f49c8a7328f8cc4fb05a8"
      ],
      "layout": "IPY_MODEL_3efc0637f7c14cd494f0792d9955ec3a"
     }
    },
    "6760ec485a7a4447a0a3258a241978d5": {
     "model_module": "@jupyter-widgets/controls",
     "model_module_version": "1.5.0",
     "model_name": "FloatProgressModel",
     "state": {
      "_dom_classes": [],
      "_model_module": "@jupyter-widgets/controls",
      "_model_module_version": "1.5.0",
      "_model_name": "FloatProgressModel",
      "_view_count": null,
      "_view_module": "@jupyter-widgets/controls",
      "_view_module_version": "1.5.0",
      "_view_name": "ProgressView",
      "bar_style": "success",
      "description": "",
      "description_tooltip": null,
      "layout": "IPY_MODEL_61f47cd99f1c4353857816af6f7967a1",
      "max": 56920,
      "min": 0,
      "orientation": "horizontal",
      "style": "IPY_MODEL_4cf6e771fe4849d18557bdb8e1a04655",
      "value": 56920
     }
    },
    "677dece023084369abace533a4271c3e": {
     "model_module": "@jupyter-widgets/controls",
     "model_module_version": "1.5.0",
     "model_name": "DescriptionStyleModel",
     "state": {
      "_model_module": "@jupyter-widgets/controls",
      "_model_module_version": "1.5.0",
      "_model_name": "DescriptionStyleModel",
      "_view_count": null,
      "_view_module": "@jupyter-widgets/base",
      "_view_module_version": "1.2.0",
      "_view_name": "StyleView",
      "description_width": ""
     }
    },
    "697c2cef346045558136941119c41a04": {
     "model_module": "@jupyter-widgets/controls",
     "model_module_version": "1.5.0",
     "model_name": "HTMLModel",
     "state": {
      "_dom_classes": [],
      "_model_module": "@jupyter-widgets/controls",
      "_model_module_version": "1.5.0",
      "_model_name": "HTMLModel",
      "_view_count": null,
      "_view_module": "@jupyter-widgets/controls",
      "_view_module_version": "1.5.0",
      "_view_name": "HTMLView",
      "description": "",
      "description_tooltip": null,
      "layout": "IPY_MODEL_e1efdf40d14643b0afd1bd3a69c8f7a0",
      "placeholder": "​",
      "style": "IPY_MODEL_11e1e389f6474ae880dd24e07db5e183",
      "value": "modeling_falcon.py: 100%"
     }
    },
    "70d5ded144c445339bb0ba6d6adf0f52": {
     "model_module": "@jupyter-widgets/controls",
     "model_module_version": "1.5.0",
     "model_name": "DescriptionStyleModel",
     "state": {
      "_model_module": "@jupyter-widgets/controls",
      "_model_module_version": "1.5.0",
      "_model_name": "DescriptionStyleModel",
      "_view_count": null,
      "_view_module": "@jupyter-widgets/base",
      "_view_module_version": "1.2.0",
      "_view_name": "StyleView",
      "description_width": ""
     }
    },
    "78ad2091a39349aebb0c27e8eff56e68": {
     "model_module": "@jupyter-widgets/base",
     "model_module_version": "1.2.0",
     "model_name": "LayoutModel",
     "state": {
      "_model_module": "@jupyter-widgets/base",
      "_model_module_version": "1.2.0",
      "_model_name": "LayoutModel",
      "_view_count": null,
      "_view_module": "@jupyter-widgets/base",
      "_view_module_version": "1.2.0",
      "_view_name": "LayoutView",
      "align_content": null,
      "align_items": null,
      "align_self": null,
      "border": null,
      "bottom": null,
      "display": null,
      "flex": null,
      "flex_flow": null,
      "grid_area": null,
      "grid_auto_columns": null,
      "grid_auto_flow": null,
      "grid_auto_rows": null,
      "grid_column": null,
      "grid_gap": null,
      "grid_row": null,
      "grid_template_areas": null,
      "grid_template_columns": null,
      "grid_template_rows": null,
      "height": null,
      "justify_content": null,
      "justify_items": null,
      "left": null,
      "margin": null,
      "max_height": null,
      "max_width": null,
      "min_height": null,
      "min_width": null,
      "object_fit": null,
      "object_position": null,
      "order": null,
      "overflow": null,
      "overflow_x": null,
      "overflow_y": null,
      "padding": null,
      "right": null,
      "top": null,
      "visibility": null,
      "width": null
     }
    },
    "7c984010083f49c8a7328f8cc4fb05a8": {
     "model_module": "@jupyter-widgets/controls",
     "model_module_version": "1.5.0",
     "model_name": "HTMLModel",
     "state": {
      "_dom_classes": [],
      "_model_module": "@jupyter-widgets/controls",
      "_model_module_version": "1.5.0",
      "_model_name": "HTMLModel",
      "_view_count": null,
      "_view_module": "@jupyter-widgets/controls",
      "_view_module_version": "1.5.0",
      "_view_name": "HTMLView",
      "description": "",
      "description_tooltip": null,
      "layout": "IPY_MODEL_8f72adf3f7ed40689d7b01c11f54f9cd",
      "placeholder": "​",
      "style": "IPY_MODEL_9179c9c1729e4dc1b7e248d9109fb130",
      "value": " 1.05k/1.05k [00:00&lt;00:00, 30.8kB/s]"
     }
    },
    "7f1183900094481da7e8dc3010d768b4": {
     "model_module": "@jupyter-widgets/controls",
     "model_module_version": "1.5.0",
     "model_name": "ProgressStyleModel",
     "state": {
      "_model_module": "@jupyter-widgets/controls",
      "_model_module_version": "1.5.0",
      "_model_name": "ProgressStyleModel",
      "_view_count": null,
      "_view_module": "@jupyter-widgets/base",
      "_view_module_version": "1.2.0",
      "_view_name": "StyleView",
      "bar_color": null,
      "description_width": ""
     }
    },
    "89ab31947022419fb5b2c629440c84ef": {
     "model_module": "@jupyter-widgets/controls",
     "model_module_version": "1.5.0",
     "model_name": "HTMLModel",
     "state": {
      "_dom_classes": [],
      "_model_module": "@jupyter-widgets/controls",
      "_model_module_version": "1.5.0",
      "_model_name": "HTMLModel",
      "_view_count": null,
      "_view_module": "@jupyter-widgets/controls",
      "_view_module_version": "1.5.0",
      "_view_name": "HTMLView",
      "description": "",
      "description_tooltip": null,
      "layout": "IPY_MODEL_54b3b4bd3f9d4e578b7e8c578912f1e8",
      "placeholder": "​",
      "style": "IPY_MODEL_70d5ded144c445339bb0ba6d6adf0f52",
      "value": "configuration_falcon.py: 100%"
     }
    },
    "89d45823c17147ebb3618ed25ee32a1a": {
     "model_module": "@jupyter-widgets/base",
     "model_module_version": "1.2.0",
     "model_name": "LayoutModel",
     "state": {
      "_model_module": "@jupyter-widgets/base",
      "_model_module_version": "1.2.0",
      "_model_name": "LayoutModel",
      "_view_count": null,
      "_view_module": "@jupyter-widgets/base",
      "_view_module_version": "1.2.0",
      "_view_name": "LayoutView",
      "align_content": null,
      "align_items": null,
      "align_self": null,
      "border": null,
      "bottom": null,
      "display": null,
      "flex": null,
      "flex_flow": null,
      "grid_area": null,
      "grid_auto_columns": null,
      "grid_auto_flow": null,
      "grid_auto_rows": null,
      "grid_column": null,
      "grid_gap": null,
      "grid_row": null,
      "grid_template_areas": null,
      "grid_template_columns": null,
      "grid_template_rows": null,
      "height": null,
      "justify_content": null,
      "justify_items": null,
      "left": null,
      "margin": null,
      "max_height": null,
      "max_width": null,
      "min_height": null,
      "min_width": null,
      "object_fit": null,
      "object_position": null,
      "order": null,
      "overflow": null,
      "overflow_x": null,
      "overflow_y": null,
      "padding": null,
      "right": null,
      "top": null,
      "visibility": null,
      "width": null
     }
    },
    "8f72adf3f7ed40689d7b01c11f54f9cd": {
     "model_module": "@jupyter-widgets/base",
     "model_module_version": "1.2.0",
     "model_name": "LayoutModel",
     "state": {
      "_model_module": "@jupyter-widgets/base",
      "_model_module_version": "1.2.0",
      "_model_name": "LayoutModel",
      "_view_count": null,
      "_view_module": "@jupyter-widgets/base",
      "_view_module_version": "1.2.0",
      "_view_name": "LayoutView",
      "align_content": null,
      "align_items": null,
      "align_self": null,
      "border": null,
      "bottom": null,
      "display": null,
      "flex": null,
      "flex_flow": null,
      "grid_area": null,
      "grid_auto_columns": null,
      "grid_auto_flow": null,
      "grid_auto_rows": null,
      "grid_column": null,
      "grid_gap": null,
      "grid_row": null,
      "grid_template_areas": null,
      "grid_template_columns": null,
      "grid_template_rows": null,
      "height": null,
      "justify_content": null,
      "justify_items": null,
      "left": null,
      "margin": null,
      "max_height": null,
      "max_width": null,
      "min_height": null,
      "min_width": null,
      "object_fit": null,
      "object_position": null,
      "order": null,
      "overflow": null,
      "overflow_x": null,
      "overflow_y": null,
      "padding": null,
      "right": null,
      "top": null,
      "visibility": null,
      "width": null
     }
    },
    "9179c9c1729e4dc1b7e248d9109fb130": {
     "model_module": "@jupyter-widgets/controls",
     "model_module_version": "1.5.0",
     "model_name": "DescriptionStyleModel",
     "state": {
      "_model_module": "@jupyter-widgets/controls",
      "_model_module_version": "1.5.0",
      "_model_name": "DescriptionStyleModel",
      "_view_count": null,
      "_view_module": "@jupyter-widgets/base",
      "_view_module_version": "1.2.0",
      "_view_name": "StyleView",
      "description_width": ""
     }
    },
    "93dce185b98e489fba27900c65b12743": {
     "model_module": "@jupyter-widgets/controls",
     "model_module_version": "1.5.0",
     "model_name": "DescriptionStyleModel",
     "state": {
      "_model_module": "@jupyter-widgets/controls",
      "_model_module_version": "1.5.0",
      "_model_name": "DescriptionStyleModel",
      "_view_count": null,
      "_view_module": "@jupyter-widgets/base",
      "_view_module_version": "1.2.0",
      "_view_name": "StyleView",
      "description_width": ""
     }
    },
    "978de0982e2342a0b1571355eb5b3d55": {
     "model_module": "@jupyter-widgets/base",
     "model_module_version": "1.2.0",
     "model_name": "LayoutModel",
     "state": {
      "_model_module": "@jupyter-widgets/base",
      "_model_module_version": "1.2.0",
      "_model_name": "LayoutModel",
      "_view_count": null,
      "_view_module": "@jupyter-widgets/base",
      "_view_module_version": "1.2.0",
      "_view_name": "LayoutView",
      "align_content": null,
      "align_items": null,
      "align_self": null,
      "border": null,
      "bottom": null,
      "display": null,
      "flex": null,
      "flex_flow": null,
      "grid_area": null,
      "grid_auto_columns": null,
      "grid_auto_flow": null,
      "grid_auto_rows": null,
      "grid_column": null,
      "grid_gap": null,
      "grid_row": null,
      "grid_template_areas": null,
      "grid_template_columns": null,
      "grid_template_rows": null,
      "height": null,
      "justify_content": null,
      "justify_items": null,
      "left": null,
      "margin": null,
      "max_height": null,
      "max_width": null,
      "min_height": null,
      "min_width": null,
      "object_fit": null,
      "object_position": null,
      "order": null,
      "overflow": null,
      "overflow_x": null,
      "overflow_y": null,
      "padding": null,
      "right": null,
      "top": null,
      "visibility": null,
      "width": null
     }
    },
    "990993836b714aa6872e24c149eed3b7": {
     "model_module": "@jupyter-widgets/controls",
     "model_module_version": "1.5.0",
     "model_name": "DescriptionStyleModel",
     "state": {
      "_model_module": "@jupyter-widgets/controls",
      "_model_module_version": "1.5.0",
      "_model_name": "DescriptionStyleModel",
      "_view_count": null,
      "_view_module": "@jupyter-widgets/base",
      "_view_module_version": "1.2.0",
      "_view_name": "StyleView",
      "description_width": ""
     }
    },
    "9a3490d0e51d43f282f317f7e8e6d169": {
     "model_module": "@jupyter-widgets/controls",
     "model_module_version": "1.5.0",
     "model_name": "LabelModel",
     "state": {
      "_dom_classes": [],
      "_model_module": "@jupyter-widgets/controls",
      "_model_module_version": "1.5.0",
      "_model_name": "LabelModel",
      "_view_count": null,
      "_view_module": "@jupyter-widgets/controls",
      "_view_module_version": "1.5.0",
      "_view_name": "LabelView",
      "description": "",
      "description_tooltip": null,
      "layout": "IPY_MODEL_b03234e081cc44878bf1feb224d2199b",
      "placeholder": "​",
      "style": "IPY_MODEL_40c4aa1cf16d498faafdd375deae1f91",
      "value": "Invalid user token. If you didn't pass a user token, make sure you are properly logged in by executing `huggingface-cli login`, and if you did pass a user token, double-check it's correct."
     }
    },
    "9c11676ff2c044d784ec67f8441dd340": {
     "model_module": "@jupyter-widgets/controls",
     "model_module_version": "1.5.0",
     "model_name": "HBoxModel",
     "state": {
      "_dom_classes": [],
      "_model_module": "@jupyter-widgets/controls",
      "_model_module_version": "1.5.0",
      "_model_name": "HBoxModel",
      "_view_count": null,
      "_view_module": "@jupyter-widgets/controls",
      "_view_module_version": "1.5.0",
      "_view_name": "HBoxView",
      "box_style": "",
      "children": [
       "IPY_MODEL_89ab31947022419fb5b2c629440c84ef",
       "IPY_MODEL_18f139b46b924cbfbef3f2cd42cf82c8",
       "IPY_MODEL_b0294c44220144a5871daac7f0a59b52"
      ],
      "layout": "IPY_MODEL_78ad2091a39349aebb0c27e8eff56e68"
     }
    },
    "a624c5a905184207a83a1c118a7946a2": {
     "model_module": "@jupyter-widgets/controls",
     "model_module_version": "1.5.0",
     "model_name": "ButtonModel",
     "state": {
      "_dom_classes": [],
      "_model_module": "@jupyter-widgets/controls",
      "_model_module_version": "1.5.0",
      "_model_name": "ButtonModel",
      "_view_count": null,
      "_view_module": "@jupyter-widgets/controls",
      "_view_module_version": "1.5.0",
      "_view_name": "ButtonView",
      "button_style": "",
      "description": "Login",
      "disabled": false,
      "icon": "",
      "layout": "IPY_MODEL_b3377aefa9ab453b8631e71688b58cf3",
      "style": "IPY_MODEL_388101a72cef4ad2912a1928d13c63b9",
      "tooltip": ""
     }
    },
    "b0294c44220144a5871daac7f0a59b52": {
     "model_module": "@jupyter-widgets/controls",
     "model_module_version": "1.5.0",
     "model_name": "HTMLModel",
     "state": {
      "_dom_classes": [],
      "_model_module": "@jupyter-widgets/controls",
      "_model_module_version": "1.5.0",
      "_model_name": "HTMLModel",
      "_view_count": null,
      "_view_module": "@jupyter-widgets/controls",
      "_view_module_version": "1.5.0",
      "_view_name": "HTMLView",
      "description": "",
      "description_tooltip": null,
      "layout": "IPY_MODEL_b10cd2caf1504409a35546c8d297765b",
      "placeholder": "​",
      "style": "IPY_MODEL_ba02722608a345ea8c36f6a7629ad174",
      "value": " 7.16k/7.16k [00:00&lt;00:00, 70.9kB/s]"
     }
    },
    "b03234e081cc44878bf1feb224d2199b": {
     "model_module": "@jupyter-widgets/base",
     "model_module_version": "1.2.0",
     "model_name": "LayoutModel",
     "state": {
      "_model_module": "@jupyter-widgets/base",
      "_model_module_version": "1.2.0",
      "_model_name": "LayoutModel",
      "_view_count": null,
      "_view_module": "@jupyter-widgets/base",
      "_view_module_version": "1.2.0",
      "_view_name": "LayoutView",
      "align_content": null,
      "align_items": null,
      "align_self": null,
      "border": null,
      "bottom": null,
      "display": null,
      "flex": null,
      "flex_flow": null,
      "grid_area": null,
      "grid_auto_columns": null,
      "grid_auto_flow": null,
      "grid_auto_rows": null,
      "grid_column": null,
      "grid_gap": null,
      "grid_row": null,
      "grid_template_areas": null,
      "grid_template_columns": null,
      "grid_template_rows": null,
      "height": null,
      "justify_content": null,
      "justify_items": null,
      "left": null,
      "margin": null,
      "max_height": null,
      "max_width": null,
      "min_height": null,
      "min_width": null,
      "object_fit": null,
      "object_position": null,
      "order": null,
      "overflow": null,
      "overflow_x": null,
      "overflow_y": null,
      "padding": null,
      "right": null,
      "top": null,
      "visibility": null,
      "width": null
     }
    },
    "b0619861cc174c5ab6ff37053bf4d67e": {
     "model_module": "@jupyter-widgets/base",
     "model_module_version": "1.2.0",
     "model_name": "LayoutModel",
     "state": {
      "_model_module": "@jupyter-widgets/base",
      "_model_module_version": "1.2.0",
      "_model_name": "LayoutModel",
      "_view_count": null,
      "_view_module": "@jupyter-widgets/base",
      "_view_module_version": "1.2.0",
      "_view_name": "LayoutView",
      "align_content": null,
      "align_items": null,
      "align_self": null,
      "border": null,
      "bottom": null,
      "display": null,
      "flex": null,
      "flex_flow": null,
      "grid_area": null,
      "grid_auto_columns": null,
      "grid_auto_flow": null,
      "grid_auto_rows": null,
      "grid_column": null,
      "grid_gap": null,
      "grid_row": null,
      "grid_template_areas": null,
      "grid_template_columns": null,
      "grid_template_rows": null,
      "height": null,
      "justify_content": null,
      "justify_items": null,
      "left": null,
      "margin": null,
      "max_height": null,
      "max_width": null,
      "min_height": null,
      "min_width": null,
      "object_fit": null,
      "object_position": null,
      "order": null,
      "overflow": null,
      "overflow_x": null,
      "overflow_y": null,
      "padding": null,
      "right": null,
      "top": null,
      "visibility": null,
      "width": null
     }
    },
    "b10cd2caf1504409a35546c8d297765b": {
     "model_module": "@jupyter-widgets/base",
     "model_module_version": "1.2.0",
     "model_name": "LayoutModel",
     "state": {
      "_model_module": "@jupyter-widgets/base",
      "_model_module_version": "1.2.0",
      "_model_name": "LayoutModel",
      "_view_count": null,
      "_view_module": "@jupyter-widgets/base",
      "_view_module_version": "1.2.0",
      "_view_name": "LayoutView",
      "align_content": null,
      "align_items": null,
      "align_self": null,
      "border": null,
      "bottom": null,
      "display": null,
      "flex": null,
      "flex_flow": null,
      "grid_area": null,
      "grid_auto_columns": null,
      "grid_auto_flow": null,
      "grid_auto_rows": null,
      "grid_column": null,
      "grid_gap": null,
      "grid_row": null,
      "grid_template_areas": null,
      "grid_template_columns": null,
      "grid_template_rows": null,
      "height": null,
      "justify_content": null,
      "justify_items": null,
      "left": null,
      "margin": null,
      "max_height": null,
      "max_width": null,
      "min_height": null,
      "min_width": null,
      "object_fit": null,
      "object_position": null,
      "order": null,
      "overflow": null,
      "overflow_x": null,
      "overflow_y": null,
      "padding": null,
      "right": null,
      "top": null,
      "visibility": null,
      "width": null
     }
    },
    "b3377aefa9ab453b8631e71688b58cf3": {
     "model_module": "@jupyter-widgets/base",
     "model_module_version": "1.2.0",
     "model_name": "LayoutModel",
     "state": {
      "_model_module": "@jupyter-widgets/base",
      "_model_module_version": "1.2.0",
      "_model_name": "LayoutModel",
      "_view_count": null,
      "_view_module": "@jupyter-widgets/base",
      "_view_module_version": "1.2.0",
      "_view_name": "LayoutView",
      "align_content": null,
      "align_items": null,
      "align_self": null,
      "border": null,
      "bottom": null,
      "display": null,
      "flex": null,
      "flex_flow": null,
      "grid_area": null,
      "grid_auto_columns": null,
      "grid_auto_flow": null,
      "grid_auto_rows": null,
      "grid_column": null,
      "grid_gap": null,
      "grid_row": null,
      "grid_template_areas": null,
      "grid_template_columns": null,
      "grid_template_rows": null,
      "height": null,
      "justify_content": null,
      "justify_items": null,
      "left": null,
      "margin": null,
      "max_height": null,
      "max_width": null,
      "min_height": null,
      "min_width": null,
      "object_fit": null,
      "object_position": null,
      "order": null,
      "overflow": null,
      "overflow_x": null,
      "overflow_y": null,
      "padding": null,
      "right": null,
      "top": null,
      "visibility": null,
      "width": null
     }
    },
    "ba02722608a345ea8c36f6a7629ad174": {
     "model_module": "@jupyter-widgets/controls",
     "model_module_version": "1.5.0",
     "model_name": "DescriptionStyleModel",
     "state": {
      "_model_module": "@jupyter-widgets/controls",
      "_model_module_version": "1.5.0",
      "_model_name": "DescriptionStyleModel",
      "_view_count": null,
      "_view_module": "@jupyter-widgets/base",
      "_view_module_version": "1.2.0",
      "_view_name": "StyleView",
      "description_width": ""
     }
    },
    "baa52e71594743dca85fcb54ccc16ce2": {
     "model_module": "@jupyter-widgets/controls",
     "model_module_version": "1.5.0",
     "model_name": "DescriptionStyleModel",
     "state": {
      "_model_module": "@jupyter-widgets/controls",
      "_model_module_version": "1.5.0",
      "_model_name": "DescriptionStyleModel",
      "_view_count": null,
      "_view_module": "@jupyter-widgets/base",
      "_view_module_version": "1.2.0",
      "_view_name": "StyleView",
      "description_width": ""
     }
    },
    "c257765e791c497781b8b708b2d4f115": {
     "model_module": "@jupyter-widgets/controls",
     "model_module_version": "1.5.0",
     "model_name": "DescriptionStyleModel",
     "state": {
      "_model_module": "@jupyter-widgets/controls",
      "_model_module_version": "1.5.0",
      "_model_name": "DescriptionStyleModel",
      "_view_count": null,
      "_view_module": "@jupyter-widgets/base",
      "_view_module_version": "1.2.0",
      "_view_name": "StyleView",
      "description_width": ""
     }
    },
    "c2c0d653ffef4dbcbfd59cae34c71eb5": {
     "model_module": "@jupyter-widgets/controls",
     "model_module_version": "1.5.0",
     "model_name": "HTMLModel",
     "state": {
      "_dom_classes": [],
      "_model_module": "@jupyter-widgets/controls",
      "_model_module_version": "1.5.0",
      "_model_name": "HTMLModel",
      "_view_count": null,
      "_view_module": "@jupyter-widgets/controls",
      "_view_module_version": "1.5.0",
      "_view_name": "HTMLView",
      "description": "",
      "description_tooltip": null,
      "layout": "IPY_MODEL_338793d1dcb64c268e32d1698a6b2480",
      "placeholder": "​",
      "style": "IPY_MODEL_c257765e791c497781b8b708b2d4f115",
      "value": "<center> <img\nsrc=https://huggingface.co/front/assets/huggingface_logo-noborder.svg\nalt='Hugging Face'> <br> Copy a token from <a\nhref=\"https://huggingface.co/settings/tokens\" target=\"_blank\">your Hugging Face\ntokens page</a> and paste it below. <br> Immediately click login after copying\nyour token or it might be stored in plain text in this notebook file. </center>"
     }
    },
    "d6c1dbbe0f214790be2e18f335ec2f4e": {
     "model_module": "@jupyter-widgets/controls",
     "model_module_version": "1.5.0",
     "model_name": "HBoxModel",
     "state": {
      "_dom_classes": [],
      "_model_module": "@jupyter-widgets/controls",
      "_model_module_version": "1.5.0",
      "_model_name": "HBoxModel",
      "_view_count": null,
      "_view_module": "@jupyter-widgets/controls",
      "_view_module_version": "1.5.0",
      "_view_name": "HBoxView",
      "box_style": "",
      "children": [
       "IPY_MODEL_697c2cef346045558136941119c41a04",
       "IPY_MODEL_6760ec485a7a4447a0a3258a241978d5",
       "IPY_MODEL_5d8cd98cff584b61bd4e07499b2e3be5"
      ],
      "layout": "IPY_MODEL_3db7a302579b48068fcaefaa48ba3c1f"
     }
    },
    "d756d20660e94ed299fdd38bc6f95520": {
     "model_module": "@jupyter-widgets/controls",
     "model_module_version": "1.5.0",
     "model_name": "DescriptionStyleModel",
     "state": {
      "_model_module": "@jupyter-widgets/controls",
      "_model_module_version": "1.5.0",
      "_model_name": "DescriptionStyleModel",
      "_view_count": null,
      "_view_module": "@jupyter-widgets/base",
      "_view_module_version": "1.2.0",
      "_view_name": "StyleView",
      "description_width": ""
     }
    },
    "dd18226f7c7941189ba01f0098877aed": {
     "model_module": "@jupyter-widgets/controls",
     "model_module_version": "1.5.0",
     "model_name": "VBoxModel",
     "state": {
      "_dom_classes": [],
      "_model_module": "@jupyter-widgets/controls",
      "_model_module_version": "1.5.0",
      "_model_name": "VBoxModel",
      "_view_count": null,
      "_view_module": "@jupyter-widgets/controls",
      "_view_module_version": "1.5.0",
      "_view_name": "VBoxView",
      "box_style": "",
      "children": [
       "IPY_MODEL_9a3490d0e51d43f282f317f7e8e6d169"
      ],
      "layout": "IPY_MODEL_f724084315a54daabff12b96214a557c"
     }
    },
    "e1efdf40d14643b0afd1bd3a69c8f7a0": {
     "model_module": "@jupyter-widgets/base",
     "model_module_version": "1.2.0",
     "model_name": "LayoutModel",
     "state": {
      "_model_module": "@jupyter-widgets/base",
      "_model_module_version": "1.2.0",
      "_model_name": "LayoutModel",
      "_view_count": null,
      "_view_module": "@jupyter-widgets/base",
      "_view_module_version": "1.2.0",
      "_view_name": "LayoutView",
      "align_content": null,
      "align_items": null,
      "align_self": null,
      "border": null,
      "bottom": null,
      "display": null,
      "flex": null,
      "flex_flow": null,
      "grid_area": null,
      "grid_auto_columns": null,
      "grid_auto_flow": null,
      "grid_auto_rows": null,
      "grid_column": null,
      "grid_gap": null,
      "grid_row": null,
      "grid_template_areas": null,
      "grid_template_columns": null,
      "grid_template_rows": null,
      "height": null,
      "justify_content": null,
      "justify_items": null,
      "left": null,
      "margin": null,
      "max_height": null,
      "max_width": null,
      "min_height": null,
      "min_width": null,
      "object_fit": null,
      "object_position": null,
      "order": null,
      "overflow": null,
      "overflow_x": null,
      "overflow_y": null,
      "padding": null,
      "right": null,
      "top": null,
      "visibility": null,
      "width": null
     }
    },
    "ebfc3cd40fca4b09a749a26d0ff05d05": {
     "model_module": "@jupyter-widgets/controls",
     "model_module_version": "1.5.0",
     "model_name": "LabelModel",
     "state": {
      "_dom_classes": [],
      "_model_module": "@jupyter-widgets/controls",
      "_model_module_version": "1.5.0",
      "_model_name": "LabelModel",
      "_view_count": null,
      "_view_module": "@jupyter-widgets/controls",
      "_view_module_version": "1.5.0",
      "_view_name": "LabelView",
      "description": "",
      "description_tooltip": null,
      "layout": "IPY_MODEL_35228f38b23a434495ea6d0f12c03f4f",
      "placeholder": "​",
      "style": "IPY_MODEL_baa52e71594743dca85fcb54ccc16ce2",
      "value": "Connecting..."
     }
    },
    "ef560440e1d54ac2ab06697b8417b5b7": {
     "model_module": "@jupyter-widgets/controls",
     "model_module_version": "1.5.0",
     "model_name": "HTMLModel",
     "state": {
      "_dom_classes": [],
      "_model_module": "@jupyter-widgets/controls",
      "_model_module_version": "1.5.0",
      "_model_name": "HTMLModel",
      "_view_count": null,
      "_view_module": "@jupyter-widgets/controls",
      "_view_module_version": "1.5.0",
      "_view_name": "HTMLView",
      "description": "",
      "description_tooltip": null,
      "layout": "IPY_MODEL_f88c493572454ee88f4380a1b9b92202",
      "placeholder": "​",
      "style": "IPY_MODEL_93dce185b98e489fba27900c65b12743",
      "value": "\n<b>Pro Tip:</b> If you don't already have one, you can create a dedicated\n'notebooks' token with 'write' access, that you can then easily reuse for all\nnotebooks. </center>"
     }
    },
    "f1a875c3b5324afaa5131e66543f4e12": {
     "model_module": "@jupyter-widgets/base",
     "model_module_version": "1.2.0",
     "model_name": "LayoutModel",
     "state": {
      "_model_module": "@jupyter-widgets/base",
      "_model_module_version": "1.2.0",
      "_model_name": "LayoutModel",
      "_view_count": null,
      "_view_module": "@jupyter-widgets/base",
      "_view_module_version": "1.2.0",
      "_view_name": "LayoutView",
      "align_content": null,
      "align_items": null,
      "align_self": null,
      "border": null,
      "bottom": null,
      "display": null,
      "flex": null,
      "flex_flow": null,
      "grid_area": null,
      "grid_auto_columns": null,
      "grid_auto_flow": null,
      "grid_auto_rows": null,
      "grid_column": null,
      "grid_gap": null,
      "grid_row": null,
      "grid_template_areas": null,
      "grid_template_columns": null,
      "grid_template_rows": null,
      "height": null,
      "justify_content": null,
      "justify_items": null,
      "left": null,
      "margin": null,
      "max_height": null,
      "max_width": null,
      "min_height": null,
      "min_width": null,
      "object_fit": null,
      "object_position": null,
      "order": null,
      "overflow": null,
      "overflow_x": null,
      "overflow_y": null,
      "padding": null,
      "right": null,
      "top": null,
      "visibility": null,
      "width": null
     }
    },
    "f724084315a54daabff12b96214a557c": {
     "model_module": "@jupyter-widgets/base",
     "model_module_version": "1.2.0",
     "model_name": "LayoutModel",
     "state": {
      "_model_module": "@jupyter-widgets/base",
      "_model_module_version": "1.2.0",
      "_model_name": "LayoutModel",
      "_view_count": null,
      "_view_module": "@jupyter-widgets/base",
      "_view_module_version": "1.2.0",
      "_view_name": "LayoutView",
      "align_content": null,
      "align_items": "center",
      "align_self": null,
      "border": null,
      "bottom": null,
      "display": "flex",
      "flex": null,
      "flex_flow": "column",
      "grid_area": null,
      "grid_auto_columns": null,
      "grid_auto_flow": null,
      "grid_auto_rows": null,
      "grid_column": null,
      "grid_gap": null,
      "grid_row": null,
      "grid_template_areas": null,
      "grid_template_columns": null,
      "grid_template_rows": null,
      "height": null,
      "justify_content": null,
      "justify_items": null,
      "left": null,
      "margin": null,
      "max_height": null,
      "max_width": null,
      "min_height": null,
      "min_width": null,
      "object_fit": null,
      "object_position": null,
      "order": null,
      "overflow": null,
      "overflow_x": null,
      "overflow_y": null,
      "padding": null,
      "right": null,
      "top": null,
      "visibility": null,
      "width": "50%"
     }
    },
    "f88c493572454ee88f4380a1b9b92202": {
     "model_module": "@jupyter-widgets/base",
     "model_module_version": "1.2.0",
     "model_name": "LayoutModel",
     "state": {
      "_model_module": "@jupyter-widgets/base",
      "_model_module_version": "1.2.0",
      "_model_name": "LayoutModel",
      "_view_count": null,
      "_view_module": "@jupyter-widgets/base",
      "_view_module_version": "1.2.0",
      "_view_name": "LayoutView",
      "align_content": null,
      "align_items": null,
      "align_self": null,
      "border": null,
      "bottom": null,
      "display": null,
      "flex": null,
      "flex_flow": null,
      "grid_area": null,
      "grid_auto_columns": null,
      "grid_auto_flow": null,
      "grid_auto_rows": null,
      "grid_column": null,
      "grid_gap": null,
      "grid_row": null,
      "grid_template_areas": null,
      "grid_template_columns": null,
      "grid_template_rows": null,
      "height": null,
      "justify_content": null,
      "justify_items": null,
      "left": null,
      "margin": null,
      "max_height": null,
      "max_width": null,
      "min_height": null,
      "min_width": null,
      "object_fit": null,
      "object_position": null,
      "order": null,
      "overflow": null,
      "overflow_x": null,
      "overflow_y": null,
      "padding": null,
      "right": null,
      "top": null,
      "visibility": null,
      "width": null
     }
    }
   }
  }
 },
 "nbformat": 4,
 "nbformat_minor": 0
}
