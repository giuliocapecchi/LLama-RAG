{
 "cells": [
  {
   "cell_type": "code",
   "execution_count": 9,
   "metadata": {},
   "outputs": [
    {
     "name": "stderr",
     "output_type": "stream",
     "text": [
      "C:\\Users\\giuli\\.cache\\huggingface\\modules\\transformers_modules\\nomic-ai\\nomic-bert-2048\\eb02ceb48c1fdcc477ff1925c9732c379f0f0d1f\\modeling_hf_nomic_bert.py:108: FutureWarning: You are using `torch.load` with `weights_only=False` (the current default value), which uses the default pickle module implicitly. It is possible to construct malicious pickle data which will execute arbitrary code during unpickling (See https://github.com/pytorch/pytorch/blob/main/SECURITY.md#untrusted-models for more details). In a future release, the default value for `weights_only` will be flipped to `True`. This limits the functions that could be executed during unpickling. Arbitrary objects will no longer be allowed to be loaded via this mode unless they are explicitly allowlisted by the user via `torch.serialization.add_safe_globals`. We recommend you start setting `weights_only=True` for any use case where you don't have full control of the loaded file. Please open an issue on GitHub for any issues related to this experimental feature.\n",
      "  state_dict = loader(resolved_archive_file)\n",
      "<All keys matched successfully>\n",
      "<All keys matched successfully>\n"
     ]
    },
    {
     "name": "stdout",
     "output_type": "stream",
     "text": [
      "Disabled 37 dropout modules from model type <class 'transformers_modules.jxm.cde-small-v1.9e2ed1d8d569d34458913d2d246935c1b2324d11.model.BiEncoder'>\n",
      "modified 12 rotary modules – set rotary_start_pos to 512\n",
      "Disabled 74 dropout modules from model type <class 'transformers_modules.jxm.cde-small-v1.9e2ed1d8d569d34458913d2d246935c1b2324d11.model.DatasetTransformer'>\n"
     ]
    }
   ],
   "source": [
    "import transformers\n",
    "\n",
    "model = transformers.AutoModel.from_pretrained(\"jxm/cde-small-v1\", trust_remote_code=True)\n",
    "tokenizer = transformers.AutoTokenizer.from_pretrained(\"bert-base-uncased\")"
   ]
  },
  {
   "cell_type": "code",
   "execution_count": null,
   "metadata": {},
   "outputs": [
    {
     "name": "stdout",
     "output_type": "stream",
     "text": [
      "DatasetDict({\n",
      "    train: Dataset({\n",
      "        features: ['_id', 'title', 'text'],\n",
      "        num_rows: 5233329\n",
      "    })\n",
      "})\n",
      "{'_id': ['12', '25', '39', '290', '303'], 'title': ['Anarchism', 'Autism', 'Albedo', 'A', 'Alabama'], 'text': ['Anarchism is a political philosophy that advocates self-governed societies based on voluntary institutions. These are often described as stateless societies, although several authors have defined them more specifically as institutions based on non-hierarchical free associations. Anarchism holds the state to be undesirable, unnecessary and harmful.', \"Autism is a neurodevelopmental disorder characterized by impaired social interaction, impaired verbal and non-verbal communication, and restricted and repetitive behavior. Parents usually notice signs in the first two years of their child's life. These signs often develop gradually, though some children with autism reach their developmental milestones at a normal pace and then regress. The diagnostic criteria require that symptoms become apparent in early childhood, typically before age three.\", 'Albedo ( ) is a measure for reflectance or optical brightness (Latin \"albedo,\" \"whiteness\") of a surface. It is dimensionless and measured on a scale from zero (corresponding to a black body that absorbs all incident radiation) to one (corresponding to a white body that reflects all incident radiation).', 'A (named , plural \"As\", \"A\\'s\", \"a\"s, \"a\\'s\" or \"aes\" ) is the first letter and the first vowel of the ISO basic Latin alphabet. It is similar to the Ancient Greek letter alpha, from which it derives. The upper-case version consists of the two slanting sides of a triangle, crossed in the middle by a horizontal bar. The lower-case version can be written in two forms: the double-storey a and single-storey ɑ. The latter is commonly used in handwriting and fonts based on it, especially fonts intended to be read by children, and is also found in italic type.', 'Alabama ( ) is a state in the southeastern region of the United States. It is bordered by Tennessee to the north, Georgia to the east, Florida and the Gulf of Mexico to the south, and Mississippi to the west. Alabama is the 30th largest by area and the 24th-most populous of the U.S. states. With a total of 1500 mi of inland waterways, Alabama has among the most of any state.']}\n"
     ]
    }
   ],
   "source": [
    "from datasets import Features, Value, Sequence, load_dataset\n",
    "\n",
    "# Carica il dataset da un file JSON locale\n",
    "corpus = load_dataset(\"json\", data_files=\"hotpotqa/hotpotqa/corpus.jsonl\")\n",
    "# Droppa 'metadata' dal dataset, contiene solo url e del documento\n",
    "corpus = corpus.remove_columns(['metadata']) \n",
    "\n",
    "print(corpus)\n",
    "print(corpus['train'][:5])  # Mostra le prime 5 righe del corpus"
   ]
  },
  {
   "cell_type": "code",
   "execution_count": 5,
   "metadata": {},
   "outputs": [],
   "source": [
    "import json\n",
    "\n",
    "# Paths to the input and output files\n",
    "input_file = \"hotpotqa/hotpotqa/queries.jsonl\"\n",
    "output_file = \"hotpotqa/hotpotqa/queries_fixed.jsonl\"\n",
    "\n",
    "with open(input_file, \"r\") as infile, open(output_file, \"w\") as outfile:\n",
    "    for line in infile:\n",
    "        data = json.loads(line)\n",
    "        # Remove `supporting_facts` from metadata\n",
    "        if \"supporting_facts\" in data[\"metadata\"]:\n",
    "            del data[\"metadata\"][\"supporting_facts\"]\n",
    "        # Write the modified data back to a new file\n",
    "        outfile.write(json.dumps(data) + \"\\n\")\n"
   ]
  },
  {
   "cell_type": "code",
   "execution_count": null,
   "metadata": {},
   "outputs": [
    {
     "data": {
      "application/vnd.jupyter.widget-view+json": {
       "model_id": "66f4fcf0edc4453383e8846da96f3495",
       "version_major": 2,
       "version_minor": 0
      },
      "text/plain": [
       "Generating train split: 0 examples [00:00, ? examples/s]"
      ]
     },
     "metadata": {},
     "output_type": "display_data"
    },
    {
     "name": "stdout",
     "output_type": "stream",
     "text": [
      "DatasetDict({\n",
      "    train: Dataset({\n",
      "        features: ['_id', 'text', 'metadata'],\n",
      "        num_rows: 97852\n",
      "    })\n",
      "})\n",
      "{'_id': ['5ab6d31155429954757d3384', '5ac0d92f554299012d1db645', '5abd01335542993a06baf9fc', '5abff8c95542994516f4555c', '5adec8ad55429975fa854f8f'], 'text': ['What country of origin does House of Cosbys and Bill Cosby have in common?', 'How many fountains where present \"World of Color\" which includes lights,fire,laser and fog which has anthology television series and created by Steve Davison, who is Lead Creative Executive of Parades for Walt Disney and author such a shows as \"Believe..There\\'s Magic in the Start\", \"Disney Dreams!\"?', 'Chris Larceny directed the music video Gon Jock, featuring a Haitian rapper who first achieved fame as a member of what New Jersey hip hop group?', 'The person where local tradition says Cross Lake is the boyhood home of co-founded what group?', 'The actor who played Carl Sweetchuck in the \"Police Academy\" films wrote the screenplay for \"About Last Night\" along with who else?'], 'metadata': [{'answer': 'American'}, {'answer': '1,200 musical water fountains'}, {'answer': 'the Fugees'}, {'answer': 'the Iroquois Confederacy'}, {'answer': 'Denise DeClue'}]}\n"
     ]
    }
   ],
   "source": [
    "# Define the schema without `supporting_facts`\n",
    "features = Features({\n",
    "    \"_id\": Value(\"string\"),\n",
    "    \"text\": Value(\"string\"),\n",
    "    \"metadata\": {\n",
    "        \"answer\": Value(\"string\"),\n",
    "    }\n",
    "})\n",
    "\n",
    "# Load the preprocessed dataset\n",
    "queries = load_dataset(\"json\", data_files=\"hotpotqa/hotpotqa/queries_fixed.jsonl\", features=features)\n",
    "\n",
    "print(queries)\n",
    "print(queries['train'][:5])  # Display the first 5 rows\n"
   ]
  },
  {
   "cell_type": "code",
   "execution_count": 11,
   "metadata": {},
   "outputs": [
    {
     "data": {
      "application/vnd.jupyter.widget-view+json": {
       "model_id": "aa5175f134c143228d6fe9fef6cb213b",
       "version_major": 2,
       "version_minor": 0
      },
      "text/plain": [
       "Map:   0%|          | 0/512 [00:00<?, ? examples/s]"
      ]
     },
     "metadata": {},
     "output_type": "display_data"
    }
   ],
   "source": [
    "query_prefix = \"search_query: \"\n",
    "document_prefix = \"search_document: \"\n",
    "\n",
    "import random\n",
    "\n",
    "def process_ex_document(ex: dict) -> dict:\n",
    "  ex[\"text\"] = f\"{ex['title']} {ex['text']}\"\n",
    "  return ex\n",
    "\n",
    "corpus_size = model.config.transductive_corpus_size\n",
    "minicorpus_docs = corpus['train'].select(random.choices(list(range(len(corpus['train']))), k=corpus_size))\n",
    "minicorpus_docs = minicorpus_docs.map(process_ex_document)[\"text\"]\n",
    "minicorpus_docs = tokenizer(\n",
    "    [document_prefix + doc for doc in minicorpus_docs],\n",
    "    truncation=True,\n",
    "    padding=True,\n",
    "    max_length=512,\n",
    "    return_tensors=\"pt\"\n",
    ")"
   ]
  },
  {
   "cell_type": "markdown",
   "metadata": {},
   "source": [
    "# 1. gather embeddings"
   ]
  },
  {
   "cell_type": "code",
   "execution_count": 12,
   "metadata": {},
   "outputs": [
    {
     "name": "stdout",
     "output_type": "stream",
     "text": [
      "Using cuda\n"
     ]
    }
   ],
   "source": [
    "import torch\n",
    "device = torch.device(\"cuda\" if torch.cuda.is_available() else \"cpu\")\n",
    "print(f\"Using {device}\")\n",
    "model.to(device)\n",
    "minicorpus_docs = minicorpus_docs.to(device)"
   ]
  },
  {
   "cell_type": "code",
   "execution_count": 13,
   "metadata": {},
   "outputs": [
    {
     "data": {
      "application/vnd.jupyter.widget-view+json": {
       "model_id": "a530469953fb40389d0e5e2876215bc6",
       "version_major": 2,
       "version_minor": 0
      },
      "text/plain": [
       "  0%|          | 0/16 [00:00<?, ?it/s]"
      ]
     },
     "metadata": {},
     "output_type": "display_data"
    }
   ],
   "source": [
    "import torch\n",
    "from tqdm.autonotebook import tqdm\n",
    "\n",
    "batch_size = 32\n",
    "\n",
    "dataset_embeddings = []\n",
    "for i in tqdm(range(0, len(minicorpus_docs[\"input_ids\"]), batch_size)):\n",
    "    minicorpus_docs_batch = {k: v[i:i+batch_size] for k,v in minicorpus_docs.items()}\n",
    "    with torch.no_grad():\n",
    "        dataset_embeddings.append(\n",
    "            model.first_stage_model(**minicorpus_docs_batch)\n",
    "        )\n",
    "\n",
    "dataset_embeddings = torch.cat(dataset_embeddings)"
   ]
  },
  {
   "cell_type": "markdown",
   "metadata": {},
   "source": [
    "# 2. Embed in context"
   ]
  },
  {
   "cell_type": "code",
   "execution_count": 14,
   "metadata": {},
   "outputs": [],
   "source": [
    "docs = corpus['train'].select(range(16)).map(process_ex_document)[\"text\"]\n",
    "\n",
    "docs = tokenizer(\n",
    "    [document_prefix + doc for doc in docs],\n",
    "    truncation=True,\n",
    "    padding=True,\n",
    "    max_length=512,\n",
    "    return_tensors=\"pt\"\n",
    ").to(device)\n",
    "\n",
    "with torch.no_grad():\n",
    "  doc_embeddings = model.second_stage_model(\n",
    "      input_ids=docs[\"input_ids\"],\n",
    "      attention_mask=docs[\"attention_mask\"],\n",
    "      dataset_embeddings=dataset_embeddings,\n",
    "  )\n",
    "doc_embeddings /= doc_embeddings.norm(p=2, dim=1, keepdim=True)"
   ]
  },
  {
   "cell_type": "code",
   "execution_count": 16,
   "metadata": {},
   "outputs": [],
   "source": [
    "queries = queries[\"train\"].select(range(16))[\"text\"]\n",
    "queries = tokenizer(\n",
    "    [query_prefix + query for query in queries],\n",
    "    truncation=True,\n",
    "    padding=True,\n",
    "    max_length=512,\n",
    "    return_tensors=\"pt\"\n",
    ").to(device)\n",
    "\n",
    "with torch.no_grad():\n",
    "  query_embeddings = model.second_stage_model(\n",
    "      input_ids=queries[\"input_ids\"],\n",
    "      attention_mask=queries[\"attention_mask\"],\n",
    "      dataset_embeddings=dataset_embeddings,\n",
    "  )\n",
    "query_embeddings /= query_embeddings.norm(p=2, dim=1, keepdim=True)"
   ]
  },
  {
   "cell_type": "code",
   "execution_count": null,
   "metadata": {},
   "outputs": [
    {
     "data": {
      "text/plain": [
       "<Axes: >"
      ]
     },
     "execution_count": 21,
     "metadata": {},
     "output_type": "execute_result"
    },
    {
     "data": {
      "image/png": "[encoded data removed]",
      "text/plain": [
       "<Figure size 640x480 with 2 Axes>"
      ]
     },
     "metadata": {},
     "output_type": "display_data"
    }
   ],
   "source": [
    "import seaborn as sns\n",
    "\n",
    "sns.heatmap((doc_embeddings @ query_embeddings.T).cpu(), cmap=\"jet\") # the more red the better the similarity"
   ]
  },
  {
   "cell_type": "code",
   "execution_count": 23,
   "metadata": {},
   "outputs": [
    {
     "name": "stdout",
     "output_type": "stream",
     "text": [
      "Query: search _ query : what country of origin does house of cosbys and bill cosby have in common?\n",
      "Best document: search _ document : animalia ( book ) animalia is an illustrated children ' s book by graeme base. it was originally published in 1986, followed by a tenth anniversary edition in 1996, and a 25th anniversary edition in 2012. over three million copies have been sold. a special numbered and signed anniversary edition was also published in 1996, with an embossed gold jacket.\n",
      "Similarity: 0.3952404856681824\n",
      "\n",
      "Query: search _ query : how many fountains where present \" world of color \" which includes lights, fire, laser and fog which has anthology television series and created by steve davison, who is lead creative executive of parades for walt disney and author such a shows as \" believe.. there ' s magic in the start \", \" disney dreams! \"?\n",
      "Best document: search _ document : international atomic time international atomic time ( tai, from the french name \" temps atomique international \" ) is a high - precision atomic coordinate time standard based on the notional passage of proper time on earth ' s geoid. it is the principal realisation of terrestrial time ( except for a fixed offset of epoch ). it is also the basis for coordinated universal time ( utc ), which is used for civil timekeeping all over the earth ' s surface. s of 31 2016 when another leap second was added, tai is exactly 37 seconds ahead of utc. the 37 seconds results from the initial difference of 10 seconds at the start of 1972, plus 27 leap seconds in utc since 1972.\n",
      "Similarity: 0.44522878527641296\n",
      "\n",
      "Query: search _ query : chris larceny directed the music video gon jock, featuring a haitian rapper who first achieved fame as a member of what new jersey hip hop group?\n",
      "Best document: search _ document : achilles in greek mythology, achilles (, ; ] ) was a greek hero of the trojan war and the central character and greatest warrior of homer ' s \" iliad \". his mother was the immortal nereid thetis, and his father, the mortal peleus, was the king of the myrmidons.\n",
      "Similarity: 0.3574199080467224\n",
      "\n",
      "Query: search _ query : the person where local tradition says cross lake is the boyhood home of co - founded what group?\n",
      "Best document: search _ document : altruism altruism or selflessness is the principle or practice of concern for the welfare of others. it is a traditional virtue in many cultures and a core aspect of various religious traditions and secular worldviews, though the concept of \" others \" toward whom concern should be directed can vary among cultures and religions. altruism or selflessness is the opposite of selfishness. the word was coined by the french philosopher auguste comte in french, as \" altruisme \", for an antonym of egoism. he derived it from the italian \" altrui \", which in turn was derived from latin \" alteri \", meaning \" other people \" or \" somebody else \".\n",
      "Similarity: 0.39615312218666077\n",
      "\n",
      "Query: search _ query : the actor who played carl sweetchuck in the \" police academy \" films wrote the screenplay for \" about last night \" along with who else?\n",
      "Best document: search _ document : actrius actresses ( catalan : actrius ) is a 1997 catalan language spanish drama film produced and directed by ventura pons and based on the award - winning stage play \" e. r. \" by josep maria benet i jornet. the film has no male actors, with all roles played by females. the film was produced in 1996.\n",
      "Similarity: 0.4694710373878479\n",
      "\n",
      "Query: search _ query : who was the director of the 2010 hong kong biographical martial arts film in which ashton chen played the role of a martial arts student?\n",
      "Best document: search _ document : academy award for best production design the academy award for best production design recognizes achievement for art direction in film. the category ' s original name was best art direction, but was changed to its current name in 2012 for the 85th academy awards. this change resulted from the art director ' s branch of the academy of motion picture arts and sciences ( ampas ) being renamed the designer ' s branch. since 1947, the award is shared with the set decorator ( s ). it is awarded to the best interior design in a film.\n",
      "Similarity: 0.4214535355567932\n",
      "\n",
      "Query: search _ query : which actor starred in assignment to kill and passed away in 2000.\n",
      "Best document: search _ document : actrius actresses ( catalan : actrius ) is a 1997 catalan language spanish drama film produced and directed by ventura pons and based on the award - winning stage play \" e. r. \" by josep maria benet i jornet. the film has no male actors, with all roles played by females. the film was produced in 1996.\n",
      "Similarity: 0.4073362648487091\n",
      "\n",
      "Query: search _ query : which representative of the electoral district of monaro is the 18th deputy premier of new south wales?\n",
      "Best document: search _ document : a a ( named, plural \" as \", \" a ' s \", \" a \" s, \" a ' s \" or \" aes \" ) is the first letter and the first vowel of the iso basic latin alphabet. it is similar to the ancient greek letter alpha, from which it derives. the upper - case version consists of the two slanting sides of a triangle, crossed in the middle by a horizontal bar. the lower - case version can be written in two forms : the double - storey a and single - storey ɑ. the latter is commonly used in handwriting and fonts based on it, especially fonts intended to be read by children, and is also found in italic type.\n",
      "Similarity: 0.4115818738937378\n",
      "\n",
      "Query: search _ query : which player, known as the sikkimese sniper, played for east bengal?\n",
      "Best document: search _ document : actrius actresses ( catalan : actrius ) is a 1997 catalan language spanish drama film produced and directed by ventura pons and based on the award - winning stage play \" e. r. \" by josep maria benet i jornet. the film has no male actors, with all roles played by females. the film was produced in 1996.\n",
      "Similarity: 0.3550260066986084\n",
      "\n",
      "Query: search _ query : the 2015 kids ' choice sports awards was hosted by an american footbal quarterback who was born on november 29th of what year?\n",
      "Best document: search _ document : an american in paris an american in paris is a jazz - influenced orchestral piece by the american composer george gershwin, written in 1928. inspired by the time gershwin had spent in paris, it evokes the sights and energy of the french capital in the 1920s and is one of his best - known compositions.\n",
      "Similarity: 0.3721339702606201\n",
      "\n",
      "Query: search _ query : what is compact identifier 1996astro for galaxy fliament also known as?\n",
      "Best document: search _ document : actrius actresses ( catalan : actrius ) is a 1997 catalan language spanish drama film produced and directed by ventura pons and based on the award - winning stage play \" e. r. \" by josep maria benet i jornet. the film has no male actors, with all roles played by females. the film was produced in 1996.\n",
      "Similarity: 0.41629552841186523\n",
      "\n",
      "Query: search _ query : what is known to have 27 titles, has charles pickel on the squad and referred to a gc?\n",
      "Best document: search _ document : academy award for best production design the academy award for best production design recognizes achievement for art direction in film. the category ' s original name was best art direction, but was changed to its current name in 2012 for the 85th academy awards. this change resulted from the art director ' s branch of the academy of motion picture arts and sciences ( ampas ) being renamed the designer ' s branch. since 1947, the award is shared with the set decorator ( s ). it is awarded to the best interior design in a film.\n",
      "Similarity: 0.39068546891212463\n",
      "\n",
      "Query: search _ query : peter griffith ' s granddaughter had her screen debut in what 1999 film?\n",
      "Best document: search _ document : actrius actresses ( catalan : actrius ) is a 1997 catalan language spanish drama film produced and directed by ventura pons and based on the award - winning stage play \" e. r. \" by josep maria benet i jornet. the film has no male actors, with all roles played by females. the film was produced in 1996.\n",
      "Similarity: 0.3838546872138977\n",
      "\n",
      "Query: search _ query : who currently represents the congressional district for which jim meffert was the democratic nominee in 2010?\n",
      "Best document: search _ document : albedo albedo ( ) is a measure for reflectance or optical brightness ( latin \" albedo, \" \" whiteness \" ) of a surface. it is dimensionless and measured on a scale from zero ( corresponding to a black body that absorbs all incident radiation ) to one ( corresponding to a white body that reflects all incident radiation ).\n",
      "Similarity: 0.3733939528465271\n",
      "\n",
      "Query: search _ query : the 2014 world rx of argentina was held at the autodrome in the state that is in what part of argentina\n",
      "Best document: search _ document : alabama alabama ( ) is a state in the southeastern region of the united states. it is bordered by tennessee to the north, georgia to the east, florida and the gulf of mexico to the south, and mississippi to the west. alabama is the 30th largest by area and the 24th - most populous of the u. s. states. with a total of 1500 mi of inland waterways, alabama has among the most of any state.\n",
      "Similarity: 0.4491276741027832\n",
      "\n",
      "Query: search _ query : thiruvalaputhur t a kaliyamurthy is an artist that uses what type of instrument?\n",
      "Best document: search _ document : albedo albedo ( ) is a measure for reflectance or optical brightness ( latin \" albedo, \" \" whiteness \" ) of a surface. it is dimensionless and measured on a scale from zero ( corresponding to a black body that absorbs all incident radiation ) to one ( corresponding to a white body that reflects all incident radiation ).\n",
      "Similarity: 0.40806883573532104\n",
      "\n"
     ]
    }
   ],
   "source": [
    "# print the most similar document for each query\n",
    "\n",
    "for i in range(len(queries[\"input_ids\"])):\n",
    "    sim = doc_embeddings @ query_embeddings[i].T\n",
    "    best_doc_idx = sim.argmax()\n",
    "    query_text = tokenizer.decode(queries[\"input_ids\"][i], skip_special_tokens=True)\n",
    "    best_doc_text = tokenizer.decode(docs[\"input_ids\"][best_doc_idx], skip_special_tokens=True)\n",
    "    print(f\"Query: {query_text}\")\n",
    "    print(f\"Best document: {best_doc_text}\")\n",
    "    print(f\"Similarity: {sim[best_doc_idx].item()}\")\n",
    "    print()"
   ]
  },
  {
   "cell_type": "code",
   "execution_count": 32,
   "metadata": {},
   "outputs": [
    {
     "name": "stdout",
     "output_type": "stream",
     "text": [
      "Query: What are the applications of artificial intelligence?\n",
      "Similarity scores with synthetic documents (ordered):\n",
      "Document 2: 0.7503 - Document 2 This document discusses the applications of artificial intelligence.\n",
      "Document 1: 0.5347 - Document 1 This is the first synthetic document about machine learning.\n",
      "Document 3: 0.4966 - Document 3 Here we talk about the advancements in natural language processing.\n",
      "Document 4: 0.4690 - Document 4 This document is about the history of computer science.\n",
      "Document 5: 0.3856 - Document 5 pizza is delicious\n"
     ]
    }
   ],
   "source": [
    "# Define synthetic documents and a query\n",
    "synthetic_docs = [\n",
    "    {\"title\": \"Document 1\", \"text\": \"This is the first synthetic document about machine learning.\"},\n",
    "    {\"title\": \"Document 2\", \"text\": \"This document discusses the applications of artificial intelligence.\"},\n",
    "    {\"title\": \"Document 3\", \"text\": \"Here we talk about the advancements in natural language processing.\"},\n",
    "    {\"title\": \"Document 4\", \"text\": \"This document is about the history of computer science.\"},\n",
    "    {\"title\": \"Document 5\", \"text\": \"pizza is delicious\"},\n",
    "]\n",
    "\n",
    "synthetic_query = \"What are the applications of artificial intelligence?\"\n",
    "\n",
    "# Process synthetic documents\n",
    "synthetic_docs = [process_ex_document(doc) for doc in synthetic_docs]\n",
    "synthetic_docs_texts = [doc[\"text\"] for doc in synthetic_docs]\n",
    "synthetic_docs_tokenized = tokenizer(\n",
    "    [document_prefix + doc for doc in synthetic_docs_texts],\n",
    "    truncation=True,\n",
    "    padding=True,\n",
    "    max_length=512,\n",
    "    return_tensors=\"pt\"\n",
    ").to(device)\n",
    "\n",
    "# Generate embeddings for synthetic documents\n",
    "with torch.no_grad():\n",
    "    synthetic_doc_embeddings = model.second_stage_model(\n",
    "        input_ids=synthetic_docs_tokenized[\"input_ids\"],\n",
    "        attention_mask=synthetic_docs_tokenized[\"attention_mask\"],\n",
    "        dataset_embeddings=dataset_embeddings,\n",
    "    )\n",
    "synthetic_doc_embeddings /= synthetic_doc_embeddings.norm(p=2, dim=1, keepdim=True)\n",
    "\n",
    "# Tokenize and embed the synthetic query\n",
    "synthetic_query_tokenized = tokenizer(\n",
    "    query_prefix + synthetic_query,\n",
    "    truncation=True,\n",
    "    padding=True,\n",
    "    max_length=512,\n",
    "    return_tensors=\"pt\"\n",
    ").to(device)\n",
    "\n",
    "with torch.no_grad():\n",
    "    synthetic_query_embedding = model.second_stage_model(\n",
    "        input_ids=synthetic_query_tokenized[\"input_ids\"],\n",
    "        attention_mask=synthetic_query_tokenized[\"attention_mask\"],\n",
    "        dataset_embeddings=dataset_embeddings,\n",
    "    )\n",
    "synthetic_query_embedding /= synthetic_query_embedding.norm(p=2, dim=1, keepdim=True)\n",
    "\n",
    "# Calculate similarity\n",
    "similarity_scores = (synthetic_doc_embeddings @ synthetic_query_embedding.T).cpu().numpy().flatten()\n",
    "\n",
    "# Print similarity list ordered\n",
    "print(\"Query:\", synthetic_query)\n",
    "print(\"Similarity scores with synthetic documents (ordered):\")\n",
    "sorted_indices = similarity_scores.argsort()[::-1]\n",
    "for idx in sorted_indices:\n",
    "    print(f\"Document {idx+1}: {similarity_scores[idx]:.4f} - {synthetic_docs[idx]['text']}\")"
   ]
  }
 ],
 "metadata": {
  "kernelspec": {
   "display_name": "lm",
   "language": "python",
   "name": "python3"
  },
  "language_info": {
   "codemirror_mode": {
    "name": "ipython",
    "version": 3
   },
   "file_extension": ".py",
   "mimetype": "text/x-python",
   "name": "python",
   "nbconvert_exporter": "python",
   "pygments_lexer": "ipython3",
   "version": "3.12.7"
  }
 },
 "nbformat": 4,
 "nbformat_minor": 2
}
