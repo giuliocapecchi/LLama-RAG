{
  "cells": [
    {
      "cell_type": "markdown",
      "metadata": {
        "colab_type": "text",
        "id": "view-in-github"
      },
      "source": [
        "<a href=\"https://colab.research.google.com/github/giuliocapecchi/LM-project/blob/main/RAG.ipynb\" target=\"_parent\"><img src=\"https://colab.research.google.com/assets/colab-badge.svg\" alt=\"Open In Colab\"/></a>"
      ]
    },
    {
      "cell_type": "markdown",
      "metadata": {},
      "source": [
        "# Retrieval-Augmented Generation (RAG) for *Information Retrieval* Query Answering\n",
        "\n",
        "This project implements a **Retrieval-Augmented Generation (RAG)** system, a modern technique that integrates document retrieval and answer generation. The RAG approach enhances the performance of large language models (LLMs) by incorporating external information to improve the model's ability to answer queries outside its original training data. This is especially beneficial for businesses that cannot afford to build a ChatGPT-like LLM *from scratch*. RAG provides a faster and more efficient alternative than re-training the model, as it only leverages pre-existing documents or data sources.\n",
        "\n",
        "**The use cases of RAGs** include:\n",
        "- Chatbots\n",
        "- Document-based question answering systems\n",
        "- Legal and technical document summarization\n",
        "- many more\n",
        "\n",
        "In this project, we will develop a **chatbot-like** system where users can upload PDF documents. The proposed pipeline will:\n",
        "\n",
        "1. Split the documents into smaller chunks (with special handling for *mathematical formulas*).\n",
        "2. Embed these chunks using a model from Hugging Face (`cde-small-v1`).\n",
        "3. Store the generated embeddings in a Vector Store Database (`Chroma`).\n",
        "4. Initialize a (quantized) local copy of `LLaMA 3.2 3B` for answer generation.\n",
        "5. Provide access to the model trough a `Gradio` interface.\n",
        "\n",
        "\n",
        "In the following sections, we will delve into the technical details and results obtained from implementing this pipeline, including performance analysis and the metrics used to evaluate the system's effectiveness.\n",
        "\n",
        "---\n"
      ]
    },
    {
      "cell_type": "markdown",
      "metadata": {
        "id": "8OV1QFHWLvIw"
      },
      "source": [
        "## PDF Preprocessing and Documents Creations\n",
        "\n",
        "One of the critical challenges in preprocessing documents for the implementation of a RAG (*Retrieval-Augmented Generation*) system is ensuring accurate and efficient data extraction while maintaining contextual integrity. To address this, we developed a pipeline that handles various aspects of document preprocessing, leveraging free and open-source tools to achieve good results.\n",
        "\n",
        "The first phase regards the preprocessing and splitting of the chosen PDF file. To accomplish this, we propose a hybrid approach that combines two tools:  \n",
        "- **Unstructured**: An open-source tool for converting unstructured data into **structured** outputs.  \n",
        "   * GitHub: https://github.com/Unstructured-IO  \n",
        "- **Nougat**: A Transformer-based OCR model designed to simplify the conversion of complex content into a machine-readable format.  \n",
        "   * GitHub: https://github.com/facebookresearch/nougat  \n",
        "\n",
        "The pipeline integrates these tools as follows:  \n",
        "1. **Document Parsing**: Using `Unstructured`'s partition function, we extracted elements characterized by type and content. This allowed us to:  \n",
        "   * Filter irrelevant or meaningless elements.  \n",
        "   * Identify page breaks, enabling a **page-aware solution**.  \n",
        "   * identify **mathematical formulas**, since they will have a special type\n",
        "   * Translate elements into a **dataframe with columns for Type and Value** for easier handling.  \n",
        "\n",
        "2. **Enhanced Content Extraction**: Pages requiring additional attention (e.g., those with complex elements such as formulas) were processed using `Nougat`. This converts selected pages into text formatted in Markdown or similar machine-readable structures.\n",
        "\n",
        "3. **Page-Based Chunk Creation**: Chunks were created based on the following logic:  \n",
        "   * Setting a **token threshold** as the maximum size for a chunk.  \n",
        "   * Concatenating page-by-page content to preserve contextual integrity.  \n",
        "   * When a single page’s content exceeded the threshold, elements were added incrementally until the chunk remained within the limit, balancing size and coherence.  \n",
        "\n",
        "By combining the strengths of `Unstructured` and `Nougat`, this approach enables the creation of good quality, structured document representations while addressing challenges like text cleaning, splitting, and chunking.\n",
        "\n",
        "\n",
        "### Computational Considerations and Simpler Alternatives\n",
        "\n",
        "These preprocessing steps, particularly those involving splitting and structuring complex documents, are computationally demanding. This pipeline is most effective for **academic paper-style documents**, which often feature intricate structures or a mix of diverse content types.\n",
        "\n",
        "For documents primarily composed of simple text, **lighter and faster alternatives** exist. For instance, the [Text Splitters](https://python.langchain.com/docs/concepts/text_splitters/) provided by LangChain offer a simpler, yet effective, solution for text-based document splitting, significantly reducing processing time and resource usage."
      ]
    },
    {
      "cell_type": "markdown",
      "metadata": {
        "id": "PmLEt9LCLpLn"
      },
      "source": [
        "Let's dive into the implementation. Let's start by installing required libraries."
      ]
    },
    {
      "cell_type": "code",
      "execution_count": 1,
      "metadata": {
        "id": "j3UrpIY5sLgF"
      },
      "outputs": [
        {
          "name": "stdout",
          "output_type": "stream",
          "text": [
            "Note: you may need to restart the kernel to use updated packages.\n"
          ]
        },
        {
          "name": "stderr",
          "output_type": "stream",
          "text": [
            "ERROR: pip's dependency resolver does not currently take into account all the packages that are installed. This behaviour is the source of the following dependency conflicts.\n",
            "nougat-ocr 0.1.17 requires timm==0.5.4, but you have timm 1.0.12 which is incompatible.\n"
          ]
        }
      ],
      "source": [
        "%pip install -qqq torch gdown huggingface_hub python-dotenv pymupdf python-Levenshtein nltk chromadb tqdm unidecode gradio bitsandbytes seaborn unstructured[pdf] --progress-bar off"
      ]
    },
    {
      "cell_type": "markdown",
      "metadata": {
        "id": "-QRv6r2rWNRw"
      },
      "source": [
        "We start off by downloading the 'assets' folder, that contains images rendered in this notebook."
      ]
    },
    {
      "cell_type": "code",
      "execution_count": 2,
      "metadata": {
        "id": "f-lBuhHdWNRw",
        "outputId": "9103e8d2-64d9-451d-a0fc-c82742a44233"
      },
      "outputs": [
        {
          "name": "stdout",
          "output_type": "stream",
          "text": [
            "Assets folder 'assets' already exists. Skipping download and extraction.\n"
          ]
        }
      ],
      "source": [
        "import os\n",
        "import requests\n",
        "import zipfile\n",
        "\n",
        "zip_url = \"https://drive.google.com/uc?export=download&id=1iira8TFvy7Nix3NwusLMLqgTCmjy76Ru\"\n",
        "zip_file_name = \"assets.zip\"\n",
        "output_dir = \"assets\"\n",
        "\n",
        "if not os.path.exists(output_dir):\n",
        "    print(\"Downloading assets...\")\n",
        "    response = requests.get(zip_url, stream=True)\n",
        "    with open(zip_file_name, \"wb\") as f:\n",
        "        for chunk in response.iter_content(chunk_size=8192):\n",
        "            f.write(chunk)\n",
        "\n",
        "    print(\"Download completed.\")\n",
        "\n",
        "    # Unzip the assets\n",
        "    print(\"Unzipping assets...\")\n",
        "    with zipfile.ZipFile(zip_file_name, \"r\") as zip_ref:\n",
        "        zip_ref.extractall(output_dir)\n",
        "\n",
        "    print(f\"Assets unzipped to '{output_dir}'.\")\n",
        "\n",
        "    os.remove(zip_file_name)\n",
        "    print(\"Cleanup completed.\")\n",
        "else:\n",
        "    print(f\"Assets folder '{output_dir}' already exists. Skipping download and extraction.\")"
      ]
    },
    {
      "cell_type": "markdown",
      "metadata": {
        "id": "1FPsNo-aWNRy"
      },
      "source": [
        "### Installing Additional Required Libraries\n",
        "\n",
        "On Colab, the installations above are sufficient. However, on **Windows** and **macOS**, additional steps are required to install libraries necessary for both **Unstructured** and **Nougat**:\n",
        "\n",
        "- **Poppler**: a PDF rendering library.  \n",
        "- **Tesseract**: an open-source OCR engine.\n",
        "\n",
        "\n",
        "#### **Steps for Windows**\n",
        "The easiest way to install the required libraries on Windows is via Conda (assuming Conda is installed):\n",
        "\n",
        "1. **Install the required packages**:\n",
        "    ```bash\n",
        "    %conda install -c conda-forge poppler tesseract -y\n",
        "    %pip install -q python-magic-bin==0.4.14\n",
        "    ```\n",
        "\n",
        "2. **Add Tesseract to the system PATH**:\n",
        "    Use the following Python code to set up the `TESSDATA_PREFIX` environment variable:\n",
        "\n",
        "    ```python\n",
        "    import os, sys\n",
        "\n",
        "    # Get the path of the current Conda environment\n",
        "    conda_env_path = os.path.dirname(sys.executable)\n",
        "    tessdata_path = os.path.join(conda_env_path, \"share\", \"tessdata\") # the necessary files should be here\n",
        "\n",
        "    # Set the TESSDATA_PREFIX environment variable\n",
        "    os.environ[\"TESSDATA_PREFIX\"] = os.path.join(conda_env_path, \"share\")\n",
        "    print(\"TESSDATA_PREFIX:\", os.environ[\"TESSDATA_PREFIX\"])\n",
        "\n",
        "    # Verify the tessdata directory\n",
        "    if os.path.exists(tessdata_path):\n",
        "        print(f\"Tessdata directory found: {tessdata_path}\")\n",
        "    else:\n",
        "        print(f\"Tessdata directory not found: {tessdata_path}\")\n",
        "    ```\n",
        "\n",
        "#### **Steps for macOS**\n",
        "On macOS, installation is simpler. Use the following command to install the required libraries (using `brew`):\n",
        "\n",
        "1. **Install the required packages**:\n",
        "    ```bash\n",
        "    brew install poppler tesseract\n",
        "    ```\n",
        "\n",
        "2. **Verify the installation**:\n",
        "    Check if Tesseract is properly installed by running:\n",
        "    ```bash\n",
        "    tesseract --version\n",
        "    ```\n",
        "\n",
        "\n",
        "Still, this approach serves as an enhancement to the RAG pipeline, enabling more accurate extraction from PDFs, particularly for elements like mathematical formulas in scientific papers. However, it is not mandatory; if the PDF contains mostly plain text, a simpler chunking method may be sufficient and more straightforward."
      ]
    },
    {
      "cell_type": "markdown",
      "metadata": {
        "id": "uo9QzZJzSLKe"
      },
      "source": [
        "### Downloading the Selected PDF for Analysis\n",
        "\n",
        "In this notebook, we will use slides from the *Multimedia and Information Retrieval* course. These slides present a challenging objective due to their inclusion of complex mathematical formulas, making accurate parsing a non-trivial task. In the next cell we will download the chosen PDF. You are free to select any PDF of your preference; however, keep in mind that the evaluation phase will of course vary depending on the content of the document. \n",
        "\n",
        "--- \n",
        "> **Note:** To speed up execution, we’ll also download the `elements.pkl` file to bypass some computationally expensive processing (which would otherwise take approximately *20/30 minutes* for ~300 pages)."
      ]
    },
    {
      "cell_type": "code",
      "execution_count": 3,
      "metadata": {
        "id": "x9hQwckZHXHO"
      },
      "outputs": [
        {
          "name": "stdout",
          "output_type": "stream",
          "text": [
            "File Information Retrieval Slides.pdf already exists.\n"
          ]
        }
      ],
      "source": [
        "import gdown\n",
        "\n",
        "\n",
        "PDF_NAME = \"Information Retrieval Slides.pdf\"\n",
        "if os.path.exists(PDF_NAME):\n",
        "    print(f\"File {PDF_NAME} already exists.\")\n",
        "else:\n",
        "    # save locally from https://drive.google.com/file/d/1xUA6_ZBJzWGF7kWpM1YZTK3R1siYg1qY/view?usp=drive_link\n",
        "    gdown.download(id=\"1xUA6_ZBJzWGF7kWpM1YZTK3R1siYg1qY\", output=PDF_NAME, quiet=False)\n",
        "\n",
        "    # download of pickled elements to speed up the execution\n",
        "    gdown.download(id=\"17eXYgmiTL9-f9F5vIT5j7QffHIu_QwuN\", output=\"elements.pkl\", quiet=False)"
      ]
    },
    {
      "cell_type": "markdown",
      "metadata": {
        "id": "t_HRybt8S-Xp"
      },
      "source": [
        "## PDF Partitioning with Unstructured\n",
        "\n",
        "<style>\n",
        "    img {\n",
        "        border-radius: 15px;\n",
        "    }\n",
        "    .center {\n",
        "        display: flex;\n",
        "        justify-content: center;\n",
        "    }\n",
        "    .center img {\n",
        "        width: 50%;\n",
        "   }\n",
        "</style>\n",
        "\n",
        "<div class=\"center\">\n",
        "        <img src=\"assets/unstructured.png\" alt=\"unstructured\">\n",
        "</div>\n",
        "\n",
        "\n",
        "Processes the PDF using the `partition` function to extract structured elements.\n",
        "\n",
        "We decide to apply the **`hi_res`** strategy because is highly sensitive, it is recommended if you want obtain precise classifications for document elements. Other ones were `fast` and `ocr_only`, but didn't produce acceptable results. Adopting this strategy, `Unstructured` is able to use the document layout to gain additional information about document elements, in particular it can recognize:\n",
        "\n",
        "- **Titles** and **Text** (we use them as it is)\n",
        "- **Formulas** (we further process them)\n",
        "- **Page Breaks** (fundamental create chuncks)\n",
        "- **Images** (will be removed)\n",
        "\n",
        "\n",
        "As said, Unstructured can be computationally quite extensive, especiallt with the `hi_res` strategy; that is why we downloaded `elements.pkl` above, that contains the results produced by Unstructured on the target PDF. In the following cell, set `load_elements_from_pickle = False` to recompute them (takes approximately TODO: CHECKA ~10/15 minutes)."
      ]
    },
    {
      "cell_type": "code",
      "execution_count": 4,
      "metadata": {
        "id": "NpVjk7JfIoTh"
      },
      "outputs": [
        {
          "name": "stdout",
          "output_type": "stream",
          "text": [
            "Number of recognized elements: 4486 in file Information Retrieval Slides.pdf\n"
          ]
        }
      ],
      "source": [
        "from unstructured.partition.auto import partition\n",
        "from tqdm import tqdm\n",
        "import fitz  # PyMuPDF\n",
        "import pickle\n",
        "\n",
        "\n",
        "load_elements_from_pickle = True\n",
        "elements = []\n",
        "\n",
        "if load_elements_from_pickle:\n",
        "    # load elements from pickle\n",
        "    with open('elements.pkl', 'rb') as f:\n",
        "        elements = pickle.load(f)\n",
        "else: # process the PDF file\n",
        "    doc = fitz.open(PDF_NAME)  # open the PDF file\n",
        "    total_pages = len(doc)\n",
        "\n",
        "    for page_number in tqdm(range(total_pages), desc=\"Processing PDF pages\"):\n",
        "        # extract the single page\n",
        "        temp_doc = fitz.open()\n",
        "        temp_doc.insert_pdf(doc, from_page=page_number, to_page=page_number)\n",
        "\n",
        "        # save the page to a temporary file\n",
        "        temp_page_file = f\"temp_page_{page_number}.pdf\"\n",
        "        temp_doc.save(temp_page_file)\n",
        "        temp_doc.close()\n",
        "\n",
        "        # apply the partitioning to the page\n",
        "        page_elements = partition(\n",
        "            filename=temp_page_file,\n",
        "            strategy=\"hi_res\",\n",
        "            skip_infer_table_types=[],\n",
        "            include_page_breaks=True,\n",
        "        )\n",
        "        elements.extend(page_elements)  # add the elements to the list\n",
        "        # finally, delete the temporary file\n",
        "        os.remove(temp_page_file)\n",
        "\n",
        "    doc.close()\n",
        "\n",
        "# print the number of recognized elements\n",
        "print(\"Number of recognized elements: \" + str(len(elements)) + \" in file \" + PDF_NAME)"
      ]
    },
    {
      "cell_type": "markdown",
      "metadata": {
        "id": "CITylvMsd1Mf"
      },
      "source": [
        "Storing the elements in a pickle file.\n",
        "Snippet of code executed if needed."
      ]
    },
    {
      "cell_type": "code",
      "execution_count": 5,
      "metadata": {
        "id": "k_6QJqgxj4ou"
      },
      "outputs": [],
      "source": [
        "with open('elements.pkl', 'wb') as f:\n",
        "    pickle.dump(elements, f)"
      ]
    },
    {
      "cell_type": "markdown",
      "metadata": {
        "id": "MrfWUBRLfjAK"
      },
      "source": [
        "## Filtering and Analyzing Extracted Elements\n",
        "\n",
        "Here we build a **dataframe**, creating pairs of **Type** and **Value**, using the elements extracted from the PDF file.\n",
        "\n",
        "Then we print all the different element's Type recognized.\n",
        "\n"
      ]
    },
    {
      "cell_type": "code",
      "execution_count": 6,
      "metadata": {
        "id": "MYMr613sfcqH"
      },
      "outputs": [
        {
          "name": "stdout",
          "output_type": "stream",
          "text": [
            "[<class 'unstructured.documents.elements.Title'>\n",
            " <class 'unstructured.documents.elements.EmailAddress'>\n",
            " <class 'unstructured.documents.elements.PageBreak'>\n",
            " <class 'unstructured.documents.elements.ListItem'>\n",
            " <class 'unstructured.documents.elements.NarrativeText'>\n",
            " <class 'unstructured.documents.elements.Image'>\n",
            " <class 'unstructured.documents.elements.FigureCaption'>\n",
            " <class 'unstructured.documents.elements.Table'>\n",
            " <class 'unstructured.documents.elements.Text'>\n",
            " <class 'unstructured.documents.elements.Footer'>\n",
            " <class 'unstructured.documents.elements.Formula'>\n",
            " <class 'unstructured.documents.elements.Header'>]\n"
          ]
        }
      ],
      "source": [
        "import pandas as pd\n",
        "\n",
        "df_elements = pd.DataFrame( [[type(elem), elem.text] for elem in elements], columns=['Type', 'Value'])\n",
        "\n",
        "# Print all the unique types of elements\n",
        "print(df_elements['Type'].unique())"
      ]
    },
    {
      "cell_type": "markdown",
      "metadata": {
        "id": "wpuoY63qTQy4"
      },
      "source": [
        "Next, we clean the dataframe by filtering out elements that are not useful for our language model:  \n",
        "- **Images**: While OCR techniques extract text from images, the resulting content often lacks meaningful context and is not suitable for the language model.  \n",
        "- **Tables**: Similar to images, the extracted text from tables often loses its structural meaning and context.  \n",
        "- **Footers** and **Headers**: These typically contain repetitive or irrelevant information that does not contribute to the main content.  \n"
      ]
    },
    {
      "cell_type": "code",
      "execution_count": 7,
      "metadata": {
        "id": "Q6iG38ZWwv7L"
      },
      "outputs": [
        {
          "name": "stdout",
          "output_type": "stream",
          "text": [
            "Number of actual elements: 4486\n",
            "Number of elements after filtering: 4031\n",
            "Remaining Types left in the dataframe:\n",
            " [<class 'unstructured.documents.elements.Title'>\n",
            " <class 'unstructured.documents.elements.EmailAddress'>\n",
            " <class 'unstructured.documents.elements.PageBreak'>\n",
            " <class 'unstructured.documents.elements.ListItem'>\n",
            " <class 'unstructured.documents.elements.NarrativeText'>\n",
            " <class 'unstructured.documents.elements.FigureCaption'>\n",
            " <class 'unstructured.documents.elements.Text'>\n",
            " <class 'unstructured.documents.elements.Formula'>]\n"
          ]
        }
      ],
      "source": [
        "from unstructured.documents.elements import Image, Table, Footer, Header, PageBreak, Formula\n",
        "\n",
        "# print df number of rows\n",
        "print(\"Number of actual elements: \" + str(len(df_elements)))\n",
        "\n",
        "# drop all the rows with unuseful Types\n",
        "df_elements = df_elements[df_elements['Type'] != Image]\n",
        "df_elements = df_elements[df_elements['Type'] != Table]\n",
        "df_elements = df_elements[df_elements['Type'] != Footer]\n",
        "df_elements = df_elements[df_elements['Type'] != Header]\n",
        "df_elements = df_elements.drop(df_elements[(df_elements['Type'] != PageBreak) & (df_elements['Value'] == '')].index)\n",
        "\n",
        "# print df number of rows\n",
        "print(\"Number of elements after filtering: \" + str(len(df_elements)))\n",
        "\n",
        "# reassign the dataframe index\n",
        "df_elements = df_elements.reset_index(drop=True)\n",
        "\n",
        "# print all the different possible Type in the dataframe\n",
        "print(\"Remaining Types left in the dataframe:\\n\",df_elements['Type'].unique())\n"
      ]
    },
    {
      "cell_type": "markdown",
      "metadata": {
        "id": "aswk1lwSlziI"
      },
      "source": [
        "Check if there are some empty-valued elements, that are not Page Breaks, in the dataframe."
      ]
    },
    {
      "cell_type": "code",
      "execution_count": 8,
      "metadata": {
        "id": "7vBne_I70vij"
      },
      "outputs": [
        {
          "name": "stdout",
          "output_type": "stream",
          "text": [
            "0\n"
          ]
        }
      ],
      "source": [
        "# print rows of df_elements with bith Type != PageBreak and Value empty\n",
        "print(len(df_elements[(df_elements['Type'] != PageBreak) & (df_elements['Value'] == '')]))\n",
        "\n",
        "if len(df_elements[(df_elements['Type'] != PageBreak) & (df_elements['Value'] == '')]) > 0:\n",
        "  df_elements = df_elements.drop(df_elements[(df_elements['Type'] != PageBreak) & (df_elements['Value'] == '')].index)"
      ]
    },
    {
      "cell_type": "markdown",
      "metadata": {
        "id": "XCrkLBolTsQv"
      },
      "source": [
        "## Filtering Pages Containing Formulas in a DataFrame\n",
        "\n",
        "This code processes a DataFrame (`df_elements`) containing elements from a document (e.g., text, formulas, and page breaks) to identify and remove all rows belonging to pages that contain at least one formula.\n",
        "\n",
        "- `pages_with_formulas_indexes`: A `set` to store the indices of pages that contain at least one `Formula`.\n",
        "- `index`: Keeps track of the current page number (starts at 0).\n",
        "- `page_indices`: A list to map each row in the DataFrame to its corresponding page number.\n",
        "\n",
        "\n",
        "In the end, we filter out rows whose `PageIndex` matches any value in `pages_with_formulas_indexes`. The `PageIndex` column is dropped after filtering."
      ]
    },
    {
      "cell_type": "code",
      "execution_count": 9,
      "metadata": {
        "id": "8Rq_yIt4WNR5"
      },
      "outputs": [
        {
          "name": "stdout",
          "output_type": "stream",
          "text": [
            "Number of PageBreak elements: 322\n",
            "Number of PageBreak elements: 300\n",
            "Pages with formulas indexes: [89, 94, 95, 96, 97, 136, 142, 157, 160, 165, 168, 180, 181, 182, 184, 187, 189, 193, 194, 203, 208, 210]\n",
            "Number of pages with at least one formula: 22\n"
          ]
        }
      ],
      "source": [
        "# Initial number of PageBreak elements\n",
        "print(\"Number of PageBreak elements: \" + str(len(df_elements[df_elements['Type'] == PageBreak])))\n",
        "\n",
        "\n",
        "# list of page indexes with at least one formula\n",
        "pages_with_formulas_indexes = set()\n",
        "index = 0\n",
        "page_indices = [] # to map each row to its page index\n",
        "\n",
        "for i in range(len(df_elements)):\n",
        "    # when a PageBreak is found, increment the page-index\n",
        "    if df_elements.iloc[i]['Type'] == PageBreak:\n",
        "        index += 1\n",
        "    page_indices.append(index)\n",
        "    # if you find a formula, add the page index to the set\n",
        "    if df_elements.iloc[i]['Type'] == Formula:\n",
        "        pages_with_formulas_indexes.add(index)\n",
        "\n",
        "# add the PageIndex column to the DataFrame\n",
        "df_elements['PageIndex'] = page_indices\n",
        "\n",
        "# filter out the rows with formulas\n",
        "df_elements_cleaned = df_elements[~df_elements['PageIndex'].isin(pages_with_formulas_indexes)].drop(columns=['PageIndex']).reset_index(drop=True)\n",
        "\n",
        "# Final number of PageBreak elements\n",
        "print(\"Number of PageBreak elements: \" + str(len(df_elements_cleaned[df_elements_cleaned['Type'] == PageBreak])))\n",
        "print(\"Pages with formulas indexes:\", sorted(pages_with_formulas_indexes))\n",
        "print(\"Number of pages with at least one formula:\", len(pages_with_formulas_indexes))"
      ]
    },
    {
      "cell_type": "code",
      "execution_count": 10,
      "metadata": {
        "id": "oPbgAD5jWNR5"
      },
      "outputs": [
        {
          "name": "stdout",
          "output_type": "stream",
          "text": [
            "Number of elements before filtering: 4031\n",
            "Number of elements after filtering: 3656\n"
          ]
        }
      ],
      "source": [
        "print(\"Number of elements before filtering:\", len(df_elements))\n",
        "print(\"Number of elements after filtering:\", len(df_elements_cleaned))"
      ]
    },
    {
      "cell_type": "markdown",
      "metadata": {
        "id": "SZqXuKB-WNR5"
      },
      "source": [
        "The Unstructured pipeline is not perfect and can make some mistakes in extracting text from the pdf. This code replaces uncommon Unicode characters with ASCII equivalents and removes any remaining non-ASCII characters. We defined a dictionary for replacing specific Unicode characters (e.g., `ﬃ → ffi`, `⊺ → T`), more can be added if necessary. We use `str.maketrans()` for fast replacements. The computed values are stored back in the `Value` column of the dataframe."
      ]
    },
    {
      "cell_type": "code",
      "execution_count": 11,
      "metadata": {
        "id": "T9wSR0CQWNR5"
      },
      "outputs": [],
      "source": [
        "import re\n",
        "\n",
        "unicode_replacements = {\n",
        "    \"ﬃ\": \"ffi\",\n",
        "    \"ﬀ\": \"ff\",\n",
        "    \"ﬁ\": \"fi\",\n",
        "    \"⊺\": \"T\",\n",
        "    \"•\": \" \",\n",
        "    \"—\": \"-\",\n",
        "    \"«\": \" \",\n",
        "    \"»\": \" \",\n",
        "    \"”\": '\"',\n",
        "    \"“\": '\"',\n",
        "    \"‘\": \"'\",\n",
        "    \"’\": \"'\",\n",
        "    \"ﬄ\": \"ffl\",\n",
        "    # more can be added if needed!\n",
        "}\n",
        "\n",
        "# translation table for faster replacement\n",
        "translation_table = str.maketrans(unicode_replacements)\n",
        "\n",
        "def find_non_ascii_characters(text):\n",
        "    # replace all characters using the translation table\n",
        "    text = text.translate(translation_table)\n",
        "    text = re.sub(r'[^\\x00-\\x7F]', '', text)  # Removes all remaining non-ASCII characters\n",
        "    return text\n",
        "\n",
        "# Apply the function to the 'Value' column\n",
        "df_elements_cleaned['Value'] = df_elements_cleaned['Value'].apply(find_non_ascii_characters)\n",
        "\n",
        "df_elements = df_elements_cleaned"
      ]
    },
    {
      "cell_type": "markdown",
      "metadata": {
        "id": "U0oMEuCOT0H2"
      },
      "source": [
        "## Nougat: Neural Optical Understanding for Academic Documents\n",
        "\n",
        "\n",
        "<style>\n",
        "    img {\n",
        "        border-radius: 15px;\n",
        "    }\n",
        "    .center {\n",
        "        display: flex;\n",
        "        justify-content: center;\n",
        "    }\n",
        "    .center img {\n",
        "        width: 30%;\n",
        "    }\n",
        "</style>\n",
        "<div class=\"center\">\n",
        "        <img src=\"assets/meta-emblem.png\" alt=\"meta-emblem\">\n",
        "</div>\n",
        "\n",
        "\n",
        "[**Nougat**](https://github.com/facebookresearch/nougat?tab=readme-ov-file) is an academic document PDF parser designed to extract and understand LaTeX math and tables from PDFs. Developed by **Facebook Research**, it converts academic documents into structured formats (Mathpix Markdown, *.MMD*).\n",
        "\n",
        "Key Features:\n",
        "- Extracts and processes LaTeX math, tables, and text.\n",
        "- Converts PDFs to Mathpix Markdown (.mmd) format.\n",
        "- Supports GPU for faster processing.\n",
        "\n",
        "Nougat is optimized for scientific papers, especially those found on platforms like arXiv, and works best with English papers.\n",
        "\n",
        "The approach for this project is to leverage Nougat as a *targeted solution* for extracting content from pages that present particular challenges, such as those containing mathematical fomulas, on which Unstructured performed poorly.\n",
        "\n",
        "> *But why wasn't `Nougat` applied to the entire PDF?* The reason is that the selected PDF is over 300 pages long, and processing it with Nougat for the entire document would have been time-consuming. Instead, we used `Unstructured` to identify the pages containing formulas and applied `Nougat` only to those problematic pages. This resulted in a faster and more efficient overall workflow, while maintaining accuracy.\n",
        "\n",
        "> As a side note, unfortunately Nougat requires `transformers==4.38.2` or below, which is uncompatible with `sentence-transformers`, since it requires `transformers<5.0.0,>=4.41.0`. A solution to this is to keep them separated in two different virutal environments. For the sake of semplicity, in the notebook we will simply upgrade `transformers` later on in order to utilize `sentence-transformers` without any problems."
      ]
    },
    {
      "cell_type": "code",
      "execution_count": 12,
      "metadata": {
        "id": "Kmq5mVmfWNR6"
      },
      "outputs": [
        {
          "name": "stdout",
          "output_type": "stream",
          "text": [
            "Note: you may need to restart the kernel to use updated packages.\n",
            "Note: you may need to restart the kernel to use updated packages.\n"
          ]
        },
        {
          "name": "stderr",
          "output_type": "stream",
          "text": [
            "ERROR: pip's dependency resolver does not currently take into account all the packages that are installed. This behaviour is the source of the following dependency conflicts.\n",
            "nougat-ocr 0.1.17 requires timm==0.5.4, but you have timm 1.0.12 which is incompatible.\n",
            "sentence-transformers 3.3.1 requires transformers<5.0.0,>=4.41.0, but you have transformers 4.38.2 which is incompatible.\n"
          ]
        },
        {
          "name": "stdout",
          "output_type": "stream",
          "text": [
            "Note: you may need to restart the kernel to use updated packages.\n"
          ]
        },
        {
          "name": "stderr",
          "output_type": "stream",
          "text": [
            "ERROR: pip's dependency resolver does not currently take into account all the packages that are installed. This behaviour is the source of the following dependency conflicts.\n",
            "effdet 0.4.1 requires timm>=0.9.2, but you have timm 0.5.4 which is incompatible.\n"
          ]
        }
      ],
      "source": [
        "# install some pre-requisites for Nougat\n",
        "%pip install -qqq -U albumentations\n",
        "%pip -qqq install transformers==4.38.2 --progress-bar off\n",
        "\n",
        "# install Nougat\n",
        "%pip -qqq install nougat-ocr  --progress-bar off"
      ]
    },
    {
      "cell_type": "markdown",
      "metadata": {
        "id": "XJEnWwFdWNR6"
      },
      "source": [
        "Now we can simply invoke Nougat, by calling the corresponding CLI command. More information about it can be found on its [README page](https://github.com/facebookresearch/nougat?tab=readme-ov-file). Here it is called by simply passing:\n",
        "- the path of the PDF file in analysis\n",
        "- `-o`, the output folder\n",
        "- `--pages`, to specify only pages containing mathemathical formulas\n",
        "- `-m 0.1.0-base`, to utilize the base model (default to `0.1.0-small` but didn't produce acceptable results)\n",
        "- `--no-skipping`, to avoid using failure detection heuristic\n",
        "\n",
        "This step requires approximately from 2 to 5 minutes.\n",
        "\n",
        ">  NOTE : If the file already exists, the command WON'T be re-executed. Call Nougat again and pass `--recompute` to ignore this"
      ]
    },
    {
      "cell_type": "code",
      "execution_count": 13,
      "metadata": {
        "id": "Ewz8syhoWNR6"
      },
      "outputs": [
        {
          "name": "stdout",
          "output_type": "stream",
          "text": [
            "90,95,96,97,98,137,143,158,161,166,169,181,182,183,185,188,190,194,195,204,209,211\n",
            "nougat \"Information Retrieval Slides.pdf\" -o ./nougat-output --pages 90,95,96,97,98,137,143,158,161,166,169,181,182,183,185,188,190,194,195,204,209,211 -m 0.1.0-base --no-skipping\n"
          ]
        },
        {
          "name": "stderr",
          "output_type": "stream",
          "text": [
            "C:\\Users\\giuli\\miniconda3\\envs\\lm\\Lib\\site-packages\\nougat\\transforms.py:146: UserWarning: Argument 'alpha_affine' is not valid and will be ignored.\n",
            "  alb.ElasticTransform(\n",
            "C:\\Users\\giuli\\miniconda3\\envs\\lm\\Lib\\site-packages\\torch\\functional.py:534: UserWarning: torch.meshgrid: in an upcoming release, it will be required to pass the indexing argument. (Triggered internally at C:\\actions-runner\\_work\\pytorch\\pytorch\\builder\\windows\\pytorch\\aten\\src\\ATen\\native\\TensorShape.cpp:3596.)\n",
            "  return _VF.meshgrid(tensors, **kwargs)  # type: ignore[attr-defined]\n",
            "INFO:root:Skipping Information Retrieval Slides.pdf, already computed. Run with --recompute to convert again.\n"
          ]
        }
      ],
      "source": [
        "# Nougat is 1-indexed, so we need to increment the page indexes by 1\n",
        "nougat_formulas_indexes = [index + 1 for index in pages_with_formulas_indexes]\n",
        "\n",
        "nougat_formulas_indexes_str = \",\".join(map(str, sorted(nougat_formulas_indexes)))\n",
        "print(nougat_formulas_indexes_str)\n",
        "\n",
        "command = f'nougat \"{PDF_NAME}\" -o ./nougat-output --pages {nougat_formulas_indexes_str} -m 0.1.0-base --no-skipping'\n",
        "\n",
        "print(command)\n",
        "\n",
        "!{command}"
      ]
    },
    {
      "cell_type": "markdown",
      "metadata": {
        "id": "Bs4Ea2tIWNR7"
      },
      "source": [
        "The output can be found in the `nougat-output` folder, as an MMD file. Since of course the model can fail to identify some sentences, we also perform some preprocessing of the text, to ensure it will be sanitized for the next phases."
      ]
    },
    {
      "cell_type": "code",
      "execution_count": 14,
      "metadata": {
        "id": "FLhsgB3aWNR7"
      },
      "outputs": [
        {
          "name": "stdout",
          "output_type": "stream",
          "text": [
            "Jaccard Coefficient\n",
            "\n",
            "* A common measure of overlap of two (finite) sets \\(A\\) and \\(B\\): \\[J(A,B)=\\frac{|A\\cap B\\,|}{|A\\cup B\\,|}\\]\n",
            "* Always assigns a number between 0 and 1\n",
            "* \\(A\\) and \\(B\\) do not h  ...\n",
            "\n",
            "..........................................\n"
          ]
        }
      ],
      "source": [
        "def remove_unmatched_left_tags(line):\n",
        "        if \"\\\\left|\" in line and \"\\\\right|\" not in line:\n",
        "            line = line.replace(\"\\\\left|\", \"\")\n",
        "        return line\n",
        "\n",
        "def preprocess_content(content):\n",
        "    content = content.replace(\"**\", \"\").replace(\"##\", \"\")  # Some markdown is left sometimes\n",
        "    content = content.replace(\"{(}\", \"(\").replace(\"{)}\", \")\") # replace all '{(}' and '{)}' with '(' and ')'\n",
        "    content = content.replace(\"{[}\", \"(\").replace(\"{]}\", \")\") # replace all '{[}' and '{]}' with '(' and ')'\n",
        "    content = re.sub(r'\\$(.*?)\\$', r'\\\\(\\1\\\\)', content) # replace all '$' with '\\(\\)' (inline formulas)\n",
        "    content = re.sub(r'\\\\text\\{(.*?)\\}', r'\\1', content) # replace all '\\text' with ''\n",
        "    content = re.sub(r'_(.*?)_', r'\\1', content) # replace words inside '_word_' with the same word -> e.g. _Proof:_ -> Proof:\n",
        "    content = re.sub(r'\\\\includegraphics\\[width=.*?pt\\]', '', content) # replace all \\includegraphics[width=....pt] with '', independently of the width\n",
        "    content = \"\\n\".join(remove_unmatched_left_tags(line) for line in content.splitlines()) # remove all \\left|\\ tags that don't have a \\right|\\ tag in the same line (they are not closed)        \n",
        "    content = content.replace('\\\\\\\\', '\\\\') # substitute '\\\\' with '\\', since it's not necessary to escape the backslash\n",
        "    content = content.strip()\n",
        "    return content\n",
        "\n",
        "\n",
        "with open(f'nougat-output/{PDF_NAME.replace(\".pdf\",\".mmd\")}', 'r') as f:\n",
        "    content = f.read()\n",
        "\n",
        "print(content[:200], \" ...\\n\\n..........................................\")\n",
        "\n",
        "processed_content = preprocess_content(content)\n",
        "\n",
        "\n",
        "with open(f'nougat-output/{PDF_NAME.replace(\".pdf\",\".mmd\")}', 'w') as f:\n",
        "    f.write(processed_content)\n"
      ]
    },
    {
      "cell_type": "markdown",
      "metadata": {
        "id": "aH1-7NgCVMY9"
      },
      "source": [
        "# Creating the chunks\n",
        "\n",
        "Before proceeding, we clean up the `df_elements` DataFrame by removing consecutive duplicate rows while retaining the first occurrence. This issue was present sometimes in our case because the PDF contained white-on-white text, which resulted in duplicate content on the same page. Cleaning the DataFrame ensures to avoid redundancy."
      ]
    },
    {
      "cell_type": "code",
      "execution_count": 15,
      "metadata": {
        "id": "KBJg2MZ3QH1t"
      },
      "outputs": [],
      "source": [
        "# drop adjacent duplicates in the df_elements mantaining the first one\n",
        "df_elements = df_elements.loc[df_elements.shift().ne(df_elements).any(axis=1)]\n",
        "\n",
        "# reset index\n",
        "df_elements = df_elements.reset_index(drop=True)"
      ]
    },
    {
      "cell_type": "code",
      "execution_count": 16,
      "metadata": {
        "id": "g_33-bMTulyW"
      },
      "outputs": [
        {
          "name": "stdout",
          "output_type": "stream",
          "text": [
            "Final number of pages (given by the number of PageBreak(s)): 300\n"
          ]
        }
      ],
      "source": [
        "print(\"Final number of pages (given by the number of PageBreak(s)):\",len(df_elements[df_elements['Type'] == PageBreak]))"
      ]
    },
    {
      "cell_type": "markdown",
      "metadata": {},
      "source": [
        "# todo : aggiungi du parole su sto tokenizer che piove dal cielo"
      ]
    },
    {
      "cell_type": "code",
      "execution_count": 17,
      "metadata": {
        "id": "8vMk0-oV-_1B"
      },
      "outputs": [
        {
          "name": "stderr",
          "output_type": "stream",
          "text": [
            "[nltk_data] Downloading package punkt_tab to\n",
            "[nltk_data]     C:\\Users\\giuli\\AppData\\Roaming\\nltk_data...\n",
            "[nltk_data]   Package punkt_tab is already up-to-date!\n"
          ]
        }
      ],
      "source": [
        "import nltk\n",
        "from nltk.tokenize import word_tokenize\n",
        "\n",
        "nltk.download('punkt_tab')\n",
        "\n",
        "def count_tokens(text):\n",
        "  return len(word_tokenize(text))"
      ]
    },
    {
      "cell_type": "markdown",
      "metadata": {
        "id": "v598nbR51juB"
      },
      "source": [
        "Here we compute some statistics regarding the number of tokens in the pages."
      ]
    },
    {
      "cell_type": "code",
      "execution_count": 18,
      "metadata": {
        "id": "HpV8q_skMHGl"
      },
      "outputs": [
        {
          "name": "stdout",
          "output_type": "stream",
          "text": [
            "Max tokens: 558\n",
            "Min tokens: 1\n",
            "Avg tokens: 68.28\n"
          ]
        }
      ],
      "source": [
        "# compute the max, the min and the average number of tokens in a page by concatenating elements of the dataframe between consecutive page breaks\n",
        "\n",
        "num_token_per_page = []\n",
        "\n",
        "current_page = \"\"\n",
        "current_page_tokens = 0\n",
        "\n",
        "for i in range(len(df_elements)):\n",
        "  if df_elements.iloc[i]['Type'] != PageBreak:\n",
        "    current_page += df_elements.iloc[i]['Value']\n",
        "    current_page_tokens = count_tokens(current_page)\n",
        "  else:\n",
        "    num_token_per_page.append(current_page_tokens)\n",
        "    current_page = \"\"\n",
        "    current_page_tokens = 0\n",
        "\n",
        "print(\"Max tokens: \" + str(max(num_token_per_page)))\n",
        "print(\"Min tokens: \" + str(min(num_token_per_page)))\n",
        "print(\"Avg tokens: \" + str(sum(num_token_per_page)/len(num_token_per_page)))"
      ]
    },
    {
      "cell_type": "code",
      "execution_count": 19,
      "metadata": {
        "id": "8SttzqQSMhxG"
      },
      "outputs": [
        {
          "data": {
            "image/png": "[encoded data removed]",
            "text/plain": [
              "<Figure size 900x500 with 1 Axes>"
            ]
          },
          "metadata": {},
          "output_type": "display_data"
        }
      ],
      "source": [
        "from matplotlib import pyplot as plt\n",
        "import numpy as np\n",
        "\n",
        "mean_tokens = np.mean(num_token_per_page)\n",
        "\n",
        "plt.figure(figsize=(9, 5))\n",
        "plt.hist(num_token_per_page, bins=10, edgecolor='black', alpha=0.5)\n",
        "plt.axvline(mean_tokens, color='red', linestyle='dashed', linewidth=1, label=f'Mean = {mean_tokens:.2f}')\n",
        "plt.title('Distribution of Number of Tokens per Page')\n",
        "plt.xlabel('Number of Tokens')\n",
        "plt.ylabel('Frequency')\n",
        "plt.legend()\n",
        "plt.grid(axis='y', linestyle='--', alpha=0.7)\n",
        "plt.show()"
      ]
    },
    {
      "cell_type": "markdown",
      "metadata": {
        "id": "KE2y3MZgVuIa"
      },
      "source": [
        "# Splitting Content into Tokenized Chunks\n",
        "\n",
        "We can now divide the processed elements in `df_elements` into smaller text files, ensuring that each file stays within a token limit.\n",
        "\n",
        "The following code is designed to split the content into manageable chunks while maintaining logical consistency and handling page breaks effectively.\n",
        "\n",
        "Two key parameters are defined for efficient chunking:\n",
        "- **`doc_tokens_threshold`**: The maximum number of tokens allowed per chunk.\n",
        "- **`overlap_tokens`**: The number of tokens to overlap between consecutive chunks, which helps maintain coherence between chunks.\n",
        "\n",
        "These parameters are document-dependent, and experimenting with different values can help achieve better results depending on the structure and complexity of the document.\n",
        "\n",
        "### **Processing and Chunking the Content:**\n",
        "The main loop processes the `df_elements` dataframe, splitting the content based on the following rules:\n",
        "- If the next element would cause the chunk to exceed the token limit, the current chunk is saved, and the next chunk starts with a portion of the previous one (based on the overlap).\n",
        "- When encountering a `PageBreak`, the content is saved, and the next block starts on the new page, again with an overlap.\n",
        "\n",
        "This process ensures that:\n",
        "- The token limit is respected for each chunk.\n",
        "- The context is preserved by maintaining overlap between chunks.\n",
        "- The integrity of formulas and page transitions is respected."
      ]
    },
    {
      "cell_type": "code",
      "execution_count": 20,
      "metadata": {
        "id": "H6CxZzdOEqnJ"
      },
      "outputs": [
        {
          "name": "stdout",
          "output_type": "stream",
          "text": [
            "Number of chunks obtained: 103\n"
          ]
        }
      ],
      "source": [
        "def save_chunk(content, index):\n",
        "    with open(f'chunks/document_{index}.mmd', 'w') as f:\n",
        "        f.write(content)\n",
        "    docs_len.append(count_tokens(content))\n",
        "    return index + 1\n",
        "\n",
        "\n",
        "\n",
        "# Create a directory to store the chunks\n",
        "if not os.path.exists('chunks'):\n",
        "    os.makedirs('chunks')\n",
        "else:\n",
        "    for file in os.listdir('chunks'):\n",
        "        os.remove(os.path.join('chunks', file))\n",
        "\n",
        "block = \"\"\n",
        "document = \"\"\n",
        "doc_index = 0\n",
        "doc_tokens_threshold = 300\n",
        "overlap_tokens = 30\n",
        "docs_len = []\n",
        "\n",
        "# Iterate over the elements of the dataframe\n",
        "for i in range(len(df_elements)):\n",
        "    element_type = df_elements.at[i, 'Type']\n",
        "    next_element = df_elements.at[i, 'Value'] + \" \"\n",
        "\n",
        "    if element_type != PageBreak:\n",
        "        if count_tokens(block) + count_tokens(next_element) > doc_tokens_threshold:\n",
        "            # print(\"block overlap happened for :\", doc_index)\n",
        "            doc_index = save_chunk(block, doc_index)\n",
        "            overlap = block.split()[-overlap_tokens:]\n",
        "            block = \" \".join(overlap) + \" \" + next_element\n",
        "        else:\n",
        "            block += next_element\n",
        "    else:\n",
        "        if block:  # Se c'è contenuto nel block corrente\n",
        "            if document:  # Se c'è già contenuto nel document\n",
        "                if count_tokens(document) + count_tokens(block) > doc_tokens_threshold:\n",
        "                    doc_index = save_chunk(document, doc_index)\n",
        "                    # print(\"doc overlap happened for :\", doc_index)\n",
        "                    # Manteniamo l'overlap anche tra pagine\n",
        "                    overlap = document.split()[-overlap_tokens:]\n",
        "                    document = \" \".join(overlap) + \" \" + block\n",
        "                else:\n",
        "                    document += block\n",
        "            else:\n",
        "                document = block\n",
        "            block = \"\"\n",
        "\n",
        "# Gestione degli ultimi contenuti\n",
        "if block:\n",
        "    if document:\n",
        "        if count_tokens(document) + count_tokens(block) > doc_tokens_threshold:\n",
        "            doc_index = save_chunk(document, doc_index)\n",
        "            doc_index = save_chunk(block, doc_index)\n",
        "        else:\n",
        "            doc_index = save_chunk(document + block, doc_index)\n",
        "    else:\n",
        "        doc_index = save_chunk(block, doc_index)\n",
        "elif document:\n",
        "    doc_index = save_chunk(document, doc_index)\n",
        "\n",
        "print(\"Number of chunks obtained: \" + str(doc_index))"
      ]
    },
    {
      "cell_type": "markdown",
      "metadata": {},
      "source": [
        "Up to now, we have not used the output resulted by **Nougat**: for the `Information Retrieval Slides.mmd` file produced, we apply a custom approach.\n",
        "\n",
        "We use the **`CharacterTextSplitter`** from LangChain to split the text into chunks, as the content is continuous and requires a different processing strategy compared to documents with page breaks.\n",
        "\n",
        "Again, `chunk_size` and `chunk_overlap` are document specific values, and changing them may produce better results depending on the type of document to analyze."
      ]
    },
    {
      "cell_type": "code",
      "execution_count": 21,
      "metadata": {},
      "outputs": [
        {
          "name": "stdout",
          "output_type": "stream",
          "text": [
            "Number of chunks obtained: 117\n"
          ]
        }
      ],
      "source": [
        "from langchain_text_splitters import CharacterTextSplitter\n",
        "\n",
        "\n",
        "text_splitter = CharacterTextSplitter.from_tiktoken_encoder(\n",
        "    encoding_name=\"cl100k_base\", chunk_size=500, chunk_overlap=50\n",
        ")\n",
        "texts = text_splitter.split_text(processed_content)\n",
        "\n",
        "for t in texts:\n",
        "    doc_index = save_chunk(t, doc_index)\n",
        "\n",
        "print(\"Number of chunks obtained: \" + str(doc_index))"
      ]
    },
    {
      "cell_type": "code",
      "execution_count": 22,
      "metadata": {
        "id": "mwVWd3HhzOov"
      },
      "outputs": [
        {
          "name": "stdout",
          "output_type": "stream",
          "text": [
            "Number of documents:  117\n",
            "Maximum number of tokens in a document:  546\n",
            "Minimum number of tokens in a document:  137\n",
            "Average number of tokens in a document:  268.8888888888889\n"
          ]
        }
      ],
      "source": [
        "# print the max, the min and the avg of values in docs_len\n",
        "print(\"Number of documents: \",len(docs_len))\n",
        "print(\"Maximum number of tokens in a document: \",max(docs_len))\n",
        "print(\"Minimum number of tokens in a document: \",min(docs_len))\n",
        "print(\"Average number of tokens in a document: \",sum(docs_len)/len(docs_len))"
      ]
    },
    {
      "cell_type": "markdown",
      "metadata": {
        "id": "V5j3ay1zTLO5"
      },
      "source": [
        "# RAG Pipeline on PDFs with Limited GPU Requirements\n",
        "\n",
        "Now, our aim is to build a **Retrieval-Augmented Generation (RAG)** pipeline optimized for a **limited GPU environments**. The goal is to combine the power of *dense retrieval-based methods* with the flexibility of generative models, while ensuring the system remains efficient enough to run on medium-tier laptops with GPUs.\n",
        "\n",
        "As said in the introduction, a RAG pipeline consists of two main stages: **retrieval** and **generation**. The entire process can be divided into **3 key steps**:\n",
        "\n",
        "1. **Generation of document embeddings**  \n",
        "   In this step, document embeddings are generated from a *corpus* using an embedding model. Each document is encoded into a dense vector representation, capturing semantic information.\n",
        "\n",
        "2. **Document retrieval**  \n",
        "   Relevant documents are fetched from the corpus based on the input query. This is achieved by utilizing the generated embeddings and calculating similarity with the query's embedding to retrieve the most relevant documents.\n",
        "\n",
        "3. **Output generation**  \n",
        "   The retrieved documents are then passed to a **generative model**, which produces contextually relevant responses based on the information extracted from the documents.\n",
        "\n",
        "By leveraging lightweight models and optimizing for efficiency, this RAG pipeline should be able to deliver good results even on hardware with **limited resources**.\n",
        "\n",
        "Finally, a **Gradio interface** is provided, allowing users to interact with the system and \"chat\" with the documents they provide, offering a seamless experience for exploring the content."
      ]
    },
    {
      "cell_type": "markdown",
      "metadata": {
        "id": "SzLXqhNeTLO9"
      },
      "source": [
        "## Hardware requirements and constraints\n",
        "\n",
        "Let's find out what hardware we've got available to see what kind of model(s) we'll be able to load. You can also check this with the `!nvidia-smi` command."
      ]
    },
    {
      "cell_type": "markdown",
      "metadata": {
        "id": "vmd7W4v-WNSD"
      },
      "source": [
        "> **NOTE** : as said above, `sentence-transformers` requires a different version of the `transformers` library, so we update it here."
      ]
    },
    {
      "cell_type": "code",
      "execution_count": 23,
      "metadata": {
        "id": "-Yd9LgCsWNSE"
      },
      "outputs": [
        {
          "name": "stdout",
          "output_type": "stream",
          "text": [
            "Note: you may need to restart the kernel to use updated packages.\n"
          ]
        }
      ],
      "source": [
        "%pip install -qqq -U transformers"
      ]
    },
    {
      "cell_type": "code",
      "execution_count": 24,
      "metadata": {
        "id": "1fkHZDXjWNSE"
      },
      "outputs": [
        {
          "name": "stdout",
          "output_type": "stream",
          "text": [
            "Using device: cuda\n"
          ]
        }
      ],
      "source": [
        "import torch\n",
        "\n",
        "device = torch.device(\"cuda\" if torch.cuda.is_available() else \"mps\" if torch.backends.mps.is_available() else \"cpu\")\n",
        "print(f\"Using device: {device}\")"
      ]
    },
    {
      "cell_type": "code",
      "execution_count": 25,
      "metadata": {
        "id": "gq99vywlTLO-"
      },
      "outputs": [
        {
          "name": "stdout",
          "output_type": "stream",
          "text": [
            "Available GPU memory: 8 GB\n",
            "NVIDIA GeForce RTX 3070 Laptop GPU\n"
          ]
        }
      ],
      "source": [
        "# Get GPU available memory\n",
        "gpu_memory_bytes = torch.cuda.get_device_properties(0).total_memory\n",
        "gpu_memory_gb = round(gpu_memory_bytes / (2**30))\n",
        "print(f\"Available GPU memory: {gpu_memory_gb} GB\")\n",
        "print(torch.cuda.get_device_name(0))"
      ]
    },
    {
      "cell_type": "markdown",
      "metadata": {
        "id": "mN4Pji5BTLO-"
      },
      "source": [
        "Of course, depending on the provided harware, better models can be utilized."
      ]
    },
    {
      "cell_type": "markdown",
      "metadata": {
        "id": "gMiWvBYzTLO-"
      },
      "source": [
        "### Checking local GPU memory availability\n",
        "\n",
        "Let's first analyze how we decided the model to use for this project. This notebook was primarily run and tested locally on a **laptop** with 16GB of RAM and an NVIDIA RTX 3070 laptop GPU (8GB of VRAM). The main goal was to create a pipeline that could efficiently run on this portable device, leveraging the benefits of GPUs and CUDA for AI tasks while ensuring that the performance and capabilities did not feel lacking compared to larger models.\n",
        "\n",
        "We will need two main ingredients:\n",
        "- An *embedder* model, that calculates dense embeddings from documents\n",
        "- An *LLM*, that provides output given user's queries and the retrieved documents\n",
        "\n",
        "In their dedicated sections we will uncover the choiches made for both."
      ]
    },
    {
      "cell_type": "markdown",
      "metadata": {
        "id": "cPrgoawNTLO_"
      },
      "source": [
        "### Load our PDF and start producing chunks\n",
        "\n",
        "Let's now start by loading a pdf file and extracting chunks from it. These chunks' **quality** is important, since these will be essentially the *documents* on which we will compute the embeddings on."
      ]
    },
    {
      "cell_type": "code",
      "execution_count": 26,
      "metadata": {
        "id": "sBaOxo4gaimg"
      },
      "outputs": [
        {
          "name": "stdout",
          "output_type": "stream",
          "text": [
            "Not running in Google Colab. Using load_dotenv to get HF_TOKEN.\n"
          ]
        },
        {
          "name": "stderr",
          "output_type": "stream",
          "text": [
            "Note: Environment variable`HF_TOKEN` is set and is the current active token independently from the token you've just configured.\n"
          ]
        }
      ],
      "source": [
        "from huggingface_hub import login\n",
        "from dotenv import load_dotenv\n",
        "\n",
        "PDF_NAME = \"Information Retrieval Slides.pdf\"\n",
        "running_on_colab = False\n",
        "\n",
        "try:\n",
        "    from google.colab import userdata # type: ignore\n",
        "    HF_TOKEN = userdata.get('HF_TOKEN')\n",
        "    print(\"Running in Google Colab. Using userdata to get HF_TOKEN.\")\n",
        "    running_on_colab = True\n",
        "except ModuleNotFoundError:\n",
        "    load_dotenv()\n",
        "    HF_TOKEN = os.getenv('HF_TOKEN')\n",
        "    print(\"Not running in Google Colab. Using load_dotenv to get HF_TOKEN.\")\n",
        "\n",
        "file_path = PDF_NAME\n",
        "login(token=HF_TOKEN)"
      ]
    },
    {
      "cell_type": "code",
      "execution_count": 27,
      "metadata": {
        "id": "i5jUKmVnUnI-"
      },
      "outputs": [
        {
          "name": "stdout",
          "output_type": "stream",
          "text": [
            "117\n"
          ]
        }
      ],
      "source": [
        "corpus = []\n",
        "# for each document in the 'chunks' folder, we append its text to 'corpus'\n",
        "for file in sorted(os.listdir(\"chunks\")):\n",
        "    with open(os.path.join(\"chunks\", file), \"r\", encoding=\"utf-8\") as f:\n",
        "        corpus.append(f.read())\n",
        "\n",
        "print(len(corpus))"
      ]
    },
    {
      "cell_type": "markdown",
      "metadata": {
        "id": "2eBAwgyvTLPA"
      },
      "source": [
        "Let's give a look to some random documents extracted and preprocessed from the initial pdf"
      ]
    },
    {
      "cell_type": "code",
      "execution_count": 28,
      "metadata": {
        "id": "qKx35jopaimh"
      },
      "outputs": [
        {
          "name": "stdout",
          "output_type": "stream",
          "text": [
            "DocId: 110, x x2 = x3 = 1 3 x1 1 TX FTX TTX x2 + x1 + 3 2 x4 x4 = 1 x1 + TX 3 1 x2 TX 2 k = 0 k = 4 PageRank Com...\n",
            "DocId: 53, Corpus: 595,037 news articles and blog posts from January 2012 through August 2017 from Washington P...\n",
            "DocId: 16, \\(\\bullet\\) Probability that a document \\(d\\) is not-relevant for the query \\(q\\):\n",
            "\n",
            "\\[P(\\bar{r}\\,|\\,...\n",
            "DocId: 3, online ranker comparison Presents results from both rankings to every user The ranking that gets mor...\n",
            "DocId: 78, that eliteness Ei depends on relevance for a given query- R document pair The event Ei = 1 is denote...\n"
          ]
        }
      ],
      "source": [
        "import random\n",
        "\n",
        "# print some random pages with their indices\n",
        "random.seed(4242)\n",
        "for i in range(5):\n",
        "    doc = random.choice(corpus)\n",
        "    doc_index = corpus.index(doc)\n",
        "    print(f\"DocId: {doc_index}, {doc[:100]}...\")"
      ]
    },
    {
      "cell_type": "code",
      "execution_count": 29,
      "metadata": {
        "id": "pdh2ECCcaimi"
      },
      "outputs": [
        {
          "name": "stdout",
          "output_type": "stream",
          "text": [
            "Average document length: 1307.7948717948718\n"
          ]
        }
      ],
      "source": [
        "print(f\"Average document length: {sum(len(doc) for doc in corpus) / len(corpus)}\")"
      ]
    },
    {
      "cell_type": "markdown",
      "metadata": {
        "id": "yhCC7pboWNSF"
      },
      "source": [
        "Later, we will use a `json` files containing questions to test the pipeline: it is made up by 69 open-questions we prepared on the PDF topic, in order to asses the final RAG capabilities. For now, we’ll download this file and use it also in this paragraph to ensure the pipeline works as expected.\n",
        "\n",
        "We’ll begin by defining the function `extract_questions(file_path)`, which takes as parameter:\n",
        "\n",
        "- `file_path`: the path to the JSON file containing the questions.\n",
        "\n",
        "At this stage, since our primary goal is to verify that everything functions as intended, we'll just use **some** of the proposed questions."
      ]
    },
    {
      "cell_type": "code",
      "execution_count": 30,
      "metadata": {
        "id": "kR2e6XDsaimi"
      },
      "outputs": [
        {
          "name": "stdout",
          "output_type": "stream",
          "text": [
            "Loaded 60 questions.\n",
            "{'question_id': '56', 'question': 'What is Average Precision AP?'}\n"
          ]
        }
      ],
      "source": [
        "import json\n",
        "\n",
        "\n",
        "def extract_questions(file_path):\n",
        "    \"\"\"\n",
        "    Extracts questions from a JSON file.\n",
        "    \"\"\"\n",
        "    with open(file_path, 'r') as file:\n",
        "        data = json.load(file)\n",
        "        return [\n",
        "            {\n",
        "                \"question_id\": item.get(\"question_id\", \"\"),\n",
        "                \"question\": item.get(\"question\", \"\")\n",
        "            }\n",
        "            for item in data\n",
        "        ]\n",
        "\n",
        "\n",
        "if not os.path.exists(\"evaluation\"):\n",
        "    os.makedirs(\"evaluation\")\n",
        "    # save locally from https://drive.google.com/file/d/1m2_iG7cGOgRwfVaXzTORU7Pcn71UFKcG/view?usp=drive_link\n",
        "    gdown.download(id=\"1m2_iG7cGOgRwfVaXzTORU7Pcn71UFKcG\", output=\"evaluation/quiz.json\", quiet=False)\n",
        "    # save locally from https://drive.google.com/file/d/1L6rvrbPtwGduaN-8DmpLAWXUtHSfhhF2/view?usp=sharing\n",
        "    gdown.download(id=\"1L6rvrbPtwGduaN-8DmpLAWXUtHSfhhF2\", output=\"evaluation/open_questions.json\", quiet=False)\n",
        "\n",
        "queries = extract_questions(\"evaluation/open_questions.json\")\n",
        "print(f\"Loaded {len(queries)} questions.\")\n",
        "\n",
        "random.seed(4242)\n",
        "print(random.choice(queries))"
      ]
    },
    {
      "cell_type": "markdown",
      "metadata": {
        "id": "QPIvk-TUTLPB"
      },
      "source": [
        "## Gather Dataset Embeddings\n",
        "\n",
        "In this first stage, the aim is to produce the documents embeddings, in order to be able to make similarity searches in the upcoming steps of the pipeline.\n",
        "\n",
        "### About the `cde-small-v1` Model\n",
        "\n",
        "The `cde-small-v1` model, developed by John X. Morris and Alexander M. Rush, is a cutting-edge model for generating **Contextual Document Embeddings (CDE)** ([link](https://huggingface.co/jxm/cde-small-v1)). What sets this model apart is its ability to integrate \"*context tokens*\" into the embedding process, which allows it to capture the nuances and relationships between documents more effectively. This makes it particularly suitable for generating highly accurate embeddings for both documents and queries, especially in cases where capturing the context of a document within the broader corpus is crucial.\n",
        "\n",
        "We chose this model because, as of December 2024, it is one of the leading models under 400M parameters, delivering impressive results on the [**Massive Text Embedding Benchmark (MTEB) leaderboard**](https://huggingface.co/spaces/mteb/leaderboard). Although it ranks 32nd overall, it stands out as the top model in terms of **memory efficiency**, which is a key factor for our project, given the requirement for **limited GPU capabilities**. Additionally, it offers a substantial **embedding dimension of 768**, striking a balance between computational efficiency and embedding quality."
      ]
    },
    {
      "cell_type": "markdown",
      "metadata": {
        "id": "0Sg3xXhiaimk"
      },
      "source": [
        "<style>\n",
        "    img {\n",
        "        border-radius: 15px;\n",
        "    }\n",
        "</style>\n",
        "![assets/cde-small-v1.png](assets/cde-small-v1.png?raw=1)"
      ]
    },
    {
      "cell_type": "markdown",
      "metadata": {},
      "source": [
        "### Key Features of Contextual Embeddings\n",
        "Traditional embedding models treat documents as independent entities, which can miss subtle but important relationships within a corpus. The `cde-small-v1` model solves this by incorporating contextual embeddings, where a document's representation is enriched with information from related documents.\n",
        "\n",
        "This is achieved by:\n",
        "\n",
        "- Clustering Neighboring Documents: Documents are grouped into clusters based on their similarity. For a document , its context is derived from nearby documents in the embedding space.\n",
        "- Integrating Context: The model combines the target document's standalone embedding with the aggregated representation of its cluster to produce a final, enriched embedding.\n",
        "This process ensures that embeddings are not only descriptive of individual documents but also reflective of their relationships within the corpus.\n",
        "\n",
        "In parrticular , to train the `cde-small-v1` model, contrastive learning is used. This method ensures that similar documents are placed closer in the embedding space while dissimilar documents are pushed farther apart.\n",
        "\n",
        "Basically documents from the same cluster or context are treated as similar pairs and dissimilar documents (hard negatives) are included to make the training process more effective and robust\n",
        "\n",
        "During training, the model optimizes a loss function that balances these relationships:\n",
        "- Positive Pair: Maximizes similarity between a query and a relevant document.\n",
        "- Negative Pair: Minimizes similarity between a query and irrelevant documents.\n",
        "\n",
        "This approach should leads to embeddings that are capable of accurately distinguishing between relevant and irrelevant documents, even in complex domains."
      ]
    },
    {
      "cell_type": "markdown",
      "metadata": {
        "id": "RvqbzIDgTLPC"
      },
      "source": [
        "A key feature of the `cde-small-v1` model is its optimization for a two-stage embedding process:\n",
        "\n",
        "1. **First Stage**: Embedding a subset of documents from the corpus to create \"dataset embeddings,\" which serve as a **reference** for the entire corpus.\n",
        "2. **Second Stage**: Using the dataset embeddings to embed new queries and documents during inference.\n",
        "\n",
        "This model is compact yet delivers solid performance, making it suitable for our use case.\n",
        "\n",
        "### Steps to Gather Dataset Embeddings:\n",
        "\n",
        "1. **Selecting a Subset of Documents**  \n",
        "   We begin by sampling a representative set of documents from the corpus. Following the model's guidelines, we select 512 documents. If this number isn't available, the model can handle oversampling, which is the case for the PDF dataset we're using. Despite this, performance remains strong.\n",
        "\n",
        "2. **Generating Dataset Embeddings**  \n",
        "   After selecting the documents, we encode them using the `cde-small-v1` embedding model. This step produces dense vector representations of the documents, which are representative of the broader corpus.\n",
        "\n",
        "3. **Embedding Queries and Documents**  \n",
        "   Once the dataset embeddings are created, we use them to embed both documents and queries. A key feature of this model is its ability to differentiate between 'queries' and 'documents' during encoding, ensuring context is preserved during the embedding process.\n",
        "\n",
        "\n",
        "Next, we will load the model using the `SentenceTransformers` interface to begin the embedding process."
      ]
    },
    {
      "cell_type": "code",
      "execution_count": 31,
      "metadata": {
        "id": "6eW5vIiUTLPC"
      },
      "outputs": [
        {
          "name": "stderr",
          "output_type": "stream",
          "text": [
            "C:\\Users\\giuli\\.cache\\huggingface\\modules\\transformers_modules\\nomic-ai\\nomic-bert-2048\\40b98394640e630d5276807046089b233113aa87\\modeling_hf_nomic_bert.py:108: FutureWarning: You are using `torch.load` with `weights_only=False` (the current default value), which uses the default pickle module implicitly. It is possible to construct malicious pickle data which will execute arbitrary code during unpickling (See https://github.com/pytorch/pytorch/blob/main/SECURITY.md#untrusted-models for more details). In a future release, the default value for `weights_only` will be flipped to `True`. This limits the functions that could be executed during unpickling. Arbitrary objects will no longer be allowed to be loaded via this mode unless they are explicitly allowlisted by the user via `torch.serialization.add_safe_globals`. We recommend you start setting `weights_only=True` for any use case where you don't have full control of the loaded file. Please open an issue on GitHub for any issues related to this experimental feature.\n",
            "  state_dict = loader(resolved_archive_file)\n",
            "<All keys matched successfully>\n",
            "<All keys matched successfully>\n"
          ]
        },
        {
          "name": "stdout",
          "output_type": "stream",
          "text": [
            "Disabled 37 dropout modules from model type <class 'transformers_modules.jxm.cde-small-v1.9e2ed1d8d569d34458913d2d246935c1b2324d11.model.BiEncoder'>\n",
            "modified 12 rotary modules – set rotary_start_pos to 512\n",
            "Disabled 74 dropout modules from model type <class 'transformers_modules.jxm.cde-small-v1.9e2ed1d8d569d34458913d2d246935c1b2324d11.model.DatasetTransformer'>\n"
          ]
        }
      ],
      "source": [
        "from sentence_transformers import SentenceTransformer\n",
        "\n",
        "# with sentence-transformers we don't need prefixes but, to do retrieval, we need to use prompt_name=\"query\" and prompt_name=\"document\" in the encode method of the model when embedding queries and documents, respectively.\n",
        "embeddings_model = SentenceTransformer(\n",
        "    \"jxm/cde-small-v1\",\n",
        "    trust_remote_code=True,\n",
        ").to(device)"
      ]
    },
    {
      "cell_type": "markdown",
      "metadata": {
        "id": "7W7Dz05MTLPC"
      },
      "source": [
        "During the development of the project, the creators of the embedding model made a change in the Hugging Face repository, which led to unstable results when using the `SentenceTransformer` implementation. If a similar issue arises in the future, it can be mitigated by specifying the `revision` and `tokenizer_kwargs` parameters in the model constructor. These parameters allow to lock the model and tokenizer to a specific branch name, tag, or commit ID from the Hugging Face repository, ensuring stability.\n",
        "\n",
        "Here’s how to implement it:\n",
        "\n",
        "```python\n",
        "embeddings_model = SentenceTransformer(\n",
        "    \"jxm/cde-small-v1\",\n",
        "    trust_remote_code=True,\n",
        "    revision=\"9e2ed1d8d569d34458913d2d246935c1b2324d11\",  # Latest stable model revision\n",
        "    tokenizer_kwargs={\"revision\": \"86b5e0934494bd15c9632b12f734a8a67f723594\"}  # Latest stable tokenizer revision\n",
        ").to(device)\n",
        "```\n",
        "\n",
        "The tags provided above correspond to the latest stable commits (as of December 2024). You can retrieve them directly from the model's card page on Hugging Face, under the \"Files and Versions\" tab.\n",
        "\n",
        "Fortunately for us, the issue was resolved the same day we reported it to the creators via Twitter. We thank them for their prompt response and the fix they provided."
      ]
    },
    {
      "cell_type": "markdown",
      "metadata": {
        "id": "VvDHtnRDTLPC"
      },
      "source": [
        "Let's follow up by producing the `minicorpus` (which is the subsample of the whole corpus) and what we called `dataset_embeddings`"
      ]
    },
    {
      "cell_type": "code",
      "execution_count": 32,
      "metadata": {
        "id": "7ISVKFnGaimk"
      },
      "outputs": [
        {
          "data": {
            "application/vnd.jupyter.widget-view+json": {
              "model_id": "79097cec2a5741f4afe411ddeb81930d",
              "version_major": 2,
              "version_minor": 0
            },
            "text/plain": [
              "Batches:   0%|          | 0/16 [00:00<?, ?it/s]"
            ]
          },
          "metadata": {},
          "output_type": "display_data"
        },
        {
          "name": "stdout",
          "output_type": "stream",
          "text": [
            "Corpus size: 117\n",
            "Computed embeddings for 512 documents. Shape: torch.Size([512, 768])\n"
          ]
        }
      ],
      "source": [
        "minicorpus_size = embeddings_model[0].config.transductive_corpus_size # 512\n",
        "random.seed(4242)\n",
        "minicorpus_docs = random.choices(corpus, k=minicorpus_size) # oversampling is okay\n",
        "assert len(minicorpus_docs) == minicorpus_size # We must use exactly this many documents in the minicorpus\n",
        "\n",
        "dataset_embeddings = embeddings_model.encode(\n",
        "    [doc for doc in minicorpus_docs],\n",
        "    prompt_name=\"document\",\n",
        "    convert_to_tensor=True,\n",
        "    show_progress_bar=True\n",
        ")\n",
        "\n",
        "print(f\"Corpus size: {len(corpus)}\")\n",
        "print(f\"Computed embeddings for {len(minicorpus_docs)} documents. Shape: {dataset_embeddings.shape}\")"
      ]
    },
    {
      "cell_type": "code",
      "execution_count": 33,
      "metadata": {
        "id": "qWDiKrp7aiml"
      },
      "outputs": [
        {
          "name": "stdout",
          "output_type": "stream",
          "text": [
            "Some mini-corpus documents:\n",
            "document 425: email addresses (nicola.tonellotto@unipi.it) Clitic: a word that doesn't stand on its own we're, don...\n",
            "document 134: x x2 = x3 = 1 3 x1 1 TX FTX TTX x2 + x1 + 3 2 x4 x4 = 1 x1 + TX 3 1 x2 TX 2 k = 0 k = 4 PageRank Com...\n",
            "document 29: DAAT Pseudocode 5.7 Query Processing procedure DAATR(Q, I, f , g, k) L Array()  R PriorityQueue(k)  ...\n",
            "document 399: terms term frequency tfi 0 Equals to 0 when the term is not present The asymptotic limit is cBIM i A...\n",
            "document 388: computed by using partial scores, if any, and term upper bounds, is lesser than or equal to the curr...\n"
          ]
        }
      ],
      "source": [
        "print(\"Some mini-corpus documents:\")\n",
        "\n",
        "# get some random documents from the minicorpus\n",
        "random.seed(4242)\n",
        "for i in random.sample(range(minicorpus_size), 5):\n",
        "    print(f\"document {i}: {minicorpus_docs[i][:100]}...\")"
      ]
    },
    {
      "cell_type": "markdown",
      "metadata": {
        "id": "MZLI5qjGaiml"
      },
      "source": [
        "Now that we have obtained the **dataset embeddings**, we can proceed to embed both documents and queries using the same model.\n",
        "\n",
        "To embed the documents and queries, we must ensure that we specify the correct `prompt_name` for each, as well as pass the `dataset_embeddings` to maintain context. The reason is that, as many state-of-the-art-models, this one was trained with task-specific prefixes:\n",
        "\n",
        "- For documents, use:  \n",
        "  `prompt_name=\"document\"`\n",
        "\n",
        "- For queries, use:  \n",
        "  `prompt_name=\"query\"`\n",
        "\n",
        "We also have to always additionally, specify  the `dataset_embeddings`, in order to use the once we produced before.\n",
        "\n",
        "By doing so, we ensure that the embeddings are generated with the correct context for both retrieval and generation tasks, leveraging the efficient performance of the `cde-small-v1` model."
      ]
    },
    {
      "cell_type": "code",
      "execution_count": 34,
      "metadata": {
        "id": "Z-4WdCtLaiml"
      },
      "outputs": [
        {
          "data": {
            "application/vnd.jupyter.widget-view+json": {
              "model_id": "1ac5a90900f5419c8c75db622a749050",
              "version_major": 2,
              "version_minor": 0
            },
            "text/plain": [
              "Batches:   0%|          | 0/4 [00:00<?, ?it/s]"
            ]
          },
          "metadata": {},
          "output_type": "display_data"
        },
        {
          "data": {
            "application/vnd.jupyter.widget-view+json": {
              "model_id": "95c5d75edf2743339ef56ff40fddab3b",
              "version_major": 2,
              "version_minor": 0
            },
            "text/plain": [
              "Batches:   0%|          | 0/2 [00:00<?, ?it/s]"
            ]
          },
          "metadata": {},
          "output_type": "display_data"
        },
        {
          "name": "stdout",
          "output_type": "stream",
          "text": [
            "Document embeddings shape: torch.Size([117, 768])\n",
            "Query embeddings shape: torch.Size([60, 768])\n"
          ]
        }
      ],
      "source": [
        "doc_embeddings = embeddings_model.encode(\n",
        "    [doc for doc in corpus],\n",
        "    prompt_name=\"document\",\n",
        "    dataset_embeddings=dataset_embeddings, # this is the contexualized embeddings of the minicorpus\n",
        "    convert_to_tensor=True,\n",
        "    show_progress_bar=True\n",
        ")\n",
        "\n",
        "queries_embeddings = embeddings_model.encode(\n",
        "    [query['question'] for query in queries],\n",
        "    prompt_name=\"query\",\n",
        "    dataset_embeddings=dataset_embeddings,  # this is the contexualized embeddings of the minicorpus\n",
        "    convert_to_tensor=True,\n",
        "    show_progress_bar=True\n",
        ")\n",
        "\n",
        "print(f\"Document embeddings shape: {doc_embeddings.shape}\")\n",
        "print(f\"Query embeddings shape: {queries_embeddings.shape}\")"
      ]
    },
    {
      "cell_type": "markdown",
      "metadata": {
        "id": "1BQx9Lr3TLPD"
      },
      "source": [
        "We can now computes similarities between the embeddings and all the queries by simply calling `embeddings_model.similarity` (which uses by default cosine similarity), and inspect some of the results obtained."
      ]
    },
    {
      "cell_type": "code",
      "execution_count": 35,
      "metadata": {
        "id": "8coT3HV9aiml"
      },
      "outputs": [
        {
          "name": "stdout",
          "output_type": "stream",
          "text": [
            "similarities' shape :  torch.Size([60, 117])\n",
            "Query: What is Average Precision AP?\n",
            "Rank 1 (Score: 0.6895, Doc ID: 59): standard Recall value we use the maximum Precision obtained for any actual Recall value greater than or equal to R iP@Rj = max P@R Rj Rj RRj Recall , : Average Precision Consider the rank position of each relevant document K1, K2, , KRB Compute P@k for each value k K1, K2, , KRB   The Average Precision AP is arithmetic mean of these P@k values The Mean Average Precision (MAP) is the mean of AP over a set of topics   Differently from the other measures, this mean has its own name since it is the most widely used single number to summarise the whole performance of a system Chris Buckley (US) Ellen M. Voorhees (US) Buckley, C. and Voorhees, E. M. (2005). Retrieval System Evaluation. In Harman, D. K. and Voorhees, E. M., editors, TREC. Experiment and Evaluation in Information Retrieval, pages 5378. MIT Press, Cambridge (MA), USA. Example Binary Weighted Assessed Run Assessed Run Topic Run Highly 1 Relevant 1 Not 0 Relevant 2 Partially 1 Relevant 3 1 Relevant 4 Not 0 Relevant 5 Not 0 Assume relevant documents in total RB = 8 Relevant 6 Not 0 Relevant 7 Fairly 1 AP = Relevant 8 Not 0 Relevant 9 =  0.3646 Not 0 8 ( 8 ) 3 4 96 Relevant 10 | ---- 3 Fairly -(P@1L =F (14543 +2) <2 03646 Not ...\n",
            "Rank 2 (Score: 0.5714, Doc ID: 9): Area Under the Precision-Recall Curve\n",
            "\n",
            "\\[AUC=\\sum_{n=1}^{N}P\\text@n\\big(R\\text@n-R\\text@(n-1)\\big)\\]\n",
            "\n",
            "* When the \\(n\\)-th document is not relevant, \\(R\\text@n\\) is equal to \\(R\\text@(n-1)\\) and their difference goes to 0\n",
            "* Therefore, we can sum only on \\(\\mathcal{R}\\), i.e. the set of the rank positions of the relevant retrieved documents: \\[AUC=\\sum_{k\\in\\mathcal{R}}P\\text@k\\big(R\\text@k-R\\text@ (k-1)\\big)\\]\n",
            "* Two adjacent rank positions differ just for one relevant document and thus \\[R\\text@k-R\\text@(k-1)=\\frac{1}{RB}\\]\n",
            "* Then \\[AUC=\\frac{1}{RB}\\sum_{k\\in\\mathcal{R}}P\\text@k=AP\\]* The user starts from the top ranked document and with probability \\(p\\), called persistence, goes to the next document or with probability \\(1-p\\) stops\n",
            "* Typical value for \\(p\\) are: 0.5 for impatient users, 0.8 for patient users, and 0.95 for extremely patient users \\[RBP@k=(1-p)\\sum{i=1}^{k}p^{i-1}r{i}=(1-p)\\sum_{k\\in\\mathcal{R}}p^{k-1}\\]\n",
            "\n",
            "Orderings and Selections...\n",
            "Rank 3 (Score: 0.5554, Doc ID: 58): is the relevance judgment of the -th i retrieved document Recall at (document) cutoff : k i=1 where RB is the recall base, i.e., the total number of relevant documents Example Binary Weighted Set-based Topic Run Assessed Run View Highly d1 1 Relevant 1 Not d2 0 Relevant 2 Partially d3 1 Relevant 3 Fairly d4 1 Relevant 4 Not 0 Relevant 5 Not 0 Relevant 6 Not Assume RB = 8 0 Relevant 7 Fairly relevant documents 1 Relevant 8 Not 0 in total Relevant 9 Not 0 Relevant 10 P@5 = 3/5 = 0.6 R@5 = 3/8 = 0.375 __ Highly Partially | ------- 3 Fairly | . Precision-Recall Curve   Assume RB = 5 relevant documents in total The Precision-Recall curve has a typical saw-tooth shape We may have multiple Precision values for the same Recall value It is difficult to compare runs because they may not have the same Recall values | 1 1 2 3 4 5 6 7 8 9 Interpolated Precision-Recall Curve Run1 To interpolate Precision at standard Recall value we use the maximum Precision obtained for any actual Recall value greater than or equal to R iP@Rj = max P@R Rj Rj RRj Recall , : ...\n",
            "Rank 4 (Score: 0.5414, Doc ID: 14): This contradicts the assumption that \\(E[R{\\bar{k}}(d{l})]\\) was maximal.\n",
            "\n",
            "PRP Assumptions\n",
            "\n",
            "* We assume to know \\(P(r|d,q)\\)\n",
            "* given a single, specific document,\n",
            "* given a single, specific query,\n",
            "* related to a single, specific information need,\n",
            "* of a single, specific user.\n",
            "* In particular, this probability does not depend\n",
            "* on other users,\n",
            "* on other information needs,\n",
            "* on other queries issued by the same user,\n",
            "* on other documents returned for the same query.\n",
            "* We assume that the effectiveness of the IR system is measured by \\(E[R_{k}]\\)\n",
            "* Maximises also expected precision at \\(k\\): \\(E[P@k]=\\dfrac{E[R_{k}]}{k}\\)\n",
            "* Maximises also expected recall at \\(k\\): \\(E[R@k]=\\dfrac{E[R{k}]}{D{R}}\\), where \\(D_{R}\\) denotes the number of documents relevant for the given query\n",
            "* The PRP does not hold a priori for other effectiveness measures\n",
            "\n",
            " Cooper's Example...\n",
            "Rank 5 (Score: 0.5359, Doc ID: 60): Relevant 8 Not 0 Relevant 9 = 0.3646 Not 0 8 ( 8 ) 3 4 96 Relevant 10 | ---- 3 Fairly -(P@1L =F (14543 +2) <2 03646 Not 1.00 0.90 0.80 0.70 : 0.60 0.50 0.40 0.30 0.20 0.10 Area Under the Precision-Recall Curve The Area Under the Precision-Recall Curve 0.00 k 0.20 0.10 0.40 0.50 0.60 0.30 1.00 0.70 0.90 0.80 Recall Discounted Cumulative Gain i=1 Kalervo Jrvelin (FI)   where the base of the logarithm indicates the patience b of the user in scanning the result list e b=2 Is an impatient user is an impatient user b = 2 b = 10 is a patient user DCG naturally handles multi-graded relevance DCG does not depend on the recall base DCG is not bounded in [0,1] Jaana Keklinen (FI) ...\n",
            "\n",
            "Query: What is web crawling?\n",
            "Rank 1 (Score: 0.7117, Doc ID: 110): x x2 = x3 = 1 3 x1 1 TX FTX TTX x2 + x1 + 3 2 x4 x4 = 1 x1 + TX 3 1 x2 TX 2 k = 0 k = 4 PageRank Computation k = 1 k   Teleportation Computation G G = (1  )M + S where S  nn and Sij = 1/n is the Google matrix and is the teleportation parameter  Teleportation Computation 1 I  oo M = ee) oor 0 1 0 0 0 1 0 0 0 ooo oor 0 0 0 1 1/2 0 0 1 0 1/2 0 0 0 0 0 0.03 0.88 0.03 0.03 0.03 0.88 0.03 0.03 0.03 0.03  = 0.15  G = 0.03 0.03 0.03 0.88 0.455 0.03 0.03 0.88 0.03 0.455 0.03 0.03 0.03 0.03 0.03 The unique Pagerank score is x = [0.2 0.2 0.285 0.285 0.03]T Web Search Architecture Web Crawling   Web crawling is the process of locating, fetching, storing, and maintaining the pages available in the Web.   Computer programs that perform this task are referred to as crawlers spiders harvesters Web crawler repositories cache the online content in the Web   provide quick access to the physical copies of pages in the Web   help to speed up the indexing process Web Graph   Fundamental Assumption: The web is well linked   Web crawlers exploit the hyperlink structure of the Web ...\n",
            "Rank 2 (Score: 0.6696, Doc ID: 111): of pages in the Web help to speed up the indexing process Web Graph Fundamental Assumption: The web is well linked Web crawlers exploit the hyperlink structure of the Web (Basic) Web Crawling Process   Initialise a URL download queue (URL Frontier) with some seed URLs   Good seeds will link to many other pages  e.g. for crawling the university, use the homepage as a seed Repeat the following steps   Fetch the content of a URL selected from the download queue Store the fetched content in a repository Extract the hyperlinks within the fetched content Add the new extracted links into the download queue (URL Frontier) Why such a seemingly simple procedure is problematic? Web Crawling Challenges   To fetch 1,000,000,000 unique pages in one month:   We need to fetch almost 400 pages per second   Actually: many more since many of the pages we attempt to crawl will be duplicates, unreachable, spam etc.   Building an industrial strength & scalable crawler is a (challenging) system engineering problem We need many machines  how do we distribute? Latency/bandwidth  how to make best use of available resources Identifying duplicates/near duplicates How often should we re-crawl sites (freshness, politeness)? Incremental Web Crawling Crawling process divides the Web into three subsets downloaded discovered undiscovered Pages move between these subspaces in time. seed page ...\n",
            "Rank 3 (Score: 0.6659, Doc ID: 112): often should we re-crawl sites (freshness, politeness)? Incremental Web Crawling Crawling process divides the Web into three subsets downloaded discovered undiscovered Pages move between these subspaces in time. seed page Key Web Crawling Components URL Frontier: a queue data structure containing the URLs to be crawled   Can be sorted to give priority to some pages over others   Seen URLs: a set data structure, permitting the crawler to know if it has crawled a URL before or not   Fetcher: downloads an unseen URL & store it in the data repository Parser: extracts outgoing links from the page   URL Filtering: eliminate URLs that appear to be images, or that are disallowed by the robots.txt files Content-seen filter: eliminate duplicate pages Open-source Web Crawlers   BUbiNG: Distributed crawler (GNU GPLv3+)   GRUB: Distributed crawler (GNU GPLv2)   Heritrix: Internet Archive's crawler (Apache license)   Nutch: Distributed crawler with Hadoop support (Apache License 2.0)   Scrapy: Crawling framework (BSD license) Wget: Computer program to retrieve pages (GNU GPLv3+) Web Evaluation   Suppose, we've implemented a change in a search engine: New learning to rank method New ranking feature Change in the user interface Evaluation problem: will it improve the users' experience? Is it worth deploying at all? Evaluation methods: Offline evaluation User study evaluation Online evaluation Each method has advantages and disadvantages ...\n",
            "Rank 4 (Score: 0.6193, Doc ID: 104): more than 2 1012 (2 trillions) queries What makes Web Search Difficult? Size Image credit: Getty Images Image credit: istockphoto.com/PeterPencil Dynamicity Image credit: Getty Images/nadla The Scale of Web Search How many documents? In how long?   Reports suggest that Google considers a total of 30 trillion pages in the indexes of its search engine   And it identified relevant results from these 30 trillion in 0.63 seconds Clearly this a big data problem!   To answer a user's query, a search engine doesn't read through all of those pages: the index data structures help it to efficiently find pages that effectively match the query and will help the user Effective: users want relevant search results Efficient: users aren't prepared to wait a long time for search results Actors in Web Search User's perspective: accessing information Relevance Speed Search engine's perspective: monetisation Attract more users Increase the ad revenue Reduce the operational costs Advertiser's perspective: publicity Attract more users, c.f. Search Engine Optimisation Pay little Temporal Web Dynamics   Temporal aspects are of considerable importance in Web search   Time is pervasive in information systems   New documents appear all the time   Document content changes over time   Query volume changes over time (e.g. lower on week-ends)   What's relevant to a query changes over time   E.g., U.S. Open 2019 (in June vs. Sept)   E.g., U.S. Open 2019 (before, during, after event)   User interaction changes over time   E.g., anchor text, \"likes\", query-click streams, social networks Relations between entities change over time E.g., President of the U.S. is XXXX [in 2020 vs. 2012] ...\n",
            "Rank 5 (Score: 0.6113, Doc ID: 107): different interests (e.g. sports) which are reected in their short and long-term search history Queries could be ambiguous for the search engine; personalisation signals help to resolve that Which Cooper? Ranking in Web Search Given a corpus and a query, rank relevant web pages (documents) before non- relevant web pages corpus: a subset of indexed web pages query: short keyword query and any other user/context data rank: document scoring function   The goal is to estimate P(r | d, x) = relevance r = document d = context, e.g., query, user, location x   As we did in IR, p(r | d, x)  sM( f ) = set of ranking features depending on document and context M = model parameters Web Ranking Features   Important to select features likely to be correlated with relevance, e.g., term matching scores   Web environment invites unique features: document structure, user signals, dynamics   There is a lot of junk on the web, e.g., spam, irrelevant forums   Knowing what users are reading is a valuable source for knowing what is not junk   Ideally, we would be able to monitor everything the user is reading and use that information for ranking; this is achieved through toolbars, browsers, operating systems, DNS In 1998, no search company had browsing data How did they address this lack of data? ...\n",
            "\n"
          ]
        }
      ],
      "source": [
        "similarities = embeddings_model.similarity(queries_embeddings, doc_embeddings)\n",
        "print(\"similarities' shape : \",similarities.shape)\n",
        "topk_values, topk_indices = similarities.topk(5)\n",
        "\n",
        "random.seed(4242)\n",
        "random_queries = random.sample(queries, 2)\n",
        "for query in random_queries:\n",
        "    query_idx = queries.index(query)\n",
        "    print(f\"Query: {query['question']}\")\n",
        "    for j, idx in enumerate(topk_indices[query_idx]):\n",
        "        doc = corpus[idx]\n",
        "        print(f\"Rank {j+1} (Score: {topk_values[query_idx][j]:.4f}, Doc ID: {idx}): {doc}...\")\n",
        "    print()"
      ]
    },
    {
      "cell_type": "markdown",
      "metadata": {
        "id": "OH3wLZDIaiml"
      },
      "source": [
        "## Chroma\n",
        "\n",
        "While not strictly necessary for this project - since the provided PDF is relatively small - we decided to integrate a vector database to enhance the storage and retrieval of the embeddings produced. This integration becomes particularly valuable when larger files are processed, as they often require splitting the corpus into smaller chunks, with each chunk generating its own embedding. The resulting large number of embeddings makes efficient storage and retrieval mechanisms increasingly important.\n",
        "\n",
        "After evaluating various options, we selected [**Chroma**](https://www.trychroma.com/) for its simplicity of local deployment and good performances. Chroma is particularly well-suited for managing **large document collections**, providing **faster retrieval** and ensuring that the pipeline remains robust and adaptable to big files.\n",
        "\n",
        "### Implementation Steps\n",
        "\n",
        "We begin by creating a Chroma client and verifying if a collection named `'chroma-collection'` already exists locally:  if it does, we delete it to ensure a clean state before initializing a new one.\n",
        "\n",
        "For reference, a Chroma client can be instantiated in two ways :\n",
        "\n",
        "- in an **ephemeral way** (in-memory), particularly useful for experimentation, such as testing different embedding functions and retrieval techniques. If data persistence is not a requirement, this approach provides a lightweight and efficient way to get started with Chroma while maintaining flexibility for quick iterations. This can be achieved with the following code:\n",
        "\n",
        "    ```python\n",
        "    import chromadb\n",
        "    client = chromadb.Client()\n",
        "    ```\n",
        "\n",
        "- with a **persistent client**. This can be done by providing a  path where Chroma will store its database files on disk, and load them on start.\n",
        "\n",
        "    ```python\n",
        "    import chromadb\n",
        "    client = chromadb.PersistentClient(path=\"/path/to/save/to\")\n",
        "    ```\n",
        "    If a `path` is not provided, the default is `.chroma`\n",
        "\n",
        "More about Chroma can be found in its [documentation](https://docs.trychroma.com/docs/overview/introduction). We choose to utilize the **persistent** approach, so let's follow by instantiating a `PersistentClient`;  if the collection already exists, we delete it to ensure a clean state before initializing a new one.\n"
      ]
    },
    {
      "cell_type": "code",
      "execution_count": 36,
      "metadata": {
        "id": "2jszrG73aimm"
      },
      "outputs": [
        {
          "name": "stdout",
          "output_type": "stream",
          "text": [
            "Collection chroma-collection exists, deleting it\n"
          ]
        }
      ],
      "source": [
        "from chromadb import PersistentClient, Collection\n",
        "\n",
        "COLLECTION_NAME = \"chroma-collection\"\n",
        "\n",
        "# Initialize the Chroma client\n",
        "client = PersistentClient(path=\"./\"+COLLECTION_NAME)\n",
        "\n",
        "# Check if the collection exists and delete it if it does\n",
        "if COLLECTION_NAME in [col.name for col in client.list_collections()]:\n",
        "    client.delete_collection(name=COLLECTION_NAME)\n",
        "    print(f\"Collection {COLLECTION_NAME} exists, deleting it\")\n",
        "else:\n",
        "    print(f\"Collection {COLLECTION_NAME} does not exist\")"
      ]
    },
    {
      "cell_type": "markdown",
      "metadata": {
        "id": "e2KFyNnBTLPE"
      },
      "source": [
        "### Integration of `cde-small-v1` with Chroma\n",
        "\n",
        "Integrating the **`cde-small-v1`** embedding model with Chroma required the creation of a custom `EmbeddingFunction`. This was necessary because **`cde-small-v1`** has a distinct workflow that deviates from standard embedding models. Specifically, as said it uses:\n",
        "\n",
        "- **`prompt_name`**: This parameter distinguishes between \"document\" and \"query\" embeddings, to have proper alignment during retrieval tasks.\n",
        "- **`dataset_embeddings`**: These provide a reference for conditional embedding generation, improving contextual accuracy in embeddings.\n",
        "\n",
        "By default, Chroma does not natively support these additional parameters. However, it offers the flexibility of extending the `EmbeddingFunction` protocol, allowing us to integrate the specific requirements of the **`cde-small-v1`** model into Chroma’s workflow.\n",
        "\n",
        "We can check the type of the elements of the corpus produced by our chunking functions and use it to differentiate between queries and documents."
      ]
    },
    {
      "cell_type": "code",
      "execution_count": 37,
      "metadata": {
        "id": "_sECLKtWTLPE"
      },
      "outputs": [
        {
          "name": "stdout",
          "output_type": "stream",
          "text": [
            "<class 'str'>\n"
          ]
        }
      ],
      "source": [
        "print(type(corpus[0]))"
      ]
    },
    {
      "cell_type": "code",
      "execution_count": 38,
      "metadata": {
        "id": "lGg8Ljrqaimm"
      },
      "outputs": [],
      "source": [
        "from chromadb import Documents, EmbeddingFunction, Embeddings\n",
        "\n",
        "\n",
        "class CustomEmbeddingFunction(EmbeddingFunction):\n",
        "    def __call__(self, input: Documents) -> Embeddings:\n",
        "        \"\"\"\n",
        "        Perform 'cde-small-v1' embeddings on the input queries.\n",
        "        :param input: Documents or queries to embed.\n",
        "        :return: Embeddings.\n",
        "        \"\"\"\n",
        "        mode = \"query\"\n",
        "\n",
        "        # Generate embeddings using the model with the determined mode\n",
        "        embeddings = embeddings_model.encode(\n",
        "            input,\n",
        "            prompt_name=mode,\n",
        "            dataset_embeddings=dataset_embeddings,\n",
        "            convert_to_tensor=True,\n",
        "        ).cpu().numpy()\n",
        "\n",
        "        return embeddings.tolist()\n",
        "\n",
        "# Create an instance of the embeddings function for queries (we already calculated all the embeddings of the documents)\n",
        "custom_embedding_function = CustomEmbeddingFunction()"
      ]
    },
    {
      "cell_type": "markdown",
      "metadata": {
        "id": "7bzGZd21TLPE"
      },
      "source": [
        "Furthermore, while Chroma defaults to using Euclidean distance (`l2`) for nearest-neighbor search, the **`cde-small-v1`** embeddings from `SentenceTransformers` are based on cosine similarity by default. To utilize it, We configure the metadata parameter `\"hnsw:space\": \"cosine\"` when creating the collection. This ensures that Chroma uses cosine similarity, aligning with the previous behavior.\n",
        "\n",
        "<style>\n",
        "    img {\n",
        "        border-radius: 15px;\n",
        "    }\n",
        "    .center {\n",
        "        display: flex;\n",
        "        justify-content: center;\n",
        "    }\n",
        "</style>\n",
        "\n",
        "<div class=\"center\">\n",
        "        <img src=\"assets/chroma-similarity-measures.png?raw=1\" alt=\"chroma-similarity-measures\">\n",
        "</div>\n",
        "\n",
        "Once the collection is configured, we add all the documents and their precomputed embeddings to it.\n",
        "\n",
        "> **NOTE:** We manually computed the embeddings beforehand (for analysis purposes) in the previous steps. If we had only provided the documents, Chroma would have automatically generated the embeddings using the `CustomEmbeddingFunction`, without the need for precomputation."
      ]
    },
    {
      "cell_type": "code",
      "execution_count": 39,
      "metadata": {
        "id": "nIhVPEaFTLPE"
      },
      "outputs": [],
      "source": [
        "# Create a Chroma collection with the custom embedding function\n",
        "collection: Collection = client.create_collection(\n",
        "    name=COLLECTION_NAME,\n",
        "    embedding_function=custom_embedding_function,\n",
        "    get_or_create=True,\n",
        "    metadata={\"hnsw:space\": \"cosine\"} # l2 is the default but cosine is more suitable for this embedding function\n",
        ")\n",
        "\n",
        "# Add the documents and their (already computed) embeddings to the collection\n",
        "collection.add(\n",
        "    ids=[str(i) for i in range(len(corpus))],  # Unique identifiers for the documents\n",
        "    embeddings=doc_embeddings.cpu().numpy(),\n",
        "    documents=[doc for doc in corpus],\n",
        ")"
      ]
    },
    {
      "cell_type": "code",
      "execution_count": 40,
      "metadata": {
        "id": "QGxEGrC9aimm"
      },
      "outputs": [
        {
          "name": "stdout",
          "output_type": "stream",
          "text": [
            "Number of documents in the corpus:  117\n",
            "Number of documents in the collection:  117\n"
          ]
        }
      ],
      "source": [
        "#print(collection.peek()) # returns a list of the first 10 items in the collection\n",
        "print(\"Number of documents in the corpus: \",len(corpus))\n",
        "print(\"Number of documents in the collection: \",collection.count()) # returns the number of items in the collection"
      ]
    },
    {
      "cell_type": "markdown",
      "metadata": {
        "id": "bsm8bDfzTLPE"
      },
      "source": [
        "We can finally test `collection.query` to make some calls to the Chroma collection, and we expect similar (ideally, the same) results as above, when we used `model.similarity`."
      ]
    },
    {
      "cell_type": "code",
      "execution_count": 41,
      "metadata": {
        "id": "iwXd0aw1aimn"
      },
      "outputs": [
        {
          "name": "stdout",
          "output_type": "stream",
          "text": [
            "{'ids': [['110', '111', '112', '104', '107']], 'embeddings': None, 'documents': [['x x2 = x3 = 1 3 x1 1 TX FTX TTX x2 + x1 + 3 2 x4 x4 = 1 x1 + TX 3 1 x2 TX 2 k = 0 k = 4 PageRank Computation k = 1 k   Teleportation Computation G G = (1  )M + S where S  nn and Sij = 1/n is the Google matrix and is the teleportation parameter  Teleportation Computation 1 I  oo M = ee) oor 0 1 0 0 0 1 0 0 0 ooo oor 0 0 0 1 1/2 0 0 1 0 1/2 0 0 0 0 0 0.03 0.88 0.03 0.03 0.03 0.88 0.03 0.03 0.03 0.03  = 0.15  G = 0.03 0.03 0.03 0.88 0.455 0.03 0.03 0.88 0.03 0.455 0.03 0.03 0.03 0.03 0.03 The unique Pagerank score is x = [0.2 0.2 0.285 0.285 0.03]T Web Search Architecture Web Crawling   Web crawling is the process of locating, fetching, storing, and maintaining the pages available in the Web.   Computer programs that perform this task are referred to as crawlers spiders harvesters Web crawler repositories cache the online content in the Web   provide quick access to the physical copies of pages in the Web   help to speed up the indexing process Web Graph   Fundamental Assumption: The web is well linked   Web crawlers exploit the hyperlink structure of the Web ', 'of pages in the Web help to speed up the indexing process Web Graph Fundamental Assumption: The web is well linked Web crawlers exploit the hyperlink structure of the Web (Basic) Web Crawling Process   Initialise a URL download queue (URL Frontier) with some seed URLs   Good seeds will link to many other pages  e.g. for crawling the university, use the homepage as a seed Repeat the following steps   Fetch the content of a URL selected from the download queue Store the fetched content in a repository Extract the hyperlinks within the fetched content Add the new extracted links into the download queue (URL Frontier) Why such a seemingly simple procedure is problematic? Web Crawling Challenges   To fetch 1,000,000,000 unique pages in one month:   We need to fetch almost 400 pages per second   Actually: many more since many of the pages we attempt to crawl will be duplicates, unreachable, spam etc.   Building an industrial strength & scalable crawler is a (challenging) system engineering problem We need many machines  how do we distribute? Latency/bandwidth  how to make best use of available resources Identifying duplicates/near duplicates How often should we re-crawl sites (freshness, politeness)? Incremental Web Crawling Crawling process divides the Web into three subsets downloaded discovered undiscovered Pages move between these subspaces in time. seed page ', \"often should we re-crawl sites (freshness, politeness)? Incremental Web Crawling Crawling process divides the Web into three subsets downloaded discovered undiscovered Pages move between these subspaces in time. seed page Key Web Crawling Components URL Frontier: a queue data structure containing the URLs to be crawled   Can be sorted to give priority to some pages over others   Seen URLs: a set data structure, permitting the crawler to know if it has crawled a URL before or not   Fetcher: downloads an unseen URL & store it in the data repository Parser: extracts outgoing links from the page   URL Filtering: eliminate URLs that appear to be images, or that are disallowed by the robots.txt files Content-seen filter: eliminate duplicate pages Open-source Web Crawlers   BUbiNG: Distributed crawler (GNU GPLv3+)   GRUB: Distributed crawler (GNU GPLv2)   Heritrix: Internet Archive's crawler (Apache license)   Nutch: Distributed crawler with Hadoop support (Apache License 2.0)   Scrapy: Crawling framework (BSD license) Wget: Computer program to retrieve pages (GNU GPLv3+) Web Evaluation   Suppose, we've implemented a change in a search engine: New learning to rank method New ranking feature Change in the user interface Evaluation problem: will it improve the users' experience? Is it worth deploying at all? Evaluation methods: Offline evaluation User study evaluation Online evaluation Each method has advantages and disadvantages \", 'more than 2 1012 (2 trillions) queries What makes Web Search Difficult? Size Image credit: Getty Images Image credit: istockphoto.com/PeterPencil Dynamicity Image credit: Getty Images/nadla The Scale of Web Search How many documents? In how long?   Reports suggest that Google considers a total of 30 trillion pages in the indexes of its search engine   And it identified relevant results from these 30 trillion in 0.63 seconds Clearly this a big data problem!   To answer a user\\'s query, a search engine doesn\\'t read through all of those pages: the index data structures help it to efficiently find pages that effectively match the query and will help the user Effective: users want relevant search results Efficient: users aren\\'t prepared to wait a long time for search results Actors in Web Search User\\'s perspective: accessing information Relevance Speed Search engine\\'s perspective: monetisation Attract more users Increase the ad revenue Reduce the operational costs Advertiser\\'s perspective: publicity Attract more users, c.f. Search Engine Optimisation Pay little Temporal Web Dynamics   Temporal aspects are of considerable importance in Web search   Time is pervasive in information systems   New documents appear all the time   Document content changes over time   Query volume changes over time (e.g. lower on week-ends)   What\\'s relevant to a query changes over time   E.g., U.S. Open 2019 (in June vs. Sept)   E.g., U.S. Open 2019 (before, during, after event)   User interaction changes over time   E.g., anchor text, \"likes\", query-click streams, social networks Relations between entities change over time E.g., President of the U.S. is XXXX [in 2020 vs. 2012] ', 'different interests (e.g. sports) which are reected in their short and long-term search history Queries could be ambiguous for the search engine; personalisation signals help to resolve that Which Cooper? Ranking in Web Search Given a corpus and a query, rank relevant web pages (documents) before non- relevant web pages corpus: a subset of indexed web pages query: short keyword query and any other user/context data rank: document scoring function   The goal is to estimate P(r | d, x) = relevance r = document d = context, e.g., query, user, location x   As we did in IR, p(r | d, x)  sM( f ) = set of ranking features depending on document and context M = model parameters Web Ranking Features   Important to select features likely to be correlated with relevance, e.g., term matching scores   Web environment invites unique features: document structure, user signals, dynamics   There is a lot of junk on the web, e.g., spam, irrelevant forums   Knowing what users are reading is a valuable source for knowing what is not junk   Ideally, we would be able to monitor everything the user is reading and use that information for ranking; this is achieved through toolbars, browsers, operating systems, DNS In 1998, no search company had browsing data How did they address this lack of data? ']], 'uris': None, 'data': None, 'metadatas': [[None, None, None, None, None]], 'distances': [[0.2882960937103153, 0.33036918213938726, 0.3341044979868657, 0.3806919000074369, 0.38871529215551115]], 'included': [<IncludeEnum.distances: 'distances'>, <IncludeEnum.documents: 'documents'>, <IncludeEnum.metadatas: 'metadatas'>]}\n",
            "Rank 1: Score: 0.7117, Document ID: 110, x x2 = x3 = 1 3 x1 1 TX FTX TTX x2 + x1 + 3 2 x4 x4 = 1 x1 + TX 3 1 x2 TX 2 k = 0 k = 4 PageRank Computation k = 1 k   Teleportation Computation G G = (1  )M + S where S  nn and Sij = 1/n is the Googl\n",
            "Rank 2: Score: 0.6696, Document ID: 111, of pages in the Web help to speed up the indexing process Web Graph Fundamental Assumption: The web is well linked Web crawlers exploit the hyperlink structure of the Web (Basic) Web Crawling Process \n",
            "Rank 3: Score: 0.6659, Document ID: 112, often should we re-crawl sites (freshness, politeness)? Incremental Web Crawling Crawling process divides the Web into three subsets downloaded discovered undiscovered Pages move between these subspac\n",
            "Rank 4: Score: 0.6193, Document ID: 104, more than 2 1012 (2 trillions) queries What makes Web Search Difficult? Size Image credit: Getty Images Image credit: istockphoto.com/PeterPencil Dynamicity Image credit: Getty Images/nadla The Scale \n",
            "Rank 5: Score: 0.6113, Document ID: 107, different interests (e.g. sports) which are reected in their short and long-term search history Queries could be ambiguous for the search engine; personalisation signals help to resolve that Which Coo\n"
          ]
        }
      ],
      "source": [
        "query_text = \"What is web crawling?\"\n",
        "\n",
        "# create a Document object with the query text\n",
        "results = collection.query(\n",
        "    query_texts=query_text,\n",
        "    n_results=5\n",
        ")\n",
        "print(results)\n",
        "\n",
        "# Print the results with the document IDs and scores\n",
        "for i, (doc_id, score, doc) in enumerate(zip(results['ids'][0], results['distances'][0], results['documents'][0])):\n",
        "    print(f\"Rank {i+1}: Score: {1-score:.4f}, Document ID: {doc_id}, {doc[:200]}\")"
      ]
    },
    {
      "cell_type": "markdown",
      "metadata": {
        "id": "Un7yDGUJTLPI"
      },
      "source": [
        "... which is exactly identical to the previous ones.\n",
        "\n",
        "One final thing to note is that in Chroma cosine similarity is calculated as `1 - cosim` ; this is done to ensure that lower values indicate a better position in the ranked list. To obtain results consistent with the previous ones, we subtractde the score from one in the above code.\n"
      ]
    },
    {
      "cell_type": "markdown",
      "metadata": {
        "id": "ckTwJIF5aimn"
      },
      "source": [
        "### Compute scores between queries and documents"
      ]
    },
    {
      "cell_type": "markdown",
      "metadata": {
        "id": "Dp-7zfI3TLPJ"
      },
      "source": [
        "Now we can analyze a similarity heatmap between the embeddings of our documents and the provided queries. The results show consistency with the following observations:\n",
        "\n",
        "- **Few documents match the queries**: This suggests that the matching documents are likely the most relevant ones.\n",
        "- **Matches often occur in subsequent documents**: This is expected since the corpus was split into chunks based on the document's structure. For example, chapters are separated, so answers to specific questions are more likely to be located within the same chapter or adjacent sections of the document.\n",
        "\n",
        "Additionally, we provide a distribution of the similarity scores. This helps us assess whether an empirical threshold can be established to determine which documents are truly similar to the provided queries."
      ]
    },
    {
      "cell_type": "code",
      "execution_count": 42,
      "metadata": {
        "id": "u4zQUCwaaimn"
      },
      "outputs": [
        {
          "data": {
            "image/png": "[encoded data removed]",
            "text/plain": [
              "<Figure size 1500x500 with 3 Axes>"
            ]
          },
          "metadata": {},
          "output_type": "display_data"
        }
      ],
      "source": [
        "from seaborn import heatmap\n",
        "\n",
        "fig, axes = plt.subplots(1, 2, figsize=(15, 5))\n",
        "\n",
        "# Plot heatmap\n",
        "heatmap(similarities.cpu().numpy().T, cmap=\"jet\", ax=axes[0])\n",
        "axes[0].set_title(\"Similarity Heatmap\")\n",
        "\n",
        "# Plot histogram\n",
        "axes[1].hist(similarities.cpu().flatten(), bins=50, color='blue', alpha=0.6)\n",
        "axes[1].set_title(\"Distribution of Similarity Scores\")\n",
        "axes[1].set_xlabel(\"Similarity\")\n",
        "axes[1].set_ylabel(\"Frequency\")\n",
        "axes[1].axvline(x=0.5, color='red', alpha=0.6, linestyle='--')\n",
        "\n",
        "plt.tight_layout()\n",
        "plt.show()"
      ]
    },
    {
      "cell_type": "markdown",
      "metadata": {
        "id": "2bxLzRQCaimn"
      },
      "source": [
        "## Loading the LLM"
      ]
    },
    {
      "cell_type": "markdown",
      "metadata": {
        "id": "ld0Lry9LTLPJ"
      },
      "source": [
        "After conducting some research, we chose to work with one of Meta's latest smaller open-source Llama models available at the time of writing this notebook: [Llama-3.2-3B-Instruct](https://huggingface.co/meta-llama/Llama-3.2-3B-Instruct), released the *25th of September 2024*. We specifically selected the *instruct* variant because it is pre-trained to follow basic instructions, offering a more user-friendly and fine-tuned experience compared to the standard non-instruct version (which is also available). Below, we review this model's [specifications](https://llamaimodel.com/requirements-3-2/):\n",
        "\n",
        "<div align=\"center\">\n",
        "\n",
        "| **Llama 3.2 3B Instruct Model Specifications**                    | **Requirement**       | **Details**                                                                                  |\n",
        "|----------------------------------|-----------------------|----------------------------------------------------------------------------------------------|\n",
        "| Parameters                       | 3 billion             |                                                                                              |\n",
        "| Context Length                   | 128,000 tokens        |                                                                                              |\n",
        "| **Hardware Requirements**        |                       |                                                                                              |\n",
        "| CPU and RAM                      |                       | CPU: Multicore processor <br> RAM: Minimum of 16 GB recommended                              |\n",
        "| GPU                              |                       | NVIDIA RTX series (for optimal performance), at least 8 GB VRAM                              |\n",
        "| **Estimated GPU Memory Requirements** |                       |                                                                                              |\n",
        "| Higher Precision Modes           | BF16/FP16             | ~6.5 GB                                                                                      |\n",
        "| Lower Precision Modes            | FP8                   | ~3.2 GB                                                                                      |\n",
        "|                                  | INT4                  | ~1.75 GB                                                                                     |\n",
        "| **Software Requirements**        |                       |                                                                                              |\n",
        "| Software Dependencies            |                       | Frameworks: PyTorch <br> Libraries: Hugging Face Transformers (version 4.45.0 or higher), CUDA |\n",
        "\n",
        "</div>"
      ]
    },
    {
      "cell_type": "code",
      "execution_count": 43,
      "metadata": {
        "id": "QVuakpG-TLPJ"
      },
      "outputs": [
        {
          "name": "stdout",
          "output_type": "stream",
          "text": [
            "Is bf16 supported:  True\n"
          ]
        }
      ],
      "source": [
        "print(\"Is bf16 supported: \",torch.cuda.is_bf16_supported())"
      ]
    },
    {
      "cell_type": "markdown",
      "metadata": {
        "id": "3Hw22_isTLPK"
      },
      "source": [
        "The `bitsandbytes` library is a lightweight Python wrapper around CUDA custom functions, in particular 8-bit optimizers, matrix multiplication (LLM.int8()), and 8 & 4-bit quantization functions.\n",
        "\n",
        "The library includes quantization primitives for 8-bit & 4-bit operations, through `bitsandbytes.nn.Linear8bitLt` and `bitsandbytes.nn.Linear4bit` and 8-bit optimizers through bitsandbytes.optim module."
      ]
    },
    {
      "cell_type": "markdown",
      "metadata": {
        "id": "FYAVifb8TLPK"
      },
      "source": [
        "#### Quantization Choices\n",
        "\n",
        "We chose a *middle ground* by loading the model with **4-bit quantization** while maintaining **BFloat16** precision for computation.\n",
        "\n",
        "The use of 4-bit quantization reduces the precision of the model’s weights to just 4 bits per value, significantly lowering memory usage and accelerating inference. This method retains only the most essential information, sacrificing some numerical precision, but allows for larger models to be handled on GPUs with limited memory. Despite the weights being quantized to 4 bits, the model still performs computations in **16-bit floating point (BFloat16)** precision. BFloat16 is a 16-bit format that preserves much of the dynamic range of floating-point operations while requiring less memory than the traditional 32-bit format. This way, while the 4-bit quantization reduces the memory footprint of the model weights, the computation is performed in BFloat16, optimizing performance on modern GPUs that are tailored for BFloat16 operations. This configuration strikes a balance between computational efficiency and numerical precision, enabling fast inferences with minimal memory usage without significant loss in result quality.\n",
        "\n",
        "Given the hardware constraints, we opted for **4-bit quantization** using `BitsAndBytes` (as explained later). This approach greatly reduces the memory footprint and speeds up inference, ensuring acceptable performance for our use case. Without this configuration, the GPU’s memory usage was consistently at 100%, and inference times were approximately 2-3 minutes per query. With 4-bit quantization, memory usage drops to about 6GB, preventing GPU overload and reducing inference time to around 30 seconds per query, delivering satisfactory results. Further details on the quantization process will be provided later.\n",
        "\n",
        "However, we also need to consider that both the embedding model and the LLM must be loaded into memory, which adds another layer of complexity to the memory management. This requires careful balancing, as the total memory usage must accommodate both the LLM and the embedding model simultaneously. We will address how we manage this in the next section."
      ]
    },
    {
      "cell_type": "code",
      "execution_count": 44,
      "metadata": {
        "id": "bnpvz_Wxaimn"
      },
      "outputs": [
        {
          "data": {
            "application/vnd.jupyter.widget-view+json": {
              "model_id": "2cdea1be15b644958e2cd8180ac61df8",
              "version_major": 2,
              "version_minor": 0
            },
            "text/plain": [
              "Loading checkpoint shards:   0%|          | 0/2 [00:00<?, ?it/s]"
            ]
          },
          "metadata": {},
          "output_type": "display_data"
        }
      ],
      "source": [
        "from transformers import (\n",
        "    BitsAndBytesConfig,\n",
        "    AutoModelForCausalLM,\n",
        "    AutoTokenizer\n",
        ")\n",
        "\n",
        "MODEL_NAME = \"meta-llama/Llama-3.2-3B-Instruct\"\n",
        "\n",
        "# Quantization is a technique that reduces the precision of the model’s weights to make it run faster and consume less memory, often at the cost of a slight reduction in model accuracy or quality\n",
        "bnb_config = BitsAndBytesConfig(\n",
        "    load_in_4bit=True,                      # Lower precision reduces memory usage and can speed up inference (maybe try 8)\n",
        "    bnb_4bit_use_double_quant=True,         # Using double quantization can help reduce the loss in accuracy associated with quantization\n",
        "    bnb_4bit_quant_type=\"nf4\",              # Normal Float 4-bit quantization, a scheme that may preserve model quality better than straightforward quantization methods\n",
        "    bnb_4bit_compute_dtype=torch.bfloat16,  # The internal compute dtype used during inference. bfloat16 (BF16) is often chosen because it’s efficient on modern accelerators\n",
        "    llm_int8_enable_fp32_cpu_offload=True   # Enable FP32 CPU offload\n",
        ")\n",
        "\n",
        "\n",
        "llm_model = AutoModelForCausalLM.from_pretrained(\n",
        "    MODEL_NAME,\n",
        "    device_map={\"\": device},  # ensure all modules are on GPU\n",
        "    quantization_config=bnb_config,\n",
        ").to(device)\n",
        "\n",
        "tokenizer = AutoTokenizer.from_pretrained(MODEL_NAME)\n",
        "tokenizer.pad_token = tokenizer.eos_token\n",
        "\n",
        "generation_config = llm_model.generation_config\n",
        "generation_config.max_new_tokens = 500                    # the maximum number of new tokens the model will generate (long outputs might be more prone to off-topic or repetitive content)\n",
        "generation_config.min_new_tokens = 10                     # the minimum number of new tokens the model will generate\n",
        "generation_config.temperature = 0.7                       # it controls the randomness of the generation, lower temp means more deterministic, conservative (less creative) and repetitive answers [about 0.1-1.2]\n",
        "generation_config.top_p = 0.7                             # nucleus sampling controls how the model picks words based on their cumulative probability, lower value (0.5) means safer, more coherent text but less diverse [about 0.5-0.9]\n",
        "generation_config.num_return_sequences = 1                # how many separate output sequences are returned for each generation prompt, get multiple different answers in one go, useful for picking the best response from several tries\n",
        "generation_config.pad_token_id = tokenizer.eos_token_id   # special token IDs that represent padding and the end-of-sequence token. Generally, these are set to ensure the model knows when to stop and how to handle inputs of different lengths\n",
        "generation_config.eos_token_id = tokenizer.eos_token_id\n",
        "generation_config.repetition_penalty = 1.4                # discourages the model from repeating the same phrases or tokens over and over [about 1.0-2.0] (high value cause the model to avoid some tokens even if they are contextually appropriate)\n",
        "generation_config.num_beams = 5                           # the number of beams used in beam search, higher value means more diverse answers but also slower generation\n",
        "generation_config.early_stopping = True                   # whether to stop the beam search when at least num_beams sentences are finished per batch or not"
      ]
    },
    {
      "cell_type": "code",
      "execution_count": 45,
      "metadata": {},
      "outputs": [
        {
          "name": "stdout",
          "output_type": "stream",
          "text": [
            "24\n",
            "Questo è un esempio di testo. SOno veramente un frocio bastardo dioporco\n"
          ]
        }
      ],
      "source": [
        "text = \"what is web crawling?\"\n",
        "tokens = tokenizer(text, return_tensors=\"pt\", padding=True, truncation=True)\n",
        "print(len(tokenizer.encode(text, add_special_tokens=False)))\n",
        "\n",
        "decoded_text = tokenizer.decode(tokens[\"input_ids\"][0], skip_special_tokens=True)\n",
        "print(decoded_text)"
      ]
    },
    {
      "cell_type": "markdown",
      "metadata": {
        "id": "G1vCxFFxWNSM"
      },
      "source": [
        "We loaded various things on the GPU up to know. Still, with the proposed configuration for all the pipeline components, GPU usage should be acceptable."
      ]
    },
    {
      "cell_type": "code",
      "execution_count": 46,
      "metadata": {
        "id": "PNwOi2dHTLPK"
      },
      "outputs": [
        {
          "name": "stdout",
          "output_type": "stream",
          "text": [
            "Memory Allocated: 3.18 GB\n",
            "Total memory usage: 39.76%\n"
          ]
        }
      ],
      "source": [
        "# Check GPU usage\n",
        "gpu_memory_gb = torch.cuda.get_device_properties(device).total_memory / (1024 ** 3)  # in GB\n",
        "memory_allocated_gb = torch.cuda.memory_allocated(device) / (1024 ** 3)  # in GB\n",
        "print(f\"Memory Allocated: {memory_allocated_gb:.2f} GB\")\n",
        "print(f\"Total memory usage: {(memory_allocated_gb / gpu_memory_gb) * 100:.2f}%\")"
      ]
    },
    {
      "cell_type": "code",
      "execution_count": 47,
      "metadata": {
        "id": "UTIj3ob0aimn"
      },
      "outputs": [
        {
          "name": "stdout",
          "output_type": "stream",
          "text": [
            "Query: How many bytes can UTF-8 use to encode a character?\n",
            "(score: 0.7107) hexadecimal number from 4 to 8 digits long Most of the code points in use are 4 digits long. For example, U+03C6 is the code point for the Greek character UTF-8 Unicode is not a character encoding sch\n",
            "(score: 0.6771) Multimedia Information Retrieval and Computer Vision nicola.tonellotto@unipi.it Text Processing Encodings ASCII Character Encoding Scheme The ASCII encoding maps characters to 7-bit integers   using t\n",
            "(score: 0.6667) 0xBF UTF-8 sequences must be of the following forms in binary, where the x's represent the bits from the code point, with the leftmost x-bit being its most significant bit: UTF-8   The table below sho\n",
            "(score: 0.6649) least significant bits of a byte whose most significant bit is 0 Files and strings that contain only 7-bit ASCII characters have the same encoding under both ASCII and UTF-8 UTF-8   All Unicode charac\n",
            "(score: 0.5150) before Caching can significantly improve effectiveness Cache popular query results Cache common inverted lists Inverted list caching can help with unique queries Cache must be refreshed to prevent sta\n"
          ]
        }
      ],
      "source": [
        "def retrieve_relevant_documents(query, k=5):\n",
        "    results = collection.query( # query the Chroma collection\n",
        "        query_texts=query,\n",
        "        n_results=k\n",
        "    )\n",
        "    return results['documents'][0], results['distances'][0]\n",
        "\n",
        "# test the function\n",
        "query = \"How many bytes can UTF-8 use to encode a character?\"\n",
        "print(f\"Query: {query}\")\n",
        "documents, distances = retrieve_relevant_documents(query)\n",
        "for doc, distance in (zip(documents, distances)):\n",
        "    print(f\"(score: {1-distance:.4f}) {doc[:200]}\")"
      ]
    },
    {
      "cell_type": "code",
      "execution_count": 48,
      "metadata": {
        "id": "dZoEEO3caimo"
      },
      "outputs": [],
      "source": [
        "base_prompt = '''You are an AI assistant expert of Information Retrieval.\n",
        "Your task is to provide answers to user questions based on the provided context.\n",
        "\n",
        "Instructions:\n",
        "- Use the provided context to construct your answers.\n",
        "- Avoid directly quoting examples or specific details from the context unless they are explicitly required to answer the question.\n",
        "- Paraphrase any necessary details from the context in a way that does not depend on the user's knowledge of the full context.\n",
        "- The context may contain more information than needed to answer the question. Use only the information that is relevant to the question.\n",
        "- If the context lacks sufficient information, provide the best possible answer using general knowledge or state: \"The provided context does not have the answer.\"\n",
        "\n",
        "Your goal is to ensure that your response is complete and clear even if the user has no access to the context.\n",
        "\n",
        "User question: {user_query}\n",
        "\n",
        "Provided Context:\n",
        "{chunks_information}\n",
        "\n",
        "Answer:\n",
        "\n",
        "'''"
      ]
    },
    {
      "cell_type": "markdown",
      "metadata": {
        "id": "AdnGxkarWNSM"
      },
      "source": [
        "## Perform Queries to the RAG Pipeline\n",
        "\n",
        "Now, we're ready to test the pipeline. The following function executes a query by performing the steps outlined below:\n",
        "\n",
        "1. **Retrieve Relevant Documents**: The function invokes `retrieve_relevant_documents` (defined in the coresponding section) to fetch the top 5 relevant documents to the query, along with their similarity scores\n",
        "2. **Filter Documents**: Documents with a similarity score below 0.5 (calculated as `1 - score`) are discarded, retaining only those with sufficient relevance. If no documents meet the relevance threshold, a message indicating that no relevant documents were found is returned.\n",
        "3. **Print the results**: If `print_retrieved_documents` is set to `True`, retrieved relevant documetns are also printed on the terminal.\n",
        "4. **Prepare the Prompt**: The filtered documents are used to create a prompt, which is passed to the model to generate a response. The prompt includes the user's query and the relevant document chunks.\n",
        "5. **Model Inference**: The prompt is tokenized and passed to the RAG model. The model generates a response using beam search (with 5 beams) and applies early stopping.\n",
        "6. **Generate and Return Response**: The function decodes the generated tokens and returns the resulting sequence as the response.\n",
        "\n",
        "This process ensures that the generated response is grounded in relevant documents, providing more accurate, context-aware answers."
      ]
    },
    {
      "cell_type": "code",
      "execution_count": 49,
      "metadata": {
        "id": "9ndL7blvWNSN"
      },
      "outputs": [],
      "source": [
        "def query_rag_model(query, base_prompt=base_prompt, print_retrieved_documents=True):\n",
        "    \"\"\"\n",
        "    Passes the user query to the RAG model and returns the generated answer.\n",
        "    \"\"\"\n",
        "\n",
        "    documents, scores = retrieve_relevant_documents(query, k=5)\n",
        "\n",
        "    if print_retrieved_documents:\n",
        "        print(\"Filtered documents and their scores: \")\n",
        "        for doc, score in zip(documents, scores):\n",
        "            print(f\"Score: {1-score:.4f}, {doc}\")\n",
        "        print(\"\\n\")\n",
        "\n",
        "    # Filters out documents with a similarity score below 0.5\n",
        "    filtered_documents = [doc for doc, score in zip(documents, scores) if 1 - score >= 0.5]\n",
        "\n",
        "    # If no relevant documents are found, return a message\n",
        "    if not filtered_documents:\n",
        "        print(f\"No relevant documents found for query: {query}\")\n",
        "        return \"No relevant documents found.\"\n",
        "\n",
        "    # Prepare the prompt for the model\n",
        "    prompt = base_prompt.format(user_query=query, chunks_information=\"\\n\".join(filtered_documents))\n",
        "    encoding = tokenizer(prompt, return_tensors=\"pt\").to(device)\n",
        "\n",
        "    # print(\"PROMPT:\", prompt)\n",
        "\n",
        "    with torch.inference_mode(): # disables gradient computation during model execution\n",
        "        outputs = llm_model.generate(\n",
        "            input_ids=encoding.input_ids,\n",
        "            attention_mask=encoding.attention_mask,\n",
        "            generation_config=generation_config,\n",
        "        )\n",
        "\n",
        "    generated_tokens = outputs[0][len(encoding.input_ids[0]):]\n",
        "    generated_sequence = tokenizer.decode(generated_tokens, skip_special_tokens=True).strip()\n",
        "\n",
        "    return generated_sequence"
      ]
    },
    {
      "cell_type": "markdown",
      "metadata": {
        "id": "QXWcv6y7WNSN"
      },
      "source": [
        "Try it out by changing the query! Try also to change `print_retrieved_documents` to `True` to see what documents are influencing the produced output.\n",
        ">This operation takes ~15/30 seconds on our machine"
      ]
    },
    {
      "cell_type": "code",
      "execution_count": 50,
      "metadata": {
        "id": "GPqDR2R0WNSN"
      },
      "outputs": [
        {
          "name": "stdout",
          "output_type": "stream",
          "text": [
            "Response:  Information retrieval is a field concerned with the structure, analysis, organisation, storage, searching, and retrieval of information. It is the science of search engines, focusing on how best to address the information needs of users, effectively getting the right information to a user and efficiently getting the information to a user quickly. The primary focus of IR since the 1950s has been on text and documents, but now also includes images, audio, video, and other types of documents. The objective of the search/IR engineer is to automate the retrieval process, which involves asking a good question, inferring what a user wants, fetching relevant documents, presenting them to users in a way they understand, and refining the description of information need through user interaction.\n"
          ]
        }
      ],
      "source": [
        "response = query_rag_model(\"what is information retrieval?\", base_prompt=base_prompt, print_retrieved_documents=False)\n",
        "print(\"Response: \", response)"
      ]
    },
    {
      "cell_type": "markdown",
      "metadata": {
        "id": "vU5nIjpEWNSN"
      },
      "source": [
        "# Evaluating model responses\n",
        "\n",
        "The following section covers experiments based on how the model replies to **open-answer** questions.\n",
        "\n",
        "Questions were stored in this format, and were manually tailored by us in order to asses the capabilities of the model."
      ]
    },
    {
      "cell_type": "markdown",
      "metadata": {
        "id": "G8Tfvfg0WNSN"
      },
      "source": [
        "The file,  `open_questions.json` file contains open-answer questions, where an entry looks like:\n",
        "\n",
        "```json\n",
        "{\n",
        "        \"question_id\": \"1\",\n",
        "        \"question\": \"What is Jaccard Coefficient?\"\n",
        "}, ...\n",
        "```\n",
        "\n",
        "where:\n",
        "\n",
        "<div align=\"center\">\n",
        "\n",
        "| **Field**       | **Content**                                     |\n",
        "|------------------|-------------------------------------------------|\n",
        "| `question_id`    | Unique identifier of the question        |\n",
        "| `question`       | The question text                              |\n",
        "\n",
        "</div>\n"
      ]
    },
    {
      "cell_type": "code",
      "execution_count": 51,
      "metadata": {
        "id": "5W-q3VYEWNSN"
      },
      "outputs": [],
      "source": [
        "evaluation_folder_path = \"./evaluation/\"\n",
        "questions_file_path = evaluation_folder_path + \"open_questions.json\""
      ]
    },
    {
      "cell_type": "code",
      "execution_count": 52,
      "metadata": {
        "id": "c2U0YrdmWNSN"
      },
      "outputs": [
        {
          "name": "stdout",
          "output_type": "stream",
          "text": [
            "Loaded 60 open questions.\n",
            "{'question_id': '1', 'question': 'What is Jaccard Coefficient?'}\n"
          ]
        }
      ],
      "source": [
        "open_questions = extract_questions(questions_file_path)\n",
        "\n",
        "print(f\"Loaded {len(open_questions)} open questions.\")\n",
        "print(open_questions[0])"
      ]
    },
    {
      "cell_type": "markdown",
      "metadata": {
        "id": "tMurWVAJWNSO"
      },
      "source": [
        "### Evaluating the model on open-questions\n",
        "\n",
        "`process_open_questions(queries, folder_path)` is a function used to run experiments over a list of open-answer questions, taking as input the list of questions with `queries` and folder path `folder_path` for results storing. It does the following:\n",
        "\n",
        "1. Delete previous results if already done, create `res` folder otherwise\n",
        "2. Process one-by-one queries via `response = query_rag_model(query, base_prompt)`\n",
        "\n",
        "Note that:\n",
        "* No results are returned since are already store on `.txt` files\n",
        "* retrieve_relevant_documents is called only to write on .txt files documents retrieved, but it is also called into `query_rag_model` function"
      ]
    },
    {
      "cell_type": "code",
      "execution_count": 53,
      "metadata": {
        "id": "AcVeNt8AWNSO"
      },
      "outputs": [],
      "source": [
        "def process_open_questions(queries, folder_path, model=\"RAG\"):\n",
        "    \"\"\"\n",
        "    Processes a list of open questions, retrieves relevant documents,\n",
        "    and saves the responses to text files in a specified folder.\n",
        "\n",
        "    Parameters:\n",
        "    - queries (list): List of queries to process.\n",
        "    - folder_path (str): Path to the folder where results will be saved.\n",
        "    - model (str): Name of the model to use for processing the queries.\n",
        "    \"\"\"\n",
        "    results_folder = os.path.join(folder_path, model+\"-open-questions\")\n",
        "    if os.path.exists(results_folder):\n",
        "        # Clear the folder if it exists\n",
        "        for file_name in os.listdir(results_folder):\n",
        "            file_path = os.path.join(results_folder, file_name)\n",
        "            if os.path.isfile(file_path):\n",
        "                os.remove(file_path)\n",
        "    else:\n",
        "        # Create the folder if it doesn't exist\n",
        "        os.makedirs(results_folder)\n",
        "\n",
        "    # Process each query and save the response\n",
        "    for idx, query in enumerate(tqdm(queries, desc=\"Processing queries\"), start=1):\n",
        "            if model ==\"RAG\":\n",
        "                # Get the model's response\n",
        "                response = query_rag_model(query['question'], base_prompt, print_retrieved_documents=False)\n",
        "            elif model == \"LLM\":\n",
        "                prompt = \"You are an AI assistant expert of Information Retrieval.\\n\"+ query['question']\n",
        "                encoding = tokenizer(prompt, return_tensors=\"pt\").to(device)\n",
        "\n",
        "                with torch.inference_mode(): # disables gradient computation during model execution\n",
        "                    outputs = llm_model.generate(\n",
        "                        input_ids=encoding.input_ids,\n",
        "                        attention_mask=encoding.attention_mask,\n",
        "                        generation_config=generation_config,\n",
        "                    )\n",
        "\n",
        "                generated_tokens = outputs[0][len(encoding.input_ids[0]):]\n",
        "                response = tokenizer.decode(generated_tokens, skip_special_tokens=True).strip()\n",
        "            else:\n",
        "                raise ValueError(\"Invalid model name. Use either 'RAG' or 'LLM'.\")\n",
        "\n",
        "            # Construct the file path for the current query\n",
        "            file_path = os.path.join(results_folder, f\"open_question_{idx}.mmd\")\n",
        "\n",
        "            # Save the query, response, and documents to a text file\n",
        "            with open(file_path, \"w\", encoding=\"utf-8\") as file:\n",
        "                file.write(f\"Query {idx}: {query['question']}\\n\\n\")\n",
        "                file.write(f\"Reply {idx}: {response}\")"
      ]
    },
    {
      "cell_type": "code",
      "execution_count": 54,
      "metadata": {
        "id": "NB6_0hr_WNSO"
      },
      "outputs": [],
      "source": [
        "#process_open_questions(open_questions, evaluation_folder_path, model=\"RAG\")"
      ]
    },
    {
      "cell_type": "code",
      "execution_count": 55,
      "metadata": {
        "id": "oJiQS1_rWNSO"
      },
      "outputs": [],
      "source": [
        "# process_open_questions(open_questions, evaluation_folder_path, model=\"LLM\")"
      ]
    },
    {
      "cell_type": "markdown",
      "metadata": {
        "id": "fryWDCryZe00"
      },
      "source": [
        "### Testing Procedure\n",
        "As reported above, to evaluate the performance of the RAG pipeline we conducted a manual assessment using a set of **60 open-ended questions** related to information retrieval. The evaluation consisted of two phases:\n",
        "1. RAG Model Testing:\n",
        "   - The RAG pipeline was used to answer the questions, incorporating both retrieved documents and the language model's generation capabilities.\n",
        "   - The pipeline was designed to act as an \"AI assistant\" and \"information retrieval expert,\" as explicitly stated in the prompt.\n",
        "2. Base Model Testing:\n",
        "   - The same 60 questions were tested using the base language model without the RAG pipeline.\n",
        "   - To ensure a fair comparison, efforts were made to align the prompts of the two models. For the base model, the adjusted prompt explicitly mentioned the \"information retrieval\" context to avoid bias in favor of the RAG pipeline.\n",
        "\n",
        "---\n",
        "\n",
        "### Results\n",
        "\n",
        "<div align=\"center\">\n",
        "\n",
        "| **Evaluation Metric**    | **Base Model** | **RAG Pipeline** |\n",
        "|-|-|-|\n",
        "| Total Questions Evaluated | 60| 60|\n",
        "| Correct Answers           | 23| 57|\n",
        "|*Accuracy (%)*              |**38.3%**| **95%**|\n",
        "\n",
        "</div>\n",
        "\n",
        "<div></div>\n",
        "\n",
        "---\n",
        "\n",
        "#### Analysis of Results:\n",
        "1. The RAG pipeline demonstrated a 95% accuracy rate, significantly outperforming the base model, which achieved only 38.3% accuracy.\n",
        "2. This substantial improvement highlights the value of integrating a retrieval mechanism into the pipeline. By grounding the model's responses in relevant documents, the RAG pipeline could produce more accurate and contextually aligned answers.\n",
        "\n",
        "3. For the base model, the incorrect answers were due to:\n",
        "     - Hallucinations: The model generated plausible-sounding but incorrect information.\n",
        "     - Lack of Specificity: Responses were vague or unrelated to the query.\n",
        "4. In contrast, the RAG pipeline failed in only 3 cases where the answers were indeed correct, but they didn't come from the given context but from general knowledge, so we labled them as incorrect.\n"
      ]
    },
    {
      "cell_type": "markdown",
      "metadata": {
        "id": "KZ1KmZNwWNSO"
      },
      "source": [
        "# Gradio Interface <div align=\"center\"><img src=\"https://www.gradio.app/_app/immutable/assets/gradio.CHB5adID.svg\" alt=\"Gradio Logo\" width=\"200\"></div>\n",
        "\n",
        "Lastly, we provide a **Gradio** interface to make interacting with the RAG pipeline both user-friendly and accessible. [Gradio](https://gradio.app) is a Python library that enables developers to quickly create customizable, interactive web-based interfaces. It is widely appreciated for its simplicity and flexibility.\n",
        "\n",
        "The interface is launched in the next cell through the final command `demo.launch(debug=True)`\n",
        "\n",
        "> This will also start a local server and generate a link (usually `http://127.0.0.1:7860`) that you can open in your browser. On Colab this will be different, but the you can find the url in the console output\n",
        "\n",
        "The interface is straightforward:\n",
        "- You can type your questions or prompts for the RAG pipeline into the **input field**.\n",
        "- The interface estimated inference waiting time (based on the last response waiting time), then the generated answer.\n",
        "\n",
        "If the interface is launched with the `debug=True` option (as in this case), it will also print the retrieved documents and their scores in the console; this can be useful for gaining insights into the system's behavior. Otherwise, the console prints are suppressed."
      ]
    },
    {
      "cell_type": "code",
      "execution_count": 56,
      "metadata": {
        "id": "zyeIkuECWNSO"
      },
      "outputs": [
        {
          "name": "stdout",
          "output_type": "stream",
          "text": [
            "* Running on local URL:  http://127.0.0.1:7860\n",
            "\n",
            "To create a public link, set `share=True` in `launch()`.\n"
          ]
        },
        {
          "data": {
            "text/html": [
              "<div><iframe src=\"http://127.0.0.1:7860/\" width=\"100%\" height=\"500\" allow=\"autoplay; camera; microphone; clipboard-read; clipboard-write;\" frameborder=\"0\" allowfullscreen></iframe></div>"
            ],
            "text/plain": [
              "<IPython.core.display.HTML object>"
            ]
          },
          "metadata": {},
          "output_type": "display_data"
        },
        {
          "name": "stdout",
          "output_type": "stream",
          "text": [
            "Filtered documents and their scores: \n",
            "Score: 0.6194, Okapi BM25\n",
            "\n",
            "* The term frequency \\(tf{i}^{r}\\) can be represented as a normalised value with respect to the document length normalisation component \\(B{j}\\) \\[tf{i}^{r}(d{j})=\\frac{tf{i}^{r}(d{j})}{B_{j}}\\]\n",
            "* Plugging this in the BM15 formula, we get the best match 25 (BM25) weights \\[c{i}^{BM25}(tf{i}^{r},d{j})=c{i}^{BM1}\\frac{tf{i}^{r}(d{j })}{k{1}+tf{i}^{r}(d{j})}=c{i}^{BM1}\\frac{tf{i}^{r}(d{j})}{k{1}B {j}+tf{i}^{r}(d{j})}\\]\n",
            "* So, the BM25 RSV score is, at last: \\[RSV^{BM25}(q,d)=\\sum{t{i}\\in q}\\frac{tf{i}^{r}(d)}{k{1}\\bigg((1-b )+b\\frac{dl(d)}{avdl}\\bigg)+tf{i}^{r}(d)}\\log\\frac{N}{n{i}}\\]\n",
            "* Typically, \\(k_{1}\\) is set around \\(1.2-2\\), and \\(b\\) around \\(0.75\\)\n",
            "Score: 0.5313, reasonable collection statistics Term-based pruning: Discards term occurrences that are less likely to affect the retrieval performance of a specific weighting model (e.g. BM25) Done after the index is completed Static Pruning Some results claim a modest negative impact on effectiveness when pruning up to 60 % of postings   Static pruning is a lossy compression of the inverted index   Index is smaller; retrieval is faster; pruning is done offline   An application of static pruning is a multi-tier architecture:   Most common queries are handled by a heavily pruned 1st tier index that fits wholly in RAM   Less common queries handled by a 2nd tier index (on SSD?)   Remaining queries handled by a full index on disk Relevance Feedback Information Retrieval Thus Far Information need Information Retrieval System exact vague Simple Retrieval System Retrieval Models (TFIDF, BM25, LM) Evaluation Methodology Issues in buying an old house Who is Barack Obama / \\ Information Needs   An information need is the underlying cause of the query that a person submits to a search engine Sometimes called information problem to emphasise that information need is generally related to a task   Categorised using a variety of dimensions   number of relevant documents being sought   type of information that is needed   type of task that led to the requirement for information \n",
            "Score: 0.5224, fx1, fx2, fx3, fx4, fx5, fx6, ...] Machine Learning V query q documents d1, d2, d3, ... > Machine Learned Ranking Model ranked list of documents d33, d13, d35, ... Types of Features   Typically, commercial search engines use hundreds of features for ranking documents, usually categorised as follows: Query-document features   Weighting models, e.g. BM25, LM   Field-based weighting models, e.g. BM25F Deep-learned semantic matching (more on that later) Query-independent features   Number of outgoing links in a web page   Number of ingoing links in a web page   URL length, title length, spam score Query-only features Number of terms Number of stopwords   Number of entities Features in LTR do not include the presence of a specific word in a document Learning To Rank Steps Sample identification Apply BM25 to rank documents with respect to a query   Hope that the sample contains enough relevant documents How do we measure that? Feature computation Compute query-document features Compute query-only features   Compute query-only features Extract query-independent features Learn the ranking model Apply the learned model Use training data Re-rank the documents in the sample Schematically \n",
            "Score: 0.5187, Weighting TF and IDF together\n",
            "\n",
            "* Term frequency weight: \\[w{t,d}=\\begin{cases}1+\\log(tf{t,d})&if tf_{t,d}>0\\ 0&otherwise\\end{cases}\\]\n",
            "* Inverse document frequency weight: \\[idf{t}=\\log\\frac{N}{df{t}}\\]\n",
            "* TFIDF term weight: \\[w{t,d}=\\begin{cases}\\big(1+\\log(tf{t,d})\\big)\\log\\frac{N}{df{t}}&\\text {if }tf{t,d}>0\\ 0&otherwise\\end{cases}\\]\n",
            "* The score for a document-query pair is the sum over terms \\(t\\) in both \\(q\\) and \\(d\\): \\[s(q,d)=\\sum{t\\in q\\cap d}w{t,d}\\]\n",
            "\n",
            "Area Under the Precision-Recall Curve\n",
            "\n",
            "\\[AUC=\\sum_{n=1}^{N}P\\text@n\\big(R\\text@n-R\\text@(n-1)\\big)\\]\n",
            "Score: 0.5134, collections The vocabulary needs compression However, most of the space is taken by the posting lists A posting list contains list of documents where the term appears Vector Space Models Scoring in Ranked Retrieval We want to return in order the documents most likely to be useful to a user   How can we order the documents in the collection with respect to the query? We use a ranking function, a.k.a. scoring function s : Q  D   that assigns a real number (score) s(q, d) to every query-document pair (q, d)  Q  D   This score measures, in some way, how well the document and the query \"match\"   For a given query, the documents are ordered according to the (decreasing) value of the ranking function, and the top documents selected accordingly   How do we compute the scores and select the top documents for a query? Term-Document Incidence Matrix Macbeth Each document is a binary vector in {0,1}|V| 1 if document contains word 0 otherwise Term-Document Count Matrix Macbeth Each document is a count vector in |V| number of occurrences of a term in a document \"Bag of Words\" Model Vector representation does not consider the ordering of words in a document   John is quicker than Mary and Mary is quicker than John have the same vectors This is called the bag of words model   The term frequency tft,d of term in document is defined as the number of times t d that occurs in t d Frequency means count in IR   We want to use tft,d when computing query-document match scores \n",
            "\n",
            "\n",
            "Filtered documents and their scores: \n",
            "Score: 0.7280, Weighting TF and IDF together\n",
            "\n",
            "* Term frequency weight: \\[w{t,d}=\\begin{cases}1+\\log(tf{t,d})&if tf_{t,d}>0\\ 0&otherwise\\end{cases}\\]\n",
            "* Inverse document frequency weight: \\[idf{t}=\\log\\frac{N}{df{t}}\\]\n",
            "* TFIDF term weight: \\[w{t,d}=\\begin{cases}\\big(1+\\log(tf{t,d})\\big)\\log\\frac{N}{df{t}}&\\text {if }tf{t,d}>0\\ 0&otherwise\\end{cases}\\]\n",
            "* The score for a document-query pair is the sum over terms \\(t\\) in both \\(q\\) and \\(d\\): \\[s(q,d)=\\sum{t\\in q\\cap d}w{t,d}\\]\n",
            "\n",
            "Area Under the Precision-Recall Curve\n",
            "\n",
            "\\[AUC=\\sum_{n=1}^{N}P\\text@n\\big(R\\text@n-R\\text@(n-1)\\big)\\]\n",
            "Score: 0.5661, between the vectors; x and represent the lengths of the vectors. The dot product is defined as y | x y = |V| i=1 ! xi yi 55 (2.8) (2.9) for all documents of a probabilistic inverse collection frequency weight for the query terms, is represented as collection, a query normalization simply adds a constant factor to all query-document sim- bxxebpx. A typical complex term-weighting scheme, described as tfcenfx, uses a normal- ilarity measurements, which leaves the final document ranking unaffected.) ized tf x idf weight for document terms, and an enhanced, but unnormalized tf x idf fac- The six collections used experimentally are characterized by the statistics of Table 3. tor for the queries. (Since the query vectors remain constant for all documents of a The smallest collection is a biomedical (MED) collection, consisting of 1033 documents and collection, a query normalization simply adds a constant factor to all query-document sim- ilarity measurements, which leaves the final document ranking unaffected.) The six collections used experimentally are characterized by the statistics of Table 3. The smallest collection is a biomedical (MED) collection, consisting of 1033 documents and Evaluation Ranking Evaluation Evaluation Evaluation Why Evaluation? \"To measure is to know\" \"If you cannot measure it, you cannot improve it\" Lord William Thompson, first Baron Kelvin (1824-1907) IR Evaluations Effectiveness Efficiency Effectiveness vs \n",
            "Score: 0.5414, approach: records ordered by docid More space-efficient: Store URLs in alphabetic order, maybe compressed Replace URL in above table by pointer or offset Also allows lookup of docID by URL Inverted Index Layout The inverted index is usually stored on disk, and in memory   Usually multiple inverted indexes, with a constant number of documents per index   In compressed form, even if in memory (never ever fully decompressed)   De-facto posting format is (docid, frequency)   Do not store docids and frequencies in interleaved form   d,d,d,d,d f,f,f,f,f YES   d,f,d,f,d,f,d,f,d,f NO Indexing at Web Scale Indexing at Web Scale https://www.worldwidewebsize.com/ Query Processing Query Processing   Conjunctive (AND) vs. Disjunctive (OR) Boolean retrieval   Suitable for small/medium collections   Returns all documents matching the query Ranked retrieval   Suitable for large collections (Web-scale)   Requires a similarity function between queries and documents sq(d) =  st(q, d) tq   Returns only the top K documents \n",
            "Score: 0.5393, document is defined as the number of times t d that occurs in t d Frequency means count in IR We want to use tft,d when computing query-document match scores Term Frequency   Luhn Assumption: the weight of a term is proportional to its raw (absolute) frequency   The more often a term occurs in a document, the higher its significance is   The justification of measuring word significance by use frequency is based on the fact that a writer normally repeats certain words as he advances or varies his arguments and as he elaborates on an aspect of a subject Significant words have a resolving power   the ability of terms to identify relevant items and distinguish them from not relevant ones TF, IDF and TFIDF Example Terms (ranked by decreasing raw frequency) F TFIDF D I F T Term-Document TFIDF Weight Matrix Macbeth Each document is a TFIDF vector in |V| TFIDF term weight wt,d Documents and queries as vectors   So we have a | V | -dimensional vector space Terms are bases of the space Documents are points or vectors in this space Very high-dimensional vectors   Tens of millions of dimensions when you apply this to a web search engine Very sparse vectors Most components are zero What about queries? Do the same for queries, i.e., represent them as vectors in the same space   Rank document according to their proximity to the query in the space   How do we compute vector proximity? \n",
            "Score: 0.5357, f times It is better to assume field-specific parameters , and IDF k1 b Empirically, only field-specific length normalisation, i.e., field-specific , b has been found useful BM25F Efficiency Issues Faster Query Processing Dynamic pruning strategies aim to make scoring faster by only scoring a subset of the documents   The core assumption of these approaches is that the user is only interested in the top results, say K K = 20   During query scoring, it is possible to determine if a document cannot make the top ranked results K   Hence, the scoring of such documents can be terminated early, or skipped entirely, without damaging retrieval effectiveness to rank K This is called \"safe-to-rank \" K Dynamic pruning is based upon Early termination Comparing upper bounds on retrieval scores with thresholds Skipping To move the posting iterator cursor to a specific docid, we need to read and decompress all postings in the middle current next posting ft di d1 d2 d3 d4 d5 d6 d7 d8 d9 d10 d11 d12 d13   We put additional structure to the start of the posting list, such that the largest docid in any block of compressed postings is known next   Then to move the cursor to a specific docid, we need to read and decompress skips in the middle and few postings Early Termination A document evaluation is early terminated if all or some of its postings, relative to the terms of the query, are not fetched from the inverted index or not scored by the ranking function. \n",
            "\n",
            "\n",
            "Filtered documents and their scores: \n",
            "Score: 0.6876, Jaccard Coefficient\n",
            "\n",
            "* A common measure of overlap of two (finite) sets \\(A\\) and \\(B\\): \\[J(A,B)=\\frac{|A\\cap B\\,|}{|A\\cup B\\,|}\\]\n",
            "* Always assigns a number between 0 and 1\n",
            "* \\(A\\) and \\(B\\) do not have to be the same size\n",
            "* Note that \\(J(A,A)=1\\) and \\(J(A,B)=0\\) if \\(A\\cap B=\\emptyset\\)\n",
            "* What is the query-document match score that the Jaccard coefficient computes for each of the two documents below?\n",
            "* Query: idea of march\n",
            "* Document 1: caesar died in march\n",
            "* Document 2: the long march\n",
            "* Jaccard does not take into account how many times a term occurs in a document\n",
            "* Jaccard does not take into account the informativeness of rare terms\n",
            "* Jaccard does not take into account the document length\n",
            "\n",
            "Weighting Term Frequency\n",
            "\n",
            "* Raw term frequency is not what we want:\n",
            "* A document with 10 occurrences of the term is more relevant than a document with 1 occurrence of the term\n",
            "* But not 10 times more relevant\n",
            "* Relevance does not increase proportionally with term frequency\n",
            "* We use the log of the term frequency: \\[w{t,d}=\\begin{cases}1+\\log(tf{t,d})&if tf_{t,d}>0\\ 0&otherwise\\end{cases}\\]\n",
            "* The score for a document-query pair is the sum over terms \\(t\\) in both \\(q\\) and \\(d\\): \\[s(q,d)=\\sum{t\\in q\\cap d}\\big(1+\\log(tf{t,d})\\big)\\]\n",
            "* The score is 0 if none of the query terms is present in the document\n",
            "\n",
            " Rare Terms\n",
            "Score: 0.5197, he wept When at Philippi he found Brutus slain. Hamlet, Act III, Scene ii Lord Polonius: I did enact Julius Caesar I was killed i' the Capitol; Brutus killed me. Large Collections   Consider N = 106 documents, each with about 103 words   Average bytes/word including spaces/punctuation 6 6 GB of data in the all documents Say there are M = 0.5  106 distinct terms among these The incidence matrix has M  N = 0.5  1012 elements 500 GB of 0's and 1's. But it has no more than one 109 1's Why?   The incidence matrix is extremely sparse   What's a better representation?   We only record the 1's positions Indexes Indexes are data structures designed to support search avoid linear scan, faster response time, supports updates Text search engines use a particular form of search: ranking   documents are retrieved in sorted order according to a score computing using the document representation, the query, and a ranking algorithm Performance of an index data structure: indexing time: time needed to build the index indexing space: space used during the generation of the index;   index storage: space required to store the index, once it has been generated;   query latency: time interval between the arrival of the query in the IR system and the generation of the answer query throughput: number of queries answered per second \n",
            "Score: 0.5067, GERARD SALTON and CHRISTOPHER BUCKLEY Vector Space Model(s) components Term Frequency Component 518 GERARD SALTON and CHRISTOPHER BUCKLEY b 1.0 binary weight equal to 1 for terms present in a vector (term frequency is ignored) tf raw term frequency (number of times a term occurs in a document or query text) tf Term Frequency Component augmented normalized term frequency (tf factor normalized by maximum tf in n 0.5 + 0.5 - max tf b 1.0 binary weight equal to 1 for terms present in a vector (term frequency is ignored) the vector, and further normalized to lie between 0.5 and 1 .O) Collection Frequency Component tf raw term frequency (number of times a term occurs in a document or query text) tf (b, t, or n) x 1.0 no change in weight; use original term frequency component augmented normalized term frequency (tf factor normalized by maximum tf in n 0.5 + 0.5 - max tf the vector, and further normalized to lie between 0.5 and 1 .O) multiply original tf factor by an inverse collection frequency factor (N is total f log; and n is number of documents number of documents in collection, to which a term is assigned) (b, t, or n) x 1.0 no change in weight; use original term frequency component N-n multiply tf factor by a probabilistic inverse collection frequency factor P log 7 multiply original tf factor by an inverse collection frequency factor (N is total f log; and n is number of documents number of documents in collection, to which a term is assigned) Normalization Component x 1.0 \n",
            "Score: 0.4942, removing mice without killing them (or apnea ie QD Information Need Query | Because the information need is subjective, the notion of relevance is also subjective The Y Diagram Online Index Data Structure Information Retrieval in 1620   Which plays of Shakespeare contain the words Brutus AND Caesar but NOT Calpurnia?   One could grep all of Shakespeare's plays for Brutus and Caesar, then strip out lines containing Calpurnia? Why is that not the answer? Slow (for large corpora) NOT Calpurnia is non-trivial   Other operations (e.g., find the word Romans near countrymen) not feasible   Ranked retrieval (only best documents to return) Term-Document Incidence Matrix Macbeth Brutus AND Caesar BUT NOT Calpurnia 1 if document contains word 0 otherwise Incidence Vectors We have a 0/1 vector for each term   To answer query, take the vectors for Brutus, Caesar and Calpurnia (complemented) and perform bitwise AND: 110100 AND 110111 AND 101111 = 100100 Antony and Cleopatra, Act III, Scene ii   Agrippa [Aside to DOMITIUS ENOBARBUS]: Why, Enobarbus, When Antony found Julius Caesar dead, He cried almost to roaring; and he wept When at Philippi he found Brutus slain. When Antony found Julius Caesar dead, He cried almost to roaring; and he wept When at Philippi he found Brutus slain. Hamlet, Act III, Scene ii Lord Polonius: I did enact Julius Caesar I was killed i' the Capitol; Brutus killed me. \n",
            "Score: 0.4926, ni R = number of relevant documents in the sample ri = number of relevant documents in the sample containing term i term not present total R N R N Summary BIM has several restrictive assumptions Relevance is binary   Queries and document are represented by binary vectors   Relevance of each document is independent of other documents Terms are independent   Terms not in the query do not impact on document ranking   Much of early IR was designed for document titles or paper abstracts Short texts   Few occurrences of the same terms   Now we want something capable to deal with Web pages   Taking into account multiple term occurrences   Taking into account document lengths Generative Models for Documents   Words are drawn independently from the vocabulary using a multinomial distribution   A multinomial trials process is a sequence of independent, identically distributed random variables X = (X1, X2, ) each taking possible k values   The distribution of term frequencies ( ) follows a Poisson distribution tf ... the draft is that each team is given a position in the draft ... Poisson Modelling   The Poisson distribution models the probability of the number of events occurring in a fixed interval of time/space, with known average rate ,  independent of the last event: k Examples:   Number of cars arriving at the toll booth per minute Number of typos on a page Assume that term frequencies in a document ( (tf;) ) follow a Poisson distribution tfi \"Fixed interval\" implies fixed document length \n",
            "\n",
            "\n",
            "Filtered documents and their scores: \n",
            "Score: 0.6583, a task Categorised using a variety of dimensions number of relevant documents being sought type of information that is needed type of task that led to the requirement for information Queries and Information Needs   A query can represent very different information needs   May require different search techniques and ranking algorithms to produce the best rankings   A query can be a poor representation of the information need   Users may find it difficult to express the information need   Users are encouraged to enter short queries both by the search engine interface, and by the fact that long queries often don't work   Ambiguity: the same query string may represent different information needs Query Ambiguity What is a user issuing the query \"cooper\" after? Query Formulation Problem   Difficult to generate well-formulated queries without Knowledge of collection How terms are distributed, type of docs, etc. Retrieval environment   Term weighting, query language, retrieval strategy, etc First query is a trial run   Practically used to retrieve few useful items from a collection Learn from those relevant ones Query term modification Remember that IR is an iterative process User Interaction Interaction with the system occurs During query formulation and reformulation While browsing the search results Key aspect of effective retrieval   Users can't change the ranking algorithm but can change the results through interaction   Helps refine the description of information need   e.g., same initial query, different information needs   How do users describe what they don't know? \n",
            "Score: 0.6454, term co- occurrence analysis Previous query reformulations of users (query logs) Thesauri & dictionaries (e.g. WordNet) However, they are not necessarily effective, as they do not take context into account Thesaurus-based Query Expansion A thesaurus provides information on synonyms and semantically related words and phrases.   Example: physician   syn: croaker, doc, doctor, MD, medical, mediciner, medico, sawbones rel: medic, general practitioner, surgeon, ...   For each term in a query, expand the query with synonyms and related t words of from the thesaurus t   You might weight the added terms less than the original query terms Generally increases recall   It could significantly decrease precision, particularly with ambiguous terms   \"interest rate\"  \"interest rate fascinate evaluate\" Learning To Rank Machine Learning for IR Ranking You know many machine learning algorithms:   Naive bayes, support vector machines, decision trees, neural networks Can we also use machine learning to rank the documents displayed in search results? Sure, sounds like a good idea   This good idea has been actively researched  and actively deployed by major web search engines  in 2005-2015   But there were a whole bunch of precursors Traditional ranking functions in IR use a very small number of features Term frequency, inverse document frequency, document length Modern (web) systems use a great number of features   The New York Times in 2008-06-03 quoted Amit Singhal as saying Google was using over 200 such features (\"signals\")  so it's sure to be over 500 today \n",
            "Score: 0.6409, been generated; query latency: time interval between the arrival of the query in the IR system and the generation of the answer query throughput: number of queries answered per second 246 blog, 111 BM25, 250252 BM25F, 294 Boolean query, 235 Boolean query language, 24 Boolean retrieval, 235237 boosting, 448 BPREF, 322 brute force, 331 burstiness, 254 Posting caching, 26, 181 card catalog, 400 case folding, 87 case normalization, 87 categorization, see classification CBIR, see content-based image retrieval character encoding, 50, 119 checksum, 60 Chi-squared measure, 202 CJK (Chinese-Japanese-Korean), 50, 119 classification, 3, 339373 faceted, 224 monothetic, 223, 374 polythetic, 223, 374 classifier, 21 Example Collection   d1 - The quokka, the only member of the genus Setonix, is a small marsupial about the size of a domestic cat.   d2 - Wombats are small, short-legged, muscular quadrupedal marsupials that are native to Australia.   d3 - Quokkas have little fear of humans and commonly approach people closely, particularly on Rottnest Island in Australia, where a prevalent population exists. Example Index: Docids Dictionary Posting List It allows for retrieving documents containing any or all query terms Q: small marsupial  intersection if searching for all the terms; union if searching for any terms No ranking possible No proximity match/phrase match possible wombats 2 Example Index: Docids + Term Frequencies It allows for ranking documents by their relevance No proximity match/ phrase match possible Posting List 3:1 2:1 \n",
            "Score: 0.6321, * Since either \\(x{i}=0\\) or \\(x{i}=1\\): \\[O(r\\,|\\,x,q)=O(r\\,|\\,q)\\prod{x{i}=1}\\frac{P(x{i}=1\\,|\\,r,q)}{P(x{i}=1\\,|\\, \\bar{r},q)}\\prod{x{i}=0}\\frac{P(x{i}=0\\,|\\,r,q)}{P(x{i}=0\\,|\\,\\bar{r},q)}\\]\n",
            "* Now let \\(p{i}=P(x{i}=1\\,|\\,r,q)\\) and \\(r{i}=P(x{i}=1\\,|\\,\\bar{r},q)\\); then \\(P(x{i}=0\\,|\\,r,q)=1-p{i}\\) and \\(P(x{i}=0\\,|\\,\\bar{r},q)=1-r{i}\\)\n",
            "* Consider a term not appearing in a query, i.e., \\(q{i}=0\\). We assume that the probabilities of such a term occurring in a relevant or not-relevant document are equal, i.e., \\(p{i}=r{i}\\): \\[O(r\\,|\\,x,q)=O(r\\,|\\,q)\\prod{x{i}=1}\\frac{p{i}}{r{i}}\\prod{x{i}=0}\\frac{ 1-p{i}}{1-r{i}}=O(r\\,|\\,q)\\prod{x{i}=1,\\,q{i}=1}\\frac{p{i}}{r{i}}\\prod {x{i}=0,\\,q{i}=1}\\frac{1-p{i}}{1-r{i}}\\]Estimating \\(P{i}\\) and \\(r_{i}\\)\n",
            "* Since we use odds and logarithm it is more numerically robust to use a small smoothing factor: \n",
            "\n",
            "* Now we estimate the counts:\n",
            "* (technically this is the maximum likelihood estimation) \\[p{i}=P(x{i}=1\\,|\\,r,q)=\\frac{r{i}+0.5}{R+1}\\] \\[r{i}=P(x{i}=1\\,|\\,\\bar{r},q)=\\frac{n{i}-r_{i}+0.5}{N-R+1}\\]\n",
            "\n",
            "Robberston/Sparck-Jones Weights\n",
            "Score: 0.6298, A document index: to store documents and their statistics GC | . An inverted index: to store term-document y statistics (in posting lists) Document . Processing & Indexing Index Indexing What do we index? What do we index? What is a \"term\" for the purpose of indexing? Any string between two separating symbols Also known as full-text indexing   What about \"New York City\"? What about other languages, e.g., chinese? What about indexing by important keywords? Also known as keyword indexing   Only index the most important terms in each documents   Only index the important terms from a given list   Remember tokenisation, stemming, stopwords,  Phrase Indexing   Index common phrases such as \"New York City\" or \"good morning\", i.e., build inverted lists for them Alternatively index all n-grams: \"the mouse is in the house\" Term pair (intersection) for (dog, cat): index all documents containing both dog and cat   results in a much larger index with more inverted lists   but each one much shorter than the single-term lists   Or only those documents where dog and cat appear within distance five in document Postings What do we store in a single posting? docid only   typical in boolean retrieval   (docid, term frequency in document)   de-facto standard in ranked retrieval   (docid, impact score)   widely used in production systems   (docid, term frequency, list of positions)   positions are usually store in a separate place \n",
            "\n",
            "\n",
            "Filtered documents and their scores: \n",
            "Score: 0.6964, documents matching the query Ranked retrieval Suitable for large collections (Web-scale) Requires a similarity function between queries and documents sq(d) = st(q, d) tq Returns only the top K documents Ranked Retrieval In Boolean retrieval documents either match or don't a query   Good for expert users with precise understanding of their needs and the collection Medical retrieval, legal retrieval, patent retrieval   Also good for applications, as they can easily consume 1000s of results Not good for the majority of users Most users incapable of writing Boolean queries Most users don't want to wade through 1000s of results This is particularly true of Web search   In ranked retrieval, the system returns an ordering over the (top) documents in the collection for a query   Free text queries: rather than a query language of operators and expressions, the user's query is just one or more words in a human language \n",
            "Score: 0.6935, get the right information to a user Efficiently: get the information to a user quickly Many new technologies came of from search engine technical problems MapReduce Distributed Databases Datacenter technologies/protocols Information Sources Primary focus of IR since the 50s has been on text and documents nowadays, routinely, also images, audio, video Some examples of documents   web pages, email, books, news stories, scholarly papers, text messages, Word, Powerpoint, PDF, forum postings, patents, IM sessions, etc. Documents may have some organisation   title, author, date for papers   subject, sender, destination for emails   introduction, verse, pre-chorus, refrain, post-chorus, outro,  for a song Documents vs. Database Records   Information retrieval is a field concerned with the structure, analysis, organisation, storage, searching, and retrieval of information   A database is a collection of related data. By data, we mean known facts that can be recorded and that have implicit meaning   Database records (or tuples in relational databases) are typically made up of well-defined attributes   bank records with account numbers, balances, names, addresses, social security numbers, dates of birth, etc.   Easy to compare fields with well-defined semantics to queries in order to find matches Text is more difficult   even more, multimedia \n",
            "Score: 0.6626, document is defined as the number of times t d that occurs in t d Frequency means count in IR We want to use tft,d when computing query-document match scores Term Frequency   Luhn Assumption: the weight of a term is proportional to its raw (absolute) frequency   The more often a term occurs in a document, the higher its significance is   The justification of measuring word significance by use frequency is based on the fact that a writer normally repeats certain words as he advances or varies his arguments and as he elaborates on an aspect of a subject Significant words have a resolving power   the ability of terms to identify relevant items and distinguish them from not relevant ones TF, IDF and TFIDF Example Terms (ranked by decreasing raw frequency) F TFIDF D I F T Term-Document TFIDF Weight Matrix Macbeth Each document is a TFIDF vector in |V| TFIDF term weight wt,d Documents and queries as vectors   So we have a | V | -dimensional vector space Terms are bases of the space Documents are points or vectors in this space Very high-dimensional vectors   Tens of millions of dimensions when you apply this to a web search engine Very sparse vectors Most components are zero What about queries? Do the same for queries, i.e., represent them as vectors in the same space   Rank document according to their proximity to the query in the space   How do we compute vector proximity? \n",
            "Score: 0.6604, Now consider the following problem: Find the document most relevant to the query \"hippos in the zoo\" IR techniques are essentially heuristics because we do not know the \"right\" answer What makes a document relevant? What makes a document relevant? It contains the query terms?   It contains all of the query terms?   It contains the query terms many times? (...but what if it is a long document?)   It contains the query terms many times in a short document?   It contains terms similar to the query terms?   It is authoritative (has many links)? It doesn't contain too many ads?   It doesn't contain too many different, unrelated words (e.g. spam)   It contains the query terms close together? It has been clicked by many other people for the same query? It is fresh/recent? ALL of these are heuristics. They are not guaranteed to get a correct, relevant document for all users Why to Retrieve?   I need to find some information   Who is the head of the School of Engineering? (exact need)   How to get to the LUX city centre from LUX airport? (exact need)   What is the upcoming topic in IR research? (vague need) What to do this weekend in Pisa? (vague need) \n",
            "Score: 0.6603, * Since either \\(x{i}=0\\) or \\(x{i}=1\\): \\[O(r\\,|\\,x,q)=O(r\\,|\\,q)\\prod{x{i}=1}\\frac{P(x{i}=1\\,|\\,r,q)}{P(x{i}=1\\,|\\, \\bar{r},q)}\\prod{x{i}=0}\\frac{P(x{i}=0\\,|\\,r,q)}{P(x{i}=0\\,|\\,\\bar{r},q)}\\]\n",
            "* Now let \\(p{i}=P(x{i}=1\\,|\\,r,q)\\) and \\(r{i}=P(x{i}=1\\,|\\,\\bar{r},q)\\); then \\(P(x{i}=0\\,|\\,r,q)=1-p{i}\\) and \\(P(x{i}=0\\,|\\,\\bar{r},q)=1-r{i}\\)\n",
            "* Consider a term not appearing in a query, i.e., \\(q{i}=0\\). We assume that the probabilities of such a term occurring in a relevant or not-relevant document are equal, i.e., \\(p{i}=r{i}\\): \\[O(r\\,|\\,x,q)=O(r\\,|\\,q)\\prod{x{i}=1}\\frac{p{i}}{r{i}}\\prod{x{i}=0}\\frac{ 1-p{i}}{1-r{i}}=O(r\\,|\\,q)\\prod{x{i}=1,\\,q{i}=1}\\frac{p{i}}{r{i}}\\prod {x{i}=0,\\,q{i}=1}\\frac{1-p{i}}{1-r{i}}\\]Estimating \\(P{i}\\) and \\(r_{i}\\)\n",
            "* Since we use odds and logarithm it is more numerically robust to use a small smoothing factor: \n",
            "\n",
            "* Now we estimate the counts:\n",
            "* (technically this is the maximum likelihood estimation) \\[p{i}=P(x{i}=1\\,|\\,r,q)=\\frac{r{i}+0.5}{R+1}\\] \\[r{i}=P(x{i}=1\\,|\\,\\bar{r},q)=\\frac{n{i}-r_{i}+0.5}{N-R+1}\\]\n",
            "\n",
            "Robberston/Sparck-Jones Weights\n",
            "\n",
            "\n",
            "Filtered documents and their scores: \n",
            "Score: 0.7060, been popularised by commercial search engines (e.g., Bing, Baidu, Yandex) They require large training datasets, possibly instantiated from click- through data Click-through data has facilitated the deployment of learning approaches Ranking Cascades   Typically, in web-scale search, the ranking process can be seen as a series of cascades Rank some documents Pass top-ranked onto next cascade for refined re-ranking Cascading Index Processing 1,000  10,000 docs 10  100 docs Learning To Rank training set of queries with ideal document rankings (including irrelevant documents) qa  [(d4, ya4), (d2, ya2), (d3, ya3), (d8, ya8), (d41, ya41), ...] qb  [(d99, yb99), (d4, yb4), (d7, yb7), (d2, yb2), (d11, yb11), ...] ... Document dx set of real-valued features [fx0, fx1, fx2, fx3, fx4, fx5, fx6, ...] Machine Learning V query q documents d1, d2, d3, ... > Machine Learned Ranking Model ranked list of documents d33, d13, d35, ... \n",
            "Score: 0.6288, x x2 = x3 = 1 3 x1 1 TX FTX TTX x2 + x1 + 3 2 x4 x4 = 1 x1 + TX 3 1 x2 TX 2 k = 0 k = 4 PageRank Computation k = 1 k   Teleportation Computation G G = (1  )M + S where S  nn and Sij = 1/n is the Google matrix and is the teleportation parameter  Teleportation Computation 1 I  oo M = ee) oor 0 1 0 0 0 1 0 0 0 ooo oor 0 0 0 1 1/2 0 0 1 0 1/2 0 0 0 0 0 0.03 0.88 0.03 0.03 0.03 0.88 0.03 0.03 0.03 0.03  = 0.15  G = 0.03 0.03 0.03 0.88 0.455 0.03 0.03 0.88 0.03 0.455 0.03 0.03 0.03 0.03 0.03 The unique Pagerank score is x = [0.2 0.2 0.285 0.285 0.03]T Web Search Architecture Web Crawling   Web crawling is the process of locating, fetching, storing, and maintaining the pages available in the Web.   Computer programs that perform this task are referred to as crawlers spiders harvesters Web crawler repositories cache the online content in the Web   provide quick access to the physical copies of pages in the Web   help to speed up the indexing process Web Graph   Fundamental Assumption: The web is well linked   Web crawlers exploit the hyperlink structure of the Web \n",
            "Score: 0.6023, the collection for a query Free text queries: rather than a query language of operators and expressions, the user's query is just one or more words in a human language Scoring in Ranked Retrieval We want to return in order the documents most likely to be useful to a user   How can we order the documents in the collection with respect to the query? We use a ranking function, a.k.a. scoring function s : Q  D   that assigns a real number (score) s(q, d) to every query-document pair (q, d)  Q  D   This score measures, in some way, how well the document and the query \"match\"   For a given query, the documents are ordered according to the (decreasing) value of the ranking function, and the top documents selected accordingly   How do we compute the scores and select the top documents for a query? Term at a Time In ranked disjunctive retrieval, the posting lists can be traversed one query term at a time (TAAT) rank docid score 10 5 1 4 11 PEER: 1 7 14 5 2 10 7 11 4 2 3 7 1 10 3 5 4 PROS Simple Cache-friendly CONS   Requires lot of memory to contain partial scores for all documents   Difficult to do boolean or phrasal queries Turtle, H. and J. Flood. 1995. \"Query Evaluation: Strategies and Optimizations\". Inf. Process. Manage. 31(6): 831850. \n",
            "Score: 0.5930, different interests (e.g. sports) which are reected in their short and long-term search history Queries could be ambiguous for the search engine; personalisation signals help to resolve that Which Cooper? Ranking in Web Search Given a corpus and a query, rank relevant web pages (documents) before non- relevant web pages corpus: a subset of indexed web pages query: short keyword query and any other user/context data rank: document scoring function   The goal is to estimate P(r | d, x) = relevance r = document d = context, e.g., query, user, location x   As we did in IR, p(r | d, x)  sM( f ) = set of ranking features depending on document and context M = model parameters Web Ranking Features   Important to select features likely to be correlated with relevance, e.g., term matching scores   Web environment invites unique features: document structure, user signals, dynamics   There is a lot of junk on the web, e.g., spam, irrelevant forums   Knowing what users are reading is a valuable source for knowing what is not junk   Ideally, we would be able to monitor everything the user is reading and use that information for ranking; this is achieved through toolbars, browsers, operating systems, DNS In 1998, no search company had browsing data How did they address this lack of data? \n",
            "Score: 0.5918, collections The vocabulary needs compression However, most of the space is taken by the posting lists A posting list contains list of documents where the term appears Vector Space Models Scoring in Ranked Retrieval We want to return in order the documents most likely to be useful to a user   How can we order the documents in the collection with respect to the query? We use a ranking function, a.k.a. scoring function s : Q  D   that assigns a real number (score) s(q, d) to every query-document pair (q, d)  Q  D   This score measures, in some way, how well the document and the query \"match\"   For a given query, the documents are ordered according to the (decreasing) value of the ranking function, and the top documents selected accordingly   How do we compute the scores and select the top documents for a query? Term-Document Incidence Matrix Macbeth Each document is a binary vector in {0,1}|V| 1 if document contains word 0 otherwise Term-Document Count Matrix Macbeth Each document is a count vector in |V| number of occurrences of a term in a document \"Bag of Words\" Model Vector representation does not consider the ordering of words in a document   John is quicker than Mary and Mary is quicker than John have the same vectors This is called the bag of words model   The term frequency tft,d of term in document is defined as the number of times t d that occurs in t d Frequency means count in IR   We want to use tft,d when computing query-document match scores \n",
            "\n",
            "\n",
            "Keyboard interruption in main thread... closing server.\n"
          ]
        },
        {
          "data": {
            "text/plain": []
          },
          "execution_count": 56,
          "metadata": {},
          "output_type": "execute_result"
        }
      ],
      "source": [
        "import gradio as gr\n",
        "\n",
        "\n",
        "latex_delimiters = [\n",
        "    {\"left\": \"\\\\[\", \"right\": \"\\\\]\", \"display\": True},  # Formulas in display mode\n",
        "    {\"left\": \"\\\\(\", \"right\": \"\\\\)\", \"display\": False},  # Formulas in inline mode\n",
        "]\n",
        "\n",
        "\n",
        "with gr.Blocks(css=\"\"\"\n",
        "    .input-box { border: 1px solid #ccc; border-radius: 4px; padding: 10px; margin: 10px 0; }\n",
        "    .output-box { border: 1px solid #ccc; border-radius: 4px; padding: 10px; margin: 10px 0; background-color: #373535; height: auto; }\n",
        "\n",
        "\"\"\") as demo:\n",
        "    gr.Markdown(\"# RAG Model Query Interface\")\n",
        "    gr.Markdown(f\"Ask questions to the RAG model and get answers based on the provided PDF context (*{PDF_NAME}*).\")\n",
        "\n",
        "    with gr.Row():\n",
        "        with gr.Column():\n",
        "            input_text = gr.Textbox(\n",
        "                label=\"Enter your query\",\n",
        "                placeholder=\"Type your question here...\",\n",
        "                elem_classes=[\"input-box\"]\n",
        "            )\n",
        "\n",
        "    with gr.Row():\n",
        "        with gr.Column():\n",
        "            output_text = gr.Markdown(\n",
        "                label=\"Answer\",\n",
        "                elem_classes=[\"output-box\"],\n",
        "                latex_delimiters=latex_delimiters\n",
        "                )\n",
        "\n",
        "\n",
        "    input_text.submit(\n",
        "        fn=query_rag_model,\n",
        "        inputs=input_text,\n",
        "        outputs=output_text\n",
        "    )\n",
        "\n",
        "# launch the interface\n",
        "demo.launch(debug=True, show_error=True)"
      ]
    },
    {
      "cell_type": "code",
      "execution_count": null,
      "metadata": {
        "id": "Im415tVOWNSP"
      },
      "outputs": [],
      "source": []
    }
  ],
  "metadata": {
    "accelerator": "GPU",
    "colab": {
      "gpuType": "T4",
      "include_colab_link": true,
      "provenance": [],
      "toc_visible": true
    },
    "kernelspec": {
      "display_name": "lm",
      "language": "python",
      "name": "python3"
    },
    "language_info": {
      "codemirror_mode": {
        "name": "ipython",
        "version": 3
      },
      "file_extension": ".py",
      "mimetype": "text/x-python",
      "name": "python",
      "nbconvert_exporter": "python",
      "pygments_lexer": "ipython3",
      "version": "3.12.7"
    }
  },
  "nbformat": 4,
  "nbformat_minor": 0
}
