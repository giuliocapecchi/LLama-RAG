{
  "cells": [
    {
      "cell_type": "markdown",
      "metadata": {
        "id": "view-in-github",
        "colab_type": "text"
      },
      "source": [
        "<a href=\"https://colab.research.google.com/github/giuliocapecchi/LM-project/blob/main/complete_RAG.ipynb\" target=\"_parent\"><img src=\"https://colab.research.google.com/assets/colab-badge.svg\" alt=\"Open In Colab\"/></a>"
      ]
    },
    {
      "cell_type": "markdown",
      "metadata": {
        "id": "lMdgKoa5LF9w"
      },
      "source": [
        "<a target=\"_blank\" href=\"https://colab.research.google.com/github/giuliocapecchi/LM-project/blob/main/complete_RAG.ipynb\">\n",
        "  <img src=\"https://colab.research.google.com/assets/colab-badge.svg\" alt=\"Open In Colab\"/>\n",
        "</a>\n",
        "\n",
        "\n",
        "# PDF Preprocessing and Documents Creations\n",
        "\n",
        "---"
      ]
    },
    {
      "cell_type": "markdown",
      "metadata": {
        "id": "8OV1QFHWLvIw"
      },
      "source": [
        "Nowadays one of the challenging aspects of preprocessing scientific documents, for the implementation of a RAG (*Retrieval-Augmented Generation*) system, is the accurate **extraction of mathematical formulas**. Considering working with files containing this type of information, we faced the need to adopt a solution that would allow us to achieve results as good and reliable as possible using free tools and resources.\n",
        "\n",
        "In addition to this, for completeness we report other main relevant tasks, regarding the processing of files in order to implement a RAG system, we tried to manage:\n",
        "*   **handle complex structures** mantaning contextual meaning;\n",
        "*   **text cleaning** removing irrilevant elements;\n",
        "*   **chunk size balancing** accordingly with the specific context limit for the chosen LLM;\n",
        "*   **text splitting** avoiding breaking meaningful connections in sentences.\n",
        "\n",
        "For this purpose we propose an hybrid approach that combines multiple solutions. In particular we built a pipeline that integrates functionalities of two solutions:\n",
        "*   `Unstructure`, an open-source tool efficient in transforming unstructured data into structured outputs.\n",
        "    *   https://github.com/Unstructured-IO\n",
        "*   `Nougat`, an advanced Transformer-based OCR model that simplifies the process of converting complex scientific contents into a common and machine-readable format.\n",
        "    *   https://github.com/facebookresearch/nougat\n",
        "\n",
        "The tasks we have addressed to these tools are respectively:\n",
        "1.   Parse the PDF file obtaning **elements characterized by type and content** through `Unstructure partition function`. This allowed us to:\n",
        "    *   clean the extracted contents **filering out irrelevant or meaningless types** of elements;\n",
        "    *   identify page breaks, permetting to implement a **page content-aware solution**;\n",
        "    *   **locate the formulas**, saving indexes of pages containing them;\n",
        "    *   translate elements into **a dataframe, with columns Type and Value**, for easier handling.\n",
        "\n",
        "2.   Extract formulas in more accurate and replicable Latex format thanks to `Nougat`. This was done according to the following logic:\n",
        "    *   **only pages in** which we know **there is at least one formula are processed**, allowing us to save resources and time by avoiding analyzing the pages of the file in which no formulas appear;\n",
        "    *   the selected pages are converted into images, analyzed using a **Transformer-based OCR model**, and returned as text formatted in LaTeX;\n",
        "    *   the model's output is analyzed to identify **Latex patterns matching formulas**, which are then extracted.\n",
        "\n",
        "This approach was necessary because, despite employing a high-resolution element identification strategy in Unstructured partitioning, the formulas often turned out incorrect and failed to meet our expectations. Therefore, we retained the use of `Unstructured` for its ability to implement an **elements and page-aware solution** while integrating `Nougat` in a specialized manner **for extracting mathematical formulas**. This combination allowed us to achieve significantly improved and optimal results.\n",
        "\n",
        "Continuing with the numbering used above, the final processing steps are:\n",
        "3.   **Replace the more precise formulas in the dataframe** where all the elements are stored. By doing this we faced the problem of mismatch between expected and extracted formulas for a single page:\n",
        "    *   if no formulas extracted by `Nougat` we keep the formulas as extracted by `Unstructure`;\n",
        "    *   else, if the number of extracted formulas differs from the expected one, we give priority to the formulas extracted by `Nougat`, due to more precision and accuracy, discarding the ones extracted by `Unstructure`.\n",
        "4.   **Page-based Chunks creation**. This was done according to the following logic:\n",
        "    *   setting a **threshold as the maximum number of tokens** that can be included into a single chunk;\n",
        "    *   creating chunks by **concatenating page-by-page content** to preserve contextual integrity as much as possible;\n",
        "    *   if the content of a single page exceeds the threshold, we concatenate **elements one by one until the content remains under the limit**. This approach is a tradeoff between the balancing of chunk sizes and the coherence of contextual structures.\n",
        "\n",
        "Let's dive into the implementation.\n"
      ]
    },
    {
      "cell_type": "markdown",
      "metadata": {
        "id": "PmLEt9LCLpLn"
      },
      "source": [
        "Installing required libraries."
      ]
    },
    {
      "cell_type": "code",
      "execution_count": 1,
      "metadata": {
        "id": "j3UrpIY5sLgF"
      },
      "outputs": [],
      "source": [
        "!pip install -q torch gdown huggingface_hub python-dotenv transformers sentence-transformers pymupdf python-Levenshtein nltk chromadb tqdm unidecode gradio bitsandbytes seaborn unstructured[pdf] langchain langchain-community langchain-huggingface latex2mathml --progress-bar off"
      ]
    },
    {
      "cell_type": "code",
      "execution_count": 2,
      "metadata": {
        "colab": {
          "base_uri": "https://localhost:8080/"
        },
        "id": "-ROGb_b5H_kY",
        "outputId": "9346fb13-fe48-44e6-901d-07321456f264"
      },
      "outputs": [
        {
          "output_type": "stream",
          "name": "stdout",
          "text": [
            "/bin/bash: line 1: conda: command not found\n",
            "/bin/bash: line 1: conda: command not found\n"
          ]
        }
      ],
      "source": [
        "!conda install -c conda-forge poppler -y\n",
        "!conda install -c conda-forge tesseract -y"
      ]
    },
    {
      "cell_type": "code",
      "execution_count": 3,
      "metadata": {
        "id": "duBMiZYysZEe"
      },
      "outputs": [],
      "source": [
        "import os\n",
        "import torch\n",
        "from huggingface_hub import login\n",
        "from dotenv import load_dotenv\n",
        "from transformers import (\n",
        "    AutoModelForCausalLM,\n",
        "    AutoTokenizer,\n",
        "    BitsAndBytesConfig,\n",
        ")\n",
        "from sentence_transformers import SentenceTransformer\n",
        "from langchain_community.document_loaders import PyMuPDFLoader\n",
        "from langchain.text_splitter import CharacterTextSplitter\n",
        "from langchain_huggingface import HuggingFaceEmbeddings\n",
        "from langchain_community.vectorstores import Chroma\n",
        "import time\n",
        "from tqdm import tqdm\n",
        "import re\n",
        "import gradio as gr\n",
        "from unidecode import unidecode\n",
        "import random\n",
        "import nltk\n",
        "import gdown\n",
        "import sys"
      ]
    },
    {
      "cell_type": "code",
      "execution_count": 4,
      "metadata": {
        "colab": {
          "base_uri": "https://localhost:8080/"
        },
        "id": "2L7OPE5AIZM8",
        "outputId": "00d370e8-bcb3-4f94-acea-752efc6cf869"
      },
      "outputs": [
        {
          "output_type": "stream",
          "name": "stdout",
          "text": [
            "3.9.1\n"
          ]
        },
        {
          "output_type": "stream",
          "name": "stderr",
          "text": [
            "[nltk_data] Downloading package punkt to /root/nltk_data...\n",
            "[nltk_data]   Package punkt is already up-to-date!\n"
          ]
        },
        {
          "output_type": "execute_result",
          "data": {
            "text/plain": [
              "True"
            ]
          },
          "metadata": {},
          "execution_count": 4
        }
      ],
      "source": [
        "print(nltk.__version__)  # confirm you see 3.9.1, otherwise restart session\n",
        "\n",
        "nltk.download(\"punkt\")"
      ]
    },
    {
      "cell_type": "markdown",
      "metadata": {
        "id": "uo9QzZJzSLKe"
      },
      "source": [
        "## Environment Setup\n",
        "Here we detect if this notebook is being executed in a **Google Colab environment** or a **local system**, setting up the environment, loading keys accordingly and downloading required files.\n",
        "\n",
        "\n",
        "\n",
        "> Note that, in order to speed up the execution, we download also the `elements.pkl` file to avoid some expensive processing (*about 30 minute*).\n",
        "\n"
      ]
    },
    {
      "cell_type": "code",
      "execution_count": 5,
      "metadata": {
        "colab": {
          "base_uri": "https://localhost:8080/"
        },
        "id": "ycw2OqtUrEqh",
        "outputId": "1b002a37-526a-4a41-8e8d-2967349095a4"
      },
      "outputs": [
        {
          "output_type": "stream",
          "name": "stdout",
          "text": [
            "Running in Google Colab. Using userdata to get HF_TOKEN.\n"
          ]
        }
      ],
      "source": [
        "running_on_colab = False\n",
        "\n",
        "try:\n",
        "    from google.colab import userdata\n",
        "    HF_TOKEN = userdata.get('HF_TOKEN')\n",
        "    print(\"Running in Google Colab. Using userdata to get HF_TOKEN.\")\n",
        "    running_on_colab = True\n",
        "\n",
        "except ModuleNotFoundError:\n",
        "    load_dotenv()\n",
        "    HF_TOKEN = os.getenv('HF_TOKEN')\n",
        "    print(\"Not running in Google Colab. Using load_dotenv to get HF_TOKEN.\")\n",
        "    !pip install -q python-magic-bin==0.4.14\n",
        "    # Determina dinamicamente il percorso dell'ambiente Conda\n",
        "    conda_env_path = os.path.dirname(sys.executable)  # Ottiene il percorso dell'eseguibile Python\n",
        "    tessdata_path = os.path.join(conda_env_path, \"share\", \"tessdata\")  # Percorso a tessdata\n",
        "\n",
        "    # Imposta la variabile di ambiente TESSDATA_PREFIX\n",
        "    os.environ[\"TESSDATA_PREFIX\"] = os.path.join(conda_env_path, \"share\")\n",
        "    print(\"TESSDATA_PREFIX:\", os.environ[\"TESSDATA_PREFIX\"])\n",
        "\n",
        "    # Verifica se il percorso è corretto\n",
        "    if os.path.exists(tessdata_path):\n",
        "        print(f\"Tessdata directory found: {tessdata_path}\")\n",
        "    else:\n",
        "        print(f\"Tessdata directory not found: {tessdata_path}\")"
      ]
    },
    {
      "cell_type": "code",
      "source": [
        "PDF_NAME = \"Information Retrieval Slides.pdf\"\n",
        "if os.path.exists(PDF_NAME):\n",
        "    print(f\"File {PDF_NAME} already exists.\")\n",
        "else:\n",
        "    # save locally from https://drive.google.com/file/d/1xUA6_ZBJzWGF7kWpM1YZTK3R1siYg1qY/view?usp=drive_link\n",
        "    gdown.download(id=\"1xUA6_ZBJzWGF7kWpM1YZTK3R1siYg1qY\", output=PDF_NAME, quiet=False)\n",
        "\n",
        "    # download of pickled elements to speed up the execution\n",
        "    gdown.download(id=\"17eXYgmiTL9-f9F5vIT5j7QffHIu_QwuN\", output=\"elements.pkl\", quiet=False)\n",
        "\n",
        "# Logs into Hugging Face using the token\n",
        "login(token=HF_TOKEN)"
      ],
      "metadata": {
        "colab": {
          "base_uri": "https://localhost:8080/"
        },
        "id": "x9hQwckZHXHO",
        "outputId": "8a670905-192d-4dbc-a518-4a8eff0a3bba"
      },
      "execution_count": 6,
      "outputs": [
        {
          "output_type": "stream",
          "name": "stdout",
          "text": [
            "File Information Retrieval Slides.pdf already exists.\n"
          ]
        }
      ]
    },
    {
      "cell_type": "markdown",
      "metadata": {
        "id": "t_HRybt8S-Xp"
      },
      "source": [
        "## PDF Partitioning with Unstructured\n",
        "Processes the PDF using the `partition` function to extract structured elements.\n",
        "\n",
        "We decide to apply the **high-resolution strategy** because is highly sensitive, it is recommended if you want obtain precise classifications for document elements. Adopting this strategy we are able to use the document layout to gain additional information about document elements, in particular we are able to recognize:\n",
        "- **Titles** and **Text** (we use them as it is)\n",
        "- **Formulas** (we further process them)\n",
        "- **Images** (will be removed)\n",
        "- **Page Breaks** (fundamental to handle formulas and create chuncks)\n"
      ]
    },
    {
      "cell_type": "code",
      "execution_count": 7,
      "metadata": {
        "colab": {
          "base_uri": "https://localhost:8080/"
        },
        "id": "NpVjk7JfIoTh",
        "outputId": "c3b2fdfe-5a04-4dc3-d9ca-d63c9895cd21"
      },
      "outputs": [
        {
          "output_type": "stream",
          "name": "stdout",
          "text": [
            "Number of recognized elements: 4486 in file Information Retrieval Slides.pdf\n"
          ]
        }
      ],
      "source": [
        "from unstructured.partition.auto import partition\n",
        "from tqdm import tqdm\n",
        "import fitz  # PyMuPDF\n",
        "import pickle\n",
        "\n",
        "file_name = \"Information Retrieval Slides.pdf\"\n",
        "title = \"Information Retrieval\"\n",
        "\n",
        "load_elements_from_pickle = True\n",
        "elements = []\n",
        "\n",
        "if load_elements_from_pickle:\n",
        "    # Loading the pickled elements.\n",
        "    with open('elements.pkl', 'rb') as f:\n",
        "        elements = pickle.load(f)\n",
        "else:\n",
        "    # Apri il PDF\n",
        "    doc = fitz.open(file_name)  # Apri il PDF con PyMuPDF\n",
        "    total_pages = len(doc)\n",
        "\n",
        "    for page_number in tqdm(range(total_pages), desc=\"Processing PDF pages\"):\n",
        "        # Crea un nuovo documento con una sola pagina\n",
        "        temp_doc = fitz.open()  # Documento vuoto\n",
        "        temp_doc.insert_pdf(doc, from_page=page_number, to_page=page_number)\n",
        "\n",
        "        # Salva la singola pagina in un file temporaneo\n",
        "        temp_page_file = f\"temp_page_{page_number}.pdf\"\n",
        "        temp_doc.save(temp_page_file)\n",
        "        temp_doc.close()\n",
        "\n",
        "        # Applica `partition` sulla singola pagina\n",
        "        page_elements = partition(\n",
        "            filename=temp_page_file,\n",
        "            strategy=\"hi_res\",\n",
        "            skip_infer_table_types=[],\n",
        "            include_page_breaks=True,\n",
        "        )\n",
        "        elements.extend(page_elements)  # Aggiungi gli elementi alla lista totale\n",
        "\n",
        "    doc.close()  # Chiudi il documento principale\n",
        "\n",
        "# Stampa il numero totale di elementi\n",
        "print(\"Number of recognized elements: \" + str(len(elements)) + \" in file \" + file_name)\n"
      ]
    },
    {
      "cell_type": "markdown",
      "metadata": {
        "id": "CITylvMsd1Mf"
      },
      "source": [
        "Storing the elements in a pickle file.\n",
        "Snippet of code executed if needed."
      ]
    },
    {
      "cell_type": "code",
      "execution_count": 8,
      "metadata": {
        "id": "k_6QJqgxj4ou"
      },
      "outputs": [],
      "source": [
        "# to uncomment, now is commented cause we are downloading the pickled elements\n",
        "with open('elements.pkl', 'wb') as f:\n",
        "    pickle.dump(elements, f)"
      ]
    },
    {
      "cell_type": "markdown",
      "metadata": {
        "id": "MrfWUBRLfjAK"
      },
      "source": [
        "## Filtering and Analyzing Extracted Elements\n",
        "\n",
        "Here we build a **dataframe**, creating pairs of **Type** and **Value**, using the elements extracted from the PDF file.\n",
        "\n",
        "Then we print all the different element's Type recognized.\n",
        "\n"
      ]
    },
    {
      "cell_type": "code",
      "execution_count": 9,
      "metadata": {
        "colab": {
          "base_uri": "https://localhost:8080/"
        },
        "id": "MYMr613sfcqH",
        "outputId": "3e859562-9df3-4826-bec6-c52222ab312a"
      },
      "outputs": [
        {
          "output_type": "stream",
          "name": "stdout",
          "text": [
            "[<class 'unstructured.documents.elements.Title'>\n",
            " <class 'unstructured.documents.elements.EmailAddress'>\n",
            " <class 'unstructured.documents.elements.PageBreak'>\n",
            " <class 'unstructured.documents.elements.ListItem'>\n",
            " <class 'unstructured.documents.elements.NarrativeText'>\n",
            " <class 'unstructured.documents.elements.Image'>\n",
            " <class 'unstructured.documents.elements.FigureCaption'>\n",
            " <class 'unstructured.documents.elements.Table'>\n",
            " <class 'unstructured.documents.elements.Text'>\n",
            " <class 'unstructured.documents.elements.Footer'>\n",
            " <class 'unstructured.documents.elements.Formula'>\n",
            " <class 'unstructured.documents.elements.Header'>]\n"
          ]
        }
      ],
      "source": [
        "type_value_elements = []\n",
        "\n",
        "for i in range(len(elements)):\n",
        "  pair = [type(elements[i]), elements[i].text]\n",
        "  type_value_elements.append(pair)\n",
        "\n",
        "import pandas as pd\n",
        "df_elements = pd.DataFrame(type_value_elements, columns=['Type', 'Value'])\n",
        "\n",
        "# print all the different possible Type in the dataframe\n",
        "print(df_elements['Type'].unique())"
      ]
    },
    {
      "cell_type": "markdown",
      "metadata": {
        "id": "wpuoY63qTQy4"
      },
      "source": [
        "Now we clean the dataframe filtering out all the useless elements:\n",
        "- **Images** (for them we have a text extracted with OCR technique, but not very useful for the language model due to a loss of meaning)\n",
        "- **Email Addresses**\n",
        "- **Table** (similarly to the images they lost some meaning as they are extracted)\n",
        "- **Footers** and **Headers**\n"
      ]
    },
    {
      "cell_type": "code",
      "execution_count": 10,
      "metadata": {
        "colab": {
          "base_uri": "https://localhost:8080/"
        },
        "id": "Q6iG38ZWwv7L",
        "outputId": "9e5fe005-2af6-4a9a-9c07-448ca59fe2a5"
      },
      "outputs": [
        {
          "output_type": "stream",
          "name": "stdout",
          "text": [
            "Number of actual elements: 4486\n",
            "Number of elements after filtering: 4031\n",
            "[<class 'unstructured.documents.elements.Title'>\n",
            " <class 'unstructured.documents.elements.EmailAddress'>\n",
            " <class 'unstructured.documents.elements.PageBreak'>\n",
            " <class 'unstructured.documents.elements.ListItem'>\n",
            " <class 'unstructured.documents.elements.NarrativeText'>\n",
            " <class 'unstructured.documents.elements.FigureCaption'>\n",
            " <class 'unstructured.documents.elements.Text'>\n",
            " <class 'unstructured.documents.elements.Formula'>]\n"
          ]
        }
      ],
      "source": [
        "from unstructured.documents.elements import Image, EmailAddress, FigureCaption, Table, Footer, Header, PageBreak\n",
        "\n",
        "# print df number of rows\n",
        "print(\"Number of actual elements: \" + str(len(df_elements)))\n",
        "\n",
        "# drop all the rows with unuseful Types\n",
        "df_elements = df_elements[df_elements['Type'] != Image]\n",
        "#df_elements = df_elements[df_elements['Type'] != EmailAddress]\n",
        "df_elements = df_elements[df_elements['Type'] != Table]\n",
        "df_elements = df_elements[df_elements['Type'] != Footer]\n",
        "df_elements = df_elements[df_elements['Type'] != Header]\n",
        "df_elements = df_elements.drop(df_elements[(df_elements['Type'] != PageBreak) & (df_elements['Value'] == '')].index)\n",
        "\n",
        "# print df number of rows\n",
        "print(\"Number of elements after filtering: \" + str(len(df_elements)))\n",
        "\n",
        "# reassign the dataframe index\n",
        "df_elements = df_elements.reset_index(drop=True)\n",
        "\n",
        "# print all the different possible Type in the dataframe\n",
        "print(df_elements['Type'].unique())\n"
      ]
    },
    {
      "cell_type": "markdown",
      "metadata": {
        "id": "aswk1lwSlziI"
      },
      "source": [
        "Check if there are some empty-valued elements, that are not Page Breaks, in the dataframe."
      ]
    },
    {
      "cell_type": "code",
      "execution_count": 11,
      "metadata": {
        "colab": {
          "base_uri": "https://localhost:8080/"
        },
        "id": "7vBne_I70vij",
        "outputId": "92c45a48-3d99-42d8-f55e-51b3d4d6894a"
      },
      "outputs": [
        {
          "output_type": "stream",
          "name": "stdout",
          "text": [
            "0\n"
          ]
        }
      ],
      "source": [
        "# print rows of df_elements with bith Type != PageBreak and Value empty\n",
        "print(len(df_elements[(df_elements['Type'] != PageBreak) & (df_elements['Value'] == '')]))\n",
        "\n",
        "if len(df_elements[(df_elements['Type'] != PageBreak) & (df_elements['Value'] == '')]) > 0:\n",
        "  df_elements = df_elements.drop(df_elements[(df_elements['Type'] != PageBreak) & (df_elements['Value'] == '')].index)"
      ]
    },
    {
      "cell_type": "markdown",
      "metadata": {
        "id": "XCrkLBolTsQv"
      },
      "source": [
        "## Formulas Detection\n",
        "Here we identify and track pages containing formulas in the PDF.\n",
        "\n",
        "- `page_with_formula_indexes`: stores page indexes with formulas.\n",
        "- `number_of_formulas_per_page`: tracks the count of formulas per page.\n",
        "- `locations_with_formula_at_page`: stores locations of formulas in the DataFrame by page.\n"
      ]
    },
    {
      "cell_type": "code",
      "execution_count": 12,
      "metadata": {
        "colab": {
          "base_uri": "https://localhost:8080/"
        },
        "id": "0MfwVViHzSY4",
        "outputId": "f9e7dbae-109e-4a6a-82ea-3024cb5a7aa7"
      },
      "outputs": [
        {
          "output_type": "stream",
          "name": "stdout",
          "text": [
            "Pages with formulas indexes\n",
            "[89, 94, 95, 96, 97, 136, 142, 157, 160, 165, 168, 180, 181, 182, 184, 187, 189, 193, 194, 203, 208, 210]\n",
            "Number of pages with at least one formula: 22\n"
          ]
        }
      ],
      "source": [
        "from unstructured.documents.elements import Formula, PageBreak\n",
        "\n",
        "page_with_formula_indexes = []\n",
        "\n",
        "# dictionary to store the number of formula for each page\n",
        "number_of_formulas_per_page = {}\n",
        "locations_with_formula_at_page = {}\n",
        "\n",
        "index = 0  # first page -> index = 0\n",
        "\n",
        "# iterate over df_elements\n",
        "for i in range(len(df_elements)):\n",
        "  if df_elements.iloc[i]['Type'] == PageBreak:\n",
        "    index += 1\n",
        "  if df_elements.iloc[i]['Type'] == Formula: #or df_elements.iloc[i]['Type'] == Image:\n",
        "    # saving in dictionary the dataframe locations with formula/image for that page\n",
        "    if index not in locations_with_formula_at_page:\n",
        "      locations_with_formula_at_page[index] = [i]\n",
        "    else:\n",
        "      locations_with_formula_at_page[index].append(i)\n",
        "    # saving in dictionary the number of formula/image for that page\n",
        "    if index not in number_of_formulas_per_page:\n",
        "      number_of_formulas_per_page[index] = 1\n",
        "    else:\n",
        "      number_of_formulas_per_page[index] += 1\n",
        "    if index not in page_with_formula_indexes:\n",
        "      page_with_formula_indexes.append(index)\n",
        "\n",
        "print(\"Pages with formulas indexes\")\n",
        "print(page_with_formula_indexes)\n",
        "print(\"Number of pages with at least one formula: \" + str(len(page_with_formula_indexes)))"
      ]
    },
    {
      "cell_type": "markdown",
      "metadata": {
        "id": "U0oMEuCOT0H2"
      },
      "source": [
        "## Loading Nougat Model and Processor\n",
        "This code initializes the `Nougat` model and its processor for handling vision-to-text tasks.\n"
      ]
    },
    {
      "cell_type": "code",
      "execution_count": 13,
      "metadata": {
        "colab": {
          "base_uri": "https://localhost:8080/"
        },
        "id": "Cg829A_tB-7B",
        "outputId": "aad37c0a-a615-4469-a4b6-dd348ed47822"
      },
      "outputs": [
        {
          "output_type": "stream",
          "name": "stdout",
          "text": [
            "Using device: cuda\n"
          ]
        }
      ],
      "source": [
        "import torch\n",
        "\n",
        "device = torch.device(\"cuda\" if torch.cuda.is_available() else \"mps\" if torch.backends.mps.is_available() else \"cpu\")\n",
        "print(f\"Using device: {device}\")"
      ]
    },
    {
      "cell_type": "code",
      "execution_count": 14,
      "metadata": {
        "colab": {
          "base_uri": "https://localhost:8080/"
        },
        "id": "3nbSNe7WOJ-B",
        "outputId": "f377f377-3cdb-45e4-a251-c8afa7f5f109"
      },
      "outputs": [
        {
          "output_type": "stream",
          "name": "stderr",
          "text": [
            "Config of the encoder: <class 'transformers.models.donut.modeling_donut_swin.DonutSwinModel'> is overwritten by shared encoder config: DonutSwinConfig {\n",
            "  \"attention_probs_dropout_prob\": 0.0,\n",
            "  \"depths\": [\n",
            "    2,\n",
            "    2,\n",
            "    14,\n",
            "    2\n",
            "  ],\n",
            "  \"drop_path_rate\": 0.1,\n",
            "  \"embed_dim\": 128,\n",
            "  \"hidden_act\": \"gelu\",\n",
            "  \"hidden_dropout_prob\": 0.0,\n",
            "  \"hidden_size\": 1024,\n",
            "  \"image_size\": [\n",
            "    896,\n",
            "    672\n",
            "  ],\n",
            "  \"initializer_range\": 0.02,\n",
            "  \"layer_norm_eps\": 1e-05,\n",
            "  \"mlp_ratio\": 4.0,\n",
            "  \"model_type\": \"donut-swin\",\n",
            "  \"num_channels\": 3,\n",
            "  \"num_heads\": [\n",
            "    4,\n",
            "    8,\n",
            "    16,\n",
            "    32\n",
            "  ],\n",
            "  \"num_layers\": 4,\n",
            "  \"patch_size\": 4,\n",
            "  \"qkv_bias\": true,\n",
            "  \"transformers_version\": \"4.47.1\",\n",
            "  \"use_absolute_embeddings\": false,\n",
            "  \"window_size\": 7\n",
            "}\n",
            "\n",
            "Config of the decoder: <class 'transformers.models.mbart.modeling_mbart.MBartForCausalLM'> is overwritten by shared decoder config: MBartConfig {\n",
            "  \"activation_dropout\": 0.0,\n",
            "  \"activation_function\": \"gelu\",\n",
            "  \"add_cross_attention\": true,\n",
            "  \"add_final_layer_norm\": true,\n",
            "  \"attention_dropout\": 0.0,\n",
            "  \"bos_token_id\": 0,\n",
            "  \"classifier_dropout\": 0.0,\n",
            "  \"d_model\": 1024,\n",
            "  \"decoder_attention_heads\": 16,\n",
            "  \"decoder_ffn_dim\": 4096,\n",
            "  \"decoder_layerdrop\": 0.0,\n",
            "  \"decoder_layers\": 4,\n",
            "  \"dropout\": 0.1,\n",
            "  \"encoder_attention_heads\": 16,\n",
            "  \"encoder_ffn_dim\": 4096,\n",
            "  \"encoder_layerdrop\": 0.0,\n",
            "  \"encoder_layers\": 12,\n",
            "  \"eos_token_id\": 2,\n",
            "  \"forced_eos_token_id\": 2,\n",
            "  \"init_std\": 0.02,\n",
            "  \"is_decoder\": true,\n",
            "  \"is_encoder_decoder\": false,\n",
            "  \"max_position_embeddings\": 3584,\n",
            "  \"model_type\": \"mbart\",\n",
            "  \"num_hidden_layers\": 12,\n",
            "  \"pad_token_id\": 1,\n",
            "  \"scale_embedding\": true,\n",
            "  \"tie_word_embeddings\": false,\n",
            "  \"transformers_version\": \"4.47.1\",\n",
            "  \"use_cache\": true,\n",
            "  \"vocab_size\": 50000\n",
            "}\n",
            "\n"
          ]
        }
      ],
      "source": [
        "from transformers import AutoProcessor, VisionEncoderDecoderModel\n",
        "\n",
        "# Load the Nougat model and processor from the hub\n",
        "processor = AutoProcessor.from_pretrained(\"facebook/nougat-small\")\n",
        "model = VisionEncoderDecoderModel.from_pretrained(\"facebook/nougat-small\").to(device)"
      ]
    },
    {
      "cell_type": "markdown",
      "metadata": {
        "id": "_-kir2LhnYNV"
      },
      "source": [
        "The following block of code is taken from the example at this link from `Nougat` GitHub: https://github.com/inuwamobarak/nougat/blob/main/Nougat_Inference_to_read_scientific_PDFs.ipynb"
      ]
    },
    {
      "cell_type": "code",
      "execution_count": 15,
      "metadata": {
        "id": "tqOHNo0IOg5F"
      },
      "outputs": [],
      "source": [
        "from typing import Optional, List\n",
        "import io\n",
        "import fitz\n",
        "from pathlib import Path\n",
        "\n",
        "def rasterize_paper(\n",
        "    pdf: Path,\n",
        "    outpath: Optional[Path] = None,\n",
        "    dpi: int = 96,\n",
        "    return_pil=False,\n",
        "    pages=None,\n",
        ") -> Optional[List[io.BytesIO]]:\n",
        "    \"\"\"\n",
        "    Rasterize a PDF file to PNG images.\n",
        "\n",
        "    Args:\n",
        "        pdf (Path): The path to the PDF file.\n",
        "        outpath (Optional[Path], optional): The output directory. If None, the PIL images will be returned instead. Defaults to None.\n",
        "        dpi (int, optional): The output DPI. Defaults to 96.\n",
        "        return_pil (bool, optional): Whether to return the PIL images instead of writing them to disk. Defaults to False.\n",
        "        pages (Optional[List[int]], optional): The pages to rasterize. If None, all pages will be rasterized. Defaults to None.\n",
        "\n",
        "    Returns:\n",
        "        Optional[List[io.BytesIO]]: The PIL images if `return_pil` is True, otherwise None.\n",
        "    \"\"\"\n",
        "\n",
        "    pillow_images = []\n",
        "    if outpath is None:\n",
        "        return_pil = True\n",
        "    try:\n",
        "        if isinstance(pdf, (str, Path)):\n",
        "            pdf = fitz.open(pdf)\n",
        "        if pages is None:\n",
        "            pages = range(len(pdf))\n",
        "        for i in pages:\n",
        "            page_bytes: bytes = pdf[i].get_pixmap(dpi=dpi).pil_tobytes(format=\"PNG\")\n",
        "            if return_pil:\n",
        "                pillow_images.append(io.BytesIO(page_bytes))\n",
        "            else:\n",
        "                with (outpath / (\"%02d.png\" % (i + 1))).open(\"wb\") as f:\n",
        "                    f.write(page_bytes)\n",
        "    except Exception:\n",
        "        pass\n",
        "    if return_pil:\n",
        "        return pillow_images"
      ]
    },
    {
      "cell_type": "markdown",
      "metadata": {
        "id": "0ecUN7fpUbDW"
      },
      "source": [
        "## Rasterizing PDF Pages for Formula Processing\n",
        "Now we extract and process specific pages containing formulas from a PDF.\n",
        "\n",
        "In particular the processing is made in order to obtain the rasterized **images of specific pages** of the PDF file.\n"
      ]
    },
    {
      "cell_type": "code",
      "execution_count": 16,
      "metadata": {
        "colab": {
          "base_uri": "https://localhost:8080/",
          "height": 1000
        },
        "id": "HsUOqxkAOlrB",
        "outputId": "8eecd641-43c4-4e2e-a894-f79b4eadddf0"
      },
      "outputs": [
        {
          "output_type": "stream",
          "name": "stdout",
          "text": [
            "Number of processed pages: 22\n"
          ]
        },
        {
          "output_type": "execute_result",
          "data": {
            "text/plain": [
              "<PIL.PngImagePlugin.PngImageFile image mode=RGB size=1366x1024>"
            ],
            "image/png": "[encoded data removed]",
            "image/jpeg": "[encoded data removed]"
          },
          "metadata": {},
          "execution_count": 16
        }
      ],
      "source": [
        "from huggingface_hub import hf_hub_download\n",
        "from typing import Optional, List\n",
        "import io\n",
        "import fitz\n",
        "from pathlib import Path\n",
        "from PIL import Image\n",
        "\n",
        "#file_name = \"Information Retrieval Slides\"\n",
        "\n",
        "images = rasterize_paper(pdf=file_name, return_pil=True, pages=page_with_formula_indexes)\n",
        "\n",
        "print(\"Number of processed pages: \" + str(len(images)))\n",
        "\n",
        "# Display the first image\n",
        "image = Image.open(images[0])\n",
        "image\n"
      ]
    },
    {
      "cell_type": "markdown",
      "metadata": {
        "id": "7YKtCG0vn_JB"
      },
      "source": [
        "The following block of code is taken from the example at this link from `Nougat` GitHub: https://github.com/inuwamobarak/nougat/blob/main/Nougat_Inference_to_read_scientific_PDFs.ipynb"
      ]
    },
    {
      "cell_type": "code",
      "execution_count": 17,
      "metadata": {
        "id": "eSNBbMwmRav-"
      },
      "outputs": [],
      "source": [
        "from transformers import StoppingCriteria, StoppingCriteriaList\n",
        "from collections import defaultdict\n",
        "\n",
        "class RunningVarTorch:\n",
        "    def __init__(self, L=15, norm=False):\n",
        "        self.values = None\n",
        "        self.L = L\n",
        "        self.norm = norm\n",
        "\n",
        "    def push(self, x: torch.Tensor):\n",
        "        assert x.dim() == 1\n",
        "        if self.values is None:\n",
        "            self.values = x[:, None]\n",
        "        elif self.values.shape[1] < self.L:\n",
        "            self.values = torch.cat((self.values, x[:, None]), 1)\n",
        "        else:\n",
        "            self.values = torch.cat((self.values[:, 1:], x[:, None]), 1)\n",
        "\n",
        "    def variance(self):\n",
        "        if self.values is None:\n",
        "            return\n",
        "        if self.norm:\n",
        "            return torch.var(self.values, 1) / self.values.shape[1]\n",
        "        else:\n",
        "            return torch.var(self.values, 1)\n",
        "\n",
        "\n",
        "class StoppingCriteriaScores(StoppingCriteria):\n",
        "    def __init__(self, threshold: float = 0.015, window_size: int = 200):\n",
        "        super().__init__()\n",
        "        self.threshold = threshold\n",
        "        self.vars = RunningVarTorch(norm=True)\n",
        "        self.varvars = RunningVarTorch(L=window_size)\n",
        "        self.stop_inds = defaultdict(int)\n",
        "        self.stopped = defaultdict(bool)\n",
        "        self.size = 0\n",
        "        self.window_size = window_size\n",
        "\n",
        "    @torch.no_grad()\n",
        "    def __call__(self, input_ids: torch.LongTensor, scores: torch.FloatTensor):\n",
        "        last_scores = scores[-1]\n",
        "        self.vars.push(last_scores.max(1)[0].float().cpu())\n",
        "        self.varvars.push(self.vars.variance())\n",
        "        self.size += 1\n",
        "        if self.size < self.window_size:\n",
        "            return False\n",
        "\n",
        "        varvar = self.varvars.variance()\n",
        "        for b in range(len(last_scores)):\n",
        "            if varvar[b] < self.threshold:\n",
        "                if self.stop_inds[b] > 0 and not self.stopped[b]:\n",
        "                    self.stopped[b] = self.stop_inds[b] >= self.size\n",
        "                else:\n",
        "                    self.stop_inds[b] = int(\n",
        "                        min(max(self.size, 1) * 1.15 + 150 + self.window_size, 4095)\n",
        "                    )\n",
        "            else:\n",
        "                self.stop_inds[b] = 0\n",
        "                self.stopped[b] = False\n",
        "        return all(self.stopped.values()) and len(self.stopped) > 0"
      ]
    },
    {
      "cell_type": "markdown",
      "metadata": {
        "id": "VWaiM67tUqJP"
      },
      "source": [
        "## Generating Outputs from Processed Images\n",
        "Once we obtained an image for each page containing at least a formula, we can generate text outputs from images using the `Nougat` model.\n",
        "\n",
        "- `outputs` is the list to store generated text for each image\n",
        "- The **image processing** converts images into tensor format using the `processor`.\n",
        "- For the **text generation** the tensor is passed to the model's `generate` method.\n",
        "\n",
        "Note that this block require a compatible GPU, for efficient processing, indicated by `device`.\n",
        "\n"
      ]
    },
    {
      "cell_type": "code",
      "execution_count": 18,
      "metadata": {
        "colab": {
          "base_uri": "https://localhost:8080/"
        },
        "id": "iN5jpxO9RikU",
        "outputId": "d1eb34c6-db5c-4dfa-f422-0d667f1316ee"
      },
      "outputs": [
        {
          "output_type": "stream",
          "name": "stderr",
          "text": [
            "<ipython-input-17-1f2d56ef631f>:23: UserWarning: var(): degrees of freedom is <= 0. Correction should be strictly less than the reduction factor (input numel divided by output numel). (Triggered internally at ../aten/src/ATen/native/ReduceOps.cpp:1823.)\n",
            "  return torch.var(self.values, 1) / self.values.shape[1]\n"
          ]
        }
      ],
      "source": [
        "outputs = []\n",
        "\n",
        "for i in range(len(images)):\n",
        "\n",
        "  image = Image.open(images[i])\n",
        "\n",
        "  pixel_values = processor(images=image, return_tensors=\"pt\").pixel_values\n",
        "\n",
        "  outputs.append(\n",
        "        model.generate(\n",
        "        pixel_values.to(device),\n",
        "        min_length=1,\n",
        "        max_length=3584,\n",
        "        bad_words_ids=[[processor.tokenizer.unk_token_id]],\n",
        "        return_dict_in_generate=True,\n",
        "        output_scores=True,\n",
        "        stopping_criteria=StoppingCriteriaList([StoppingCriteriaScores()]),\n",
        "    )\n",
        "  )"
      ]
    },
    {
      "cell_type": "markdown",
      "metadata": {
        "id": "IOV3yrN0UxWm"
      },
      "source": [
        "This function extracts LaTeX formulas enclosed within `\\[ \\]` from a given text."
      ]
    },
    {
      "cell_type": "code",
      "execution_count": 19,
      "metadata": {
        "id": "sguJDMp_dW2-"
      },
      "outputs": [],
      "source": [
        "def formulas_extraction(latex_text):\n",
        "    \"\"\"\n",
        "    Extracts all substrings that start with '\\[' and end with '\\]' and returns them as a list.\n",
        "    \"\"\"\n",
        "    # The pattern looks for:\n",
        "    #   - literal \"\\[\"\n",
        "    #   - any characters, non-greedily (.*?)\n",
        "    #   - literal \"\\]\"\n",
        "    pattern = r\"(\\\\\\[.*?\\\\\\])\"\n",
        "\n",
        "    matches = re.findall(pattern, latex_text)\n",
        "\n",
        "    return matches"
      ]
    },
    {
      "cell_type": "markdown",
      "metadata": {
        "id": "aH1-7NgCVMY9"
      },
      "source": [
        "# Post-Processing Generated Formulas\n",
        "Now we are able to process the generated LaTeX formulas for each page and update the corresponding DataFrame entries.\n",
        "\n",
        "- **Purpose:**\n",
        "  - Ensures that the number of extracted formulas matches the expected count per page.\n",
        "  - Handles cases where formulas are fewer or greater than expected.\n",
        "\n",
        "- **Workflow:**\n",
        "  1. **Formula Extraction:**\n",
        "     - Decodes the generated text and extracts formulas using `formulas_extraction`.\n",
        "  2. **Case Handling:**\n",
        "     - **No extracted Formulas:** if no formulas extracted by `Nougat` we can keep the formulas as extracted by `Unstructure`.\n",
        "     - **Fewer extracted Formulas:** concatenate formulas extracted by `Nougat` into a single string and update the first location in the DataFrame, marking others as `REMOVING_STR`.\n",
        "     - **More extracted Formulas:** concatenate and store in the first location, similar to fewer formulas.\n",
        "     - **Matching Formulas:** update the DataFrame with extracted formulas directly.\n",
        "\n",
        "Note that we give priority to `Nougat` formulas, if extracred, due to a more precise and correct representation.\n"
      ]
    },
    {
      "cell_type": "code",
      "execution_count": 20,
      "metadata": {
        "colab": {
          "base_uri": "https://localhost:8080/"
        },
        "id": "naZPcO6_RnCT",
        "outputId": "7f2b51d5-0a25-4452-8da7-e31918ba43cd"
      },
      "outputs": [
        {
          "output_type": "stream",
          "name": "stdout",
          "text": [
            "Cases ok: 11\n",
            "Cases not improved: 2\n",
            "Cases under expected: 7\n",
            "Cases over expected: 2\n"
          ]
        }
      ],
      "source": [
        "from tkinter.constants import E\n",
        "from unstructured.documents.elements import Title, NarrativeText, Image, Formula, PageBreak\n",
        "\n",
        "cases_ok = 0\n",
        "cases_not_improved = 0\n",
        "cases_under_expected = 0\n",
        "cases_over_expected = 0\n",
        "\n",
        "old_dataframe = df_elements.copy()\n",
        "old_formulas = []\n",
        "new_formulas = []\n",
        "\n",
        "REMOVING_STR = \"LOC_TO_BE_REMOVED\"\n",
        "\n",
        "for i in range(len(outputs)):\n",
        "\n",
        "  page_index = page_with_formula_indexes[i]\n",
        "\n",
        "  generated = processor.batch_decode(outputs[i][0], skip_special_tokens=True)[0]\n",
        "  generated = processor.post_process_generation(generated, fix_markdown=False)\n",
        "\n",
        "  formulas = formulas_extraction(generated)\n",
        "\n",
        "  if len(formulas) == 0:\n",
        "    cases_not_improved += 1\n",
        "    continue\n",
        "\n",
        "  num_over_expected = number_of_formulas_per_page[page_index] - len(formulas)\n",
        "\n",
        "  if num_over_expected < 0:\n",
        "\n",
        "    cases_under_expected += 1\n",
        "\n",
        "    # concatenate all elements in formulas in a unique string\n",
        "    concatenated_formulas = \" \".join(formulas)\n",
        "\n",
        "    for j in range(number_of_formulas_per_page[page_index]):\n",
        "      if j == 0:\n",
        "        df_elements.at[locations_with_formula_at_page[page_index][j], 'Value'] = concatenated_formulas\n",
        "      else:\n",
        "        df_elements.at[locations_with_formula_at_page[page_index][j], 'Value'] = REMOVING_STR\n",
        "\n",
        "  elif num_over_expected > 0:\n",
        "\n",
        "    cases_over_expected += 1\n",
        "\n",
        "    # concatenate all elements in formulas in a unique string\n",
        "    concatenated_formulas = \" \".join(formulas)\n",
        "\n",
        "    for j in range(number_of_formulas_per_page[page_index]):\n",
        "      if j == 0:\n",
        "        df_elements.at[locations_with_formula_at_page[page_index][j], 'Value'] = concatenated_formulas\n",
        "      else:\n",
        "        df_elements.at[locations_with_formula_at_page[page_index][j], 'Value'] = REMOVING_STR\n",
        "\n",
        "  else:\n",
        "    cases_ok += 1\n",
        "    for j in range(number_of_formulas_per_page[page_index]):\n",
        "      df_elements.at[locations_with_formula_at_page[page_index][j], 'Value'] = formulas[j]\n",
        "      old_formulas.append(formulas[j])\n",
        "      new_formulas.append(df_elements.at[locations_with_formula_at_page[page_index][j], 'Value'])\n",
        "\n",
        "print(\"Cases ok: \" + str(cases_ok))\n",
        "print(\"Cases not improved: \" + str(cases_not_improved))\n",
        "print(\"Cases under expected: \" + str(cases_under_expected))\n",
        "print(\"Cases over expected: \" + str(cases_over_expected))"
      ]
    },
    {
      "cell_type": "code",
      "execution_count": 21,
      "metadata": {
        "colab": {
          "base_uri": "https://localhost:8080/"
        },
        "id": "Th6FmpxeDkT-",
        "outputId": "453c7e73-49e3-4b69-8833-ba089e591834"
      },
      "outputs": [
        {
          "output_type": "stream",
          "name": "stdout",
          "text": [
            "                                                   Type              Value\n",
            "2513  <class 'unstructured.documents.elements.Formula'>  LOC_TO_BE_REMOVED\n",
            "2564  <class 'unstructured.documents.elements.Formula'>  LOC_TO_BE_REMOVED\n",
            "2570  <class 'unstructured.documents.elements.Formula'>  LOC_TO_BE_REMOVED\n"
          ]
        }
      ],
      "source": [
        "# print df row with value REMOVING_STR\n",
        "print(df_elements[df_elements['Value'] == REMOVING_STR])"
      ]
    },
    {
      "cell_type": "code",
      "execution_count": 22,
      "metadata": {
        "colab": {
          "base_uri": "https://localhost:8080/"
        },
        "id": "sb0VrXlkEaUe",
        "outputId": "3ca4ceb6-63c7-48c7-d542-bf48013a163f"
      },
      "outputs": [
        {
          "output_type": "stream",
          "name": "stdout",
          "text": [
            "Empty DataFrame\n",
            "Columns: [Type, Value]\n",
            "Index: []\n"
          ]
        }
      ],
      "source": [
        "# drop df row with value REMOVING_STR\n",
        "df_elements = df_elements[df_elements['Value'] != REMOVING_STR]\n",
        "\n",
        "# reset index\n",
        "df_elements = df_elements.reset_index(drop=True)\n",
        "\n",
        "print(df_elements[df_elements['Value'] == REMOVING_STR])"
      ]
    },
    {
      "cell_type": "code",
      "execution_count": 23,
      "metadata": {
        "colab": {
          "base_uri": "https://localhost:8080/"
        },
        "id": "I3-AQ1lufDA4",
        "outputId": "68312c37-5ba0-4772-9487-57424ca57e23"
      },
      "outputs": [
        {
          "output_type": "stream",
          "name": "stdout",
          "text": [
            "                                                   Type  \\\n",
            "964   <class 'unstructured.documents.elements.Formula'>   \n",
            "1021  <class 'unstructured.documents.elements.Formula'>   \n",
            "1025  <class 'unstructured.documents.elements.Formula'>   \n",
            "1041  <class 'unstructured.documents.elements.Formula'>   \n",
            "1047  <class 'unstructured.documents.elements.Formula'>   \n",
            "1061  <class 'unstructured.documents.elements.Formula'>   \n",
            "1958  <class 'unstructured.documents.elements.Formula'>   \n",
            "2069  <class 'unstructured.documents.elements.Formula'>   \n",
            "2300  <class 'unstructured.documents.elements.Formula'>   \n",
            "2305  <class 'unstructured.documents.elements.Formula'>   \n",
            "2335  <class 'unstructured.documents.elements.Formula'>   \n",
            "2338  <class 'unstructured.documents.elements.Formula'>   \n",
            "2375  <class 'unstructured.documents.elements.Formula'>   \n",
            "2401  <class 'unstructured.documents.elements.Formula'>   \n",
            "2506  <class 'unstructured.documents.elements.Formula'>   \n",
            "2529  <class 'unstructured.documents.elements.Formula'>   \n",
            "2541  <class 'unstructured.documents.elements.Formula'>   \n",
            "2556  <class 'unstructured.documents.elements.Formula'>   \n",
            "2593  <class 'unstructured.documents.elements.Formula'>   \n",
            "2611  <class 'unstructured.documents.elements.Formula'>   \n",
            "2623  <class 'unstructured.documents.elements.Formula'>   \n",
            "2666  <class 'unstructured.documents.elements.Formula'>   \n",
            "2681  <class 'unstructured.documents.elements.Formula'>   \n",
            "2773  <class 'unstructured.documents.elements.Formula'>   \n",
            "2828  <class 'unstructured.documents.elements.Formula'>   \n",
            "2838  <class 'unstructured.documents.elements.Formula'>   \n",
            "2841  <class 'unstructured.documents.elements.Formula'>   \n",
            "2843  <class 'unstructured.documents.elements.Formula'>   \n",
            "\n",
            "                                                  Value  \n",
            "964          \\[J(A,B)=\\frac{|A\\cap B\\,|}{|A\\cup B\\,|}\\]  \n",
            "1021  \\[w_{t,d}=\\begin{cases}1+\\log(tf_{t,d})&\\text{...  \n",
            "1025  \\[s(q,d)=\\sum_{t\\in q\\cap d}\\left(1+\\log(tf_{t...  \n",
            "1041  \\[t=\\text{insurance}\\quad F_{t}=10440\\qquad df...  \n",
            "1047                   \\[idf_{t}=\\log\\frac{N}{df_{t}}\\]  \n",
            "1061  \\[w_{t,d}=\\begin{cases}1+\\log(tf_{t,d})&\\text{...  \n",
            "1958  \\[AUC=\\sum_{n=1}^{N}P\\text{\\text@}n\\big{(}R\\te...  \n",
            "2069  \\[RBP@k=(1-p)\\sum_{i=1}^{k}p^{i-1}r_{i}=(1-p)\\...  \n",
            "2300                       \\[P(n,r)=\\frac{n!}{(n-r)!}\\]  \n",
            "2305   \\[C(n,r)=\\frac{P(n,r)}{r!}=\\frac{n!}{r!(n-r)!}\\]  \n",
            "2335      n for all i ≠ j, Ai ∩ Aj = ∅ and ⋃ Ai = S i=1  \n",
            "2338                      n P(B) = ∑ P(B | Ai)P(Ai) i=1  \n",
            "2375  \\[Var(X)=E\\big{[}(X-E[X]^{2}\\big{]}=E\\big{[}X^...  \n",
            "2401      \\[P(X=x)=\\sum_{i=1}^{k}P(C=i)P(X=x\\,|\\,C=i)\\]  \n",
            "2506  \\[E[R_{k}]=r\\sum_{i=1}^{k}P(r\\,|\\,d_{i},q)+\\ba...  \n",
            "2529  • Maximises also expected precision at : k E[P...  \n",
            "2541  \\[P(r\\left|\\,d,q)=\\begin{cases}\\frac{2}{3}\\tex...  \n",
            "2556  \\[P(r\\,|\\,d,q)=\\frac{P(d\\,|\\,r,q)P(r)}{P(d)}\\]...  \n",
            "2593                       \\[O(E)=\\frac{P(E)}{1-P(E)}\\]  \n",
            "2611  \\[O(r\\,|\\,x,q)=O(r\\,|\\,q)\\prod_{i=1}^{n}\\frac{...  \n",
            "2623  \\[O(r\\,|\\,x,q)=O(r\\,|\\,q)\\prod_{x_{i}=1}\\frac{...  \n",
            "2666  \\[p_{i}=P(x_{i}=1\\mid r,q)=\\frac{r_{i}+0.5}{R+...  \n",
            "2681  \\[c_{i}=\\log\\frac{p_{i}(1-r_{i})}{r_{i}(1-p_{i...  \n",
            "2773  \\[c_{i}^{\\text{elite}}(tf_{i})=\\log\\frac{P(tf_...  \n",
            "2828  \\[tf_{i}^{\\prime}(d_{j})=tf_{i}(d_{j})\\frac{av...  \n",
            "2838  \\[tf_{i}^{\\prime}(d_{j})=\\frac{tf_{i}^{\\prime}...  \n",
            "2841  \\[c_{i}^{\\text{BM25}}(tf_{i},d_{j})=c_{i}^{\\te...  \n",
            "2843  \\[RSV^{\\text{BM25}}(q,d)=\\sum_{t_{i}\\in q}\\fra...  \n"
          ]
        }
      ],
      "source": [
        "from unstructured.documents.elements import Formula\n",
        "\n",
        "# print df_elements for rows with Type Formula\n",
        "print(df_elements[df_elements['Type'].isin([Formula])])"
      ]
    },
    {
      "cell_type": "markdown",
      "metadata": {
        "id": "xEXuB0xZVgi5"
      },
      "source": [
        "Here we clean up the `df_elements` DataFrame by removing consecutive duplicate rows while keeping the first occurrence.\n"
      ]
    },
    {
      "cell_type": "code",
      "execution_count": 24,
      "metadata": {
        "colab": {
          "base_uri": "https://localhost:8080/"
        },
        "id": "KBJg2MZ3QH1t",
        "outputId": "0b1e6fc8-23e6-46d3-b80c-ac96cd4e23bf"
      },
      "outputs": [
        {
          "output_type": "stream",
          "name": "stdout",
          "text": [
            "Number of elements before removing adjacent duplicates: 4028\n",
            "Number of elements after removing adjacent duplicates: 3792\n"
          ]
        }
      ],
      "source": [
        "print(\"Number of elements before removing adjacent duplicates: \" + str(len(df_elements)))\n",
        "\n",
        "# drop adjacent duplicates in the df_elements mantaining the first one\n",
        "df_elements = df_elements.loc[df_elements.shift().ne(df_elements).any(axis=1)]\n",
        "\n",
        "# reset index\n",
        "df_elements = df_elements.reset_index(drop=True)\n",
        "\n",
        "print(\"Number of elements after removing adjacent duplicates: \" + str(len(df_elements)))"
      ]
    },
    {
      "cell_type": "code",
      "execution_count": 25,
      "metadata": {
        "colab": {
          "base_uri": "https://localhost:8080/"
        },
        "id": "g_33-bMTulyW",
        "outputId": "4a7b7045-1d6a-4b34-f498-9d7bbacacdad"
      },
      "outputs": [
        {
          "output_type": "stream",
          "name": "stdout",
          "text": [
            "322\n"
          ]
        }
      ],
      "source": [
        "from unstructured.documents.elements import PageBreak\n",
        "\n",
        "# count the number of rows with Type PageBreak\n",
        "print(len(df_elements[df_elements['Type'] == PageBreak]))"
      ]
    },
    {
      "cell_type": "code",
      "execution_count": 26,
      "metadata": {
        "colab": {
          "base_uri": "https://localhost:8080/"
        },
        "id": "8vMk0-oV-_1B",
        "outputId": "457a9043-347b-4f33-81e6-75f583435b2f"
      },
      "outputs": [
        {
          "output_type": "stream",
          "name": "stderr",
          "text": [
            "[nltk_data] Downloading package punkt_tab to /root/nltk_data...\n",
            "[nltk_data]   Package punkt_tab is already up-to-date!\n"
          ]
        }
      ],
      "source": [
        "from nltk.tokenize import word_tokenize\n",
        "import nltk\n",
        "nltk.download('punkt_tab')\n",
        "\n",
        "def count_tokens(text):\n",
        "  return len(word_tokenize(text))"
      ]
    },
    {
      "cell_type": "markdown",
      "metadata": {
        "id": "v598nbR51juB"
      },
      "source": [
        "Here we compute some statistics regarding the number of tokens in the pages."
      ]
    },
    {
      "cell_type": "code",
      "execution_count": 27,
      "metadata": {
        "colab": {
          "base_uri": "https://localhost:8080/"
        },
        "id": "HpV8q_skMHGl",
        "outputId": "532884f6-52c5-4aba-aa8f-3bf52d2c06b5"
      },
      "outputs": [
        {
          "output_type": "stream",
          "name": "stdout",
          "text": [
            "Max tokens: 558\n",
            "Min tokens: 1\n",
            "Avg tokens: 79.6583850931677\n"
          ]
        }
      ],
      "source": [
        "# compute the max, the min and the average number of tokens in a page\n",
        "# by concatenating elements of the dataframe between consecutive page breaks\n",
        "\n",
        "num_token_per_page = []\n",
        "\n",
        "current_page = \"\"\n",
        "current_page_tokens = 0\n",
        "\n",
        "for i in range(len(df_elements)):\n",
        "  if df_elements.iloc[i]['Type'] != PageBreak:\n",
        "    current_page += df_elements.iloc[i]['Value']\n",
        "    current_page_tokens = count_tokens(current_page)\n",
        "    #current_page_tokens += count_tokens(df_elements.iloc[i]['Value'])\n",
        "  else:\n",
        "    num_token_per_page.append(current_page_tokens)\n",
        "    current_page = \"\"\n",
        "    current_page_tokens = 0\n",
        "\n",
        "print(\"Max tokens: \" + str(max(num_token_per_page)))\n",
        "print(\"Min tokens: \" + str(min(num_token_per_page)))\n",
        "print(\"Avg tokens: \" + str(sum(num_token_per_page)/len(num_token_per_page)))"
      ]
    },
    {
      "cell_type": "code",
      "execution_count": 28,
      "metadata": {
        "colab": {
          "base_uri": "https://localhost:8080/",
          "height": 487
        },
        "id": "8SttzqQSMhxG",
        "outputId": "f52ce6c5-c27d-4c80-f9f8-4b6f85cf00c2"
      },
      "outputs": [
        {
          "output_type": "display_data",
          "data": {
            "text/plain": [
              "<Figure size 900x500 with 1 Axes>"
            ],
            "image/png": "[encoded data removed]"
          },
          "metadata": {}
        }
      ],
      "source": [
        "# plot the distribution of number of tokens per page showing the mean\n",
        "import matplotlib.pyplot as plt\n",
        "import numpy as np\n",
        "\n",
        "# Calculate mean\n",
        "mean_tokens = np.mean(num_token_per_page)\n",
        "\n",
        "# Create the plot\n",
        "plt.figure(figsize=(9, 5))\n",
        "plt.hist(num_token_per_page, bins=10, edgecolor='black', alpha=0.5)\n",
        "plt.axvline(mean_tokens, color='red', linestyle='dashed', linewidth=1, label=f'Mean = {mean_tokens:.2f}')\n",
        "plt.title('Distribution of Number of Tokens per Page')\n",
        "plt.xlabel('Number of Tokens')\n",
        "plt.ylabel('Frequency')\n",
        "plt.legend()\n",
        "plt.grid(axis='y', linestyle='--', alpha=0.7)\n",
        "\n",
        "plt.show()\n"
      ]
    },
    {
      "cell_type": "markdown",
      "metadata": {
        "id": "KE2y3MZgVuIa"
      },
      "source": [
        "# Splitting Content into Tokenized Chunks\n",
        "Here we divide the processed elements in `df_elements` into smaller text files, ensuring each file stays within a token limit.\n",
        "\n",
        "**Chunk Creation:**\n",
        "- Processes elements in `df_elements`:\n",
        "  - Concatenates values until the token count exceeds `doc_tokens_threshold`.\n",
        "  - Writes each chunk to a separate text file (`docX.txt`).\n",
        "  - Tracks the token count of each chunk in `docs_len`.\n",
        "- Handles `PageBreak` to reset and manage document boundaries.\n",
        "\n",
        "Adjust `doc_tokens_threshold` to change the maximum token count per file.\n"
      ]
    },
    {
      "cell_type": "code",
      "execution_count": 29,
      "metadata": {
        "colab": {
          "base_uri": "https://localhost:8080/"
        },
        "id": "H6CxZzdOEqnJ",
        "outputId": "6abf413d-ec31-4deb-819d-38abc1c2ddea"
      },
      "outputs": [
        {
          "output_type": "stream",
          "name": "stdout",
          "text": [
            "Number of chunks obtained: 243\n"
          ]
        }
      ],
      "source": [
        "import os\n",
        "\n",
        "# create folder chunks if it doesn't exist\n",
        "if not os.path.exists('chunks'):\n",
        "    os.makedirs('chunks')\n",
        "else:\n",
        "    # delete all the files in the folder chunks\n",
        "    for file in os.listdir('chunks'):\n",
        "        os.remove(os.path.join('chunks', file))\n",
        "\n",
        "\n",
        "block = \"\"\n",
        "document = \"\"\n",
        "doc_index = 0\n",
        "doc_tokens_threshold = 150\n",
        "docs_len = []\n",
        "\n",
        "# iterating over df_elements\n",
        "for i in range(len(df_elements)):\n",
        "\n",
        "\n",
        "  if df_elements.at[i, 'Type'] != PageBreak:\n",
        "\n",
        "    next_element = df_elements.at[i, 'Value'] + \" \"\n",
        "\n",
        "    if count_tokens(block) + count_tokens(next_element) > doc_tokens_threshold:\n",
        "        with open('chunks/document_' + str(doc_index) + '.txt', 'w') as f:\n",
        "          f.write(block)\n",
        "\n",
        "        docs_len.append(count_tokens(block))\n",
        "        doc_index += 1\n",
        "        block = \"\"\n",
        "\n",
        "    block += next_element\n",
        "\n",
        "  else: # if the type is a PageBreak\n",
        "\n",
        "    expected_num_tokens = count_tokens(document) + count_tokens(block)\n",
        "    if expected_num_tokens > doc_tokens_threshold:\n",
        "\n",
        "      with open('chunks/document_' + str(doc_index) + '.txt', 'w') as f:\n",
        "        f.write(document)\n",
        "\n",
        "      docs_len.append(count_tokens(document))\n",
        "      doc_index += 1\n",
        "      document = \"\"\n",
        "\n",
        "    document += block\n",
        "    block = \"\"\n",
        "\n",
        "print(\"Number of chunks obtained: \" + str(doc_index))"
      ]
    },
    {
      "cell_type": "code",
      "execution_count": 30,
      "metadata": {
        "colab": {
          "base_uri": "https://localhost:8080/"
        },
        "id": "mwVWd3HhzOov",
        "outputId": "e5f7e0a9-060f-4107-e9bb-47df0c9b5dd4"
      },
      "outputs": [
        {
          "output_type": "stream",
          "name": "stdout",
          "text": [
            "243\n",
            "220\n",
            "25\n",
            "115.90534979423869\n"
          ]
        }
      ],
      "source": [
        "# print the max, the min and the avg of values in docs_len\n",
        "print(len(docs_len))\n",
        "\n",
        "print(max(docs_len))\n",
        "print(min(docs_len))\n",
        "print(sum(docs_len)/len(docs_len))"
      ]
    },
    {
      "cell_type": "code",
      "execution_count": 31,
      "metadata": {
        "colab": {
          "base_uri": "https://localhost:8080/",
          "height": 487
        },
        "id": "-2aDAKvnOByr",
        "outputId": "eacf20e8-b192-4778-fc96-4787db8987a9"
      },
      "outputs": [
        {
          "output_type": "display_data",
          "data": {
            "text/plain": [
              "<Figure size 900x500 with 1 Axes>"
            ],
            "image/png": "[encoded data removed]"
          },
          "metadata": {}
        }
      ],
      "source": [
        "# plot the distribution of number of tokens per document showing the mean\n",
        "import matplotlib.pyplot as plt\n",
        "import numpy as np\n",
        "\n",
        "# Calculate mean\n",
        "mean_tokens = np.mean(docs_len)\n",
        "\n",
        "# Create the plot\n",
        "plt.figure(figsize=(9, 5))\n",
        "plt.hist(docs_len, bins=10, edgecolor='black', alpha=0.5)\n",
        "plt.axvline(mean_tokens, color='red', linestyle='dashed', linewidth=1, label=f'Mean = {mean_tokens:.2f}')\n",
        "plt.title('Distribution of Number of Tokens per Document')\n",
        "plt.xlabel('Number of Tokens')\n",
        "plt.ylabel('Frequency')\n",
        "plt.legend()\n",
        "plt.grid(axis='y', linestyle='--', alpha=0.7)\n",
        "\n",
        "plt.show()"
      ]
    },
    {
      "cell_type": "code",
      "execution_count": 32,
      "metadata": {
        "id": "GJ5g5pDvB-7H"
      },
      "outputs": [],
      "source": [
        "# Spostiamo il modello su CPU\n",
        "model.to(\"cpu\")\n",
        "\n",
        "# Rimuoviamo il modello dalla memoria\n",
        "del model\n",
        "\n",
        "# Libera la memoria non più necessaria dalla GPU\n",
        "torch.cuda.empty_cache()"
      ]
    },
    {
      "cell_type": "markdown",
      "metadata": {
        "id": "7s6hfQbuFTo7"
      },
      "source": [
        "# FROM HERE THE LM NOTEBOOK"
      ]
    },
    {
      "cell_type": "markdown",
      "metadata": {
        "id": "V5j3ay1zTLO5"
      },
      "source": [
        "# RAG Pipeline on PDFs with Limited GPU Requirements\n",
        "\n",
        "In this project, we aim to build a **Retrieval-Augmented Generation (RAG)** pipeline optimized for **limited GPU environments**. The goal is to combine the power of *dense retrieval-based methods* with the flexibility of generative models, while ensuring the system remains efficient enough to run on medium-tier laptops with GPUs.\n",
        "\n",
        "A RAG pipeline consists of two main stages: **retrieval** and **generation**. The entire process can be divided into **3 key steps**:\n",
        "\n",
        "1. **Generation of document embeddings**  \n",
        "   In this step, document embeddings are generated from a *corpus* using an embedding model. Each document is encoded into a dense vector representation, capturing semantic information.\n",
        "\n",
        "2. **Document retrieval**  \n",
        "   Relevant documents are fetched from the corpus based on the input query. This is achieved by utilizing the generated embeddings and calculating similarity with the query's embedding to retrieve the most relevant documents.\n",
        "\n",
        "3. **Output generation**  \n",
        "   The retrieved documents are then passed to a **generative model**, which produces contextually relevant responses based on the information extracted from the documents.\n",
        "\n",
        "By leveraging lightweight models and optimizing for efficiency, this RAG pipeline delivers powerful **AI-driven results** even on hardware with **limited resources**.\n",
        "\n",
        "Finally, a **Gradio interface** is provided, allowing users to interact with the system and \"chat\" with the documents they provide, offering a seamless experience for exploring the content."
      ]
    },
    {
      "cell_type": "markdown",
      "metadata": {
        "id": "SzLXqhNeTLO9"
      },
      "source": [
        "## Hardware requirements and constraints\n",
        "\n",
        "Let's find out what hardware we've got available to see what kind of model(s) we'll be able to load.\n",
        "\n",
        "> **Note:** You can also check this with the `!nvidia-smi` command."
      ]
    },
    {
      "cell_type": "code",
      "execution_count": 33,
      "metadata": {
        "colab": {
          "base_uri": "https://localhost:8080/"
        },
        "id": "gq99vywlTLO-",
        "outputId": "6c8d1cfd-46e7-4b0a-811a-26702c26f6fd"
      },
      "outputs": [
        {
          "output_type": "stream",
          "name": "stdout",
          "text": [
            "Available GPU memory: 15 GB\n",
            "Tesla T4\n"
          ]
        }
      ],
      "source": [
        "# Get GPU available memory\n",
        "gpu_memory_bytes = torch.cuda.get_device_properties(0).total_memory\n",
        "gpu_memory_gb = round(gpu_memory_bytes / (2**30))\n",
        "print(f\"Available GPU memory: {gpu_memory_gb} GB\")\n",
        "print(torch.cuda.get_device_name(0))"
      ]
    },
    {
      "cell_type": "markdown",
      "metadata": {
        "id": "mN4Pji5BTLO-"
      },
      "source": [
        "Of course, depending on the provided harware, better models can be utilized."
      ]
    },
    {
      "cell_type": "markdown",
      "metadata": {
        "id": "gMiWvBYzTLO-"
      },
      "source": [
        "### Checking local GPU memory availability\n",
        "\n",
        "Let's first analyze how we decided the model to use for this project. This notebook was primarily run and tested locally on a **laptop** with 16GB of RAM and an NVIDIA RTX 3070 laptop GPU (8GB of VRAM). The main goal was to create a pipeline that could efficiently run on this portable device, leveraging the benefits of GPUs and CUDA for AI tasks while ensuring that the performance and capabilities did not feel lacking compared to larger models.\n",
        "\n",
        "We will need two main ingredients:\n",
        "- An *embedder* model, that calculates dense embeddings from documents\n",
        "- An *LLM*, that provides output given user's queries and the retrieved documents\n",
        "\n",
        "In their dedicated sections we will uncover the choiches made for both."
      ]
    },
    {
      "cell_type": "markdown",
      "metadata": {
        "id": "cPrgoawNTLO_"
      },
      "source": [
        "### Load our PDF and start producing chunks\n",
        "\n",
        "Let's now start by loading a pdf file and extracting chunks from it. These chunks' **quality** is important, since these will be essentially the *documents* on which we will compute the embeddings on."
      ]
    },
    {
      "cell_type": "code",
      "execution_count": 34,
      "metadata": {
        "colab": {
          "base_uri": "https://localhost:8080/"
        },
        "id": "sBaOxo4gaimg",
        "outputId": "df426d36-10e5-4a0d-b5a1-2de3fc16503c"
      },
      "outputs": [
        {
          "output_type": "stream",
          "name": "stdout",
          "text": [
            "Running in Google Colab. Using userdata to get HF_TOKEN.\n"
          ]
        }
      ],
      "source": [
        "PDF_NAME = \"Information Retrieval Slides.pdf\"\n",
        "running_on_colab = False\n",
        "\n",
        "try:\n",
        "    from google.colab import userdata\n",
        "    HF_TOKEN = userdata.get('HF_TOKEN')\n",
        "    print(\"Running in Google Colab. Using userdata to get HF_TOKEN.\")\n",
        "    running_on_colab = True\n",
        "except ModuleNotFoundError:\n",
        "    load_dotenv()\n",
        "    HF_TOKEN = os.getenv('HF_TOKEN')\n",
        "    print(\"Not running in Google Colab. Using load_dotenv to get HF_TOKEN.\")\n",
        "\n",
        "file_path = PDF_NAME\n",
        "login(token=HF_TOKEN)"
      ]
    },
    {
      "cell_type": "code",
      "execution_count": 35,
      "metadata": {
        "id": "_BeopoAvaimh"
      },
      "outputs": [],
      "source": [
        "def preprocess_text(text):\n",
        "    # Rimuovi formule matematiche LaTeX\n",
        "    text = re.sub(r'\\$.*?\\$', '', text)\n",
        "    # Rimuovi caratteri non alfanumerici eccetto punteggiatura di base\n",
        "    text = re.sub(r'[^a-zA-Z0-9\\s.,;:!?\\'\"-]', '', text)\n",
        "    # Rimuovi •\n",
        "    text = text.replace('•', '')\n",
        "    # Normalizza i caratteri Unicode\n",
        "    text = unidecode(text)\n",
        "    # Rimuovi spazi multipli\n",
        "    text = re.sub(r'\\s+', ' ', text).strip()\n",
        "    return text\n",
        "\n",
        "def aggregate_short_documents(texts, min_length=50):\n",
        "    aggregated_texts = []\n",
        "    buffer = \"\"\n",
        "\n",
        "    for doc in texts:\n",
        "        if len(doc.page_content) < min_length:\n",
        "            buffer += \" \" + doc.page_content\n",
        "            buffer = buffer.strip()\n",
        "        else:\n",
        "            if buffer:\n",
        "                doc.page_content = buffer + \" \" + doc.page_content\n",
        "                buffer = \"\"\n",
        "            aggregated_texts.append(doc)\n",
        "\n",
        "    if buffer:\n",
        "        if aggregated_texts:\n",
        "            aggregated_texts[-1].page_content += \" \" + buffer\n",
        "        else:\n",
        "            aggregated_texts.append(buffer)\n",
        "\n",
        "    return aggregated_texts\n",
        "\n",
        "# ------------------------------------------------------------------------- #\n",
        "\n",
        "# Load and process the PDF\n",
        "loader = PyMuPDFLoader(file_path=file_path)\n",
        "documents = loader.load()\n",
        "\n",
        "# Split the documents into chunks\n",
        "text_splitter = CharacterTextSplitter(chunk_size=1000, chunk_overlap=200, separator=\"\\n\")\n",
        "texts = text_splitter.split_documents(documents)\n",
        "\n",
        "# Preprocess the text\n",
        "for doc in texts:\n",
        "    doc.page_content = preprocess_text(doc.page_content)\n",
        "\n",
        "# Aggrega i documenti corti\n",
        "corpus = aggregate_short_documents(texts)"
      ]
    },
    {
      "cell_type": "code",
      "execution_count": 36,
      "metadata": {
        "colab": {
          "base_uri": "https://localhost:8080/"
        },
        "id": "i5jUKmVnUnI-",
        "outputId": "6e75190d-1df6-4934-e568-fce940533ebd"
      },
      "outputs": [
        {
          "output_type": "stream",
          "name": "stdout",
          "text": [
            "243\n"
          ]
        }
      ],
      "source": [
        "# HERE NEW CODE\n",
        "\n",
        "corpus = []\n",
        "# for each document in chunks folder append its text to corpus\n",
        "for file in sorted(os.listdir(\"chunks\")):\n",
        "    with open(os.path.join(\"chunks\", file), \"r\", encoding=\"utf-8\") as f:\n",
        "        corpus.append(f.read())\n",
        "\n",
        "print(len(corpus))"
      ]
    },
    {
      "cell_type": "markdown",
      "metadata": {
        "id": "2eBAwgyvTLPA"
      },
      "source": [
        "Let's give a look to some random documents extracted and preprocessed from the initial pdf"
      ]
    },
    {
      "cell_type": "code",
      "execution_count": 37,
      "metadata": {
        "colab": {
          "base_uri": "https://localhost:8080/"
        },
        "id": "qKx35jopaimh",
        "outputId": "70a88162-0da7-4580-bd58-9914a1050657"
      },
      "outputs": [
        {
          "output_type": "stream",
          "name": "stdout",
          "text": [
            "DocId: 163, Information Retrieval in 1620 • Which plays of Shakespeare contain the words Brutus AND Caesar but N...\n",
            "DocId: 28, \\[Var(X)=E\\big{[}(X-E[X]^{2}\\big{]}=E\\big{[}X^{2}\\big{]}-E[X]^{2}\\] \\[\\sigma(X)=\\sqrt{Var(X)}\\] \\[Co...\n",
            "DocId: 6, Normalised Discounted Cumulative Gain • To normalise DCG@k in [0,1] , we need to compute the ideal r...\n",
            "DocId: 189, At each document, all of the inverted lists are checked. If the document appears in one of the inver...\n",
            "DocId: 70, Odds, Eliteness and BIM Documents are represented as positive integer vectors of terms: • x = (tf1, ...\n"
          ]
        }
      ],
      "source": [
        "# print some random pages with their indices\n",
        "random.seed(42)\n",
        "for i in range(5):\n",
        "    doc = random.choice(corpus)\n",
        "    doc_index = corpus.index(doc)\n",
        "    #print(f\"DocId: {doc_index}, {doc.page_content[:100]}...\")\n",
        "    print(f\"DocId: {doc_index}, {doc[:100]}...\")"
      ]
    },
    {
      "cell_type": "code",
      "execution_count": 38,
      "metadata": {
        "colab": {
          "base_uri": "https://localhost:8080/"
        },
        "id": "pdh2ECCcaimi",
        "outputId": "77575d4b-99d2-4c8d-9c13-cc849730a8f5"
      },
      "outputs": [
        {
          "output_type": "stream",
          "name": "stdout",
          "text": [
            "Average document length: 553.4897119341564\n"
          ]
        }
      ],
      "source": [
        "#print(f\"Average document length: {sum(len(doc.page_content) for doc in corpus) / len(corpus)}\")\n",
        "print(f\"Average document length: {sum(len(doc) for doc in corpus) / len(corpus)}\")"
      ]
    },
    {
      "cell_type": "markdown",
      "metadata": {
        "id": "K_Qj6OuLTLPB"
      },
      "source": [
        "We also provide a `save_documents` function, which can be useful for further inspection of the PDF content."
      ]
    },
    {
      "cell_type": "code",
      "execution_count": 39,
      "metadata": {
        "colab": {
          "base_uri": "https://localhost:8080/",
          "height": 72
        },
        "id": "wfIW-Bd6aimi",
        "outputId": "272a32c4-2ec4-40b7-efad-5f3fa3184c6e"
      },
      "outputs": [
        {
          "output_type": "execute_result",
          "data": {
            "text/plain": [
              "'import os\\n\\ndef save_documents(documents):\\n    \"\"\"\\n    Save the provided documents to the vector_store directory. Each document is saved as a separate text file.\\n    \"\"\"\\n    if not os.path.exists(\"vector_store\"):\\n        os.makedirs(\"vector_store\")\\n    # delete all files in the vector_store directory\\n    for file in os.listdir(\"vector_store\"):\\n        os.remove(os.path.join(\"vector_store\", file))\\n    for i, doc in enumerate(documents):\\n        with open(f\"vector_store/document_{i}.txt\", \"w\", encoding=\"utf-8\") as f:\\n            f.write(doc.page_content)'"
            ],
            "application/vnd.google.colaboratory.intrinsic+json": {
              "type": "string"
            }
          },
          "metadata": {},
          "execution_count": 39
        }
      ],
      "source": [
        "'''import os\n",
        "\n",
        "def save_documents(documents):\n",
        "    \"\"\"\n",
        "    Save the provided documents to the vector_store directory. Each document is saved as a separate text file.\n",
        "    \"\"\"\n",
        "    if not os.path.exists(\"vector_store\"):\n",
        "        os.makedirs(\"vector_store\")\n",
        "    # delete all files in the vector_store directory\n",
        "    for file in os.listdir(\"vector_store\"):\n",
        "        os.remove(os.path.join(\"vector_store\", file))\n",
        "    for i, doc in enumerate(documents):\n",
        "        with open(f\"vector_store/document_{i}.txt\", \"w\", encoding=\"utf-8\") as f:\n",
        "            f.write(doc.page_content)'''"
      ]
    },
    {
      "cell_type": "code",
      "execution_count": 40,
      "metadata": {
        "colab": {
          "base_uri": "https://localhost:8080/"
        },
        "id": "lVas_GFzaimi",
        "outputId": "8c11fa46-3b2d-4525-995b-3cc7c98cff31"
      },
      "outputs": [
        {
          "output_type": "stream",
          "name": "stdout",
          "text": [
            "Saved 243 documents in the vector_store directory.\n"
          ]
        }
      ],
      "source": [
        "#save_documents(corpus)\n",
        "print(f\"Saved {len(corpus)} documents in the vector_store directory.\")"
      ]
    },
    {
      "cell_type": "code",
      "execution_count": 41,
      "metadata": {
        "colab": {
          "base_uri": "https://localhost:8080/"
        },
        "id": "kR2e6XDsaimi",
        "outputId": "b33312f6-c75d-4ff9-eea5-2fe1a1a8c2d1"
      },
      "outputs": [
        {
          "output_type": "stream",
          "name": "stderr",
          "text": [
            "Downloading...\n",
            "From: https://drive.google.com/uc?id=15pKNg7XwtaUILmxUhzhNa-ojTpqqLg__\n",
            "To: /content/quiz/quiz.json\n",
            "100%|██████████| 29.9k/29.9k [00:00<00:00, 18.3MB/s]"
          ]
        },
        {
          "output_type": "stream",
          "name": "stdout",
          "text": [
            "Loaded 60 questions.\n",
            "{'question': 'Which of the following metrics is used to measure overlap between two sets?'}\n"
          ]
        },
        {
          "output_type": "stream",
          "name": "stderr",
          "text": [
            "\n"
          ]
        }
      ],
      "source": [
        "import json\n",
        "\n",
        "def extract_questions(file_path):\n",
        "    with open(file_path, 'r') as file:\n",
        "        data = json.load(file)\n",
        "    questions = []\n",
        "    for item in data:\n",
        "        # q = item.get(\"question\", \"\")\n",
        "        # a = item.get(\"answers\", \"\")\n",
        "        # # 'a' è una lista di stringhe, aggiungi ad ognuno 1, 2, 3, 4\n",
        "        # for i in range(len(a)):\n",
        "        #     a[i] = f\"{(1 + i)}) {a[i]}\"\n",
        "        # a = \" \".join(a)\n",
        "        # qplusa = f\"{q} {a}\"\n",
        "        if str(item.get(\"category\", \"\")) == \"1\":\n",
        "            continue\n",
        "        question = {\n",
        "            \"question\": item.get(\"question\", \"\").strip(),\n",
        "            # \"answers\": item.get(\"answers\", \"\"),\n",
        "            # \"correct\": item.get(\"correct\", \"\"),\n",
        "            # \"category\": item.get(\"category\", \"\"),\n",
        "            # \"question_id\": item.get(\"question_id\", \"\")\n",
        "        }\n",
        "        questions.append(question)\n",
        "    return questions\n",
        "\n",
        "\n",
        "file_path = \"quiz/quiz.json\"\n",
        "\n",
        "if running_on_colab:\n",
        "  if not os.path.exists(\"quiz\"):\n",
        "      os.makedirs(\"quiz\")\n",
        "  # save locally from https://drive.google.com/file/d/15pKNg7XwtaUILmxUhzhNa-ojTpqqLg__/view?usp=drive_link\n",
        "  gdown.download(id=\"15pKNg7XwtaUILmxUhzhNa-ojTpqqLg__\", output=file_path, quiet=False)\n",
        "\n",
        "queries = extract_questions(file_path)\n",
        "print(f\"Loaded {len(queries)} questions.\")\n",
        "\n",
        "random.seed(4242)\n",
        "print(random.choice(queries))"
      ]
    },
    {
      "cell_type": "markdown",
      "metadata": {
        "id": "QPIvk-TUTLPB"
      },
      "source": [
        "## Gather Dataset Embeddings\n",
        "\n",
        "In this first stage, the aim is to produce the documents embeddings, in order to be able to make similarity searches in the upcoming steps of the pipeline.\n",
        "\n",
        "### About the `cde-small-v1` Model\n",
        "\n",
        "The `cde-small-v1` model, developed by John X. Morris and Alexander M. Rush, is a cutting-edge model for generating **Contextual Document Embeddings (CDE)** ([link](https://huggingface.co/jxm/cde-small-v1)). What sets this model apart is its ability to integrate \"*context tokens*\" into the embedding process, which allows it to capture the nuances and relationships between documents more effectively. This makes it particularly suitable for generating highly accurate embeddings for both documents and queries, especially in cases where capturing the context of a document within the broader corpus is crucial.\n",
        "\n",
        "We chose this model because, as of December 2024, it is one of the leading models under 400M parameters, delivering impressive results on the [**Massive Text Embedding Benchmark (MTEB) leaderboard**](https://huggingface.co/spaces/mteb/leaderboard). Although it ranks 32nd overall, it stands out as the top model in terms of **memory efficiency**, which is a key factor for our project, given the requirement for **limited GPU capabilities**. Additionally, it offers a substantial **embedding dimension of 768**, striking a balance between computational efficiency and embedding quality."
      ]
    },
    {
      "cell_type": "markdown",
      "metadata": {
        "id": "0Sg3xXhiaimk"
      },
      "source": [
        "<style>\n",
        "    img {\n",
        "        border-radius: 15px;\n",
        "    }\n",
        "</style>\n",
        "![cde-small-v1.png](https://github.com/giuliocapecchi/LM-project/blob/main/assets/cde-small-v1.png?raw=1)"
      ]
    },
    {
      "cell_type": "markdown",
      "metadata": {
        "id": "RvqbzIDgTLPC"
      },
      "source": [
        "A key feature of the `cde-small-v1` model is its optimization for a two-stage embedding process:\n",
        "\n",
        "1. **First Stage**: Embedding a subset of documents from the corpus to create \"dataset embeddings,\" which serve as a **reference** for the entire corpus.\n",
        "2. **Second Stage**: Using the dataset embeddings to embed new queries and documents during inference.\n",
        "\n",
        "This model is compact yet delivers solid performance, making it suitable for our use case.\n",
        "\n",
        "### Steps to Gather Dataset Embeddings:\n",
        "\n",
        "1. **Selecting a Subset of Documents**  \n",
        "   We begin by sampling a representative set of documents from the corpus. Following the model's guidelines, we select 512 documents. If this number isn't available, the model can handle oversampling, which is the case for the PDF dataset we're using. Despite this, performance remains strong.\n",
        "\n",
        "2. **Generating Dataset Embeddings**  \n",
        "   After selecting the documents, we encode them using the `cde-small-v1` embedding model. This step produces dense vector representations of the documents, which are representative of the broader corpus.\n",
        "\n",
        "3. **Embedding Queries and Documents**  \n",
        "   Once the dataset embeddings are created, we use them to embed both documents and queries. A key feature of this model is its ability to differentiate between 'queries' and 'documents' during encoding, ensuring context is preserved during the embedding process.\n",
        "\n",
        "\n",
        "Next, we will load the model using the `SentenceTransformers` interface to begin the embedding process."
      ]
    },
    {
      "cell_type": "code",
      "execution_count": 42,
      "metadata": {
        "colab": {
          "base_uri": "https://localhost:8080/"
        },
        "id": "6eW5vIiUTLPC",
        "outputId": "6c718d5a-65a5-4029-a1b0-16734d33ec37"
      },
      "outputs": [
        {
          "output_type": "stream",
          "name": "stderr",
          "text": [
            "WARNING:transformers_modules.nomic-ai.nomic-bert-2048.40b98394640e630d5276807046089b233113aa87.modeling_hf_nomic_bert:<All keys matched successfully>\n",
            "WARNING:transformers_modules.nomic-ai.nomic-bert-2048.40b98394640e630d5276807046089b233113aa87.modeling_hf_nomic_bert:<All keys matched successfully>\n"
          ]
        }
      ],
      "source": [
        "%%capture\n",
        "\n",
        "from sentence_transformers import SentenceTransformer\n",
        "\n",
        "# with sentence-transformers we don't need prefixes but, to do retrieval, we need to use prompt_name=\"query\" and prompt_name=\"document\" in the encode method of the model when embedding queries and documents, respectively.\n",
        "embeddings_model = SentenceTransformer(\n",
        "    \"jxm/cde-small-v1\",\n",
        "    trust_remote_code=True,\n",
        ").to(device)"
      ]
    },
    {
      "cell_type": "markdown",
      "metadata": {
        "id": "7W7Dz05MTLPC"
      },
      "source": [
        "During the development of the project, the creators of the embedding model made a change in the Hugging Face repository, which led to unstable results when using the `SentenceTransformer` implementation. If a similar issue arises in the future, it can be mitigated by specifying the `revision` and `tokenizer_kwargs` parameters in the model constructor. These parameters allow to lock the model and tokenizer to a specific branch name, tag, or commit ID from the Hugging Face repository, ensuring stability.\n",
        "\n",
        "Here’s how to implement it:\n",
        "\n",
        "```python\n",
        "embeddings_model = SentenceTransformer(\n",
        "    \"jxm/cde-small-v1\",\n",
        "    trust_remote_code=True,\n",
        "    revision=\"9e2ed1d8d569d34458913d2d246935c1b2324d11\",  # Latest stable model revision\n",
        "    tokenizer_kwargs={\"revision\": \"86b5e0934494bd15c9632b12f734a8a67f723594\"}  # Latest stable tokenizer revision\n",
        ").to(device)\n",
        "```\n",
        "\n",
        "The tags provided above correspond to the latest stable commits (as of December 2024). You can retrieve them directly from the model's card page on Hugging Face, under the \"Files and Versions\" tab.\n",
        "\n",
        "Fortunately for us, the issue was resolved the same day we reported it to the creators via Twitter. We thank them for their prompt response and the fix they provided."
      ]
    },
    {
      "cell_type": "markdown",
      "metadata": {
        "id": "VvDHtnRDTLPC"
      },
      "source": [
        "Let's follow up by producing the `minicorpus` (which is the subsample of the whole corpus) and what we called `dataset_embeddings`"
      ]
    },
    {
      "cell_type": "code",
      "execution_count": 43,
      "metadata": {
        "colab": {
          "base_uri": "https://localhost:8080/",
          "height": 85,
          "referenced_widgets": [
            "517c114c8ada458eb71c10b32dacf956",
            "39e5a1c895064f4f90497b2be0f19058",
            "49ad974ca5794ea590db740af168ac80",
            "ae95aec11ba44db28e58b4dbe468741a",
            "39fe55f747da48fda8fc574a1b7f3fe5",
            "5b0538c3bd5849bbaa9973b8f2555251",
            "cf36d37545434ab98893535264a30e0e",
            "243cbab5e2114709becd8a8f1f2befe0",
            "79360d975f9e41efb6acea38b929d56e",
            "4966afee1b8d402c862c2f98b7efbd20",
            "cb05151d51784fa38b04a5d7245c0b79"
          ]
        },
        "id": "7ISVKFnGaimk",
        "outputId": "e82b2ece-e335-4026-ba26-9d19dce408e0"
      },
      "outputs": [
        {
          "output_type": "display_data",
          "data": {
            "text/plain": [
              "Batches:   0%|          | 0/16 [00:00<?, ?it/s]"
            ],
            "application/vnd.jupyter.widget-view+json": {
              "version_major": 2,
              "version_minor": 0,
              "model_id": "517c114c8ada458eb71c10b32dacf956"
            }
          },
          "metadata": {}
        },
        {
          "output_type": "stream",
          "name": "stdout",
          "text": [
            "Corpus size: 243\n",
            "Computed embeddings for 512 documents. Shape: torch.Size([512, 768])\n"
          ]
        }
      ],
      "source": [
        "minicorpus_size = embeddings_model[0].config.transductive_corpus_size # 512\n",
        "random.seed(4242)\n",
        "minicorpus_docs = random.choices(corpus, k=minicorpus_size) # oversampling is okay\n",
        "assert len(minicorpus_docs) == minicorpus_size # We must use exactly this many documents in the minicorpus\n",
        "\n",
        "dataset_embeddings = embeddings_model.encode(\n",
        "    #[doc.page_content for doc in minicorpus_docs],\n",
        "    [doc for doc in minicorpus_docs],\n",
        "    prompt_name=\"document\",\n",
        "    convert_to_tensor=True,\n",
        "    show_progress_bar=True\n",
        ")\n",
        "\n",
        "print(f\"Corpus size: {len(corpus)}\")\n",
        "print(f\"Computed embeddings for {len(minicorpus_docs)} documents. Shape: {dataset_embeddings.shape}\")"
      ]
    },
    {
      "cell_type": "code",
      "execution_count": 44,
      "metadata": {
        "colab": {
          "base_uri": "https://localhost:8080/"
        },
        "id": "qWDiKrp7aiml",
        "outputId": "4b98039a-d395-4cfd-d982-eff8978b4c9e"
      },
      "outputs": [
        {
          "output_type": "stream",
          "name": "stdout",
          "text": [
            "Some mini-corpus documents:\n",
            "document 425: Temporal Web Dynamics • Temporal aspects are of considerable importance in Web search • Time is perv...\n",
            "document 134: <title lang=\"so\">Sunta cayayaanka ee Cuntada Ilmaha</title>¬ <title lang=\"sw\">Dawa za kuulia wadudu ...\n",
            "document 29: BM15 Weights • Based on the previous observations, a simple approximation to the the 2-Poisson model...\n",
            "document 399: Incidence Vectors We have a 0/1 vector for each term • To answer query, take the vectors for Brutus,...\n",
            "document 388: Format of an index Typically, an index contains 3 data structures: A lexicon: to store unique terms ...\n"
          ]
        }
      ],
      "source": [
        "print(\"Some mini-corpus documents:\")\n",
        "\n",
        "# get some random documents from the minicorpus\n",
        "random.seed(4242)\n",
        "for i in random.sample(range(minicorpus_size), 5):\n",
        "    #print(f\"document {i}: {minicorpus_docs[i].page_content[:100]}...\")\n",
        "    print(f\"document {i}: {minicorpus_docs[i][:100]}...\")"
      ]
    },
    {
      "cell_type": "markdown",
      "metadata": {
        "id": "MZLI5qjGaiml"
      },
      "source": [
        "Now that we have obtained the **dataset embeddings**, we can proceed to embed both documents and queries using the same model.\n",
        "\n",
        "To embed the documents and queries, we must ensure that we specify the correct `prompt_name` for each, as well as pass the `dataset_embeddings` to maintain context. The reason is that, as many state-of-the-art-models, this one was trained with task-specific prefixes:\n",
        "\n",
        "- For documents, use:  \n",
        "  `prompt_name=\"document\"`\n",
        "\n",
        "- For queries, use:  \n",
        "  `prompt_name=\"query\"`\n",
        "\n",
        "We also have to always additionally, specify  the `dataset_embeddings`, in order to use the once we produced before.\n",
        "\n",
        "By doing so, we ensure that the embeddings are generated with the correct context for both retrieval and generation tasks, leveraging the efficient performance of the `cde-small-v1` model."
      ]
    },
    {
      "cell_type": "code",
      "execution_count": 45,
      "metadata": {
        "colab": {
          "base_uri": "https://localhost:8080/",
          "height": 117,
          "referenced_widgets": [
            "b724951a6ee34333bf5973941f497d76",
            "1f69777bcc7d42cb9cb55179c00e4e4e",
            "c9199337d8c344c0a73c1891ae64241f",
            "a5ff3839ab4044f0912afb33591da86a",
            "af60eba01fa240748e2c016fccb61fbb",
            "5c6692d3b8cb43be8454428fb7d50702",
            "ae70693e18f24d1ea5ed03158dac523a",
            "088a00e4ef6e45d3a9b558e67963c98c",
            "99a10b4090ea4b7ebbdd336c152cbcb1",
            "619559e8a6d64cdcbad2bf86470e00f7",
            "33e92c6778144f31a027f47181634dc7",
            "50d2168abb604a89a61f7f8cc0dcda07",
            "891e7319f4294fc4a7aef48250812f28",
            "ef62b09b0f904bf4be7ae4389294fb34",
            "3f3f8005f80f41e58f97bd05f4431218",
            "2ba6010d15ba4f2fa24d476bb180b91a",
            "79d0e3ae9c4b48c9a4a15a4b8eb2eccd",
            "ee0e79bf48f543f1a250875f3f1576d2",
            "43489b86ba51437cbe8e9137ef7338ca",
            "aca0e1cebd2045f78f2d0f9e8def9856",
            "b998ceb3c1954dfdafbd451e2753c9cc",
            "59714a15945e4ff98408e219b351a09d"
          ]
        },
        "id": "Z-4WdCtLaiml",
        "outputId": "eb9af4a9-0294-4841-9927-b4927faea303"
      },
      "outputs": [
        {
          "output_type": "display_data",
          "data": {
            "text/plain": [
              "Batches:   0%|          | 0/8 [00:00<?, ?it/s]"
            ],
            "application/vnd.jupyter.widget-view+json": {
              "version_major": 2,
              "version_minor": 0,
              "model_id": "b724951a6ee34333bf5973941f497d76"
            }
          },
          "metadata": {}
        },
        {
          "output_type": "display_data",
          "data": {
            "text/plain": [
              "Batches:   0%|          | 0/2 [00:00<?, ?it/s]"
            ],
            "application/vnd.jupyter.widget-view+json": {
              "version_major": 2,
              "version_minor": 0,
              "model_id": "50d2168abb604a89a61f7f8cc0dcda07"
            }
          },
          "metadata": {}
        },
        {
          "output_type": "stream",
          "name": "stdout",
          "text": [
            "Document embeddings shape: torch.Size([243, 768])\n",
            "Query embeddings shape: torch.Size([60, 768])\n"
          ]
        }
      ],
      "source": [
        "doc_embeddings = embeddings_model.encode(\n",
        "    #[doc.page_content for doc in corpus],\n",
        "    [doc for doc in corpus],\n",
        "    prompt_name=\"document\",\n",
        "    dataset_embeddings=dataset_embeddings, # this is the contexualized embeddings of the minicorpus\n",
        "    convert_to_tensor=True,\n",
        "    show_progress_bar=True\n",
        ")\n",
        "\n",
        "query_embeddings = embeddings_model.encode(\n",
        "    [query['question'] for query in queries],\n",
        "    prompt_name=\"query\",\n",
        "    dataset_embeddings=dataset_embeddings,  # this is the contexualized embeddings of the minicorpus\n",
        "    convert_to_tensor=True,\n",
        "    show_progress_bar=True\n",
        ")\n",
        "\n",
        "print(f\"Document embeddings shape: {doc_embeddings.shape}\")\n",
        "print(f\"Query embeddings shape: {query_embeddings.shape}\")"
      ]
    },
    {
      "cell_type": "markdown",
      "metadata": {
        "id": "1BQx9Lr3TLPD"
      },
      "source": [
        "We can now computes similarities between the embeddings and all the queries by simply calling `embeddings_model.similarity` (which uses by default cosine similarity), and inspect some of the results obtained."
      ]
    },
    {
      "cell_type": "code",
      "execution_count": 46,
      "metadata": {
        "colab": {
          "base_uri": "https://localhost:8080/"
        },
        "id": "8coT3HV9aiml",
        "outputId": "c8b21a5c-d160-493b-99d3-2cbd07b1788b"
      },
      "outputs": [
        {
          "output_type": "stream",
          "name": "stdout",
          "text": [
            "'similarities' shape :  torch.Size([60, 243])\n",
            "Query: Which of the following metrics is used to measure overlap between two sets?\n",
            "Rank 1 (Score: 0.5994, Doc ID: 198): Jaccard Coefficient Jaccard Coeﬃcient A common measure of overlap of two (ﬁnite) sets and : \\[J(A,B)=\\frac{|A\\cap B\\,|}{|A\\cup B\\,|}\\] Always assigns a number between 0 and 1 A and do not have to be t...\n",
            "Rank 2 (Score: 0.5474, Doc ID: 236): Example Binary Weighted Set-based Topic Run Assessed Run View Highly d1 1 Relevant 1 Not d2 0 Relevant 2 Partially d3 1 Relevant 3 Fairly d4 1 Relevant 4 Not 0 Relevant 5 Not 0 Relevant 6 Not Assume |...\n",
            "Rank 3 (Score: 0.5369, Doc ID: 153): A/B Testing • Concept is fairly trivial: randomly split traﬃc between two (or more) versions • A (Control) & B (Treatment) Collect metrics of interest & analyse Run statistical tests to conﬁrm diﬀeren...\n",
            "Rank 4 (Score: 0.5294, Doc ID: 122): Linear Models IR evaluation measure are non-continuous, and hence they are not diﬀerentiable w.r.t. a feature weight • Metrics don’t respond to changes in the scores of document, but only when a swap ...\n",
            "Rank 5 (Score: 0.5093, Doc ID: 220): Why Evaluation? “To measure is to know” “If you cannot measure it, you cannot improve it” Lord William Thompson, ﬁrst Baron Kelvin (1824-1907) IR Evaluations Effectiveness Efficiency Eﬃciency Eﬀective...\n",
            "\n",
            "Query: How many bytes can UTF-8 use to encode a character?\n",
            "Rank 1 (Score: 0.7329, Doc ID: 166): UTF-8 Unicode is not a character encoding scheme Unicode code points are just numeric values assigned to characters • Code points are not representations of characters as sequences of bytes • For exam...\n",
            "Rank 2 (Score: 0.7191, Doc ID: 112): UTF-8 • All Unicode characters larger than U+007F are encoded as a sequence of two or more bytes, each of which has the most signiﬁcant bit set • This means that no ASCII byte can appear as part of an...\n",
            "Rank 3 (Score: 0.6776, Doc ID: 0): Multimedia Information Retrieval and Computer Vision nicola.tonellotto@unipi.it Text Processing Encodings ASCII Character Encoding Scheme The ASCII encoding maps characters to 7-bit integers • using t...\n",
            "Rank 4 (Score: 0.6392, Doc ID: 199): Example Convert U+05E7 to UTF-8 Determine that it is in the interval 0080 to 07FF, requiring two bytes: The encoding has the form: 110xxxxx 10xxxxxx • Write the code point in binary: 0000 0101 1110 01...\n",
            "Rank 5 (Score: 0.6231, Doc ID: 188): UTF-8 • The table below shows the ranges of Unicode code points that map to the diﬀerent UTF-8 sequence lengths • Converting a Unicode code point to UTF-8 by hand is straightforward using the above ta...\n",
            "\n"
          ]
        }
      ],
      "source": [
        "similarities = embeddings_model.similarity(query_embeddings, doc_embeddings)\n",
        "print(\"'similarities' shape : \",similarities.shape)\n",
        "topk_values, topk_indices = similarities.topk(5)\n",
        "\n",
        "random.seed(4242)\n",
        "random_queries = random.sample(queries, 2)\n",
        "for query in random_queries:\n",
        "    query_idx = queries.index(query)\n",
        "    print(f\"Query: {query['question']}\")\n",
        "    for j, idx in enumerate(topk_indices[query_idx]):\n",
        "        doc = corpus[idx]\n",
        "        #print(f\"Rank {j+1} (Score: {topk_values[query_idx][j]:.4f}, Doc ID: {idx}): {doc.page_content[:200]}...\")\n",
        "        print(f\"Rank {j+1} (Score: {topk_values[query_idx][j]:.4f}, Doc ID: {idx}): {doc[:200]}...\")\n",
        "    print()"
      ]
    },
    {
      "cell_type": "markdown",
      "metadata": {
        "id": "OH3wLZDIaiml"
      },
      "source": [
        "## Chroma\n",
        "\n",
        "While not strictly necessary for this project - since the provided PDF is relatively small - we decided to integrate a vector database to enhance the storage and retrieval of the embeddings produced. This integration becomes particularly valuable when larger files are processed, as they often require splitting the corpus into smaller chunks, with each chunk generating its own embedding. The resulting large number of embeddings makes efficient storage and retrieval mechanisms increasingly important.\n",
        "\n",
        "After evaluating various options, we selected [**Chroma**](https://www.trychroma.com/) for its simplicity of local deployment and good performances. Chroma is particularly well-suited for managing **large document collections**, providing **faster retrieval** and ensuring that the pipeline remains robust and adaptable to big files.\n",
        "\n",
        "### Implementation Steps\n",
        "\n",
        "We begin by creating a Chroma client and verifying if a collection named `'chroma-collection'` already exists locally:  if it does, we delete it to ensure a clean state before initializing a new one.\n",
        "\n",
        "For reference, a Chroma client can be instantiated in two ways :\n",
        "\n",
        "- in an **ephemeral way** (in-memory), particularly useful for experimentation, such as testing different embedding functions and retrieval techniques. If data persistence is not a requirement, this approach provides a lightweight and efficient way to get started with Chroma while maintaining flexibility for quick iterations. This can be achieved with the following code:\n",
        "\n",
        "    ```python\n",
        "    import chromadb\n",
        "    client = chromadb.Client()\n",
        "    ```\n",
        "\n",
        "- with a **persistent client**. This can be done by providing a  path where Chroma will store its database files on disk, and load them on start.\n",
        "\n",
        "    ```python\n",
        "    import chromadb\n",
        "    client = chromadb.PersistentClient(path=\"/path/to/save/to\")\n",
        "    ```\n",
        "    If a `path` is not provided, the default is `.chroma`\n",
        "\n",
        "More about Chroma can be found in its [documentation](https://docs.trychroma.com/docs/overview/introduction). We choose to utilize the **persistent** approach, so let's follow by instantiating a `PersistentClient`;  if the collection already exists, we delete it to ensure a clean state before initializing a new one.\n"
      ]
    },
    {
      "cell_type": "code",
      "execution_count": 47,
      "metadata": {
        "colab": {
          "base_uri": "https://localhost:8080/"
        },
        "id": "2jszrG73aimm",
        "outputId": "d27709f6-ecf0-4522-ed0c-fca14561a173"
      },
      "outputs": [
        {
          "output_type": "stream",
          "name": "stdout",
          "text": [
            "Collection chroma-collection exists, deleting it\n"
          ]
        }
      ],
      "source": [
        "from chromadb import PersistentClient, Collection\n",
        "\n",
        "COLLECTION_NAME = \"chroma-collection\"\n",
        "\n",
        "# Initialize the Chroma client\n",
        "client = PersistentClient(path=\"./\"+COLLECTION_NAME)\n",
        "\n",
        "# Check if the collection exists and delete it if it does\n",
        "if COLLECTION_NAME in [col.name for col in client.list_collections()]:\n",
        "    client.delete_collection(name=COLLECTION_NAME)\n",
        "    print(f\"Collection {COLLECTION_NAME} exists, deleting it\")\n",
        "else:\n",
        "    print(f\"Collection {COLLECTION_NAME} does not exist\")"
      ]
    },
    {
      "cell_type": "markdown",
      "metadata": {
        "id": "e2KFyNnBTLPE"
      },
      "source": [
        "### Integration of `cde-small-v1` with Chroma\n",
        "\n",
        "Integrating the **`cde-small-v1`** embedding model with Chroma required the creation of a custom `EmbeddingFunction`. This was necessary because **`cde-small-v1`** has a distinct workflow that deviates from standard embedding models. Specifically, as said it uses:\n",
        "\n",
        "- **`prompt_name`**: This parameter distinguishes between \"document\" and \"query\" embeddings, to have proper alignment during retrieval tasks.\n",
        "- **`dataset_embeddings`**: These provide a reference for conditional embedding generation, improving contextual accuracy in embeddings.\n",
        "\n",
        "By default, Chroma does not natively support these additional parameters. However, it offers the flexibility of extending the `EmbeddingFunction` protocol, allowing us to integrate the specific requirements of the **`cde-small-v1`** model into Chroma’s workflow.\n",
        "\n",
        "We can check the type of the elements of the corpus produced by our chunking functions and use it to differentiate between queries and documents."
      ]
    },
    {
      "cell_type": "code",
      "execution_count": 48,
      "metadata": {
        "colab": {
          "base_uri": "https://localhost:8080/"
        },
        "id": "_sECLKtWTLPE",
        "outputId": "d3d36975-7e76-4936-dda5-2a6d18631f36"
      },
      "outputs": [
        {
          "output_type": "stream",
          "name": "stdout",
          "text": [
            "<class 'str'>\n"
          ]
        }
      ],
      "source": [
        "print(type(corpus[0]))"
      ]
    },
    {
      "cell_type": "code",
      "execution_count": 49,
      "metadata": {
        "id": "lGg8Ljrqaimm"
      },
      "outputs": [],
      "source": [
        "from chromadb import Documents, EmbeddingFunction, Embeddings\n",
        "\n",
        "\n",
        "class CustomEmbeddingFunction(EmbeddingFunction):\n",
        "    def __call__(self, input: Documents) -> Embeddings:\n",
        "        \"\"\"\n",
        "        Automatically detect if the input is a document or a query and set the mode accordingly.\n",
        "        :param input: Documents or queries to embed.\n",
        "        :return: Embeddings.\n",
        "        \"\"\"\n",
        "        # Detect the mode: \"document\" if the input is a list of documents, else \"query\".\n",
        "        mode = \"query\" #\"document\" if isinstance(input[0], langchain_core.documents.base.Document) else \"query\"\n",
        "\n",
        "        # If the input is a list of Documents, extract the text.\n",
        "        #if isinstance(input, list):\n",
        "        #    input = [doc if isinstance(doc, str) else doc.page_content for doc in input]\n",
        "\n",
        "        # Generate embeddings using the model with the determined mode\n",
        "        embeddings = embeddings_model.encode(\n",
        "            input,\n",
        "            prompt_name=mode,\n",
        "            dataset_embeddings=dataset_embeddings,\n",
        "            convert_to_tensor=True,\n",
        "        ).cpu().numpy()\n",
        "\n",
        "        return embeddings.tolist()\n",
        "\n",
        "# Create an instance of the embeddings function for queries (we already calculated all the embeddings of the documents)\n",
        "custom_embedding_function = CustomEmbeddingFunction()"
      ]
    },
    {
      "cell_type": "markdown",
      "metadata": {
        "id": "7bzGZd21TLPE"
      },
      "source": [
        "Furthermore, while Chroma defaults to using Euclidean distance (`l2`) for nearest-neighbor search, the **`cde-small-v1`** embeddings from `SentenceTransformers` are based on cosine similarity by default. To utilize it, We configure the metadata parameter `\"hnsw:space\": \"cosine\"` when creating the collection. This ensures that Chroma uses cosine similarity, aligning with the previous behavior.\n",
        "\n",
        "<style>\n",
        "    img {\n",
        "        border-radius: 15px;\n",
        "    }\n",
        "</style>\n",
        "![chroma-similarity-measures.png](https://github.com/giuliocapecchi/LM-project/blob/main/assets/chroma-similarity-measures.png?raw=1)\n",
        "\n",
        "Once the collection is configured, we add all the documents and their precomputed embeddings to it.\n",
        "\n",
        "> **NOTE:** We manually computed the embeddings beforehand (for analysis purposes) in the previous steps. If we had only provided the documents, Chroma would have automatically generated the embeddings using the `CustomEmbeddingFunction`, without the need for precomputation."
      ]
    },
    {
      "cell_type": "code",
      "execution_count": 50,
      "metadata": {
        "id": "nIhVPEaFTLPE"
      },
      "outputs": [],
      "source": [
        "# Create a Chroma collection with the custom embedding function\n",
        "collection: Collection = client.create_collection(\n",
        "    name=COLLECTION_NAME,\n",
        "    embedding_function=custom_embedding_function,\n",
        "    get_or_create=True,\n",
        "    metadata={\"hnsw:space\": \"cosine\"} # l2 is the default but cosine is more suitable for this embedding function\n",
        ")\n",
        "\n",
        "# Add the documents and their (already computed) embeddings to the collection\n",
        "collection.add(\n",
        "    ids=[str(i) for i in range(len(corpus))],  # Unique identifiers for the documents\n",
        "    embeddings=doc_embeddings.cpu().numpy(),\n",
        "    #documents=[doc.page_content for doc in corpus],\n",
        "    documents=[doc for doc in corpus],\n",
        ")"
      ]
    },
    {
      "cell_type": "code",
      "execution_count": 51,
      "metadata": {
        "colab": {
          "base_uri": "https://localhost:8080/"
        },
        "id": "QGxEGrC9aimm",
        "outputId": "a4f7b927-3b32-4890-86e8-169a03ce692c"
      },
      "outputs": [
        {
          "output_type": "stream",
          "name": "stdout",
          "text": [
            "Number of documents in the corpus:  243\n",
            "Number of documents in the collection:  243\n"
          ]
        }
      ],
      "source": [
        "#print(collection.peek()) # returns a list of the first 10 items in the collection\n",
        "print(\"Number of documents in the corpus: \",len(corpus))\n",
        "print(\"Number of documents in the collection: \",collection.count()) # returns the number of items in the collection"
      ]
    },
    {
      "cell_type": "markdown",
      "metadata": {
        "id": "bsm8bDfzTLPE"
      },
      "source": [
        "We can finally test `collection.query` to make some calls to the Chroma collection, and we expect similar (ideally, the same) results as above, when we used `model.similarity`."
      ]
    },
    {
      "cell_type": "code",
      "execution_count": 52,
      "metadata": {
        "colab": {
          "base_uri": "https://localhost:8080/"
        },
        "id": "iwXd0aw1aimn",
        "outputId": "56b409a4-2aad-4ce1-84ec-76d11b8fdad9"
      },
      "outputs": [
        {
          "output_type": "stream",
          "name": "stdout",
          "text": [
            "{'ids': [['166', '112', '0', '199', '188']], 'embeddings': None, 'documents': [['UTF-8 Unicode is not a character encoding scheme Unicode code points are just numeric values assigned to characters • Code points are not representations of characters as sequences of bytes • For example, the code point U+0C36 is not a sequence of the bytes 0x0C and 0x36 • There are several encoding schemes that can represent Unicode, including UTF-8, UTF-16, and UTF-32 In UTF-8 characters are encoded with anywhere from 1 to 6 bytes • In other words, the number of bytes varies with the character • In UTF-8, all ASCII characters are encoded within the 7 least signiﬁcant bits of a byte whose most signiﬁcant bit is 0 • Files and strings that contain only 7-bit ASCII characters have the same encoding under both ASCII and UTF-8 ', \"UTF-8 • All Unicode characters larger than U+007F are encoded as a sequence of two or more bytes, each of which has the most signiﬁcant bit set • This means that no ASCII byte can appear as part of any other character, because ASCII characters are the only characters whose leading bit is 0 • The ﬁrst byte of a multibyte sequence that represents a non-ASCII character is always in the range 0xC0 to 0xFD and it indicates how many bytes follow for this character • One of 110xxxxx, 1110xxxx, 11110xxx, 111110xx, and 1111110x, where the x's may be 0's or 1's. • The number of 1-bits following the ﬁrst 1-bit up until the next 0-bit is the number of bytes in the rest of the sequence. \", 'Multimedia Information Retrieval and Computer Vision nicola.tonellotto@unipi.it Text Processing Encodings ASCII Character Encoding Scheme The ASCII encoding maps characters to 7-bit integers • using the range from 0 to 127 to represent 94 printing characters, 33 control characters, and the space • since a byte is usually used to store a character, the eighth bit of the byte is ﬁlled with a 0 • ASCII does not provide a way to encode characters from other alphabets, such as Cyrillic or Greek ', 'Example Convert U+05E7 to UTF-8 Determine that it is in the interval 0080 to 07FF, requiring two bytes: The encoding has the form: 110xxxxx 10xxxxxx • Write the code point in binary: 0000 0101 1110 0111 • The rightmost 6 bits go into the right byte after 10: 10 100111 • and the remaining 5 bits go into the left byte after 110: 110 10111 • The encoded sequence is 11010111 10100111 = 0xD7 0xA7 Tokenisation Tokenisation Words and Corpora • A corpus is a computer-readable collection of text or speech • Collection of all Shakespeare works Collection of Web pages Collection of movie transcripts Referred to as document collection An element of a corpus is referred to as document Web page Patent PDF document Utterances How many words there are in a document? What is a word? Depends on the task/application ', 'UTF-8 • The table below shows the ranges of Unicode code points that map to the diﬀerent UTF-8 sequence lengths • Converting a Unicode code point to UTF-8 by hand is straightforward using the above table 1. From the range, determine how many bytes are needed 2. Starting with the least signiﬁcant bit, copy bits from the code point from right to left into the least signiﬁcant byte 3. When the current byte has reached 8 bits, continue ﬁlling the next most signiﬁcant byte with successively more signiﬁcant bits from the code point 4. Repeat until all bits have been copied into the byte sequence, ﬁlling with leading zeros as required ']], 'uris': None, 'data': None, 'metadatas': [[None, None, None, None, None]], 'distances': [[0.2671040892601013, 0.2808617353439331, 0.32237154245376587, 0.3607839345932007, 0.3768797516822815]], 'included': [<IncludeEnum.distances: 'distances'>, <IncludeEnum.documents: 'documents'>, <IncludeEnum.metadatas: 'metadatas'>]}\n",
            "Rank 1: Document ID: 166, Score: 0.7329, UTF-8 Unicode is not a character encoding scheme Unicode code points are just numeric values assigned to characters • Code points are not representations of characters as sequences of bytes • For exam\n",
            "Rank 2: Document ID: 112, Score: 0.7191, UTF-8 • All Unicode characters larger than U+007F are encoded as a sequence of two or more bytes, each of which has the most signiﬁcant bit set • This means that no ASCII byte can appear as part of an\n",
            "Rank 3: Document ID: 0, Score: 0.6776, Multimedia Information Retrieval and Computer Vision nicola.tonellotto@unipi.it Text Processing Encodings ASCII Character Encoding Scheme The ASCII encoding maps characters to 7-bit integers • using t\n",
            "Rank 4: Document ID: 199, Score: 0.6392, Example Convert U+05E7 to UTF-8 Determine that it is in the interval 0080 to 07FF, requiring two bytes: The encoding has the form: 110xxxxx 10xxxxxx • Write the code point in binary: 0000 0101 1110 01\n",
            "Rank 5: Document ID: 188, Score: 0.6231, UTF-8 • The table below shows the ranges of Unicode code points that map to the diﬀerent UTF-8 sequence lengths • Converting a Unicode code point to UTF-8 by hand is straightforward using the above ta\n"
          ]
        }
      ],
      "source": [
        "query_text = \"How many bytes can UTF-8 use to encode a character?\"\n",
        "\n",
        "# create a Document object with the query text\n",
        "results = collection.query(\n",
        "    query_texts=query_text,\n",
        "    n_results=5\n",
        ")\n",
        "print(results)\n",
        "\n",
        "# Print the results with the document IDs and scores\n",
        "for i, (doc_id, score, doc) in enumerate(zip(results['ids'][0], results['distances'][0], results['documents'][0])):\n",
        "    print(f\"Rank {i+1}: Document ID: {doc_id}, Score: {1-score:.4f}, {doc[:200]}\")"
      ]
    },
    {
      "cell_type": "markdown",
      "metadata": {
        "id": "Un7yDGUJTLPI"
      },
      "source": [
        "... which is exactly identical to the previous ones.\n",
        "\n",
        "One final thing to note is that in Chroma cosine similarity is calculated as `1 - cosim` ; this is done to ensure that lower values indicate a better position in the ranked list. To obtain results consistent with the previous ones, we subtractde the score from one in the above code.\n"
      ]
    },
    {
      "cell_type": "markdown",
      "metadata": {
        "id": "ckTwJIF5aimn"
      },
      "source": [
        "### Compute scores between queries and documents"
      ]
    },
    {
      "cell_type": "markdown",
      "metadata": {
        "id": "Dp-7zfI3TLPJ"
      },
      "source": [
        "Now we can analyze a similarity heatmap between the embeddings of our documents and the provided queries. The results show consistency with the following observations:\n",
        "\n",
        "- **Few documents match the queries**: This suggests that the matching documents are likely the most relevant ones.\n",
        "- **Matches often occur in subsequent documents**: This is expected since the corpus was split into chunks based on the document's structure. For example, chapters are separated, so answers to specific questions are more likely to be located within the same chapter or adjacent sections of the document.\n",
        "\n",
        "Additionally, we provide a distribution of the similarity scores. This helps us assess whether an empirical threshold can be established to determine which documents are truly similar to the provided queries."
      ]
    },
    {
      "cell_type": "code",
      "execution_count": 53,
      "metadata": {
        "colab": {
          "base_uri": "https://localhost:8080/",
          "height": 507
        },
        "id": "u4zQUCwaaimn",
        "outputId": "9149b27b-ffd1-489c-cede-e84447c125ad"
      },
      "outputs": [
        {
          "output_type": "display_data",
          "data": {
            "text/plain": [
              "<Figure size 1500x500 with 3 Axes>"
            ],
            "image/png": "[encoded data removed]"
          },
          "metadata": {}
        }
      ],
      "source": [
        "from seaborn import heatmap\n",
        "import matplotlib.pyplot as plt\n",
        "\n",
        "fig, axes = plt.subplots(1, 2, figsize=(15, 5))\n",
        "\n",
        "# Plot heatmap\n",
        "heatmap(similarities.cpu().numpy().T, cmap=\"jet\", ax=axes[0])\n",
        "axes[0].set_title(\"Similarity Heatmap\")\n",
        "\n",
        "# Plot histogram\n",
        "axes[1].hist(similarities.cpu().flatten(), bins=50, color='blue', alpha=0.6)\n",
        "axes[1].set_title(\"Distribution of Similarity Scores\")\n",
        "axes[1].set_xlabel(\"Similarity\")\n",
        "axes[1].set_ylabel(\"Frequency\")\n",
        "axes[1].axvline(x=0.5, color='red', alpha=0.6, linestyle='--')\n",
        "\n",
        "plt.tight_layout()\n",
        "plt.show()"
      ]
    },
    {
      "cell_type": "markdown",
      "metadata": {
        "id": "2bxLzRQCaimn"
      },
      "source": [
        "## LLM"
      ]
    },
    {
      "cell_type": "markdown",
      "metadata": {
        "id": "ld0Lry9LTLPJ"
      },
      "source": [
        "After conducting some research, we chose to work with one of Meta's latest smaller open-source Llama models available at the time of writing this notebook: [Llama-3.2-3B-Instruct](https://huggingface.co/meta-llama/Llama-3.2-3B-Instruct), released the *25th of September 2024*. We specifically selected the *instruct* variant because it is pre-trained to follow basic instructions, offering a more user-friendly and fine-tuned experience compared to the standard non-instruct version (which is also available). Below, we review this model's [specifications](https://llamaimodel.com/requirements-3-2/):\n",
        "\n",
        "| **Llama 3.2 3B Instruct Model Specifications**                    | **Requirement**       | **Details**                                                                                  |\n",
        "|----------------------------------|-----------------------|----------------------------------------------------------------------------------------------|\n",
        "| Parameters                       | 3 billion             |                                                                                              |\n",
        "| Context Length                   | 128,000 tokens        |                                                                                              |\n",
        "| **Hardware Requirements**        |                       |                                                                                              |\n",
        "| CPU and RAM                      |                       | CPU: Multicore processor <br> RAM: Minimum of 16 GB recommended                              |\n",
        "| GPU                              |                       | NVIDIA RTX series (for optimal performance), at least 8 GB VRAM                              |\n",
        "| **Estimated GPU Memory Requirements** |                       |                                                                                              |\n",
        "| Higher Precision Modes           | BF16/FP16             | ~6.5 GB                                                                                      |\n",
        "| Lower Precision Modes            | FP8                   | ~3.2 GB                                                                                      |\n",
        "|                                  | INT4                  | ~1.75 GB                                                                                     |\n",
        "| **Software Requirements**        |                       |                                                                                              |\n",
        "| Software Dependencies            |                       | Frameworks: PyTorch <br> Libraries: Hugging Face Transformers (version 4.45.0 or higher), CUDA |"
      ]
    },
    {
      "cell_type": "code",
      "execution_count": 54,
      "metadata": {
        "colab": {
          "base_uri": "https://localhost:8080/"
        },
        "id": "QVuakpG-TLPJ",
        "outputId": "59980ae2-5e5a-4bb2-8ee4-68c27a0d13f1"
      },
      "outputs": [
        {
          "output_type": "stream",
          "name": "stdout",
          "text": [
            "Is bf16 supported:  True\n"
          ]
        }
      ],
      "source": [
        "print(\"Is bf16 supported: \",torch.cuda.is_bf16_supported())"
      ]
    },
    {
      "cell_type": "markdown",
      "metadata": {
        "id": "3Hw22_isTLPK"
      },
      "source": [
        "The `bitsandbytes` library is a lightweight Python wrapper around CUDA custom functions, in particular 8-bit optimizers, matrix multiplication (LLM.int8()), and 8 & 4-bit quantization functions.\n",
        "\n",
        "The library includes quantization primitives for 8-bit & 4-bit operations, through `bitsandbytes.nn.Linear8bitLt` and `bitsandbytes.nn.Linear4bit` and 8-bit optimizers through bitsandbytes.optim module."
      ]
    },
    {
      "cell_type": "markdown",
      "metadata": {
        "id": "FYAVifb8TLPK"
      },
      "source": [
        "#### Quantization Choices\n",
        "\n",
        "We chose a *middle ground* by loading the model with **4-bit quantization** while maintaining **BFloat16** precision for computation.\n",
        "\n",
        "The use of 4-bit quantization reduces the precision of the model’s weights to just 4 bits per value, significantly lowering memory usage and accelerating inference. This method retains only the most essential information, sacrificing some numerical precision, but allows for larger models to be handled on GPUs with limited memory. Despite the weights being quantized to 4 bits, the model still performs computations in **16-bit floating point (BFloat16)** precision. BFloat16 is a 16-bit format that preserves much of the dynamic range of floating-point operations while requiring less memory than the traditional 32-bit format. This way, while the 4-bit quantization reduces the memory footprint of the model weights, the computation is performed in BFloat16, optimizing performance on modern GPUs that are tailored for BFloat16 operations. This configuration strikes a balance between computational efficiency and numerical precision, enabling fast inferences with minimal memory usage without significant loss in result quality.\n",
        "\n",
        "Given the hardware constraints, we opted for **4-bit quantization** using `BitsAndBytes` (as explained later). This approach greatly reduces the memory footprint and speeds up inference, ensuring acceptable performance for our use case. Without this configuration, the GPU’s memory usage was consistently at 100%, and inference times were approximately 2-3 minutes per query. With 4-bit quantization, memory usage drops to about 6GB, preventing GPU overload and reducing inference time to around 30 seconds per query, delivering satisfactory results. Further details on the quantization process will be provided later.\n",
        "\n",
        "However, we also need to consider that both the embedding model and the LLM must be loaded into memory, which adds another layer of complexity to the memory management. This requires careful balancing, as the total memory usage must accommodate both the LLM and the embedding model simultaneously. We will address how we manage this in the next section."
      ]
    },
    {
      "cell_type": "code",
      "execution_count": 55,
      "metadata": {
        "colab": {
          "base_uri": "https://localhost:8080/",
          "height": 49,
          "referenced_widgets": [
            "e3a9759aeeef4b139fb21c07fd2adec7",
            "4337e62e2c0e46cd898691d2f51199f4",
            "5d15386a8d5747679ef7bf237de85678",
            "ebe1e6fb1824465d89bcfc9e22422b88",
            "769d9be8e74a45388ba91b4a7416d865",
            "5c6bfef2e4214f71bb8f19a6d1514698",
            "4e068be82c8a4f80b9d8617e88fbd852",
            "30165482718f4d18af591d891208553f",
            "e4392c33cd2d4bbe86655198b93594e6",
            "b69c0c940a97426b94a0e20e48c0422c",
            "41ee185081dd423bb91823db3e938e4b"
          ]
        },
        "id": "bnpvz_Wxaimn",
        "outputId": "cd8fccbc-3689-4080-fddb-19c1152ab94a"
      },
      "outputs": [
        {
          "output_type": "display_data",
          "data": {
            "text/plain": [
              "Loading checkpoint shards:   0%|          | 0/2 [00:00<?, ?it/s]"
            ],
            "application/vnd.jupyter.widget-view+json": {
              "version_major": 2,
              "version_minor": 0,
              "model_id": "e3a9759aeeef4b139fb21c07fd2adec7"
            }
          },
          "metadata": {}
        }
      ],
      "source": [
        "# os.environ[\"CUDA_VISIBLE_DEVICES\"] = \"0\"  # TODO : riguardare che fa\n",
        "\n",
        "MODEL_NAME = \"meta-llama/Llama-3.2-3B-Instruct\"\n",
        "\n",
        "# Quantization is a technique that reduces the precision of\n",
        "# the model’s weights to make it run faster and consume less memory,\n",
        "# often at the cost of a slight reduction in model accuracy or quality\n",
        "bnb_config = BitsAndBytesConfig(\n",
        "    load_in_4bit=True,                      # Lower precision reduces memory usage and can speed up inference (maybe try 8)\n",
        "    bnb_4bit_use_double_quant=True,         # Using double quantization can help reduce the loss in accuracy associated with quantization\n",
        "    bnb_4bit_quant_type=\"nf4\",              # Normal Float 4-bit quantization, a scheme that may preserve model quality better than straightforward quantization methods\n",
        "    bnb_4bit_compute_dtype=torch.bfloat16,  # The internal compute dtype used during inference. bfloat16 (BF16) is often chosen because it’s efficient on modern accelerators\n",
        "    llm_int8_enable_fp32_cpu_offload=True   # Enable FP32 CPU offload\n",
        ")\n",
        "\n",
        "\n",
        "llm_model = AutoModelForCausalLM.from_pretrained(\n",
        "    MODEL_NAME,\n",
        "    device_map={\"\": device},  # Custom device map to ensure all modules are on GPU\n",
        "    quantization_config=bnb_config,\n",
        ").to(device)\n",
        "\n",
        "tokenizer = AutoTokenizer.from_pretrained(MODEL_NAME)\n",
        "tokenizer.pad_token = tokenizer.eos_token\n",
        "\n",
        "generation_config = llm_model.generation_config\n",
        "generation_config.max_new_tokens = 200                    # the maximum number of new tokens the model will generate (long outputs might be more prone to off-topic or repetitive content)\n",
        "generation_config.min_new_tokens = 1                      # the minimum number of new tokens the model will generate\n",
        "generation_config.temperature = 0.1                       # it controls the randomness of the generation, lower temp means more deterministic, conservative (less creative) and repetitive answers [about 0.1-1.2]\n",
        "generation_config.top_p = 0.5                             # nucleus sampling controls how the model picks words based on their cumulative probability, lower value (0.5) means safer, more coherent text but less diverse [about 0.5-0.9]\n",
        "generation_config.num_return_sequences = 1                # how many separate output sequences are returned for each generation prompt, get multiple different answers in one go, useful for picking the best response from several tries\n",
        "generation_config.pad_token_id = tokenizer.eos_token_id   # special token IDs that represent padding and the end-of-sequence token. Generally, these are set to ensure the model knows when to stop and how to handle inputs of different lengths\n",
        "generation_config.eos_token_id = tokenizer.eos_token_id\n",
        "generation_config.repetition_penalty = 2.0                # discourages the model from repeating the same phrases or tokens over and over [about 1.0-2.0] (high value cause the model to avoid some tokens even if they are contextually appropriate)"
      ]
    },
    {
      "cell_type": "code",
      "execution_count": 56,
      "metadata": {
        "colab": {
          "base_uri": "https://localhost:8080/"
        },
        "id": "PNwOi2dHTLPK",
        "outputId": "f70242d6-24b8-4299-f9e6-2ad780fdc497"
      },
      "outputs": [
        {
          "output_type": "stream",
          "name": "stdout",
          "text": [
            "Memory Allocated: 5.00 GB\n",
            "Total memory usage: 33.88%\n"
          ]
        }
      ],
      "source": [
        "# Check GPU usage\n",
        "gpu_memory_gb = torch.cuda.get_device_properties(device).total_memory / (1024 ** 3)  # in GB\n",
        "memory_allocated_gb = torch.cuda.memory_allocated(device) / (1024 ** 3)  # in GB\n",
        "print(f\"Memory Allocated: {memory_allocated_gb:.2f} GB\")\n",
        "print(f\"Total memory usage: {(memory_allocated_gb / gpu_memory_gb) * 100:.2f}%\")"
      ]
    },
    {
      "cell_type": "code",
      "execution_count": 57,
      "metadata": {
        "colab": {
          "base_uri": "https://localhost:8080/"
        },
        "id": "UTIj3ob0aimn",
        "outputId": "40ed57a8-8772-476e-bd62-8cfd871e45f4"
      },
      "outputs": [
        {
          "output_type": "stream",
          "name": "stdout",
          "text": [
            "Query: How many bytes can UTF-8 use to encode a character?\n",
            "(score: 0.7329) UTF-8 Unicode is not a character encoding scheme Unicode code points are just numeric values assigned to characters • Code points are not representations of characters as sequences of bytes • For exam\n",
            "(score: 0.7191) UTF-8 • All Unicode characters larger than U+007F are encoded as a sequence of two or more bytes, each of which has the most signiﬁcant bit set • This means that no ASCII byte can appear as part of an\n",
            "(score: 0.6776) Multimedia Information Retrieval and Computer Vision nicola.tonellotto@unipi.it Text Processing Encodings ASCII Character Encoding Scheme The ASCII encoding maps characters to 7-bit integers • using t\n",
            "(score: 0.6392) Example Convert U+05E7 to UTF-8 Determine that it is in the interval 0080 to 07FF, requiring two bytes: The encoding has the form: 110xxxxx 10xxxxxx • Write the code point in binary: 0000 0101 1110 01\n",
            "(score: 0.6231) UTF-8 • The table below shows the ranges of Unicode code points that map to the diﬀerent UTF-8 sequence lengths • Converting a Unicode code point to UTF-8 by hand is straightforward using the above ta\n"
          ]
        }
      ],
      "source": [
        "def retrieve_relevant_documents(query, k=5):\n",
        "    results = collection.query( # query the Chroma collection\n",
        "        query_texts=query,\n",
        "        n_results=k\n",
        "    )\n",
        "    return results['documents'][0], results['distances'][0]\n",
        "\n",
        "# test the function\n",
        "query = \"How many bytes can UTF-8 use to encode a character?\"\n",
        "print(f\"Query: {query}\")\n",
        "documents, distances = retrieve_relevant_documents(query)\n",
        "for doc, distance in (zip(documents, distances)):\n",
        "    print(f\"(score: {1-distance:.4f}) {doc[:200]}\")"
      ]
    },
    {
      "cell_type": "code",
      "execution_count": 58,
      "metadata": {
        "id": "dZoEEO3caimo"
      },
      "outputs": [],
      "source": [
        "base_prompt =  '''You are an AI assistant for RAG.\n",
        "Your task is to provide detailed and accurate answers to user questions based on the provided contexts.\n",
        "If and only if ALL of the provided context lacks sufficient information, just state: \"The provided context does not have the answer.\" without speculating or providing unsupported answers.\n",
        "Keep the answers concise and professional and do not add informations that are not asked.\n",
        "\n",
        "User question: {user_query}\n",
        "\n",
        "Contexts:\n",
        "{chunks_information}\n",
        "\n",
        "Answer:\n",
        "'''"
      ]
    },
    {
      "cell_type": "code",
      "execution_count": 59,
      "metadata": {
        "id": "eykUFrE-aimo"
      },
      "outputs": [],
      "source": [
        "# Example usage of the RAG system with the PDF\n",
        "def answer_questions(questions):\n",
        "    count = 0\n",
        "    error = 0\n",
        "    results = {}\n",
        "\n",
        "    current_time = time.strftime(\"%m%d-%H%M%S\")\n",
        "\n",
        "    pbar = tqdm(questions, total=len(questions), desc=\"Answering questions...\", unit=\"question\")\n",
        "    for q in pbar:\n",
        "        top_k_chunks = retrieve_relevant_documents(q['question'], k=5)\n",
        "        retrieved_chunks = [chunk for chunk in top_k_chunks]\n",
        "        prompt = base_prompt.format(user_query=q['question'], chunks_information=\"\\n\".join(retrieved_chunks))\n",
        "        encoding = tokenizer(prompt, return_tensors=\"pt\").to(device)\n",
        "        with torch.inference_mode():\n",
        "            outputs = llm_model.generate(\n",
        "                input_ids=encoding.input_ids,\n",
        "                attention_mask=encoding.attention_mask,\n",
        "                generation_config=generation_config,\n",
        "                num_beams=5,  # Use beam search for better results\n",
        "                early_stopping=True,  # Stop early if all beams finish\n",
        "            )\n",
        "\n",
        "        # Exclude the prompt tokens from the generated output\n",
        "        generated_tokens = outputs[0][len(encoding.input_ids[0]):]\n",
        "        generated_unpreprocessed_sequence = tokenizer.decode(generated_tokens, skip_special_tokens=True).strip()\n",
        "        match = re.search(r'\\b[1-4]\\b', generated_unpreprocessed_sequence)\n",
        "        answer = match.group(0) if match else \"\"  # first number found or empty string\n",
        "\n",
        "        with open(f\"quiz/runs_basemodel/quiz_answers_{current_time}.txt\", \"a\", encoding=\"utf-8\") as f:\n",
        "            f.write(f\"Question: {q['question']}\\nAnswer: {answer}\\nCorrect answer:{q['correct']}\\nGenerated unpreprocessed sequence: {generated_unpreprocessed_sequence}\\n--------------------------------------------------------------------\\n\\n\")\n",
        "\n",
        "        results[q['question_id']] = answer\n",
        "\n",
        "        if len(answer) != 1 or answer not in \"1234\":\n",
        "            error += 1\n",
        "        else:  # the format is correct, now check if the answer is correct\n",
        "            if str(q['correct']) == answer:\n",
        "                count += 1\n",
        "        pbar.set_postfix(Corrects=f\"{count}/{len(questions)}\", Errors=error)\n",
        "\n",
        "    print(\"-------------------------\\tFINISHED RUN. Error count: \", error, \"-------------------------\")\n",
        "    return results, count / len(questions) * 100"
      ]
    },
    {
      "cell_type": "code",
      "execution_count": null,
      "metadata": {
        "colab": {
          "base_uri": "https://localhost:8080/",
          "height": 1000
        },
        "id": "Qffn8GFeaimo",
        "outputId": "22382109-dd0d-467a-a304-e1dcdd09961e"
      },
      "outputs": [
        {
          "output_type": "stream",
          "name": "stdout",
          "text": [
            "Running Gradio in a Colab notebook requires sharing enabled. Automatically setting `share=True` (you can turn this off by setting `share=False` in `launch()` explicitly).\n",
            "\n",
            "Colab notebook detected. This cell will run indefinitely so that you can see errors and logs. To turn off, set debug=False in launch().\n",
            "* Running on public URL: https://bcf35ff01149f5c47b.gradio.live\n",
            "\n",
            "This share link expires in 72 hours. For free permanent hosting and GPU upgrades, run `gradio deploy` from the terminal in the working directory to deploy to Hugging Face Spaces (https://huggingface.co/spaces)\n"
          ]
        },
        {
          "output_type": "display_data",
          "data": {
            "text/plain": [
              "<IPython.core.display.HTML object>"
            ],
            "text/html": [
              "<div><iframe src=\"https://bcf35ff01149f5c47b.gradio.live\" width=\"100%\" height=\"500\" allow=\"autoplay; camera; microphone; clipboard-read; clipboard-write;\" frameborder=\"0\" allowfullscreen></iframe></div>"
            ]
          },
          "metadata": {}
        },
        {
          "output_type": "stream",
          "name": "stdout",
          "text": [
            "documents and their scores: \n",
            "Score: 0.7329, UTF-8 Unicode is not a character encoding scheme Unicode code points are just numeric values assigned to characters • Code points are not representations of characters as sequences of bytes • For exam\n",
            "Score: 0.7191, UTF-8 • All Unicode characters larger than U+007F are encoded as a sequence of two or more bytes, each of which has the most signiﬁcant bit set • This means that no ASCII byte can appear as part of an\n",
            "Score: 0.6776, Multimedia Information Retrieval and Computer Vision nicola.tonellotto@unipi.it Text Processing Encodings ASCII Character Encoding Scheme The ASCII encoding maps characters to 7-bit integers • using t\n",
            "Score: 0.6392, Example Convert U+05E7 to UTF-8 Determine that it is in the interval 0080 to 07FF, requiring two bytes: The encoding has the form: 110xxxxx 10xxxxxx • Write the code point in binary: 0000 0101 1110 01\n",
            "Score: 0.6231, UTF-8 • The table below shows the ranges of Unicode code points that map to the diﬀerent UTF-8 sequence lengths • Converting a Unicode code point to UTF-8 by hand is straightforward using the above ta\n",
            "Generated Text: The provided context does not have the answer. \n",
            "\n",
            "documents and their scores: \n",
            "Score: 0.6948, Multimedia Information Retrieval and Computer Vision nicola.tonellotto@unipi.it Text Processing Encodings ASCII Character Encoding Scheme The ASCII encoding maps characters to 7-bit integers • using t\n",
            "Score: 0.6394, UTF-8 • All Unicode characters larger than U+007F are encoded as a sequence of two or more bytes, each of which has the most signiﬁcant bit set • This means that no ASCII byte can appear as part of an\n",
            "Score: 0.5965, UTF-8 Unicode is not a character encoding scheme Unicode code points are just numeric values assigned to characters • Code points are not representations of characters as sequences of bytes • For exam\n",
            "Score: 0.5590, • All further bytes in a multibyte sequence start with the two bits 10 and are in the range 0x80 to 0xBF • UTF-8 sequences must be of the following forms in binary, where the x's represent the bits fr\n",
            "Score: 0.5408, \\[tf_{i}^{\\prime}(d_{j})=tf_{i}(d_{j})\\frac{avdl}{dl_{j}}\\] \\[c_{i}^{\\text{BM11}}(tf_{i},d_{j})=c_{i}^{\\text{BM1}}\\frac{tf_{i}^{\\prime}(d_{j })}{k_{1}+tf_{i}^{\\prime}(d_{j})}=c_{i}^{\\text{BM1}}\\frac{t\n",
            "Generated Text: The provided context does not have the answer. \n",
            "\n",
            "documents and their scores: \n",
            "Score: 0.6909, Multimedia Information Retrieval and Computer Vision nicola.tonellotto@unipi.it Text Processing Encodings ASCII Character Encoding Scheme The ASCII encoding maps characters to 7-bit integers • using t\n",
            "Score: 0.6381, UTF-8 • All Unicode characters larger than U+007F are encoded as a sequence of two or more bytes, each of which has the most signiﬁcant bit set • This means that no ASCII byte can appear as part of an\n",
            "Score: 0.5932, UTF-8 Unicode is not a character encoding scheme Unicode code points are just numeric values assigned to characters • Code points are not representations of characters as sequences of bytes • For exam\n",
            "Score: 0.5545, • All further bytes in a multibyte sequence start with the two bits 10 and are in the range 0x80 to 0xBF • UTF-8 sequences must be of the following forms in binary, where the x's represent the bits fr\n",
            "Score: 0.5397, Unicode Standard • Unicode contains the alphabets of almost all known languages, as diverse as Japanese, Chinese, Greek, Cyrillic, Canadian Aboriginal, and Arabic • A character is deﬁned as the smalle\n",
            "Generated Text: The provided context does not have the answer. \n",
            "\n",
            "documents and their scores: \n",
            "Score: 0.8310, Multimedia Information Retrieval and Computer Vision nicola.tonellotto@unipi.it Text Processing Encodings ASCII Character Encoding Scheme The ASCII encoding maps characters to 7-bit integers • using t\n",
            "Score: 0.6947, UTF-8 Unicode is not a character encoding scheme Unicode code points are just numeric values assigned to characters • Code points are not representations of characters as sequences of bytes • For exam\n",
            "Score: 0.6497, UTF-8 • All Unicode characters larger than U+007F are encoded as a sequence of two or more bytes, each of which has the most signiﬁcant bit set • This means that no ASCII byte can appear as part of an\n",
            "Score: 0.5901, Unicode Standard • Unicode contains the alphabets of almost all known languages, as diverse as Japanese, Chinese, Greek, Cyrillic, Canadian Aboriginal, and Arabic • A character is deﬁned as the smalle\n",
            "Score: 0.5554, UTF-8 • The table below shows the ranges of Unicode code points that map to the diﬀerent UTF-8 sequence lengths • Converting a Unicode code point to UTF-8 by hand is straightforward using the above ta\n",
            "Generated Text: The ASCII encoding maps characters to 7-bit integers, using the range from 0 to 127 to represent 94 printing characters, 33 control characters, and the space, since a byte is usually used to store a character, the eighth bit of the byte is filled with a 0. \n",
            "\n"
          ]
        }
      ],
      "source": [
        "import gradio as gr\n",
        "from latex2mathml.converter import convert as latex2mathml\n",
        "import re\n",
        "\n",
        "def preprocess_latex_formula(text):\n",
        "    \"\"\"\n",
        "    Estrae le formule LaTeX (inline e display) e le converte in MathML,\n",
        "    rimuovendo parentesi graffe inutili e gestendo simboli complessi.\n",
        "    \"\"\"\n",
        "    # 1. Escapare le parentesi graffe\n",
        "    text = text.replace(r'\\{', r'\\\\{').replace(r'\\}', r'\\\\}')\n",
        "\n",
        "    # 2. Gestione delle formule LaTeX in modalità display\n",
        "    display_formula_pattern = r'(?:\\\\\\[|\\$\\$)(.*?)(?:\\\\\\]|\\$\\$)'\n",
        "\n",
        "    # 3. Gestione delle formule LaTeX inline\n",
        "    inline_formula_pattern = r'\\\\\\((.*?)\\\\\\)|\\$(.*?)\\$'\n",
        "\n",
        "    def convert_latex_to_mathml(match, mode):\n",
        "        latex = match.group(1) or match.group(2)\n",
        "        latex = latex.strip()\n",
        "\n",
        "        try:\n",
        "            mathml = latex2mathml(latex)\n",
        "            mathml = mathml.replace(\"{\", \"\").replace(\"}\", \"\")\n",
        "\n",
        "            if mode == 'display':\n",
        "                return f'<div style=\"text-align: center; margin: 1em 0;\">{mathml}</div>'\n",
        "            else:\n",
        "                return f'<span style=\"vertical-align: middle;\">{mathml}</span>'\n",
        "        except Exception as e:\n",
        "            print(f\"Error converting formula: {latex} \\nError: {e}\")\n",
        "            return f'[Error converting formula: {latex}]'\n",
        "\n",
        "    text = re.sub(\n",
        "        display_formula_pattern,\n",
        "        lambda match: convert_latex_to_mathml(match, 'display'),\n",
        "        text,\n",
        "        flags=re.DOTALL\n",
        "    )\n",
        "\n",
        "    text = re.sub(\n",
        "        inline_formula_pattern,\n",
        "        lambda match: convert_latex_to_mathml(match, 'inline'),\n",
        "        text,\n",
        "        flags=re.DOTALL\n",
        "    )\n",
        "\n",
        "    return text\n",
        "\n",
        "def query_rag_model(user_query):\n",
        "    # Recupero dei documenti\n",
        "    documents, scores = retrieve_relevant_documents(user_query, k=5)\n",
        "\n",
        "    print(\"documents and their scores: \")\n",
        "    for doc, score in zip(documents, scores):\n",
        "        print(f\"Score: {1-score:.4f}, {doc[:200]}\")\n",
        "\n",
        "    # Prompt per il modello\n",
        "    prompt = base_prompt.format(user_query=user_query, chunks_information=\"\\n\".join(documents))\n",
        "    encoding = tokenizer(prompt, return_tensors=\"pt\").to(device)\n",
        "\n",
        "    with torch.inference_mode():\n",
        "        outputs = llm_model.generate(\n",
        "            input_ids=encoding.input_ids,\n",
        "            attention_mask=encoding.attention_mask,\n",
        "            generation_config=generation_config,\n",
        "            num_beams=5,\n",
        "            early_stopping=True,\n",
        "        )\n",
        "\n",
        "    generated_tokens = outputs[0][len(encoding.input_ids[0]):]\n",
        "    generated_unpreprocessed_sequence = tokenizer.decode(generated_tokens, skip_special_tokens=True).strip()\n",
        "    print(\"Generated Text:\", generated_unpreprocessed_sequence,\"\\n\")\n",
        "\n",
        "    # Converti le formule LaTeX in MathML\n",
        "    processed_output = preprocess_latex_formula(generated_unpreprocessed_sequence)\n",
        "    return processed_output\n",
        "\n",
        "# Creazione dell'interfaccia Gradio con stile consistente\n",
        "with gr.Blocks(css=\"\"\"\n",
        "    .input-box { border: 1px solid #ccc; border-radius: 4px; padding: 10px; margin: 10px 0; }\n",
        "    .output-box { border: 1px solid #ccc; border-radius: 4px; padding: 10px; margin: 10px 0; background-color: #373535; height: auto; }\n",
        "\n",
        "\"\"\") as demo:\n",
        "    gr.Markdown(\"# RAG Model Query Interface\")\n",
        "    gr.Markdown(\"Ask questions to the RAG model and get answers based on the provided PDF context.\")\n",
        "\n",
        "    with gr.Row():\n",
        "        with gr.Column():\n",
        "            input_text = gr.Textbox(\n",
        "                label=\"Enter your query\",\n",
        "                placeholder=\"Type your question here...\",\n",
        "                elem_classes=[\"input-box\"]\n",
        "            )\n",
        "\n",
        "    with gr.Row():\n",
        "        with gr.Column():\n",
        "            output_text = gr.HTML(\n",
        "                label=\"Answer\",\n",
        "                elem_classes=[\"output-box\"]\n",
        "            )\n",
        "\n",
        "    input_text.submit(\n",
        "        fn=query_rag_model,\n",
        "        inputs=input_text,\n",
        "        outputs=output_text\n",
        "    )\n",
        "\n",
        "# Avvia l'interfaccia\n",
        "\n",
        "demo.launch(debug=True)"
      ]
    }
  ],
  "metadata": {
    "accelerator": "GPU",
    "colab": {
      "gpuType": "T4",
      "provenance": [],
      "include_colab_link": true
    },
    "kernelspec": {
      "display_name": "lm",
      "language": "python",
      "name": "python3"
    },
    "language_info": {
      "codemirror_mode": {
        "name": "ipython",
        "version": 3
      },
      "file_extension": ".py",
      "mimetype": "text/x-python",
      "name": "python",
      "nbconvert_exporter": "python",
      "pygments_lexer": "ipython3",
      "version": "3.12.7"
    },
    "widgets": {
      "application/vnd.jupyter.widget-state+json": {
        "517c114c8ada458eb71c10b32dacf956": {
          "model_module": "@jupyter-widgets/controls",
          "model_name": "HBoxModel",
          "model_module_version": "1.5.0",
          "state": {
            "_dom_classes": [],
            "_model_module": "@jupyter-widgets/controls",
            "_model_module_version": "1.5.0",
            "_model_name": "HBoxModel",
            "_view_count": null,
            "_view_module": "@jupyter-widgets/controls",
            "_view_module_version": "1.5.0",
            "_view_name": "HBoxView",
            "box_style": "",
            "children": [
              "IPY_MODEL_39e5a1c895064f4f90497b2be0f19058",
              "IPY_MODEL_49ad974ca5794ea590db740af168ac80",
              "IPY_MODEL_ae95aec11ba44db28e58b4dbe468741a"
            ],
            "layout": "IPY_MODEL_39fe55f747da48fda8fc574a1b7f3fe5"
          }
        },
        "39e5a1c895064f4f90497b2be0f19058": {
          "model_module": "@jupyter-widgets/controls",
          "model_name": "HTMLModel",
          "model_module_version": "1.5.0",
          "state": {
            "_dom_classes": [],
            "_model_module": "@jupyter-widgets/controls",
            "_model_module_version": "1.5.0",
            "_model_name": "HTMLModel",
            "_view_count": null,
            "_view_module": "@jupyter-widgets/controls",
            "_view_module_version": "1.5.0",
            "_view_name": "HTMLView",
            "description": "",
            "description_tooltip": null,
            "layout": "IPY_MODEL_5b0538c3bd5849bbaa9973b8f2555251",
            "placeholder": "​",
            "style": "IPY_MODEL_cf36d37545434ab98893535264a30e0e",
            "value": "Batches: 100%"
          }
        },
        "49ad974ca5794ea590db740af168ac80": {
          "model_module": "@jupyter-widgets/controls",
          "model_name": "FloatProgressModel",
          "model_module_version": "1.5.0",
          "state": {
            "_dom_classes": [],
            "_model_module": "@jupyter-widgets/controls",
            "_model_module_version": "1.5.0",
            "_model_name": "FloatProgressModel",
            "_view_count": null,
            "_view_module": "@jupyter-widgets/controls",
            "_view_module_version": "1.5.0",
            "_view_name": "ProgressView",
            "bar_style": "success",
            "description": "",
            "description_tooltip": null,
            "layout": "IPY_MODEL_243cbab5e2114709becd8a8f1f2befe0",
            "max": 16,
            "min": 0,
            "orientation": "horizontal",
            "style": "IPY_MODEL_79360d975f9e41efb6acea38b929d56e",
            "value": 16
          }
        },
        "ae95aec11ba44db28e58b4dbe468741a": {
          "model_module": "@jupyter-widgets/controls",
          "model_name": "HTMLModel",
          "model_module_version": "1.5.0",
          "state": {
            "_dom_classes": [],
            "_model_module": "@jupyter-widgets/controls",
            "_model_module_version": "1.5.0",
            "_model_name": "HTMLModel",
            "_view_count": null,
            "_view_module": "@jupyter-widgets/controls",
            "_view_module_version": "1.5.0",
            "_view_name": "HTMLView",
            "description": "",
            "description_tooltip": null,
            "layout": "IPY_MODEL_4966afee1b8d402c862c2f98b7efbd20",
            "placeholder": "​",
            "style": "IPY_MODEL_cb05151d51784fa38b04a5d7245c0b79",
            "value": " 16/16 [00:07&lt;00:00,  1.90it/s]"
          }
        },
        "39fe55f747da48fda8fc574a1b7f3fe5": {
          "model_module": "@jupyter-widgets/base",
          "model_name": "LayoutModel",
          "model_module_version": "1.2.0",
          "state": {
            "_model_module": "@jupyter-widgets/base",
            "_model_module_version": "1.2.0",
            "_model_name": "LayoutModel",
            "_view_count": null,
            "_view_module": "@jupyter-widgets/base",
            "_view_module_version": "1.2.0",
            "_view_name": "LayoutView",
            "align_content": null,
            "align_items": null,
            "align_self": null,
            "border": null,
            "bottom": null,
            "display": null,
            "flex": null,
            "flex_flow": null,
            "grid_area": null,
            "grid_auto_columns": null,
            "grid_auto_flow": null,
            "grid_auto_rows": null,
            "grid_column": null,
            "grid_gap": null,
            "grid_row": null,
            "grid_template_areas": null,
            "grid_template_columns": null,
            "grid_template_rows": null,
            "height": null,
            "justify_content": null,
            "justify_items": null,
            "left": null,
            "margin": null,
            "max_height": null,
            "max_width": null,
            "min_height": null,
            "min_width": null,
            "object_fit": null,
            "object_position": null,
            "order": null,
            "overflow": null,
            "overflow_x": null,
            "overflow_y": null,
            "padding": null,
            "right": null,
            "top": null,
            "visibility": null,
            "width": null
          }
        },
        "5b0538c3bd5849bbaa9973b8f2555251": {
          "model_module": "@jupyter-widgets/base",
          "model_name": "LayoutModel",
          "model_module_version": "1.2.0",
          "state": {
            "_model_module": "@jupyter-widgets/base",
            "_model_module_version": "1.2.0",
            "_model_name": "LayoutModel",
            "_view_count": null,
            "_view_module": "@jupyter-widgets/base",
            "_view_module_version": "1.2.0",
            "_view_name": "LayoutView",
            "align_content": null,
            "align_items": null,
            "align_self": null,
            "border": null,
            "bottom": null,
            "display": null,
            "flex": null,
            "flex_flow": null,
            "grid_area": null,
            "grid_auto_columns": null,
            "grid_auto_flow": null,
            "grid_auto_rows": null,
            "grid_column": null,
            "grid_gap": null,
            "grid_row": null,
            "grid_template_areas": null,
            "grid_template_columns": null,
            "grid_template_rows": null,
            "height": null,
            "justify_content": null,
            "justify_items": null,
            "left": null,
            "margin": null,
            "max_height": null,
            "max_width": null,
            "min_height": null,
            "min_width": null,
            "object_fit": null,
            "object_position": null,
            "order": null,
            "overflow": null,
            "overflow_x": null,
            "overflow_y": null,
            "padding": null,
            "right": null,
            "top": null,
            "visibility": null,
            "width": null
          }
        },
        "cf36d37545434ab98893535264a30e0e": {
          "model_module": "@jupyter-widgets/controls",
          "model_name": "DescriptionStyleModel",
          "model_module_version": "1.5.0",
          "state": {
            "_model_module": "@jupyter-widgets/controls",
            "_model_module_version": "1.5.0",
            "_model_name": "DescriptionStyleModel",
            "_view_count": null,
            "_view_module": "@jupyter-widgets/base",
            "_view_module_version": "1.2.0",
            "_view_name": "StyleView",
            "description_width": ""
          }
        },
        "243cbab5e2114709becd8a8f1f2befe0": {
          "model_module": "@jupyter-widgets/base",
          "model_name": "LayoutModel",
          "model_module_version": "1.2.0",
          "state": {
            "_model_module": "@jupyter-widgets/base",
            "_model_module_version": "1.2.0",
            "_model_name": "LayoutModel",
            "_view_count": null,
            "_view_module": "@jupyter-widgets/base",
            "_view_module_version": "1.2.0",
            "_view_name": "LayoutView",
            "align_content": null,
            "align_items": null,
            "align_self": null,
            "border": null,
            "bottom": null,
            "display": null,
            "flex": null,
            "flex_flow": null,
            "grid_area": null,
            "grid_auto_columns": null,
            "grid_auto_flow": null,
            "grid_auto_rows": null,
            "grid_column": null,
            "grid_gap": null,
            "grid_row": null,
            "grid_template_areas": null,
            "grid_template_columns": null,
            "grid_template_rows": null,
            "height": null,
            "justify_content": null,
            "justify_items": null,
            "left": null,
            "margin": null,
            "max_height": null,
            "max_width": null,
            "min_height": null,
            "min_width": null,
            "object_fit": null,
            "object_position": null,
            "order": null,
            "overflow": null,
            "overflow_x": null,
            "overflow_y": null,
            "padding": null,
            "right": null,
            "top": null,
            "visibility": null,
            "width": null
          }
        },
        "79360d975f9e41efb6acea38b929d56e": {
          "model_module": "@jupyter-widgets/controls",
          "model_name": "ProgressStyleModel",
          "model_module_version": "1.5.0",
          "state": {
            "_model_module": "@jupyter-widgets/controls",
            "_model_module_version": "1.5.0",
            "_model_name": "ProgressStyleModel",
            "_view_count": null,
            "_view_module": "@jupyter-widgets/base",
            "_view_module_version": "1.2.0",
            "_view_name": "StyleView",
            "bar_color": null,
            "description_width": ""
          }
        },
        "4966afee1b8d402c862c2f98b7efbd20": {
          "model_module": "@jupyter-widgets/base",
          "model_name": "LayoutModel",
          "model_module_version": "1.2.0",
          "state": {
            "_model_module": "@jupyter-widgets/base",
            "_model_module_version": "1.2.0",
            "_model_name": "LayoutModel",
            "_view_count": null,
            "_view_module": "@jupyter-widgets/base",
            "_view_module_version": "1.2.0",
            "_view_name": "LayoutView",
            "align_content": null,
            "align_items": null,
            "align_self": null,
            "border": null,
            "bottom": null,
            "display": null,
            "flex": null,
            "flex_flow": null,
            "grid_area": null,
            "grid_auto_columns": null,
            "grid_auto_flow": null,
            "grid_auto_rows": null,
            "grid_column": null,
            "grid_gap": null,
            "grid_row": null,
            "grid_template_areas": null,
            "grid_template_columns": null,
            "grid_template_rows": null,
            "height": null,
            "justify_content": null,
            "justify_items": null,
            "left": null,
            "margin": null,
            "max_height": null,
            "max_width": null,
            "min_height": null,
            "min_width": null,
            "object_fit": null,
            "object_position": null,
            "order": null,
            "overflow": null,
            "overflow_x": null,
            "overflow_y": null,
            "padding": null,
            "right": null,
            "top": null,
            "visibility": null,
            "width": null
          }
        },
        "cb05151d51784fa38b04a5d7245c0b79": {
          "model_module": "@jupyter-widgets/controls",
          "model_name": "DescriptionStyleModel",
          "model_module_version": "1.5.0",
          "state": {
            "_model_module": "@jupyter-widgets/controls",
            "_model_module_version": "1.5.0",
            "_model_name": "DescriptionStyleModel",
            "_view_count": null,
            "_view_module": "@jupyter-widgets/base",
            "_view_module_version": "1.2.0",
            "_view_name": "StyleView",
            "description_width": ""
          }
        },
        "b724951a6ee34333bf5973941f497d76": {
          "model_module": "@jupyter-widgets/controls",
          "model_name": "HBoxModel",
          "model_module_version": "1.5.0",
          "state": {
            "_dom_classes": [],
            "_model_module": "@jupyter-widgets/controls",
            "_model_module_version": "1.5.0",
            "_model_name": "HBoxModel",
            "_view_count": null,
            "_view_module": "@jupyter-widgets/controls",
            "_view_module_version": "1.5.0",
            "_view_name": "HBoxView",
            "box_style": "",
            "children": [
              "IPY_MODEL_1f69777bcc7d42cb9cb55179c00e4e4e",
              "IPY_MODEL_c9199337d8c344c0a73c1891ae64241f",
              "IPY_MODEL_a5ff3839ab4044f0912afb33591da86a"
            ],
            "layout": "IPY_MODEL_af60eba01fa240748e2c016fccb61fbb"
          }
        },
        "1f69777bcc7d42cb9cb55179c00e4e4e": {
          "model_module": "@jupyter-widgets/controls",
          "model_name": "HTMLModel",
          "model_module_version": "1.5.0",
          "state": {
            "_dom_classes": [],
            "_model_module": "@jupyter-widgets/controls",
            "_model_module_version": "1.5.0",
            "_model_name": "HTMLModel",
            "_view_count": null,
            "_view_module": "@jupyter-widgets/controls",
            "_view_module_version": "1.5.0",
            "_view_name": "HTMLView",
            "description": "",
            "description_tooltip": null,
            "layout": "IPY_MODEL_5c6692d3b8cb43be8454428fb7d50702",
            "placeholder": "​",
            "style": "IPY_MODEL_ae70693e18f24d1ea5ed03158dac523a",
            "value": "Batches: 100%"
          }
        },
        "c9199337d8c344c0a73c1891ae64241f": {
          "model_module": "@jupyter-widgets/controls",
          "model_name": "FloatProgressModel",
          "model_module_version": "1.5.0",
          "state": {
            "_dom_classes": [],
            "_model_module": "@jupyter-widgets/controls",
            "_model_module_version": "1.5.0",
            "_model_name": "FloatProgressModel",
            "_view_count": null,
            "_view_module": "@jupyter-widgets/controls",
            "_view_module_version": "1.5.0",
            "_view_name": "ProgressView",
            "bar_style": "success",
            "description": "",
            "description_tooltip": null,
            "layout": "IPY_MODEL_088a00e4ef6e45d3a9b558e67963c98c",
            "max": 8,
            "min": 0,
            "orientation": "horizontal",
            "style": "IPY_MODEL_99a10b4090ea4b7ebbdd336c152cbcb1",
            "value": 8
          }
        },
        "a5ff3839ab4044f0912afb33591da86a": {
          "model_module": "@jupyter-widgets/controls",
          "model_name": "HTMLModel",
          "model_module_version": "1.5.0",
          "state": {
            "_dom_classes": [],
            "_model_module": "@jupyter-widgets/controls",
            "_model_module_version": "1.5.0",
            "_model_name": "HTMLModel",
            "_view_count": null,
            "_view_module": "@jupyter-widgets/controls",
            "_view_module_version": "1.5.0",
            "_view_name": "HTMLView",
            "description": "",
            "description_tooltip": null,
            "layout": "IPY_MODEL_619559e8a6d64cdcbad2bf86470e00f7",
            "placeholder": "​",
            "style": "IPY_MODEL_33e92c6778144f31a027f47181634dc7",
            "value": " 8/8 [00:13&lt;00:00,  1.86s/it]"
          }
        },
        "af60eba01fa240748e2c016fccb61fbb": {
          "model_module": "@jupyter-widgets/base",
          "model_name": "LayoutModel",
          "model_module_version": "1.2.0",
          "state": {
            "_model_module": "@jupyter-widgets/base",
            "_model_module_version": "1.2.0",
            "_model_name": "LayoutModel",
            "_view_count": null,
            "_view_module": "@jupyter-widgets/base",
            "_view_module_version": "1.2.0",
            "_view_name": "LayoutView",
            "align_content": null,
            "align_items": null,
            "align_self": null,
            "border": null,
            "bottom": null,
            "display": null,
            "flex": null,
            "flex_flow": null,
            "grid_area": null,
            "grid_auto_columns": null,
            "grid_auto_flow": null,
            "grid_auto_rows": null,
            "grid_column": null,
            "grid_gap": null,
            "grid_row": null,
            "grid_template_areas": null,
            "grid_template_columns": null,
            "grid_template_rows": null,
            "height": null,
            "justify_content": null,
            "justify_items": null,
            "left": null,
            "margin": null,
            "max_height": null,
            "max_width": null,
            "min_height": null,
            "min_width": null,
            "object_fit": null,
            "object_position": null,
            "order": null,
            "overflow": null,
            "overflow_x": null,
            "overflow_y": null,
            "padding": null,
            "right": null,
            "top": null,
            "visibility": null,
            "width": null
          }
        },
        "5c6692d3b8cb43be8454428fb7d50702": {
          "model_module": "@jupyter-widgets/base",
          "model_name": "LayoutModel",
          "model_module_version": "1.2.0",
          "state": {
            "_model_module": "@jupyter-widgets/base",
            "_model_module_version": "1.2.0",
            "_model_name": "LayoutModel",
            "_view_count": null,
            "_view_module": "@jupyter-widgets/base",
            "_view_module_version": "1.2.0",
            "_view_name": "LayoutView",
            "align_content": null,
            "align_items": null,
            "align_self": null,
            "border": null,
            "bottom": null,
            "display": null,
            "flex": null,
            "flex_flow": null,
            "grid_area": null,
            "grid_auto_columns": null,
            "grid_auto_flow": null,
            "grid_auto_rows": null,
            "grid_column": null,
            "grid_gap": null,
            "grid_row": null,
            "grid_template_areas": null,
            "grid_template_columns": null,
            "grid_template_rows": null,
            "height": null,
            "justify_content": null,
            "justify_items": null,
            "left": null,
            "margin": null,
            "max_height": null,
            "max_width": null,
            "min_height": null,
            "min_width": null,
            "object_fit": null,
            "object_position": null,
            "order": null,
            "overflow": null,
            "overflow_x": null,
            "overflow_y": null,
            "padding": null,
            "right": null,
            "top": null,
            "visibility": null,
            "width": null
          }
        },
        "ae70693e18f24d1ea5ed03158dac523a": {
          "model_module": "@jupyter-widgets/controls",
          "model_name": "DescriptionStyleModel",
          "model_module_version": "1.5.0",
          "state": {
            "_model_module": "@jupyter-widgets/controls",
            "_model_module_version": "1.5.0",
            "_model_name": "DescriptionStyleModel",
            "_view_count": null,
            "_view_module": "@jupyter-widgets/base",
            "_view_module_version": "1.2.0",
            "_view_name": "StyleView",
            "description_width": ""
          }
        },
        "088a00e4ef6e45d3a9b558e67963c98c": {
          "model_module": "@jupyter-widgets/base",
          "model_name": "LayoutModel",
          "model_module_version": "1.2.0",
          "state": {
            "_model_module": "@jupyter-widgets/base",
            "_model_module_version": "1.2.0",
            "_model_name": "LayoutModel",
            "_view_count": null,
            "_view_module": "@jupyter-widgets/base",
            "_view_module_version": "1.2.0",
            "_view_name": "LayoutView",
            "align_content": null,
            "align_items": null,
            "align_self": null,
            "border": null,
            "bottom": null,
            "display": null,
            "flex": null,
            "flex_flow": null,
            "grid_area": null,
            "grid_auto_columns": null,
            "grid_auto_flow": null,
            "grid_auto_rows": null,
            "grid_column": null,
            "grid_gap": null,
            "grid_row": null,
            "grid_template_areas": null,
            "grid_template_columns": null,
            "grid_template_rows": null,
            "height": null,
            "justify_content": null,
            "justify_items": null,
            "left": null,
            "margin": null,
            "max_height": null,
            "max_width": null,
            "min_height": null,
            "min_width": null,
            "object_fit": null,
            "object_position": null,
            "order": null,
            "overflow": null,
            "overflow_x": null,
            "overflow_y": null,
            "padding": null,
            "right": null,
            "top": null,
            "visibility": null,
            "width": null
          }
        },
        "99a10b4090ea4b7ebbdd336c152cbcb1": {
          "model_module": "@jupyter-widgets/controls",
          "model_name": "ProgressStyleModel",
          "model_module_version": "1.5.0",
          "state": {
            "_model_module": "@jupyter-widgets/controls",
            "_model_module_version": "1.5.0",
            "_model_name": "ProgressStyleModel",
            "_view_count": null,
            "_view_module": "@jupyter-widgets/base",
            "_view_module_version": "1.2.0",
            "_view_name": "StyleView",
            "bar_color": null,
            "description_width": ""
          }
        },
        "619559e8a6d64cdcbad2bf86470e00f7": {
          "model_module": "@jupyter-widgets/base",
          "model_name": "LayoutModel",
          "model_module_version": "1.2.0",
          "state": {
            "_model_module": "@jupyter-widgets/base",
            "_model_module_version": "1.2.0",
            "_model_name": "LayoutModel",
            "_view_count": null,
            "_view_module": "@jupyter-widgets/base",
            "_view_module_version": "1.2.0",
            "_view_name": "LayoutView",
            "align_content": null,
            "align_items": null,
            "align_self": null,
            "border": null,
            "bottom": null,
            "display": null,
            "flex": null,
            "flex_flow": null,
            "grid_area": null,
            "grid_auto_columns": null,
            "grid_auto_flow": null,
            "grid_auto_rows": null,
            "grid_column": null,
            "grid_gap": null,
            "grid_row": null,
            "grid_template_areas": null,
            "grid_template_columns": null,
            "grid_template_rows": null,
            "height": null,
            "justify_content": null,
            "justify_items": null,
            "left": null,
            "margin": null,
            "max_height": null,
            "max_width": null,
            "min_height": null,
            "min_width": null,
            "object_fit": null,
            "object_position": null,
            "order": null,
            "overflow": null,
            "overflow_x": null,
            "overflow_y": null,
            "padding": null,
            "right": null,
            "top": null,
            "visibility": null,
            "width": null
          }
        },
        "33e92c6778144f31a027f47181634dc7": {
          "model_module": "@jupyter-widgets/controls",
          "model_name": "DescriptionStyleModel",
          "model_module_version": "1.5.0",
          "state": {
            "_model_module": "@jupyter-widgets/controls",
            "_model_module_version": "1.5.0",
            "_model_name": "DescriptionStyleModel",
            "_view_count": null,
            "_view_module": "@jupyter-widgets/base",
            "_view_module_version": "1.2.0",
            "_view_name": "StyleView",
            "description_width": ""
          }
        },
        "50d2168abb604a89a61f7f8cc0dcda07": {
          "model_module": "@jupyter-widgets/controls",
          "model_name": "HBoxModel",
          "model_module_version": "1.5.0",
          "state": {
            "_dom_classes": [],
            "_model_module": "@jupyter-widgets/controls",
            "_model_module_version": "1.5.0",
            "_model_name": "HBoxModel",
            "_view_count": null,
            "_view_module": "@jupyter-widgets/controls",
            "_view_module_version": "1.5.0",
            "_view_name": "HBoxView",
            "box_style": "",
            "children": [
              "IPY_MODEL_891e7319f4294fc4a7aef48250812f28",
              "IPY_MODEL_ef62b09b0f904bf4be7ae4389294fb34",
              "IPY_MODEL_3f3f8005f80f41e58f97bd05f4431218"
            ],
            "layout": "IPY_MODEL_2ba6010d15ba4f2fa24d476bb180b91a"
          }
        },
        "891e7319f4294fc4a7aef48250812f28": {
          "model_module": "@jupyter-widgets/controls",
          "model_name": "HTMLModel",
          "model_module_version": "1.5.0",
          "state": {
            "_dom_classes": [],
            "_model_module": "@jupyter-widgets/controls",
            "_model_module_version": "1.5.0",
            "_model_name": "HTMLModel",
            "_view_count": null,
            "_view_module": "@jupyter-widgets/controls",
            "_view_module_version": "1.5.0",
            "_view_name": "HTMLView",
            "description": "",
            "description_tooltip": null,
            "layout": "IPY_MODEL_79d0e3ae9c4b48c9a4a15a4b8eb2eccd",
            "placeholder": "​",
            "style": "IPY_MODEL_ee0e79bf48f543f1a250875f3f1576d2",
            "value": "Batches: 100%"
          }
        },
        "ef62b09b0f904bf4be7ae4389294fb34": {
          "model_module": "@jupyter-widgets/controls",
          "model_name": "FloatProgressModel",
          "model_module_version": "1.5.0",
          "state": {
            "_dom_classes": [],
            "_model_module": "@jupyter-widgets/controls",
            "_model_module_version": "1.5.0",
            "_model_name": "FloatProgressModel",
            "_view_count": null,
            "_view_module": "@jupyter-widgets/controls",
            "_view_module_version": "1.5.0",
            "_view_name": "ProgressView",
            "bar_style": "success",
            "description": "",
            "description_tooltip": null,
            "layout": "IPY_MODEL_43489b86ba51437cbe8e9137ef7338ca",
            "max": 2,
            "min": 0,
            "orientation": "horizontal",
            "style": "IPY_MODEL_aca0e1cebd2045f78f2d0f9e8def9856",
            "value": 2
          }
        },
        "3f3f8005f80f41e58f97bd05f4431218": {
          "model_module": "@jupyter-widgets/controls",
          "model_name": "HTMLModel",
          "model_module_version": "1.5.0",
          "state": {
            "_dom_classes": [],
            "_model_module": "@jupyter-widgets/controls",
            "_model_module_version": "1.5.0",
            "_model_name": "HTMLModel",
            "_view_count": null,
            "_view_module": "@jupyter-widgets/controls",
            "_view_module_version": "1.5.0",
            "_view_name": "HTMLView",
            "description": "",
            "description_tooltip": null,
            "layout": "IPY_MODEL_b998ceb3c1954dfdafbd451e2753c9cc",
            "placeholder": "​",
            "style": "IPY_MODEL_59714a15945e4ff98408e219b351a09d",
            "value": " 2/2 [00:02&lt;00:00,  1.14s/it]"
          }
        },
        "2ba6010d15ba4f2fa24d476bb180b91a": {
          "model_module": "@jupyter-widgets/base",
          "model_name": "LayoutModel",
          "model_module_version": "1.2.0",
          "state": {
            "_model_module": "@jupyter-widgets/base",
            "_model_module_version": "1.2.0",
            "_model_name": "LayoutModel",
            "_view_count": null,
            "_view_module": "@jupyter-widgets/base",
            "_view_module_version": "1.2.0",
            "_view_name": "LayoutView",
            "align_content": null,
            "align_items": null,
            "align_self": null,
            "border": null,
            "bottom": null,
            "display": null,
            "flex": null,
            "flex_flow": null,
            "grid_area": null,
            "grid_auto_columns": null,
            "grid_auto_flow": null,
            "grid_auto_rows": null,
            "grid_column": null,
            "grid_gap": null,
            "grid_row": null,
            "grid_template_areas": null,
            "grid_template_columns": null,
            "grid_template_rows": null,
            "height": null,
            "justify_content": null,
            "justify_items": null,
            "left": null,
            "margin": null,
            "max_height": null,
            "max_width": null,
            "min_height": null,
            "min_width": null,
            "object_fit": null,
            "object_position": null,
            "order": null,
            "overflow": null,
            "overflow_x": null,
            "overflow_y": null,
            "padding": null,
            "right": null,
            "top": null,
            "visibility": null,
            "width": null
          }
        },
        "79d0e3ae9c4b48c9a4a15a4b8eb2eccd": {
          "model_module": "@jupyter-widgets/base",
          "model_name": "LayoutModel",
          "model_module_version": "1.2.0",
          "state": {
            "_model_module": "@jupyter-widgets/base",
            "_model_module_version": "1.2.0",
            "_model_name": "LayoutModel",
            "_view_count": null,
            "_view_module": "@jupyter-widgets/base",
            "_view_module_version": "1.2.0",
            "_view_name": "LayoutView",
            "align_content": null,
            "align_items": null,
            "align_self": null,
            "border": null,
            "bottom": null,
            "display": null,
            "flex": null,
            "flex_flow": null,
            "grid_area": null,
            "grid_auto_columns": null,
            "grid_auto_flow": null,
            "grid_auto_rows": null,
            "grid_column": null,
            "grid_gap": null,
            "grid_row": null,
            "grid_template_areas": null,
            "grid_template_columns": null,
            "grid_template_rows": null,
            "height": null,
            "justify_content": null,
            "justify_items": null,
            "left": null,
            "margin": null,
            "max_height": null,
            "max_width": null,
            "min_height": null,
            "min_width": null,
            "object_fit": null,
            "object_position": null,
            "order": null,
            "overflow": null,
            "overflow_x": null,
            "overflow_y": null,
            "padding": null,
            "right": null,
            "top": null,
            "visibility": null,
            "width": null
          }
        },
        "ee0e79bf48f543f1a250875f3f1576d2": {
          "model_module": "@jupyter-widgets/controls",
          "model_name": "DescriptionStyleModel",
          "model_module_version": "1.5.0",
          "state": {
            "_model_module": "@jupyter-widgets/controls",
            "_model_module_version": "1.5.0",
            "_model_name": "DescriptionStyleModel",
            "_view_count": null,
            "_view_module": "@jupyter-widgets/base",
            "_view_module_version": "1.2.0",
            "_view_name": "StyleView",
            "description_width": ""
          }
        },
        "43489b86ba51437cbe8e9137ef7338ca": {
          "model_module": "@jupyter-widgets/base",
          "model_name": "LayoutModel",
          "model_module_version": "1.2.0",
          "state": {
            "_model_module": "@jupyter-widgets/base",
            "_model_module_version": "1.2.0",
            "_model_name": "LayoutModel",
            "_view_count": null,
            "_view_module": "@jupyter-widgets/base",
            "_view_module_version": "1.2.0",
            "_view_name": "LayoutView",
            "align_content": null,
            "align_items": null,
            "align_self": null,
            "border": null,
            "bottom": null,
            "display": null,
            "flex": null,
            "flex_flow": null,
            "grid_area": null,
            "grid_auto_columns": null,
            "grid_auto_flow": null,
            "grid_auto_rows": null,
            "grid_column": null,
            "grid_gap": null,
            "grid_row": null,
            "grid_template_areas": null,
            "grid_template_columns": null,
            "grid_template_rows": null,
            "height": null,
            "justify_content": null,
            "justify_items": null,
            "left": null,
            "margin": null,
            "max_height": null,
            "max_width": null,
            "min_height": null,
            "min_width": null,
            "object_fit": null,
            "object_position": null,
            "order": null,
            "overflow": null,
            "overflow_x": null,
            "overflow_y": null,
            "padding": null,
            "right": null,
            "top": null,
            "visibility": null,
            "width": null
          }
        },
        "aca0e1cebd2045f78f2d0f9e8def9856": {
          "model_module": "@jupyter-widgets/controls",
          "model_name": "ProgressStyleModel",
          "model_module_version": "1.5.0",
          "state": {
            "_model_module": "@jupyter-widgets/controls",
            "_model_module_version": "1.5.0",
            "_model_name": "ProgressStyleModel",
            "_view_count": null,
            "_view_module": "@jupyter-widgets/base",
            "_view_module_version": "1.2.0",
            "_view_name": "StyleView",
            "bar_color": null,
            "description_width": ""
          }
        },
        "b998ceb3c1954dfdafbd451e2753c9cc": {
          "model_module": "@jupyter-widgets/base",
          "model_name": "LayoutModel",
          "model_module_version": "1.2.0",
          "state": {
            "_model_module": "@jupyter-widgets/base",
            "_model_module_version": "1.2.0",
            "_model_name": "LayoutModel",
            "_view_count": null,
            "_view_module": "@jupyter-widgets/base",
            "_view_module_version": "1.2.0",
            "_view_name": "LayoutView",
            "align_content": null,
            "align_items": null,
            "align_self": null,
            "border": null,
            "bottom": null,
            "display": null,
            "flex": null,
            "flex_flow": null,
            "grid_area": null,
            "grid_auto_columns": null,
            "grid_auto_flow": null,
            "grid_auto_rows": null,
            "grid_column": null,
            "grid_gap": null,
            "grid_row": null,
            "grid_template_areas": null,
            "grid_template_columns": null,
            "grid_template_rows": null,
            "height": null,
            "justify_content": null,
            "justify_items": null,
            "left": null,
            "margin": null,
            "max_height": null,
            "max_width": null,
            "min_height": null,
            "min_width": null,
            "object_fit": null,
            "object_position": null,
            "order": null,
            "overflow": null,
            "overflow_x": null,
            "overflow_y": null,
            "padding": null,
            "right": null,
            "top": null,
            "visibility": null,
            "width": null
          }
        },
        "59714a15945e4ff98408e219b351a09d": {
          "model_module": "@jupyter-widgets/controls",
          "model_name": "DescriptionStyleModel",
          "model_module_version": "1.5.0",
          "state": {
            "_model_module": "@jupyter-widgets/controls",
            "_model_module_version": "1.5.0",
            "_model_name": "DescriptionStyleModel",
            "_view_count": null,
            "_view_module": "@jupyter-widgets/base",
            "_view_module_version": "1.2.0",
            "_view_name": "StyleView",
            "description_width": ""
          }
        },
        "e3a9759aeeef4b139fb21c07fd2adec7": {
          "model_module": "@jupyter-widgets/controls",
          "model_name": "HBoxModel",
          "model_module_version": "1.5.0",
          "state": {
            "_dom_classes": [],
            "_model_module": "@jupyter-widgets/controls",
            "_model_module_version": "1.5.0",
            "_model_name": "HBoxModel",
            "_view_count": null,
            "_view_module": "@jupyter-widgets/controls",
            "_view_module_version": "1.5.0",
            "_view_name": "HBoxView",
            "box_style": "",
            "children": [
              "IPY_MODEL_4337e62e2c0e46cd898691d2f51199f4",
              "IPY_MODEL_5d15386a8d5747679ef7bf237de85678",
              "IPY_MODEL_ebe1e6fb1824465d89bcfc9e22422b88"
            ],
            "layout": "IPY_MODEL_769d9be8e74a45388ba91b4a7416d865"
          }
        },
        "4337e62e2c0e46cd898691d2f51199f4": {
          "model_module": "@jupyter-widgets/controls",
          "model_name": "HTMLModel",
          "model_module_version": "1.5.0",
          "state": {
            "_dom_classes": [],
            "_model_module": "@jupyter-widgets/controls",
            "_model_module_version": "1.5.0",
            "_model_name": "HTMLModel",
            "_view_count": null,
            "_view_module": "@jupyter-widgets/controls",
            "_view_module_version": "1.5.0",
            "_view_name": "HTMLView",
            "description": "",
            "description_tooltip": null,
            "layout": "IPY_MODEL_5c6bfef2e4214f71bb8f19a6d1514698",
            "placeholder": "​",
            "style": "IPY_MODEL_4e068be82c8a4f80b9d8617e88fbd852",
            "value": "Loading checkpoint shards: 100%"
          }
        },
        "5d15386a8d5747679ef7bf237de85678": {
          "model_module": "@jupyter-widgets/controls",
          "model_name": "FloatProgressModel",
          "model_module_version": "1.5.0",
          "state": {
            "_dom_classes": [],
            "_model_module": "@jupyter-widgets/controls",
            "_model_module_version": "1.5.0",
            "_model_name": "FloatProgressModel",
            "_view_count": null,
            "_view_module": "@jupyter-widgets/controls",
            "_view_module_version": "1.5.0",
            "_view_name": "ProgressView",
            "bar_style": "success",
            "description": "",
            "description_tooltip": null,
            "layout": "IPY_MODEL_30165482718f4d18af591d891208553f",
            "max": 2,
            "min": 0,
            "orientation": "horizontal",
            "style": "IPY_MODEL_e4392c33cd2d4bbe86655198b93594e6",
            "value": 2
          }
        },
        "ebe1e6fb1824465d89bcfc9e22422b88": {
          "model_module": "@jupyter-widgets/controls",
          "model_name": "HTMLModel",
          "model_module_version": "1.5.0",
          "state": {
            "_dom_classes": [],
            "_model_module": "@jupyter-widgets/controls",
            "_model_module_version": "1.5.0",
            "_model_name": "HTMLModel",
            "_view_count": null,
            "_view_module": "@jupyter-widgets/controls",
            "_view_module_version": "1.5.0",
            "_view_name": "HTMLView",
            "description": "",
            "description_tooltip": null,
            "layout": "IPY_MODEL_b69c0c940a97426b94a0e20e48c0422c",
            "placeholder": "​",
            "style": "IPY_MODEL_41ee185081dd423bb91823db3e938e4b",
            "value": " 2/2 [00:29&lt;00:00, 13.75s/it]"
          }
        },
        "769d9be8e74a45388ba91b4a7416d865": {
          "model_module": "@jupyter-widgets/base",
          "model_name": "LayoutModel",
          "model_module_version": "1.2.0",
          "state": {
            "_model_module": "@jupyter-widgets/base",
            "_model_module_version": "1.2.0",
            "_model_name": "LayoutModel",
            "_view_count": null,
            "_view_module": "@jupyter-widgets/base",
            "_view_module_version": "1.2.0",
            "_view_name": "LayoutView",
            "align_content": null,
            "align_items": null,
            "align_self": null,
            "border": null,
            "bottom": null,
            "display": null,
            "flex": null,
            "flex_flow": null,
            "grid_area": null,
            "grid_auto_columns": null,
            "grid_auto_flow": null,
            "grid_auto_rows": null,
            "grid_column": null,
            "grid_gap": null,
            "grid_row": null,
            "grid_template_areas": null,
            "grid_template_columns": null,
            "grid_template_rows": null,
            "height": null,
            "justify_content": null,
            "justify_items": null,
            "left": null,
            "margin": null,
            "max_height": null,
            "max_width": null,
            "min_height": null,
            "min_width": null,
            "object_fit": null,
            "object_position": null,
            "order": null,
            "overflow": null,
            "overflow_x": null,
            "overflow_y": null,
            "padding": null,
            "right": null,
            "top": null,
            "visibility": null,
            "width": null
          }
        },
        "5c6bfef2e4214f71bb8f19a6d1514698": {
          "model_module": "@jupyter-widgets/base",
          "model_name": "LayoutModel",
          "model_module_version": "1.2.0",
          "state": {
            "_model_module": "@jupyter-widgets/base",
            "_model_module_version": "1.2.0",
            "_model_name": "LayoutModel",
            "_view_count": null,
            "_view_module": "@jupyter-widgets/base",
            "_view_module_version": "1.2.0",
            "_view_name": "LayoutView",
            "align_content": null,
            "align_items": null,
            "align_self": null,
            "border": null,
            "bottom": null,
            "display": null,
            "flex": null,
            "flex_flow": null,
            "grid_area": null,
            "grid_auto_columns": null,
            "grid_auto_flow": null,
            "grid_auto_rows": null,
            "grid_column": null,
            "grid_gap": null,
            "grid_row": null,
            "grid_template_areas": null,
            "grid_template_columns": null,
            "grid_template_rows": null,
            "height": null,
            "justify_content": null,
            "justify_items": null,
            "left": null,
            "margin": null,
            "max_height": null,
            "max_width": null,
            "min_height": null,
            "min_width": null,
            "object_fit": null,
            "object_position": null,
            "order": null,
            "overflow": null,
            "overflow_x": null,
            "overflow_y": null,
            "padding": null,
            "right": null,
            "top": null,
            "visibility": null,
            "width": null
          }
        },
        "4e068be82c8a4f80b9d8617e88fbd852": {
          "model_module": "@jupyter-widgets/controls",
          "model_name": "DescriptionStyleModel",
          "model_module_version": "1.5.0",
          "state": {
            "_model_module": "@jupyter-widgets/controls",
            "_model_module_version": "1.5.0",
            "_model_name": "DescriptionStyleModel",
            "_view_count": null,
            "_view_module": "@jupyter-widgets/base",
            "_view_module_version": "1.2.0",
            "_view_name": "StyleView",
            "description_width": ""
          }
        },
        "30165482718f4d18af591d891208553f": {
          "model_module": "@jupyter-widgets/base",
          "model_name": "LayoutModel",
          "model_module_version": "1.2.0",
          "state": {
            "_model_module": "@jupyter-widgets/base",
            "_model_module_version": "1.2.0",
            "_model_name": "LayoutModel",
            "_view_count": null,
            "_view_module": "@jupyter-widgets/base",
            "_view_module_version": "1.2.0",
            "_view_name": "LayoutView",
            "align_content": null,
            "align_items": null,
            "align_self": null,
            "border": null,
            "bottom": null,
            "display": null,
            "flex": null,
            "flex_flow": null,
            "grid_area": null,
            "grid_auto_columns": null,
            "grid_auto_flow": null,
            "grid_auto_rows": null,
            "grid_column": null,
            "grid_gap": null,
            "grid_row": null,
            "grid_template_areas": null,
            "grid_template_columns": null,
            "grid_template_rows": null,
            "height": null,
            "justify_content": null,
            "justify_items": null,
            "left": null,
            "margin": null,
            "max_height": null,
            "max_width": null,
            "min_height": null,
            "min_width": null,
            "object_fit": null,
            "object_position": null,
            "order": null,
            "overflow": null,
            "overflow_x": null,
            "overflow_y": null,
            "padding": null,
            "right": null,
            "top": null,
            "visibility": null,
            "width": null
          }
        },
        "e4392c33cd2d4bbe86655198b93594e6": {
          "model_module": "@jupyter-widgets/controls",
          "model_name": "ProgressStyleModel",
          "model_module_version": "1.5.0",
          "state": {
            "_model_module": "@jupyter-widgets/controls",
            "_model_module_version": "1.5.0",
            "_model_name": "ProgressStyleModel",
            "_view_count": null,
            "_view_module": "@jupyter-widgets/base",
            "_view_module_version": "1.2.0",
            "_view_name": "StyleView",
            "bar_color": null,
            "description_width": ""
          }
        },
        "b69c0c940a97426b94a0e20e48c0422c": {
          "model_module": "@jupyter-widgets/base",
          "model_name": "LayoutModel",
          "model_module_version": "1.2.0",
          "state": {
            "_model_module": "@jupyter-widgets/base",
            "_model_module_version": "1.2.0",
            "_model_name": "LayoutModel",
            "_view_count": null,
            "_view_module": "@jupyter-widgets/base",
            "_view_module_version": "1.2.0",
            "_view_name": "LayoutView",
            "align_content": null,
            "align_items": null,
            "align_self": null,
            "border": null,
            "bottom": null,
            "display": null,
            "flex": null,
            "flex_flow": null,
            "grid_area": null,
            "grid_auto_columns": null,
            "grid_auto_flow": null,
            "grid_auto_rows": null,
            "grid_column": null,
            "grid_gap": null,
            "grid_row": null,
            "grid_template_areas": null,
            "grid_template_columns": null,
            "grid_template_rows": null,
            "height": null,
            "justify_content": null,
            "justify_items": null,
            "left": null,
            "margin": null,
            "max_height": null,
            "max_width": null,
            "min_height": null,
            "min_width": null,
            "object_fit": null,
            "object_position": null,
            "order": null,
            "overflow": null,
            "overflow_x": null,
            "overflow_y": null,
            "padding": null,
            "right": null,
            "top": null,
            "visibility": null,
            "width": null
          }
        },
        "41ee185081dd423bb91823db3e938e4b": {
          "model_module": "@jupyter-widgets/controls",
          "model_name": "DescriptionStyleModel",
          "model_module_version": "1.5.0",
          "state": {
            "_model_module": "@jupyter-widgets/controls",
            "_model_module_version": "1.5.0",
            "_model_name": "DescriptionStyleModel",
            "_view_count": null,
            "_view_module": "@jupyter-widgets/base",
            "_view_module_version": "1.2.0",
            "_view_name": "StyleView",
            "description_width": ""
          }
        }
      }
    }
  },
  "nbformat": 4,
  "nbformat_minor": 0
}